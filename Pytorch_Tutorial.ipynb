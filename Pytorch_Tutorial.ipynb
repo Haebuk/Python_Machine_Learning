{
  "nbformat": 4,
  "nbformat_minor": 0,
  "metadata": {
    "colab": {
      "name": "Pytorch Tutorial",
      "provenance": [],
      "mount_file_id": "1lvjbx-hq6qfA6Nk_bGO1GGQeAcTsipMC",
      "authorship_tag": "ABX9TyN66AUKAZCai3DFkWlGhPfI",
      "include_colab_link": true
    },
    "kernelspec": {
      "name": "python3",
      "display_name": "Python 3"
    },
    "language_info": {
      "name": "python"
    },
    "accelerator": "GPU"
  },
  "cells": [
    {
      "cell_type": "markdown",
      "metadata": {
        "id": "view-in-github",
        "colab_type": "text"
      },
      "source": [
        "<a href=\"https://colab.research.google.com/github/Haebuk/Python_Machine_Learning/blob/master/Pytorch_Tutorial.ipynb\" target=\"_parent\"><img src=\"https://colab.research.google.com/assets/colab-badge.svg\" alt=\"Open In Colab\"/></a>"
      ]
    },
    {
      "cell_type": "code",
      "metadata": {
        "id": "ty8gh-eXNCss"
      },
      "source": [
        "# Import Libraries\n",
        "import torch\n",
        "import torch.nn as nn\n",
        "from torch.autograd import Variable\n",
        "from torch.utils.data import DataLoader\n",
        "import numpy as np\n",
        "import pandas as pd\n",
        "import matplotlib.pyplot as plt\n",
        "from sklearn.model_selection import train_test_split"
      ],
      "execution_count": null,
      "outputs": []
    },
    {
      "cell_type": "code",
      "metadata": {
        "colab": {
          "base_uri": "https://localhost:8080/",
          "height": 264
        },
        "id": "g-IYNlSqOH2I",
        "outputId": "569c4167-7818-4454-bc56-23408a2cd320"
      },
      "source": [
        "# Prepare Dataset\n",
        "# Load data\n",
        "train = pd.read_csv(r\"/content/drive/MyDrive/mnist/train.csv\", dtype = np.float32)\n",
        "\n",
        "targets_numpy = train.label.values\n",
        "features_numpy = train.loc[:, train.columns != 'label'].values/255\n",
        "\n",
        "features_train, features_test, targets_train, targets_test = train_test_split(features_numpy, targets_numpy,\n",
        "                                                                              test_size=0.2, random_state=42)\n",
        "\n",
        "featuresTrain = torch.from_numpy(features_train)\n",
        "targetsTrain = torch.from_numpy(targets_train).type(torch.LongTensor)\n",
        "\n",
        "featuresTest = torch.from_numpy(features_test)\n",
        "targetsTest = torch.from_numpy(targets_test).type(torch.LongTensor)\n",
        "\n",
        "batch_size = 100\n",
        "n_iters = 10000\n",
        "num_epochs = n_iters / (len(features_train) / batch_size)\n",
        "num_epochs = int(num_epochs)\n",
        "\n",
        "train = torch.utils.data.TensorDataset(featuresTrain, targetsTrain)\n",
        "test = torch.utils.data.TensorDataset(featuresTest, targetsTest)\n",
        "\n",
        "train_loader = DataLoader(train, batch_size = batch_size, shuffle = False)\n",
        "test_loader = DataLoader(test, batch_size = batch_size, shuffle = False)\n",
        "\n",
        "plt.imshow(features_numpy[10].reshape(28,28))\n",
        "plt.axis('off')\n",
        "plt.title(str(targets_numpy[10]))\n",
        "plt.savefig('graph.png')\n",
        "plt.show()\n"
      ],
      "execution_count": null,
      "outputs": [
        {
          "output_type": "display_data",
          "data": {
            "image/png": "[encoded data removed]",
            "text/plain": [
              "<Figure size 432x288 with 1 Axes>"
            ]
          },
          "metadata": {
            "tags": [],
            "needs_background": "light"
          }
        }
      ]
    },
    {
      "cell_type": "code",
      "metadata": {
        "id": "CITMmzbDQ4DR"
      },
      "source": [
        "class LogisticRegressionModel(nn.Module):\n",
        "    def __init__(self, input_dim, output_dim):\n",
        "        super(LogisticRegressionModel, self).__init__()\n",
        "        self.linear = nn.Linear(input_dim, output_dim)\n",
        "\n",
        "    def forward(self, x):\n",
        "        out = self.linear(x)\n",
        "        return out\n",
        "\n",
        "input_dim = 28 * 28\n",
        "output_dim = 10\n",
        "\n",
        "model = LogisticRegressionModel(input_dim, output_dim)\n",
        "\n",
        "error = nn.CrossEntropyLoss()\n",
        "\n",
        "learning_rate = 0.001\n",
        "optimizer = torch.optim.SGD(model.parameters(), lr=learning_rate)"
      ],
      "execution_count": null,
      "outputs": []
    },
    {
      "cell_type": "code",
      "metadata": {
        "colab": {
          "base_uri": "https://localhost:8080/"
        },
        "id": "rlEQVE94S6hB",
        "outputId": "bf8ab89d-dc1e-414c-a4e2-78d7e0e7eb4e"
      },
      "source": [
        "count = 0\n",
        "loss_list = []\n",
        "iteration_list = []\n",
        "for epoch in range(num_epochs):\n",
        "    for i, (images, labels) in enumerate(train_loader):\n",
        "\n",
        "        train = Variable(images.view(-1, 28*28))\n",
        "        labels = Variable(labels)\n",
        "\n",
        "        optimizer.zero_grad()\n",
        "\n",
        "        outputs = model(train)\n",
        "\n",
        "        loss = error(outputs, labels)\n",
        "\n",
        "        loss.backward()\n",
        "\n",
        "        optimizer.step()\n",
        "\n",
        "        count += 1\n",
        "\n",
        "        if count % 50 == 0:\n",
        "            correct = 0\n",
        "            total = 0\n",
        "            for images, labels in test_loader:\n",
        "                test = Variable(images.view(-1, 28*28))\n",
        "\n",
        "                outputs = model(test)\n",
        "\n",
        "                predicted = torch.max(outputs.data, 1)[1]\n",
        "\n",
        "                total += len(labels)\n",
        "\n",
        "                correct += (predicted == labels).sum()\n",
        "\n",
        "            accuracy = 100 * correct / float(total)\n",
        "\n",
        "            loss_list.append(loss.data)\n",
        "            iteration_list.append(count)\n",
        "        if count % 500 == 0:\n",
        "            print('Iteration: {} Loss: {} Accuracy: {}%'.format(count, loss.data, accuracy))"
      ],
      "execution_count": null,
      "outputs": [
        {
          "output_type": "stream",
          "text": [
            "Iteration: 500 Loss: 1.8276817798614502 Accuracy: 70.21428680419922%\n",
            "Iteration: 1000 Loss: 1.5781872272491455 Accuracy: 76.0952377319336%\n",
            "Iteration: 1500 Loss: 1.2820342779159546 Accuracy: 78.51190185546875%\n",
            "Iteration: 2000 Loss: 1.1943033933639526 Accuracy: 80.07142639160156%\n",
            "Iteration: 2500 Loss: 1.0349150896072388 Accuracy: 81.14286041259766%\n",
            "Iteration: 3000 Loss: 0.9378059506416321 Accuracy: 82.03571319580078%\n",
            "Iteration: 3500 Loss: 0.8963439464569092 Accuracy: 82.61904907226562%\n",
            "Iteration: 4000 Loss: 0.7424800992012024 Accuracy: 83.11904907226562%\n",
            "Iteration: 4500 Loss: 0.9636154174804688 Accuracy: 83.58333587646484%\n",
            "Iteration: 5000 Loss: 0.7904230356216431 Accuracy: 84.01190185546875%\n",
            "Iteration: 5500 Loss: 0.7486173510551453 Accuracy: 84.29762268066406%\n",
            "Iteration: 6000 Loss: 0.8764584064483643 Accuracy: 84.57142639160156%\n",
            "Iteration: 6500 Loss: 0.6575664281845093 Accuracy: 84.82142639160156%\n",
            "Iteration: 7000 Loss: 0.7077260613441467 Accuracy: 85.04762268066406%\n",
            "Iteration: 7500 Loss: 0.6309762001037598 Accuracy: 85.25%\n",
            "Iteration: 8000 Loss: 0.7329525947570801 Accuracy: 85.51190185546875%\n",
            "Iteration: 8500 Loss: 0.5421309471130371 Accuracy: 85.57142639160156%\n",
            "Iteration: 9000 Loss: 0.6589726805686951 Accuracy: 85.67857360839844%\n",
            "Iteration: 9500 Loss: 0.526064932346344 Accuracy: 85.72618865966797%\n"
          ],
          "name": "stdout"
        }
      ]
    },
    {
      "cell_type": "code",
      "metadata": {
        "id": "0ny6XtRSTs8Q"
      },
      "source": [
        "class ANNModel(nn.Module):\n",
        "    def __init__(self, input_dim, hidden_dim, output_dim):\n",
        "        super(ANNModel, self).__init__()\n",
        "\n",
        "        self.fc1 = nn.Linear(input_dim, hidden_dim)\n",
        "        self.relu1 = nn.ReLU()\n",
        "\n",
        "        self.fc2 = nn.Linear(hidden_dim, hidden_dim)\n",
        "        self.tanh2 = nn.Tanh()\n",
        "\n",
        "        self.fc3 = nn.Linear(hidden_dim, hidden_dim)\n",
        "        self.elu3 = nn.ELU()\n",
        "\n",
        "        self.fc4 = nn.Linear(hidden_dim, output_dim)\n",
        "\n",
        "    def forward(self, x):\n",
        "        out = self.fc1(x)\n",
        "        out = self.relu1(out)\n",
        "        \n",
        "        out = self.fc2(out)\n",
        "        out = self.tanh2(out)\n",
        "        \n",
        "        out = self.fc3(out)\n",
        "        out = self.elu3(out)\n",
        "        \n",
        "        out = self.fc4(out)\n",
        "        return out\n",
        "\n",
        "input_dim = 28*28\n",
        "hidden_dim = 150\n",
        "output_dim = 10\n",
        "\n",
        "model = ANNModel(input_dim, hidden_dim, output_dim)\n",
        "error = nn.CrossEntropyLoss()\n",
        "learning_rate = 0.02\n",
        "optimizer = torch.optim.SGD(model.parameters(), lr=learning_rate)"
      ],
      "execution_count": null,
      "outputs": []
    },
    {
      "cell_type": "code",
      "metadata": {
        "colab": {
          "base_uri": "https://localhost:8080/"
        },
        "id": "hQqiIS6fUldr",
        "outputId": "d6fbd2c0-58cc-4fee-f6d6-defdfa7e4e0a"
      },
      "source": [
        "count = 0\n",
        "loss_list = []\n",
        "iteration_list = []\n",
        "accuracy_list = []\n",
        "for epoch in range(num_epochs):\n",
        "    for i, (images, labels) in enumerate(train_loader):\n",
        "        train = Variable(images.view(-1, 28*28))\n",
        "        labels = Variable(labels)\n",
        "\n",
        "        optimizer.zero_grad()\n",
        "        outputs = model(train)\n",
        "        loss = error(outputs, labels)\n",
        "        loss.backward()\n",
        "        optimizer.step()\n",
        "        count += 1\n",
        "\n",
        "        if count % 50 == 0:\n",
        "            correct = 0\n",
        "            total = 0\n",
        "            for images, labels in test_loader:\n",
        "                test = Variable(images.view(-1, 28*28))\n",
        "                \n",
        "                outputs = model(test)\n",
        "                predicted = torch.max(outputs.data, 1)[1]\n",
        "                total += len(labels)\n",
        "                correct += (predicted == labels).sum()\n",
        "            \n",
        "            accuracy = 100 * correct / float(total)\n",
        "\n",
        "            loss_list.append(loss.data)\n",
        "            iteration_list.append(count)\n",
        "            accuracy_list.append(accuracy)\n",
        "        if count % 500 == 0:\n",
        "            print('Iteration: {} Loss: {} Accuracy: {}%'.format(count, loss.data, accuracy))"
      ],
      "execution_count": null,
      "outputs": [
        {
          "output_type": "stream",
          "text": [
            "Iteration: 500 Loss: 0.7390660643577576 Accuracy: 79.73809814453125%\n",
            "Iteration: 1000 Loss: 0.45919105410575867 Accuracy: 87.42857360839844%\n",
            "Iteration: 1500 Loss: 0.217515766620636 Accuracy: 89.69047546386719%\n",
            "Iteration: 2000 Loss: 0.27343934774398804 Accuracy: 90.55952453613281%\n",
            "Iteration: 2500 Loss: 0.3090645670890808 Accuracy: 92.03571319580078%\n",
            "Iteration: 3000 Loss: 0.12513858079910278 Accuracy: 92.53571319580078%\n",
            "Iteration: 3500 Loss: 0.24840429425239563 Accuracy: 93.22618865966797%\n",
            "Iteration: 4000 Loss: 0.06903327256441116 Accuracy: 93.69047546386719%\n",
            "Iteration: 4500 Loss: 0.3269382417201996 Accuracy: 94.36904907226562%\n",
            "Iteration: 5000 Loss: 0.11205541342496872 Accuracy: 94.61904907226562%\n",
            "Iteration: 5500 Loss: 0.21978864073753357 Accuracy: 94.67857360839844%\n",
            "Iteration: 6000 Loss: 0.22274965047836304 Accuracy: 94.92857360839844%\n",
            "Iteration: 6500 Loss: 0.10204452276229858 Accuracy: 95.33333587646484%\n",
            "Iteration: 7000 Loss: 0.12850232422351837 Accuracy: 95.72618865966797%\n",
            "Iteration: 7500 Loss: 0.11294419318437576 Accuracy: 95.77381134033203%\n",
            "Iteration: 8000 Loss: 0.1801607310771942 Accuracy: 95.79762268066406%\n",
            "Iteration: 8500 Loss: 0.0602639764547348 Accuracy: 96.01190185546875%\n",
            "Iteration: 9000 Loss: 0.05864395946264267 Accuracy: 96.22618865966797%\n",
            "Iteration: 9500 Loss: 0.032190725207328796 Accuracy: 96.20237731933594%\n"
          ],
          "name": "stdout"
        }
      ]
    },
    {
      "cell_type": "code",
      "metadata": {
        "colab": {
          "base_uri": "https://localhost:8080/"
        },
        "id": "hTjcl_Z2ahDt",
        "outputId": "be23af93-4b00-4a8d-c7ee-85f3938d50cb"
      },
      "source": [
        "64*64"
      ],
      "execution_count": null,
      "outputs": [
        {
          "output_type": "execute_result",
          "data": {
            "text/plain": [
              "4096"
            ]
          },
          "metadata": {
            "tags": []
          },
          "execution_count": 32
        }
      ]
    }
  ]
}