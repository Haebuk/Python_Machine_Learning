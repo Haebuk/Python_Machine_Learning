{
 "cells": [
  {
   "cell_type": "markdown",
   "source": [
    "# 시계열 데이터 다루기 기초 숙제\r\n",
    "- 제공된 데이터를 이용하여 코드를 완성해주세요\r\n",
    "    - 제공된 데이터는 DACON의 '아파트 실거래가 예측 대회'에서 제공된 데이터에서 \r\n",
    "    - 하계동에 위치한 현대아파트의 거래연월별 평균 실거래가를 가공한 데이터입니다.\r\n",
    "    - https://dacon.io/competitions/official/21265/data"
   ],
   "metadata": {}
  },
  {
   "cell_type": "markdown",
   "source": [
    "## 데이터를 불러오고 데이터의 정보를 확인해주세요."
   ],
   "metadata": {}
  },
  {
   "cell_type": "code",
   "execution_count": null,
   "source": [],
   "outputs": [],
   "metadata": {}
  },
  {
   "cell_type": "markdown",
   "source": [
    "## 거래연월 열을 시계열 자료형으로 변환해주세요.\r\n",
    "- HINT: 교안대로 하면 이상하게 바뀔겁니다. format 키워드를 활용해주세요."
   ],
   "metadata": {}
  },
  {
   "cell_type": "code",
   "execution_count": null,
   "source": [],
   "outputs": [],
   "metadata": {}
  },
  {
   "cell_type": "markdown",
   "source": [
    "## 거래연월에서 연과 열을 분리해 새로운 열을 만들어주세요."
   ],
   "metadata": {}
  },
  {
   "cell_type": "code",
   "execution_count": null,
   "source": [],
   "outputs": [],
   "metadata": {}
  },
  {
   "cell_type": "markdown",
   "source": [
    "## 월별 실거래가 차이를 계산한 `실거래가차이` 열을 만들어주세요.\r\n",
    "- 빠진 월은 고려하지 않겠습니다."
   ],
   "metadata": {}
  },
  {
   "cell_type": "code",
   "execution_count": null,
   "source": [],
   "outputs": [],
   "metadata": {}
  },
  {
   "cell_type": "markdown",
   "source": [
    "## 거래연월을 순서형 변수로 바꾼 `label_encoded` 열을 만들어주세요."
   ],
   "metadata": {}
  },
  {
   "cell_type": "code",
   "execution_count": null,
   "source": [],
   "outputs": [],
   "metadata": {}
  },
  {
   "cell_type": "markdown",
   "source": [
    "## Challenge 👍\r\n",
    "- 거래연월별 평균실거래가를 담은 그래프를 그려주세요\r\n",
    "- 정보를 가장 잘 표현하면서 본인이 할 수 있는 가장 예쁜 그래프를 만들어주세요:)"
   ],
   "metadata": {}
  },
  {
   "cell_type": "code",
   "execution_count": null,
   "source": [],
   "outputs": [],
   "metadata": {}
  }
 ],
 "metadata": {
  "orig_nbformat": 4,
  "language_info": {
   "name": "python",
   "version": "3.7.10",
   "mimetype": "text/x-python",
   "codemirror_mode": {
    "name": "ipython",
    "version": 3
   },
   "pygments_lexer": "ipython3",
   "nbconvert_exporter": "python",
   "file_extension": ".py"
  },
  "kernelspec": {
   "name": "python3",
   "display_name": "Python 3.7.10 64-bit ('base': conda)"
  },
  "interpreter": {
   "hash": "b3ba2566441a7c06988d0923437866b63cedc61552a5af99d1f4fb67d367b25f"
  }
 },
 "nbformat": 4,
 "nbformat_minor": 2
}