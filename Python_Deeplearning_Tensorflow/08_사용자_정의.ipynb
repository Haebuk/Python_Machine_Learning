{
  "nbformat": 4,
  "nbformat_minor": 0,
  "metadata": {
    "colab": {
      "name": "08_사용자_정의.ipynb",
      "provenance": []
    },
    "kernelspec": {
      "name": "python3",
      "display_name": "Python 3"
    },
    "language_info": {
      "name": "python"
    },
    "accelerator": "GPU"
  },
  "cells": [
    {
      "cell_type": "markdown",
      "metadata": {
        "id": "rppJFLnkSomp"
      },
      "source": [
        "# 1. 사용자 정의 손실함수\n",
        "- 함수 정의 후 모델 컴파일시 적용 가능"
      ]
    },
    {
      "cell_type": "code",
      "metadata": {
        "colab": {
          "base_uri": "https://localhost:8080/"
        },
        "id": "MpYaaSeQSgKL",
        "outputId": "b43b43ff-0b08-4076-9562-6fa876771cdc"
      },
      "source": [
        "import tensorflow as tf\n",
        "import numpy as np\n",
        "# 샘플 데이터 생성\n",
        "X = np.array([0.0, 1.0, 2.0, 3.0, 4.0, 5.0, 6.0], dtype=float)\n",
        "y = np.array([2.0, 4.0, 6.0, 8.0, 10.0, 12.0, 14.0], dtype=float)\n",
        "\n",
        "model = tf.keras.Sequential([\n",
        "    tf.keras.layers.Dense(units=1, input_shape=[1])\n",
        "])\n",
        "\n",
        "# 사용자 정의 손실함수(Huber loss 구현)\n",
        "def custom_huber_loss(y_true, y_pred):\n",
        "    # 임계값 정의\n",
        "    threshold = 1\n",
        "    # 손실 계산\n",
        "    error = y_true - y_pred\n",
        "\n",
        "    small = tf.abs(error) <= threshold\n",
        "\n",
        "    # l2 loss 적용\n",
        "    small_error = tf.square(error) / 2\n",
        "\n",
        "    # l1 loss 적용\n",
        "    big_error = threshold * (tf.abs(error) - (threshold/2))\n",
        "\n",
        "    # return\n",
        "    return tf.where(small, small_error, big_error)\n",
        "\n",
        "# 사용자 정의 custom_huber_loss 함수 적용\n",
        "model.compile(optimizer='sgd', loss=custom_huber_loss)\n",
        "model.fit(X, y, epochs=1000, verbose=0)\n",
        "\n",
        "# 결과 확인\n",
        "print(model.predict([7.0]))"
      ],
      "execution_count": 3,
      "outputs": [
        {
          "output_type": "stream",
          "text": [
            "[[16.037128]]\n"
          ],
          "name": "stdout"
        }
      ]
    },
    {
      "cell_type": "markdown",
      "metadata": {
        "id": "-KxXzZzlTx17"
      },
      "source": [
        "- 파이썬 내장함수나 넘파이 함수를 사용하지 않고 텐서플로 계산 함수를 적용해야 함"
      ]
    },
    {
      "cell_type": "markdown",
      "metadata": {
        "id": "yEiRmQBUT1yX"
      },
      "source": [
        "# 2. 사용자 정의 레이어\n"
      ]
    },
    {
      "cell_type": "code",
      "metadata": {
        "id": "pi3dKB7wTr8O"
      },
      "source": [
        "from tensorflow.keras.layers import Layer\n",
        "\n",
        "class MyDense(Layer):\n",
        "    def __init__(self, units=32, input_shape=None):\n",
        "        super(MyDense, self).__init__(input_shape=input_shape)\n",
        "        self.units = units\n",
        "    \n",
        "    def build(self, input_shape):\n",
        "        # weight 초기화\n",
        "        w_init = tf.random_normal_initializer()\n",
        "        self.w = tf.Variable(name='weight',\n",
        "                             initial_value=w_init(shape=(input_shape[-1], self.units), dtype='float32'),\n",
        "                             trainable=True)\n",
        "        \n",
        "        # bias 초기화\n",
        "        b_init = tf.zeros_initializer()\n",
        "        self.b = tf.Variable(name='bias', \n",
        "                             initial_value=b_init(shape=(self.units,), dtype='float32'),\n",
        "                             trainable=True)\n",
        "        \n",
        "    def call(self, inputs):\n",
        "        # wx + b\n",
        "        return tf.matmul(inputs, self.w) + self.b"
      ],
      "execution_count": 2,
      "outputs": []
    },
    {
      "cell_type": "code",
      "metadata": {
        "colab": {
          "base_uri": "https://localhost:8080/"
        },
        "id": "4Kp-kpn6UxHV",
        "outputId": "438b4310-13b6-4ff6-9975-e09f0072f62d"
      },
      "source": [
        "# 샘플 데이터 생성\n",
        "X = np.array([0.0, 1.0, 2.0, 3.0, 4.0, 5.0, 6.0], dtype=float)\n",
        "y = np.array([2.0, 4.0, 6.0, 8.0, 10.0, 12.0, 14.0], dtype=float)\n",
        "\n",
        "# 사용자 정의 MyDense 레이어를 적용한 경우\n",
        "model = tf.keras.Sequential([\n",
        "    MyDense(units=1, input_shape=[1])\n",
        "])\n",
        "\n",
        "# 컴파일\n",
        "model.compile(optimizer='sgd', loss='mse')\n",
        "\n",
        "# 훈련\n",
        "model.fit(X, y, epochs=1000, verbose=0)\n",
        "\n",
        "# 결과 학인\n",
        "print(model.predict([7.0]))"
      ],
      "execution_count": 4,
      "outputs": [
        {
          "output_type": "stream",
          "text": [
            "[[16.002666]]\n"
          ],
          "name": "stdout"
        }
      ]
    },
    {
      "cell_type": "markdown",
      "metadata": {
        "id": "eTirQJKaVPit"
      },
      "source": [
        "# 3. 사용자 정의 훈련\n",
        "## 3-1. train_on_batch\n",
        "- `train_on_batch`를 활용하면 배치별로 구분해서 훈련 진행 가능"
      ]
    },
    {
      "cell_type": "code",
      "metadata": {
        "id": "k2Tz-bjGVLwE"
      },
      "source": [
        "import matplotlib.pyplot as plt\n",
        "from tensorflow.keras.layers import Dense, Flatten\n",
        "from tensorflow.keras import Sequential\n",
        "\n",
        "mnist = tf.keras.datasets.mnist\n",
        "\n",
        "(x_train, y_train), (x_test, y_test) = mnist.load_data()\n",
        "\n",
        "x_train = x_train / x_train.max()\n",
        "x_test = x_test / x_test.max()"
      ],
      "execution_count": 10,
      "outputs": []
    },
    {
      "cell_type": "code",
      "metadata": {
        "id": "hGGdFhecWsLE"
      },
      "source": [
        "model = model = Sequential([\n",
        "    Flatten(input_shape=(28, 28)),\n",
        "    Dense(256, activation='relu'),\n",
        "    Dense(64, activation='relu'),\n",
        "    Dense(32, activation='relu'),\n",
        "    Dense(10, activation='softmax')\n",
        "])\n",
        "\n",
        "model.compile(optimizer='adam', loss='sparse_categorical_crossentropy', metrics=['acc'])"
      ],
      "execution_count": 11,
      "outputs": []
    },
    {
      "cell_type": "code",
      "metadata": {
        "id": "cgljzYj0XQnM"
      },
      "source": [
        "# 배치 생성 함수\n",
        "def get_batches(x, y, batch_size=32):\n",
        "    for i in range(int(x.shape[0] // batch_size)):\n",
        "        x_batch = x[i * batch_size:(i + 1) * batch_size]\n",
        "        y_batch =y[i * batch_size:(i + 1) * batch_size]\n",
        "        yield(np.asarray(x_batch), np.asarray(y_batch))"
      ],
      "execution_count": 12,
      "outputs": []
    },
    {
      "cell_type": "markdown",
      "metadata": {
        "id": "uS2Co-9_X_ZX"
      },
      "source": [
        "- 반복문 내부에서는 x, y의 쌍으로 묶인 1개의 배치를 생성 후 반환\n",
        "- `yield`키워드는 for 루프가 실행될 때 yield 키워드 전까지 실행하고 해당 루프 결과를 반환, 다음 함수를 호출할 때 다음 루프가 실행되어 결과 반환"
      ]
    },
    {
      "cell_type": "code",
      "metadata": {
        "colab": {
          "base_uri": "https://localhost:8080/"
        },
        "id": "SFg5YWvcX--9",
        "outputId": "7e8e72c6-f749-46da-a2b2-ed356aa4a81b"
      },
      "source": [
        "# 1개의 배치 로드\n",
        "x, y = next(get_batches(x_train, y_train))\n",
        "x.shape, y.shape"
      ],
      "execution_count": 13,
      "outputs": [
        {
          "output_type": "execute_result",
          "data": {
            "text/plain": [
              "((32, 28, 28), (32,))"
            ]
          },
          "metadata": {
            "tags": []
          },
          "execution_count": 13
        }
      ]
    },
    {
      "cell_type": "markdown",
      "metadata": {
        "id": "ur7hi7SzYaMc"
      },
      "source": [
        "- `yield`로 반환하는 함수는 파이썬 제너레이터(generator) -> `next` 키워드 사용하여 값 반환\n",
        "- `batch_size = 32`로 지정했기 때문에 32개의 x, y데이터가 튜플 형태의 쌍으로 반환"
      ]
    },
    {
      "cell_type": "code",
      "metadata": {
        "colab": {
          "base_uri": "https://localhost:8080/",
          "height": 1000
        },
        "id": "wEX7ftq_YZZM",
        "outputId": "e4b3706c-5261-4f57-e1dd-1744e02f3113"
      },
      "source": [
        "MONITOR_STEP = 50\n",
        "\n",
        "for epoch in range(1, 4):\n",
        "    batch = 1\n",
        "    total_loss = 0\n",
        "    losses = []\n",
        "    for x, y in get_batches(x_train, y_train, batch_size=128):\n",
        "        # 배치별 훈련\n",
        "        loss, acc = model.train_on_batch(x, y)\n",
        "        total_loss += loss\n",
        "\n",
        "        # 출력\n",
        "        if batch % MONITOR_STEP == 0:\n",
        "            losses.append(total_loss / batch)\n",
        "            print(f'epoch:{epoch}, batch:{batch}, batch_loss:{loss:.4f}, batch_accuracy:{acc:.4f}, avg_loss:{total_loss/batch:.4f}')\n",
        "        batch += 1\n",
        "\n",
        "    # Loss 시각화\n",
        "    plt.figure(figsize=(8, 6))\n",
        "    plt.plot(np.arange(1, batch // MONITOR_STEP+1), losses)\n",
        "    plt.title(f'epoch:{epoch}, losses over batches')\n",
        "    plt.show()\n",
        "\n",
        "    # 결과 출력\n",
        "    loss, acc = model.evaluate(x_test, y_test)\n",
        "    print('---'*10)\n",
        "    print(f'epoch:{epoch}, val_loss:{loss:.4f}, val_acc:{acc:.4f}')\n",
        "    print()"
      ],
      "execution_count": 15,
      "outputs": [
        {
          "output_type": "stream",
          "text": [
            "epoch:1, batch:50, batch_loss:0.0148, batch_accuracy:1.0000, avg_loss:0.0554\n",
            "epoch:1, batch:100, batch_loss:0.0848, batch_accuracy:0.9609, avg_loss:0.0603\n",
            "epoch:1, batch:150, batch_loss:0.1224, batch_accuracy:0.9766, avg_loss:0.0586\n",
            "epoch:1, batch:200, batch_loss:0.1134, batch_accuracy:0.9688, avg_loss:0.0566\n",
            "epoch:1, batch:250, batch_loss:0.0291, batch_accuracy:1.0000, avg_loss:0.0571\n",
            "epoch:1, batch:300, batch_loss:0.1040, batch_accuracy:0.9766, avg_loss:0.0569\n",
            "epoch:1, batch:350, batch_loss:0.0169, batch_accuracy:1.0000, avg_loss:0.0570\n",
            "epoch:1, batch:400, batch_loss:0.0154, batch_accuracy:1.0000, avg_loss:0.0571\n",
            "epoch:1, batch:450, batch_loss:0.0370, batch_accuracy:0.9844, avg_loss:0.0557\n"
          ],
          "name": "stdout"
        },
        {
          "output_type": "display_data",
          "data": {
            "image/png": "[encoded data removed]",
            "text/plain": [
              "<Figure size 576x432 with 1 Axes>"
            ]
          },
          "metadata": {
            "tags": [],
            "needs_background": "light"
          }
        },
        {
          "output_type": "stream",
          "text": [
            "313/313 [==============================] - 1s 2ms/step - loss: 0.0930 - acc: 0.9699\n",
            "------------------------------\n",
            "epoch:1, val_loss:0.0930, val_acc:0.9699\n",
            "\n",
            "epoch:2, batch:50, batch_loss:0.0106, batch_accuracy:1.0000, avg_loss:0.0419\n",
            "epoch:2, batch:100, batch_loss:0.0518, batch_accuracy:0.9844, avg_loss:0.0440\n",
            "epoch:2, batch:150, batch_loss:0.0823, batch_accuracy:0.9688, avg_loss:0.0426\n",
            "epoch:2, batch:200, batch_loss:0.0887, batch_accuracy:0.9766, avg_loss:0.0416\n",
            "epoch:2, batch:250, batch_loss:0.0228, batch_accuracy:0.9844, avg_loss:0.0418\n",
            "epoch:2, batch:300, batch_loss:0.0952, batch_accuracy:0.9609, avg_loss:0.0418\n",
            "epoch:2, batch:350, batch_loss:0.0118, batch_accuracy:1.0000, avg_loss:0.0420\n",
            "epoch:2, batch:400, batch_loss:0.0085, batch_accuracy:1.0000, avg_loss:0.0421\n",
            "epoch:2, batch:450, batch_loss:0.0135, batch_accuracy:1.0000, avg_loss:0.0409\n"
          ],
          "name": "stdout"
        },
        {
          "output_type": "display_data",
          "data": {
            "image/png": "[encoded data removed]",
            "text/plain": [
              "<Figure size 576x432 with 1 Axes>"
            ]
          },
          "metadata": {
            "tags": [],
            "needs_background": "light"
          }
        },
        {
          "output_type": "stream",
          "text": [
            "313/313 [==============================] - 1s 2ms/step - loss: 0.0825 - acc: 0.9740\n",
            "------------------------------\n",
            "epoch:2, val_loss:0.0825, val_acc:0.9740\n",
            "\n",
            "epoch:3, batch:50, batch_loss:0.0073, batch_accuracy:1.0000, avg_loss:0.0339\n",
            "epoch:3, batch:100, batch_loss:0.0333, batch_accuracy:0.9844, avg_loss:0.0354\n",
            "epoch:3, batch:150, batch_loss:0.0968, batch_accuracy:0.9688, avg_loss:0.0348\n",
            "epoch:3, batch:200, batch_loss:0.0799, batch_accuracy:0.9766, avg_loss:0.0335\n",
            "epoch:3, batch:250, batch_loss:0.0100, batch_accuracy:1.0000, avg_loss:0.0342\n",
            "epoch:3, batch:300, batch_loss:0.0812, batch_accuracy:0.9766, avg_loss:0.0345\n",
            "epoch:3, batch:350, batch_loss:0.0351, batch_accuracy:0.9922, avg_loss:0.0357\n",
            "epoch:3, batch:400, batch_loss:0.0274, batch_accuracy:0.9844, avg_loss:0.0354\n",
            "epoch:3, batch:450, batch_loss:0.0082, batch_accuracy:1.0000, avg_loss:0.0345\n"
          ],
          "name": "stdout"
        },
        {
          "output_type": "display_data",
          "data": {
            "image/png": "[encoded data removed]",
            "text/plain": [
              "<Figure size 576x432 with 1 Axes>"
            ]
          },
          "metadata": {
            "tags": [],
            "needs_background": "light"
          }
        },
        {
          "output_type": "stream",
          "text": [
            "313/313 [==============================] - 1s 2ms/step - loss: 0.0777 - acc: 0.9766\n",
            "------------------------------\n",
            "epoch:3, val_loss:0.0777, val_acc:0.9766\n",
            "\n"
          ],
          "name": "stdout"
        }
      ]
    },
    {
      "cell_type": "markdown",
      "metadata": {
        "id": "Mjqa4GwBaE4z"
      },
      "source": [
        "- 50개의 배치 훈련이 끝난 후 전체 손실에 대한 평균을 구한 뒤 리스트에 추가\n",
        "- 하나의 epoch 훈련이 끝난 후 배치별 손실 평균을 시각화\n",
        "---\n",
        "- `fit()` 메소드를 사용하면 배치별 훈련 제어나 epoch마다 시각화가 어려움\n",
        "- `train_on_batch()` 메소드를 사용하면 더 자세한 모니터링 가능"
      ]
    },
    {
      "cell_type": "markdown",
      "metadata": {
        "id": "Pg2OJ9K7adJj"
      },
      "source": [
        "## 3-2 자동 미분\n",
        "- 텐서플로는 그래디언트를 손쉽게 업데이트 할 수 있는 자동 미분 기능을 지원\n",
        "- `GradientTape()`을 통해 계산 과정을 기록한 뒤 `gradient()` 메소드로 미분 계산 가능"
      ]
    },
    {
      "cell_type": "code",
      "metadata": {
        "colab": {
          "base_uri": "https://localhost:8080/"
        },
        "id": "A3oz3NJwZnvV",
        "outputId": "81e2e1bd-4645-4183-9b4d-5d4648743142"
      },
      "source": [
        "# a, b의 Variable 생성\n",
        "a = tf.Variable([1, 2, 3, 4, 5], dtype=tf.float32)\n",
        "b = tf.Variable([10, 20, 30, 40, 50], dtype=tf.float32)\n",
        "\n",
        "# 미분 계산을 위해 a, b가 미분 가능한 객체인지 확인\n",
        "print(f'a.trainable:{a.trainable}\\nb.trainable:{b.trainable}')"
      ],
      "execution_count": 16,
      "outputs": [
        {
          "output_type": "stream",
          "text": [
            "a.trainable:True\n",
            "b.trainable:True\n"
          ],
          "name": "stdout"
        }
      ]
    },
    {
      "cell_type": "code",
      "metadata": {
        "colab": {
          "base_uri": "https://localhost:8080/"
        },
        "id": "I7JMMJRqbxN1",
        "outputId": "fdcac6fc-6951-43a3-a3f6-90c379aef9b8"
      },
      "source": [
        "# c = a * b\n",
        "# c를 a에 대한 편미분 -> b\n",
        "# c를 b에 대한 편미분 -> a\n",
        "with tf.GradientTape() as tape:\n",
        "    c = a * b\n",
        "grads = tape.gradient(c, [a, b])\n",
        "tf.print(f'dc/da: {grads[0]}')\n",
        "tf.print(f'dc/db: {grads[1]}')\n"
      ],
      "execution_count": 18,
      "outputs": [
        {
          "output_type": "stream",
          "text": [
            "dc/da: [10. 20. 30. 40. 50.]\n",
            "dc/db: [1. 2. 3. 4. 5.]\n"
          ],
          "name": "stdout"
        }
      ]
    },
    {
      "cell_type": "markdown",
      "metadata": {
        "id": "Jt5DMfUid0dh"
      },
      "source": [
        "- `tf.GradientTape()`의 범위를 정의하고 `tape`로 지정\n",
        "- `with`문 내에서 `c = a * b` 정의\n",
        "- `tape`는 계산 그래프를 저장하는데 `with`문 바깥에서 `tape.gradient()`로 미분 계산 가능\n",
        "- `tape.gradient(c, [a, b])`는 c를 a, b에 대한 편미분을 각각 구해 반환\n",
        "---\n",
        "- 식을 계산하고 손실을 구한 뒤 자동 미분 기능을 활용해 w, b값을 업데이트하여 최종 w, b를 찾도록 계산 "
      ]
    },
    {
      "cell_type": "code",
      "metadata": {
        "colab": {
          "base_uri": "https://localhost:8080/"
        },
        "id": "gegheNl3duEN",
        "outputId": "f537337f-905d-4d75-b413-248b3e33d8e9"
      },
      "source": [
        "# x, y 샘플 데이터 셋\n",
        "x = tf.Variable(np.random.normal(size=(100, )), dtype=tf.float32)\n",
        "y = 2 * x + 3\n",
        "print(f'x[:5]: {x[:5].numpy()}\\ny[:5]: {y[:5].numpy()}')"
      ],
      "execution_count": 22,
      "outputs": [
        {
          "output_type": "stream",
          "text": [
            "x[:5]: [-0.46737233  1.887552   -0.19445449 -1.3256446   0.53800327]\n",
            "y[:5]: [2.0652554  6.775104   2.6110911  0.34871078 4.0760064 ]\n"
          ],
          "name": "stdout"
        }
      ]
    },
    {
      "cell_type": "markdown",
      "metadata": {
        "id": "UPFkzmqUeb4M"
      },
      "source": [
        "- x는 100개의 난수, y = 2x + 3으로 나온 결과 저장 -> w = 2, b = 3"
      ]
    },
    {
      "cell_type": "code",
      "metadata": {
        "colab": {
          "base_uri": "https://localhost:8080/",
          "height": 265
        },
        "id": "yFJcHxB1ewU6",
        "outputId": "2c9e06c0-d99d-4dc8-8468-6a5a50d9710b"
      },
      "source": [
        "fig, ax = plt.subplots(figsize=(6, 4))\n",
        "ax.plot(x.numpy(), y.numpy())\n",
        "ax.grid()\n",
        "plt.show()"
      ],
      "execution_count": 23,
      "outputs": [
        {
          "output_type": "display_data",
          "data": {
            "image/png": "[encoded data removed]",
            "text/plain": [
              "<Figure size 432x288 with 1 Axes>"
            ]
          },
          "metadata": {
            "tags": [],
            "needs_background": "light"
          }
        }
      ]
    },
    {
      "cell_type": "code",
      "metadata": {
        "colab": {
          "base_uri": "https://localhost:8080/"
        },
        "id": "E6HFjeJOe107",
        "outputId": "0db8dfb1-168f-4624-ed2a-af372b1ce223"
      },
      "source": [
        "# 학습률, 최대 epoch 정의\n",
        "learning_rate = 0.25\n",
        "EPOCHS = 100\n",
        "\n",
        "# w, b 초기값을 0.0으로 설정, float 타입\n",
        "w = tf.Variable(0.0)\n",
        "b = tf.Variable(0.0)\n",
        "\n",
        "for epoch in range(EPOCHS):\n",
        "    with tf.GradientTape() as tape:\n",
        "        # 예측값\n",
        "        y_hat = w * x + b\n",
        "        # 손실 계산(MSE)\n",
        "        loss = tf.reduce_mean((y_hat - y)**2)\n",
        "\n",
        "    # 그래디언트 계산\n",
        "    dw, db = tape.gradient(loss, [w, b])\n",
        "\n",
        "    # 그래디언트 계산\n",
        "    w = tf.Variable(w - learning_rate * dw)\n",
        "    b = tf.Variable(b - learning_rate * db)\n",
        "\n",
        "    print(f'epoch: {epoch}, loss:{loss.numpy():.4f}, w:{w.numpy():.4f}, b:{b.numpy():.4f}')\n",
        "\n",
        "    # Error가 0.0005보다 작으면 탈출\n",
        "    if loss.numpy() < 0.0005:\n",
        "        break"
      ],
      "execution_count": 25,
      "outputs": [
        {
          "output_type": "stream",
          "text": [
            "epoch: 0, loss:13.1199, w:1.1480, b:1.4213\n",
            "epoch: 1, loss:3.1996, w:1.6253, b:2.1771\n",
            "epoch: 2, loss:0.8064, w:1.8301, b:2.5738\n",
            "epoch: 3, loss:0.2068, w:1.9209, b:2.7802\n",
            "epoch: 4, loss:0.0535, w:1.9623, b:2.8870\n",
            "epoch: 5, loss:0.0139, w:1.9817, b:2.9420\n",
            "epoch: 6, loss:0.0036, w:1.9910, b:2.9703\n",
            "epoch: 7, loss:0.0009, w:1.9955, b:2.9848\n",
            "epoch: 8, loss:0.0002, w:1.9978, b:2.9922\n"
          ],
          "name": "stdout"
        }
      ]
    },
    {
      "cell_type": "markdown",
      "metadata": {
        "id": "IAI3AuG4jiEk"
      },
      "source": [
        "## 3-3 자동 미분을 활용한 모델 훈련"
      ]
    },
    {
      "cell_type": "code",
      "metadata": {
        "id": "h8OqzTudfvxM"
      },
      "source": [
        "model = Sequential([\n",
        "    Flatten(input_shape=(28, 28)),\n",
        "    Dense(256, activation='relu'),\n",
        "    Dense(64, activation='relu'),\n",
        "    Dense(32, activation='relu'),\n",
        "    Dense(10, activation='softmax')\n",
        "])\n",
        "\n",
        "loss_function = tf.keras.losses.SparseCategoricalCrossentropy()\n",
        "\n",
        "optimizer = tf.keras.optimizers.Adam()"
      ],
      "execution_count": 26,
      "outputs": []
    },
    {
      "cell_type": "code",
      "metadata": {
        "id": "c3kbX_pWj47j"
      },
      "source": [
        "# 기록을 위한 metric 정의\n",
        "train_loss = tf.keras.metrics.Mean(name='train_loss')\n",
        "train_accuracy = tf.keras.metrics.SparseCategoricalAccuracy(name='train_accuracy')\n",
        "valid_loss = tf.keras.metrics.Mean(name='valid_loss')\n",
        "valid_accuracy = tf.keras.metrics.SparseCategoricalAccuracy(name='valid_accuracy')\n",
        "optimizer = tf.keras.optimizers.Adam()"
      ],
      "execution_count": 27,
      "outputs": []
    },
    {
      "cell_type": "code",
      "metadata": {
        "id": "GedeAgx9kVVb"
      },
      "source": [
        "# 배치 생성 함수\n",
        "def get_batches(x, y, batch_size=32):\n",
        "    for i in range(int(x.shape[0] // batch_size)):\n",
        "        x_batch = x[i * batch_size:(i+1) * batch_size]\n",
        "        y_batch = y[i * batch_size:(i+1) * batch_size]\n",
        "        yield(np.asarray(x_batch), np.asarray(y_batch))"
      ],
      "execution_count": 28,
      "outputs": []
    },
    {
      "cell_type": "code",
      "metadata": {
        "id": "4N81taVRkk8S"
      },
      "source": [
        "@tf.function\n",
        "def train_step(images, labels):\n",
        "    # GradientTape 적용\n",
        "    with tf.GradientTape() as tape:\n",
        "        # 예측\n",
        "        prediction = model(images, training=True)\n",
        "        # 손실\n",
        "        loss = loss_function(labels, prediction)\n",
        "    # 미분값 계산\n",
        "    gradients = tape.gradient(loss, model.trainable_variables)\n",
        "    # optimizer 적용\n",
        "    optimizer.apply_gradients(zip(gradients, model.trainable_variables))\n",
        "    # loss, accuracy 계산\n",
        "    train_loss(loss)\n",
        "    train_accuracy(labels, prediction)\n",
        "\n",
        "@tf.function\n",
        "def valid_step(images, labels):\n",
        "    # 예측\n",
        "    prediction = model(images, training=False)\n",
        "    # 손실\n",
        "    loss = loss_function(labels, prediction)\n",
        "    # loss, accuracy 계산\n",
        "    valid_loss(loss)\n",
        "    valid_accuracy(labels, prediction)\n",
        "\n",
        "    "
      ],
      "execution_count": 29,
      "outputs": []
    },
    {
      "cell_type": "code",
      "metadata": {
        "colab": {
          "base_uri": "https://localhost:8080/"
        },
        "id": "vOLUyCa8oZOE",
        "outputId": "741453db-8b9d-4dd4-ed06-29de12153165"
      },
      "source": [
        "# 초기화 코드\n",
        "train_loss.reset_states()\n",
        "train_accuracy.reset_states()\n",
        "valid_loss.reset_states()\n",
        "valid_accuracy.reset_states()\n",
        "\n",
        "# epoch 반복\n",
        "for epoch in range(5):\n",
        "    # batch별 순회\n",
        "    for images, labels in get_batches(x_train, y_train):\n",
        "        # train_step\n",
        "        train_step(images, labels)\n",
        "    \n",
        "    for images, labels in get_batches(x_test, y_test):\n",
        "        # valid_step\n",
        "        valid_step(images, labels)\n",
        "\n",
        "    # 결과 출력\n",
        "    metric_template = 'epoch: {}, loss: {:.4f}, acc: {:.2f}%  val_loss: {:.4f}  val_acc: {:.2f}%'\n",
        "    print(metric_template.format(epoch+1, train_loss.result(), train_accuracy.result()*100,\n",
        "                                 valid_loss.result(), valid_accuracy.result()*100))"
      ],
      "execution_count": 30,
      "outputs": [
        {
          "output_type": "stream",
          "text": [
            "epoch: 1, loss: 0.2463, acc: 92.69%  val_loss: 0.1233  val_acc: 96.15%\n",
            "epoch: 2, loss: 0.1731, acc: 94.84%  val_loss: 0.1154  val_acc: 96.45%\n",
            "epoch: 3, loss: 0.1376, acc: 95.89%  val_loss: 0.1093  val_acc: 96.67%\n",
            "epoch: 4, loss: 0.1152, acc: 96.54%  val_loss: 0.1111  val_acc: 96.71%\n",
            "epoch: 5, loss: 0.1001, acc: 96.97%  val_loss: 0.1109  val_acc: 96.79%\n"
          ],
          "name": "stdout"
        }
      ]
    },
    {
      "cell_type": "code",
      "metadata": {
        "id": "z4PNFnEypK7c"
      },
      "source": [
        " "
      ],
      "execution_count": null,
      "outputs": []
    }
  ]
}