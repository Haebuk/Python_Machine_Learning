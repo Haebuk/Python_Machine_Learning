{
  "nbformat": 4,
  "nbformat_minor": 0,
  "metadata": {
    "colab": {
      "name": "03_심층 신경망으로_이미지_분류.ipynb",
      "provenance": []
    },
    "kernelspec": {
      "name": "python3",
      "display_name": "Python 3"
    },
    "language_info": {
      "name": "python"
    },
    "accelerator": "GPU"
  },
  "cells": [
    {
      "cell_type": "markdown",
      "metadata": {
        "id": "5S7zY8lNVt1n"
      },
      "source": [
        "# 1. 케라스 내장 데이터셋 로드"
      ]
    },
    {
      "cell_type": "code",
      "metadata": {
        "id": "qkdhPUQIO9q8"
      },
      "source": [
        "import tensorflow as tf\n",
        "\n",
        "mnist = tf.keras.datasets.mnist"
      ],
      "execution_count": 1,
      "outputs": []
    },
    {
      "cell_type": "code",
      "metadata": {
        "colab": {
          "base_uri": "https://localhost:8080/"
        },
        "id": "nvHw0bs1QDbt",
        "outputId": "a64e01c9-6d5a-4432-a3a0-d55053edbc7c"
      },
      "source": [
        "(x_train, y_train), (x_test, y_test) = mnist.load_data()"
      ],
      "execution_count": 2,
      "outputs": [
        {
          "output_type": "stream",
          "text": [
            "Downloading data from https://storage.googleapis.com/tensorflow/tf-keras-datasets/mnist.npz\n",
            "11493376/11490434 [==============================] - 0s 0us/step\n"
          ],
          "name": "stdout"
        }
      ]
    },
    {
      "cell_type": "markdown",
      "metadata": {
        "id": "JD4GiBDTVz9c"
      },
      "source": [
        "- 훈련 셋과 검증 셋을 튜플 형태로 저장"
      ]
    },
    {
      "cell_type": "code",
      "metadata": {
        "colab": {
          "base_uri": "https://localhost:8080/"
        },
        "id": "e2ZWRnKLQPRU",
        "outputId": "6ad756f6-34ce-4ce3-f556-134a194aa7f4"
      },
      "source": [
        "# 로드된 데이터셋 확인\n",
        "print('train set:', x_train.shape, y_train.shape)\n",
        "print('test set:', x_test.shape, y_test.shape)"
      ],
      "execution_count": 3,
      "outputs": [
        {
          "output_type": "stream",
          "text": [
            "train set: (60000, 28, 28) (60000,)\n",
            "test set: (10000, 28, 28) (10000,)\n"
          ],
          "name": "stdout"
        }
      ]
    },
    {
      "cell_type": "markdown",
      "metadata": {
        "id": "qht2ndzxV8O5"
      },
      "source": [
        "- 훈련 셋에는 6만 개, 검증 셋에는 1만 개 데이터가 저장\n",
        "- 배열의 shape은 (데이터셋 크기, 28, 28)\n",
        "    - 28, 28은 이미지의 세로, 가로의 픽셀 크기"
      ]
    },
    {
      "cell_type": "code",
      "metadata": {
        "colab": {
          "base_uri": "https://localhost:8080/",
          "height": 371
        },
        "id": "omOMRkImQcMT",
        "outputId": "92bb6c74-c5ac-4918-c4ee-12d2ca7cd128"
      },
      "source": [
        "# 데이터 시각화\n",
        "import matplotlib.pyplot as plt\n",
        "\n",
        "fig, axes = plt.subplots(3, 5)\n",
        "fig.set_size_inches(8, 5)\n",
        "\n",
        "for i in range(15):\n",
        "    ax = axes[i//5, i%5]\n",
        "    ax.imshow(x_train[i], cmap='gray')\n",
        "    ax.axis('off')\n",
        "    ax.set_title(str(y_train[i]))\n",
        "\n",
        "plt.tight_layout()\n",
        "plt.show()"
      ],
      "execution_count": 4,
      "outputs": [
        {
          "output_type": "display_data",
          "data": {
            "image/png": "[encoded data removed]",
            "text/plain": [
              "<Figure size 576x360 with 15 Axes>"
            ]
          },
          "metadata": {
            "tags": [],
            "needs_background": "light"
          }
        }
      ]
    },
    {
      "cell_type": "markdown",
      "metadata": {
        "id": "IZlqfgZ5WL6Z"
      },
      "source": [
        "- 사람의 필기체로 쓰인 0~9까지의 숫자로 이루어지느 데이터 셋\n",
        "- 0~9까지 총 10개의 정답 레이블로 구성"
      ]
    },
    {
      "cell_type": "markdown",
      "metadata": {
        "id": "ngC5mA6xWW_d"
      },
      "source": [
        "# 2. 데이터 전처리\n",
        "- 이미지 데이터를 정규화하여 데이터 범위 조절"
      ]
    },
    {
      "cell_type": "code",
      "metadata": {
        "colab": {
          "base_uri": "https://localhost:8080/"
        },
        "id": "lb-_PMQ2Qy3c",
        "outputId": "703d69c5-eb38-4e6d-ed66-3e069e8ad17f"
      },
      "source": [
        "# x_train 배열의 데이터 확인\n",
        "x_train[0, 10:15, 10:15]"
      ],
      "execution_count": 6,
      "outputs": [
        {
          "output_type": "execute_result",
          "data": {
            "text/plain": [
              "array([[  1, 154, 253,  90,   0],\n",
              "       [  0, 139, 253, 190,   2],\n",
              "       [  0,  11, 190, 253,  70],\n",
              "       [  0,   0,  35, 241, 225],\n",
              "       [  0,   0,   0,  81, 240]], dtype=uint8)"
            ]
          },
          "metadata": {
            "tags": []
          },
          "execution_count": 6
        }
      ]
    },
    {
      "cell_type": "code",
      "metadata": {
        "colab": {
          "base_uri": "https://localhost:8080/"
        },
        "id": "tcyG_a5xQ6ak",
        "outputId": "e561ac72-ff64-4e0c-8373-a9cd8fc6192b"
      },
      "source": [
        "# 픽셀 값의 최소/최대값 확인\n",
        "print(f'정규화 전] 최소값: {x_train.min()}, 최대값: {x_train.max()}')\n",
        "\n",
        "# 데이터 정규화\n",
        "x_train = x_train / x_train.max()\n",
        "\n",
        "# 정규화 후 최소/최대값 확인\n",
        "print(f'정규화 후] 최소값: {x_train.min()}, 최대값: {x_train.max()}')"
      ],
      "execution_count": 7,
      "outputs": [
        {
          "output_type": "stream",
          "text": [
            "정규화 전] 최소값: 0, 최대값: 255\n",
            "정규화 후] 최소값: 0.0, 최대값: 1.0\n"
          ],
          "name": "stdout"
        }
      ]
    },
    {
      "cell_type": "code",
      "metadata": {
        "id": "raBMe_KWRTs1"
      },
      "source": [
        "# test 셋에도 정규화 동일 적용\n",
        "x_test = x_test / x_test.max()"
      ],
      "execution_count": 8,
      "outputs": []
    },
    {
      "cell_type": "code",
      "metadata": {
        "colab": {
          "base_uri": "https://localhost:8080/"
        },
        "id": "KJYBMdldRWm8",
        "outputId": "15ac43f0-8895-451e-c2df-29437b8ccc1d"
      },
      "source": [
        "# 변환 후 x_train 배열의 데이터 확인\n",
        "x_train[0, 10:15, 10:15]"
      ],
      "execution_count": 9,
      "outputs": [
        {
          "output_type": "execute_result",
          "data": {
            "text/plain": [
              "array([[0.00392157, 0.60392157, 0.99215686, 0.35294118, 0.        ],\n",
              "       [0.        , 0.54509804, 0.99215686, 0.74509804, 0.00784314],\n",
              "       [0.        , 0.04313725, 0.74509804, 0.99215686, 0.2745098 ],\n",
              "       [0.        , 0.        , 0.1372549 , 0.94509804, 0.88235294],\n",
              "       [0.        , 0.        , 0.        , 0.31764706, 0.94117647]])"
            ]
          },
          "metadata": {
            "tags": []
          },
          "execution_count": 9
        }
      ]
    },
    {
      "cell_type": "markdown",
      "metadata": {
        "id": "ZvLOQ0mGWxsO"
      },
      "source": [
        "# 3. Flatten 레이어\n",
        "- 2차원 입력은 Dense레이어에 입력값으로 넣을 수 없음\n",
        "- 이미지 데이터를 1차원으로 전처리하여 주입\n",
        "- 두 가지 방법으로 가능"
      ]
    },
    {
      "cell_type": "code",
      "metadata": {
        "colab": {
          "base_uri": "https://localhost:8080/"
        },
        "id": "kTfVqLkwRZR0",
        "outputId": "942c96b1-5d38-4529-841d-8bd32d4761cb"
      },
      "source": [
        "print(f'변경 전 shape: {x_train.shape}')\n",
        "print(f'1D로 변경 후 shape: {x_train.reshape(60000, -1).shape}')"
      ],
      "execution_count": 11,
      "outputs": [
        {
          "output_type": "stream",
          "text": [
            "변경 전 shape: (60000, 28, 28)\n",
            "1D로 변경 후 shape: (60000, 784)\n"
          ],
          "name": "stdout"
        }
      ]
    },
    {
      "cell_type": "code",
      "metadata": {
        "colab": {
          "base_uri": "https://localhost:8080/"
        },
        "id": "IFCfHm8qRlsr",
        "outputId": "5e6db4a5-397d-45eb-d6c8-23c2ff715a86"
      },
      "source": [
        "print(f'변경 전 shape: {x_train.shape}')\n",
        "print(f'Flatten 적용 후 shape: {tf.keras.layers.Flatten()(x_train).shape}')"
      ],
      "execution_count": 13,
      "outputs": [
        {
          "output_type": "stream",
          "text": [
            "변경 전 shape: (60000, 28, 28)\n",
            "Flatten 적용 후 shape: (60000, 784)\n"
          ],
          "name": "stdout"
        }
      ]
    },
    {
      "cell_type": "markdown",
      "metadata": {
        "id": "qkjrQgmGW_NS"
      },
      "source": [
        "# 4. 활성화 함수\n",
        "- 활성화 함수: 입력을 비선형 출력으로 변환해주는 함수"
      ]
    },
    {
      "cell_type": "markdown",
      "metadata": {
        "id": "-0VYkSlhYQIz"
      },
      "source": [
        "# 5. 입력과 출력"
      ]
    },
    {
      "cell_type": "code",
      "metadata": {
        "id": "RxwdBdLUSBE0"
      },
      "source": [
        "model = tf.keras.Sequential([\n",
        "                             tf.keras.layers.Flatten(input_shape=(28, 28)),\n",
        "                             tf.keras.layers.Dense(256, activation='relu'),\n",
        "                             tf.keras.layers.Dense(64, activation='relu'),\n",
        "                             tf.keras.layers.Dense(32, activation='relu'),\n",
        "                             # 마지막 레이어의 노드 개수 10개(클래스 개수와 동일)\n",
        "                             tf.keras.layers.Dense(10, activation='softmax'),\n",
        "])"
      ],
      "execution_count": 16,
      "outputs": []
    },
    {
      "cell_type": "markdown",
      "metadata": {
        "id": "alXJQH7XXG8q"
      },
      "source": [
        "- 첫 번째 레이어에 입력 데이터의 형태를 나타내는 input_shape 매개변수를 지정하는 것이 일반적(데이터의 크기는 제외)\n",
        "- 마지막 레이어는 출력층\n",
        "     - mnist는 0~9까지 총 10개의 클래스로 이루어져 있기 때문에 마지막 출력층의 노드 개수는 10개가 되어야 함\n",
        "- Dense 레이어 구성하는 노드의 개수: 256 - 64 - 32 - 10 으로 조금씩 개수가 줄어드는 형태로 구성\n",
        "    - 784개의 변수에 대한 입력값을 노드 개수를 조금씩 줄여가면서 최종 출력 클래스 개수인 10개까지 정보를 축약하기 위한 설계\n",
        "    - 모델의 레이어의 개수나 노드의 개수에 대한 정답은 없음\n",
        "    - 여러 가지 시도를 통해 최적의 모델 형태를 찾아야 함 (하이퍼파라미터)"
      ]
    },
    {
      "cell_type": "markdown",
      "metadata": {
        "id": "CoyJLGVlYTZu"
      },
      "source": [
        "# 6. 손실함수"
      ]
    },
    {
      "cell_type": "code",
      "metadata": {
        "id": "RRsUiY9jSZGz"
      },
      "source": [
        "# y가 원핫 벡터인 경우\n",
        "# [0., 0., 0., 1., 0., 0., 0., 0., 0., 0.]\n",
        "model.compile(loss = 'categorical_crossentropy')\n",
        "# y가 원핫 벡터가 아닌 경우\n",
        "# [5]\n",
        "model.compile(loss = 'sparse_categorical_crossentropy')"
      ],
      "execution_count": 17,
      "outputs": []
    },
    {
      "cell_type": "markdown",
      "metadata": {
        "id": "bIIvGbz3X6YH"
      },
      "source": [
        "- 출력 데이터가 원핫 벡터가 아닌 0~9까지 레이블 값을 가짐\n",
        "    - 손실 함수를 `'sparse_categorical_crossentropy'`로 지정"
      ]
    },
    {
      "cell_type": "markdown",
      "metadata": {
        "id": "-_0zKlNqYWF_"
      },
      "source": [
        "# 7. 옵티마이저\n",
        "- 손실을 낮추기 위해 신경망의 가중치와 학습률 같은 신경망 속성을 변경하는데 사용하는 최적화 방법"
      ]
    },
    {
      "cell_type": "code",
      "metadata": {
        "colab": {
          "base_uri": "https://localhost:8080/"
        },
        "id": "vZPyeAEkTT0k",
        "outputId": "bc1bc544-e185-447f-96d7-cbe3a7a7d7f6"
      },
      "source": [
        "# 클래스 인스턴스로 지정\n",
        "adam = tf.keras.optimizers.Adam(lr=0.001)\n",
        "model.compile(optimizer=adam)\n",
        "\n",
        "# 문자열로 지정\n",
        "model.compile(optimizer='adam')"
      ],
      "execution_count": 18,
      "outputs": [
        {
          "output_type": "stream",
          "text": [
            "/usr/local/lib/python3.7/dist-packages/tensorflow/python/keras/optimizer_v2/optimizer_v2.py:375: UserWarning: The `lr` argument is deprecated, use `learning_rate` instead.\n",
            "  \"The `lr` argument is deprecated, use `learning_rate` instead.\")\n"
          ],
          "name": "stderr"
        }
      ]
    },
    {
      "cell_type": "markdown",
      "metadata": {
        "id": "VW4BZ2c9YlxV"
      },
      "source": [
        "# 8. 평가지표\n",
        "- `'accuracy'`, `'recall'`, `'precision'`, `'auc'` 등의 지표\n",
        "- 하나 이상의 평가지표를 동시에 참고 가능"
      ]
    },
    {
      "cell_type": "code",
      "metadata": {
        "id": "EMMaxHkrTjUz"
      },
      "source": [
        "# 클래스 인스턴스로 지정\n",
        "acc = tf.keras.metrics.SparseCategoricalAccuracy()\n",
        "\n",
        "model.compile(optimizer='adam',\n",
        "              loss='sparse_categorical_crossentropy',\n",
        "              metrics=[acc])"
      ],
      "execution_count": 20,
      "outputs": []
    },
    {
      "cell_type": "code",
      "metadata": {
        "id": "bgKU6B_XTxPT"
      },
      "source": [
        "# 문자열로 지정\n",
        "model.compile(optimizer='adam',\n",
        "              loss='sparse_categorical_crossentropy',\n",
        "              metrics=['accuracy'])"
      ],
      "execution_count": 21,
      "outputs": []
    },
    {
      "cell_type": "markdown",
      "metadata": {
        "id": "ODkB_uHCY3SF"
      },
      "source": [
        "# 9. 훈련"
      ]
    },
    {
      "cell_type": "code",
      "metadata": {
        "colab": {
          "base_uri": "https://localhost:8080/"
        },
        "id": "lrTG7TFjT5WT",
        "outputId": "518cf3e5-c92d-412f-8ae8-73468c6d93a4"
      },
      "source": [
        "model.fit(x_train, y_train,\n",
        "          # 검증 셋 지정\n",
        "          validation_data=(x_test, y_test),\n",
        "          epochs=10)"
      ],
      "execution_count": 22,
      "outputs": [
        {
          "output_type": "stream",
          "text": [
            "Epoch 1/10\n",
            "1875/1875 [==============================] - 6s 2ms/step - loss: 0.2396 - accuracy: 0.9291 - val_loss: 0.1155 - val_accuracy: 0.9641\n",
            "Epoch 2/10\n",
            "1875/1875 [==============================] - 4s 2ms/step - loss: 0.0959 - accuracy: 0.9709 - val_loss: 0.0932 - val_accuracy: 0.9718\n",
            "Epoch 3/10\n",
            "1875/1875 [==============================] - 4s 2ms/step - loss: 0.0667 - accuracy: 0.9792 - val_loss: 0.0817 - val_accuracy: 0.9747\n",
            "Epoch 4/10\n",
            "1875/1875 [==============================] - 4s 2ms/step - loss: 0.0495 - accuracy: 0.9844 - val_loss: 0.0876 - val_accuracy: 0.9752\n",
            "Epoch 5/10\n",
            "1875/1875 [==============================] - 4s 2ms/step - loss: 0.0390 - accuracy: 0.9877 - val_loss: 0.0919 - val_accuracy: 0.9754\n",
            "Epoch 6/10\n",
            "1875/1875 [==============================] - 4s 2ms/step - loss: 0.0333 - accuracy: 0.9890 - val_loss: 0.0923 - val_accuracy: 0.9759\n",
            "Epoch 7/10\n",
            "1875/1875 [==============================] - 4s 2ms/step - loss: 0.0287 - accuracy: 0.9904 - val_loss: 0.0975 - val_accuracy: 0.9759\n",
            "Epoch 8/10\n",
            "1875/1875 [==============================] - 4s 2ms/step - loss: 0.0232 - accuracy: 0.9926 - val_loss: 0.0894 - val_accuracy: 0.9761\n",
            "Epoch 9/10\n",
            "1875/1875 [==============================] - 4s 2ms/step - loss: 0.0212 - accuracy: 0.9930 - val_loss: 0.0967 - val_accuracy: 0.9759\n",
            "Epoch 10/10\n",
            "1875/1875 [==============================] - 4s 2ms/step - loss: 0.0191 - accuracy: 0.9940 - val_loss: 0.0902 - val_accuracy: 0.9788\n"
          ],
          "name": "stdout"
        },
        {
          "output_type": "execute_result",
          "data": {
            "text/plain": [
              "<tensorflow.python.keras.callbacks.History at 0x7f27b01bcd90>"
            ]
          },
          "metadata": {
            "tags": []
          },
          "execution_count": 22
        }
      ]
    },
    {
      "cell_type": "markdown",
      "metadata": {
        "id": "VdVknXLMZdAH"
      },
      "source": [
        "# 10. 평가"
      ]
    },
    {
      "cell_type": "code",
      "metadata": {
        "colab": {
          "base_uri": "https://localhost:8080/"
        },
        "id": "0W4M9WWSUA_6",
        "outputId": "f473792e-90a0-48ab-a15c-ef8250f81dab"
      },
      "source": [
        "test_loss, test_acc = model.evaluate(x_test, y_test)\n",
        "print('검증 셋 정확도:', test_acc)"
      ],
      "execution_count": 23,
      "outputs": [
        {
          "output_type": "stream",
          "text": [
            "313/313 [==============================] - 1s 2ms/step - loss: 0.0902 - accuracy: 0.9788\n",
            "검증 셋 정확도: 0.9787999987602234\n"
          ],
          "name": "stdout"
        }
      ]
    },
    {
      "cell_type": "markdown",
      "metadata": {
        "id": "izv6cYKzZe-X"
      },
      "source": [
        "# 11. 예측\n",
        "- 예측에 필요한 새로운 데이터셋이 없으므로 검증 데이터를 그대로 사용"
      ]
    },
    {
      "cell_type": "code",
      "metadata": {
        "id": "dB3J9SmDUOAL"
      },
      "source": [
        "predictions = model.predict(x_test)"
      ],
      "execution_count": 24,
      "outputs": []
    },
    {
      "cell_type": "code",
      "metadata": {
        "colab": {
          "base_uri": "https://localhost:8080/"
        },
        "id": "Mtwo12hFUUSj",
        "outputId": "7865f4eb-b5aa-470f-ad97-a1eb5badf00f"
      },
      "source": [
        "predictions[0]"
      ],
      "execution_count": 25,
      "outputs": [
        {
          "output_type": "execute_result",
          "data": {
            "text/plain": [
              "array([1.3608070e-09, 1.4560618e-07, 2.1770016e-07, 9.7183232e-08,\n",
              "       1.2030746e-07, 4.1132528e-09, 5.2829009e-13, 9.9998081e-01,\n",
              "       5.0358966e-09, 1.8537552e-05], dtype=float32)"
            ]
          },
          "metadata": {
            "tags": []
          },
          "execution_count": 25
        }
      ]
    },
    {
      "cell_type": "markdown",
      "metadata": {
        "id": "9wnu5V5JZoF4"
      },
      "source": [
        "- 10개의 확률 값 (마지막 출력층의 노드 개수)\n",
        "- 0~9까지의 10개의 개별 클래스에 대한 분류 확률값"
      ]
    },
    {
      "cell_type": "code",
      "metadata": {
        "colab": {
          "base_uri": "https://localhost:8080/"
        },
        "id": "ghqNoGp8UVHr",
        "outputId": "4cdf1d43-a4a2-4ba8-e3b8-60650e271127"
      },
      "source": [
        "import numpy as np\n",
        "# 0번 인덱스에 대한 예측 클래스 출력\n",
        "print(np.argmax(predictions[0]))\n",
        "# 첫 10개 인덱스에 대한 예측 클래스 출력\n",
        "print(np.argmax(predictions[:10], axis=1))"
      ],
      "execution_count": 26,
      "outputs": [
        {
          "output_type": "stream",
          "text": [
            "7\n",
            "[7 2 1 0 4 1 4 9 6 9]\n"
          ],
          "name": "stdout"
        }
      ]
    },
    {
      "cell_type": "code",
      "metadata": {
        "colab": {
          "base_uri": "https://localhost:8080/",
          "height": 679
        },
        "id": "as0LCMsOUdvD",
        "outputId": "36c2eda5-e25d-4f5f-8a46-829e99307053"
      },
      "source": [
        "# 데이터 시각화\n",
        "import matplotlib.pyplot as plt\n",
        "def get_one_result(idx):\n",
        "    img, y_true, y_pred, confidence = x_test[idx], y_test[idx], np.argmax(predictions[idx]), 100*np.max(predictions[idx])\n",
        "    return img, y_true, y_pred, confidence\n",
        "\n",
        "fig, axes = plt.subplots(3, 5)\n",
        "fig.set_size_inches(12, 10)\n",
        "for i in range(15):\n",
        "    ax = axes[i//5, i%5]\n",
        "    img,y_true, y_pred, confidence = get_one_result(i)\n",
        "    ax.imshow(img, cmap='gray')\n",
        "    ax.set_xticks([])\n",
        "    ax.set_yticks([])\n",
        "    ax.set_title(f'True: {y_true}')\n",
        "    ax.set_xlabel(f'Prediction: {y_pred}\\nConfidence: ({confidence:.2f} %)')\n",
        "plt.tight_layout()\n",
        "plt.show()"
      ],
      "execution_count": 28,
      "outputs": [
        {
          "output_type": "display_data",
          "data": {
            "image/png": "[encoded data removed]",
            "text/plain": [
              "<Figure size 864x720 with 15 Axes>"
            ]
          },
          "metadata": {
            "tags": []
          }
        }
      ]
    },
    {
      "cell_type": "code",
      "metadata": {
        "id": "OdcwtQlyVd0d"
      },
      "source": [
        ""
      ],
      "execution_count": null,
      "outputs": []
    }
  ]
}