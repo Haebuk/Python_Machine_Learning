{
  "nbformat": 4,
  "nbformat_minor": 0,
  "metadata": {
    "colab": {
      "name": "10_Dataset_클래스.ipynb",
      "provenance": []
    },
    "kernelspec": {
      "name": "python3",
      "display_name": "Python 3"
    },
    "language_info": {
      "name": "python"
    },
    "accelerator": "GPU"
  },
  "cells": [
    {
      "cell_type": "markdown",
      "metadata": {
        "id": "R2FCFOk9yrCs"
      },
      "source": [
        "# 1. as_numpy_iterator\n",
        "- 생성된 Dataset 클래스를 넘파이 배열로 반환\n",
        "- 텐서로 출력되므로 넘파이 배열로 변환해야 요소 출력 가능"
      ]
    },
    {
      "cell_type": "code",
      "metadata": {
        "colab": {
          "base_uri": "https://localhost:8080/"
        },
        "id": "5sTrrqQXyjL8",
        "outputId": "2ee8854a-ded3-48a5-c1a5-1cbf25c28554"
      },
      "source": [
        "import tensorflow as tf\n",
        "\n",
        "dataset = tf.data.Dataset.range(10)\n",
        "\n",
        "list(dataset.as_numpy_iterator())"
      ],
      "execution_count": 1,
      "outputs": [
        {
          "output_type": "execute_result",
          "data": {
            "text/plain": [
              "[0, 1, 2, 3, 4, 5, 6, 7, 8, 9]"
            ]
          },
          "metadata": {
            "tags": []
          },
          "execution_count": 1
        }
      ]
    },
    {
      "cell_type": "markdown",
      "metadata": {
        "id": "2lRPjL2NzNoM"
      },
      "source": [
        "# 2. apply\n",
        "- 사용자가 정의한 변환 함수를 Dataset 클래스에 적용"
      ]
    },
    {
      "cell_type": "code",
      "metadata": {
        "colab": {
          "base_uri": "https://localhost:8080/"
        },
        "id": "ZjOoKJGQzLGB",
        "outputId": "21b01b0a-d89f-4d62-ec74-8191806de3b9"
      },
      "source": [
        "dataset = tf.data.Dataset.range(10)\n",
        "\n",
        "def filter_five(x):\n",
        "    return x.filter(lambda x: x < 5)\n",
        "\n",
        "list(dataset.apply(filter_five).as_numpy_iterator())"
      ],
      "execution_count": 2,
      "outputs": [
        {
          "output_type": "execute_result",
          "data": {
            "text/plain": [
              "[0, 1, 2, 3, 4]"
            ]
          },
          "metadata": {
            "tags": []
          },
          "execution_count": 2
        }
      ]
    },
    {
      "cell_type": "markdown",
      "metadata": {
        "id": "GDJfHh7jzfnQ"
      },
      "source": [
        "# 3. from_tensor_slices\n",
        "- 리스트나 넘파이 배열을 Dataset 클래스로 변환\n"
      ]
    },
    {
      "cell_type": "code",
      "metadata": {
        "colab": {
          "base_uri": "https://localhost:8080/"
        },
        "id": "p0dT0n3jzevQ",
        "outputId": "1d83ea5d-f22b-46a7-d5a2-3ae8c15b6f8e"
      },
      "source": [
        "ds = tf.data.Dataset.from_tensor_slices([1, 2, 3, 4, 5])\n",
        "print(type(ds))\n",
        "list(ds.as_numpy_iterator())"
      ],
      "execution_count": 3,
      "outputs": [
        {
          "output_type": "stream",
          "text": [
            "<class 'tensorflow.python.data.ops.dataset_ops.TensorSliceDataset'>\n"
          ],
          "name": "stdout"
        },
        {
          "output_type": "execute_result",
          "data": {
            "text/plain": [
              "[1, 2, 3, 4, 5]"
            ]
          },
          "metadata": {
            "tags": []
          },
          "execution_count": 3
        }
      ]
    },
    {
      "cell_type": "markdown",
      "metadata": {
        "id": "L2v7XH9GzsYY"
      },
      "source": [
        "# 4. iteration\n",
        "- 반복문으로 요소를 출력 가능\n",
        "- 텐서로 출력"
      ]
    },
    {
      "cell_type": "code",
      "metadata": {
        "colab": {
          "base_uri": "https://localhost:8080/"
        },
        "id": "hSCChSvjzrNJ",
        "outputId": "66627b6e-075c-4f9b-b023-06c690aa79f4"
      },
      "source": [
        "ds = tf.data.Dataset.from_tensor_slices([1, 2, 3, 4, 5])\n",
        "\n",
        "for d in ds:\n",
        "    print(d)"
      ],
      "execution_count": 4,
      "outputs": [
        {
          "output_type": "stream",
          "text": [
            "tf.Tensor(1, shape=(), dtype=int32)\n",
            "tf.Tensor(2, shape=(), dtype=int32)\n",
            "tf.Tensor(3, shape=(), dtype=int32)\n",
            "tf.Tensor(4, shape=(), dtype=int32)\n",
            "tf.Tensor(5, shape=(), dtype=int32)\n"
          ],
          "name": "stdout"
        }
      ]
    },
    {
      "cell_type": "markdown",
      "metadata": {
        "id": "kqMLaWIjz27T"
      },
      "source": [
        "# 5. range\n",
        "- 데이터셋의 요소 생성\n",
        "- 파이썬의 `range` 내장함수와 동일하게 동작"
      ]
    },
    {
      "cell_type": "code",
      "metadata": {
        "colab": {
          "base_uri": "https://localhost:8080/"
        },
        "id": "98YJHWZ1z1wo",
        "outputId": "ed6173c5-1dc1-4218-fad0-fdacc30ab452"
      },
      "source": [
        "ds = tf.data.Dataset.range(1, 10, 2)\n",
        "\n",
        "for d in ds:\n",
        "    print(d)"
      ],
      "execution_count": 6,
      "outputs": [
        {
          "output_type": "stream",
          "text": [
            "tf.Tensor(1, shape=(), dtype=int64)\n",
            "tf.Tensor(3, shape=(), dtype=int64)\n",
            "tf.Tensor(5, shape=(), dtype=int64)\n",
            "tf.Tensor(7, shape=(), dtype=int64)\n",
            "tf.Tensor(9, shape=(), dtype=int64)\n"
          ],
          "name": "stdout"
        }
      ]
    },
    {
      "cell_type": "markdown",
      "metadata": {
        "id": "2tfdKEUF0Dce"
      },
      "source": [
        "# 6. batch\n",
        "- 배치 크기 만큼의 요소를 하나의 배치로 구성하여 반환"
      ]
    },
    {
      "cell_type": "code",
      "metadata": {
        "colab": {
          "base_uri": "https://localhost:8080/"
        },
        "id": "d_JJh-310Bnx",
        "outputId": "57b0e3ff-6dd7-40f2-ded6-a1b6ae65162e"
      },
      "source": [
        "ds = tf.data.Dataset.range(8)\n",
        "for d in ds.batch(3):\n",
        "    print(d)"
      ],
      "execution_count": 7,
      "outputs": [
        {
          "output_type": "stream",
          "text": [
            "tf.Tensor([0 1 2], shape=(3,), dtype=int64)\n",
            "tf.Tensor([3 4 5], shape=(3,), dtype=int64)\n",
            "tf.Tensor([6 7], shape=(2,), dtype=int64)\n"
          ],
          "name": "stdout"
        }
      ]
    },
    {
      "cell_type": "markdown",
      "metadata": {
        "id": "Z6oDDSm30NIf"
      },
      "source": [
        "# 7. drop_remainder\n",
        "- 배치 구성 시 잔여 요소의 개수가 배치 크기보다 작다면 생성하지 않음"
      ]
    },
    {
      "cell_type": "code",
      "metadata": {
        "colab": {
          "base_uri": "https://localhost:8080/"
        },
        "id": "lwKKbXCh0MKY",
        "outputId": "fb466ab0-16fc-4492-d074-0e8cdf38d2ae"
      },
      "source": [
        "ds = tf.data.Dataset.range(8)\n",
        "\n",
        "for d in ds.batch(3, drop_remainder=True):\n",
        "    print(d)"
      ],
      "execution_count": 8,
      "outputs": [
        {
          "output_type": "stream",
          "text": [
            "tf.Tensor([0 1 2], shape=(3,), dtype=int64)\n",
            "tf.Tensor([3 4 5], shape=(3,), dtype=int64)\n"
          ],
          "name": "stdout"
        }
      ]
    },
    {
      "cell_type": "markdown",
      "metadata": {
        "id": "lSgh26h80YOw"
      },
      "source": [
        "# 8. window\n",
        "- 시계열 데이터셋 구축시 윈도우 구현에 사용\n",
        "- 윈도우 크기 만큼의 데이터를 하나로 묶어서 생성\n",
        "- `shift`: 다음 윈도우 구성의 시작점을 몇 칸씩 건너뛸 것인지 정의\n",
        "- `drop_remainder=False`: 잔여 요소가 배치 크기보다 작더라도 지속 생성"
      ]
    },
    {
      "cell_type": "code",
      "metadata": {
        "colab": {
          "base_uri": "https://localhost:8080/"
        },
        "id": "42TGk02G0WfY",
        "outputId": "2b17f903-0344-4b34-e39e-a4602f465fa5"
      },
      "source": [
        "ds = tf.data.Dataset.range(10)\n",
        "ds = ds.window(5, shift=1, drop_remainder=False)\n",
        "for d in ds:\n",
        "    print(list(d.as_numpy_iterator()))"
      ],
      "execution_count": 10,
      "outputs": [
        {
          "output_type": "stream",
          "text": [
            "[0, 1, 2, 3, 4]\n",
            "[1, 2, 3, 4, 5]\n",
            "[2, 3, 4, 5, 6]\n",
            "[3, 4, 5, 6, 7]\n",
            "[4, 5, 6, 7, 8]\n",
            "[5, 6, 7, 8, 9]\n",
            "[6, 7, 8, 9]\n",
            "[7, 8, 9]\n",
            "[8, 9]\n",
            "[9]\n"
          ],
          "name": "stdout"
        }
      ]
    },
    {
      "cell_type": "markdown",
      "metadata": {
        "id": "3SSR3H2P005-"
      },
      "source": [
        "- 딥러닝 모델에 데이터셋 주입시 크기가 일정하게 맞춰있지 않다면 에러가 발생할 수 있음\n",
        "    - `drop_remainder=True`로 설정하는 것이 일반"
      ]
    },
    {
      "cell_type": "code",
      "metadata": {
        "colab": {
          "base_uri": "https://localhost:8080/"
        },
        "id": "Mu9D-Sye06_Q",
        "outputId": "856195ba-f2ce-4a68-cded-7bf5d1bb5c11"
      },
      "source": [
        "ds = tf.data.Dataset.range(10)\n",
        "ds = ds.window(5, shift=1, drop_remainder=True)\n",
        "for d in ds:\n",
        "    print(list(d.as_numpy_iterator()))"
      ],
      "execution_count": 11,
      "outputs": [
        {
          "output_type": "stream",
          "text": [
            "[0, 1, 2, 3, 4]\n",
            "[1, 2, 3, 4, 5]\n",
            "[2, 3, 4, 5, 6]\n",
            "[3, 4, 5, 6, 7]\n",
            "[4, 5, 6, 7, 8]\n",
            "[5, 6, 7, 8, 9]\n"
          ],
          "name": "stdout"
        }
      ]
    },
    {
      "cell_type": "markdown",
      "metadata": {
        "id": "EgHr18Fg0012"
      },
      "source": [
        "- `shift=2`로 설정 시 2칸씩 건너뛰어 생"
      ]
    },
    {
      "cell_type": "code",
      "metadata": {
        "colab": {
          "base_uri": "https://localhost:8080/"
        },
        "id": "bdoxwKk41I5w",
        "outputId": "1b11996e-819f-4797-ccbb-c00f842d0a8c"
      },
      "source": [
        "ds = tf.data.Dataset.range(10)\n",
        "ds = ds.window(5, shift=2, drop_remainder=True)\n",
        "for d in ds:\n",
        "    print(list(d.as_numpy_iterator()))"
      ],
      "execution_count": 12,
      "outputs": [
        {
          "output_type": "stream",
          "text": [
            "[0, 1, 2, 3, 4]\n",
            "[2, 3, 4, 5, 6]\n",
            "[4, 5, 6, 7, 8]\n"
          ],
          "name": "stdout"
        }
      ]
    },
    {
      "cell_type": "markdown",
      "metadata": {
        "id": "8jRpjE6Z1SXL"
      },
      "source": [
        "# 9. flat_map\n",
        "- `map`함수를 Dataset 클래스에 적용하며 flatten한 결과 반환"
      ]
    },
    {
      "cell_type": "code",
      "metadata": {
        "colab": {
          "base_uri": "https://localhost:8080/"
        },
        "id": "Lk3utjLg0wHJ",
        "outputId": "56b01bf4-518f-4afc-c5bf-6469c761593c"
      },
      "source": [
        "ds = tf.data.Dataset.range(10)\n",
        "ds = ds.window(5, shift=1, drop_remainder=True)\n",
        "for d in ds:\n",
        "    print(d)"
      ],
      "execution_count": 13,
      "outputs": [
        {
          "output_type": "stream",
          "text": [
            "<_VariantDataset shapes: (), types: tf.int64>\n",
            "<_VariantDataset shapes: (), types: tf.int64>\n",
            "<_VariantDataset shapes: (), types: tf.int64>\n",
            "<_VariantDataset shapes: (), types: tf.int64>\n",
            "<_VariantDataset shapes: (), types: tf.int64>\n",
            "<_VariantDataset shapes: (), types: tf.int64>\n"
          ],
          "name": "stdout"
        }
      ]
    },
    {
      "cell_type": "markdown",
      "metadata": {
        "id": "LCEUwKgI1hIx"
      },
      "source": [
        "- `flat_map` 적용하지 않은 케이스"
      ]
    },
    {
      "cell_type": "code",
      "metadata": {
        "colab": {
          "base_uri": "https://localhost:8080/"
        },
        "id": "SIkNN3cG1dRY",
        "outputId": "15322bd1-43eb-4b45-f24e-4b6df09752c0"
      },
      "source": [
        "ds = tf.data.Dataset.range(10)\n",
        "ds = ds.window(5, shift=1, drop_remainder=True)\n",
        "ds = ds.flat_map(lambda w: w.batch(5))\n",
        "for d in ds:\n",
        "    print(d)"
      ],
      "execution_count": 14,
      "outputs": [
        {
          "output_type": "stream",
          "text": [
            "tf.Tensor([0 1 2 3 4], shape=(5,), dtype=int64)\n",
            "tf.Tensor([1 2 3 4 5], shape=(5,), dtype=int64)\n",
            "tf.Tensor([2 3 4 5 6], shape=(5,), dtype=int64)\n",
            "tf.Tensor([3 4 5 6 7], shape=(5,), dtype=int64)\n",
            "tf.Tensor([4 5 6 7 8], shape=(5,), dtype=int64)\n",
            "tf.Tensor([5 6 7 8 9], shape=(5,), dtype=int64)\n"
          ],
          "name": "stdout"
        }
      ]
    },
    {
      "cell_type": "markdown",
      "metadata": {
        "id": "BpzGjmi_1vBD"
      },
      "source": [
        "- `flat_map` 적용한 케이스"
      ]
    },
    {
      "cell_type": "markdown",
      "metadata": {
        "id": "QqOG7ueE17b6"
      },
      "source": [
        "# 10. shuffle\n",
        "- 데이터셋을 무작위로 섞음\n"
      ]
    },
    {
      "cell_type": "code",
      "metadata": {
        "colab": {
          "base_uri": "https://localhost:8080/"
        },
        "id": "b_Su9ngF1sf4",
        "outputId": "b4c886bd-f544-46f6-b807-348312feb4f1"
      },
      "source": [
        "# shuffle 하지 않은 경우\n",
        "import numpy as np\n",
        "ds = tf.data.Dataset.from_tensor_slices(np.arange(10))\n",
        "for d in ds:\n",
        "    print(d)"
      ],
      "execution_count": 16,
      "outputs": [
        {
          "output_type": "stream",
          "text": [
            "tf.Tensor(0, shape=(), dtype=int64)\n",
            "tf.Tensor(1, shape=(), dtype=int64)\n",
            "tf.Tensor(2, shape=(), dtype=int64)\n",
            "tf.Tensor(3, shape=(), dtype=int64)\n",
            "tf.Tensor(4, shape=(), dtype=int64)\n",
            "tf.Tensor(5, shape=(), dtype=int64)\n",
            "tf.Tensor(6, shape=(), dtype=int64)\n",
            "tf.Tensor(7, shape=(), dtype=int64)\n",
            "tf.Tensor(8, shape=(), dtype=int64)\n",
            "tf.Tensor(9, shape=(), dtype=int64)\n"
          ],
          "name": "stdout"
        }
      ]
    },
    {
      "cell_type": "code",
      "metadata": {
        "colab": {
          "base_uri": "https://localhost:8080/"
        },
        "id": "FCTlKofX2Fqp",
        "outputId": "2034d6da-17b1-4f67-bde8-71f72b5244bc"
      },
      "source": [
        "# shuffle 한 경우\n",
        "ds = tf.data.Dataset.from_tensor_slices(np.arange(10)).shuffle(buffer_size=5)\n",
        "for d in ds:\n",
        "    print(d)"
      ],
      "execution_count": 17,
      "outputs": [
        {
          "output_type": "stream",
          "text": [
            "tf.Tensor(4, shape=(), dtype=int64)\n",
            "tf.Tensor(1, shape=(), dtype=int64)\n",
            "tf.Tensor(5, shape=(), dtype=int64)\n",
            "tf.Tensor(7, shape=(), dtype=int64)\n",
            "tf.Tensor(2, shape=(), dtype=int64)\n",
            "tf.Tensor(3, shape=(), dtype=int64)\n",
            "tf.Tensor(8, shape=(), dtype=int64)\n",
            "tf.Tensor(0, shape=(), dtype=int64)\n",
            "tf.Tensor(9, shape=(), dtype=int64)\n",
            "tf.Tensor(6, shape=(), dtype=int64)\n"
          ],
          "name": "stdout"
        }
      ]
    },
    {
      "cell_type": "markdown",
      "metadata": {
        "id": "SRumJCvk2QyQ"
      },
      "source": [
        "# 11.map\n",
        "- `map` 함수를 Dataset에 적용\n",
        "- 데이터셋을 입력 데이터와 레이블 데이터로 분리할 때 활용 가능"
      ]
    },
    {
      "cell_type": "code",
      "metadata": {
        "colab": {
          "base_uri": "https://localhost:8080/"
        },
        "id": "yjBXenTb2OZY",
        "outputId": "fb2177a4-cd7e-44c5-bc6b-82c07a545cd9"
      },
      "source": [
        "window_size = 5\n",
        "\n",
        "ds = tf.data.Dataset.range(10)\n",
        "ds = ds.window(window_size, shift=1, drop_remainder=True)\n",
        "ds = ds.flat_map(lambda w: w.batch(window_size))\n",
        "ds = ds.shuffle(10)\n",
        "\n",
        "ds = ds.map(lambda x:(x[:-2], x[-2:]))\n",
        "for x, y in ds:\n",
        "    print('train set: {}'.format(x))\n",
        "    print('label set: {}'.format(y))\n",
        "    print('===' * 10)"
      ],
      "execution_count": 18,
      "outputs": [
        {
          "output_type": "stream",
          "text": [
            "train set: [0 1 2]\n",
            "label set: [3 4]\n",
            "==============================\n",
            "train set: [4 5 6]\n",
            "label set: [7 8]\n",
            "==============================\n",
            "train set: [1 2 3]\n",
            "label set: [4 5]\n",
            "==============================\n",
            "train set: [3 4 5]\n",
            "label set: [6 7]\n",
            "==============================\n",
            "train set: [2 3 4]\n",
            "label set: [5 6]\n",
            "==============================\n",
            "train set: [5 6 7]\n",
            "label set: [8 9]\n",
            "==============================\n"
          ],
          "name": "stdout"
        }
      ]
    },
    {
      "cell_type": "code",
      "metadata": {
        "id": "AKfW-Pys3iuW"
      },
      "source": [
        ""
      ],
      "execution_count": null,
      "outputs": []
    }
  ]
}