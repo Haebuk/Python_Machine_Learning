{
  "nbformat": 4,
  "nbformat_minor": 0,
  "metadata": {
    "colab": {
      "name": "09_텐서플로_데이터셋.ipynb",
      "provenance": []
    },
    "kernelspec": {
      "name": "python3",
      "display_name": "Python 3"
    },
    "language_info": {
      "name": "python"
    },
    "accelerator": "GPU"
  },
  "cells": [
    {
      "cell_type": "markdown",
      "metadata": {
        "id": "XRIdkDqoUyNY"
      },
      "source": [
        "# 1. 개요\n",
        "- 훈련에 필요한 다양한 데이터셋"
      ]
    },
    {
      "cell_type": "markdown",
      "metadata": {
        "id": "aOeDE7l1U2KC"
      },
      "source": [
        "# 2. 설치\n",
        "- `pip install tensorflow-datasets`\n",
        "- 코랩은 생략"
      ]
    },
    {
      "cell_type": "markdown",
      "metadata": {
        "id": "QGVf7q5gU9DB"
      },
      "source": [
        "# 3. 데이터셋 로드\n",
        "- tfds 별칭(alias) 사용"
      ]
    },
    {
      "cell_type": "code",
      "metadata": {
        "id": "FRO7P3KIUuE5"
      },
      "source": [
        "import tensorflow_datasets as tfds"
      ],
      "execution_count": 1,
      "outputs": []
    },
    {
      "cell_type": "code",
      "metadata": {
        "colab": {
          "base_uri": "https://localhost:8080/"
        },
        "id": "zxO4nGisVFY0",
        "outputId": "38868d33-f053-415e-89c6-754dd1a5dd65"
      },
      "source": [
        "# cifar100 이름 지정\n",
        "dataset_name = 'cifar100'\n",
        "# 데이터셋 로드\n",
        "ds = tfds.load(dataset_name, split='train')\n",
        "ds"
      ],
      "execution_count": 3,
      "outputs": [
        {
          "output_type": "execute_result",
          "data": {
            "text/plain": [
              "<PrefetchDataset shapes: {coarse_label: (), id: (), image: (32, 32, 3), label: ()}, types: {coarse_label: tf.int64, id: tf.string, image: tf.uint8, label: tf.int64}>"
            ]
          },
          "metadata": {
            "tags": []
          },
          "execution_count": 3
        }
      ]
    },
    {
      "cell_type": "markdown",
      "metadata": {
        "id": "YcoYVzRFVgUl"
      },
      "source": [
        "- `split`은 로드할 데이터셋의 스플릿 지정\n",
        "- 문서를 확인 후 지정"
      ]
    },
    {
      "cell_type": "code",
      "metadata": {
        "colab": {
          "base_uri": "https://localhost:8080/"
        },
        "id": "TIIod6z3VQD8",
        "outputId": "2b17608c-784c-415a-af32-c479437a397b"
      },
      "source": [
        "# 5개의 데이터 출력\n",
        "for data in ds.take(5):\n",
        "    print(type(data))"
      ],
      "execution_count": 4,
      "outputs": [
        {
          "output_type": "stream",
          "text": [
            "<class 'dict'>\n",
            "<class 'dict'>\n",
            "<class 'dict'>\n",
            "<class 'dict'>\n",
            "<class 'dict'>\n"
          ],
          "name": "stdout"
        }
      ]
    },
    {
      "cell_type": "markdown",
      "metadata": {
        "id": "0YzuzVIxVsY9"
      },
      "source": [
        "- 반복문 수행으로 개별 데이터 확인, `take`로 일부 출력\n",
        "- 개별 데이터는 딕셔너리 형태"
      ]
    },
    {
      "cell_type": "code",
      "metadata": {
        "colab": {
          "base_uri": "https://localhost:8080/"
        },
        "id": "d-yYF4vGVrxs",
        "outputId": "a1742082-49f8-4127-c19c-b648f29ee815"
      },
      "source": [
        "for data in ds.take(5):\n",
        "    # image\n",
        "    image = data['image']\n",
        "    # label\n",
        "    label = data['label']\n",
        "    print(image.shape)\n",
        "    print(label)"
      ],
      "execution_count": 5,
      "outputs": [
        {
          "output_type": "stream",
          "text": [
            "(32, 32, 3)\n",
            "tf.Tensor(66, shape=(), dtype=int64)\n",
            "(32, 32, 3)\n",
            "tf.Tensor(23, shape=(), dtype=int64)\n",
            "(32, 32, 3)\n",
            "tf.Tensor(40, shape=(), dtype=int64)\n",
            "(32, 32, 3)\n",
            "tf.Tensor(39, shape=(), dtype=int64)\n",
            "(32, 32, 3)\n",
            "tf.Tensor(7, shape=(), dtype=int64)\n"
          ],
          "name": "stdout"
        }
      ]
    },
    {
      "cell_type": "markdown",
      "metadata": {
        "id": "Zp_1teYxV_Ti"
      },
      "source": [
        "- shape은 (32, 32, 3)\n",
        "- label은 0~99의 값 중 하나"
      ]
    },
    {
      "cell_type": "code",
      "metadata": {
        "colab": {
          "base_uri": "https://localhost:8080/"
        },
        "id": "5SodV9uRV3Rr",
        "outputId": "b6c3e202-40b0-4eb4-ce61-c14ca5f33514"
      },
      "source": [
        "# as_supervised = True는 튜플 형식으로 x, y 데이터 로드\n",
        "ds = tfds.load(dataset_name, split='train', as_supervised=True)\n",
        "\n",
        "for image, label in ds.take(5):\n",
        "    print(image.shape, label)"
      ],
      "execution_count": 6,
      "outputs": [
        {
          "output_type": "stream",
          "text": [
            "(32, 32, 3) tf.Tensor(66, shape=(), dtype=int64)\n",
            "(32, 32, 3) tf.Tensor(23, shape=(), dtype=int64)\n",
            "(32, 32, 3) tf.Tensor(40, shape=(), dtype=int64)\n",
            "(32, 32, 3) tf.Tensor(39, shape=(), dtype=int64)\n",
            "(32, 32, 3) tf.Tensor(7, shape=(), dtype=int64)\n"
          ],
          "name": "stdout"
        }
      ]
    },
    {
      "cell_type": "markdown",
      "metadata": {
        "id": "7ik3_MokWcnS"
      },
      "source": [
        "- 튜플 형식으로 데이터셋 로드 시 키 값을 확인하지 않아도 됨"
      ]
    },
    {
      "cell_type": "code",
      "metadata": {
        "colab": {
          "base_uri": "https://localhost:8080/"
        },
        "id": "fHFUFLh2WU5c",
        "outputId": "d04c8086-0f39-43a9-e8c9-9b4149a0c38f"
      },
      "source": [
        "# with_info = True로 데이터셋의 정보 로드\n",
        "ds, info = tfds.load(dataset_name, split='train', with_info=True)\n",
        "\n",
        "# info 확인\n",
        "info"
      ],
      "execution_count": 7,
      "outputs": [
        {
          "output_type": "execute_result",
          "data": {
            "text/plain": [
              "tfds.core.DatasetInfo(\n",
              "    name='cifar100',\n",
              "    version=3.0.2,\n",
              "    description='This dataset is just like the CIFAR-10, except it has 100 classes containing 600 images each. There are 500 training images and 100 testing images per class. The 100 classes in the CIFAR-100 are grouped into 20 superclasses. Each image comes with a \"fine\" label (the class to which it belongs) and a \"coarse\" label (the superclass to which it belongs).',\n",
              "    homepage='https://www.cs.toronto.edu/~kriz/cifar.html',\n",
              "    features=FeaturesDict({\n",
              "        'coarse_label': ClassLabel(shape=(), dtype=tf.int64, num_classes=20),\n",
              "        'id': Text(shape=(), dtype=tf.string),\n",
              "        'image': Image(shape=(32, 32, 3), dtype=tf.uint8),\n",
              "        'label': ClassLabel(shape=(), dtype=tf.int64, num_classes=100),\n",
              "    }),\n",
              "    total_num_examples=60000,\n",
              "    splits={\n",
              "        'test': 10000,\n",
              "        'train': 50000,\n",
              "    },\n",
              "    supervised_keys=('image', 'label'),\n",
              "    citation=\"\"\"@TECHREPORT{Krizhevsky09learningmultiple,\n",
              "        author = {Alex Krizhevsky},\n",
              "        title = {Learning multiple layers of features from tiny images},\n",
              "        institution = {},\n",
              "        year = {2009}\n",
              "    }\"\"\",\n",
              "    redistribution_info=,\n",
              ")"
            ]
          },
          "metadata": {
            "tags": []
          },
          "execution_count": 7
        }
      ]
    },
    {
      "cell_type": "markdown",
      "metadata": {
        "id": "J5rMIs3FWqRv"
      },
      "source": [
        "- 공식문서를 확인하거나 이 방법 중 하나 선택"
      ]
    },
    {
      "cell_type": "code",
      "metadata": {
        "id": "yw-uarxVWpQT"
      },
      "source": [
        ""
      ],
      "execution_count": null,
      "outputs": []
    }
  ]
}