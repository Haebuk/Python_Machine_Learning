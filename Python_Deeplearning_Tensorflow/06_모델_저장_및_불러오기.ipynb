{
  "nbformat": 4,
  "nbformat_minor": 0,
  "metadata": {
    "colab": {
      "name": "06_모델_저장_및_불러오기.ipynb",
      "provenance": []
    },
    "kernelspec": {
      "name": "python3",
      "display_name": "Python 3"
    },
    "language_info": {
      "name": "python"
    },
    "accelerator": "GPU"
  },
  "cells": [
    {
      "cell_type": "code",
      "metadata": {
        "colab": {
          "base_uri": "https://localhost:8080/"
        },
        "id": "MaZg2EiuyzQH",
        "outputId": "eaddefce-088c-450e-8f40-18a9a4da6a04"
      },
      "source": [
        "import tensorflow as tf\n",
        "from tensorflow.keras.layers import Dense, Flatten\n",
        "from tensorflow.keras import Sequential\n",
        "\n",
        "mnist = tf.keras.datasets.mnist\n",
        "\n",
        "(x_train, y_train), (x_test, y_test) = mnist.load_data()\n",
        "\n",
        "x_train = x_train / x_train.max()\n",
        "x_test = x_test / x_test.max()\n",
        "\n",
        "model = Sequential([\n",
        "    Flatten(input_shape=(28, 28)),\n",
        "    Dense(256, activation='relu'),\n",
        "    Dense(64, activation='relu'),\n",
        "    Dense(32, activation='relu'),\n",
        "    Dense(10, activation='softmax'),\n",
        "])\n",
        "\n",
        "model.compile(optimizer='adam', loss='sparse_categorical_crossentropy', metrics=['acc'])\n",
        "\n",
        "model.fit(x_train, y_train,\n",
        "          validation_data=(x_test, y_test),\n",
        "          epochs=10,)"
      ],
      "execution_count": 4,
      "outputs": [
        {
          "output_type": "stream",
          "text": [
            "Epoch 1/10\n",
            "1875/1875 [==============================] - 6s 2ms/step - loss: 0.2345 - acc: 0.9306 - val_loss: 0.1484 - val_acc: 0.9560\n",
            "Epoch 2/10\n",
            "1875/1875 [==============================] - 4s 2ms/step - loss: 0.0952 - acc: 0.9704 - val_loss: 0.0910 - val_acc: 0.9726\n",
            "Epoch 3/10\n",
            "1875/1875 [==============================] - 4s 2ms/step - loss: 0.0657 - acc: 0.9797 - val_loss: 0.0869 - val_acc: 0.9748\n",
            "Epoch 4/10\n",
            "1875/1875 [==============================] - 4s 2ms/step - loss: 0.0517 - acc: 0.9838 - val_loss: 0.0993 - val_acc: 0.9722\n",
            "Epoch 5/10\n",
            "1875/1875 [==============================] - 4s 2ms/step - loss: 0.0403 - acc: 0.9872 - val_loss: 0.0985 - val_acc: 0.9729\n",
            "Epoch 6/10\n",
            "1875/1875 [==============================] - 4s 2ms/step - loss: 0.0326 - acc: 0.9893 - val_loss: 0.0885 - val_acc: 0.9779\n",
            "Epoch 7/10\n",
            "1875/1875 [==============================] - 4s 2ms/step - loss: 0.0290 - acc: 0.9906 - val_loss: 0.1014 - val_acc: 0.9739\n",
            "Epoch 8/10\n",
            "1875/1875 [==============================] - 4s 2ms/step - loss: 0.0243 - acc: 0.9921 - val_loss: 0.0862 - val_acc: 0.9767\n",
            "Epoch 9/10\n",
            "1875/1875 [==============================] - 4s 2ms/step - loss: 0.0225 - acc: 0.9924 - val_loss: 0.0947 - val_acc: 0.9760\n",
            "Epoch 10/10\n",
            "1875/1875 [==============================] - 4s 2ms/step - loss: 0.0198 - acc: 0.9930 - val_loss: 0.0967 - val_acc: 0.9780\n"
          ],
          "name": "stdout"
        },
        {
          "output_type": "execute_result",
          "data": {
            "text/plain": [
              "<tensorflow.python.keras.callbacks.History at 0x7f5d5da9f310>"
            ]
          },
          "metadata": {
            "tags": []
          },
          "execution_count": 4
        }
      ]
    },
    {
      "cell_type": "markdown",
      "metadata": {
        "id": "QcSx4TN60Iua"
      },
      "source": [
        "# 1. 모델을 파일로 저장\n",
        "- 훈련 종료 후 가중치가 업데이트된 모델 인스턴스 저장 가능\n",
        "- `save()` 메소드 사용, 저장할 파일의 디렉토리를 포함하는 파일명을 매개변수로 지정\n",
        "- .h5 확장자를 포함하는 경우 모델이 HDF5 포맷으로 저장. HDF5 파일 형식은 대용량의 데이터를 저장하기 위한 파일 형식"
      ]
    },
    {
      "cell_type": "code",
      "metadata": {
        "id": "W_PvFLK5zOfs"
      },
      "source": [
        "# 모델을 h5 포맷으로 저장\n",
        "model.save('h5-model.h5')"
      ],
      "execution_count": 5,
      "outputs": []
    },
    {
      "cell_type": "markdown",
      "metadata": {
        "id": "nEyKJlst0x_W"
      },
      "source": [
        "# 2. 저장된 모델 복원\n"
      ]
    },
    {
      "cell_type": "code",
      "metadata": {
        "colab": {
          "base_uri": "https://localhost:8080/"
        },
        "id": "DVAh_Wtq0wfV",
        "outputId": "94b22430-637f-441a-bc6f-e5b7994e612b"
      },
      "source": [
        "# 모델 복원\n",
        "h5_model = tf.keras.models.load_model('h5-model.h5')\n",
        "h5_model.summary()"
      ],
      "execution_count": 6,
      "outputs": [
        {
          "output_type": "stream",
          "text": [
            "Model: \"sequential\"\n",
            "_________________________________________________________________\n",
            "Layer (type)                 Output Shape              Param #   \n",
            "=================================================================\n",
            "flatten (Flatten)            (None, 784)               0         \n",
            "_________________________________________________________________\n",
            "dense (Dense)                (None, 256)               200960    \n",
            "_________________________________________________________________\n",
            "dense_1 (Dense)              (None, 64)                16448     \n",
            "_________________________________________________________________\n",
            "dense_2 (Dense)              (None, 32)                2080      \n",
            "_________________________________________________________________\n",
            "dense_3 (Dense)              (None, 10)                330       \n",
            "=================================================================\n",
            "Total params: 219,818\n",
            "Trainable params: 219,818\n",
            "Non-trainable params: 0\n",
            "_________________________________________________________________\n"
          ],
          "name": "stdout"
        }
      ]
    },
    {
      "cell_type": "code",
      "metadata": {
        "colab": {
          "base_uri": "https://localhost:8080/"
        },
        "id": "FY3pvuwb089_",
        "outputId": "618e8d77-fd65-4579-f32a-30e78060b80b"
      },
      "source": [
        "# 모델 검증\n",
        "loss, acc = h5_model.evaluate(x_test, y_test, verbose=0)\n",
        "print(f'h5 model] loss: {loss:.5f}, acc:{acc:.5f}')"
      ],
      "execution_count": 7,
      "outputs": [
        {
          "output_type": "stream",
          "text": [
            "h5 model] loss: 0.09665, acc:0.97800\n"
          ],
          "name": "stdout"
        }
      ]
    },
    {
      "cell_type": "markdown",
      "metadata": {
        "id": "B-664pAy1VQP"
      },
      "source": [
        "- 복원 모델을 검증 -> 복원이 잘 됐는지 확인\n",
        "- h5 확장자를 샐갹하면 SavedModel 포맷으로 저장 -> 텐서플로2에서 기본으로 지원하는 포맷"
      ]
    },
    {
      "cell_type": "code",
      "metadata": {
        "colab": {
          "base_uri": "https://localhost:8080/"
        },
        "id": "NDSot8YG1ISf",
        "outputId": "99107771-ea23-4a87-97e5-b2dbaab46bbc"
      },
      "source": [
        "# 모델을 SavedModel 포맷으로 저장\n",
        "model.save('saved-model')"
      ],
      "execution_count": 8,
      "outputs": [
        {
          "output_type": "stream",
          "text": [
            "INFO:tensorflow:Assets written to: saved-model/assets\n"
          ],
          "name": "stdout"
        }
      ]
    },
    {
      "cell_type": "code",
      "metadata": {
        "colab": {
          "base_uri": "https://localhost:8080/"
        },
        "id": "hYw19XS71n9x",
        "outputId": "d02c8b7d-ab9a-46ca-f74b-377caa4c08d0"
      },
      "source": [
        "# 모델 복원\n",
        "saved_model = tf.keras.models.load_model('saved-model')\n",
        "saved_model.summary()"
      ],
      "execution_count": 9,
      "outputs": [
        {
          "output_type": "stream",
          "text": [
            "Model: \"sequential\"\n",
            "_________________________________________________________________\n",
            "Layer (type)                 Output Shape              Param #   \n",
            "=================================================================\n",
            "flatten (Flatten)            (None, 784)               0         \n",
            "_________________________________________________________________\n",
            "dense (Dense)                (None, 256)               200960    \n",
            "_________________________________________________________________\n",
            "dense_1 (Dense)              (None, 64)                16448     \n",
            "_________________________________________________________________\n",
            "dense_2 (Dense)              (None, 32)                2080      \n",
            "_________________________________________________________________\n",
            "dense_3 (Dense)              (None, 10)                330       \n",
            "=================================================================\n",
            "Total params: 219,818\n",
            "Trainable params: 219,818\n",
            "Non-trainable params: 0\n",
            "_________________________________________________________________\n"
          ],
          "name": "stdout"
        }
      ]
    },
    {
      "cell_type": "code",
      "metadata": {
        "colab": {
          "base_uri": "https://localhost:8080/"
        },
        "id": "b_Y2c0Y21wlT",
        "outputId": "716bec6d-bfc9-470a-eaa1-fa298a65efa8"
      },
      "source": [
        "# 모델 검증(HDF5)\n",
        "loss, acc = h5_model.evaluate(x_test, y_test, verbose=0)\n",
        "print(f'h5 model] loss: {loss:.5f}, acc: {acc:.5f}')\n",
        "\n",
        "# 모델 검증(SavedModel)\n",
        "loss, acc = saved_model.evaluate(x_test, y_test, verbose=0)\n",
        "print(f'SavedModel] loss: {loss:.5f}, acc: {acc:.5f}')"
      ],
      "execution_count": 10,
      "outputs": [
        {
          "output_type": "stream",
          "text": [
            "h5 model] loss: 0.09665, acc: 0.97800\n",
            "SavedModel] loss: 0.09665, acc: 0.97800\n"
          ],
          "name": "stdout"
        }
      ]
    },
    {
      "cell_type": "markdown",
      "metadata": {
        "id": "aaRbFovt2UiZ"
      },
      "source": [
        "- 두 방식으로 저장 및 복원된 모델의 성능이 동일함을 확인"
      ]
    },
    {
      "cell_type": "code",
      "metadata": {
        "id": "GqOumQAz2TLW"
      },
      "source": [
        ""
      ],
      "execution_count": null,
      "outputs": []
    }
  ]
}