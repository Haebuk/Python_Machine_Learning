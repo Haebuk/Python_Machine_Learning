{
  "nbformat": 4,
  "nbformat_minor": 0,
  "metadata": {
    "colab": {
      "name": "2_간단한_모델_생성.ipynb",
      "provenance": []
    },
    "kernelspec": {
      "name": "python3",
      "display_name": "Python 3"
    },
    "language_info": {
      "name": "python"
    },
    "accelerator": "GPU"
  },
  "cells": [
    {
      "cell_type": "markdown",
      "metadata": {
        "id": "wjy_0E78gkjj"
      },
      "source": [
        "# 1. 데이터 로드 및 전처리"
      ]
    },
    {
      "cell_type": "code",
      "metadata": {
        "colab": {
          "base_uri": "https://localhost:8080/"
        },
        "id": "ad0VLAX-gdyR",
        "outputId": "93bf910e-944b-47b5-dc38-5917f3d82adf"
      },
      "source": [
        "import tensorflow as tf\n",
        "\n",
        "mnist = tf.keras.datasets.mnist\n",
        "(x_train, y_train), (x_test, y_test) = mnist.load_data()\n",
        "\n",
        "print(x_train.shape, y_train.shape)\n",
        "print(x_test.shape, y_test.shape)"
      ],
      "execution_count": 1,
      "outputs": [
        {
          "output_type": "stream",
          "text": [
            "Downloading data from https://storage.googleapis.com/tensorflow/tf-keras-datasets/mnist.npz\n",
            "11493376/11490434 [==============================] - 0s 0us/step\n",
            "(60000, 28, 28) (60000,)\n",
            "(10000, 28, 28) (10000,)\n"
          ],
          "name": "stdout"
        }
      ]
    },
    {
      "cell_type": "code",
      "metadata": {
        "colab": {
          "base_uri": "https://localhost:8080/",
          "height": 303
        },
        "id": "_udbSYwBg0dI",
        "outputId": "10f8d727-b8d0-49e6-8938-c2f97f0ea5f8"
      },
      "source": [
        "# 샘플 이미지 출력\n",
        "import matplotlib.pyplot as plt\n",
        "\n",
        "def plot_image(data, idx):\n",
        "    plt.figure(figsize=(5, 5))\n",
        "    plt.imshow(data[idx], cmap='gray')\n",
        "    plt.axis('off')\n",
        "    plt.show()\n",
        "\n",
        "plot_image(x_train, 0)"
      ],
      "execution_count": 2,
      "outputs": [
        {
          "output_type": "display_data",
          "data": {
            "image/png": "[encoded data removed]",
            "text/plain": [
              "<Figure size 360x360 with 1 Axes>"
            ]
          },
          "metadata": {
            "tags": [],
            "needs_background": "light"
          }
        }
      ]
    },
    {
      "cell_type": "code",
      "metadata": {
        "colab": {
          "base_uri": "https://localhost:8080/"
        },
        "id": "BB0PzthFhC2w",
        "outputId": "ca37e04a-53c7-49aa-a4f8-e1135c0f8c31"
      },
      "source": [
        "print(x_train.min(), x_train.max())\n",
        "print(x_test.min(), x_test.max())"
      ],
      "execution_count": 3,
      "outputs": [
        {
          "output_type": "stream",
          "text": [
            "0 255\n",
            "0 255\n"
          ],
          "name": "stdout"
        }
      ]
    },
    {
      "cell_type": "code",
      "metadata": {
        "id": "ZjdAgTn9hIA4"
      },
      "source": [
        "# 정규화\n",
        "x_train = x_train / 255.0\n",
        "x_test = x_test / 255.0"
      ],
      "execution_count": 4,
      "outputs": []
    },
    {
      "cell_type": "code",
      "metadata": {
        "colab": {
          "base_uri": "https://localhost:8080/"
        },
        "id": "oYr4-IxvhOew",
        "outputId": "af831ab4-afc3-4f17-e305-b6317101ed06"
      },
      "source": [
        "print(x_train.min(), x_train.max())\n",
        "print(x_test.min(), x_test.max())"
      ],
      "execution_count": 5,
      "outputs": [
        {
          "output_type": "stream",
          "text": [
            "0.0 1.0\n",
            "0.0 1.0\n"
          ],
          "name": "stdout"
        }
      ]
    },
    {
      "cell_type": "markdown",
      "metadata": {
        "id": "wx72jitahUK6"
      },
      "source": [
        "- mnist 데이터셋은 색상 채널이 1개\n",
        "- CNN 모델에 주입하기 위해 색상을 나타내는 채널 추가\n",
        "- 가장 마지막 축에 채널 추가: `[..., tf.newaxis]`\n",
        "- 가장 앞에 차원 추가: `[tf.newaxis, ...]`\n",
        "- 두번째에 차원 추가: `[:, tf.newaxis, :, :]`"
      ]
    },
    {
      "cell_type": "code",
      "metadata": {
        "colab": {
          "base_uri": "https://localhost:8080/"
        },
        "id": "cvSx9J6UhTWY",
        "outputId": "92e8c60d-4e91-48d7-8188-33aa7064d8cc"
      },
      "source": [
        "# 채널 추가\n",
        "print(x_train.shape, x_test.shape)\n",
        "\n",
        "x_train_in = x_train[..., tf.newaxis]\n",
        "x_test_in = x_test[..., tf.newaxis]\n",
        "\n",
        "print(x_train_in.shape, x_test_in.shape)"
      ],
      "execution_count": 6,
      "outputs": [
        {
          "output_type": "stream",
          "text": [
            "(60000, 28, 28) (10000, 28, 28)\n",
            "(60000, 28, 28, 1) (10000, 28, 28, 1)\n"
          ],
          "name": "stdout"
        }
      ]
    },
    {
      "cell_type": "markdown",
      "metadata": {
        "id": "2pRUgWUnh6C2"
      },
      "source": [
        "# 2. Sequential API로 모델 생성 및 학습\n",
        "- 합성곱 레이어 1개, 풀링 레이어 1개\n",
        "- 최종 분류 Dense 레이어 -> Flatten 층을 추가하여 1차원 배열로 펼쳐줌\n",
        "- 합성곱 -> Conv2D 레이어, (3, 3) 크기의 서로 다른 32가지 종류의 커널, ReLU 활성화 함수\n",
        "- 풀링 레이어 -> (2, 2) 크기로 최대 풀링(max pooling)\n",
        "- 마지막은 10개 클래스 분류 -> sofrmax 활성화 함수\n"
      ]
    },
    {
      "cell_type": "code",
      "metadata": {
        "id": "HuVvR_WRhoYQ"
      },
      "source": [
        "# Sequential API 사용하여 샘플 모델 생성\n",
        "model = tf.keras.Sequential([\n",
        "    # Convolution 적용(32 필터)\n",
        "    tf.keras.layers.Conv2D(32, (3, 3), activation='relu', input_shape=(28, 28, 1), name='conv'),\n",
        "    # Max Pooling 적용\n",
        "    tf.keras.layers.MaxPooling2D((2, 2), name='pool'),\n",
        "    # Classifier 출력층\n",
        "    tf.keras.layers.Flatten(),\n",
        "    tf.keras.layers.Dense(10, activation='softmax'),\n",
        "])"
      ],
      "execution_count": 7,
      "outputs": []
    },
    {
      "cell_type": "markdown",
      "metadata": {
        "id": "QRRWFqoni7pB"
      },
      "source": [
        "- 앞서 정의한 모델 구조에 옵티마이저, 손실함수, 평가지표 설정 -> 컴파일 -> 모델 인스턴스 생성\n",
        "- `fit()` 메소드에 훈련 셋과 검증 셋 주입, epoch=10"
      ]
    },
    {
      "cell_type": "code",
      "metadata": {
        "colab": {
          "base_uri": "https://localhost:8080/"
        },
        "id": "Aezmhce9i255",
        "outputId": "2ab2d50a-bcb0-41dd-b428-9f273abb78a4"
      },
      "source": [
        "# 모델 컴파일\n",
        "model.compile(optimizer='adam', loss='sparse_categorical_crossentropy', metrics=['acc'])\n",
        "# 모델 훈련\n",
        "history = model.fit(x_train_in, y_train,\n",
        "          validation_data=(x_test_in, y_test),\n",
        "          epochs=10)"
      ],
      "execution_count": 11,
      "outputs": [
        {
          "output_type": "stream",
          "text": [
            "Epoch 1/10\n",
            "1875/1875 [==============================] - 5s 2ms/step - loss: 0.0167 - acc: 0.9949 - val_loss: 0.0581 - val_acc: 0.9843\n",
            "Epoch 2/10\n",
            "1875/1875 [==============================] - 4s 2ms/step - loss: 0.0139 - acc: 0.9961 - val_loss: 0.0570 - val_acc: 0.9846\n",
            "Epoch 3/10\n",
            "1875/1875 [==============================] - 4s 2ms/step - loss: 0.0120 - acc: 0.9963 - val_loss: 0.0580 - val_acc: 0.9840\n",
            "Epoch 4/10\n",
            "1875/1875 [==============================] - 4s 2ms/step - loss: 0.0099 - acc: 0.9970 - val_loss: 0.0605 - val_acc: 0.9842\n",
            "Epoch 5/10\n",
            "1875/1875 [==============================] - 4s 2ms/step - loss: 0.0083 - acc: 0.9978 - val_loss: 0.0609 - val_acc: 0.9840\n",
            "Epoch 6/10\n",
            "1875/1875 [==============================] - 4s 2ms/step - loss: 0.0071 - acc: 0.9981 - val_loss: 0.0652 - val_acc: 0.9854\n",
            "Epoch 7/10\n",
            "1875/1875 [==============================] - 4s 2ms/step - loss: 0.0063 - acc: 0.9982 - val_loss: 0.0687 - val_acc: 0.9838\n",
            "Epoch 8/10\n",
            "1875/1875 [==============================] - 4s 2ms/step - loss: 0.0051 - acc: 0.9987 - val_loss: 0.0609 - val_acc: 0.9845\n",
            "Epoch 9/10\n",
            "1875/1875 [==============================] - 4s 2ms/step - loss: 0.0054 - acc: 0.9983 - val_loss: 0.0705 - val_acc: 0.9838\n",
            "Epoch 10/10\n",
            "1875/1875 [==============================] - 4s 2ms/step - loss: 0.0036 - acc: 0.9992 - val_loss: 0.0706 - val_acc: 0.9845\n"
          ],
          "name": "stdout"
        }
      ]
    },
    {
      "cell_type": "markdown",
      "metadata": {
        "id": "MJQdMB0Mjjt4"
      },
      "source": [
        "- `evalutae()` 메소드를 모델 인스턴스에 적용: 모델의 학습된 가중치 사용하여 손실과 평가지표 계산"
      ]
    },
    {
      "cell_type": "code",
      "metadata": {
        "colab": {
          "base_uri": "https://localhost:8080/"
        },
        "id": "G2SWKfDxjQyB",
        "outputId": "317f54c6-6b09-4d20-c2cd-f4aa54fea5ee"
      },
      "source": [
        "model.evaluate(x_test_in, y_test)"
      ],
      "execution_count": 12,
      "outputs": [
        {
          "output_type": "stream",
          "text": [
            "313/313 [==============================] - 1s 2ms/step - loss: 0.0706 - acc: 0.9845\n"
          ],
          "name": "stdout"
        },
        {
          "output_type": "execute_result",
          "data": {
            "text/plain": [
              "[0.07063430547714233, 0.984499990940094]"
            ]
          },
          "metadata": {
            "tags": []
          },
          "execution_count": 12
        }
      ]
    },
    {
      "cell_type": "markdown",
      "metadata": {
        "id": "4CFDrAdvj4j6"
      },
      "source": [
        "- 훈련 결과를 history에 저장\n",
        "- 이를 가지고 예측 오차와 정확도를 그리는 함수 정의 후 실행"
      ]
    },
    {
      "cell_type": "code",
      "metadata": {
        "colab": {
          "base_uri": "https://localhost:8080/",
          "height": 281
        },
        "id": "WJcXPg8SjrtY",
        "outputId": "b8ec9e3a-7ca6-4d6e-8c0c-bbcda8443642"
      },
      "source": [
        "def plot_loss_acc(history, epoch):\n",
        "\n",
        "    loss, val_loss = history.history['loss'], history.history['val_loss']\n",
        "    acc, val_acc = history.history['acc'], history.history['val_acc']\n",
        "\n",
        "    fig, axes = plt.subplots(1, 2, figsize=(12, 4))\n",
        "\n",
        "    axes[0].plot(range(1, epoch+1), loss, label='Training')\n",
        "    axes[0].plot(range(1, epoch+1), val_loss, label='Validation')\n",
        "    axes[0].legend(loc='best')\n",
        "    axes[0].set_title('Loss')\n",
        "    \n",
        "    axes[1].plot(range(1, epoch+1), acc, label='Training')\n",
        "    axes[1].plot(range(1, epoch+1), val_acc, label='Validation')\n",
        "    axes[1].legend(loc='best')\n",
        "    axes[1].set_title('Accuracy')\n",
        "\n",
        "    plt.show()\n",
        "\n",
        "plot_loss_acc(history, 10)"
      ],
      "execution_count": 16,
      "outputs": [
        {
          "output_type": "display_data",
          "data": {
            "image/png": "[encoded data removed]",
            "text/plain": [
              "<Figure size 864x288 with 2 Axes>"
            ]
          },
          "metadata": {
            "tags": [],
            "needs_background": "light"
          }
        }
      ]
    },
    {
      "cell_type": "markdown",
      "metadata": {
        "id": "tcuie90kkmTK"
      },
      "source": [
        "- 2 epoch부터 검증 손실이 줄어들지 않음\n",
        "- 이후로는 과대적합"
      ]
    },
    {
      "cell_type": "markdown",
      "metadata": {
        "id": "5BifVr4skrIE"
      },
      "source": [
        "# 3. 모델 구조 파악\n",
        "- `summary()` 메소드 적용 시 모델의 구조를 요약하여 보여줌"
      ]
    },
    {
      "cell_type": "code",
      "metadata": {
        "colab": {
          "base_uri": "https://localhost:8080/"
        },
        "id": "qtEGV8l4kW-R",
        "outputId": "c2b08083-06b1-4512-eddf-cbc3440efd72"
      },
      "source": [
        "model.summary()"
      ],
      "execution_count": 17,
      "outputs": [
        {
          "output_type": "stream",
          "text": [
            "Model: \"sequential\"\n",
            "_________________________________________________________________\n",
            "Layer (type)                 Output Shape              Param #   \n",
            "=================================================================\n",
            "conv (Conv2D)                (None, 26, 26, 32)        320       \n",
            "_________________________________________________________________\n",
            "pool (MaxPooling2D)          (None, 13, 13, 32)        0         \n",
            "_________________________________________________________________\n",
            "flatten (Flatten)            (None, 5408)              0         \n",
            "_________________________________________________________________\n",
            "dense (Dense)                (None, 10)                54090     \n",
            "=================================================================\n",
            "Total params: 54,410\n",
            "Trainable params: 54,410\n",
            "Non-trainable params: 0\n",
            "_________________________________________________________________\n"
          ],
          "name": "stdout"
        }
      ]
    },
    {
      "cell_type": "markdown",
      "metadata": {
        "id": "xBf5-Q3jlC9o"
      },
      "source": [
        "- (28, 28, 1) 형태의 입력 텐서가 Conv2D를 거치면서 (26, 26, 32) 형태로 변환\n",
        "- (3, 3) 크기의 합성 곱 필터를 사용하기 때문에 이미지 가로, 세로 크기가 2씩 줄어듦(패딩이 없음)\n",
        "- 서로 다른 32개의 필터를 적용했기 때문에 (26, 26) 크기의 특성맵이 32개 생성됨\n",
        "- 즉 (28, 28, 1) 이미지에 서로 다른 32개의 커널을 적용해서 32가지 종류의 피처를 추출\n",
        "--- \n",
        "- (2, 2) 크기의 풀링 레이어 적용 -> 이미지 크기가 절반으로 줄어듦\n",
        "- 따라서 풀링 레이어 거치면 (13, 13, 32) 텐서로 변환\n",
        "- Flatten 층에서 3차원 텐서를 1차원 텐서로 펼치면 5408개 (13 * 13 * 32) 원소를 갖는 1차원 벡터가 됨\n",
        "---\n",
        "- 이 벡터를 출력 노드 10개인 Dense 레이어로 보내면 최종 분류 값을 예측해 출력"
      ]
    },
    {
      "cell_type": "code",
      "metadata": {
        "colab": {
          "base_uri": "https://localhost:8080/"
        },
        "id": "gHyShSrkkyCJ",
        "outputId": "4918510a-df85-479b-9aac-f5bfb1b94e36"
      },
      "source": [
        "# 입력 텐서 형태\n",
        "model.input"
      ],
      "execution_count": 18,
      "outputs": [
        {
          "output_type": "execute_result",
          "data": {
            "text/plain": [
              "<KerasTensor: shape=(None, 28, 28, 1) dtype=float32 (created by layer 'conv_input')>"
            ]
          },
          "metadata": {
            "tags": []
          },
          "execution_count": 18
        }
      ]
    },
    {
      "cell_type": "markdown",
      "metadata": {
        "id": "9Upsq6hdm0HI"
      },
      "source": [
        "- 입력 텐서는 (None, 28, 28, 1) 형태\n",
        "    - 가장 앞에 있는 축(axis=0)의 None 값은 배치 크기가 들어오는 위치\n",
        "    - 배치 크기로 어떤 값이든 가능하다는 의미"
      ]
    },
    {
      "cell_type": "code",
      "metadata": {
        "colab": {
          "base_uri": "https://localhost:8080/"
        },
        "id": "ctU0iFbVmzUC",
        "outputId": "0c19fb09-9bc1-4ed6-ab68-fb1053c1cdb9"
      },
      "source": [
        "# 출력 텐서 형태\n",
        "model.output"
      ],
      "execution_count": 19,
      "outputs": [
        {
          "output_type": "execute_result",
          "data": {
            "text/plain": [
              "<KerasTensor: shape=(None, 10) dtype=float32 (created by layer 'dense')>"
            ]
          },
          "metadata": {
            "tags": []
          },
          "execution_count": 19
        }
      ]
    },
    {
      "cell_type": "markdown",
      "metadata": {
        "id": "BZYruhL8m_mE"
      },
      "source": [
        "- 10개의 노드를 갖는 1차원 벡터 형태"
      ]
    },
    {
      "cell_type": "code",
      "metadata": {
        "colab": {
          "base_uri": "https://localhost:8080/"
        },
        "id": "55sgsE-Bm-jP",
        "outputId": "bf048753-7f7f-450b-e595-0ed6fdd11a3e"
      },
      "source": [
        "# 레이어\n",
        "model.layers"
      ],
      "execution_count": 20,
      "outputs": [
        {
          "output_type": "execute_result",
          "data": {
            "text/plain": [
              "[<tensorflow.python.keras.layers.convolutional.Conv2D at 0x7f5b147be210>,\n",
              " <tensorflow.python.keras.layers.pooling.MaxPooling2D at 0x7f5b18a0bf90>,\n",
              " <tensorflow.python.keras.layers.core.Flatten at 0x7f5b20213850>,\n",
              " <tensorflow.python.keras.layers.core.Dense at 0x7f5b155905d0>]"
            ]
          },
          "metadata": {
            "tags": []
          },
          "execution_count": 20
        }
      ]
    },
    {
      "cell_type": "markdown",
      "metadata": {
        "id": "HsHqTosznHQu"
      },
      "source": [
        "- 파이썬 리스트 형태로 레이어 객체를 담아서 보여줌"
      ]
    },
    {
      "cell_type": "code",
      "metadata": {
        "colab": {
          "base_uri": "https://localhost:8080/"
        },
        "id": "hmfoDY6nnDRg",
        "outputId": "2d358d1e-8ac4-4213-a485-946887529627"
      },
      "source": [
        "# 첫 번째 레이어 선택\n",
        "model.layers[0]"
      ],
      "execution_count": 21,
      "outputs": [
        {
          "output_type": "execute_result",
          "data": {
            "text/plain": [
              "<tensorflow.python.keras.layers.convolutional.Conv2D at 0x7f5b147be210>"
            ]
          },
          "metadata": {
            "tags": []
          },
          "execution_count": 21
        }
      ]
    },
    {
      "cell_type": "markdown",
      "metadata": {
        "id": "oS9yjJ-UnLlQ"
      },
      "source": [
        "- 따라서 인덱싱 가능"
      ]
    },
    {
      "cell_type": "code",
      "metadata": {
        "colab": {
          "base_uri": "https://localhost:8080/"
        },
        "id": "CORDbCObnGhA",
        "outputId": "af7580b5-bb85-4938-9531-820537e4aa6c"
      },
      "source": [
        "# 첫 번째 레이어 입력\n",
        "model.layers[0].input"
      ],
      "execution_count": 22,
      "outputs": [
        {
          "output_type": "execute_result",
          "data": {
            "text/plain": [
              "<KerasTensor: shape=(None, 28, 28, 1) dtype=float32 (created by layer 'conv_input')>"
            ]
          },
          "metadata": {
            "tags": []
          },
          "execution_count": 22
        }
      ]
    },
    {
      "cell_type": "markdown",
      "metadata": {
        "id": "15QSrMYsnRJO"
      },
      "source": [
        "- 각 레이어에 입력되는 텐서를 따로 선택하는 것도 가능\n",
        "- 모델의 입력 데이터가 그대로 들어가기 때문에 (None, 28, 28, 1) 형태를 가짐"
      ]
    },
    {
      "cell_type": "code",
      "metadata": {
        "colab": {
          "base_uri": "https://localhost:8080/"
        },
        "id": "u1KR-8y3nP8Y",
        "outputId": "a903c94d-3673-4f6f-fc5a-17a56eccf04d"
      },
      "source": [
        "model.layers[0].output"
      ],
      "execution_count": 23,
      "outputs": [
        {
          "output_type": "execute_result",
          "data": {
            "text/plain": [
              "<KerasTensor: shape=(None, 26, 26, 32) dtype=float32 (created by layer 'conv')>"
            ]
          },
          "metadata": {
            "tags": []
          },
          "execution_count": 23
        }
      ]
    },
    {
      "cell_type": "markdown",
      "metadata": {
        "id": "StBEUbEpnZ4B"
      },
      "source": [
        "- Conv2D 레이어를 거치면 픽셀 사이즈가 2씩 줄어들고 채널 개수가 32개로 늘어남\n",
        "- (None, 26, 26, 32) 형태"
      ]
    },
    {
      "cell_type": "code",
      "metadata": {
        "colab": {
          "base_uri": "https://localhost:8080/"
        },
        "id": "6XwcwiYSnY6I",
        "outputId": "5de18ac2-9567-45ef-99ac-597e42f81937"
      },
      "source": [
        "# 첫 번째 레이어 가중치\n",
        "model.layers[0].weights"
      ],
      "execution_count": 24,
      "outputs": [
        {
          "output_type": "execute_result",
          "data": {
            "text/plain": [
              "[<tf.Variable 'conv/kernel:0' shape=(3, 3, 1, 32) dtype=float32, numpy=\n",
              " array([[[[-1.93171537e+00, -7.81547964e-01,  3.72144103e-01,\n",
              "            2.72445917e-01, -5.57032943e-01, -1.22653198e+00,\n",
              "            1.03547819e-01,  8.17694440e-02,  2.19529524e-01,\n",
              "            1.42205492e-01, -3.19793612e-01,  1.47832498e-01,\n",
              "           -6.08171582e-01,  1.07822669e+00, -1.59329975e+00,\n",
              "            4.41713452e-01,  4.20003891e-01, -3.17359030e-01,\n",
              "           -9.71360683e-01,  3.96933615e-01, -6.47580445e-01,\n",
              "            5.58650017e-01,  1.53845504e-01, -1.83383012e+00,\n",
              "            5.71174443e-01, -8.59601736e-01, -3.18332642e-01,\n",
              "           -7.16999173e-03, -1.12152445e+00, -6.73900902e-01,\n",
              "           -6.97946846e-01, -8.66549909e-01]],\n",
              " \n",
              "         [[-8.56039822e-01, -7.17214346e-01,  1.76080525e-01,\n",
              "           -5.66220343e-01, -4.19370055e-01,  7.09768906e-02,\n",
              "            7.40416527e-01,  5.69846272e-01,  5.78682482e-01,\n",
              "           -4.72029150e-01,  1.21632382e-01,  4.77263093e-01,\n",
              "            8.49868059e-02,  4.33648080e-01, -1.24366891e+00,\n",
              "            3.87837797e-01, -2.41920978e-01, -2.79408872e-01,\n",
              "            2.94938646e-02,  3.59435290e-01,  2.91936576e-01,\n",
              "            4.28143442e-01,  3.44972998e-01, -1.12021327e+00,\n",
              "           -2.73777936e-02, -1.67635202e-01, -5.18445596e-02,\n",
              "           -1.34567320e-01, -8.55198875e-02,  2.89568067e-01,\n",
              "           -2.40062431e-01, -7.51014590e-01]],\n",
              " \n",
              "         [[ 6.10520601e-01, -4.55376685e-01, -9.28286016e-01,\n",
              "           -6.44055665e-01,  4.46375757e-01,  7.93264151e-01,\n",
              "            8.14506948e-01,  5.88576257e-01,  8.40655923e-01,\n",
              "           -7.12630689e-01,  1.57821223e-01, -7.38185227e-01,\n",
              "            1.06528506e-01, -8.86430562e-01, -7.94682026e-01,\n",
              "           -5.25847256e-01, -3.84484738e-01, -1.14154362e-03,\n",
              "            1.51350334e-01, -2.98332751e-01,  4.34864461e-01,\n",
              "           -7.99823642e-01,  1.21431842e-01, -1.22978079e+00,\n",
              "           -7.17419088e-02,  3.10091645e-01,  3.52683842e-01,\n",
              "           -3.49235535e-02,  2.74941474e-01,  3.74708354e-01,\n",
              "            2.17713490e-01, -1.96267679e-01]]],\n",
              " \n",
              " \n",
              "        [[[-9.48294163e-01,  3.11423033e-01,  5.57239175e-01,\n",
              "            6.57376230e-01, -7.46232793e-02, -1.03120553e+00,\n",
              "           -2.76231975e-03, -2.66936779e-01, -7.29711652e-01,\n",
              "            5.09776890e-01,  3.22023302e-01, -3.82504702e-01,\n",
              "           -8.31134439e-01, -1.57320440e-01,  3.19604754e-01,\n",
              "           -2.01951474e-01,  1.43422440e-01,  4.44829106e-01,\n",
              "            1.28694922e-01,  5.20616136e-02,  3.46486092e-01,\n",
              "            7.79954433e-01,  1.57872260e-01, -7.65740752e-01,\n",
              "            1.36026546e-01, -3.04944456e-01, -5.54001272e-01,\n",
              "           -6.09277189e-03, -1.27200931e-02,  2.11310655e-01,\n",
              "            3.66395563e-01,  7.06760108e-01]],\n",
              " \n",
              "         [[-6.25125229e-01,  1.07314931e-02,  1.35188878e-01,\n",
              "            9.29302126e-02,  2.40028232e-01, -6.48069456e-02,\n",
              "            3.50536108e-01,  3.27810377e-01, -1.19562531e+00,\n",
              "           -2.81171501e-01,  5.92389166e-01,  4.79464382e-01,\n",
              "            5.94871104e-01, -1.82796609e+00,  3.37985218e-01,\n",
              "            2.78580546e-01,  5.21166503e-01,  3.32004517e-01,\n",
              "            6.06309652e-01,  2.49601714e-02,  1.02205068e-01,\n",
              "            1.83969662e-01, -4.80424911e-01,  4.24650490e-01,\n",
              "           -5.18722475e-01, -1.12880424e-01, -3.27457339e-02,\n",
              "           -8.05643797e-02,  6.48708820e-01,  3.47290337e-01,\n",
              "            4.03677583e-01,  6.43552005e-01]],\n",
              " \n",
              "         [[ 6.30707264e-01, -2.36495659e-01, -8.21363151e-01,\n",
              "           -3.05486262e-01,  3.92650157e-01,  7.32717931e-01,\n",
              "           -3.60675491e-02,  4.59692657e-01, -1.20133018e+00,\n",
              "           -5.27165473e-01,  6.70873702e-01,  1.90977424e-01,\n",
              "            1.15204781e-01, -5.13070703e-01, -1.59767270e+00,\n",
              "           -1.16889097e-01, -3.86987478e-01,  3.38452667e-01,\n",
              "            4.01762780e-03,  3.59643139e-02, -3.16675842e-01,\n",
              "           -1.10257876e+00,  1.23902010e-02,  2.66757220e-01,\n",
              "           -5.83124340e-01,  3.74030709e-01,  4.00240570e-01,\n",
              "           -1.37757272e-01, -9.84600782e-02, -5.38709641e-01,\n",
              "            2.97909558e-01,  5.29489040e-01]]],\n",
              " \n",
              " \n",
              "        [[[-6.77149653e-01,  5.61010003e-01,  4.82059121e-01,\n",
              "            2.26485610e-01,  4.74683911e-01, -7.29071736e-01,\n",
              "           -1.17404377e+00, -1.19360459e+00,  4.14046258e-01,\n",
              "            4.71979588e-01, -3.49529475e-01, -3.75323445e-01,\n",
              "           -3.98810506e-01, -1.39951253e+00,  6.85291529e-01,\n",
              "           -4.80084330e-01, -3.49489957e-01, -5.07649370e-02,\n",
              "            1.43541351e-01, -8.92311454e-01,  4.89227474e-01,\n",
              "            1.07348174e-01,  1.81367174e-01,  1.98948085e-01,\n",
              "            1.12743407e-01,  3.27263951e-01,  4.06514347e-01,\n",
              "           -1.15125604e-01,  2.20157430e-01,  1.39605910e-01,\n",
              "            1.96569994e-01,  4.78454778e-04]],\n",
              " \n",
              "         [[ 1.12057112e-01,  5.42414248e-01, -3.83549072e-02,\n",
              "            4.88295078e-01,  1.56023309e-01, -2.11410299e-01,\n",
              "           -1.20912719e+00, -7.66458452e-01,  6.10941350e-01,\n",
              "            5.57715774e-01, -9.50793087e-01, -1.24477766e-01,\n",
              "            4.81532961e-01,  4.31440711e-01,  6.96507335e-01,\n",
              "            1.96436375e-01,  2.64766607e-02, -4.85535502e-01,\n",
              "            2.75990516e-01,  3.31623018e-01, -3.79504025e-01,\n",
              "           -8.65395784e-01, -1.81676149e-01,  5.82233250e-01,\n",
              "            4.60095793e-01,  2.05660567e-01,  5.14449000e-01,\n",
              "           -5.27239963e-02,  3.88073474e-01,  2.33498469e-01,\n",
              "           -1.38001263e-01, -7.55853295e-01]],\n",
              " \n",
              "         [[ 4.47159588e-01,  2.38669783e-01, -3.66743296e-01,\n",
              "            5.94031326e-02, -2.41066709e-01,  3.04696947e-01,\n",
              "           -1.07457173e+00,  1.01394884e-01,  1.92482501e-01,\n",
              "           -2.68303975e-02, -8.50861073e-01,  1.65156141e-01,\n",
              "            7.08772540e-02,  9.62796628e-01, -3.16704333e-01,\n",
              "            4.72941041e-01,  5.91849327e-01, -2.18179733e-01,\n",
              "           -9.71217573e-01,  5.04076958e-01, -2.31811896e-01,\n",
              "           -1.52112079e+00,  5.34990013e-01,  6.33311868e-01,\n",
              "            6.02114558e-01,  2.97206134e-01, -2.32151195e-01,\n",
              "           -9.54747424e-02, -8.59742999e-01, -5.04913509e-01,\n",
              "           -6.05560541e-01, -1.02774054e-01]]]], dtype=float32)>,\n",
              " <tf.Variable 'conv/bias:0' shape=(32,) dtype=float32, numpy=\n",
              " array([-0.19520098, -0.09698068, -0.17951113, -0.23490047, -0.55686164,\n",
              "        -0.05468486, -0.06318072, -0.19821346,  0.00908872, -0.13949381,\n",
              "        -0.01091184, -0.21285093, -0.16640787,  0.02193335,  0.19233978,\n",
              "        -0.31856155, -0.4085551 , -0.22136514, -0.16656367, -0.4961758 ,\n",
              "        -0.25397825, -0.0084539 , -0.44404906, -0.03094084, -0.62415695,\n",
              "        -0.40369493, -0.49555454,  0.        , -0.21870878, -0.29144773,\n",
              "        -0.3572076 , -0.00845318], dtype=float32)>]"
            ]
          },
          "metadata": {
            "tags": []
          },
          "execution_count": 24
        }
      ]
    },
    {
      "cell_type": "markdown",
      "metadata": {
        "id": "Sj682FZbnrVy"
      },
      "source": [
        "- 첫 번째 변수 'conv/kernel:0': 커널(합성곱 필터) 행렬의 가중치\n",
        "- 두 번째 변수 'conv/bias:0': 각 커널의 상수항(bias)\n"
      ]
    },
    {
      "cell_type": "code",
      "metadata": {
        "colab": {
          "base_uri": "https://localhost:8080/"
        },
        "id": "lS2LX1WLnjMg",
        "outputId": "41948f0e-b089-49f3-9c89-7c602eb00c3a"
      },
      "source": [
        "# 첫 번째 레이어 커널 가중치\n",
        "model.layers[0].kernel"
      ],
      "execution_count": 25,
      "outputs": [
        {
          "output_type": "execute_result",
          "data": {
            "text/plain": [
              "<tf.Variable 'conv/kernel:0' shape=(3, 3, 1, 32) dtype=float32, numpy=\n",
              "array([[[[-1.93171537e+00, -7.81547964e-01,  3.72144103e-01,\n",
              "           2.72445917e-01, -5.57032943e-01, -1.22653198e+00,\n",
              "           1.03547819e-01,  8.17694440e-02,  2.19529524e-01,\n",
              "           1.42205492e-01, -3.19793612e-01,  1.47832498e-01,\n",
              "          -6.08171582e-01,  1.07822669e+00, -1.59329975e+00,\n",
              "           4.41713452e-01,  4.20003891e-01, -3.17359030e-01,\n",
              "          -9.71360683e-01,  3.96933615e-01, -6.47580445e-01,\n",
              "           5.58650017e-01,  1.53845504e-01, -1.83383012e+00,\n",
              "           5.71174443e-01, -8.59601736e-01, -3.18332642e-01,\n",
              "          -7.16999173e-03, -1.12152445e+00, -6.73900902e-01,\n",
              "          -6.97946846e-01, -8.66549909e-01]],\n",
              "\n",
              "        [[-8.56039822e-01, -7.17214346e-01,  1.76080525e-01,\n",
              "          -5.66220343e-01, -4.19370055e-01,  7.09768906e-02,\n",
              "           7.40416527e-01,  5.69846272e-01,  5.78682482e-01,\n",
              "          -4.72029150e-01,  1.21632382e-01,  4.77263093e-01,\n",
              "           8.49868059e-02,  4.33648080e-01, -1.24366891e+00,\n",
              "           3.87837797e-01, -2.41920978e-01, -2.79408872e-01,\n",
              "           2.94938646e-02,  3.59435290e-01,  2.91936576e-01,\n",
              "           4.28143442e-01,  3.44972998e-01, -1.12021327e+00,\n",
              "          -2.73777936e-02, -1.67635202e-01, -5.18445596e-02,\n",
              "          -1.34567320e-01, -8.55198875e-02,  2.89568067e-01,\n",
              "          -2.40062431e-01, -7.51014590e-01]],\n",
              "\n",
              "        [[ 6.10520601e-01, -4.55376685e-01, -9.28286016e-01,\n",
              "          -6.44055665e-01,  4.46375757e-01,  7.93264151e-01,\n",
              "           8.14506948e-01,  5.88576257e-01,  8.40655923e-01,\n",
              "          -7.12630689e-01,  1.57821223e-01, -7.38185227e-01,\n",
              "           1.06528506e-01, -8.86430562e-01, -7.94682026e-01,\n",
              "          -5.25847256e-01, -3.84484738e-01, -1.14154362e-03,\n",
              "           1.51350334e-01, -2.98332751e-01,  4.34864461e-01,\n",
              "          -7.99823642e-01,  1.21431842e-01, -1.22978079e+00,\n",
              "          -7.17419088e-02,  3.10091645e-01,  3.52683842e-01,\n",
              "          -3.49235535e-02,  2.74941474e-01,  3.74708354e-01,\n",
              "           2.17713490e-01, -1.96267679e-01]]],\n",
              "\n",
              "\n",
              "       [[[-9.48294163e-01,  3.11423033e-01,  5.57239175e-01,\n",
              "           6.57376230e-01, -7.46232793e-02, -1.03120553e+00,\n",
              "          -2.76231975e-03, -2.66936779e-01, -7.29711652e-01,\n",
              "           5.09776890e-01,  3.22023302e-01, -3.82504702e-01,\n",
              "          -8.31134439e-01, -1.57320440e-01,  3.19604754e-01,\n",
              "          -2.01951474e-01,  1.43422440e-01,  4.44829106e-01,\n",
              "           1.28694922e-01,  5.20616136e-02,  3.46486092e-01,\n",
              "           7.79954433e-01,  1.57872260e-01, -7.65740752e-01,\n",
              "           1.36026546e-01, -3.04944456e-01, -5.54001272e-01,\n",
              "          -6.09277189e-03, -1.27200931e-02,  2.11310655e-01,\n",
              "           3.66395563e-01,  7.06760108e-01]],\n",
              "\n",
              "        [[-6.25125229e-01,  1.07314931e-02,  1.35188878e-01,\n",
              "           9.29302126e-02,  2.40028232e-01, -6.48069456e-02,\n",
              "           3.50536108e-01,  3.27810377e-01, -1.19562531e+00,\n",
              "          -2.81171501e-01,  5.92389166e-01,  4.79464382e-01,\n",
              "           5.94871104e-01, -1.82796609e+00,  3.37985218e-01,\n",
              "           2.78580546e-01,  5.21166503e-01,  3.32004517e-01,\n",
              "           6.06309652e-01,  2.49601714e-02,  1.02205068e-01,\n",
              "           1.83969662e-01, -4.80424911e-01,  4.24650490e-01,\n",
              "          -5.18722475e-01, -1.12880424e-01, -3.27457339e-02,\n",
              "          -8.05643797e-02,  6.48708820e-01,  3.47290337e-01,\n",
              "           4.03677583e-01,  6.43552005e-01]],\n",
              "\n",
              "        [[ 6.30707264e-01, -2.36495659e-01, -8.21363151e-01,\n",
              "          -3.05486262e-01,  3.92650157e-01,  7.32717931e-01,\n",
              "          -3.60675491e-02,  4.59692657e-01, -1.20133018e+00,\n",
              "          -5.27165473e-01,  6.70873702e-01,  1.90977424e-01,\n",
              "           1.15204781e-01, -5.13070703e-01, -1.59767270e+00,\n",
              "          -1.16889097e-01, -3.86987478e-01,  3.38452667e-01,\n",
              "           4.01762780e-03,  3.59643139e-02, -3.16675842e-01,\n",
              "          -1.10257876e+00,  1.23902010e-02,  2.66757220e-01,\n",
              "          -5.83124340e-01,  3.74030709e-01,  4.00240570e-01,\n",
              "          -1.37757272e-01, -9.84600782e-02, -5.38709641e-01,\n",
              "           2.97909558e-01,  5.29489040e-01]]],\n",
              "\n",
              "\n",
              "       [[[-6.77149653e-01,  5.61010003e-01,  4.82059121e-01,\n",
              "           2.26485610e-01,  4.74683911e-01, -7.29071736e-01,\n",
              "          -1.17404377e+00, -1.19360459e+00,  4.14046258e-01,\n",
              "           4.71979588e-01, -3.49529475e-01, -3.75323445e-01,\n",
              "          -3.98810506e-01, -1.39951253e+00,  6.85291529e-01,\n",
              "          -4.80084330e-01, -3.49489957e-01, -5.07649370e-02,\n",
              "           1.43541351e-01, -8.92311454e-01,  4.89227474e-01,\n",
              "           1.07348174e-01,  1.81367174e-01,  1.98948085e-01,\n",
              "           1.12743407e-01,  3.27263951e-01,  4.06514347e-01,\n",
              "          -1.15125604e-01,  2.20157430e-01,  1.39605910e-01,\n",
              "           1.96569994e-01,  4.78454778e-04]],\n",
              "\n",
              "        [[ 1.12057112e-01,  5.42414248e-01, -3.83549072e-02,\n",
              "           4.88295078e-01,  1.56023309e-01, -2.11410299e-01,\n",
              "          -1.20912719e+00, -7.66458452e-01,  6.10941350e-01,\n",
              "           5.57715774e-01, -9.50793087e-01, -1.24477766e-01,\n",
              "           4.81532961e-01,  4.31440711e-01,  6.96507335e-01,\n",
              "           1.96436375e-01,  2.64766607e-02, -4.85535502e-01,\n",
              "           2.75990516e-01,  3.31623018e-01, -3.79504025e-01,\n",
              "          -8.65395784e-01, -1.81676149e-01,  5.82233250e-01,\n",
              "           4.60095793e-01,  2.05660567e-01,  5.14449000e-01,\n",
              "          -5.27239963e-02,  3.88073474e-01,  2.33498469e-01,\n",
              "          -1.38001263e-01, -7.55853295e-01]],\n",
              "\n",
              "        [[ 4.47159588e-01,  2.38669783e-01, -3.66743296e-01,\n",
              "           5.94031326e-02, -2.41066709e-01,  3.04696947e-01,\n",
              "          -1.07457173e+00,  1.01394884e-01,  1.92482501e-01,\n",
              "          -2.68303975e-02, -8.50861073e-01,  1.65156141e-01,\n",
              "           7.08772540e-02,  9.62796628e-01, -3.16704333e-01,\n",
              "           4.72941041e-01,  5.91849327e-01, -2.18179733e-01,\n",
              "          -9.71217573e-01,  5.04076958e-01, -2.31811896e-01,\n",
              "          -1.52112079e+00,  5.34990013e-01,  6.33311868e-01,\n",
              "           6.02114558e-01,  2.97206134e-01, -2.32151195e-01,\n",
              "          -9.54747424e-02, -8.59742999e-01, -5.04913509e-01,\n",
              "          -6.05560541e-01, -1.02774054e-01]]]], dtype=float32)>"
            ]
          },
          "metadata": {
            "tags": []
          },
          "execution_count": 25
        }
      ]
    },
    {
      "cell_type": "markdown",
      "metadata": {
        "id": "9ta19dHOn_VC"
      },
      "source": [
        "- 커널 가중치의 shape이 (3, 3, 1, 32)\n",
        "    - (3, 3): 필터의 크기\n",
        "    - (1): 입력층의 채널 개수\n",
        "    - (32): 출력층의 채널 개수\n",
        "- layer[0]의 커널 학습(업데이트) 가능한 파라미터 수는 3 * 3 * 1 * 32 = 288개"
      ]
    },
    {
      "cell_type": "code",
      "metadata": {
        "colab": {
          "base_uri": "https://localhost:8080/"
        },
        "id": "QLmKweDPoTmM",
        "outputId": "54d5e0f4-0fdb-48d6-c276-5e648a796dae"
      },
      "source": [
        "# 첫 번째 레이어 bias 가중치\n",
        "model.layers[0].bias"
      ],
      "execution_count": 26,
      "outputs": [
        {
          "output_type": "execute_result",
          "data": {
            "text/plain": [
              "<tf.Variable 'conv/bias:0' shape=(32,) dtype=float32, numpy=\n",
              "array([-0.19520098, -0.09698068, -0.17951113, -0.23490047, -0.55686164,\n",
              "       -0.05468486, -0.06318072, -0.19821346,  0.00908872, -0.13949381,\n",
              "       -0.01091184, -0.21285093, -0.16640787,  0.02193335,  0.19233978,\n",
              "       -0.31856155, -0.4085551 , -0.22136514, -0.16656367, -0.4961758 ,\n",
              "       -0.25397825, -0.0084539 , -0.44404906, -0.03094084, -0.62415695,\n",
              "       -0.40369493, -0.49555454,  0.        , -0.21870878, -0.29144773,\n",
              "       -0.3572076 , -0.00845318], dtype=float32)>"
            ]
          },
          "metadata": {
            "tags": []
          },
          "execution_count": 26
        }
      ]
    },
    {
      "cell_type": "markdown",
      "metadata": {
        "id": "ROrGD9WBoY7R"
      },
      "source": [
        "- 상수항(bias) 가중치 shape은 (32, ): 출력층의 채널 수\n",
        "- layer[0]의 총 학습 가능한 파라미터 수는 288 + 32 = 320개"
      ]
    },
    {
      "cell_type": "code",
      "metadata": {
        "colab": {
          "base_uri": "https://localhost:8080/"
        },
        "id": "C8nKgKf2n9sJ",
        "outputId": "6a09703a-cab7-41c7-e016-9924c586345e"
      },
      "source": [
        "# 레이어 이름 사용하여 레이어 선택\n",
        "model.get_layer('conv')"
      ],
      "execution_count": 27,
      "outputs": [
        {
          "output_type": "execute_result",
          "data": {
            "text/plain": [
              "<tensorflow.python.keras.layers.convolutional.Conv2D at 0x7f5b147be210>"
            ]
          },
          "metadata": {
            "tags": []
          },
          "execution_count": 27
        }
      ]
    },
    {
      "cell_type": "markdown",
      "metadata": {
        "id": "I5OeLHiRpeW-"
      },
      "source": [
        "- 레이어의 이름을 사용하여 해당 레이어를 선택할 수도 있음"
      ]
    },
    {
      "cell_type": "code",
      "metadata": {
        "colab": {
          "base_uri": "https://localhost:8080/"
        },
        "id": "rNwugcQMpduZ",
        "outputId": "7452f4e6-d3ab-40bf-85e5-df65ef5f0c3c"
      },
      "source": [
        "# 샘플 이미지의 레이어별 출력을 리스트에 추가(첫 번째, 두 번째 레이어)\n",
        "activator = tf.keras.Model(inputs=model.input,\n",
        "                           outputs=[layer.output for layer in model.layers[:2]])\n",
        "activations = activator.predict(x_train_in[0][tf.newaxis, ...])\n",
        "len(activations)"
      ],
      "execution_count": 29,
      "outputs": [
        {
          "output_type": "execute_result",
          "data": {
            "text/plain": [
              "2"
            ]
          },
          "metadata": {
            "tags": []
          },
          "execution_count": 29
        }
      ]
    },
    {
      "cell_type": "markdown",
      "metadata": {
        "id": "Aq_77QMep0r_"
      },
      "source": [
        "- 모델에 입력 데이터를 넣어주고, 첫 번째 레이어와 두 번째 레이어의 출력을 최종 출력으로 갖는 `activator` 모델 정의\n",
        "- 첫 번째 샘플에 대해 각 레이어 출력을 예측"
      ]
    },
    {
      "cell_type": "code",
      "metadata": {
        "colab": {
          "base_uri": "https://localhost:8080/"
        },
        "id": "ApyHkb2Kpx35",
        "outputId": "9e1f767a-2203-4000-ea1a-8b9634fe450a"
      },
      "source": [
        "# 첫 번째 레이어(conv) 출력층\n",
        "conv_activation = activations[0]\n",
        "conv_activation.shape"
      ],
      "execution_count": 32,
      "outputs": [
        {
          "output_type": "execute_result",
          "data": {
            "text/plain": [
              "(1, 26, 26, 32)"
            ]
          },
          "metadata": {
            "tags": []
          },
          "execution_count": 32
        }
      ]
    },
    {
      "cell_type": "markdown",
      "metadata": {
        "id": "vcyFdVHUqG_t"
      },
      "source": [
        "- Conv2D 레이어의 출력\n",
        "- (1, 26, 26, 32)의 텐서 형태\n",
        "- 1은 입력 이미지의 개수 의미(샘플이 1개)"
      ]
    },
    {
      "cell_type": "code",
      "metadata": {
        "colab": {
          "base_uri": "https://localhost:8080/",
          "height": 369
        },
        "id": "EoG1jvfFqDN4",
        "outputId": "0446208a-5447-4dc0-faf6-cb4c649b2714"
      },
      "source": [
        "# Convolution 시각화\n",
        "fig, axes = plt.subplots(4, 8)\n",
        "fig.set_size_inches(10, 5)\n",
        "\n",
        "for i in range(32):\n",
        "    axes[i//8, i%8].matshow(conv_activation[0, :, :, i], cmap='viridis')\n",
        "    axes[i//8, i%8].set_title('kernel %s'%str(i), fontsize=10)\n",
        "    plt.setp(axes[i//8, i%8].get_xticklabels(), visible=False)\n",
        "    plt.setp(axes[i//8, i%8].get_yticklabels(), visible=False)\n",
        "\n",
        "plt.tight_layout()\n",
        "plt.show()"
      ],
      "execution_count": 34,
      "outputs": [
        {
          "output_type": "display_data",
          "data": {
            "image/png": "[encoded data removed]",
            "text/plain": [
              "<Figure size 720x360 with 32 Axes>"
            ]
          },
          "metadata": {
            "tags": []
          }
        }
      ]
    },
    {
      "cell_type": "markdown",
      "metadata": {
        "id": "UT8Rmys3qze5"
      },
      "source": [
        "- 첫 번째 레이어에서 출력되는 특성맵 이미지를 32개 커널별로 구분하여 시각화\n",
        "- 출력 이미지의 특징이 조금씩 차이가 있음\n",
        "    - 각 커널은 입력 이미지로부터 서로 다른 피처(특징)을 추출하는 역할"
      ]
    },
    {
      "cell_type": "code",
      "metadata": {
        "colab": {
          "base_uri": "https://localhost:8080/"
        },
        "id": "PVNWvK-vqqe6",
        "outputId": "b301a8ca-ff04-4e94-cd09-97b396a0d940"
      },
      "source": [
        "# 두 번째 레이어(pool) 출력층\n",
        "pooling_activation = activations[1]\n",
        "print(pooling_activation.shape)"
      ],
      "execution_count": 35,
      "outputs": [
        {
          "output_type": "stream",
          "text": [
            "(1, 13, 13, 32)\n"
          ],
          "name": "stdout"
        }
      ]
    },
    {
      "cell_type": "code",
      "metadata": {
        "colab": {
          "base_uri": "https://localhost:8080/",
          "height": 369
        },
        "id": "4bmF61RWrB3Z",
        "outputId": "76dbd40b-070b-4f9a-c843-ee1242ce2dff"
      },
      "source": [
        "# 시각화\n",
        "fig, axes = plt.subplots(4, 8)\n",
        "fig.set_size_inches(10, 5)\n",
        "\n",
        "for i in range(32):\n",
        "    axes[i//8, i%8].matshow(pooling_activation[0, :, :, i], cmap='viridis')\n",
        "    axes[i//8, i%8].set_title('kernel %s'%str(i), fontsize=10)\n",
        "    plt.setp(axes[i//8, i%8].get_xticklabels(), visible=False)\n",
        "    plt.setp(axes[i//8, i%8].get_yticklabels(), visible=False)\n",
        "\n",
        "plt.tight_layout()\n",
        "plt.show()"
      ],
      "execution_count": 36,
      "outputs": [
        {
          "output_type": "display_data",
          "data": {
            "image/png": "[encoded data removed]",
            "text/plain": [
              "<Figure size 720x360 with 32 Axes>"
            ]
          },
          "metadata": {
            "tags": []
          }
        }
      ]
    },
    {
      "cell_type": "markdown",
      "metadata": {
        "id": "Hhqszv9Drd6k"
      },
      "source": [
        "- Conv2D 출력 이미지에 비해 화소 크기가 굵어진 것을 볼 수 있음\n",
        "- 최대 풀링은 인근 픽셀을 모아 최대값으로 고정하기 때문\n",
        "- 픽셀 수는 줄이면서 특징을 더욱 강하게 드러낼 수 있음"
      ]
    },
    {
      "cell_type": "code",
      "metadata": {
        "id": "hNvItcQvrcXK"
      },
      "source": [
        ""
      ],
      "execution_count": null,
      "outputs": []
    }
  ]
}