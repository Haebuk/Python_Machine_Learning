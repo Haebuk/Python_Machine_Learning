{
  "nbformat": 4,
  "nbformat_minor": 0,
  "metadata": {
    "colab": {
      "name": "pandas ex.ipynb",
      "provenance": [],
      "authorship_tag": "ABX9TyMdVllrR9Un3E0rIJfxzW7A",
      "include_colab_link": true
    },
    "kernelspec": {
      "name": "python3",
      "display_name": "Python 3"
    },
    "language_info": {
      "name": "python"
    }
  },
  "cells": [
    {
      "cell_type": "markdown",
      "metadata": {
        "id": "view-in-github",
        "colab_type": "text"
      },
      "source": [
        "<a href=\"https://colab.research.google.com/github/Haebuk/Python_Machine_Learning/blob/master/pandas_ex.ipynb\" target=\"_parent\"><img src=\"https://colab.research.google.com/assets/colab-badge.svg\" alt=\"Open In Colab\"/></a>"
      ]
    },
    {
      "cell_type": "code",
      "metadata": {
        "id": "-Jrn5ECqIg0B"
      },
      "source": [
        "import pandas as pd"
      ],
      "execution_count": null,
      "outputs": []
    },
    {
      "cell_type": "code",
      "metadata": {
        "id": "ddH6WKxzIihg"
      },
      "source": [
        "dict_data = {'c0': [1,2,3], 'c1':[4,5,6], 'c2':[7,8,9], 'c3':[10,11,12], 'c4':[13,14,15]}"
      ],
      "execution_count": null,
      "outputs": []
    },
    {
      "cell_type": "code",
      "metadata": {
        "colab": {
          "base_uri": "https://localhost:8080/"
        },
        "id": "seN5iO0WIr4U",
        "outputId": "2311d5c2-720b-4298-f65a-986358c63db1"
      },
      "source": [
        "df = pd.DataFrame(dict_data, index=['r0', 'r1', 'r2'])\n",
        "print(df)\n",
        "print('\\n')\n",
        "new_index = ['r0', 'r1', 'r2', 'r3', 'r4']\n",
        "ndf = df.reindex(new_index, fill_value=0)\n",
        "print(ndf)\n",
        "print('\\n')"
      ],
      "execution_count": null,
      "outputs": [
        {
          "output_type": "stream",
          "text": [
            "    c0  c1  c2  c3  c4\n",
            "r0   1   4   7  10  13\n",
            "r1   2   5   8  11  14\n",
            "r2   3   6   9  12  15\n",
            "\n",
            "\n",
            "    c0  c1  c2  c3  c4\n",
            "r0   1   4   7  10  13\n",
            "r1   2   5   8  11  14\n",
            "r2   3   6   9  12  15\n",
            "r3   0   0   0   0   0\n",
            "r4   0   0   0   0   0\n",
            "\n",
            "\n"
          ],
          "name": "stdout"
        }
      ]
    },
    {
      "cell_type": "code",
      "metadata": {
        "colab": {
          "base_uri": "https://localhost:8080/"
        },
        "id": "IUkhXeTgIuO2",
        "outputId": "138a553c-ea85-4d7d-d4a9-07e68a321eab"
      },
      "source": [
        "df = pd.DataFrame(dict_data, index=['r0', 'r1', 'r2'])\n",
        "print(df)\n",
        "print('\\n')\n",
        "ndf = df.reset_index()\n",
        "print(ndf)"
      ],
      "execution_count": null,
      "outputs": [
        {
          "output_type": "stream",
          "text": [
            "    c0  c1  c2  c3  c4\n",
            "r0   1   4   7  10  13\n",
            "r1   2   5   8  11  14\n",
            "r2   3   6   9  12  15\n",
            "\n",
            "\n",
            "  index  c0  c1  c2  c3  c4\n",
            "0    r0   1   4   7  10  13\n",
            "1    r1   2   5   8  11  14\n",
            "2    r2   3   6   9  12  15\n"
          ],
          "name": "stdout"
        }
      ]
    },
    {
      "cell_type": "code",
      "metadata": {
        "colab": {
          "base_uri": "https://localhost:8080/"
        },
        "id": "sJWNGx1CJtiO",
        "outputId": "c12ee7fc-8d03-4e2a-8073-dbb32533fb72"
      },
      "source": [
        "ndf = df.sort_index(ascending=False)\n",
        "print(ndf)"
      ],
      "execution_count": null,
      "outputs": [
        {
          "output_type": "stream",
          "text": [
            "    c0  c1  c2  c3  c4\n",
            "r2   3   6   9  12  15\n",
            "r1   2   5   8  11  14\n",
            "r0   1   4   7  10  13\n"
          ],
          "name": "stdout"
        }
      ]
    },
    {
      "cell_type": "code",
      "metadata": {
        "colab": {
          "base_uri": "https://localhost:8080/"
        },
        "id": "ZUi9dbB0KwWl",
        "outputId": "c7706e51-7530-4f1a-cd19-eedb41afb387"
      },
      "source": [
        "ndf = df.sort_values(by='c1', ascending=False)\n",
        "print(ndf)"
      ],
      "execution_count": null,
      "outputs": [
        {
          "output_type": "stream",
          "text": [
            "    c0  c1  c2  c3  c4\n",
            "r2   3   6   9  12  15\n",
            "r1   2   5   8  11  14\n",
            "r0   1   4   7  10  13\n"
          ],
          "name": "stdout"
        }
      ]
    },
    {
      "cell_type": "code",
      "metadata": {
        "id": "HplQ9BxrK2Wd"
      },
      "source": [
        "import os\n",
        "import seaborn as sns\n",
        "import matplotlib.pyplot as plt\n",
        "import numpy as np"
      ],
      "execution_count": null,
      "outputs": []
    },
    {
      "cell_type": "code",
      "metadata": {
        "colab": {
          "base_uri": "https://localhost:8080/"
        },
        "id": "dfcr-VcRNLy8",
        "outputId": "a3b62928-9058-4076-bfee-b37c36e922b0"
      },
      "source": [
        "os.environ['KAGGLE_USERNAME'] = \"haebuk\"\n",
        "os.environ['KAGGLE_KEY'] = \"7be7e6f6590d2e4e2b37c50726ba7138\"\n",
        "!kaggle competitions download -c titanic\n",
        "!unzip titanic"
      ],
      "execution_count": null,
      "outputs": [
        {
          "output_type": "stream",
          "text": [
            "Warning: Looks like you're using an outdated API Version, please consider updating (server 1.5.12 / client 1.5.4)\n",
            "Downloading gender_submission.csv to /content\n",
            "  0% 0.00/3.18k [00:00<?, ?B/s]\n",
            "100% 3.18k/3.18k [00:00<00:00, 2.83MB/s]\n",
            "Downloading train.csv to /content\n",
            "  0% 0.00/59.8k [00:00<?, ?B/s]\n",
            "100% 59.8k/59.8k [00:00<00:00, 60.8MB/s]\n",
            "Downloading test.csv to /content\n",
            "  0% 0.00/28.0k [00:00<?, ?B/s]\n",
            "100% 28.0k/28.0k [00:00<00:00, 27.3MB/s]\n",
            "unzip:  cannot find or open titanic, titanic.zip or titanic.ZIP.\n"
          ],
          "name": "stdout"
        }
      ]
    },
    {
      "cell_type": "code",
      "metadata": {
        "colab": {
          "base_uri": "https://localhost:8080/",
          "height": 224
        },
        "id": "i2mnaZAnNdHk",
        "outputId": "1a04d44e-2450-4b8e-b043-6c2729fd5bc8"
      },
      "source": [
        "df = sns.load_dataset('titanic')\n",
        "df.head()"
      ],
      "execution_count": null,
      "outputs": [
        {
          "output_type": "execute_result",
          "data": {
            "text/html": [
              "<div>\n",
              "<style scoped>\n",
              "    .dataframe tbody tr th:only-of-type {\n",
              "        vertical-align: middle;\n",
              "    }\n",
              "\n",
              "    .dataframe tbody tr th {\n",
              "        vertical-align: top;\n",
              "    }\n",
              "\n",
              "    .dataframe thead th {\n",
              "        text-align: right;\n",
              "    }\n",
              "</style>\n",
              "<table border=\"1\" class=\"dataframe\">\n",
              "  <thead>\n",
              "    <tr style=\"text-align: right;\">\n",
              "      <th></th>\n",
              "      <th>survived</th>\n",
              "      <th>pclass</th>\n",
              "      <th>sex</th>\n",
              "      <th>age</th>\n",
              "      <th>sibsp</th>\n",
              "      <th>parch</th>\n",
              "      <th>fare</th>\n",
              "      <th>embarked</th>\n",
              "      <th>class</th>\n",
              "      <th>who</th>\n",
              "      <th>adult_male</th>\n",
              "      <th>deck</th>\n",
              "      <th>embark_town</th>\n",
              "      <th>alive</th>\n",
              "      <th>alone</th>\n",
              "    </tr>\n",
              "  </thead>\n",
              "  <tbody>\n",
              "    <tr>\n",
              "      <th>0</th>\n",
              "      <td>0</td>\n",
              "      <td>3</td>\n",
              "      <td>male</td>\n",
              "      <td>22.0</td>\n",
              "      <td>1</td>\n",
              "      <td>0</td>\n",
              "      <td>7.2500</td>\n",
              "      <td>S</td>\n",
              "      <td>Third</td>\n",
              "      <td>man</td>\n",
              "      <td>True</td>\n",
              "      <td>NaN</td>\n",
              "      <td>Southampton</td>\n",
              "      <td>no</td>\n",
              "      <td>False</td>\n",
              "    </tr>\n",
              "    <tr>\n",
              "      <th>1</th>\n",
              "      <td>1</td>\n",
              "      <td>1</td>\n",
              "      <td>female</td>\n",
              "      <td>38.0</td>\n",
              "      <td>1</td>\n",
              "      <td>0</td>\n",
              "      <td>71.2833</td>\n",
              "      <td>C</td>\n",
              "      <td>First</td>\n",
              "      <td>woman</td>\n",
              "      <td>False</td>\n",
              "      <td>C</td>\n",
              "      <td>Cherbourg</td>\n",
              "      <td>yes</td>\n",
              "      <td>False</td>\n",
              "    </tr>\n",
              "    <tr>\n",
              "      <th>2</th>\n",
              "      <td>1</td>\n",
              "      <td>3</td>\n",
              "      <td>female</td>\n",
              "      <td>26.0</td>\n",
              "      <td>0</td>\n",
              "      <td>0</td>\n",
              "      <td>7.9250</td>\n",
              "      <td>S</td>\n",
              "      <td>Third</td>\n",
              "      <td>woman</td>\n",
              "      <td>False</td>\n",
              "      <td>NaN</td>\n",
              "      <td>Southampton</td>\n",
              "      <td>yes</td>\n",
              "      <td>True</td>\n",
              "    </tr>\n",
              "    <tr>\n",
              "      <th>3</th>\n",
              "      <td>1</td>\n",
              "      <td>1</td>\n",
              "      <td>female</td>\n",
              "      <td>35.0</td>\n",
              "      <td>1</td>\n",
              "      <td>0</td>\n",
              "      <td>53.1000</td>\n",
              "      <td>S</td>\n",
              "      <td>First</td>\n",
              "      <td>woman</td>\n",
              "      <td>False</td>\n",
              "      <td>C</td>\n",
              "      <td>Southampton</td>\n",
              "      <td>yes</td>\n",
              "      <td>False</td>\n",
              "    </tr>\n",
              "    <tr>\n",
              "      <th>4</th>\n",
              "      <td>0</td>\n",
              "      <td>3</td>\n",
              "      <td>male</td>\n",
              "      <td>35.0</td>\n",
              "      <td>0</td>\n",
              "      <td>0</td>\n",
              "      <td>8.0500</td>\n",
              "      <td>S</td>\n",
              "      <td>Third</td>\n",
              "      <td>man</td>\n",
              "      <td>True</td>\n",
              "      <td>NaN</td>\n",
              "      <td>Southampton</td>\n",
              "      <td>no</td>\n",
              "      <td>True</td>\n",
              "    </tr>\n",
              "  </tbody>\n",
              "</table>\n",
              "</div>"
            ],
            "text/plain": [
              "   survived  pclass     sex   age  ...  deck  embark_town  alive  alone\n",
              "0         0       3    male  22.0  ...   NaN  Southampton     no  False\n",
              "1         1       1  female  38.0  ...     C    Cherbourg    yes  False\n",
              "2         1       3  female  26.0  ...   NaN  Southampton    yes   True\n",
              "3         1       1  female  35.0  ...     C  Southampton    yes  False\n",
              "4         0       3    male  35.0  ...   NaN  Southampton     no   True\n",
              "\n",
              "[5 rows x 15 columns]"
            ]
          },
          "metadata": {
            "tags": []
          },
          "execution_count": 17
        }
      ]
    },
    {
      "cell_type": "code",
      "metadata": {
        "colab": {
          "base_uri": "https://localhost:8080/"
        },
        "id": "tF5Y_ZTpN32M",
        "outputId": "18eeede2-db3a-4a11-b73b-c0710665c795"
      },
      "source": [
        "df.info()"
      ],
      "execution_count": null,
      "outputs": [
        {
          "output_type": "stream",
          "text": [
            "<class 'pandas.core.frame.DataFrame'>\n",
            "RangeIndex: 891 entries, 0 to 890\n",
            "Data columns (total 15 columns):\n",
            " #   Column       Non-Null Count  Dtype   \n",
            "---  ------       --------------  -----   \n",
            " 0   survived     891 non-null    int64   \n",
            " 1   pclass       891 non-null    int64   \n",
            " 2   sex          891 non-null    object  \n",
            " 3   age          714 non-null    float64 \n",
            " 4   sibsp        891 non-null    int64   \n",
            " 5   parch        891 non-null    int64   \n",
            " 6   fare         891 non-null    float64 \n",
            " 7   embarked     889 non-null    object  \n",
            " 8   class        891 non-null    category\n",
            " 9   who          891 non-null    object  \n",
            " 10  adult_male   891 non-null    bool    \n",
            " 11  deck         203 non-null    category\n",
            " 12  embark_town  889 non-null    object  \n",
            " 13  alive        891 non-null    object  \n",
            " 14  alone        891 non-null    bool    \n",
            "dtypes: bool(2), category(2), float64(2), int64(4), object(5)\n",
            "memory usage: 80.6+ KB\n"
          ],
          "name": "stdout"
        }
      ]
    },
    {
      "cell_type": "code",
      "metadata": {
        "colab": {
          "base_uri": "https://localhost:8080/"
        },
        "id": "xfFoLeNKOD2s",
        "outputId": "d367aae4-9cef-4a69-f090-fe9cd96a9284"
      },
      "source": [
        "nan_deck = df['deck'].value_counts(dropna=False)\n",
        "print(nan_deck)"
      ],
      "execution_count": null,
      "outputs": [
        {
          "output_type": "stream",
          "text": [
            "NaN    688\n",
            "C       59\n",
            "B       47\n",
            "D       33\n",
            "E       32\n",
            "A       15\n",
            "F       13\n",
            "G        4\n",
            "Name: deck, dtype: int64\n"
          ],
          "name": "stdout"
        }
      ]
    },
    {
      "cell_type": "code",
      "metadata": {
        "colab": {
          "base_uri": "https://localhost:8080/"
        },
        "id": "aILiMKHXOQ4E",
        "outputId": "d596e58b-55d7-4ebd-c510-e8dcad3a5652"
      },
      "source": [
        "print(df.isnull().sum(axis=0))"
      ],
      "execution_count": null,
      "outputs": [
        {
          "output_type": "stream",
          "text": [
            "survived         0\n",
            "pclass           0\n",
            "sex              0\n",
            "age            177\n",
            "sibsp            0\n",
            "parch            0\n",
            "fare             0\n",
            "embarked         2\n",
            "class            0\n",
            "who              0\n",
            "adult_male       0\n",
            "deck           688\n",
            "embark_town      2\n",
            "alive            0\n",
            "alone            0\n",
            "dtype: int64\n"
          ],
          "name": "stdout"
        }
      ]
    },
    {
      "cell_type": "code",
      "metadata": {
        "colab": {
          "base_uri": "https://localhost:8080/"
        },
        "id": "uPgtinOGOT88",
        "outputId": "40889cad-305b-4077-b5e9-b39e05678f0c"
      },
      "source": [
        "df_thresh = df.dropna(axis=1, thresh=500)\n",
        "print(df_thresh.columns)"
      ],
      "execution_count": null,
      "outputs": [
        {
          "output_type": "stream",
          "text": [
            "Index(['survived', 'pclass', 'sex', 'age', 'sibsp', 'parch', 'fare',\n",
            "       'embarked', 'class', 'who', 'adult_male', 'embark_town', 'alive',\n",
            "       'alone'],\n",
            "      dtype='object')\n"
          ],
          "name": "stdout"
        }
      ]
    },
    {
      "cell_type": "code",
      "metadata": {
        "colab": {
          "base_uri": "https://localhost:8080/"
        },
        "id": "nD-KB4lFOntb",
        "outputId": "d14b4751-a54a-4b5f-cd0d-0ae5ece225b6"
      },
      "source": [
        "df_age = df.dropna(subset=['age'], how='any', axis=0)\n",
        "print(len(df_age))"
      ],
      "execution_count": null,
      "outputs": [
        {
          "output_type": "stream",
          "text": [
            "714\n"
          ],
          "name": "stdout"
        }
      ]
    },
    {
      "cell_type": "code",
      "metadata": {
        "colab": {
          "base_uri": "https://localhost:8080/"
        },
        "id": "lWqvrwI9Oxth",
        "outputId": "6da38007-7bf9-4836-ebe5-6aa60bd604dd"
      },
      "source": [
        "print(df['age'].head(10))\n",
        "mean_age = df['age'].mean()\n",
        "df['age'].fillna(mean_age, inplace=True)\n",
        "print(df['age'].head(10))"
      ],
      "execution_count": null,
      "outputs": [
        {
          "output_type": "stream",
          "text": [
            "0    22.0\n",
            "1    38.0\n",
            "2    26.0\n",
            "3    35.0\n",
            "4    35.0\n",
            "5     NaN\n",
            "6    54.0\n",
            "7     2.0\n",
            "8    27.0\n",
            "9    14.0\n",
            "Name: age, dtype: float64\n",
            "0    22.000000\n",
            "1    38.000000\n",
            "2    26.000000\n",
            "3    35.000000\n",
            "4    35.000000\n",
            "5    29.699118\n",
            "6    54.000000\n",
            "7     2.000000\n",
            "8    27.000000\n",
            "9    14.000000\n",
            "Name: age, dtype: float64\n"
          ],
          "name": "stdout"
        }
      ]
    },
    {
      "cell_type": "code",
      "metadata": {
        "colab": {
          "base_uri": "https://localhost:8080/"
        },
        "id": "piBq384IO2F7",
        "outputId": "d520b91a-efb9-49b8-9828-6470da8c1921"
      },
      "source": [
        "print(df['embark_town'][825:830])\n",
        "print('\\n')\n",
        "most_freq = df['embark_town'].value_counts(dropna=True).idxmax()\n",
        "print(most_freq)\n",
        "print('\\n')\n",
        "df['embark_town'].fillna(most_freq, inplace=True)\n",
        "print(df['embark_town'][825:830])"
      ],
      "execution_count": null,
      "outputs": [
        {
          "output_type": "stream",
          "text": [
            "825     Queenstown\n",
            "826    Southampton\n",
            "827      Cherbourg\n",
            "828     Queenstown\n",
            "829            NaN\n",
            "Name: embark_town, dtype: object\n",
            "\n",
            "\n",
            "Southampton\n",
            "\n",
            "\n",
            "825     Queenstown\n",
            "826    Southampton\n",
            "827      Cherbourg\n",
            "828     Queenstown\n",
            "829    Southampton\n",
            "Name: embark_town, dtype: object\n"
          ],
          "name": "stdout"
        }
      ]
    },
    {
      "cell_type": "code",
      "metadata": {
        "colab": {
          "base_uri": "https://localhost:8080/"
        },
        "id": "E7g1SY0fPf8b",
        "outputId": "ed8d5e4e-cbe4-4ef4-a30c-357fb463d9f0"
      },
      "source": [
        "df = sns.load_dataset('titanic')\n",
        "print(df['embark_town'][825:830])\n",
        "print('\\n')\n",
        "\n",
        "df['embark_town'].fillna(method='ffill', inplace=True)\n",
        "print(df['embark_town'][825:830])\n",
        "print('\\n')"
      ],
      "execution_count": null,
      "outputs": [
        {
          "output_type": "stream",
          "text": [
            "825     Queenstown\n",
            "826    Southampton\n",
            "827      Cherbourg\n",
            "828     Queenstown\n",
            "829            NaN\n",
            "Name: embark_town, dtype: object\n",
            "\n",
            "\n",
            "825     Queenstown\n",
            "826    Southampton\n",
            "827      Cherbourg\n",
            "828     Queenstown\n",
            "829     Queenstown\n",
            "Name: embark_town, dtype: object\n",
            "\n",
            "\n"
          ],
          "name": "stdout"
        }
      ]
    },
    {
      "cell_type": "code",
      "metadata": {
        "colab": {
          "base_uri": "https://localhost:8080/"
        },
        "id": "8LfsJG71PyyM",
        "outputId": "6980ec2f-454d-431f-89aa-26d5029e5ab8"
      },
      "source": [
        "df = pd.DataFrame({'c1': ['a', 'a', 'b', 'a', 'b'],\n",
        "                   'c2': [1, 1, 1, 2, 2],\n",
        "                   'c3': [1, 1, 2, 2, 2]})\n",
        "\n",
        "print(df)\n",
        "print('\\n')\n",
        "\n",
        "df_dup = df.duplicated()\n",
        "print(df_dup)\n",
        "print('\\n')"
      ],
      "execution_count": null,
      "outputs": [
        {
          "output_type": "stream",
          "text": [
            "  c1  c2  c3\n",
            "0  a   1   1\n",
            "1  a   1   1\n",
            "2  b   1   2\n",
            "3  a   2   2\n",
            "4  b   2   2\n",
            "\n",
            "\n",
            "0    False\n",
            "1     True\n",
            "2    False\n",
            "3    False\n",
            "4    False\n",
            "dtype: bool\n",
            "\n",
            "\n"
          ],
          "name": "stdout"
        }
      ]
    },
    {
      "cell_type": "code",
      "metadata": {
        "colab": {
          "base_uri": "https://localhost:8080/"
        },
        "id": "FKlban4AQEuT",
        "outputId": "aba8b71e-1fe2-4fb3-e316-a9cb38ca86d1"
      },
      "source": [
        "col_dup = df['c2'].duplicated()\n",
        "print(col_dup)"
      ],
      "execution_count": null,
      "outputs": [
        {
          "output_type": "stream",
          "text": [
            "0    False\n",
            "1     True\n",
            "2     True\n",
            "3    False\n",
            "4     True\n",
            "Name: c2, dtype: bool\n"
          ],
          "name": "stdout"
        }
      ]
    },
    {
      "cell_type": "code",
      "metadata": {
        "colab": {
          "base_uri": "https://localhost:8080/"
        },
        "id": "QVT1T40VQVhC",
        "outputId": "bb52febd-13c5-47b0-9c66-5ef9c5625722"
      },
      "source": [
        "df2 = df.drop_duplicates()\n",
        "print(df2)"
      ],
      "execution_count": null,
      "outputs": [
        {
          "output_type": "stream",
          "text": [
            "  c1  c2  c3\n",
            "0  a   1   1\n",
            "2  b   1   2\n",
            "3  a   2   2\n",
            "4  b   2   2\n"
          ],
          "name": "stdout"
        }
      ]
    },
    {
      "cell_type": "code",
      "metadata": {
        "colab": {
          "base_uri": "https://localhost:8080/"
        },
        "id": "LkoSbpAgQbga",
        "outputId": "21052974-6456-4818-c55e-fc835e770761"
      },
      "source": [
        "df3 = df.drop_duplicates(subset=['c2','c3'])\n",
        "print(df3)"
      ],
      "execution_count": null,
      "outputs": [
        {
          "output_type": "stream",
          "text": [
            "  c1  c2  c3\n",
            "0  a   1   1\n",
            "2  b   1   2\n",
            "3  a   2   2\n"
          ],
          "name": "stdout"
        }
      ]
    },
    {
      "cell_type": "code",
      "metadata": {
        "id": "A3og0ACdQhUK"
      },
      "source": [
        "from datetime import datetime"
      ],
      "execution_count": null,
      "outputs": []
    },
    {
      "cell_type": "code",
      "metadata": {
        "colab": {
          "base_uri": "https://localhost:8080/"
        },
        "id": "Vg_6C35TUJ8a",
        "outputId": "e0f75221-2066-4f41-f66f-7274595353cd"
      },
      "source": [
        "ts_days_idx = pd.date_range('2021-07-01', periods=10)\n",
        "ts_days_idx"
      ],
      "execution_count": null,
      "outputs": [
        {
          "output_type": "execute_result",
          "data": {
            "text/plain": [
              "DatetimeIndex(['2021-07-01', '2021-07-02', '2021-07-03', '2021-07-04',\n",
              "               '2021-07-05', '2021-07-06', '2021-07-07', '2021-07-08',\n",
              "               '2021-07-09', '2021-07-10'],\n",
              "              dtype='datetime64[ns]', freq='D')"
            ]
          },
          "metadata": {
            "tags": []
          },
          "execution_count": 36
        }
      ]
    },
    {
      "cell_type": "code",
      "metadata": {
        "colab": {
          "base_uri": "https://localhost:8080/"
        },
        "id": "r5LOF-uiURJw",
        "outputId": "3d45fc6e-24e0-4d0f-e956-9df67792d15f"
      },
      "source": [
        "series_ts = pd.Series(range(len(ts_days_idx)), index=ts_days_idx)\n",
        "series_ts"
      ],
      "execution_count": null,
      "outputs": [
        {
          "output_type": "execute_result",
          "data": {
            "text/plain": [
              "2021-07-01    0\n",
              "2021-07-02    1\n",
              "2021-07-03    2\n",
              "2021-07-04    3\n",
              "2021-07-05    4\n",
              "2021-07-06    5\n",
              "2021-07-07    6\n",
              "2021-07-08    7\n",
              "2021-07-09    8\n",
              "2021-07-10    9\n",
              "Freq: D, dtype: int64"
            ]
          },
          "metadata": {
            "tags": []
          },
          "execution_count": 38
        }
      ]
    },
    {
      "cell_type": "code",
      "metadata": {
        "colab": {
          "base_uri": "https://localhost:8080/"
        },
        "id": "KPwGLu6CUcTo",
        "outputId": "68a8c35a-094b-4357-8306-69e2ffd8a348"
      },
      "source": [
        "series_ts.index"
      ],
      "execution_count": null,
      "outputs": [
        {
          "output_type": "execute_result",
          "data": {
            "text/plain": [
              "DatetimeIndex(['2021-07-01', '2021-07-02', '2021-07-03', '2021-07-04',\n",
              "               '2021-07-05', '2021-07-06', '2021-07-07', '2021-07-08',\n",
              "               '2021-07-09', '2021-07-10'],\n",
              "              dtype='datetime64[ns]', freq='D')"
            ]
          },
          "metadata": {
            "tags": []
          },
          "execution_count": 39
        }
      ]
    },
    {
      "cell_type": "code",
      "metadata": {
        "colab": {
          "base_uri": "https://localhost:8080/"
        },
        "id": "7JPQv6hZUiHg",
        "outputId": "01484cf9-985c-4870-840a-bf005f1a4848"
      },
      "source": [
        "pd.date_range(start='2021-07-01', end='2021-07-10')"
      ],
      "execution_count": null,
      "outputs": [
        {
          "output_type": "execute_result",
          "data": {
            "text/plain": [
              "DatetimeIndex(['2021-07-01', '2021-07-02', '2021-07-03', '2021-07-04',\n",
              "               '2021-07-05', '2021-07-06', '2021-07-07', '2021-07-08',\n",
              "               '2021-07-09', '2021-07-10'],\n",
              "              dtype='datetime64[ns]', freq='D')"
            ]
          },
          "metadata": {
            "tags": []
          },
          "execution_count": 40
        }
      ]
    },
    {
      "cell_type": "code",
      "metadata": {
        "colab": {
          "base_uri": "https://localhost:8080/"
        },
        "id": "DpZcr79DU_ng",
        "outputId": "9d2d9e9b-0a7d-4b3f-8995-cc1cd18ab81c"
      },
      "source": [
        "pd.date_range(start='2021-07-01 00:00:00', periods=10, freq='S')"
      ],
      "execution_count": null,
      "outputs": [
        {
          "output_type": "execute_result",
          "data": {
            "text/plain": [
              "DatetimeIndex(['2021-07-01 00:00:00', '2021-07-01 00:00:01',\n",
              "               '2021-07-01 00:00:02', '2021-07-01 00:00:03',\n",
              "               '2021-07-01 00:00:04', '2021-07-01 00:00:05',\n",
              "               '2021-07-01 00:00:06', '2021-07-01 00:00:07',\n",
              "               '2021-07-01 00:00:08', '2021-07-01 00:00:09'],\n",
              "              dtype='datetime64[ns]', freq='S')"
            ]
          },
          "metadata": {
            "tags": []
          },
          "execution_count": 41
        }
      ]
    },
    {
      "cell_type": "code",
      "metadata": {
        "colab": {
          "base_uri": "https://localhost:8080/"
        },
        "id": "GO0QHemPVF7_",
        "outputId": "d3cf9d8f-2aaf-4a49-bb71-665e528a4ea5"
      },
      "source": [
        "pd.date_range(start='2021-07-01 00:00:00', periods=10, freq='10S')"
      ],
      "execution_count": null,
      "outputs": [
        {
          "output_type": "execute_result",
          "data": {
            "text/plain": [
              "DatetimeIndex(['2021-07-01 00:00:00', '2021-07-01 00:00:10',\n",
              "               '2021-07-01 00:00:20', '2021-07-01 00:00:30',\n",
              "               '2021-07-01 00:00:40', '2021-07-01 00:00:50',\n",
              "               '2021-07-01 00:01:00', '2021-07-01 00:01:10',\n",
              "               '2021-07-01 00:01:20', '2021-07-01 00:01:30'],\n",
              "              dtype='datetime64[ns]', freq='10S')"
            ]
          },
          "metadata": {
            "tags": []
          },
          "execution_count": 42
        }
      ]
    },
    {
      "cell_type": "code",
      "metadata": {
        "colab": {
          "base_uri": "https://localhost:8080/"
        },
        "id": "Ui-zJ81MVIWv",
        "outputId": "04908364-6213-431a-a22d-4ffb7880d234"
      },
      "source": [
        "print(series_ts[6:],'\\n')\n",
        "print(series_ts.iloc[6:],'\\n')\n",
        "print(series_ts['2021-07-07':'2021-07-10'],'\\n')\n",
        "print(series_ts['07/07/21':'10/07/21'],'\\n')"
      ],
      "execution_count": null,
      "outputs": [
        {
          "output_type": "stream",
          "text": [
            "2021-07-07    6\n",
            "2021-07-08    7\n",
            "2021-07-09    8\n",
            "2021-07-10    9\n",
            "Freq: D, dtype: int64 \n",
            "\n",
            "2021-07-07    6\n",
            "2021-07-08    7\n",
            "2021-07-09    8\n",
            "2021-07-10    9\n",
            "Freq: D, dtype: int64 \n",
            "\n",
            "2021-07-07    6\n",
            "2021-07-08    7\n",
            "2021-07-09    8\n",
            "2021-07-10    9\n",
            "Freq: D, dtype: int64 \n",
            "\n",
            "2021-07-07    6\n",
            "2021-07-08    7\n",
            "2021-07-09    8\n",
            "2021-07-10    9\n",
            "Freq: D, dtype: int64 \n",
            "\n"
          ],
          "name": "stdout"
        }
      ]
    },
    {
      "cell_type": "code",
      "metadata": {
        "colab": {
          "base_uri": "https://localhost:8080/"
        },
        "id": "2m9w9s-LWU1w",
        "outputId": "1877cf37-ae43-42ba-ff9f-08648251d9d5"
      },
      "source": [
        "print(series_ts['2021'],'\\n')\n",
        "print(series_ts['2021-07'],'\\n')"
      ],
      "execution_count": null,
      "outputs": [
        {
          "output_type": "stream",
          "text": [
            "2021-07-01    0\n",
            "2021-07-02    1\n",
            "2021-07-03    2\n",
            "2021-07-04    3\n",
            "2021-07-05    4\n",
            "2021-07-06    5\n",
            "2021-07-07    6\n",
            "2021-07-08    7\n",
            "2021-07-09    8\n",
            "2021-07-10    9\n",
            "Freq: D, dtype: int64 \n",
            "\n",
            "2021-07-01    0\n",
            "2021-07-02    1\n",
            "2021-07-03    2\n",
            "2021-07-04    3\n",
            "2021-07-05    4\n",
            "2021-07-06    5\n",
            "2021-07-07    6\n",
            "2021-07-08    7\n",
            "2021-07-09    8\n",
            "2021-07-10    9\n",
            "Freq: D, dtype: int64 \n",
            "\n"
          ],
          "name": "stdout"
        }
      ]
    },
    {
      "cell_type": "code",
      "metadata": {
        "colab": {
          "base_uri": "https://localhost:8080/"
        },
        "id": "z40U0LSpXCxm",
        "outputId": "7a43bb39-9b4e-4739-f9c5-6457e9899cdf"
      },
      "source": [
        "print(series_ts.truncate(before='2021-07-05'),'\\n')\n",
        "print(series_ts.truncate(after='2021-07-05'),'\\n')"
      ],
      "execution_count": null,
      "outputs": [
        {
          "output_type": "stream",
          "text": [
            "2021-07-05    4\n",
            "2021-07-06    5\n",
            "2021-07-07    6\n",
            "2021-07-08    7\n",
            "2021-07-09    8\n",
            "2021-07-10    9\n",
            "Freq: D, dtype: int64 \n",
            "\n",
            "2021-07-01    0\n",
            "2021-07-02    1\n",
            "2021-07-03    2\n",
            "2021-07-04    3\n",
            "2021-07-05    4\n",
            "Freq: D, dtype: int64 \n",
            "\n"
          ],
          "name": "stdout"
        }
      ]
    },
    {
      "cell_type": "code",
      "metadata": {
        "id": "U35iNs1PXUuR"
      },
      "source": [
        ""
      ],
      "execution_count": null,
      "outputs": []
    }
  ]
}