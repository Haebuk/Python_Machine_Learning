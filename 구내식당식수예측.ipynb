{
  "nbformat": 4,
  "nbformat_minor": 0,
  "metadata": {
    "colab": {
      "name": "구내식당식수예측.ipynb",
      "provenance": [],
      "collapsed_sections": [],
      "machine_shape": "hm",
      "mount_file_id": "1Zq0t1LDhgmlkJbZrlR8Oq05FmPV7QoYe",
      "authorship_tag": "ABX9TyPa/HUHteg6gZsxR0l5UyoG",
      "include_colab_link": true
    },
    "kernelspec": {
      "name": "python3",
      "display_name": "Python 3"
    },
    "language_info": {
      "name": "python"
    },
    "accelerator": "GPU"
  },
  "cells": [
    {
      "cell_type": "markdown",
      "metadata": {
        "id": "view-in-github",
        "colab_type": "text"
      },
      "source": [
        "<a href=\"https://colab.research.google.com/github/Haebuk/Python_Machine_Learning/blob/master/%EA%B5%AC%EB%82%B4%EC%8B%9D%EB%8B%B9%EC%8B%9D%EC%88%98%EC%98%88%EC%B8%A1.ipynb\" target=\"_parent\"><img src=\"https://colab.research.google.com/assets/colab-badge.svg\" alt=\"Open In Colab\"/></a>"
      ]
    },
    {
      "cell_type": "markdown",
      "metadata": {
        "id": "pTW17ZhzhDvU"
      },
      "source": [
        "# 라이브러리\n"
      ]
    },
    {
      "cell_type": "code",
      "metadata": {
        "id": "maw3fEx49_Ol",
        "colab": {
          "base_uri": "https://localhost:8080/"
        },
        "outputId": "3091b786-5115-474f-846f-1c39e5a0cdf0"
      },
      "source": [
        "import pandas as pd\n",
        "import numpy as np\n",
        "import matplotlib.pyplot as plt\n",
        "import seaborn as sns\n",
        "import re\n",
        "from collections import defaultdict\n",
        "from tqdm import tqdm\n",
        "from sklearn.feature_extraction.text import TfidfVectorizer\n",
        "from sklearn.model_selection import train_test_split, StratifiedKFold, KFold\n",
        "from sklearn.preprocessing import LabelEncoder, OneHotEncoder\n",
        "from copy import deepcopy\n",
        "!pip install -U gensim\n",
        "from gensim.models import Word2Vec, FastText\n",
        "# !pip install https://s3-us-west-2.amazonaws.com/xgboost-nightly-builds/xgboost-1.4.0_SNAPSHOT%2B4224c08cacceba3f83f90e387c07aa6205a83bfa-py3-none-manylinux2010_x86_64.whl\n",
        "\n",
        "# ! git clone --recursive https://github.com/Microsoft/LightGBM\n",
        "# ! cd LightGBM && rm -rf build && mkdir build && cd build && cmake -DUSE_GPU=1 ../../LightGBM && make -j4 && cd ../python-package && python3 setup.py install --precompile --gpu;    \n",
        "from sklearn.metrics import mean_absolute_error\n",
        "import xgboost as xgb\n",
        "import lightgbm as lgb\n",
        "from lightgbm import LGBMRegressor\n",
        "from sklearn.linear_model import LinearRegression\n",
        "from sklearn.ensemble import RandomForestRegressor\n",
        "# !pip install optuna -q\n",
        "# import optuna\n",
        "# from optuna.integration import XGBoostPruningCallback"
      ],
      "execution_count": 1,
      "outputs": [
        {
          "output_type": "stream",
          "text": [
            "Collecting gensim\n",
            "\u001b[?25l  Downloading https://files.pythonhosted.org/packages/44/52/f1417772965652d4ca6f901515debcd9d6c5430969e8c02ee7737e6de61c/gensim-4.0.1-cp37-cp37m-manylinux1_x86_64.whl (23.9MB)\n",
            "\u001b[K     |████████████████████████████████| 23.9MB 1.5MB/s \n",
            "\u001b[?25hRequirement already satisfied, skipping upgrade: numpy>=1.11.3 in /usr/local/lib/python3.7/dist-packages (from gensim) (1.19.5)\n",
            "Requirement already satisfied, skipping upgrade: scipy>=0.18.1 in /usr/local/lib/python3.7/dist-packages (from gensim) (1.4.1)\n",
            "Requirement already satisfied, skipping upgrade: smart-open>=1.8.1 in /usr/local/lib/python3.7/dist-packages (from gensim) (5.1.0)\n",
            "Installing collected packages: gensim\n",
            "  Found existing installation: gensim 3.6.0\n",
            "    Uninstalling gensim-3.6.0:\n",
            "      Successfully uninstalled gensim-3.6.0\n",
            "Successfully installed gensim-4.0.1\n"
          ],
          "name": "stdout"
        },
        {
          "output_type": "stream",
          "text": [
            "/usr/local/lib/python3.7/dist-packages/gensim/similarities/__init__.py:15: UserWarning: The gensim.similarities.levenshtein submodule is disabled, because the optional Levenshtein package <https://pypi.org/project/python-Levenshtein/> is unavailable. Install Levenhstein (e.g. `pip install python-Levenshtein`) to suppress this warning.\n",
            "  warnings.warn(msg)\n"
          ],
          "name": "stderr"
        }
      ]
    },
    {
      "cell_type": "markdown",
      "metadata": {
        "id": "csa4UxDQETuu"
      },
      "source": [
        "# 파일 로드"
      ]
    },
    {
      "cell_type": "code",
      "metadata": {
        "id": "fq5HFK3L-QWR"
      },
      "source": [
        "PATH = '/content/drive/MyDrive/input/235743_구내식당 식사 인원 예측 AI 경진대회_data/'\n",
        "train_df = pd.read_csv(PATH + 'train.csv')\n",
        "test_df = pd.read_csv(PATH + 'test.csv')"
      ],
      "execution_count": 2,
      "outputs": []
    },
    {
      "cell_type": "code",
      "metadata": {
        "colab": {
          "base_uri": "https://localhost:8080/",
          "height": 1000
        },
        "id": "yVVZGTl3-4RC",
        "outputId": "6d64d693-a59e-4ce6-c743-7377e099fb91"
      },
      "source": [
        "train_df.head(10)"
      ],
      "execution_count": 47,
      "outputs": [
        {
          "output_type": "execute_result",
          "data": {
            "text/html": [
              "<div>\n",
              "<style scoped>\n",
              "    .dataframe tbody tr th:only-of-type {\n",
              "        vertical-align: middle;\n",
              "    }\n",
              "\n",
              "    .dataframe tbody tr th {\n",
              "        vertical-align: top;\n",
              "    }\n",
              "\n",
              "    .dataframe thead th {\n",
              "        text-align: right;\n",
              "    }\n",
              "</style>\n",
              "<table border=\"1\" class=\"dataframe\">\n",
              "  <thead>\n",
              "    <tr style=\"text-align: right;\">\n",
              "      <th></th>\n",
              "      <th>일자</th>\n",
              "      <th>요일</th>\n",
              "      <th>본사정원수</th>\n",
              "      <th>본사휴가자수</th>\n",
              "      <th>본사출장자수</th>\n",
              "      <th>본사시간외근무명령서승인건수</th>\n",
              "      <th>현본사소속재택근무자수</th>\n",
              "      <th>조식메뉴</th>\n",
              "      <th>중식메뉴</th>\n",
              "      <th>석식메뉴</th>\n",
              "      <th>중식계</th>\n",
              "      <th>석식계</th>\n",
              "    </tr>\n",
              "  </thead>\n",
              "  <tbody>\n",
              "    <tr>\n",
              "      <th>0</th>\n",
              "      <td>2016-02-01</td>\n",
              "      <td>월</td>\n",
              "      <td>2601</td>\n",
              "      <td>50</td>\n",
              "      <td>150</td>\n",
              "      <td>238</td>\n",
              "      <td>0.0</td>\n",
              "      <td>모닝롤/찐빵  우유/두유/주스 계란후라이  호두죽/쌀밥 (쌀:국내산) 된장찌개  쥐...</td>\n",
              "      <td>쌀밥/잡곡밥 (쌀,현미흑미:국내산) 오징어찌개  쇠불고기 (쇠고기:호주산) 계란찜 ...</td>\n",
              "      <td>쌀밥/잡곡밥 (쌀,현미흑미:국내산) 육개장  자반고등어구이  두부조림  건파래무침 ...</td>\n",
              "      <td>1039.0</td>\n",
              "      <td>331.0</td>\n",
              "    </tr>\n",
              "    <tr>\n",
              "      <th>1</th>\n",
              "      <td>2016-02-02</td>\n",
              "      <td>화</td>\n",
              "      <td>2601</td>\n",
              "      <td>50</td>\n",
              "      <td>173</td>\n",
              "      <td>319</td>\n",
              "      <td>0.0</td>\n",
              "      <td>모닝롤/단호박샌드  우유/두유/주스 계란후라이  팥죽/쌀밥 (쌀:국내산) 호박젓국찌...</td>\n",
              "      <td>쌀밥/잡곡밥 (쌀,현미흑미:국내산) 김치찌개  가자미튀김  모둠소세지구이  마늘쫑무...</td>\n",
              "      <td>콩나물밥*양념장 (쌀,현미흑미:국내산) 어묵국  유산슬 (쇠고기:호주산) 아삭고추무...</td>\n",
              "      <td>867.0</td>\n",
              "      <td>560.0</td>\n",
              "    </tr>\n",
              "    <tr>\n",
              "      <th>2</th>\n",
              "      <td>2016-02-03</td>\n",
              "      <td>수</td>\n",
              "      <td>2601</td>\n",
              "      <td>56</td>\n",
              "      <td>180</td>\n",
              "      <td>111</td>\n",
              "      <td>0.0</td>\n",
              "      <td>모닝롤/베이글  우유/두유/주스 계란후라이  표고버섯죽/쌀밥 (쌀:국내산) 콩나물국...</td>\n",
              "      <td>카레덮밥 (쌀,현미흑미:국내산) 팽이장국  치킨핑거 (닭고기:국내산) 쫄면야채무침 ...</td>\n",
              "      <td>쌀밥/잡곡밥 (쌀,현미흑미:국내산) 청국장찌개  황태양념구이 (황태:러시아산) 고기...</td>\n",
              "      <td>1017.0</td>\n",
              "      <td>573.0</td>\n",
              "    </tr>\n",
              "    <tr>\n",
              "      <th>3</th>\n",
              "      <td>2016-02-04</td>\n",
              "      <td>목</td>\n",
              "      <td>2601</td>\n",
              "      <td>104</td>\n",
              "      <td>220</td>\n",
              "      <td>355</td>\n",
              "      <td>0.0</td>\n",
              "      <td>모닝롤/토마토샌드  우유/두유/주스 계란후라이  닭죽/쌀밥 (쌀,닭:국내산) 근대국...</td>\n",
              "      <td>쌀밥/잡곡밥 (쌀,현미흑미:국내산) 쇠고기무국  주꾸미볶음  부추전  시금치나물  ...</td>\n",
              "      <td>미니김밥*겨자장 (쌀,현미흑미:국내산) 우동  멕시칸샐러드  군고구마  무피클  포...</td>\n",
              "      <td>978.0</td>\n",
              "      <td>525.0</td>\n",
              "    </tr>\n",
              "    <tr>\n",
              "      <th>4</th>\n",
              "      <td>2016-02-05</td>\n",
              "      <td>금</td>\n",
              "      <td>2601</td>\n",
              "      <td>278</td>\n",
              "      <td>181</td>\n",
              "      <td>34</td>\n",
              "      <td>0.0</td>\n",
              "      <td>모닝롤/와플  우유/두유/주스 계란후라이  쇠고기죽/쌀밥 (쌀:국내산) 재첩국  방...</td>\n",
              "      <td>쌀밥/잡곡밥 (쌀,현미흑미:국내산) 떡국  돈육씨앗강정 (돼지고기:국내산) 우엉잡채...</td>\n",
              "      <td>쌀밥/잡곡밥 (쌀,현미흑미:국내산) 차돌박이찌개 (쇠고기:호주산) 닭갈비 (닭고기:...</td>\n",
              "      <td>925.0</td>\n",
              "      <td>330.0</td>\n",
              "    </tr>\n",
              "    <tr>\n",
              "      <th>5</th>\n",
              "      <td>2016-02-11</td>\n",
              "      <td>목</td>\n",
              "      <td>2601</td>\n",
              "      <td>383</td>\n",
              "      <td>143</td>\n",
              "      <td>417</td>\n",
              "      <td>0.0</td>\n",
              "      <td>팬케익/찐빵  우유/두유/주스  계란후라이  견과류죽/쌀밥 (쌀:국내산) 감자찌개 ...</td>\n",
              "      <td>쌀밥/잡곡밥 (쌀,현미흑미:국내산) 시래기국  훈제오리구이  도토리묵무침  쌈무/양...</td>\n",
              "      <td>참치회덮밥 (쌀,현미흑미:국내산) 맑은국  군만두  과일샐러드  락교  포기김치 (...</td>\n",
              "      <td>1045.0</td>\n",
              "      <td>550.0</td>\n",
              "    </tr>\n",
              "    <tr>\n",
              "      <th>6</th>\n",
              "      <td>2016-02-12</td>\n",
              "      <td>금</td>\n",
              "      <td>2601</td>\n",
              "      <td>389</td>\n",
              "      <td>156</td>\n",
              "      <td>93</td>\n",
              "      <td>0.0</td>\n",
              "      <td>모닝롤/야채샌드  우유/두유/주스  계란후라이  고구마죽/쌀밥 (쌀:국내산) 봄동된...</td>\n",
              "      <td>쌀밥/잡곡밥 (쌀,현미흑미:국내산) 꽃게탕  돈육굴소스볶음  옥수수전  유채나물  ...</td>\n",
              "      <td>쌀밥/잡곡밥 (쌀,현미흑미:국내산) 김치콩나물국  미니함박  어묵볶음  물파래무침 ...</td>\n",
              "      <td>909.0</td>\n",
              "      <td>598.0</td>\n",
              "    </tr>\n",
              "    <tr>\n",
              "      <th>7</th>\n",
              "      <td>2016-02-15</td>\n",
              "      <td>월</td>\n",
              "      <td>2601</td>\n",
              "      <td>87</td>\n",
              "      <td>204</td>\n",
              "      <td>482</td>\n",
              "      <td>0.0</td>\n",
              "      <td>모닝롤/치즈프레즐  우유/두유/주스  계란후라이  잣죽/쌀밥 (쌀:국내산) 민물새우...</td>\n",
              "      <td>쌀밥/잡곡밥 (쌀:국내산) 시금치국  닭감자조림 (닭고기:국내산) 연두부*양념장  ...</td>\n",
              "      <td>쌀밥/잡곡밥 (쌀:국내산) 홍합미역국  등갈비김치찜 (돼지고기,김치:국내산) 임연수...</td>\n",
              "      <td>1268.0</td>\n",
              "      <td>672.0</td>\n",
              "    </tr>\n",
              "    <tr>\n",
              "      <th>8</th>\n",
              "      <td>2016-02-16</td>\n",
              "      <td>화</td>\n",
              "      <td>2601</td>\n",
              "      <td>72</td>\n",
              "      <td>236</td>\n",
              "      <td>526</td>\n",
              "      <td>0.0</td>\n",
              "      <td>모닝롤/마늘빵  우유/두유/주스  계란후라이  단호박죽/쌀밥 (쌀:국내산) 어묵국 ...</td>\n",
              "      <td>쌀밥/잡곡밥 (쌀:국내산) 쇠고기무국 (쇠고기:호주산) 탕수어 (동태:러시아산) 오...</td>\n",
              "      <td>쌀밥/잡곡밥 (쌀:국내산) 된장찌개  쇠불고기 (쇠고기:호주산) 해파리겨자채  봄동...</td>\n",
              "      <td>1014.0</td>\n",
              "      <td>523.0</td>\n",
              "    </tr>\n",
              "    <tr>\n",
              "      <th>9</th>\n",
              "      <td>2016-02-17</td>\n",
              "      <td>수</td>\n",
              "      <td>2601</td>\n",
              "      <td>78</td>\n",
              "      <td>250</td>\n",
              "      <td>23</td>\n",
              "      <td>0.0</td>\n",
              "      <td>모닝롤/참치샌드  우유/두유/주스  계란후라이  흑임자죽/쌀밥 (쌀:국내산) 북어계...</td>\n",
              "      <td>쌀밥/잡곡밥 (쌀:국내산) 냉이된장국  쇠고기장조림 (쇠고기:호주산) 통도라지구이 ...</td>\n",
              "      <td>볶음밥*자장소스 (쌀:국내산) 맑은국  새우또띠아  쨔샤이무침  요플레  포기김치 ...</td>\n",
              "      <td>916.0</td>\n",
              "      <td>588.0</td>\n",
              "    </tr>\n",
              "  </tbody>\n",
              "</table>\n",
              "</div>"
            ],
            "text/plain": [
              "           일자 요일  ...     중식계    석식계\n",
              "0  2016-02-01  월  ...  1039.0  331.0\n",
              "1  2016-02-02  화  ...   867.0  560.0\n",
              "2  2016-02-03  수  ...  1017.0  573.0\n",
              "3  2016-02-04  목  ...   978.0  525.0\n",
              "4  2016-02-05  금  ...   925.0  330.0\n",
              "5  2016-02-11  목  ...  1045.0  550.0\n",
              "6  2016-02-12  금  ...   909.0  598.0\n",
              "7  2016-02-15  월  ...  1268.0  672.0\n",
              "8  2016-02-16  화  ...  1014.0  523.0\n",
              "9  2016-02-17  수  ...   916.0  588.0\n",
              "\n",
              "[10 rows x 12 columns]"
            ]
          },
          "metadata": {
            "tags": []
          },
          "execution_count": 47
        }
      ]
    },
    {
      "cell_type": "code",
      "metadata": {
        "colab": {
          "base_uri": "https://localhost:8080/",
          "height": 544
        },
        "id": "kgSYY8gz_AuO",
        "outputId": "97195ed7-af13-42ee-83b4-9ca640b40323"
      },
      "source": [
        "test_df.head()"
      ],
      "execution_count": 48,
      "outputs": [
        {
          "output_type": "execute_result",
          "data": {
            "text/html": [
              "<div>\n",
              "<style scoped>\n",
              "    .dataframe tbody tr th:only-of-type {\n",
              "        vertical-align: middle;\n",
              "    }\n",
              "\n",
              "    .dataframe tbody tr th {\n",
              "        vertical-align: top;\n",
              "    }\n",
              "\n",
              "    .dataframe thead th {\n",
              "        text-align: right;\n",
              "    }\n",
              "</style>\n",
              "<table border=\"1\" class=\"dataframe\">\n",
              "  <thead>\n",
              "    <tr style=\"text-align: right;\">\n",
              "      <th></th>\n",
              "      <th>일자</th>\n",
              "      <th>요일</th>\n",
              "      <th>본사정원수</th>\n",
              "      <th>본사휴가자수</th>\n",
              "      <th>본사출장자수</th>\n",
              "      <th>본사시간외근무명령서승인건수</th>\n",
              "      <th>현본사소속재택근무자수</th>\n",
              "      <th>조식메뉴</th>\n",
              "      <th>중식메뉴</th>\n",
              "      <th>석식메뉴</th>\n",
              "    </tr>\n",
              "  </thead>\n",
              "  <tbody>\n",
              "    <tr>\n",
              "      <th>0</th>\n",
              "      <td>2021-01-27</td>\n",
              "      <td>수</td>\n",
              "      <td>2983</td>\n",
              "      <td>88</td>\n",
              "      <td>182</td>\n",
              "      <td>5</td>\n",
              "      <td>358.0</td>\n",
              "      <td>모닝롤/연유버터베이글 우유/주스 계란후라이/찐계란 단호박죽/흑미밥 우거지국 고기완자...</td>\n",
              "      <td>쌀밥/흑미밥/찰현미밥 대구지리 매운돈갈비찜 오꼬노미계란말이 상추무침 포기김치 양상추...</td>\n",
              "      <td>흑미밥 얼큰순두부찌개 쇠고기우엉볶음 버섯햄볶음 (New)아삭이고추무절임 포기김치</td>\n",
              "    </tr>\n",
              "    <tr>\n",
              "      <th>1</th>\n",
              "      <td>2021-01-28</td>\n",
              "      <td>목</td>\n",
              "      <td>2983</td>\n",
              "      <td>104</td>\n",
              "      <td>212</td>\n",
              "      <td>409</td>\n",
              "      <td>348.0</td>\n",
              "      <td>모닝롤/대만샌드위치 우유/주스 계란후라이/찐계란 누룽지탕/흑미밥 황태국 시래기지짐 ...</td>\n",
              "      <td>쌀밥/보리밥/찰현미밥 우렁된장찌개 오리주물럭 청양부추전 수제삼색무쌈 겉절이김치 양상...</td>\n",
              "      <td>충무김밥 우동국물 오징어무침 꽃맛살샐러드 얼갈이쌈장무침 석박지</td>\n",
              "    </tr>\n",
              "    <tr>\n",
              "      <th>2</th>\n",
              "      <td>2021-01-29</td>\n",
              "      <td>금</td>\n",
              "      <td>2983</td>\n",
              "      <td>270</td>\n",
              "      <td>249</td>\n",
              "      <td>0</td>\n",
              "      <td>294.0</td>\n",
              "      <td>모닝롤/핫케익 우유/주스 계란후라이/찐계란 오곡죽/흑미밥 매생이굴국 고구마순볶음 양...</td>\n",
              "      <td>쌀밥/흑미밥/찰현미밥 팽이장국 수제돈까스*소스 가자미조림 동초나물무침 포기김치 양상...</td>\n",
              "      <td>흑미밥 물만둣국 카레찜닭 숯불양념꼬지어묵 꼬시래기무침 포기김치</td>\n",
              "    </tr>\n",
              "    <tr>\n",
              "      <th>3</th>\n",
              "      <td>2021-02-01</td>\n",
              "      <td>월</td>\n",
              "      <td>2924</td>\n",
              "      <td>108</td>\n",
              "      <td>154</td>\n",
              "      <td>538</td>\n",
              "      <td>322.0</td>\n",
              "      <td>모닝롤/촉촉한치즈케익 우유/주스 계란후라이/찐계란 누룽지탕/흑미밥 두부김칫국 새우완...</td>\n",
              "      <td>쌀밥/흑미밥/찰현미밥 배추들깨국 오리대패불고기 시금치프리타타 부추고추장무침 포기김치...</td>\n",
              "      <td>흑미밥 동태탕 돈육꽈리고추장조림 당면채소무침 모자반무침 포기김치</td>\n",
              "    </tr>\n",
              "    <tr>\n",
              "      <th>4</th>\n",
              "      <td>2021-02-02</td>\n",
              "      <td>화</td>\n",
              "      <td>2924</td>\n",
              "      <td>62</td>\n",
              "      <td>186</td>\n",
              "      <td>455</td>\n",
              "      <td>314.0</td>\n",
              "      <td>모닝롤/토마토샌드 우유/주스 계란후라이/찐계란 채소죽/흑미밥 호박맑은국 오이생채 양...</td>\n",
              "      <td>쌀밥/팥밥/찰현미밥 부대찌개 닭살데리야끼조림 버섯탕수 세발나물무침 알타리김치/사과푸...</td>\n",
              "      <td>흑미밥 바지락살국 쇠고기청경채볶음 두부구이*볶은김치 머위된장무침 백김치</td>\n",
              "    </tr>\n",
              "  </tbody>\n",
              "</table>\n",
              "</div>"
            ],
            "text/plain": [
              "           일자  ...                                           석식메뉴\n",
              "0  2021-01-27  ...  흑미밥 얼큰순두부찌개 쇠고기우엉볶음 버섯햄볶음 (New)아삭이고추무절임 포기김치 \n",
              "1  2021-01-28  ...            충무김밥 우동국물 오징어무침 꽃맛살샐러드 얼갈이쌈장무침 석박지 \n",
              "2  2021-01-29  ...            흑미밥 물만둣국 카레찜닭 숯불양념꼬지어묵 꼬시래기무침 포기김치 \n",
              "3  2021-02-01  ...           흑미밥 동태탕 돈육꽈리고추장조림 당면채소무침 모자반무침 포기김치 \n",
              "4  2021-02-02  ...       흑미밥 바지락살국 쇠고기청경채볶음 두부구이*볶은김치 머위된장무침 백김치 \n",
              "\n",
              "[5 rows x 10 columns]"
            ]
          },
          "metadata": {
            "tags": []
          },
          "execution_count": 48
        }
      ]
    },
    {
      "cell_type": "code",
      "metadata": {
        "colab": {
          "base_uri": "https://localhost:8080/"
        },
        "id": "vxe-kkV6AlNF",
        "outputId": "cfa392e1-1317-4548-ecf2-b938fd33d1a6"
      },
      "source": [
        "print(train_df.shape, test_df.shape)"
      ],
      "execution_count": 49,
      "outputs": [
        {
          "output_type": "stream",
          "text": [
            "(1205, 12) (50, 10)\n"
          ],
          "name": "stdout"
        }
      ]
    },
    {
      "cell_type": "code",
      "metadata": {
        "colab": {
          "base_uri": "https://localhost:8080/",
          "height": 314
        },
        "id": "SasndXbCF8MZ",
        "outputId": "b1d09f02-4443-467d-8f8b-a24327fcc602"
      },
      "source": [
        "train_df.describe()"
      ],
      "execution_count": 50,
      "outputs": [
        {
          "output_type": "execute_result",
          "data": {
            "text/html": [
              "<div>\n",
              "<style scoped>\n",
              "    .dataframe tbody tr th:only-of-type {\n",
              "        vertical-align: middle;\n",
              "    }\n",
              "\n",
              "    .dataframe tbody tr th {\n",
              "        vertical-align: top;\n",
              "    }\n",
              "\n",
              "    .dataframe thead th {\n",
              "        text-align: right;\n",
              "    }\n",
              "</style>\n",
              "<table border=\"1\" class=\"dataframe\">\n",
              "  <thead>\n",
              "    <tr style=\"text-align: right;\">\n",
              "      <th></th>\n",
              "      <th>본사정원수</th>\n",
              "      <th>본사휴가자수</th>\n",
              "      <th>본사출장자수</th>\n",
              "      <th>본사시간외근무명령서승인건수</th>\n",
              "      <th>현본사소속재택근무자수</th>\n",
              "      <th>중식계</th>\n",
              "      <th>석식계</th>\n",
              "    </tr>\n",
              "  </thead>\n",
              "  <tbody>\n",
              "    <tr>\n",
              "      <th>count</th>\n",
              "      <td>1205.000000</td>\n",
              "      <td>1205.000000</td>\n",
              "      <td>1205.000000</td>\n",
              "      <td>1205.000000</td>\n",
              "      <td>1205.000000</td>\n",
              "      <td>1205.000000</td>\n",
              "      <td>1205.000000</td>\n",
              "    </tr>\n",
              "    <tr>\n",
              "      <th>mean</th>\n",
              "      <td>2807.815768</td>\n",
              "      <td>157.913693</td>\n",
              "      <td>241.142739</td>\n",
              "      <td>274.117012</td>\n",
              "      <td>43.506224</td>\n",
              "      <td>890.334440</td>\n",
              "      <td>461.772614</td>\n",
              "    </tr>\n",
              "    <tr>\n",
              "      <th>std</th>\n",
              "      <td>171.264404</td>\n",
              "      <td>144.190572</td>\n",
              "      <td>43.532298</td>\n",
              "      <td>246.239651</td>\n",
              "      <td>109.937400</td>\n",
              "      <td>209.505057</td>\n",
              "      <td>139.179202</td>\n",
              "    </tr>\n",
              "    <tr>\n",
              "      <th>min</th>\n",
              "      <td>2601.000000</td>\n",
              "      <td>23.000000</td>\n",
              "      <td>41.000000</td>\n",
              "      <td>0.000000</td>\n",
              "      <td>0.000000</td>\n",
              "      <td>296.000000</td>\n",
              "      <td>0.000000</td>\n",
              "    </tr>\n",
              "    <tr>\n",
              "      <th>25%</th>\n",
              "      <td>2645.000000</td>\n",
              "      <td>71.000000</td>\n",
              "      <td>217.000000</td>\n",
              "      <td>4.000000</td>\n",
              "      <td>0.000000</td>\n",
              "      <td>758.000000</td>\n",
              "      <td>406.000000</td>\n",
              "    </tr>\n",
              "    <tr>\n",
              "      <th>50%</th>\n",
              "      <td>2760.000000</td>\n",
              "      <td>105.000000</td>\n",
              "      <td>245.000000</td>\n",
              "      <td>299.000000</td>\n",
              "      <td>0.000000</td>\n",
              "      <td>879.000000</td>\n",
              "      <td>483.000000</td>\n",
              "    </tr>\n",
              "    <tr>\n",
              "      <th>75%</th>\n",
              "      <td>2962.000000</td>\n",
              "      <td>185.000000</td>\n",
              "      <td>272.000000</td>\n",
              "      <td>452.000000</td>\n",
              "      <td>0.000000</td>\n",
              "      <td>1032.000000</td>\n",
              "      <td>545.000000</td>\n",
              "    </tr>\n",
              "    <tr>\n",
              "      <th>max</th>\n",
              "      <td>3305.000000</td>\n",
              "      <td>1224.000000</td>\n",
              "      <td>378.000000</td>\n",
              "      <td>1044.000000</td>\n",
              "      <td>533.000000</td>\n",
              "      <td>1459.000000</td>\n",
              "      <td>905.000000</td>\n",
              "    </tr>\n",
              "  </tbody>\n",
              "</table>\n",
              "</div>"
            ],
            "text/plain": [
              "             본사정원수       본사휴가자수  ...          중식계          석식계\n",
              "count  1205.000000  1205.000000  ...  1205.000000  1205.000000\n",
              "mean   2807.815768   157.913693  ...   890.334440   461.772614\n",
              "std     171.264404   144.190572  ...   209.505057   139.179202\n",
              "min    2601.000000    23.000000  ...   296.000000     0.000000\n",
              "25%    2645.000000    71.000000  ...   758.000000   406.000000\n",
              "50%    2760.000000   105.000000  ...   879.000000   483.000000\n",
              "75%    2962.000000   185.000000  ...  1032.000000   545.000000\n",
              "max    3305.000000  1224.000000  ...  1459.000000   905.000000\n",
              "\n",
              "[8 rows x 7 columns]"
            ]
          },
          "metadata": {
            "tags": []
          },
          "execution_count": 50
        }
      ]
    },
    {
      "cell_type": "markdown",
      "metadata": {
        "id": "0_b3BlgMEVlZ"
      },
      "source": [
        "# 전처리"
      ]
    },
    {
      "cell_type": "markdown",
      "metadata": {
        "id": "LCX96_qDEZnQ"
      },
      "source": [
        "## 비율 변수 추가 및 날짜 변수 조정"
      ]
    },
    {
      "cell_type": "code",
      "metadata": {
        "colab": {
          "base_uri": "https://localhost:8080/",
          "height": 1000
        },
        "id": "dhg1YrRaBq9N",
        "outputId": "b83bd419-8582-42ee-aa3c-8f9abc807d23"
      },
      "source": [
        "all_df = pd.concat([train_df, test_df], axis=0).reset_index(drop=True)\n",
        "\n",
        "\n",
        "all_df['vac_ratio'] = all_df['본사휴가자수'] / all_df['본사정원수']\n",
        "all_df['trip_ratio'] = all_df['본사출장자수'] / all_df['본사정원수']\n",
        "all_df['home'] = all_df['현본사소속재택근무자수'] / all_df['본사정원수']\n",
        "all_df['extra'] = all_df['본사시간외근무명령서승인건수'] / all_df['본사정원수']\n",
        "all_df['total'] = (all_df['본사정원수'] - all_df['본사휴가자수'] \n",
        "                   - all_df['본사출장자수'] - all_df['현본사소속재택근무자수']) / all_df['본사정원수']\n",
        "\n",
        "all_df['일자'] = pd.to_datetime(all_df['일자'])\n",
        "\n",
        "all_df['year'] = all_df['일자'].dt.year\n",
        "all_df['month'] = all_df['일자'].dt.month\n",
        "all_df['date'] = all_df['일자'].dt.day\n",
        "all_df['week'] = all_df['일자'].dt.isocalendar().week\n",
        "all_df['dayofweek'] = all_df['일자'].dt.weekday\n",
        "\n",
        "all_df.drop(['본사휴가자수', '본사출장자수', '현본사소속재택근무자수', \n",
        "             '본사시간외근무명령서승인건수', '본사정원수', '일자', '요일'], axis=1, inplace=True)\n",
        "all_df['week'] = all_df['week'].astype(np.int64)\n",
        "all_df.rename({'조식메뉴':'breakfast', '중식메뉴':'lunch', '석식메뉴':'dinner', '중식계':'lunch_y', '석식계':'dinner_y'}, inplace=True)\n",
        "\n",
        "all_df.head(10)"
      ],
      "execution_count": 3,
      "outputs": [
        {
          "output_type": "execute_result",
          "data": {
            "text/html": [
              "<div>\n",
              "<style scoped>\n",
              "    .dataframe tbody tr th:only-of-type {\n",
              "        vertical-align: middle;\n",
              "    }\n",
              "\n",
              "    .dataframe tbody tr th {\n",
              "        vertical-align: top;\n",
              "    }\n",
              "\n",
              "    .dataframe thead th {\n",
              "        text-align: right;\n",
              "    }\n",
              "</style>\n",
              "<table border=\"1\" class=\"dataframe\">\n",
              "  <thead>\n",
              "    <tr style=\"text-align: right;\">\n",
              "      <th></th>\n",
              "      <th>조식메뉴</th>\n",
              "      <th>중식메뉴</th>\n",
              "      <th>석식메뉴</th>\n",
              "      <th>중식계</th>\n",
              "      <th>석식계</th>\n",
              "      <th>vac_ratio</th>\n",
              "      <th>trip_ratio</th>\n",
              "      <th>home</th>\n",
              "      <th>extra</th>\n",
              "      <th>total</th>\n",
              "      <th>year</th>\n",
              "      <th>month</th>\n",
              "      <th>date</th>\n",
              "      <th>week</th>\n",
              "      <th>dayofweek</th>\n",
              "    </tr>\n",
              "  </thead>\n",
              "  <tbody>\n",
              "    <tr>\n",
              "      <th>0</th>\n",
              "      <td>모닝롤/찐빵  우유/두유/주스 계란후라이  호두죽/쌀밥 (쌀:국내산) 된장찌개  쥐...</td>\n",
              "      <td>쌀밥/잡곡밥 (쌀,현미흑미:국내산) 오징어찌개  쇠불고기 (쇠고기:호주산) 계란찜 ...</td>\n",
              "      <td>쌀밥/잡곡밥 (쌀,현미흑미:국내산) 육개장  자반고등어구이  두부조림  건파래무침 ...</td>\n",
              "      <td>1039.0</td>\n",
              "      <td>331.0</td>\n",
              "      <td>0.019223</td>\n",
              "      <td>0.057670</td>\n",
              "      <td>0.0</td>\n",
              "      <td>0.091503</td>\n",
              "      <td>0.923106</td>\n",
              "      <td>2016</td>\n",
              "      <td>2</td>\n",
              "      <td>1</td>\n",
              "      <td>5</td>\n",
              "      <td>0</td>\n",
              "    </tr>\n",
              "    <tr>\n",
              "      <th>1</th>\n",
              "      <td>모닝롤/단호박샌드  우유/두유/주스 계란후라이  팥죽/쌀밥 (쌀:국내산) 호박젓국찌...</td>\n",
              "      <td>쌀밥/잡곡밥 (쌀,현미흑미:국내산) 김치찌개  가자미튀김  모둠소세지구이  마늘쫑무...</td>\n",
              "      <td>콩나물밥*양념장 (쌀,현미흑미:국내산) 어묵국  유산슬 (쇠고기:호주산) 아삭고추무...</td>\n",
              "      <td>867.0</td>\n",
              "      <td>560.0</td>\n",
              "      <td>0.019223</td>\n",
              "      <td>0.066513</td>\n",
              "      <td>0.0</td>\n",
              "      <td>0.122645</td>\n",
              "      <td>0.914264</td>\n",
              "      <td>2016</td>\n",
              "      <td>2</td>\n",
              "      <td>2</td>\n",
              "      <td>5</td>\n",
              "      <td>1</td>\n",
              "    </tr>\n",
              "    <tr>\n",
              "      <th>2</th>\n",
              "      <td>모닝롤/베이글  우유/두유/주스 계란후라이  표고버섯죽/쌀밥 (쌀:국내산) 콩나물국...</td>\n",
              "      <td>카레덮밥 (쌀,현미흑미:국내산) 팽이장국  치킨핑거 (닭고기:국내산) 쫄면야채무침 ...</td>\n",
              "      <td>쌀밥/잡곡밥 (쌀,현미흑미:국내산) 청국장찌개  황태양념구이 (황태:러시아산) 고기...</td>\n",
              "      <td>1017.0</td>\n",
              "      <td>573.0</td>\n",
              "      <td>0.021530</td>\n",
              "      <td>0.069204</td>\n",
              "      <td>0.0</td>\n",
              "      <td>0.042676</td>\n",
              "      <td>0.909266</td>\n",
              "      <td>2016</td>\n",
              "      <td>2</td>\n",
              "      <td>3</td>\n",
              "      <td>5</td>\n",
              "      <td>2</td>\n",
              "    </tr>\n",
              "    <tr>\n",
              "      <th>3</th>\n",
              "      <td>모닝롤/토마토샌드  우유/두유/주스 계란후라이  닭죽/쌀밥 (쌀,닭:국내산) 근대국...</td>\n",
              "      <td>쌀밥/잡곡밥 (쌀,현미흑미:국내산) 쇠고기무국  주꾸미볶음  부추전  시금치나물  ...</td>\n",
              "      <td>미니김밥*겨자장 (쌀,현미흑미:국내산) 우동  멕시칸샐러드  군고구마  무피클  포...</td>\n",
              "      <td>978.0</td>\n",
              "      <td>525.0</td>\n",
              "      <td>0.039985</td>\n",
              "      <td>0.084583</td>\n",
              "      <td>0.0</td>\n",
              "      <td>0.136486</td>\n",
              "      <td>0.875433</td>\n",
              "      <td>2016</td>\n",
              "      <td>2</td>\n",
              "      <td>4</td>\n",
              "      <td>5</td>\n",
              "      <td>3</td>\n",
              "    </tr>\n",
              "    <tr>\n",
              "      <th>4</th>\n",
              "      <td>모닝롤/와플  우유/두유/주스 계란후라이  쇠고기죽/쌀밥 (쌀:국내산) 재첩국  방...</td>\n",
              "      <td>쌀밥/잡곡밥 (쌀,현미흑미:국내산) 떡국  돈육씨앗강정 (돼지고기:국내산) 우엉잡채...</td>\n",
              "      <td>쌀밥/잡곡밥 (쌀,현미흑미:국내산) 차돌박이찌개 (쇠고기:호주산) 닭갈비 (닭고기:...</td>\n",
              "      <td>925.0</td>\n",
              "      <td>330.0</td>\n",
              "      <td>0.106882</td>\n",
              "      <td>0.069589</td>\n",
              "      <td>0.0</td>\n",
              "      <td>0.013072</td>\n",
              "      <td>0.823529</td>\n",
              "      <td>2016</td>\n",
              "      <td>2</td>\n",
              "      <td>5</td>\n",
              "      <td>5</td>\n",
              "      <td>4</td>\n",
              "    </tr>\n",
              "    <tr>\n",
              "      <th>5</th>\n",
              "      <td>팬케익/찐빵  우유/두유/주스  계란후라이  견과류죽/쌀밥 (쌀:국내산) 감자찌개 ...</td>\n",
              "      <td>쌀밥/잡곡밥 (쌀,현미흑미:국내산) 시래기국  훈제오리구이  도토리묵무침  쌈무/양...</td>\n",
              "      <td>참치회덮밥 (쌀,현미흑미:국내산) 맑은국  군만두  과일샐러드  락교  포기김치 (...</td>\n",
              "      <td>1045.0</td>\n",
              "      <td>550.0</td>\n",
              "      <td>0.147251</td>\n",
              "      <td>0.054979</td>\n",
              "      <td>0.0</td>\n",
              "      <td>0.160323</td>\n",
              "      <td>0.797770</td>\n",
              "      <td>2016</td>\n",
              "      <td>2</td>\n",
              "      <td>11</td>\n",
              "      <td>6</td>\n",
              "      <td>3</td>\n",
              "    </tr>\n",
              "    <tr>\n",
              "      <th>6</th>\n",
              "      <td>모닝롤/야채샌드  우유/두유/주스  계란후라이  고구마죽/쌀밥 (쌀:국내산) 봄동된...</td>\n",
              "      <td>쌀밥/잡곡밥 (쌀,현미흑미:국내산) 꽃게탕  돈육굴소스볶음  옥수수전  유채나물  ...</td>\n",
              "      <td>쌀밥/잡곡밥 (쌀,현미흑미:국내산) 김치콩나물국  미니함박  어묵볶음  물파래무침 ...</td>\n",
              "      <td>909.0</td>\n",
              "      <td>598.0</td>\n",
              "      <td>0.149558</td>\n",
              "      <td>0.059977</td>\n",
              "      <td>0.0</td>\n",
              "      <td>0.035755</td>\n",
              "      <td>0.790465</td>\n",
              "      <td>2016</td>\n",
              "      <td>2</td>\n",
              "      <td>12</td>\n",
              "      <td>6</td>\n",
              "      <td>4</td>\n",
              "    </tr>\n",
              "    <tr>\n",
              "      <th>7</th>\n",
              "      <td>모닝롤/치즈프레즐  우유/두유/주스  계란후라이  잣죽/쌀밥 (쌀:국내산) 민물새우...</td>\n",
              "      <td>쌀밥/잡곡밥 (쌀:국내산) 시금치국  닭감자조림 (닭고기:국내산) 연두부*양념장  ...</td>\n",
              "      <td>쌀밥/잡곡밥 (쌀:국내산) 홍합미역국  등갈비김치찜 (돼지고기,김치:국내산) 임연수...</td>\n",
              "      <td>1268.0</td>\n",
              "      <td>672.0</td>\n",
              "      <td>0.033449</td>\n",
              "      <td>0.078431</td>\n",
              "      <td>0.0</td>\n",
              "      <td>0.185313</td>\n",
              "      <td>0.888120</td>\n",
              "      <td>2016</td>\n",
              "      <td>2</td>\n",
              "      <td>15</td>\n",
              "      <td>7</td>\n",
              "      <td>0</td>\n",
              "    </tr>\n",
              "    <tr>\n",
              "      <th>8</th>\n",
              "      <td>모닝롤/마늘빵  우유/두유/주스  계란후라이  단호박죽/쌀밥 (쌀:국내산) 어묵국 ...</td>\n",
              "      <td>쌀밥/잡곡밥 (쌀:국내산) 쇠고기무국 (쇠고기:호주산) 탕수어 (동태:러시아산) 오...</td>\n",
              "      <td>쌀밥/잡곡밥 (쌀:국내산) 된장찌개  쇠불고기 (쇠고기:호주산) 해파리겨자채  봄동...</td>\n",
              "      <td>1014.0</td>\n",
              "      <td>523.0</td>\n",
              "      <td>0.027682</td>\n",
              "      <td>0.090734</td>\n",
              "      <td>0.0</td>\n",
              "      <td>0.202230</td>\n",
              "      <td>0.881584</td>\n",
              "      <td>2016</td>\n",
              "      <td>2</td>\n",
              "      <td>16</td>\n",
              "      <td>7</td>\n",
              "      <td>1</td>\n",
              "    </tr>\n",
              "    <tr>\n",
              "      <th>9</th>\n",
              "      <td>모닝롤/참치샌드  우유/두유/주스  계란후라이  흑임자죽/쌀밥 (쌀:국내산) 북어계...</td>\n",
              "      <td>쌀밥/잡곡밥 (쌀:국내산) 냉이된장국  쇠고기장조림 (쇠고기:호주산) 통도라지구이 ...</td>\n",
              "      <td>볶음밥*자장소스 (쌀:국내산) 맑은국  새우또띠아  쨔샤이무침  요플레  포기김치 ...</td>\n",
              "      <td>916.0</td>\n",
              "      <td>588.0</td>\n",
              "      <td>0.029988</td>\n",
              "      <td>0.096117</td>\n",
              "      <td>0.0</td>\n",
              "      <td>0.008843</td>\n",
              "      <td>0.873895</td>\n",
              "      <td>2016</td>\n",
              "      <td>2</td>\n",
              "      <td>17</td>\n",
              "      <td>7</td>\n",
              "      <td>2</td>\n",
              "    </tr>\n",
              "  </tbody>\n",
              "</table>\n",
              "</div>"
            ],
            "text/plain": [
              "                                                조식메뉴  ... dayofweek\n",
              "0  모닝롤/찐빵  우유/두유/주스 계란후라이  호두죽/쌀밥 (쌀:국내산) 된장찌개  쥐...  ...         0\n",
              "1  모닝롤/단호박샌드  우유/두유/주스 계란후라이  팥죽/쌀밥 (쌀:국내산) 호박젓국찌...  ...         1\n",
              "2  모닝롤/베이글  우유/두유/주스 계란후라이  표고버섯죽/쌀밥 (쌀:국내산) 콩나물국...  ...         2\n",
              "3  모닝롤/토마토샌드  우유/두유/주스 계란후라이  닭죽/쌀밥 (쌀,닭:국내산) 근대국...  ...         3\n",
              "4  모닝롤/와플  우유/두유/주스 계란후라이  쇠고기죽/쌀밥 (쌀:국내산) 재첩국  방...  ...         4\n",
              "5  팬케익/찐빵  우유/두유/주스  계란후라이  견과류죽/쌀밥 (쌀:국내산) 감자찌개 ...  ...         3\n",
              "6  모닝롤/야채샌드  우유/두유/주스  계란후라이  고구마죽/쌀밥 (쌀:국내산) 봄동된...  ...         4\n",
              "7  모닝롤/치즈프레즐  우유/두유/주스  계란후라이  잣죽/쌀밥 (쌀:국내산) 민물새우...  ...         0\n",
              "8  모닝롤/마늘빵  우유/두유/주스  계란후라이  단호박죽/쌀밥 (쌀:국내산) 어묵국 ...  ...         1\n",
              "9  모닝롤/참치샌드  우유/두유/주스  계란후라이  흑임자죽/쌀밥 (쌀:국내산) 북어계...  ...         2\n",
              "\n",
              "[10 rows x 15 columns]"
            ]
          },
          "metadata": {
            "tags": []
          },
          "execution_count": 3
        }
      ]
    },
    {
      "cell_type": "markdown",
      "metadata": {
        "id": "R23Ti5cSEeob"
      },
      "source": [
        "## 타겟 값 분포 확인"
      ]
    },
    {
      "cell_type": "code",
      "metadata": {
        "colab": {
          "base_uri": "https://localhost:8080/",
          "height": 390
        },
        "id": "fDMBD9vNzrmU",
        "outputId": "680163ed-76d1-4a06-e382-04a36889f0b8"
      },
      "source": [
        "f, ax = plt.subplots(1, 2,figsize=(10,6))\n",
        "ax[0].hist(all_df['중식계'], bins=100)\n",
        "ax[0].set_title('Lunch')\n",
        "ax[1].hist(all_df['석식계'], bins=100)\n",
        "ax[1].set_title('Dinner')\n",
        "plt.show()"
      ],
      "execution_count": 52,
      "outputs": [
        {
          "output_type": "display_data",
          "data": {
            "image/png": "[encoded data removed]",
            "text/plain": [
              "<Figure size 720x432 with 2 Axes>"
            ]
          },
          "metadata": {
            "tags": [],
            "needs_background": "light"
          }
        }
      ]
    },
    {
      "cell_type": "markdown",
      "metadata": {
        "id": "VhwnDKVEEil1"
      },
      "source": [
        "## 괄호 및 여러 특수문자 제거"
      ]
    },
    {
      "cell_type": "code",
      "metadata": {
        "id": "hkp67IZOwBOu"
      },
      "source": [
        "def split_process(x):\n",
        "    regex = '\\*.*|\\((.*?)\\)|[+%><]|\\&.*' \n",
        "    x_ = []\n",
        "    x = x.split(' ')\n",
        "    for i in x:\n",
        "        if '(' in i or ':' in i or ')' in i:\n",
        "            continue\n",
        "        if '/' in i:\n",
        "            x_.extend(i.split('/'))\n",
        "        elif ',' in i:\n",
        "            x_.extend(i.split(','))\n",
        "        elif '-' in i:\n",
        "            x_.extend(i.split('-'))\n",
        "        else:\n",
        "            x_.append(re.sub(regex, '', i))\n",
        "        \n",
        "    x_ = list(set(x_)) # 가끔 중복되는 메뉴 제거(계란후라이가 두번 들어있는 식단도 있음)\n",
        "    x_.remove('')\n",
        "    return x_\n",
        "\n",
        "breakfast_list = []\n",
        "lunch_list = []\n",
        "dinner_list = []\n",
        "\n",
        "breakfast_list += all_df['조식메뉴'].apply(lambda x: split_process(x)).to_list()\n",
        "lunch_list += all_df['중식메뉴'].apply(lambda x: split_process(x)).to_list()\n",
        "dinner_list += all_df['석식메뉴'].apply(lambda x: split_process(x)).to_list()"
      ],
      "execution_count": 4,
      "outputs": []
    },
    {
      "cell_type": "code",
      "metadata": {
        "colab": {
          "base_uri": "https://localhost:8080/"
        },
        "id": "kDTZW_YEGaJs",
        "outputId": "65841489-e85a-4ddd-ed34-3e6ababa9d3d"
      },
      "source": [
        "print(all_df['조식메뉴'][0])\n",
        "print(breakfast_list[0])\n",
        "print(all_df['석식메뉴'][1])\n",
        "print(dinner_list[1])"
      ],
      "execution_count": 54,
      "outputs": [
        {
          "output_type": "stream",
          "text": [
            "모닝롤/찐빵  우유/두유/주스 계란후라이  호두죽/쌀밥 (쌀:국내산) 된장찌개  쥐어채무침  포기김치 (배추,고추가루:국내산) \n",
            "['쥐어채무침', '찐빵', '쌀밥', '두유', '우유', '모닝롤', '주스', '계란후라이', '포기김치', '된장찌개', '호두죽']\n",
            "콩나물밥*양념장 (쌀,현미흑미:국내산) 어묵국  유산슬 (쇠고기:호주산) 아삭고추무침  바나나  포기김치 (배추,고추가루:국내산) \n",
            "['바나나', '콩나물밥', '아삭고추무침', '포기김치', '유산슬', '어묵국']\n"
          ],
          "name": "stdout"
        }
      ]
    },
    {
      "cell_type": "markdown",
      "metadata": {
        "id": "F4EgTYkfEo_c"
      },
      "source": [
        "## 시간대별 메뉴 리스트"
      ]
    },
    {
      "cell_type": "code",
      "metadata": {
        "colab": {
          "base_uri": "https://localhost:8080/"
        },
        "id": "AhH6XUDmwkSt",
        "outputId": "cde4c9da-2387-45fc-b2a0-51b85aa204d1"
      },
      "source": [
        "def make_set(list):\n",
        "    menu_set = set()\n",
        "    for row in list:\n",
        "        menu_set.update(row)\n",
        "    return menu_set\n",
        "\n",
        "breakfast_set = make_set(breakfast_list)\n",
        "lunch_set = make_set(lunch_list)\n",
        "dinner_set = make_set(dinner_list)\n",
        "\n",
        "# 조중석식 메뉴 중복 제거 리스트\n",
        "print(breakfast_set)\n",
        "print(lunch_set)\n",
        "print(dinner_set)\n",
        "\n",
        "# 조중석식 메뉴 개수\n",
        "print(len(breakfast_set), len(lunch_set), len(dinner_set))\n",
        "# 겹치는 메뉴 개수\n",
        "print(len(breakfast_set & lunch_set & dinner_set))"
      ],
      "execution_count": 5,
      "outputs": [
        {
          "output_type": "stream",
          "text": [
            "{'참치야채죽', '소고기죽', '참치김치볶음', '쥐포무침', '아메리카노', '맑은감자국', '꽈리고추찜', '참치김치찌개', '베이컨숙주볶음', '소시지볶음', '시래기국', '모닝샌드위치', '유채나물무침', '매생이떡국', '버섯매운국', '스태프핫도그', '콩자반', '대추채멸치볶음', '스크램블에그', '크림치즈와플', '닭개장', '크로와상', '파래김', '해물죽', '모닝롤', '애플파이', '죽순버섯볶음', '브로콜리스프', '연근호두조림', '고구마오븐구이', '가자미양념찜', '양념깻잎지찜', '사각어묵볶음', '바나나팬케이크', '컵케익', '황태해장국', '쑥갓겉절이', '크래미샌드', '오렌지빵', '순두부찌개', '감자된장찌개', '누룽지', '치즈팡샌드', '대구매운탕', '냉이바지락국', '계란찜', '삼겹살김치볶음', '느타리호박볶음', '영양부추생채', '커피콩빵', '미역죽', '미역줄기볶음', '오이도라지무침', '쇠고기버섯국', '마늘바게트', '사과오이초무침', '고구마순나물', '누룽지탕', '비엔나곤약조림', '호빵', '소보루빵', '볼어묵볶음', '조랭이미역국', '호박새우젓국', '건포도머핀', '동전문어조림', '양상추샐러드', '새우완자전', '치커리무침', '매운콩나물국', '샌드위치', '애호박새우젓볶음', '느타리애호박볶음', '비엔나채소볶음', '아삭고추된장무침', '피홍합탕', '카스텔라', '황태국', '유부김칫국', '고르곤졸라', '오이생채', '숙주나물무침', '두부들깨탕', '김치순두부찌개', '오이사과무침', '보리누룽지탕', '김치도토리묵무침', '명엽체고추장볶음', '꽃게탕', '쑥갓무침', '콩비지찌개', '바지락국', '애플샌드', '야채샌드', '김치국', '치커리오이무침', '무나물', '봄동된장국', '고들빼기무침', '바나나베이비샐러드', '마늘쫑무침', '김실파무침', '호박나물', '쑥갓두부무침', '실곤약흑임자무침', '건새우무채국', '카스테라', '대구지리탕', '건새우아욱국', '참나물무침', '두부젓국찌개', '돈사태찜', '연근땅콩조림', '새알팥죽', '김칫국', '청경채무침', '페퍼로니피자', '참치샌드', '우엉간장조림', '매생이굴국', '브라우니', '모듬묵', '피자샌드', '땅콩크림빵', '청포묵무침', '찐계란', '인절미토스트', '메론빵', '미역소고기죽', '선지해장국', '우거지올갱이국', '콩나물김치국', '토스트', '호박볶음', '맑은만두육개장', '쇠고기우거지국', '오렌지케익빵', '깻잎순나물볶음', '오이보트샐러드', '햄야채볶음', '근대감자국', '건파래무침', '크래미숙주무침', '곤약어묵볶음', '오징어콩나물국', '들깨감자국', '크래미미역줄기볶음', '어묵고추장무침', '소고기채소죽', '두부고기조림', '진미채무침', '감자국', '버섯굴죽', '야채죽', '매운소고기국', '오곡죽', '블루베리크림치즈베이글', '두부브로컬리무침', '가지양파무침', '토마토리코타치즈샐러드', '고구마샌드', '맑은순두부국', '크로아상샌드위치', '꽃맛살볶음', '멸치고추장무침', '무생채', '두부김치국', '볼어묵조림', '감자스프', '계란후라이', '콩나물무침', '전주식콩나물국해장국', '참치죽', '올챙이만두국', '새우살미역국', '물파래무침', '버섯맑은국', '어묵볶음', '마늘종숙회', '깻잎순볶음', '땅콩멸치볶음', '영양닭죽', '홍합살미역국', '버섯들깨탕', '낙지김치죽', '멸치크랜베리볶음', '커피', '방풍나물무침', '통아몬드멸치볶음', '몽골식돈육볶음', '앙버터모닝빵', '알탕', '마늘종호두조림', '단호박샌드', '단호박피자빵', '순두부된장국', '우유', '계란빵', '채소새우죽', '블루베리프렌치토스트', '연두부', '치커리유자무침', '생크림단팥빵', '조갯살근대국', '토마토', '에그맥모닝', '크로와상샌드위치', '배추된장국', '미나리나물', '유부김치국', '아욱국', '오징어국', '김치콩나물국', '브로컬리된장무침', '사과베이비샐러드', '매운감자국', '옛날소시지전', '근대된장국', '칠리소스두부브로컬리볶음', '북어해장국', '고기완자전', '토란국', '소시지감자볶음', '잣죽', '후르츠팬케익', '에그갈릭토스트', '사골우거지국', '아삭고추무침', '브로콜리감자볶음', '시금치초무침', '늙은호박죽', '마늘쫑볶음', '베이컨맥모닝', '홍게살죽', '스콘', '병아리', '단배추나물', '멸치고추장볶음', '달래오이무침', '분홍소세지구이', '바나나시나몬토스트', '얼큰소고기국', '브로컬리초장', '시금치된장국', '어묵고추장볶음', '옹심이만둣국', '쿠키', '겨울초나물', '김자반', '감자양파국', '느타리버섯장조림', '겨울초겉절이', '참나물땅콩가루무침', '명엽채고추장볶음', '카야잼샌드', '구운계란', '씨크립샌드', '곰피초장', '쇠고기무국', '시래기지짐', '모카카스테라', '스크램블', '비엔나브로콜리볶음', '참나물두부샐러드', '순두부탕', '애호박나물', '계란장조림', '핫케익', '새송이볶음', '자반김', '호박잎찌개', '콩나물오징어국', '모듬묵샐러드', '콩나물간장조림', '감자샌드', '후르츠산도', '절편', '카레감자채볶음', '애호박새우젓국', '메추리알곤약조림', '매운사태조림', '단팥죽', '단호박죽', '시금치나물', '비트무생채', '섭산적조림', '흑미쌀찐빵', '어묵꽈리고추볶음', '비타민샐러드', '시금치팬케익', '흑임자죽', '돈육장조림', '팥죽', '마계토스트', '아귀채무침', '햄에그샌드', '시래기조림', '닭곰탕', '새우완자국', '모닝에그빵', '크로크무슈', '새송이죽', '톳두부무침', '북어콩나물국', '피바지락배추국', '머핀', '에그타르트', '사골파국', '딤섬', '표고버섯죽', '참치모닝샌드', '느타리버섯볶음', '시래기된장국', '시래기들깨탕', '쇠고기해장국', '소고기샤브국', '카레감자볶음', '시래기나물', '들깨버섯국', '야채햄샌드', '오이맛살볶음', '콩가루배춧국', '호박맑은국', '메추리알조림', '달래된장찌개', '바나나샌드', '건파래볶음', '양배추샐러드', '고구마순볶음', '머위대나물', '우렁살된장국', '청양콩나물국', '시금치고추장국', '꿀호떡', '건새우무국', '시금치프리타타', '브리또', '멸치캐슈넛볶음', '재래김', '애호박볶음', '감자맛살볶음', '연두부샐러드', '매운감자조림', '마늘쫑맛살볶음', '핫도그', '머위나물무침', '허니브레드', '보코치니샐러드', '새송이버섯곤약장조림', '호박죽', '새우야채죽', '취나물', '호박된장국', '와플', '옥수수샌드', '동태탕', '쪽파숙회', '고추장찌개', '진미채볶음', '시금치국', '근대국', '무채나물', '된장찌개', '게살채소죽', '연두부찌개', '스팸구이', '감자채햄볶음', '롤케익', '연유후레쉬', '톳무침', '순두부국', '해물동그랑땡전', '와플&생크림', '바지락무국', '맑은만두국', '마늘빵', '맑은꽃게탕', '명엽채무침', '양송이죽', '꽈리고추멸치볶음', '녹차카스테라', '미나리숙주무침', '취나물된장무침', '수제동그랑땡전', '피자토스트', '황태채국', '치즈볼', '과일샐러드', '연두부탕', '가지쇠고기볶음', '들깨무채국', '미역나물', '인절미샌드', '대구찌개', '바지락죽', '야채소시지전', '바지락쑥국', '유부장국', '인기가요샌드', '감자햄볶음', '숙주나물', '프렌치토스트', '치즈케익', '마약토스트', '꽁치김치조림', '매운어묵국', '가지양파나물', '콩가루배추국', '미역국', '들깨시래기국', '땅콩죽', '도라지생채', '쑥국', '홍루이젠', '비엔나야채볶음', '채소죽', '취나물볶음', 'BLT샌드', '모둠사태조림', '사과', '홍초콩나물국', '순두부백탕', '피자빵', '단배추들깨무침', '생크림와플', '동전쥐포무침', '민물새우찌깨', '크렌베리멸치볶음', '북엇국', '단호박찐빵', '명엽채볶음', '미니새송이볶음', '옹심이만두국', '양념깻잎지', '얼큰낙지죽', '느타리볶음', '오색떡국', '흑미두부죽', '대만샌드위치', '크랜베리멸치볶음', '북어채국', '만두국', '참치채소볶음', '참치새드', '바지락살국', '동초나물무침', '피바지락국', '방울양배추베이컨볶음', '홍합탕', '매운버섯국', '지리멸치볶음', '파게트', '소고기무우국', '들기름무채볶음', '유채된장무침', '북어무우국', '새알미역국', '감자찌개', '봄동나물', '느타리팽이볶음', '황태두부국', '베이글', '연두부국', '바나나팬케익', '촉촉한치즈빵', '올갱이아욱국', '크림누룽지탕', '모둠묵', '토마토샐러드', '모닝샌드', '브로콜리맛살볶음', '닭죽', '버섯햄볶음', '식빵피자', '깍두기', '고구마줄기볶음', '가지나물', '섭산적채소조림', '동태찌개', '순두부계란국', '진미채간장조림', '아귀지리', '양념깻잎찜', '단호박크림스프', '베이컨에그슬럿', '대구지리', '팥호빵', '애플잼쿠키', '남친샌드위치', '어묵토마토조림', '얼갈이된장국', '홍합죽', '살라미샌드위치', '주스', '새송이버섯죽', '삶은계란', '햄치즈샌드', '밤죽', '쑥갓나물', '햄치즈샌드위치', '고구마스프', '취나물무침', '두부떡국', '게살모닝샌드위치', '바지락콩나물국', '고구마죽', '상추양념장', '길거리토스트', '파래무침', '옹심이국', '아귀매운탕', '무채국', '열무김치', '호박채볶음', '베이컨감자볶음', '마늘쫑건새우볶음', '도토리묵', '자반무침', '토란탕', '브로컬리', '프레즐', '콩죽', '해초무침', '멸치볶음', '연유버터베이글', '연근조림', '에그샌드', '비엔나구이', '호밧젓국찌개', '구이김', '들깨미역국', '콩나물김칫국', 'BLT샌드위치', '감자고추장찌개', '멸치마늘종볶음', '시금치샐러드', '콩나물국', '낙지죽', '두부구이', '두유', '브로컬리두부무침', '치커리사과무침', '에그단호박샌드', '호박새우젓찌개', '군대리아', '새우살야채죽', '두부양념조림', '아욱된장국', '숙주미나리나물', '쌀밥', '부추김무침', '북어국', '우엉조림', '토마토샌드위치', '두부쑥갓무침', '알감자조림', '햄에그치즈토스트', '깻순나물', '콩가루된장국', '대만식연유샌드위치', '햄에그샌드위치', '스틱치즈케익', '쇠고기매운국', '소고기국', '버섯들깨죽', '불고기브리또', '매운감자양파국', '호두죽', '삼색샌드위치', '쇠고기샤브국', '땅콩샌드', '사과잼쿠키', '재첩국', '도라지나물', '떡국', '맑은콩나물국', '미니햄버거', '버섯죽', '봄동겉절이', '버섯볶음', '양념김', '노각무침', '새알만두국', '오징어무국', '우엉채조림', '시금치나물무침', '흑미밥', '어묵매운국', '검정콩조림', '촉촉한치즈케익', '옥수수스프', '참치야채', '모시조개시금치국', '통마늘너비아니조림', '매콤부들어묵볶음', '비엔나소세지볶음', '참나물', '마늘쫑메추리알장조림', '우거지해장국', '견과류죽', '민물새우찌개', '베이컨치즈베이글', '크로와상샌드', '고사리들깨나물', '그린샐러드', '호박채나물', '멸치아몬드볶음', '새우살죽', '알타리김치', '해물순두부찌개', '배추겉절이', '참치채소죽', '비엘티샌드위치', '파운드케익', '블루베리사과샌드', '치즈프레즐', '브로컬리들깨소스', '맑은조개탕', '생깻잎지', '김치두부국', '쥐어채무침', '팬케익', '구운어묵볶음', '소보로빵', '대구탕', '녹차호떡', '야채호빵', '돈육마늘장조림', '두부양념구이', '김가루실파무침', '시금치죽', '치커리유자청무침', '새송이버섯볶음', '오징어젓갈무침', '김치어묵국', '캔꽁치무조림', '김치황태국', '오이맛살냉채', '유채나물', '북어계란국', '핫케이크', '베이컨샌드', '게살모닝샌드', '열무된장나물', '감자조림', '크림치즈프레즐', '롤케이크', '120명', '야채샌드위치', '건새우마늘쫑볶음', '쇠고기죽', '사각어묵무침', '녹두죽', '수삼닭죽', '초코핫케익', '애호박건새우볶음', '두부계란전', '바나나', '페스츄리', '새송이조림', '게살죽', '땅콩조림', '콩조림', '햄야채샌드', '크루통크림스프', '갈릭파이', '아귀지리탕', '버섯국', '섭산적구이', '매콤사태찜', '옹심이만두떡국', '시금치핫케익', '냉이국', '단팥빵', '마늘쫑건새우무침', '땅콩아몬드조림', '콥샐러드', '차돌박이된장찌개', '깨찰빵', '해물땡굴소스볶음', '배추시래기국', '베이비샐러드', '호떡맥모닝', '우엉땅콩조림', '참나물땅콩무침', '호박숙', '호박고구마오븐구이', '호떡', '방울토마토', '김구이', '감자채볶음', '두부조림', '아오리사과', '브로컬리무침', '소고기미역국', '맑은연두부탕', '수박', '냉이된장국', '동태매운탕', '꽃게된장찌개', '골뱅이무침', '맑은버섯육개장', '버섯비엔나조림', '홍합살무국', '근대나물무침', '메론롤케익', '배추맑은국', '구구마순나물', '포기김치', '브로컬리들깨찜', '건새우무조림', '콩나물해장국', '쇠고기꽈리고추장조림', '어묵탕', '미역레몬초무침', '사과샌드위치', '배추국', '어묵국', '토마토샌드', '두부양념찜', '해물완자전', '더덕무침', '마샐러드', '고사리들깨볶음', '콘스프', '조랭이떡미역국', '무비트생채', '리코타치즈샐러드', '시나몬페스츄리', '비름나물', '김치죽', '고구마파이', '모둠장조림', '도라지볶음', '사과파이', '얼갈이국', '두부새우젓국', '열무된장국', '우엉어묵볶음', '미니케익', '얼갈이겉절이', '야채모닝샌드', '사과롤케익', '차돌박이찌개', '우거지국', '브로컬리들깨무침', '치즈베이글', '찐빵', '라즈베리빵', '가지두반장볶음', '마늘쫑새우볶음', '문어꽈리초조림', '버섯매운탕', '애호박나물볶음', '모닝사라다빵', '참나물생채', '두반장가지볶음', '감자채피망볶음', '치킨샌드', '도토리묵무침', '시금치두부무침', '에그포테이토샌드위치', '콩나물된장국', '소라살죽', '크림롤케익', '두부동그랑땡', '무청된장국', '멸치호두볶음', '수제어묵볶음', '마늘쫑햄볶음', '닭살해장국', '북어맑은국', '치아바타샌드', '얼갈이나물', '쇠고기마늘죽', '꽃게된장국', '브로컬리죽', '소고기무국', '가지볶음', '김잔파무침', '방풍나물', '키위드레싱샐러드', '고르곤졸라피자', '쇠고기미역국', '느타리버섯국', '열무나물', '두부김칫국', '오이무침', '호박젓국찌개', '양송이스프', '베이컨샌드위치', '트위스터버거', '김가루잔파무침', '누룽지탕죽', '소고기스프', '수제비국', '맑은버섯국', '매생이국', '케익', '딸기파이', '증편', '샐러드', '조랭이떡국', '조각케익', '베이컨숙주굴소스볶음'}\n",
            "{'미트볼채소볶음', '차돌된장찌개', '유채나물무침', '시래기국', '해물콩나물찜', '크리스마스케익', '비빔메밀국수', '콩자반', '데리야끼파닭', '콩나물맛살냉채', '코다리강정', '프로바이오틱', '치킨핑거', '츄러스', '돈육떡강정', '단무지', '부추겉절이', '고구마오븐구이', '가자미양념찜', '유부채소겨자무침', '다시마쌈', '만두탕수육', '간장두부조림', '어묵고추장떡', '양념치킨', '계란찜', '삼겹살김치볶음', '해물까스', '꽃게찌개', '돈육강정', '미소시루', '마늘바게트', '가래떡돼지갈비찜', '차돌박이구이', '동그랑땡구이', '돈육고추장볶음', '볼어묵볶음', '해물겨자냉채', '두부맛전', '봄동달래무침', '카프레제샐러드', '매운콩나물국', '팽이무국', '단무지락교무침', '날치알계란찜', '삼겹살고추장구이', '감자그라탕', '누룽지탕수육', '상추파채무침', '오이사과무침', '갈릭버섯탕수', '콩나물파채불고기', '김치국', '치커리오이무침', '모듬소세지볶음', '새우튀김', '수제오미산적', '연두부찜', '마늘쫑무침', '타코야끼', '치커리들깨무침', '실곤약흑임자무침', '건새우무채국', '미니버거', '모둠양채쌈', '연근땅콩조림', '김칫국', '어묵간장조림', '닭데리야끼구이', '망고푸딩', '콩나물김치국', '삼색묵무침', '미역오이초무침', '뼈없는감자탕', '곤약메추리알조림', '맛살전', '훈제오리단호박볶음', '골뱅이소면무침', '쌈무', '주꾸미볶음', '돈사태김치찜', '우엉불고기', '김치빈대떡', '아이스슈', '살살치킨', '도라지오이초무침', '부추샐러드', '버섯초무침', '고등어조림', '케일*우렁쌈장', '숙주미나리무침', '베추겉절이', '물파래무침', '새우살미역국', '참나물겉절이', '대패삽겹숙주볶음', '돌나물유자청무침', '돈육김치볶음', '오리불고기', '깻잎무쌈', '건강비빔밥', '오이사과생채', '메추리알탕수', '감자채파프리카볶음', '가자미튀김', '알탕', '매운소고기무국', '훈제오리', '아욱국', '과일', '요플레', '근대된장국', '차돌비빔국수', '모히토과일샐러드', '고기완자전', '토란국', '씨앗쌈장', '단호박견과류구이', '부들어묵볶음', '냉메밀소바', '아욱수제비국', '김말이튀김', '병아리콩', '시금치초무침', '호박새우젓볶음', '불닭볶음', '파채콩나물무침', '치킨커틀렛', '오꼬노미계란말이', '쭈꾸미삼겹살볶음', '파인애플', '쌈채소', '시금치된장국', '치커리유자샐러드', '탕수어', '시래기지짐', '묵은지닭찜', '사과고구마그라탱', '모듬튀김', '돈간장불고기', '주꾸미세비체샐러드', '샐러드파스타', '돈육간장강정', '호박잎찌개', '메추리알곤약조림', '깐풍기', '버섯영양밥', '어묵꽈리고추볶음', '돈육콩나물불고기', '견과류조림', '돈육장조림', '고기듬뿍카레라이스', '깻잎순무침', '치즈닭갈비', '미역오이냉국', '북어콩나물국', '양념두부조림', '유니짜장밥', '파김치', '아귀콩나물찜', '부추고추장무침', '시래기들깨탕', '매운쇠고기버섯볶음', '물미역무침', '표고돈육탕수', '부대찌개', '콩가루배춧국', '토마토계란볶음', '적포도', '나물비빔밥', '매운소고기낙지볶음', '짜장닭볶음', '돈육보쌈', '꽁치캔김치조림', '시금치프리타타', '계란채소볶음밥', '꼬지어묵탕', '치킨너겟', '수육', '쇠고기매운버섯국', '닭간장조림', '잡채', '귀리밥', '쑥된장국', '버섯구이', '하와이언함박스테이크', '꽈리고추멸치볶음', '과일샐러드', '옥수수콘치즈구이', '머위된장무침', '두부고기양념찜', '들깨무채국', '수떡수떡화채', '짜파치킨', '주꾸미초무침', '애기새송이버섯볶음', '유부장국', '불낙찌개', '숙주나물', '통도라지고추장구이', '콩가루배추국', '오지치즈후라이', '사과고구마그라탕', '미역국', '홍어무침', '장각허브오븐구이', '동파육', '돈육피망볶음', '쑥국', '쪽파무침', '소고기낙지볶음', '비름나물고추장무침', '모듬양채쌈', '고추튀김', '동태전', '사과', '모듬소시지구이', '옥수수계란찜', '순살깐풍기', '홍초콩나물국', '대패삼겹살볶음', '가자미엿장구이', '옹심이만두국', '버섯메밀전', '양념깻잎지', '사과맛살초무침', '토마토스파게티', '쑥갓쌈&쌈장', '장각백숙', '설렁탕', '오이나물볶음', '연두부국', '사골떡국', '올갱이아욱국', '물만두', '미니쌀국수', '낙지비빔밥', '삼색물만두무침', '참치회덮밥', '맛살겨자초무침', '계란국', '동태포전', '제육고추장불고기', '골뱅이채소무침', '과일요거트샐러드', '강된장찌개', '맑은계란국', '돈육씨앗강정', '낙지볶음밥', '모듬야채쌈', '자반고등어구이', '삼계탕', '목살스테이크', '비엔나간장볶음', '꽃상추겉절이', '소세지감자조림', '또띠아피자', '미나리초장무침', '마늘쫑건새우볶음', '새우날치알볶음밥', '고등어김치말이찜', '카레닭볶음', '고추', '쫄면채소무침', '해초무침', '알리오올리오파스타', '연근조림', '사과즙', '닭데리야끼조림', '오이스틱', '콩나물김칫국', '나쵸', '비엔나떡조림', '미니채소떡갈비', '치커리사과무침', '고구마고로케', '탱크보이', '두부양념조림', '아욱된장국', '소고기버섯볶음', '쌀밥', '매운주꾸미볶음', '우엉조림', '견과류마카로니범벅', '볼어묵굴소스볶음', '새우까스', '오징어야채무침', '오므라이스', '요거트D', '떡국', '메밀전병', '참치야채샐러드', '양념김', '검정콩조림', '마시는요거트', '채소스틱&쌈장', '비엔나케찹조림', '닭살카레라이스', '스팸계란전', '명태양념조림', '식혜', '우거지해장국', '어묵꽈리고추조림', '봄동전', '소갈비찜', '돈갈비양념구이', '멸치아몬드볶음', '맛살떡샐러드', '장각삼계탕', '생깻잎지', '김치두부국', '메밀버섯전', '오렌지', '청경채나물', '냉이콩나물국', '얼큰순두부찌개', '소세지피망볶음', '수제고기육전', '양배추', '소고기장조림', '콩나물파채절이', '양파절임', '부추호박전', '단호박어묵탕수', '두릅소고기샐러드', '마늘간장치킨', '고구마치즈구이', '바나나', '순남시래기국', '땅콩조림', '임연수무조림', '황태양념구이', '청', '꼬막미나리초무침', '청양고추계란말이', '옹심이만두떡국', '바지락냉이국', '당면채소무침', '차돌박이된장찌개', '황태맑은국', '고구마튀김', '방울토마토', '닭살겨자채', '매실주스', '타워함박스테이크', '달래된장국', '후라이드', '상추겉절이', '고추*쌈장', '수박', '마늘', '닭찜', '냉이된장국', '홍합살무국', '소고기당면국', '멸치국수', '삼겹살더덕고추장구이', '오이소박이', '어묵탕', '오리훈제고추장볶음', '노각생채', '더덕무침', '짬뽕불고기', '오이볶음', '비빔야채만두', '닭감자조림', '옥수수전', '오이무초무침', '오곡밥', '콩나물냉채', '얼갈이겉절이', '기장밥', '낙지볶음', '오복지무침', '참나물생채', '쇠고기두부찜', '도토리묵무침', '찰현미밥', '무청된장국', '단호박계란찜', '옛날돈까스', '가자미엿장조림', '고추장불고기', '실곤약무침', '단호박', '다시마', '간장치킨', '오이무침', '매콤볼어묵볶음', '매운소불고기', '호박잎', '꽁치김치말이찜', '부추와사비무침', '치커리생채', '비엔나피망볶음', '조랭이떡국', '조각케익', '간장찜닭', '쇠고기낙지볶음', '매운돈갈비찜', '쨔샤이무침', '닭개장', '김치전', '쫄면', '송편', '등갈비김치말이', '돼지김치찌개', '꽁치한마리구이', '차조밥', '상추쌈', '크림새우', '소고기잡채', '순두부찌개', '유부주머니된장국', '오징어브로컬리숙회', '산고추지무침', '백김치', '깻잎쌈', '오이도라지무침', '요구르트', '해물청경채볶음', '생선까스', '사과오이초무침', '양배추쌈', '양장피잡채', '크림스프', '실곤약냉채', '매운족발볶음', '양상추샐러드', '가지완자튀김', '돌나물초장무침', '야채고로케', '우엉잡채', '호박꼬지', '후르츠탕수육', '더덕양념구이', '황태국', '오이생채', '숙주나물무침', '늙은호박전', '브로콜리새송이메추리알조림', '봄동된장국', '배추쌈', '대구지리탕', '건새우아욱국', '새알팥죽', '시금치초생채', '건새우호박채전', '푸실리파스타샐러드', '매콤소갈비찜', '나쵸콥샐러드', '모듬묵', '비트무피클', '고추잡채', '부추고추전', '두부까스', 'LA갈비구이', '떡밤초', '강낭콩밥', '사천식탕수육', '쇠고기모듬장조림', '셀프무쌈말이', '건파래무침', '검정콩밥', '단호박물김치', '소고기콩나물밥', '두반장감자볶음', '군만두', '오이쑥갓생채', '굴떡국', '동태무조림', '한방갈비탕', '목살데리야끼구이', '감자국', '삼겹살수육', '물파래전', '매운소고기국', '비빔냉면', '해물볶음우동', '청포도주스', '새송이*가지구이', '조갯살무국', '두부김치국', '미소장국', '문어오이미역초무침', '마늘종숙회', '요거트파르페', '수제돈까스', '굴비구이', '명태코다리강정', '반달호박나물', '깻잎통닭', '호박채나물볶음', '깻잎지', '고춧잎볶음', '소불고기', '치커리유자청생채', '콩나물동태찜', '모둠쌈', '너비아니구이', '블랙페퍼쉬림프', '미나리나물', '무쌈채소말이', '무말랭이', '미역초무침', '매실음료', '고구마치즈돈까스', '렌틸콩밥', '녹두김치전', '청경채겉절이', '콩나물겨자채', '오향장육', '탕수만두', '오이사과냉국', '계란말이', '해초샐러드', '마늘쫑볶음', '라면땅', '닭가슴살냉채', '수원왕갈비', '새송이버섯조림', '통도라지구이', '갈비탕', '청경채찜', '새싹샐러드', '명태코다리조림', '얼큰소고기국', '우묵콩국', '복숭아아이스티', '브로컬리초장', '수원왕갈비통닭', '가쯔오장국', '감자양파국', '영양모듬견과', '메밀부추전', '보리밥', '쭈삼불고기', '와사비무쌈', '꼬시래기무침', '마파두부덮밥', '비엔나브로콜리볶음', '애호박나물', '오이미역냉국', '계란장조림', '볶음김치', '알감자버터구이', '알배기', '도라지오이무침', '어묵잡채', '쫄면무침', '베리베리샐러드', '맛살계란찜', '고사리육개장', '마카로니콘샐러드', '비트무생채', '호박전', '들깨버섯탕', '봄새싹비빔밥', '돌나물', '콩나물냉국', '찐옥수수', '망고', '돈수육', '모듬묵양념장', '시래기된장국', '김치찌개', '소고기샤브국', '황태콩나물해장국', '매운쇠고기샤브샤브국', '들깨버섯국', '꽁치레몬구이', '메추리알조림', '청경채깨장나물', '브로콜리버섯볶음', '양배추샐러드', '꼬들빼기김치', '머위대나물', '순살닭강정', '감자만두', '꿀호떡', '갈치구이', '꽁치구이', '건새우무국', '비타민흑임자샐러드', '핫도그', '코다리양념조림', '동태탕', '닭갈비', '할라피뇨채소피클', '흑임자연근샐러드', '유기농식혜', '야채스틱', '두부커틀렛', '미나리초무침', '팽이버섯국', '김치찐만두', '쫄면야채무침', '이벤트행사', '쇠고기버섯볶음', '매콤미니함박', '양배추피클', '주꾸미야채무침', '열무비빔밥', '연두부탕', '배도라지주스', '콩샐러드', '매운쇠고기샤브샤브', '양념돼지갈비찜', '잡곡밥', '닭볶음', '풋마늘초무침', '불미나리무침', '연어스테이크', '붕어빵', '순두부백탕', '미역미소시루', '돈육굴소스볶음', '열무물국수', '북엇국', '돈육버섯고추장덮밥', '채소계란말이', '실곤약야채무침', '오꼬노미야끼계란말이', '북어채국', '참치채소볶음', '무채와사비무침', '두부강정', '치커리사과생채', '팽이장국', '미트볼칠리조림', '생선커틀릿', '고구마그라탕', '두부스테이크', '단호박범벅', '맑은국', '감자채카레볶음', '깍두기', '고구마줄기볶음', '가지나물', '통오이고추무침', '소고기브로컬리볶음', '바베큐폭립', '부추전', '세발나물무침', '물만둣국', '양파짱아찌', '솎음열무나물', '삼겹보쌈', '쇠고기잡채', '옹심이국', '토마토프리타타', '브로콜리깨소스무침', '호박잎된장국', '청양부추전', '브로컬리', '두부맑은국', '어묵꽈리볶음', '돈육고추장불고기', '아삭이고추된장무침', '전주비빔밥', '꽁치김치말이', '구이김', '장어구이', '오이초무침', '연근', '미니핫도그', '청경채새송이볶음', '오이도라지생채', '떡갈비', '매콤콩나물국', '모둠소시지구이', '북어국', '돈육간장볶음', '통감자오븐구이', '꽈리고추어묵볶음', '부럼', '파채상추무침', '지중해샐러드', '멸치크렌베리볶음', '쇠고기매운국', '쇠고기샤브국', '맛살콩나물냉채', '모둠버섯구이', '모듬소시지볶음', '시저샐러드', '탕수육', '새알만두국', '매생이전', '개성감자만두', '청경채사과무침', '쌈', '옥수수스프', '햇고구마오븐구이', '단호박장조림', '콩나물파채무침', '총각김치', '짜장덮밥', '호박채나물', '알타리김치', '메추리알짜장떡볶이', '초복특식', '오이지무침', '단감', '브로컬리오징어숙회', '떡갈비조림', '그린샐러드*오렌지드레싱', '새송이버섯볶음', '견과류멸치볶음', '해파리무침', '오이양파무침', '얼갈이된장무침', '등심돈까스', '건새우마늘쫑볶음', '콩조림', '두부된장찌개', '나가사끼짬뽕국', '계란버섯장조림', '매운계란파국', '깻잎완자전', '매운돼지갈비찜', '돈육칠리강정', '해물섞어찜', '브로콜리숙회', '매콤낙지볶음', '치킨까스', '두부조림', '가자미무조림', '류산슬', '조갯살아욱국', '해물된장찌개', '양념', '유부된장국', '모듬소세지구이', '모듬버섯구이', '오리대패불고기', '풍기샐러드', '야채비빔만두', '탄두리치킨', '삼색꼬지전', '무비트생채', '비름나물', '치킨텐더샐러드', '모둠장조림', '소고기숙주볶음', '버섯탕수', '매운어묵볶음', '한방설렁탕', '목살찹스테이크', '열무된장국', '갈릭돈가스', '개성식메밀부침개', '비엔나케찹볶음', '불고기비빔밥', '유채겉절이', '소고기숙주나물볶음', '검은깨올방개묵무침', '채소프리타타', '콩나물밥', '멸치호두볶음', '열무보리비빔밥', '비엔나볶음', '콘샐러드', '쇠고기납작당면볶음', '도토리묵야채무침', '참나물생채무침', '방풍나물', '미트볼케찹조림', '궁중떡볶이', '모듬쌈', '홍시', '꽃맛살과일샐러드', '오징어', '찹쌀호떡', '깻잎찜', '목살구이', '시금치고추장무침', '고등어구이', '사각어묵볶음', '신김치도토리묵', '세발나물', '오이냉국', '양파호박채나물', '콘슬로우', '대구매운탕', '영양부추생채', '도라지나물볶음', '수박화채', '한식잡채', '봉추찜닭', '호박부추전', '호박된장찌개', '수제탕수육', '닭양념조림', '카레닭찜', '맑은떡국', '비엔나컬리플라워조림', '치커리무침', '아삭고추된장무침', '맛살계란말이', '참나물두부무침', '궁중떡볶음', '유부김칫국', '우묵냉국', '쇠고기불고기', '꽃게탕', '콩비지찌개', '볶은김치', '보름나물', '견과류연근조림', '무나물', '고구마함박스테이크', '고구마범벅', '함박스테이크', '유린기', '마파무조림', '매운닭찜', '청경채무침', '돼지간장불고기', '굴미역국', '오이미역무침', '청포묵무침', '들깨버섯무침', '쌈배추', '양파치킨', '동그랑땡', '호박잎된장찌개', '크래미숙주무침', '한방소갈비찜', '콩나물두루치기', '머위나물', '고추장고구마순무침', '곤약어묵볶음', '고추지', '새송이너비아니구이', '무피클', '홍어미나리초무침', '오렌지주스', '해물부추전', '사과오이냉국', '진미채무침', '황태포무침', '두부새싹구이', '김치제육볶음', '부추만두', '맑은순두부국', '무생채', '동태알탕', '주꾸미떡볶음', '계란후라이', '콩나물무침', '미트볼조림', '올챙이만두국', '아삭고추쌈장무침', '가자미조림', '콩나물맑은국', '홍합살미역국', '맛탕', '버섯들깨탕', '고추잎나물', '돈나물유자청무침', '부추팽이겉절이', '더덕구이', '미역무침', '오징어찌개', '옥수수밥', '짜장밥', '감자전', '열기어구이', '닭다리바베큐오븐구이', '마약계란장조림', '토마토', '돈육꽈리고추볶음', '쇠고기느타리국', '김치볶음밥', '크래미해초무침', '오징어국', '수수부꾸미', '고등어김치말이', '치킨텐더', '참나물상추겉절이', '수제찹쌀꿔바로우', '삼색유자청무침', '팥밥', '단배추나물', '비빔밥', '닭오븐구이', '파프리카잡채', '갈비만두', '우무묵냉국', '콩가루배추된장국', '매콤돼지갈비찜', '달래두부무침', '어묵고추장볶음', '옹심이만둣국', '간장깻잎지', '시금치고추장나물', '깐풍두부', '부추양파무침', '삼치구이', '파닭', '채소전', '봄동숙', '다시마*초장', '쇠고기무국', '곰피초장', '고추장누들떡볶이', '해물전', '청포도', '갈치감자조림', '펜네파스타샐러드', '버섯들깨국', '쭈꾸미삼겹고추장볶음', '수제두부까스', '시금치나물', '솎음열무나물무침', '꽈리고추어묵조림', '비엔나컬리플라워볶음', '스프링롤', '미역장국', '시래기조림', '콜리샐러드', '닭곰탕', '사과푸딩', '톳두부무침', '콩나물겨자채무침', '햄피망볶음', '매실짱아찌', '황도샐러드', '쫑상추무침', '브로컬리맛살볶음', '감자치즈구이', '찹쌀밥', '칠리새우', '호박맑은국', '쌈다시마초장', '귤', '견과류샐러드', '쇠고기숙주볶음', '짜장소스', '마카로니샐러드', '파인애플볶음밥', '녹두전', '해물수제비국', '매운호박볶음', '해파리냉채', '양배추숙쌈', '호박된장국', '잔치국수', '떡잡채', '고추장찌개', '간장돼지갈비찜', '우렁된장찌개', '씨리얼과일샐러드', '치커리만다린샐러드', '된장찌개', '강된장', '타래과', '톳무침', '건새우미역국', '순살닭갈비', '호두견과류강정', '요거트드링킹', '양잡피잡채', '요거닭', '대구찌개', '생선커틀렛', '치킨무', '우거지된장국', '삼겹살김치찜', '해물동그랑땡', '가자미카레튀김', '동태', '해물잡채', '꽃맛살오리엔탈샐러드', '무말랭이무침', '케일숙쌈*양념간장', '베이비크랩강정', '들깨시래기국', '양파링카레튀김', '도라지생채', '메밀전', '궁중떡찜', '다시마쌈*씨앗쌈장', '매운어묵무침', '바질페스토스파게티', '김치제육덮밥', '모듬어묵볶음', '버섯불고기', '치즈계란말이', '푸딩', '순대채소볶음', '훈제오리볶음', '오징어숙회무침', '팽이된장국', '적어구이', '제육볶음', '봄나물비빔밥', '닭가슴살장조림', '닭매운찜', '김밥볶음밥', '깐풍육', '만두찜', '오징어볶음', '꽃맛살샐러드', '파프리카계란말이', '도라지오이생채', '닭강정', '매운버섯국', '두부계란구이', '미니함박조림', '돈육김치찌개', '봄동나물', '꽃상추무침', '새우완자탕', '모둠묵', '치자밥', '모닝샌드', '소세지오븐구이', '맛살겨자채', '두부참치조림', '왕갈비탕', '해파리겨자채', '꽈리고추메추리알조림', '알로에주스', '떡볶이', '오징어튀김', '축하떡', '풋고추', '감자샐러드', '깻잎전', '찰보리밥', '연근유자피클', '버블샐러드', '마늘치킨', '청경채만다린생채', '도토리묵냉국', '인절미', '육전', '베이컨감자볶음', '도토리묵', '야채튀김', '나쵸칩', '짬뽕국', '묵은지닭볶음탕', '과일탕수육', '카레라이스', '단호박채소전', '해물누룽지탕', '배추깻잎', '영양부추무침', '하와이안샐러드', '감자고추장찌개', '햄계란말이', '깍둑오이초무침', '양념장', '맛살냉채', '김치고기전', '동파삼겹수육', '치커리유자생채', '감자채전', '수제삼색무쌈', '보쌈', '가래떡구이', '가지고추장무침', '해물탕', '단무지무침', '소고기국', '콩비지김치찌개', '도라지나물', '맑은콩나물국', '가지찜', '오징어초무침', '인절미츄러스맛탕', '버섯볶음', '노각무침', '봄동된장무침', '흑미밥', '동그랑땡전', '간장마늘치킨', '호박고추장찌개', '호박잎쌈', '민물새우찌개', '소세지구이', '그린샐러드', '순살양념치킨', '닭볶음탕', '고추간장지', '배추겉절이', '해물순두부찌개', '마카로니치즈범벅', '불고기덮밥', '브로콜리땅콩소스무침', '오복지', '수제보쌈김치', '대구탕', '명태엿장조림', '삼색콜리', '치커리사과유자청무침', '사과푸딩샐러드', '유채나물', '북어계란국', '매콤함박스테이크', '상추쑥갓생채', '열무된장나물', '홍합국', '감자조림', '오이맛살초무침', '삼치무조림', '전주식콩나물해장국', '팝콘치킨', '콥샐러드', '오리주물럭', '곤드레밥', '카레덮밥', '모둠버섯볶음', '돈육도라지고추장볶음', '다슬기아욱국', '호박숙', '겉절이김치', '김구이', '감자채볶음', '시리얼', '가지나물무침', '브로컬리무침', '매콤해물볶음', '소고기미역국', '소고기매운무국', '닭살데리야끼조림', '동태매운탕', '생선가스', '맑은버섯육개장', '짜글이돼지찌개', '교촌간장치킨', '오미산적', '브로컬리들깨찜', '쭈꾸미볶음', '오리고추장불고기', '양장피', '언양식불고기', '배추국', '어묵국', '제첩두부국', '미니우동', '상추부추생채', '오렌지자몽샐러드', '도라지볶음', '얼갈이국', '치킨샐러드', '딸기푸딩', '가래떡츄러스', '복숭아미역냉국', '차돌박이찌개', '우거지국', '계란파국', '배추김치', '살구복숭아주스', '곤약흑임자무침', '쥬시쿨', '요거트푸딩', '청량된장찌개', '모듬장조림', '머위대들깨볶음', '파스타샐러드', '소고기무국', '물미역', '모듬소세지버섯구이', '통계란꼬치어묵탕', '느타리버섯국', '열무나물', '치즈불닭', '야채볶음밥', '과일그라탕', '얼갈이생채', '수제피클', '타꼬야끼', '계란', '수제비국', '음료', '근대나물', '콩나물볶음', '산채비빔밥', '모듬묵흑임자샐러드', '돈삼겹보쌈', '김말이강정', '참치김치볶음', '머위된장나물', '꽈리고추찜', '참치김치찌개', '파래김', '자몽에이드', '매콤떡갈비조림', '두부오꼬노미야끼', '모둠채소무침', '순살파닭', '오이소배기', '훈제오리냉채', '감자프리타타', '수제함박스테이크', '단호박영양밥', '풋고추양파쌈장무침', '콩나물잡채', '춘권튀김', '청국장찌개', '오꼬노미야끼', '바싹불고기', '훈제오리마늘볶음', '크레미계란말이', '양념찜닭', '미역줄기볶음', '닭다리튀김', '고구마순나물', '홍삼', '돼지고추장불고기', '두부커틀릿', '고구마치즈빵', '임연수찜', '파프리카감자채볶음', '두릅새송이초무침', '비엔나채소볶음', '칠리탕수육', '순대국밥', '물미역초장', '모듬채소', '상추파무침', '대파육개장', '수제과일잼샌드', '갈치양념조림', '실곤약초무침', '꽃맛살햄볶음', '쭈꾸미숙회무침', '갈릭순살치킨', '호박나물', '쑥갓두부무침', '조기구이', '애호박전', '참나물무침', '채소스틱', '수제돈가스', '쇠고기단호박조림', '올방개묵무침', '영양부추', '해물김치전', '대패삼겹', '가쯔오국', '버섯들깨찌개', '오이달래무침', '우동국', '돌나물무침', '오징어굴소스볶음', '순대볶음', '김치볶음', '열무나물무침', '동그랑땡부침', '삼치양념구이', '야채계란말이', '병아리콩밥', '또띠아칩', '오징어젓무침', '락교', '홍어채무침', '감자비엔나볶음', '무쌈말이', '꽃맛살볶음', '버섯메추리알장조림', '삼치데리야끼', '유채나물된장무침', '가자미구이', '매운쇠고기국', '이연복의', '들깨시락국', '어묵볶음', '땅콩멸치볶음', '멸치크랜베리볶음', '코다리조림', '방풍나물무침', '연두부', '치커리유자무침', '양념파닭', '배추된장국', '꽁치오븐구이', '김치콩나물국', '열대과일', '청양된장찌개', '북어해장국', '쇠고기장조림', '쇠불고기', '시리얼샐러드', '쌈추', '시금치부침개', '풋마늘대무침', '버섯잡채', '연근깨소스무침', '치즈함박스테이크', '사골우거지국', '브로콜리쌈장무침', '아삭고추무침', '물만두국', '허니순살치킨', '유부채소겨자냉채', '갓김치', '배추들깨국', '참나물땅콩가루무침', '오미자주스', '상추*쌈장', '임연수구이', '순두부탕', '건새우호박볶음', '감자고구마샐러드', '오삼불고기', '모듬묵샐러드', '콘치즈오븐구이', '부추깻잎전', '카레감자채볶음', '두부카프레제', '꽈리고추감자조림', '물미역초고추장무침', '양배추채무침', '경상도식소고기국', '장어강정', '매운동태찜', '웨지감자오븐구이', '소고기불고기', '더덕오이생채', '깻잎*쌈장', '완자전', '명이절임', '청경채사과생채', '돈육춘장볶음', '찰떡떡갈비조림', '만다린샐러드', '버섯초장무침', '해물돼지갈비찜', '도라지초무침', '냉이나물무침', '야채계란찜', '느타리버섯볶음', '꽈리고추찹쌀무침', '어묵매운탕', '쇠고기해장국', '제육미나리볶음', '시래기나물', '햄감자채볶음', '청경채생채', '명이나물-장아찌', '춘권', '미소국', '고구마순볶음', '크란치바', '김치필라프', '치즈계란찜', '꼬들단무지무침', '갈치조림', '취나물', '적어양념장구이', '청포묵', '명태조림', '베이컨김치볶음밥', '시금치국', '근대국', '연어훈제샐러드', '천도복숭아', '크루통샐러드', '훈제오리구이', '갈치무조림', '닭살냉채', '소고기된장찌개', '등갈비김치찜', '고구마순무침', '황태채국', '모둠소세지구이', '짜요짜요', '상추무침', '모듬버섯볶음', '상추', '파프리카해초무침', '콩나물불고기', '레몬미역초무침', '매운어묵국', '꼬시래기무초무침', '비엔케찹볶음', '스위트칠리미트볼', '오이지냉국', '찐햇감자', '냉족발야채무침', '찜닭', '양상추*쌈장', '유자청돈육볶음', '목살데리야끼', '토마토스크램블', '명란계란말이', '새송이버섯전', '상추초무침', '연복풍덮밥', '명엽채볶음', '고추장감자조림', '메추리알떡볶이', '도라지무침', '동초나물무침', '건다래순볶음', '소불고기덮밥', '아몬드멸치볶음', '홍합탕', '곰취', '새알미역국', '수제석박지', '허니버터치킨', '돼지갈비찜', '시금치고추장나물무침', '토마토샐러드', '멕시칸샐러드', '황태미역국', '비엔나감자조림', '돈육볶음', '가지무침', '닭살겨자냉채', '골뱅이야채무침', '콩나물부추무침', '하루나겉절이', '수완왕갈비맛통닭', '김치우동', '동태찌개', '쇠고기볶음', '통들깨부추무침', '대구지리', '돼지고기유자청볶음', '얼갈이된장국', '만가닥버섯불고기', '배즙', '매운콩나물무침', '완두콩밥', '쑥갓나물', '츄러스채소맛탕', '취나물무침', '로스트치킨샐러드', '새싹두부구이', '보쌈김치', '들깨수제비', '레몬탕수육', '석박지', '무채국', '열무김치', '유산슬', '콩나물파채', '돈육간장불고기', '토란탕', '깐풍연근', '바베큐장각오븐구이', '아귀순살찜', '멸치볶음', '달래무침', '부추생채', '비빔메밀면', '들깨미역국', '시금치샐러드', '콩나물국', '두부구이', '콩나물제육볶음', '고추지무침', '브로컬리두부무침', '버섯숙회*초장', '취나물쌈장무침', '생강채*쌈장', '해물굴소스볶음', '오프룻요거트', '문어꽈리고추조림', '온두부', '쇠고기당면볶음', '깻순나물', '돈육두루치기', '황태채마늘쫑무침', '냉모밀국수', '유부주머니국', '오리양념불고기', '비엔나감자볶음', '탕평채', '그린샐러드*키위D', '나주곰탕', '새송이떡갈비구이', '봄동겉절이', '눈꽃치즈샐러드', '삼겹살구이', '무쌈', '냉이된장찌개', '꽁치와사비구이', '꼬지삼색전', '안동찜닭', '사과나무주스', '쪽파국', '훈제오리고추장볶음', '간장파닭', '유채나물겉절이', '마파두부', '참치야채전', '참나물', '생야채', '표고버섯탕수육', '오리고추장볶음', '바지락살무국', '해물동그랑땡채소볶음', '꽁치한마리레몬구이', '피클', '와사비무쌈*쌈장', '삼겹살오븐구이', '치커리유자청무침', '군고구마', '육개장', '오징어브로컬리', '오징어돈육볶음', '마늘*새우젓', '소고기떡국', '주꾸미굴소스볶음', '우무콩국', '사각어묵무침', '두부계란전', '토마토두부카프레제', '김치어묵탕', '버섯국', '깻잎양념지', '레몬유린기', '새송이전', '구운채소', '바지락미역국', '냉이국', '사골우거지탕', '곤약야채무침', '차돌박이숙주볶음', '참나물땅콩무침', '감자범벅', '미역미소시루국', '분홍소시지전', '장어고추장양념구이', '시금치무침', '오이부추무침', '메밀전병만두', '춘천닭갈비', '갈비통통만두', '골뱅이무침', '꽃게된장찌개', '돈육잡채', '닭다리살스테이크', '포기김치', '부추무침', '미역레몬초무침', '주꾸미브로콜리숙회', '미나리오이무침', '해물완자전', '전복장각삼계탕', '조랭이떡미역국', '세발나물생채', '감자수제비국', '두부계란부침', '갈릭돈까스', '포도주스', '고기전', '미니케익', '삼치된장구이', '딸기드레싱샐러드', '진미채오이무침', '단호박카레라이스', '오리들깨탕', '오이', '가지두반장볶음', '버섯매운탕', '비름나물된장무침', '두반장가지볶음', '삼색만두채소무침', '유자청제육볶음', '미니짬뽕', '깻잎', '쌈추겉절이', '꽈배기도넛', '고등어카레구이', '청경채', '얼갈이나물', '돈갈비찜', '가자미유린기', '수수밥', '꽃게된장국', '히레카츠', '가지볶음', '쇠고기미역국', '떡만두국', '건취나물볶음', '치커리만다린무침', '오징어링', '굴김치두부국', '감자볶음', '매콤어묵볶음', '두부', '해물파전'}\n",
            "{'미트볼채소볶음', '절인고추', '꼬지어묵우동', '차돌된장찌개', '베이컨숙주볶음', '유채나물무침', '시래기국', '쌈추전', '비빔메밀국수', '콩자반', '데리야끼파닭', '코다리강정', '낙지덮밥', '치킨핑거', '얼큰동태탕', '츄러스', '단무지', '소고기모듬장조림', '부추겉절이', '고구마오븐구이', '가자미양념찜', '청경채김치', '대패삼겹숙주볶음', '미니잔치국수', '너비아니', '양념치킨', '계란찜', '해물까스', '느타리호박볶음', '목살간장조림', '로제찜닭', '돈육강정', '미소시루', '새우살호박볶음', '팽이버섯채소전', '퀘사디아', '스파게티', '마늘바게트', '참치마요덮밥', '돈육고추장볶음', '해물겨자냉채', '가자미찜', '양념고추지무침', '등갈비오븐구이', '섭산적고추장구이', '매운콩나물국', '날치알계란찜', '바지락수제비', '콩국수', '누룽지탕수육', '갈릭파닭', '오이사과무침', '고등어김치찜', '얼갈이나물된장무침', '굴소스볶음밥', '김치국', '등심찹쌀꿔바로우', '모듬소세지볶음', '새우튀김', '마늘쫑무침', '타코야끼', '실곤약흑임자무침', '비프스파게티', '브로컬리초회', '미니버거', '연근땅콩조림', '김칫국', '비빔만두', '쑥갓생무침', '닭데리야끼구이', '콩나물김치국', '칠리미트볼조림', '뼈없는감자탕', '오이보트샐러드', '맛살전', '＜자기', '메추리알풋고추조림', '쌈무', '훈제오리불고기', '사과양상추샐러드', '주꾸미볶음', '명란계란찜', '김말이', '오이양배추피클', '아이스슈', '김자반볶음', '도라지오이초무침', '부추팽이버섯생채무침', '수제마늘바게트', '해물떡볶이', '해물손수제비', '소고기메추리알장조림', '물만두찜', '고등어조림', '숙주미나리무침', '물파래무침', '참나물겉절이', '돌나물유자청무침', '돈육김치볶음', '오리불고기', '볶음쌀국수', '오이사과생채', '해물짜장면', '섭산적데리야끼조림', '감자채파프리카볶음', '알탕', '가자미튀김', '슈크림', '매운소고기무국', '모듬소세지', '쇠고기들깨소스무침', '훈제오리', '아욱국', '매운감자국', '모둠채소전', '과일', '요플레', '근대된장국', '차돌비빔국수', '부들어묵볶음', '냉메밀소바', '김말이튀김', '닭불고기', '시금치초무침', '하와이안필라프', '미니야채떡갈비', '장각닭죽', '오꼬노미계란말이', '해물칼국수', '건새우무나물', '치커리귤무침', '시금치된장국', '등뼈묵은지찜', '김자반', '탕수어', '풋고추양파무침', '비빔만두채소무침', '시래기지짐', '꼬치어묵떡볶이', '꼬치어묵탕', '삼선짬뽕국', '묵은지닭찜', '토마토설탕절인', '모듬튀김', '샐러드파스타', '돈육간장강정', '호박잎찌개', '물만두탕수', '오이지', '볶음밥', '애호박새우젓국', '메추리알곤약조림', '깐풍기', '매운사태조림', '메추리알장조림', '버섯영양밥', '베리베리퐁당요플레', '순대야채볶음', '어묵꽈리고추볶음', '견과류조림', '돈육장조림', '홍시드레싱샐러드', '참치파개장', '치즈닭갈비', '연유꽃빵튀김', '수제치킨까스', '고추잡채덮밥', '해물순두부국', '날치알볶음밥', '사골파국', '돈육고추장찌개', '닭카레볶음', '파김치', '아귀콩나물찜', '고구마까스', '시래기들깨탕', '나박물김치', '부대찌개', '야채부케', '섭산적표고굴소스볶음', '근대두부된장국', '연두부계란찜', '시금치프리타타', '도토리묵채소무침', '미니쫄우동', '쇠미역쌈', '꼬지어묵탕', '초계국수', '양파초절임', '짬뽕순두부찌개', '가쓰오장국', '닭간장조림', '잡채', '자기계발의날', '수제맛쵸킹탕수육', '쑥된장국', '버섯육개장', '매쉬드포테이토', '스팸주먹밥', '과일샐러드', '머위된장무침', '김치두루치기', '고춧잎무침', '들깨무채국', '주꾸미초무침', '빌소세지구이', '소떡소떡', '김주먹밥', '유부장국', '얼갈이쌈장무침', '샐러리샐러드', '숙주나물', '열무비빔국수', '콩가루배추국', '돈육꽈리고추장조림', '미역국', '옛날왕돈가스', '동파육', '돈육피망볶음', '쪽파무침', '어묵우동', '비엔나야채볶음', '소고기낙지볶음', '모듬양채쌈', '고추튀김', '사과', '모듬소시지구이', '동태전', '옥수수계란찜', '볶음우동', '순살깐풍기', '매운사태찜', '깻잎고기전', '가자미엿장구이', '페퍼로니치즈피자', '옹심이만두국', '카레찜닭', '버섯메밀전', '양념깻잎지', '해물짬뽕', '청양멸치주먹밥', '토마토스파게티', '사과맛살초무침', '매콤호박볶음', '꼬막채소무침', '바지락살국', '땡초주먹밥', '바지락된장찌개', '동태콩나물찜', '설렁탕', '감자찌개', '부채살오므라이스', '오이나물볶음', '비빔채소만두', '올갱이아욱국', '손수제비국', '미니쌀국수', '낙지비빔밥', '참치회덮밥', '미소된장국', '계란국', '쌀국수', '모둠묵샐러드', '동태포전', '골뱅이채소무침', '과일요거트샐러드', '꼬치어묵국', '수제핫도그', '모자반무침', '돈육씨앗강정', '나가사끼짬뽕', '왕만두', '만두', '자반고등어구이', '목살스테이크', '토마토계란찜', '또띠아피자', '마늘쫑건새우볶음', '쫄면채소무침', '해초무침', '참나물초장무침', '단배추겉절이', '알리오올리오파스타', '연근조림', '닭데리야끼조림', '고구마샐러드', '옛날왕돈까스', '치커리사과무침', '미니채소떡갈비', '두부양념조림', '소고기버섯볶음', '숙주미나리나물', '쌀밥', '크랜베리단호박샐러드', '수제오이피클', '우엉조림', '새우까스', '오징어야채무침', '오므라이스', '해물굴소스볶음밥', '미니국수', '고추짜장', '떡국', '미니햄버거', '카레돈까스정식', '맑은버섯닭개장', '검정콩조림', '모짜렐라핫도그', '우동', '햄감자볶음', '멘보샤', '바베큐함박찹스테이크', '식혜', '우거지해장국', '멸치아몬드볶음', '간장불고기', '양파장아찌', '생깻잎지', '김치두부국', '오렌지', '실곤약채소무침', '청경채나물', '얼큰순두부찌개', '오이맛살냉채', '수제고기육전', '풋고추튀김', '취나물된장볶음', '소고기장조림', '양파절임', '부추호박전', '마늘간장치킨', '고구마치즈구이', '부추팽이무침', '바나나', '땅콩조림', '오징어떡볶음', '황태양념구이', '당면채소무침', '차돌박이된장찌개', '봄동무침', '고구마튀김', '닭살채소굴소스볶음', '방울토마토', '닭살겨자채', '감귤쥬스', '매실주스', '타워함박스테이크', '달래된장국', '상추겉절이', '수박', '맑은연두부탕', '냉이된장국', '망고드레싱샐러드', '춘전닭갈비', '펜네베이컨샐러드', '양념고추지', '오이소박이', '짜샤이볶음', '두부양념찜', '더덕무침', '상추부추무침', '꼬마김밥', '짬뽕불고기', '오이볶음', '통고추쌈장무침', '고구마순들깨볶음', '비빔야채만두', '옥수수전', '컬리플라워샐러드', '단무지양념무침', '쇠고기볶음밥', '콩나물냉채', '얼갈이겉절이', '오이피클', '꼬막찜', '낙지볶음', '애플망고두유', '오복지무침', '참나물생채', '쇠고기두부찜', '도토리묵무침', '조각사과', '수제칠리핫도그', '단호박계란찜', '무청된장국', '옛날돈까스', '파채*소스', '케일숙쌈*쌈장', '고추장불고기', '참치주먹밥', '모둠버섯초무침', '돈나물오리엔탈무침', '단호박', '간장치킨', '새우또띠아', '오이무침', '양송이스프', '매운소불고기', '치커리생채', '굴소스파인볶음밥', '사과청경채무침', '간장찜닭', '쇠고기낙지볶음', '매운돈갈비찜', '쭈꾸미불고기', '버섯매운국', '쨔샤이무침', '닭개장', '김치전', '햄볶음밥', '쫄면', '삼겹살야채비빔면', '어묵잡채볶음', '충무김밥', '쑥갓겉절이', '꽁치한마리구이', '채소쌈', '칠리베이비크랩', '크림새우', '상추쌈', '순두부찌개', '유부주머니된장국', '산고추지무침', '우동장국', '백김치', '깻잎쌈', '오이도라지무침', '생파김치', '요구르트', '해물청경채볶음', '생선까스', '양배추쌈', '양장피잡채', '머위대초무침', '크림스프', '셀프충무김밥', '돈육두릅장조림', '깐쇼새우', '북어짬뽕국', '양상추샐러드', '매운족발볶음', '더덕고추장불고기', '배추흑임자무침', '고등어자반찜', '우엉잡채', '햄전', '꽈배기도너츠', '돈까스김밥', '후르츠탕수육', '황태국', '오이생채', '김치순두부찌개', '꽃삼겹김치찜', '늙은호박전', '나가사키면', '물파래초무침', '봄동된장국', '고들빼기무침', '단무지채무침', '건새우아욱국', '새송이고추장구이', '건새우호박채전', '매생이굴국', '모듬묵', '쇠고기모둠장조림', '비트무피클', '고추잡채', '사천식탕수육', '굴소스해물볶음밥', '셀프무쌈말이', '생선초밥', '건파래무침', '포테이토오븐구이', '파인애플주스', '군만두', '오뗄햄김밥', '쫑상추새콤무침', '두부고기조림', '가지마파두부', '감자국', '물파래전', '매운소고기국', '온모밀국수', '코코뱅', '해물볶음우동', '마제소바', '두부김치국', '물냉면', '미소장국', '삼겹살볶음밥', '닭칼국수', '치커리배생채', '옛날돈가스', '수제돈까스', '찹쌀순대볶음', '오징어채소볶음', '백종원의사라다빵', '계발의', '꼬들단무지', '굴비구이', '몽골식돈육볶음', '깻잎지', '소불고기', '소고기매운국', '브로컬리새우전', '무채맑은국', '동그랑땡강정', '무말랭이', '물미역초무침', '미역초무침', '옛날소시지전', '고구마치즈돈까스', '감자간장조림', '통새우김밥', '청경채겉절이', '콩나물겨자채', '매실쥬스', '탕수만두', '계란말이', '오징어어묵무침', '마늘쫑볶음', '닭가슴살냉채', '미니떡갈비조림', '새송이버섯조림', '통도라지구이', '떡갈비주먹밥', '청경채찜', '수제오징어튀김', '닭봉오븐구이', '브로컬리초장', '수원왕갈비통닭', '가쯔오장국', '감자양파국', '낙지볶음덮밥', '꼬시래기무침', '마파두부덮밥', '비트피클', '애호박나물', '계란장조림', '알배기', '김치녹두전', '어묵잡채', '도라지오이무침', '쫄면무침', '닭갈비볶음밥', '비트무생채', '들깨버섯탕', '돌나물', '콩나물냉국', '망고주스', '찐옥수수', '참치야채비빔밥', '돈수육', '삼색귤소스무침', '김치찌개', '황태무채국', '연근흑임자샐러드', '들깨버섯국', '꼬시래기초무침', '계란야채말이', '시금치초장무침', '메추리알조림', '건파래볶음', '양배추샐러드', '얼큰감자국', '스팸계란말이', '머위대나물', '순살닭강정', '감자만두', '청양콩나물국', '까르보나라떡볶이', '갈치구이', '꽁치구이', '가지탕수', '재래김', '비타민흑임자샐러드', '매운감자조림', '핫도그', '나초콥샐러드', '콩나물굴소스볶음', '코다리양념조림', '동태탕', '옹심이감자국', '닭갈비', '연두부찌개', '야채스틱', '잡채밥', '케이준치킨샐러드', '국물떡볶이', '봄동쌈', '새우만두', '무나물들깨볶음', '팽이버섯국', '쫄면야채무침', '소시지오븐구이', '해라피겨자채', '양배추피클', '연두부탕', '새우살볶음밥', '멸치견과류볶음', '방어양념장구이', '오리훈제볶음밥', '김밥', '매운떡볶이', '어묵피망볶음', '가정의날', '잡곡밥', '야채쫄면', '닭볶음', '옥수수볼맛탕', '비빔칼국수', '풋마늘초무침', '얼큰소고기무국', '통배추겉절이', '단호박조림', '순두부백탕', '새우튀김우동', '돈육굴소스볶음', '열무물국수', '닭윙강정튀김', '채소볶음밥', '유산슬덮밥', '해물가스', '실곤약야채무침', '오꼬노미야끼계란말이', '만두국', '치킨퀘사디야', '세발나물오리엔탈무침', '훈제오리떡볶음', '컵주스', '야채쫄면무침', '치커리사과생채', '팽이장국', '생선커틀릿', '고구마그라탕', '두부스테이크', '단호박범벅', '맑은국', '폭탄주먹밥', '감자채카레볶음', '깍두기', '가지나물', '떡꼬지', '돼지국밥', '옥수수맛살전', '해물수제비', '부추전', '야채샐러드', '치커리깨소스무침', '케이준샐러드', '왕만두찜', '세발나물무침', '미트볼파스타', '쇠고기우엉볶음', '물만둣국', '주스', '오이선', '솎음열무나물', '삼겹보쌈', '옹심이국', '브로콜리깨소스무침', '쪽파김무침', '브로컬리', '미니팥칼국수', '돈육고추장불고기', '가래떡오븐구이', '매콤돈육메추리알장조림', '꽁치김치말이', '구이김', '오이초무침', '연근', '오이도라지생채', '무채유자무침', '모둠소시지구이', '북어국', '돈육간장볶음', '꽈리고추어묵볶음', '쇠고기매운국', '애호박새우젓나물', '쇠고기샤브국', '매운오징어국', '삼치엿장구이', '비빔국수', '모듬떡볶이', '모둠버섯구이', '시저샐러드', '양상추', '탕수육', '짜장잡채덮밥', '새알만두국', '매생이전', '오징어무국', '개성감자만두', '밀떡볶이', '미트볼떡조림', '청경채사과무침', '옥수수스프', '전주식콩나물국', '콩나물파채무침', '새우미역초무침', '짜사이볶음', '짜장덮밥', '소고기계란장조림', '호박채나물', '건도토리묵파프리카볶음', '알타리김치', '삼겹살마늘볶음밥', '돈까스', '사과오이생채', '시리얼과일샐러드', '오이지무침', '브로컬리오징어숙회', '떡갈비조림', '새송이버섯볶음', '상추치커리무침', '홍합무우국', '모듬어묵탕', '코다리엿장조림', '목살김치찌개', '메추리알치즈떡볶이', '오이양파무침', '꽃빵튀김', '옥수수샐러드', '얼갈이된장무침', '등심돈까스', '건새우마늘쫑볶음', '콩조림', '두부된장찌개', '나가사끼짬뽕국', '백종원의', '단호박두부탕수', '매운계란파국', '오징어순대볶음', '사천탕수육', '통새우또띠아', '매운돼지갈비찜', '돈육칠리강정', '날치알김치볶음밥', '깨찰빵', '단감치커리무침', '브로콜리숙회', '알리오올리오', '치킨까스', '두부조림', '버섯들깨나물', '류산슬', '조갯살아욱국', '단호박팥찜', '근대나물무침', '해물된장찌개', '유부된장국', '모듬소세지구이', '스팸', '풍기샐러드', '야채비빔만두', '탄두리치킨', '무비트생채', '비름나물', '완두콩스프', '모둠장조림', '코다리무조림', '소고기숙주볶음', '메쉬드포테이토', '버섯탕수', '매운어묵볶음', '열무된장국', '쇠고기육전', '비엔나케찹볶음', '숙주미나리잡채', '허니버터옥수수', '단호박달걀찜', '주꾸미무침', '장아찌', '쫄면비빔만두', '브로컬리꽃맛살샐러드', '콩나물밥', '멸치호두볶음', '비엔나볶음', '콘샐러드', '도토리묵야채무침', '참나물생채무침', '만두튀김', '갈치튀김', '오징어불고기', '키위드레싱샐러드', '방풍나물', '꽁치김치찜', '만둣국', '삼치조림', '미트볼케찹조림', '머위순나물', '궁중떡볶이', '모듬쌈', '돈채표고버섯볶음', '고구마연근맛탕', '도라지채무침', '낙지젓무침', '오징어', '깻잎찜', '등뼈김치찜', '돈까스또띠아', '고등어구이', '신김치도토리묵', '해초레몬무침', '세발나물', '치즈시즈닝치킨', '콘슬로우', '대구매운탕', '낙지미나리볶음', '치킨마요덮밥', '영양부추생채', '얼갈이열무겉절이', '홍합짬뽕국', '한식잡채', '오리훈제마늘볶음', '작은밥', '뉴욕핫도그', '닭가슴살겨자무침', '호박부추전', '호박새우젓국', '등갈비묵은지찜', '치커리무침', '아삭고추된장무침', '궁중떡볶음', '돈육매콤조림', '딸기와플', '멸치마늘종조림', '햄치즈또띠아', '꽃게탕', '쑥갓무침', '콩비지찌개', '소고기퀘사디아', '유부주머니우동국', '무나물', '버섯맛살볶음', '고구마범벅', '주꾸미채소볶음', '함박스테이크', '해물볶음밥', '유린기', '돌나물초장', '코코넛새우튀김', '매운닭찜', '청경채무침', '고기짬뽕국', '굴미역국', '오이미역무침', '돈사태떡찜', '청포묵무침', '녹두빈대떡', '모듬버섯탕수육', '들깨버섯무침', '양파치킨', '호박잎된장찌개', '꽁보리밥', '목살필라프', '감자치즈오븐구이', '새송이너비아니구이', '무피클', '오징어땅콩조림', '오렌지주스', '해물부추전', '사과오이냉국', '씨앗콩자반', '진미채무침', '두부새싹구이', '찐만두', '부추만두', '두부미소된장국', '감자카레볶음', '고추,양파', '무생채', '동태알탕', '볼어묵조림', '주꾸미떡볶음', '계란후라이', '콩나물무침', '미트볼조림', '참외', '올챙이만두국', '맛탕', '버섯들깨탕', '꽁치허브구이', '부추팽이겉절이', '미역무침', '감자전', '미역줄기', '짜장밥', '토마토', '바게뜨', '미니돈까스', '건새우아욱된장국', '김치볶음밥', '오징어국', '수수부꾸미', '고등어김치말이', '두부매콤조림', '치킨텐더', '맑은장국', '계란김밥', '마늘베이컨볶음밥', '수제찹쌀꿔바로우', '사과오이무침', '단배추나물', '왕새우튀김', '비빔밥', '옥수수콘치즈', '닭오븐구이', '두부찜', '갈비만두', '어묵무침', '옹심이만둣국', '간장깻잎지', '삼치구이', '파닭', '쇠고기무국', '무초절임', '해물전', '청포도', '로제스파게티', '과일플레인샐러드', '김치참치주먹밥', '과일주스', '제육춘장볶음', '햄맛살볶음', '장국', '시금치나물', '청포묵야채무침', '흑임자곤약샐러드', '꽈리고추어묵조림', '비엔나컬리플라워볶음', '배', '미역장국', '언양식바싹불고기', '시래기조림', '닭곰탕', '사과푸딩', '사골옹심이만둣국', '고추장멸치볶음', '톳두부무침', '베이컨볶음밥', '순대들깨볶음', '포도', '계란떡볶이', '딤섬', '섬초무침', '쇠고기숙주규동덮밥', '새우로제파스타', '쫑상추무침', '브로컬리맛살볶음', '감자치즈구이', '찹쌀밥', '귤', '감자햄조림', '짜장소스', '쇠고기숙주볶음', '옥수수감자범벅', '황태국수', '짜장잡채밥', '파인애플볶음밥', '녹두전', '짬뽕수제비', '해파리냉채', '잔치국수', '고갈비구이', '가자미양념조림', '짜사이채무침', '고추장찌개', '씨리얼과일샐러드', '된장찌개', '감자채햄볶음', '돈가스또띠아', '해물동그랑땡전', '순살닭갈비', '마늘빵', '소고기콜라비조림', '쇠고기덮밥', '미나리나물무침', '취나물된장무침', '채소라면', '찐감자', '비트무절임', '로제파스타', '제육김치덮밥', '대구찌개', '김치미나리전', '닭간장볶음', '치킨무', '우거지된장국', '해물동그랑땡', '꽁치감자조림', '가자미카레튀김', '미니김밥', '후난식볶음밥', '무말랭이무침', '소세지볶음', '들깨시래기국', '도라지생채', '콤비네이션피자', '메밀전', '궁중떡찜', '취나물볶음', '감자양념조림', '김치주먹밥', '임연수엿장조림', '버섯불고기', '치즈계란말이', '푸딩', '순대채소볶음', '훈제오리볶음', '오징어숙회무침', '내사랑포도', '제육볶음', '감자소세지볶음', '숙주고기짬뽕', '닭가슴살장조림', '닭매운찜', '김밥볶음밥', '크래미오이보트샐러드', '깐풍육', '만두찜', '오징어볶음', '크랜베리멸치볶음', '꽃맛살샐러드', '도라지오이생채', '닭강정', '매운버섯국', '오이무피클', '두부계란구이', '미니함박조림', '두부카프레제샐러드', '돈육김치찌개', '해쉬포테이토', '양배추비트피클', '꿔바로우탕수육', '꽃상추무침', '모둠묵', '유부우동', '케찹', '부추오이생채', '버섯햄볶음', '꼬치어묵매운탕', '해파리겨자채', '루꼴라샐러드', '떡볶이', '오징어튀김', '풋고추', '감자샐러드', '깻잎전', '카레홍합찜', '마늘치킨', '칼국수', '도토리묵냉국', '애플카레라이스', '매운순대국밥', '아귀매운탕', '팽이버섯장국', '흑임자시금치샐러드', '도토리묵', '돈채호박볶음', '우불고기볶음', '야채튀김', '짬뽕국', '묵은지닭볶음탕', '과일탕수육', '짬뽕', '카레라이스', '단호박스프', '해물누룽지탕', '영양부추무침', '하와이안샐러드', '감자고추장찌개', '돈육고구마강정', '햄계란말이', '깍둑오이초무침', '맛살냉채', '김치고기전', '동파삼겹수육', '딸기생크림와플', '감자채전', '단무지무침', '돈까스김치나베', '오이쑥갓겉절이', '양배추숙', '고사리볶음', '도라지나물', '오징어초무침', '맑은콩나물국', '노각무침', '흑미밥', '동그랑땡전', '짬뽕수제비국', '통마늘너비아니조림', '간장마늘치킨', '채소피클', '민물새우찌개', '크림카레우동', '닭볶음탕', '해물순두부찌개', '배추겉절이', '마카로니치즈범벅', '삼치튀김', '어묵깻잎전', '오복지', '수제보쌈김치', '대구탕', '빠에야', '채소볶음우동', '흑임자샐러드', '오징어젓갈무침', '가지된장무침', '유채나물', '북어계란국', '열무된장나물', '오이맛살초무침', '회오리감자', '순대오징어볶음', '김치국수', '조갯살미역국', '팝콘치킨', '콥샐러드', '우삼겹부대찌개', '곤드레밥', '고구마떡볶이', '카레덮밥', '모둠버섯볶음', '달래새우전', '다슬기아욱국', '겉절이김치', '김구이', '감자채볶음', '아오리사과', '소고기미역국', '해물누룽지', '소고기매운무국', '미나리무침', '김계란말이', '동태매운탕', '생선가스', '자몽샐러드', '무초절이', '쭈꾸미볶음', '미나리숙주나물', '언양식불고기', '배추국', '어묵국', '새우볶음밥', '쇠고기청경채볶음', '무쌈깻잎', '미니우동', '매운순대국', '얼갈이국', '치킨샐러드', '돈육모듬장조림', '쇠고기야채볶음', '어묵곤약볶음', '차돌박이찌개', '우거지국', '참치덮밥', '계란파국', '해물짬뽕국', '배추김치', '베이컨계란말이', '아쿠아돈까스', '오이맛살무침', '쇠고기퀘사디아', '파스타샐러드', '순대찜', '소고기무국', '매운닭개장', '진미채무말랭이무침', '느타리버섯국', '열무나물', '야채볶음밥', '라볶이', '호박젓국찌개', '수제피클', '얼갈이생채', '김가루잔파무침', '타꼬야끼', '계란', '하루나무침', '수제비국', '음료', '맑은버섯국', '해물볶음', '콩나물볶음', '샐러드', '산채비빔밥', '김말이강정', '돈삼겹보쌈', '메추리알곤약장조림', '참치김치볶음', '꽈리고추찜', '참치김치찌개', '스태프핫도그', '새싹피자', '파래김', '찹쌀도너츠', '브로컬리크림스프', '두부오꼬노미야끼', '계란볶음밥', '모둠채소무침', '순살파닭', '냉이김칫국', '황태해장국', '훈제오리냉채', '블루베리드레싱샐러드', '감자프리타타', '콘치즈구이', '유부초밥', '청국장찌개', '오꼬노미야끼', '수제연근유자피클', '온메밀소바', '미역줄기볶음', '고구마순나물', '호빵', '두부커틀릿', '꼬지어묵국', '그린요거트샐러드', '임연수찜', '자기개발의날', '투움바스파게티', '애호박새우젓볶음', '비엔나채소볶음', '생과일플레인샐러드', '춘장돈육볶음', '상추파무침', '우동국물', '수제등심찹쌀꿔바로우', '갈치양념조림', '꽁채캔김치조림', '실곤약초무침', '스팸김치찌개', '컵라면', '호박나물', '토마토시금치달걀볶음', '쑥갓두부무침', '조기구이', '꽁치양파조림', '참나물무침', '채소스틱', '수제돈가스', '노가리고추조림', '웨지감자', '올방개묵무침', '복주머니딤섬', '미나리전', '소고기주먹밥', '해물김치전', '김치말이국수', '대패삼겹', '가쯔오국', '취나물땅콩무침', '오이달래무침', '오징어굴소스볶음', '순대볶음', '청양해물파전', '김치볶음', '주먹밥', '구슬떡볶이', '열무나물무침', '삼치양념구이', '또띠아칩', '오징어젓무침', '비트채소절임', '짜장면', '그린빈베이컨볶음', '채소튀김', '락교', '홍어채무침', '감자비엔나볶음', '마파두부소스', '무쌈말이', '도넛츠', '불고기필라프', '유부우동국물', '꽃맛살볶음', '삼치데리야끼', '유채나물된장무침', '가자미구이', '매운쇠고기국', '마늘쫑메추리알조림', '다시마채무초무침', '어묵볶음', '코다리조림', '쌈만두', '간장계란장', '하루야채주스', '연두부', '치커리유자무침', '우육비빔냉면', '배추된장국', '꽁치오븐구이', '봄나물튀김', '김치콩나물국', '반반치킨', '우불고기', '북어해장국', '쇠고기장조림', '쇠불고기', '풋마늘대무침', '버섯잡채', '쌈장', '연근깨소스무침', '치즈함박스테이크', '사골우거지국', '매콤시래기된장지짐', '아삭고추무침', '매운등뼈조림', '해물우동볶음', '스틱단무지', '스프', '오징어무침', '물만두국', '뼈감자탕', '유부채소겨자냉채', '갓김치', '삼치데리야끼구이', '겨울초겉절이', '참나물땅콩가루무침', '우거지탕', '두반장가지나물', '쇠고기탕수', '납작군만두', '조각티라미수', '볼어묵고추장볶음', '임연수구이', '오삼불고기', '모듬묵샐러드', '콘치즈오븐구이', '갈치카레구이', '미트볼피망볶음', '옥수수맛탕', '카레감자채볶음', '두부카프레제', '무우짱아찌', '호박반달나물', '부추오리엔탈무침', '참치샐러드', '나가사키짬뽕국', '감자버터구이', '잔멸치볶음', '장어강정', '소고기불고기', '숯불양념꼬치어묵', '시금치흑임자샐러드', '찰떡떡갈비조림', '도라지초무침', '치커리단감무침', '야채계란찜', '느타리버섯볶음', '꽈리고추찹쌀무침', '팽이버섯부추무침', '어묵매운탕', '메밀국수', '햄감자채볶음', '달래된장찌개', '청경채생채', '모닝빵', '춘권', '고구마순볶음', '김치필라프', '수제두부동그랑땡', '치즈계란찜', '꼬들단무지무침', '갈치조림', '새송이버섯장조림', '메밀비빔국수', '취나물', '야채전', '명태조림', '베이컨김치볶음밥', '시금치국', '고등어양념구이', '근대국', '비엔나감자구이', '천도복숭아', '숙주나물당근무침', '치킨까스김치나베', '훈제오리구이', '갈치무조림', '두부부침', '묵은지삼겹살찜', '닭살냉채', '감자튀김', '피크닉', '채소계란찜', '소고기된장찌개', '등갈비김치찜', '열무김치국수', '날＞', '콩나물간장볶음', '양상추메추리알샐러드', '상추무침', '상추', '사과주스', '파프리카해초무침', '우엉곤약조림', '콩나물불고기', '매운어묵국', '찐햇감자', '찜닭', '유자청돈육볶음', '허니슈스트링감자', '열무김치볶음', '홍합미역국', '마늘쫑건새우', '새송이버섯전', '상추초무침', '브로콜리', '명엽채볶음', '도라지무침', '자장소스', '오렌지쥬스', '아몬드멸치볶음', '홍합탕', '수제미니햄버거', '새알미역국', '삼치양념찜', '샤워크림새우', '돼지갈비찜', '멕시칸샐러드', '황태미역국', '비엔나감자조림', '돈육볶음', '가지무침', '닭살겨자냉채', '메추리알꽈리고추조림', '해초배무침', '돼지고기장조림', '쇠고기규동덮밥', '김치우동', '동태찌개', '마늘바게뜨', '잡채말이어묵국', '돈육가지두반장볶음', '시래기삼치조림', '대구지리', '감자만두국', '얼갈이된장국', '만가닥버섯불고기', '매운콩나물무침', '쑥갓나물', '취나물무침', '새싹두부구이', '레몬탕수육', '석박지', '무채국', '열무김치', '유산슬', '미니함박', '연근튀김', '돈육간장불고기', '토란탕', '깐풍연근', '후리가케덮밥', '동그랑땡계란부침', '볼어묵곤약볶음', '샐러드김밥', '멸치볶음', '부추생채', '청포도피클', '팽이가쯔오장국', '들깨미역국', '시금치샐러드', '콩나물국', '두부구이', '고추지무침', '모둠튀김', '숯불양념꼬지어묵', '온두부', '열대과일샐러드', '깻순나물', '돈육두루치기', '키위그린샐러드', '냉모밀국수', '유부주머니국', '비엔나감자볶음', '탕평채', '삼계국밥', '봄동겉절이', '삼겹살구이', '무쌈', '시금치나물무침', '냉이된장찌개', '안동찜닭', '돌나물오이무침', '추가밥', '마파두부', '참치야채전', '참나물', '양념갈비찜', '제육간장불고기', '생야채', '표고버섯탕수육', '수제무말랭이무침', '바나나와플', '미더덕콩나물찜', '시래기들개탕', '멸치주먹밥', '피클', '교자만두', '깻잎양념찜', '치커리유자청무침', '김치어묵국', '군고구마', '양파', '달래오이생채', '육개장', '오징어브로컬리', '스팸볶음밥', '주꾸미굴소스볶음', '두부계란전', '중국식볶음밥', '고구마맛탕', '김치어묵탕', '구운채소', '냉이국', '돈육청경채볶음', '참나물땅콩무침', '감자범벅', '뼈해장국', '시금치무침', '메밀전병만두', '등갈비바베큐조림', '춘천닭갈비', '골뱅이무침', '돈육잡채', '포기김치', '부추무침', '미역레몬초무침', '쇠고기가지조림', '야채주먹밥', '참나물들깨무침', '조랭이떡미역국', '두부계란부침', '포도주스', '돈육계란장조림', '시금치초고추장무침', '고기전', '양파*쌈장', '부추생채무침', '삼치된장구이', '딸기드레싱샐러드', '주꾸미삼겹살볶음', '진미채오이무침', '단호박카레라이스', '적어양념구이', '두반장가지볶음', '유자청제육볶음', '푸실리샐러드', '미니짬뽕', '수제어묵볶음', '근대고추장무침', '고등어카레구이', '또띠아견과칩', '땅콩멸치조림', '김치수제비국', '얼갈이나물', '돈갈비찜', '가자미유린기', '연근샐러드', '마늘종멸치볶음', '닭겨자냉채', '모둠과일', '고르곤졸라피자', '쇠고기미역국', '떡만두국', '당면계란만두', '짠지오이무침', '자반고등어찜', '마늘쫑장아찌', '매콤어묵볶음', '두부', '해물파전', '콘치즈', '쇠고기국', '수제고로케'}\n",
            "805 1590 1580\n",
            "228\n"
          ],
          "name": "stdout"
        }
      ]
    },
    {
      "cell_type": "markdown",
      "metadata": {
        "id": "y9BsdF2eTFf4"
      },
      "source": [
        "## 자주 나오는 메뉴 제거"
      ]
    },
    {
      "cell_type": "code",
      "metadata": {
        "id": "Pj7_EReTyz1C"
      },
      "source": [
        "def tfidf_transform(list, set):\n",
        "    word2id = defaultdict(lambda: 0) # 메뉴 이름 담을 딕셔너리\n",
        "    list_contents = [] # 리스트로 저장된 식단을 코퍼스 단위로 바꿔 저장하는 리스트\n",
        "    list_transformed = [] # tfidf 변환된 값을 저장하는 리스트\n",
        "    emb = TfidfVectorizer(vocabulary=set, lowercase=False)\n",
        "    for row in list:\n",
        "        list_contents.append(' '.join(row)) # 코퍼스 단위로 변환\n",
        "    emb_list = emb.fit_transform(list_contents) # tfidf 변환\n",
        "    for idx, feature in enumerate(emb.get_feature_names()):\n",
        "        word2id[feature] = idx # 딕셔너리에 메뉴 이름 저장\n",
        "    for i, sent in enumerate(list_contents):\n",
        "        list_transformed.append([(token, emb_list[i, word2id[token]])for token in sent.split()])\n",
        "\n",
        "            \n",
        "    return list_transformed\n",
        "\n",
        "breakfast_tfidf = tfidf_transform(breakfast_list, breakfast_set)\n",
        "lunch_tfidf = tfidf_transform(lunch_list, lunch_set)\n",
        "dinner_tfidf = tfidf_transform(dinner_list, dinner_set)"
      ],
      "execution_count": 6,
      "outputs": []
    },
    {
      "cell_type": "code",
      "metadata": {
        "colab": {
          "base_uri": "https://localhost:8080/"
        },
        "id": "ERR-GViJ88Ro",
        "outputId": "ee5c47b8-faf1-44ab-cd3f-1ee035e4274c"
      },
      "source": [
        "THRESHOLD = 0.20 ### threshold보다 값이 작으면 제거\n",
        "def delete_menu(THRESHOLD, list):\n",
        "    useless = []\n",
        "    for i, d in enumerate(list):\n",
        "        for idx, m in enumerate(d):\n",
        "            if m[1] < THRESHOLD:\n",
        "                useless.append(m[0])\n",
        "    return set(useless)\n",
        "# 제거 대상\n",
        "brkfst_del = list(delete_menu(THRESHOLD, breakfast_tfidf))\n",
        "lunch_del = list(delete_menu(THRESHOLD, lunch_tfidf))\n",
        "dinner_del = list(delete_menu(THRESHOLD, dinner_tfidf))\n",
        "print(brkfst_del)\n",
        "print(lunch_del)\n",
        "print(dinner_del)\n"
      ],
      "execution_count": 7,
      "outputs": [
        {
          "output_type": "stream",
          "text": [
            "['쌀밥', '주스', '모닝롤', '우유', '흑미밥', '누룽지탕', '포기김치', '계란후라이', '양상추샐러드', '스크램블에그', '와플&생크림']\n",
            "['찰현미밥', '쌈', '채소스틱&쌈장', '마늘*새우젓', '다시마*초장', '포기김치', '상추*쌈장', '양상추샐러드', '버섯숙회*초장', '쑥갓쌈&쌈장', '케일*우렁쌈장', '쌀밥', '잡곡밥', '새송이*가지구이', '생강채*쌈장', '케일숙쌈*양념간장', '청', '양상추*쌈장', '배추겉절이', '다시마쌈*씨앗쌈장', '귤', '명이나물-장아찌', '와사비무쌈*쌈장', '그린샐러드*키위D', '고추*쌈장', '그린샐러드*오렌지드레싱', '흑미밥', '깻잎*쌈장']\n",
            "['배', '쌀밥', '잡곡밥', '포기김치', '파채*소스', '양파*쌈장', '귤', '＜자기', '케일숙쌈*쌈장', '날＞', '흑미밥', '고추,양파']\n"
          ],
          "name": "stdout"
        }
      ]
    },
    {
      "cell_type": "code",
      "metadata": {
        "colab": {
          "base_uri": "https://localhost:8080/"
        },
        "id": "41SbxjzbJJkE",
        "outputId": "a94890a9-eee4-4a0f-c651-a3caad023298"
      },
      "source": [
        "for i in [brkfst_del, lunch_del, dinner_del]:\n",
        "    print(len(i))"
      ],
      "execution_count": 58,
      "outputs": [
        {
          "output_type": "stream",
          "text": [
            "11\n",
            "28\n",
            "12\n"
          ],
          "name": "stdout"
        }
      ]
    },
    {
      "cell_type": "code",
      "metadata": {
        "colab": {
          "base_uri": "https://localhost:8080/"
        },
        "id": "UOmZCqSbY4HG",
        "outputId": "14be7638-9ad0-4d12-97f7-e204ddde0367"
      },
      "source": [
        "for i in range(5):\n",
        "    print(breakfast_list[i])"
      ],
      "execution_count": 59,
      "outputs": [
        {
          "output_type": "stream",
          "text": [
            "['쥐어채무침', '찐빵', '쌀밥', '두유', '우유', '모닝롤', '주스', '계란후라이', '포기김치', '된장찌개', '호두죽']\n",
            "['팥죽', '시래기조림', '쌀밥', '두유', '우유', '모닝롤', '주스', '계란후라이', '포기김치', '단호박샌드', '호박젓국찌개']\n",
            "['콩나물국', '쌀밥', '표고버섯죽', '느타리호박볶음', '두유', '우유', '베이글', '모닝롤', '주스', '계란후라이', '포기김치']\n",
            "['멸치볶음', '쌀밥', '토마토샌드', '두유', '우유', '모닝롤', '주스', '계란후라이', '포기김치', '닭죽', '근대국']\n",
            "['재첩국', '방풍나물', '쇠고기죽', '쌀밥', '두유', '우유', '모닝롤', '주스', '계란후라이', '포기김치', '와플']\n"
          ],
          "name": "stdout"
        }
      ]
    },
    {
      "cell_type": "code",
      "metadata": {
        "colab": {
          "base_uri": "https://localhost:8080/"
        },
        "id": "L3hqu1HVR9rb",
        "outputId": "b9b19bab-5cdb-4f7d-f7b9-6ea54a306329"
      },
      "source": [
        "del_col = [brkfst_del, lunch_del, dinner_del]\n",
        "B = deepcopy(breakfast_list)\n",
        "L = deepcopy(lunch_list)\n",
        "D = deepcopy(dinner_list)\n",
        "menu_list = [B, L, D]\n",
        "\n",
        "def menu_processing(del_list, menu_list):\n",
        "    list = []\n",
        "    for d in del_list:\n",
        "        for i in menu_list:\n",
        "            if d in i:\n",
        "                i.remove(d)\n",
        "\n",
        "for i, j in zip(del_col,[B, L, D]):\n",
        "    menu_processing(i, j)\n",
        "\n",
        "B[0]"
      ],
      "execution_count": 8,
      "outputs": [
        {
          "output_type": "execute_result",
          "data": {
            "text/plain": [
              "['된장찌개', '찐빵', '호두죽', '두유', '쥐어채무침']"
            ]
          },
          "metadata": {
            "tags": []
          },
          "execution_count": 8
        }
      ]
    },
    {
      "cell_type": "markdown",
      "metadata": {
        "id": "z-f4Jgw8E4Ps"
      },
      "source": [
        "### 제거후 데이터 프레임"
      ]
    },
    {
      "cell_type": "code",
      "metadata": {
        "colab": {
          "base_uri": "https://localhost:8080/",
          "height": 1000
        },
        "id": "Cq4X45tCz7js",
        "outputId": "40e3c03b-9554-4cb8-8990-d011d23b790b"
      },
      "source": [
        "for i in range(len(all_df)):\n",
        "    all_df['조식메뉴'][i] = B[i]\n",
        "    all_df['중식메뉴'][i] = L[i]\n",
        "    all_df['석식메뉴'][i] = D[i]\n",
        "all_df.rename(columns={'조식메뉴':'breakfast', '중식메뉴':'lunch', '석식메뉴':'dinner', '중식계':'lunch_y', '석식계':'dinner_y'}, inplace=True)\n",
        "\n",
        "all_df.head(10)"
      ],
      "execution_count": 9,
      "outputs": [
        {
          "output_type": "stream",
          "text": [
            "/usr/local/lib/python3.7/dist-packages/ipykernel_launcher.py:2: SettingWithCopyWarning: \n",
            "A value is trying to be set on a copy of a slice from a DataFrame\n",
            "\n",
            "See the caveats in the documentation: https://pandas.pydata.org/pandas-docs/stable/user_guide/indexing.html#returning-a-view-versus-a-copy\n",
            "  \n",
            "/usr/local/lib/python3.7/dist-packages/ipykernel_launcher.py:3: SettingWithCopyWarning: \n",
            "A value is trying to be set on a copy of a slice from a DataFrame\n",
            "\n",
            "See the caveats in the documentation: https://pandas.pydata.org/pandas-docs/stable/user_guide/indexing.html#returning-a-view-versus-a-copy\n",
            "  This is separate from the ipykernel package so we can avoid doing imports until\n",
            "/usr/local/lib/python3.7/dist-packages/ipykernel_launcher.py:4: SettingWithCopyWarning: \n",
            "A value is trying to be set on a copy of a slice from a DataFrame\n",
            "\n",
            "See the caveats in the documentation: https://pandas.pydata.org/pandas-docs/stable/user_guide/indexing.html#returning-a-view-versus-a-copy\n",
            "  after removing the cwd from sys.path.\n"
          ],
          "name": "stderr"
        },
        {
          "output_type": "execute_result",
          "data": {
            "text/html": [
              "<div>\n",
              "<style scoped>\n",
              "    .dataframe tbody tr th:only-of-type {\n",
              "        vertical-align: middle;\n",
              "    }\n",
              "\n",
              "    .dataframe tbody tr th {\n",
              "        vertical-align: top;\n",
              "    }\n",
              "\n",
              "    .dataframe thead th {\n",
              "        text-align: right;\n",
              "    }\n",
              "</style>\n",
              "<table border=\"1\" class=\"dataframe\">\n",
              "  <thead>\n",
              "    <tr style=\"text-align: right;\">\n",
              "      <th></th>\n",
              "      <th>breakfast</th>\n",
              "      <th>lunch</th>\n",
              "      <th>dinner</th>\n",
              "      <th>lunch_y</th>\n",
              "      <th>dinner_y</th>\n",
              "      <th>vac_ratio</th>\n",
              "      <th>trip_ratio</th>\n",
              "      <th>home</th>\n",
              "      <th>extra</th>\n",
              "      <th>total</th>\n",
              "      <th>year</th>\n",
              "      <th>month</th>\n",
              "      <th>date</th>\n",
              "      <th>week</th>\n",
              "      <th>dayofweek</th>\n",
              "    </tr>\n",
              "  </thead>\n",
              "  <tbody>\n",
              "    <tr>\n",
              "      <th>0</th>\n",
              "      <td>[된장찌개, 찐빵, 호두죽, 두유, 쥐어채무침]</td>\n",
              "      <td>[청포묵무침, 요구르트, 계란찜, 오징어찌개, 쇠불고기]</td>\n",
              "      <td>[육개장, 자반고등어구이, 건파래무침, 두부조림]</td>\n",
              "      <td>1039.0</td>\n",
              "      <td>331.0</td>\n",
              "      <td>0.019223</td>\n",
              "      <td>0.057670</td>\n",
              "      <td>0.0</td>\n",
              "      <td>0.091503</td>\n",
              "      <td>0.923106</td>\n",
              "      <td>2016</td>\n",
              "      <td>2</td>\n",
              "      <td>1</td>\n",
              "      <td>5</td>\n",
              "      <td>0</td>\n",
              "    </tr>\n",
              "    <tr>\n",
              "      <th>1</th>\n",
              "      <td>[팥죽, 두유, 호박젓국찌개, 시래기조림, 단호박샌드]</td>\n",
              "      <td>[김치찌개, 가자미튀김, 마늘쫑무침, 요구르트, 모둠소세지구이]</td>\n",
              "      <td>[어묵국, 콩나물밥, 유산슬, 바나나, 아삭고추무침]</td>\n",
              "      <td>867.0</td>\n",
              "      <td>560.0</td>\n",
              "      <td>0.019223</td>\n",
              "      <td>0.066513</td>\n",
              "      <td>0.0</td>\n",
              "      <td>0.122645</td>\n",
              "      <td>0.914264</td>\n",
              "      <td>2016</td>\n",
              "      <td>2</td>\n",
              "      <td>2</td>\n",
              "      <td>5</td>\n",
              "      <td>1</td>\n",
              "    </tr>\n",
              "    <tr>\n",
              "      <th>2</th>\n",
              "      <td>[느타리호박볶음, 표고버섯죽, 베이글, 콩나물국, 두유]</td>\n",
              "      <td>[치킨핑거, 견과류조림, 카레덮밥, 팽이장국, 쫄면야채무침, 요구르트]</td>\n",
              "      <td>[고기전, 황태양념구이, 새송이버섯볶음, 청국장찌개]</td>\n",
              "      <td>1017.0</td>\n",
              "      <td>573.0</td>\n",
              "      <td>0.021530</td>\n",
              "      <td>0.069204</td>\n",
              "      <td>0.0</td>\n",
              "      <td>0.042676</td>\n",
              "      <td>0.909266</td>\n",
              "      <td>2016</td>\n",
              "      <td>2</td>\n",
              "      <td>3</td>\n",
              "      <td>5</td>\n",
              "      <td>2</td>\n",
              "    </tr>\n",
              "    <tr>\n",
              "      <th>3</th>\n",
              "      <td>[토마토샌드, 근대국, 닭죽, 두유, 멸치볶음]</td>\n",
              "      <td>[주꾸미볶음, 쇠고기무국, 부추전, 시금치나물, 요구르트]</td>\n",
              "      <td>[우동, 무피클, 멕시칸샐러드, 군고구마, 미니김밥]</td>\n",
              "      <td>978.0</td>\n",
              "      <td>525.0</td>\n",
              "      <td>0.039985</td>\n",
              "      <td>0.084583</td>\n",
              "      <td>0.0</td>\n",
              "      <td>0.136486</td>\n",
              "      <td>0.875433</td>\n",
              "      <td>2016</td>\n",
              "      <td>2</td>\n",
              "      <td>4</td>\n",
              "      <td>5</td>\n",
              "      <td>3</td>\n",
              "    </tr>\n",
              "    <tr>\n",
              "      <th>4</th>\n",
              "      <td>[두유, 쇠고기죽, 와플, 방풍나물, 재첩국]</td>\n",
              "      <td>[떡국, 우엉잡채, 청경채무침, 돈육씨앗강정, 요구르트]</td>\n",
              "      <td>[감자소세지볶음, 닭갈비, 콩나물무침, 차돌박이찌개]</td>\n",
              "      <td>925.0</td>\n",
              "      <td>330.0</td>\n",
              "      <td>0.106882</td>\n",
              "      <td>0.069589</td>\n",
              "      <td>0.0</td>\n",
              "      <td>0.013072</td>\n",
              "      <td>0.823529</td>\n",
              "      <td>2016</td>\n",
              "      <td>2</td>\n",
              "      <td>5</td>\n",
              "      <td>5</td>\n",
              "      <td>4</td>\n",
              "    </tr>\n",
              "    <tr>\n",
              "      <th>5</th>\n",
              "      <td>[명엽채무침, 찐빵, 견과류죽, 두유, 팬케익, 감자찌개]</td>\n",
              "      <td>[도토리묵무침, 양파절임, 시래기국, 훈제오리구이, 요구르트, 쌈무]</td>\n",
              "      <td>[맑은국, 군만두, 락교, 참치회덮밥, 과일샐러드]</td>\n",
              "      <td>1045.0</td>\n",
              "      <td>550.0</td>\n",
              "      <td>0.147251</td>\n",
              "      <td>0.054979</td>\n",
              "      <td>0.0</td>\n",
              "      <td>0.160323</td>\n",
              "      <td>0.797770</td>\n",
              "      <td>2016</td>\n",
              "      <td>2</td>\n",
              "      <td>11</td>\n",
              "      <td>6</td>\n",
              "      <td>3</td>\n",
              "    </tr>\n",
              "    <tr>\n",
              "      <th>6</th>\n",
              "      <td>[봄동된장국, 두유, 숙주나물, 야채샌드, 고구마죽]</td>\n",
              "      <td>[옥수수전, 요구르트, 돈육굴소스볶음, 꽃게탕, 유채나물]</td>\n",
              "      <td>[김치콩나물국, 깍두기, 미니함박, 물파래무침, 어묵볶음]</td>\n",
              "      <td>909.0</td>\n",
              "      <td>598.0</td>\n",
              "      <td>0.149558</td>\n",
              "      <td>0.059977</td>\n",
              "      <td>0.0</td>\n",
              "      <td>0.035755</td>\n",
              "      <td>0.790465</td>\n",
              "      <td>2016</td>\n",
              "      <td>2</td>\n",
              "      <td>12</td>\n",
              "      <td>6</td>\n",
              "      <td>4</td>\n",
              "    </tr>\n",
              "    <tr>\n",
              "      <th>7</th>\n",
              "      <td>[콩조림, 치즈프레즐, 잣죽, 민물새우찌개, 두유]</td>\n",
              "      <td>[시금치국, 닭감자조림, 연두부, 콩나물무침, 요구르트]</td>\n",
              "      <td>[임연수구이, 홍합미역국, 브로컬리초장, 등갈비김치찜]</td>\n",
              "      <td>1268.0</td>\n",
              "      <td>672.0</td>\n",
              "      <td>0.033449</td>\n",
              "      <td>0.078431</td>\n",
              "      <td>0.0</td>\n",
              "      <td>0.185313</td>\n",
              "      <td>0.888120</td>\n",
              "      <td>2016</td>\n",
              "      <td>2</td>\n",
              "      <td>15</td>\n",
              "      <td>7</td>\n",
              "      <td>0</td>\n",
              "    </tr>\n",
              "    <tr>\n",
              "      <th>8</th>\n",
              "      <td>[어묵국, 마늘빵, 두유, 단호박죽, 김구이]</td>\n",
              "      <td>[탕수어, 쇠고기무국, 취나물, 오징어숙회무침, 요구르트]</td>\n",
              "      <td>[해파리겨자채, 봄동무침, 된장찌개, 쇠불고기]</td>\n",
              "      <td>1014.0</td>\n",
              "      <td>523.0</td>\n",
              "      <td>0.027682</td>\n",
              "      <td>0.090734</td>\n",
              "      <td>0.0</td>\n",
              "      <td>0.202230</td>\n",
              "      <td>0.881584</td>\n",
              "      <td>2016</td>\n",
              "      <td>2</td>\n",
              "      <td>16</td>\n",
              "      <td>7</td>\n",
              "      <td>1</td>\n",
              "    </tr>\n",
              "    <tr>\n",
              "      <th>9</th>\n",
              "      <td>[무생채, 흑임자죽, 두유, 참치샌드, 북어계란국]</td>\n",
              "      <td>[치커리무침, 통도라지구이, 냉이된장국, 요구르트, 쇠고기장조림]</td>\n",
              "      <td>[맑은국, 새우또띠아, 요플레, 쨔샤이무침, 볶음밥]</td>\n",
              "      <td>916.0</td>\n",
              "      <td>588.0</td>\n",
              "      <td>0.029988</td>\n",
              "      <td>0.096117</td>\n",
              "      <td>0.0</td>\n",
              "      <td>0.008843</td>\n",
              "      <td>0.873895</td>\n",
              "      <td>2016</td>\n",
              "      <td>2</td>\n",
              "      <td>17</td>\n",
              "      <td>7</td>\n",
              "      <td>2</td>\n",
              "    </tr>\n",
              "  </tbody>\n",
              "</table>\n",
              "</div>"
            ],
            "text/plain": [
              "                          breakfast  ... dayofweek\n",
              "0        [된장찌개, 찐빵, 호두죽, 두유, 쥐어채무침]  ...         0\n",
              "1    [팥죽, 두유, 호박젓국찌개, 시래기조림, 단호박샌드]  ...         1\n",
              "2   [느타리호박볶음, 표고버섯죽, 베이글, 콩나물국, 두유]  ...         2\n",
              "3        [토마토샌드, 근대국, 닭죽, 두유, 멸치볶음]  ...         3\n",
              "4         [두유, 쇠고기죽, 와플, 방풍나물, 재첩국]  ...         4\n",
              "5  [명엽채무침, 찐빵, 견과류죽, 두유, 팬케익, 감자찌개]  ...         3\n",
              "6     [봄동된장국, 두유, 숙주나물, 야채샌드, 고구마죽]  ...         4\n",
              "7      [콩조림, 치즈프레즐, 잣죽, 민물새우찌개, 두유]  ...         0\n",
              "8         [어묵국, 마늘빵, 두유, 단호박죽, 김구이]  ...         1\n",
              "9      [무생채, 흑임자죽, 두유, 참치샌드, 북어계란국]  ...         2\n",
              "\n",
              "[10 rows x 15 columns]"
            ]
          },
          "metadata": {
            "tags": []
          },
          "execution_count": 9
        }
      ]
    },
    {
      "cell_type": "code",
      "metadata": {
        "colab": {
          "base_uri": "https://localhost:8080/"
        },
        "id": "BNAF6R7a9LLl",
        "outputId": "928f3f8e-9416-489a-a673-f1c986df1cb6"
      },
      "source": [
        "type(all_df['breakfast'][0])"
      ],
      "execution_count": 18,
      "outputs": [
        {
          "output_type": "execute_result",
          "data": {
            "text/plain": [
              "list"
            ]
          },
          "metadata": {
            "tags": []
          },
          "execution_count": 18
        }
      ]
    },
    {
      "cell_type": "code",
      "metadata": {
        "colab": {
          "base_uri": "https://localhost:8080/"
        },
        "id": "R9jpcLHYOo41",
        "outputId": "66a9a83a-2100-46dc-e963-0146eeeffb24"
      },
      "source": [
        "all_df.shape"
      ],
      "execution_count": 19,
      "outputs": [
        {
          "output_type": "execute_result",
          "data": {
            "text/plain": [
              "(1255, 15)"
            ]
          },
          "metadata": {
            "tags": []
          },
          "execution_count": 19
        }
      ]
    },
    {
      "cell_type": "code",
      "metadata": {
        "colab": {
          "base_uri": "https://localhost:8080/"
        },
        "id": "vS-UycDxGe7o",
        "outputId": "6d8ac304-1a69-4ea8-fc63-09c8c6b9b23a"
      },
      "source": [
        "da = []\n",
        "for i in all_df['lunch']:\n",
        "    for menu in i:\n",
        "        da.append(menu)\n",
        "print(da)\n",
        "print(len(set(da)))"
      ],
      "execution_count": 20,
      "outputs": [
        {
          "output_type": "stream",
          "text": [
            "['오징어찌개', '계란찜', '쇠불고기', '요구르트', '청포묵무침', '가자미튀김', '마늘쫑무침', '김치찌개', '요구르트', '모둠소세지구이', '견과류조림', '치킨핑거', '팽이장국', '요구르트', '카레덮밥', '쫄면야채무침', '주꾸미볶음', '부추전', '시금치나물', '요구르트', '쇠고기무국', '돈육씨앗강정', '청경채무침', '떡국', '우엉잡채', '요구르트', '훈제오리구이', '양파절임', '요구르트', '도토리묵무침', '쌈무', '시래기국', '돈육굴소스볶음', '옥수수전', '요구르트', '꽃게탕', '유채나물', '시금치국', '콩나물무침', '연두부', '요구르트', '닭감자조림', '탕수어', '요구르트', '취나물', '오징어숙회무침', '쇠고기무국', '쇠고기장조림', '냉이된장국', '치커리무침', '요구르트', '통도라지구이', '유부장국', '낙지비빔밥', '요구르트', '고구마치즈구이', '해초무침', '대구찌개', '돌나물무침', '마늘간장치킨', '요구르트', '치킨무', '새송이버섯볶음', '쇠고기느타리국', '호박꼬지', '오곡밥', '요구르트', '부럼', '파래김', '갈치구이', '콩나물국', '꽃상추무침', '버섯잡채', '요구르트', '돈육간장볶음', '소세지피망볶음', '팽이장국', '맛탕', '요구르트', '비빔밥', '북어계란국', '곰피초장', '닭갈비', '요구르트', '새싹두부구이', '계란찜', '오징어볶음', '수제비국', '요구르트', '도라지초무침', '얼갈이된장국', '늙은호박전', '치커리생채', '요구르트', '제육볶음', '쇠고기미역국', '주꾸미볶음', '맛살계란말이', '아삭고추무침', '탕수육', '근대된장국', '무생채', '새송이버섯조림', '요구르트', '가자미튀김', '깍두기', '메추리알조림', '열무된장나물', '부대찌개', '콩나물국', '톳두부무침', '닭갈비', '모둠묵', '깍두기', '소세지구이', '풋마늘초무침', '고등어김치말이', '차돌박이찌개', '시금치나물', '북어국', '돈육장조림', '홍어무침', '닭데리야끼조림', '해물파전', '고추장찌개', '취나물', '쫄면무침', '탕평채', '배추된장국', '수제돈가스', '돈육고추장볶음', '모둠양채쌈', '콩나물파채무침', '어묵국', '마늘쫑볶음', '소불고기', '쑥국', '골뱅이무침', '미니채소떡갈비', '두부계란부침', '콩나물김치국', '곤드레밥', '무나물', '탕수어', '깍두기', '사골우거지국', '파래김', '깻순나물', '부추생채', '연근땅콩조림', '훈제오리구이', '시금치국', '쌈무', '계란말이', '버섯불고기', '꽃게탕', '도토리묵무침', '두부', '깍두기', '쇠고기샤브국', '코다리강정', '유채나물', '콩나물밥', '맑은국', '땅콩조림', '실곤약초무침', '치킨텐더', '북어계란국', '쇠고기장조림', '오징어초무침', '시래기나물', '자반고등어구이', '닭개장', '비엔나볶음', '열무나물', '얼갈이된장국', '해파리냉채', '닭갈비', '취나물', '옹심이만두국', '주꾸미볶음', '치커리유자청생채', '새송이버섯전', '오징어튀김', '봄새싹비빔밥', '쪽파국', '오렌지', '알감자버터구이', '돈육굴소스볶음', '매운콩나물국', '동태전', '봄동나물', '버섯들깨탕', '갈치조림', '우엉잡채', '아삭고추무침', '쇠불고기', '풋마늘초무침', '순두부찌개', '브로컬리맛살볶음', '모둠소시지구이', '시금치나물', '오징어볶음', '북어국', '모둠쌈', '올갱이아욱국', '두부조림', '제육볶음', '해물파전', '무생채', '매운돼지갈비찜', '어묵국', '메추리알조림', '배추된장국', '순살양념치킨', '콩나물무침', '무쌈', '훈제오리구이', '양파절임', '풋마늘초무침', '시래기국', '시금치나물', '쇠고기단호박조림', '열무나물', '부대찌개', '돈육굴소스볶음', '양배추쌈', '무생채', '수제비국', '닭데리야끼조림', '냉이된장찌개', '도라지초무침', '콩나물무침', '콩나물잡채', '돈육강정', '배추된장국', '브로컬리두부무침', '꽁치한마리구이', '고기전', '육개장', '해초무침', '부추생채', '콩나물밥', '근대된장국', '매콤떡갈비조림', '청포묵무침', '옥수수전', '청경채생채', '쇠고기볶음', '대구매운탕', '열무김치', '북어국', '연근조림', '깻잎양념지', '등갈비김치찜', '콩나물국', '김치전', '돈간장불고기', '버섯볶음', '주꾸미볶음', '치즈계란말이', '풋마늘대무침', '쇠고기무국', '미소장국', '궁중떡찜', '나물비빔밥', '유기농식혜', '알감자버터구이', '콩자반', '양념파닭', '치킨무', '동그랑땡부침', '미역국', '미트볼조림', '깍두기', '고등어카레구이', '치커리사과무침', '돈육김치찌개', '비름나물', '맛살겨자채', '닭갈비', '시금치국', '무채국', '모둠장조림', '온두부', '볶은김치', '곤드레밥', '실곤약초무침', '오징어볶음', '쇠고기샤브국', '동태전', '무생채', '매운어묵국', '무쌈', '훈제오리구이', '양파절임', '도토리묵무침', '오징어초무침', '콩나물국', '버섯불고기', '시금치나물', '돈육칠리강정', '가지나물', '멸치크랜베리볶음', '시래기된장국', '단호박영양밥', '꽃맛살볶음', '오징어국', '찜닭', '통도라지구이', '된장찌개', '해물파전', '치커리유자생채', '매운돼지갈비찜', '돈육굴소스볶음', '계란찜', '감자고추장찌개', '꽃상추무침', '비름나물', '고기전', '깍두기', '들깨버섯탕', '고등어김치말이', '미소장국', '연근땅콩조림', '산채비빔밥', '치킨핑거', '요플레', '미니채소떡갈비', '열무된장국', '골뱅이무침', '숙주나물', '닭오븐구이', '불미나리무침', '순두부찌개', '새송이버섯전', '옥수수전', '북어콩나물국', '쇠고기불고기', '오이무침', '석박지', '치커리생채', '꼬지삼색전', '한방갈비탕', '오징어숙회무침', '탕수어', '매실주스', '낙지볶음밥', '우엉조림', '미역장국', '쇠고기해장국', '비엔나감자볶음', '무생채', '갈치구이', '동그랑땡전', '고구마순나물', '닭양념조림', '깍두기', '배추된장국', '명태조림', '누룽지탕수육', '오이도라지생채', '콩나물김치국', '잡채', '근대된장국', '닭갈비', '깻잎양념지', '강된장찌개', '오징어튀김', '음료', '열무비빔밥', '궁중떡볶이', '오이미역냉국', '모둠장조림', '두부구이', '실곤약초무침', '김치전', '머위대나물', '찜닭', '차돌박이찌개', '북어계란국', '돈육굴소스볶음', '가지나물', '홍어채무침', '참치김치찌개', '브로컬리초장', '깍두기', '순살깐풍기', '맛살콩나물냉채', '매운콩나물국', '비름나물', '부추전', '돼지갈비찜', '모둠소시지구이', '오징어볶음', '치커리사과무침', '된장찌개', '북어콩나물국', '모둠쌈', '참치야채전', '제육볶음', '탕평채', '어묵볶음', '열무김치', '닭양념조림', '배추된장국', '쫄면무침', '열무된장나물', '맑은국', '떡갈비조림', '카레덮밥', '고기전', '깍두기', '가자미양념찜', '해초무침', '부대찌개', '돈육강정', '김구이', '버섯잡채', '꽃게탕', '명태엿장조림', '시금치나물', '레몬탕수육', '어묵국', '대구찌개', '마늘쫑볶음', '간장치킨', '오이무침', '치킨무', '상추쌈', '콩나물파채무침', '새송이버섯전', '돈삼겹보쌈', '시래기국', '매콤낙지볶음', '메추리알조림', '쇠고기무국', '숙주나물', '목살데리야끼구이', '도토리묵냉국', '골뱅이무침', '간장깻잎지', '훈제오리구이', '배추된장국', '야채스틱', '쌈무', '실곤약초무침', '고등어구이', '닭가슴살냉채', '육개장', '마늘쫑무침', '상추겉절이', '계란말이', '콩나물국', '간장돼지갈비찜', '닭오븐구이', '버섯들깨찌개', '김치전', '열무김치', '치커리사과무침', '양배추쌈', '두부새싹구이', '수제비국', '유자청제육볶음', '노각무침', '버섯불고기', '감자고추장찌개', '맛살겨자초무침', '꽁치김치말이찜', '쇠고기미역국', '비름나물', '모둠소세지구이', '닭강정', '해물파전', '가쯔오장국', '곤드레밥', '통도라지구이', '갈치조림', '오이생채', '돈육잡채', '된장찌개', '영양부추', '우무묵냉국', '감자볶음', '알타리김치', '갈릭돈까스', '돈육굴소스볶음', '호박잎찌개', '홍어채무침', '모듬쌈', '순살파닭', '꽃맛살볶음', '건새우아욱국', '도라지나물', '감자만두', '수박', '나물비빔밥', '사천식탕수육', '오이냉국', '매운주꾸미볶음', '동태전', '배추된장국', '브로컬리두부무침', '알타리김치', '북어계란국', '가지나물', '삼치구이', '열무김치', '등갈비김치찜', '돈육떡강정', '순두부찌개', '새송이버섯전', '해초무침', '목살데리야끼', '늙은호박전', '치커리들깨무침', '시래기국', '미트볼조림', '사골우거지탕', '골뱅이무침', '청포묵무침', '명태엿장조림', '우묵콩국', '고추장불고기', '알타리김치', '깻잎지', '미소장국', '참치회덮밥', '춘권', '고구마치즈구이', '락교', '토마토', '쇠고기미역국', '참나물생채', '해파리겨자채', '불닭볶음', '쌈무', '미니채소떡갈비', '계란말이', '연근조림', '청국장찌개', '오이도라지무침', '감자채볶음', '수박', '시금치국', '동파삼겹수육', '동그랑땡전', '콩자반', '꽃게탕', '훈제오리냉채', '꽁치오븐구이', '마늘쫑무침', '도토리묵냉국', '연복풍덮밥', '양배추피클', '꽈리고추찜', '닭살겨자냉채', '갈치구이', '부대찌개', '꽃맛살볶음', '팽이장국', '알타리김치', '유기농식혜', '웨지감자오븐구이', '열무보리비빔밥', '버섯들깨탕', '메추리알조림', '레몬탕수육', '콩나물무침', '닭데리야끼조림', '비엔나감자볶음', '시금치무침', '복숭아미역냉국', '매콤돼지갈비찜', '오징어튀김', '열무김치', '무생채', '된장찌개', '연근', '오꼬노미계란말이', '호박잎된장국', '도라지초무침', '유자청제육볶음', '콩나물국', '오이무침', '오징어브로컬리숙회', '미니함박조림', '장어강정', '치커리생채', '우엉잡채', '사과오이냉국', '매운어묵볶음', '삼겹살오븐구이', '상추', '시래기국', '불고기덮밥', '새우까스', '노각무침', '고구마범벅', '맑은국', '닭곰탕', '고등어조림', '비엔나피망볶음', '알타리김치', '해초무침', '고기전', '오징어볶음', '청경채무침', '대구매운탕', '갈릭돈가스', '마늘쫑볶음', '열무된장국', '실곤약초무침', '쑥갓두부무침', '소고기숙주볶음', '단호박영양밥', '땅콩조림', '도토리묵냉국', '꽁치와사비구이', '고추잡채', '오이무침', '꽃게탕', '열무김치', '칠리탕수육', '배추된장국', '두부조림', '콩나물무침', '닭볶음', '치커리유자청무침', '해물된장찌개', '연근조림', '올방개묵무침', '육개장', '부추전', '동태무조림', '꽃맛살오리엔탈샐러드', '홍어채무침', '떡국', '마늘치킨', '소불고기', '아삭고추무침', '순두부찌개', '골뱅이무침', '버섯매운탕', '호박잎쌈', '모듬소시지볶음', '갈치구이', '과일샐러드', '계란말이', '열무김치', '단무지무침', '낙지비빔밥', '가쯔오장국', '목살데리야끼', '브로컬리초장', '오징어국', '버섯잡채', '시래기된장국', '해물파전', '청경채무침', '닭찜', '옥수수전', '오징어볶음', '쇠고기샤브국', '연두부', '파김치', '참나물땅콩무침', '가자미카레튀김', '부대찌개', '모둠버섯볶음', '두부맑은국', '계란찜', '돈육떡강정', '오이무침', '곤드레밥', '콩나물잡채', '오리고추장볶음', '부추생채', '알타리김치', '된장찌개', '황태맑은국', '유린기', '도토리묵무침', '숙주나물', '상추겉절이', '닭볶음', '동그랑땡', '깍두기', '시래기국', '쑥갓두부무침', '어묵볶음', '토란국', '매운돼지갈비찜', '계란말이', '애호박나물', '오리훈제고추장볶음', '어묵국', '얼갈이된장국', '참나물생채', '감자채볶음', '레몬탕수육', '음료', '팽이장국', '깍두기', '열무비빔밥', '너비아니구이', '땅콩조림', '핫도그', '임연수찜', '햄피망볶음', '단배추나물', '쇠고기무국', '소고기숙주볶음', '오징어국', '무생채', '두부조림', '유자청돈육볶음', '양배추쌈', '우엉잡채', '아욱된장국', '간장파닭', '쫄면무침', '느타리버섯국', '열무된장나물', '샐러드파스타', '맑은국', '오이무침', '새송이버섯조림', '카레덮밥', '올방개묵무침', '호박부추전', '돈육장조림', '된장찌개', '우거지해장국', '브로컬리초장', '꽁치한마리구이', '가지볶음', '알타리김치', '버섯불고기', '골뱅이소면무침', '배추된장국', '마늘쫑건새우볶음', '매운주꾸미볶음', '콩나물무침', '차돌박이찌개', '모둠소세지구이', '동태', '오징어숙회무침', '새송이전', '한방소갈비찜', '미역국', '부추생채', '대구매운탕', '메추리알곤약조림', '표고돈육탕수', '오징어볶음', '쇠고기샤브국', '맛살계란말이', '참나물무침', '오이무침', '시금치된장국', '버섯잡채', '목살스테이크', '산채비빔밥', '팽이버섯국', '오복지무침', '생선커틀릿', '오렌지주스', '떡국', '모듬묵', '열무된장나물', '마늘치킨', '애호박나물', '건새우무국', '계란버섯장조림', '등갈비김치찜', '소불고기', '매운어묵볶음', '모둠양채쌈', '미역국', '치커리유자청무침', '미트볼칠리조림', '부추전', '꽃게탕', '참치김치찌개', '멸치크렌베리볶음', '셀프무쌈말이', '유린기', '쑥갓두부무침', '꽁치김치말이', '알타리김치', '메밀버섯전', '풍기샐러드', '단무지', '계란국', '사천식탕수육', '짜장밥', '해물파전', '콩나물무침', '된장찌개', '제육볶음', '깍두기', '육개장', '고추잡채', '미역레몬초무침', '갈치구이', '데리야끼파닭', '배추된장국', '땅콩조림', '곤드레밥', '실곤약초무침', '동태찌개', '해초무침', '돈육장조림', '두부계란전', '버섯들깨탕', '비엔나감자볶음', '고등어조림', '알타리김치', '통도라지구이', '홍어채무침', '쇠고기숙주볶음', '근대된장국', '새송이버섯전', '생선까스', '시금치나물', '닭갈비', '알탕', '무쌈', '콩나물밥', '부추겉절이', '양파절임', '가쯔오장국', '훈제오리', '계란말이', '세발나물', '쭈꾸미볶음', '쇠고기무국', '석박지', '명태엿장조림', '오이무침', '사골우거지탕', '모듬소세지구이', '상추파채무침', '날치알계란찜', '오징어국', '유자청제육볶음', '동그랑땡전', '순살양념치킨', '차돌박이찌개', '깻잎지', '연근조림', '단호박영양밥', '고추잡채', '무생채', '꽃게탕', '쇠고기장조림', '닭살겨자채', '멸치아몬드볶음', '김치콩나물국', '알타리김치', '칠리탕수육', '동태전', '치커리무침', '아욱된장국', '소고기버섯볶음', '부추호박전', '오징어숙회무침', '어묵국', '닭데리야끼조림', '브로컬리무침', '햄감자채볶음', '김치국', '버섯영양밥', '청경채무침', '임연수구이', '유산슬', '조랭이떡미역국', '풋고추', '올방개묵무침', '깍두기', '해물김치전', '설렁탕', '어묵볶음', '갓김치', '콩비지찌개', '쌈다시마초장', '순살깐풍기', '시래기된장국', '계란찜', '누룽지탕수육', '도라지초무침', '쇠고기숙주볶음', '대구매운탕', '오이생채', '새싹두부구이', '파닭', '갈치조림', '순두부탕', '청포묵무침', '짬뽕불고기', '우엉잡채', '참나물', '수제비국', '통감자오븐구이', '연근땅콩조림', '샐러드파스타', '맑은국', '베추겉절이', '카레덮밥', '쇠고기느타리국', '모둠소시지구이', '오징어볶음', '물파래무침', '늙은호박전', '모둠쌈', '근대국', '제육볶음', '치킨핑거', '오복지무침', '나물비빔밥', '가쯔오장국', '감자샐러드', '모둠장조림', '콩나물국', '톳두부무침', '알타리김치', '골뱅이무침', '콩나물겨자채', '떡국', '청경채무침', '양념찜닭', '훈제오리구이', '순두부찌개', '참치야채전', '무쌈말이', '무말랭이', '실곤약흑임자무침', '삼겹살오븐구이', '배추쌈', '홍합탕', '유부장국', '개성감자만두', '아이스슈', '쨔샤이무침', '짜장밥', '해물누룽지탕', '양념돼지갈비찜', '버섯메밀전', '상추초무침', '알타리김치', '아욱국', '차돌박이된장찌개', '삼치무조림', '닭가슴살냉채', '마늘쫑무침', '돈육굴소스볶음', '매운어묵무침', '깍두기', '콩나물김치국', '다시마', '오이도라지무침', '냉이된장찌개', '코다리강정', '돈육잡채', '고구마튀김', '소불고기덮밥', '청경채무침', '멕시칸샐러드', '가쯔오장국', '오리고추장볶음', '부추생채', '콩비지찌개', '옥수수계란찜', '쇠고기샤브국', '아삭고추무침', '갈치구이', '비엔케찹볶음', '하루나겉절이', '감자채볶음', '짬뽕불고기', '배추된장국', '콩나물국', '올방개묵무침', '꽁치김치말이', '깍두기', '고추잡채', '가지나물', '홍어채무침', '마늘간장치킨', '된장찌개', '양배추쌈', '쇠고기버섯볶음', '오이무침', '꽃게탕', '치커리유자청무침', '얼갈이국', '동태전', '떡갈비조림', '동태찌개', '두부새싹구이', '풋마늘대무침', '돈육간장불고기', '열무된장국', '닭갈비', '우엉잡채', '꽃맛살샐러드', '콩나물밥', '미트볼케찹조림', '가쯔오장국', '군고구마', '쑥갓두부무침', '오징어볶음', '시래기국', '소세지감자조림', '물미역초장', '수제돈까스', '순두부찌개', '꽈리고추어묵볶음', '사골떡국', '쇠고기낙지볶음', '부추깻잎전', '통도라지구이', '콩나물파채절이', '언양식불고기', '홍합탕', '매운동태찜', '황태국', '동그랑땡전', '꽈리고추멸치볶음', '곤드레밥', '비빔메밀국수', '청경채생채', '굴비구이', '두반장감자볶음', '육개장', '어묵볶음', '레몬탕수육', '주꾸미초무침', '된장찌개', '동파육', '콩나물국', '쫑상추무침', '무쌈말이', '주꾸미떡볶음', '쇠고기미역국', '고기전', '두반장가지볶음', '생선까스', '씨리얼과일샐러드', '오복지무침', '팽이장국', '비빔밥', '매운닭찜', '모듬버섯구이', '봄동된장무침', '어묵국', '짬뽕국', '잡채', '치커리유자생채', '미니함박조림', '얼갈이된장국', '오징어볶음', '꽃맛살햄볶음', '참나물땅콩무침', '쇠고기숙주볶음', '순두부찌개', '시금치초생채', '삼색묵무침', '부추무침', '옥수수전', '무쌈', '훈제오리구이', '아욱국', '유자청돈육볶음', '두부새싹구이', '청경채무침', '수제비국', '닭개장', '파래김', '가자미카레튀김', '비엔나케찹볶음', '닭볶음', '냉이콩나물국', '마늘쫑무침', '새송이버섯전', '감자채볶음', '돈육간장불고기', '깻잎찜', '알탕', '개성감자만두', '유린기', '맑은국', '오이사과무침', '카레덮밥', '삼색꼬지전', '배추된장국', '소갈비찜', '콩나물무침', '양잡피잡채', '언양식불고기', '미역국', '진미채무침', '닭살겨자채', '고추장불고기', '모듬쌈', '시금치된장국', '스위트칠리미트볼', '치커리생채', '알타리김치', '굴김치두부국', '갈치구이', '콩나물국', '연두부찜', '무생채', '소고기낙지볶음', '냉이된장찌개', '닭갈비', '감자전', '단배추나물', '땅콩멸치볶음', '대구매운탕', '실곤약무침', '유산슬', '물미역무침', '닭오븐구이', '콩나물밥', '맑은국', '춘권', '명태조림', '수제돈까스', '치커리생채', '알타리김치', '배추국', '소고기무국', '굴비구이', '김구이', '오곡밥', '보름나물', '홍어무침', '쇠고기미역국', '두부구이', '도라지오이생채', '제육볶음', '주꾸미볶음', '돈육잡채', '된장찌개', '숙주나물', '다시마쌈', '순살파닭', '들깨시래기국', '해물김치전', '오징어초무침', '얼갈이나물', '소불고기', '홍합탕', '부추무침', '깍두기', '동태전', '등갈비김치찜', '어묵국', '동파육', '치커리유자무침', '열무된장국', '새송이버섯전', '버섯들깨탕', '낙지볶음', '취나물', '야채계란찜', '유부장국', '마늘쫑볶음', '생선까스', '파스타샐러드', '나물비빔밥', '알타리김치', '브로컬리초장', '콩나물국', '메추리알조림', '돼지갈비찜', '톳무침', '어묵볶음', '깐풍기', '수제비국', '녹두김치전', '훈제오리구이', '양파절임', '오이부추무침', '봄동된장국', '돌나물무침', '사골떡국', '언양식불고기', '콩나물동태찜', '고등어조림', '깍두기', '팝콘치킨', '돈육김치찌개', '해초무침', '미니채소떡갈비', '군만두', '맑은국', '무피클', '카레덮밥', '순살닭갈비', '동그랑땡전', '치커리사과무침', '어묵국', '돈육칠리강정', '꽁치한마리구이', '봄동달래무침', '토란탕', '미소국', '햄감자채볶음', '오징어볶음', '곤드레밥', '고추간장지', '석박지', '골뱅이무침', '아욱국', '마늘치킨', '숙주나물', '해물청경채볶음', '계란말이', '얼큰순두부찌개', '도라지오이생채', '버섯불고기', '오징어국', '파래김', '야채계란찜', '방풍나물', '동태찌개', '미트볼케찹조림', '우엉잡채', '옥수수전', '건새우마늘쫑볶음', '양념찜닭', '근대국', '돈육굴소스볶음', '옹심이만두국', '콩나물겨자채', '모듬쌈', '치킨커틀렛', '연근땅콩조림', '고추장찌개', '시금치나물', '콩나물불고기', '상추무침', '맛살전', '아욱국', '쇠고기장조림', '냉이된장찌개', '부추생채', '굴비구이', '비엔나볶음', '깍두기', '세발나물', '유린기', '돈육김치찌개', '돼지갈비찜', '물파래전', '통도라지구이', '콩가루배추국', '올방개묵무침', '김구이', '대구매운탕', '고추잡채', '오꼬노미계란말이', '소고기숙주볶음', '얼갈이나물', '알탕', '탕평채', '주꾸미볶음', '소고기미역국', '시금치나물', '바나나', '봄나물비빔밥', '팽이장국', '언양식불고기', '땅콩조림', '쑥갓두부무침', '김치전', '북어콩나물국', '사천식탕수육', '생선커틀렛', '콩나물무침', '닭가슴살장조림', '오이달래무침', '양파절임', '꽃게탕', '쌈무', '쇠불고기', '동태전', '도토리묵무침', '된장찌개', '단무지무침', '유산슬', '부추만두', '짜장밥', '맑은계란국', '감자채전', '크래미숙주무침', '마늘치킨', '근대국', '버섯구이', '미니채소떡갈비', '참나물생채', '육개장', '얼갈이국', '날치알계란찜', '비름나물', '쇠고기낙지볶음', '열무김치', '청경채무침', '우엉잡채', '김치찌개', '해물누룽지탕', '파채상추무침', '삼겹살오븐구이', '들깨미역국', '맛살콩나물냉채', '황태국', '닭데리야끼조림', '매운어묵볶음', '시금치나물', '메추리알조림', '오징어볶음', '쇠고기샤브국', '머위된장나물', '돈육굴소스볶음', '방풍나물', '오징어숙회무침', '된장찌개', '쇠고기장조림', '얼갈이겉절이', '들깨시래기국', '도라지생채', '시금치프리타타', '쫄면무침', '탕수어', '맑은국', '곤드레밥', '요플레', '가지나물', '열무김치', '등갈비김치찜', '참치야채전', '아욱국', '부추생채', '버섯불고기', '콩나물김치국', '브로컬리맛살볶음', '아삭고추된장무침', '계란장조림', '언양식불고기', '부대찌개', '닭강정', '콩나물잡채', '도토리묵무침', '차돌박이찌개', '오징어튀김', '견과류조림', '하와이안샐러드', '깍두기', '맑은국', '비빔밥', '영양부추생채', '삼치구이', '열무김치', '매콤함박스테이크', '미역국', '탕수육', '곤약야채무침', '꽃게찌개', '숙주나물', '참치김치찌개', '부추생채', '열무김치', '올방개묵무침', '훈제오리구이', '양파절임', '쌈무', '생선까스', '닭갈비', '무생채', '들깨미역국', '홍어채무침', '쇠불고기', '고추장찌개', '머위대들깨볶음', '잡채', '콩나물무침', '된장찌개', '제육볶음', '비름나물', '깍두기', '낙지볶음', '새송이버섯전', '콩가루배추국', '카레감자채볶음', '마늘쫑무침', '유린기', '옹심이만두떡국', '치커리유자청무침', '열무김치', '매운어묵볶음', '콩비지찌개', '돈육꽈리고추볶음', '오징어볶음', '쇠고기샤브국', '맛살계란찜', '양념깻잎지', '쇠고기장조림', '열무된장국', '동태전', '미나리오이무침', '굴비구이', '깍두기', '청경채무침', '고추잡채', '부대찌개', '참나물생채', '콩나물겨자채', '순살양념치킨', '새우살미역국', '버섯구이', '양배추', '시금치된장국', '제육볶음', '간장찜닭', '부추전', '소고기국', '해초무침', '고등어구이', '열무김치', '콩나물밥', '고추지', '감자프리타타', '김치국', '상추겉절이', '오리불고기', '들깨시래기국', '두부조림', '오이소박이', '주꾸미떡볶음', '동그랑땡전', '부추생채', '콩나물국', '황태국', '계란찜', '소불고기', '청경채사과생채', '얼갈이된장국', '아삭고추무침', '맛살전', '동파삼겹수육', '오이지무침', '콥샐러드', '가쯔오장국', '탕수만두', '열무보리비빔밥', '어묵볶음', '깍두기', '등갈비김치찜', '참나물땅콩무침', '오이냉국', '모듬소세지볶음', '삼치된장구이', '도토리묵무침', '돈육김치찌개', '돈육굴소스볶음', '씨앗쌈장', '계란말이', '모둠쌈', '근대국', '부추생채', '콩나물국', '훈제오리구이', '새송이버섯전', '쌈무', '얼갈이된장국', '미니채소떡갈비', '골뱅이무침', '숙주나물', '호박잎된장찌개', '깐풍기', '어묵꽈리고추볶음', '실곤약초무침', '고구마순나물', '홍어채무침', '쇠고기숙주볶음', '연두부탕', '늙은호박전', '깍두기', '쭈꾸미볶음', '도토리묵냉국', '치커리사과생채', '견과류조림', '치킨핑거', '파스타샐러드', '가쯔오장국', '곤드레밥', '메추리알조림', '쇠고기샤브국', '무생채', '갈치구이', '감자채볶음', '삼겹살구이', '쫑상추무침', '아욱된장국', '오이도라지생채', '들깨시래기국', '해물부추전', '유자청제육볶음', '감자비엔나볶음', '열무김치', '오이지냉국', '연근조림', '고등어김치말이', '카레라이스', '언양식불고기', '수박', '유부주머니국', '떡볶이', '쇠고기미역국', '비빔야채만두', '양념깻잎지', '해물누룽지탕', '닭갈비', '셀프무쌈말이', '나가사끼짬뽕국', '콩나물무침', '양배추쌈', '훈제오리고추장볶음', '곤약흑임자무침', '차돌박이찌개', '북어콩나물국', '동그랑땡구이', '시금치나물', '오징어볶음', '얼갈이된장국', '잡채', '삼치구이', '콩나물밥', '깍두기', '아삭고추무침', '부추생채', '우무묵냉국', '두부양념조림', '갈릭돈까스', '매운닭찜', '감자채전', '꼬지어묵탕', '열무김치', '미역줄기볶음', '계란찜', '콩나물국', '짬뽕불고기', '청경채겉절이', '고기전', '배추된장국', '낙지볶음', '미역레몬초무침', '군만두', '단무지', '계란국', '열무김치', '짜장덮밥', '사과', '유산슬', '어묵볶음', '등갈비김치찜', '참나물', '아욱된장국', '알타리김치', '오이냉국', '유린기', '도토리묵무침', '숙주나물', '콩나물국', '버섯불고기', '해물겨자냉채', '우엉조림', '주꾸미떡볶음', '브로컬리초장', '두부계란구이', '어묵국', '삼계탕', '초복특식', '깍두기', '찹쌀밥', '수박', '생야채', '치커리유자청무침', '동태전', '돼지갈비찜', '근대국', '쑥갓두부무침', '갈치조림', '버섯잡채', '알타리김치', '부대찌개', '모듬양채쌈', '무채국', '돈육고추장볶음', '간장두부조림', '간장찜닭', '열무된장국', '치커리무침', '통도라지구이', '천도복숭아', '오꼬노미야끼', '알타리김치', '맑은국', '양장피잡채', '김치제육덮밥', '소고기매운무국', '오징어굴소스볶음', '오이무침', '모둠버섯구이', '영양부추생채', '닭곰탕', '미트볼케찹조림', '메밀전', '콩나물불고기', '어묵탕', '동그랑땡전', '얼갈이된장무침', '참나물무침', '가자미카레튀김', '된장찌개', '닭살냉채', '미소장국', '파스타샐러드', '나물비빔밥', '오렌지', '소세지오븐구이', '오징어브로컬리', '순살파닭', '멸치크렌베리볶음', '콩나물냉국', '주꾸미떡볶음', '쇠고기샤브국', '연두부', '해초무침', '시래기조림', '홍어채무침', '쇠고기숙주볶음', '연두부탕', '우엉잡채', '머위대나물', '해물누룽지탕', '부대찌개', '미니채소떡갈비', '두부계란구이', '치커리사과생채', '꽃게탕', '오이미역냉국', '닭오븐구이', '무생채', '꽈리고추어묵조림', '양배추쌈', '콩나물국', '열무김치', '메추리알조림', '호박잎', '제육볶음', '쇠고기낙지볶음', '새송이버섯전', '참나물땅콩무침', '어묵국', '마늘쫑무침', '닭갈비', '시금치프리타타', '미역국', '수제돈까스', '도토리묵냉국', '단배추나물', '두부양념조림', '비엔나감자볶음', '셀프무쌈말이', '알타리김치', '돈육김치찌개', '갈치구이', '어묵볶음', '고추장찌개', '돈육보쌈', '청경채생채', '짬뽕불고기', '옥수수계란찜', '된장찌개', '오징어볶음', '오이무침', '모듬묵양념장', '쇠고기무국', '매운닭찜', '들깨시래기국', '임연수구이', '치커리무침', '단무지', '열무김치', '맑은국', '해물까스', '부추만두', '짜장밥', '소고기불고기', '김치전', '조랭이떡미역국', '콩나물무침', '해물된장찌개', '두부조림', '간장깻잎지', '표고버섯탕수육', '검정콩조림', '열무김치', '감자채볶음', '가쯔오장국', '곤드레밥', '가자미양념찜', '주꾸미굴소스볶음', '비름나물', '쇠고기샤브국', '볼어묵볶음', '계란말이', '미트볼케찹조림', '마늘쫑무침', '알탕', '쑥갓두부무침', '콩나물국', '매운어묵볶음', '돈육간장불고기', '동태전', '배추된장국', '닭갈비', '치커리사과생채', '미소장국', '과일샐러드', '산채비빔밥', '언양식불고기', '아삭고추무침', '굴비구이', '육개장', '오이무침', '알타리김치', '탕수만두', '두부구이', '열무김치', '훈제오리구이', '양파절임', '쌈무', '시래기국', '버섯불고기', '북어국', '실곤약초무침', '야채계란찜', '열무김치', '땅콩조림', '등갈비김치찜', '도토리묵무침', '연두부탕', '양배추쌈', '고구마줄기볶음', '꽃게탕', '마늘치킨', '쇠고기미역국', '호박나물', '고기전', '오징어볶음', '동파육', '열무된장국', '셀프무쌈말이', '통도라지구이', '시래기된장국', '치커리무침', '오꼬노미야끼계란말이', '유자청제육볶음', '마늘쫑무침', '돈육잡채', '해물누룽지탕', '차돌박이찌개', '미소장국', '카레라이스', '모듬묵샐러드', '떡갈비조림', '요플레', '오복지', '고사리육개장', '부추생채', '두부계란부침', '닭찜', '참치김치찌개', '고등어구이', '단호박장조림', '참나물무침', '알타리김치', '감자채전', '해물순두부찌개', '쫑상추무침', '언양식불고기', '들깨버섯국', '취나물', '소고기낙지볶음', '비엔나케찹조림', '메밀전병만두', '콩나물밥', '아삭고추무침', '가쯔오국', '감자프리타타', '온두부', '열무김치', '쇠고기샤브국', '김치제육볶음', '꽁치구이', '콩나물겨자채', '순살양념치킨', '모듬묵', '콩가루배추국', '실곤약흑임자무침', '짬뽕불고기', '도라지오이생채', '근대국', '해물파전', '닭갈비', '시래기들깨탕', '숙주나물', '상추파무침', '어묵볶음', '콩나물국', '삼겹살구이', '브로컬리초장', '두부새싹구이', '매운주꾸미볶음', '차돌박이찌개', '잡채', '쇠불고기', '식혜', '오징어숙회무침', '미니케익', '미역국', '계란찜', '부추생채', '훈제오리구이', '쌈무', '아욱국', '궁중떡찜', '고추장찌개', '레몬탕수육', '유채나물', '얼갈이생채', '해물된장찌개', '새송이버섯전', '닭찜', '치커리유자청무침', '메추리알조림', '오징어볶음', '쇠고기무국', '해파리겨자채', '모둠쌈', '차돌박이찌개', '제육볶음', '참나물생채', '고등어조림', '고추잡채', '근대국', '민물새우찌개', '오이무침', '시금치프리타타', '수제돈가스', '새알미역국', '마파두부', '가지나물', '유린기', '해물청경채볶음', '쇠고기매운버섯국', '메밀부추전', '도라지초무침', '마늘쫑볶음', '콩나물국', '홍어채무침', '버섯불고기', '두부계란부침', '배추된장국', '쭈꾸미볶음', '미역줄기볶음', '쑥갓두부무침', '쇠고기잡채', '알타리김치', '갈치조림', '가쯔오장국', '곤드레밥', '치킨핑거', '육개장', '물파래무침', '도토리묵무침', '어묵볶음', '시금치국', '돼지갈비찜', '무나물', '닭갈비', '들깨시래기국', '연두부', '취나물', '옥수수전', '상추쌈', '콩나물파채', '돈삼겹보쌈', '근대국', '개성감자만두', '파스타샐러드', '맑은국', '카레덮밥', '군고구마', '계란말이', '사골떡국', '오징어볶음', '치커리사과생채', '누룽지탕수육', '톳두부무침', '실곤약초무침', '된장찌개', '호박나물', '짬뽕불고기', '참치야채전', '콩가루배추국', '수제돈까스', '삼치구이', '오징어국', '봄동겉절이', '과일샐러드', '콩나물밥', '언양식불고기', '도라지오이무침', '미역장국', '매운닭찜', '해물된장찌개', '시금치나물', '두부조림', '깍두기', '등갈비김치찜', '올갱이아욱국', '들깨버섯무침', '숙주나물', '소고기불고기', '해물파전', '시금치국', '통도라지구이', '새알미역국', '두부새싹구이', '세발나물', '돼지갈비찜', '알타리김치', '굴비구이', '청양된장찌개', '무생채', '궁중떡볶이', '곤드레밥', '북어계란국', '메밀전병만두', '가지무침', '찜닭', '미니채소떡갈비', '콩비지찌개', '동태전', '양념깻잎지', '계란말이', '치커리유자청무침', '오징어볶음', '알타리김치', '차돌박이찌개', '순살파닭', '맛살겨자채', '물파래무침', '어묵국', '돈육칠리강정', '깍두기', '모듬묵샐러드', '단호박영양밥', '가쯔오장국', '숙주나물', '고추잡채', '오이무침', '갈치구이', '쇠고기무국', '돈육굴소스볶음', '물미역', '새송이버섯전', '꽃게탕', '버섯불고기', '골뱅이무침', '아욱국', '무나물', '견과류조림', '참나물생채', '사천식탕수육', '연두부탕', '미소장국', '코다리조림', '과일샐러드', '깍두기', '나물비빔밥', '군고구마', '메추리알조림', '들깨시래기국', '알타리김치', '콩나물무침', '제육볶음', '옥수수전', '취나물', '동태탕', '찜닭', '해파리겨자채', '모둠쌈', '돈육피망볶음', '들깨무채국', '계란찜', '낙지볶음', '오이생채', '소고기된장찌개', '생선까스', '콩나물밥', '단호박범벅', '유부주머니국', '두부양념조림', '부추전', '닭볶음탕', '마늘쫑건새우볶음', '봄동된장국', '사각어묵볶음', '미트볼케찹조림', '김구이', '부대찌개', '돈육굴소스볶음', '홍어채무침', '해물된장찌개', '양념깻잎지', '계란말이', '깍두기', '해물누룽지탕', '차돌박이찌개', '오이미역무침', '미소장국', '카레라이스', '떡갈비조림', '모듬묵', '요플레', '오복지', '우거지해장국', '비엔나케찹볶음', '시금치나물', '명태코다리조림', '두부오꼬노미야끼', '마늘쫑무침', '들깨시래기국', '표고버섯탕수육', '버섯불고기', '오징어국', '실곤약초무침', '상추쑥갓생채', '물미역', '주꾸미볶음', '달래된장국', '시금치프리타타', '동파육', '민물새우찌개', '새송이버섯전', '파채콩나물무침', '어묵볶음', '부추생채', '훈제오리구이', '순두부찌개', '쌈무', '오징어초무침', '콩나물국', '간장마늘치킨', '무나물', '호박나물', '날치알계란찜', '언양식불고기', '꽃게탕', '쇠고기미역국', '동그랑땡전', '오징어볶음', '무쌈말이', '콩나물겨자채', '참나물무침', '돼지갈비찜', '아욱된장국', '연근땅콩조림', '닭볶음탕', '파래김', '어묵국', '사골떡국', '김치전', '식혜', '오이무침', '한방소갈비찜', '청량된장찌개', '굴비구이', '무생채', '궁중떡볶이', '곤드레밥', '모둠쌈', '콩가루배추국', '깍두기', '고구마그라탕', '제육볶음', '깍두기', '깐풍기', '곤약어묵볶음', '매운콩나물무침', '부대찌개', '황태국', '계란찜', '소불고기', '청경채사과생채', '유채나물', '양파치킨', '비엔나케찹볶음', '근대국', '참나물생채', '콩나물밥', '맑은국', '고추잡채', '해물까스', '호박나물', '오징어돈육볶음', '참치야채전', '봄동된장국', '명태코다리강정', '양념깻잎지', '차돌박이찌개', '모둠버섯볶음', '해물파전', '숙주나물', '아욱국', '유자청제육볶음', '쫄면무침', '미니채소떡갈비', '참나물땅콩무침', '꽃게탕', '마늘쫑볶음', '치킨핑거', '나물비빔밥', '가쯔오장국', '요플레', '쇠고기장조림', '해파리냉채', '알타리김치', '통도라지구이', '된장찌개', '탕수어', '육개장', '무생채', '버섯잡채', '세발나물무침', '쇠고기숙주볶음', '북어국', '골뱅이무침', '고기전', '오징어볶음', '봄동겉절이', '시금치된장국', '개성감자만두', '단무지', '과일탕수육', '맑은국', '짜장덮밥', '돈육굴소스볶음', '모듬쌈', '김치콩나물국', '황태양념구이', '늙은호박전', '순살파닭', '오이사과무침', '연두부탕', '콩나물겨자채', '참나물무침', '가래떡돼지갈비찜', '봄동된장국', '가지나물', '닭볶음', '새송이버섯전', '어묵국', '미소장국', '계란찜', '알타리김치', '아삭고추무침', '양장피잡채', '김치제육덮밥', '부추생채', '닭곰탕', '매콤미니함박', '삼치구이', '숙주나물', '해물김치전', '차돌박이찌개', '표고버섯탕수육', '시래기조림', '홍어채무침', '돈육볶음', '순두부찌개', '쇠고기장조림', '해물된장찌개', '참치야채전', '알타리김치', '콩나물무침', '콩나물밥', '언양식불고기', '치즈계란말이', '유부주머니국', '도라지오이무침', '열무된장국', '연두부', '양념깻잎지', '동파삼겹수육', '해물청경채볶음', '깍두기', '메밀전', '도토리묵무침', '부대찌개', '양배추쌈', '닭갈비', '실곤약초무침', '차돌박이찌개', '쑥갓두부무침', '사천식탕수육', '아욱된장국', '모둠버섯볶음', '버섯불고기', '떡국', '취나물', '오징어숙회무침', '부추생채', '훈제오리구이', '쌈무', '들깨미역국', '두부양념조림', '늙은호박전', '알타리김치', '짬뽕불고기', '배추된장국', '청경채사과무침', '파스타샐러드', '맑은국', '오이무침', '카레덮밥', '고구마치즈구이', '콩나물국', '모둠묵', '미역줄기볶음', '마늘치킨', '쫑상추무침', '깍두기', '등갈비김치찜', '시금치된장국', '맛살냉채', '황태국', '소고기숙주볶음', '치커리무침', '새송이버섯전', '마늘쫑볶음', '곰피초장', '돼지갈비찜', '아욱된장국', '치킨핑거', '콩조림', '곤드레밥', '도토리묵무침', '어묵국', '차돌박이된장찌개', '오곡밥', '보름나물', '부럼', '조기구이', '구이김', '오징어숙회무침', '해파리냉채', '해물순두부찌개', '소고기장조림', '청경채생채', '알타리김치', '닭강정', '해물파전', '근대된장국', '치킨무', '단배추나물', '삼치구이', '콩나물밥', '얼갈이나물', '깍두기', '가쯔오국', '떡잡채', '탕평채', '오리불고기', '홍합탕', '간장깻잎지', '두부새싹구이', '주꾸미볶음', '쇠고기샤브국', '참나물무침', '부추생채', '버섯불고기', '배추된장국', '시금치프리타타', '가지나물', '미트볼케찹조림', '우엉잡채', '쇠고기무국', '탕수어', '두부', '깍두기', '시래기지짐', '시금치된장국', '닭데리야끼조림', '어묵볶음', '동태탕', '숙주나물', '동그랑땡전', '얼갈이국', '오징어볶음', '세발나물', '무나물', '골뱅이무침', '돈육간장볶음', '어묵국', '견과류조림', '고기전', '해물누룽지탕', '된장찌개', '양배추쌈', '쇠고기미역국', '닭볶음탕', '도토리묵무침', '우거지해장국', '계란말이', '깍두기', '코다리강정', '청경채나물', '참나물생채', '수제돈까스', '열무된장국', '메추리알곤약조림', '닭갈비', '치커리사과무침', '새송이버섯조림', '차돌박이찌개', '흑임자연근샐러드', '콩나물국', '부추전', '등갈비김치찜', '알타리김치', '유부장국', '단호박카레라이스', '볼어묵볶음', '유린기', '오복지', '얼큰소고기국', '계란찜', '고추잡채', '숙주나물', '참치김치찌개', '깍두기', '주꾸미볶음', '취나물무침', '미니함박조림', '들깨버섯국', '아삭고추무침', '소고기낙지볶음', '알타리김치', '비엔나간장볶음', '쑥갓두부무침', '잡채', '언양식불고기', '동태매운탕', '닭오븐구이', '가쯔오장국', '곤드레밥', '시저샐러드', '오징어숙회무침', '오이도라지생채', '류산슬', '오꼬노미야끼계란말이', '쑥된장국', '양념치킨', '열무김치', '연두부', '수제비국', '진미채무침', '해파리냉채', '콩나물국', '모듬쌈', '제육볶음', '소고기장조림', '민물새우찌개', '홍어채무침', '참나물땅콩무침', '알타리김치', '오징어볶음', '아욱국', '해초무침', '새싹두부구이', '코다리양념조림', '모듬소시지구이', '순두부찌개', '청경채사과무침', '부추생채', '열무김치', '해물김치전', '안동찜닭', '근대국', '짬뽕불고기', '배추된장국', '버섯잡채', '청포묵무침', '무채국', '훈제오리구이', '양파절임', '두부조림', '쌈무', '콩나물밥', '치킨핑거', '열무된장국', '궁중떡볶음', '오이미역무침', '가지나물', '실곤약초무침', '알탕', '돈육간장볶음', '쫑상추무침', '가자미카레튀김', '알타리김치', '돈육김치찌개', '야채계란찜', '오이도라지무침', '계란말이', '콩나물국', '류산슬', '쇠고기미역국', '꽁치김치말이', '깐풍기', '청경채새송이볶음', '오징어튀김', '유부장국', '요플레', '떡밤초', '비빔밥', '쑥갓두부무침', '호박전', '닭매운찜', '시래기국', '쫄면무침', '삼겹살구이', '상추부추생채', '순두부찌개', '알타리김치', '닭데리야끼조림', '꽃맛살볶음', '치커리무침', '어묵국', '유부장국', '오꼬노미야끼', '알타리김치', '오렌지', '양장피잡채', '김치제육덮밥', '어묵볶음', '수제돈까스', '열무김치', '도토리묵냉국', '오이미역무침', '콩나물제육볶음', '임연수구이', '무청된장국', '취나물무침', '버섯불고기', '배추된장국', '무생채', '시금치프리타타', '탕수어', '도라지무침', '열무김치', '우엉잡채', '돈육김치찌개', '돈육굴소스볶음', '양배추쌈', '해파리겨자채', '근대국', '소고기무국', '두부계란부침', '오징어볶음', '미역줄기볶음', '무쌈', '훈제오리구이', '양파절임', '시금치된장국', '실곤약무침', '얼갈이된장국', '참나물생채', '열무김치', '등갈비김치찜', '새송이버섯전', '맑은국', '오이무침', '어묵꽈리고추볶음', '카레덮밥', '고구마치즈구이', '탕평채', '콩나물국', '닭볶음탕', '영양부추무침', '차돌박이된장찌개', '동그랑땡전', '주꾸미볶음', '양념깻잎지', '멸치볶음', '상추파무침', '짬뽕불고기', '시래기들깨탕', '얼갈이된장국', '고추지무침', '곤드레밥', '오징어', '마늘치킨', '두부구이', '치커리생채', '조랭이떡국', '돼지갈비찜', '꽁치오븐구이', '청경채무침', '사과오이냉국', '떡갈비조림', '모듬쌈', '두부양념조림', '미역국', '제육볶음', '해물청경채볶음', '올방개묵무침', '김치찌개', '버섯잡채', '알타리김치', '유부장국', '콩나물밥', '파스타샐러드', '무생채', '수제돈가스', '메밀부추전', '오징어국', '깻잎지', '동파삼겹수육', '우거지해장국', '치킨핑거', '명태양념조림', '오이생채', '계란말이', '부추생채', '콩나물국', '알타리김치', '돈육간장볶음', '해파리겨자채', '닭갈비', '취나물', '된장찌개', '도라지생채', '고추잡채', '순두부찌개', '갈치구이', '마늘쫑볶음', '대구매운탕', '곤약메추리알조림', '완자전', '버섯불고기', '배추된장국', '골뱅이무침', '콩나물무침', '모듬소시지구이', '육개장', '청경채무침', '고등어김치말이', '알타리김치', '호박나물', '순살파닭', '카레감자채볶음', '근대국', '오징어볶음', '연두부', '브로컬리맛살볶음', '부대찌개', '쫄면무침', '무쌈', '훈제오리구이', '양파절임', '미역국', '아삭고추무침', '꽃게탕', '비엔나케찹볶음', '삼치데리야끼', '미니채소떡갈비', '방울토마토', '팽이장국', '깍두기', '열무비빔밥', '땅콩조림', '상추파무침', '명란계란말이', '짬뽕불고기', '오이냉국', '잡채', '닭개장', '코다리강정', '도토리묵무침', '닭갈비', '시금치프리타타', '해초무침', '어묵국', '열무김치', '생선커틀릿', '류산슬', '돈육김치찌개', '영양부추무침', '오복지무침', '깐풍육', '구운채소', '가쯔오장국', '카레덮밥', '들깨버섯국', '도라지오이생채', '메추리알곤약조림', '매운돼지갈비찜', '메밀전병만두', '올방개묵무침', '육개장', '동태무조림', '계란말이', '콩나물국', '미역줄기볶음', '유자청제육볶음', '가지나물', '소고기장조림', '홍어채무침', '알타리김치', '아욱국', '찐옥수수', '탕수어', '맑은국', '오이무침', '곤드레밥', '해물파전', '도라지나물', '닭볶음탕', '근대국', '쫑상추무침', '매운어묵볶음', '도토리묵냉국', '동파삼겹수육', '돈육굴소스볶음', '브로컬리오징어숙회', '고추장찌개', '숙주나물', '쇠고기매운국', '열무김치', '훈제오리구이', '우엉잡채', '양파절임', '쌈무', '오징어튀김', '미소장국', '과일샐러드', '견과류조림', '나물비빔밥', '도토리묵', '해파리겨자채', '호박잎된장찌개', '깐풍기', '등갈비김치찜', '연두부', '알타리김치', '콩나물무침', '어묵국', '실곤약야채무침', '동그랑땡전', '소불고기', '된장찌개', '석박지', '삼계탕', '참나물생채', '찹쌀밥', '수박', '생야채', '유부장국', '콩나물밥', '메추리알조림', '찐햇감자', '해물까스', '해물순두부찌개', '부추전', '청경채무침', '안동찜닭', '우무콩국', '호박잎', '통도라지구이', '유자청제육볶음', '돈육굴소스볶음', '오징어야채무침', '간장깻잎지', '어묵국', '우거지해장국', '삼치양념구이', '함박스테이크', '아삭고추무침', '사각어묵볶음', '쇠고기샤브국', '오이사과생채', '유린기', '오이지냉국', '참나물땅콩무침', '콩나물냉채', '매운돼지갈비찜', '주꾸미떡볶음', '치커리유자청무침', '닭곰탕', '새송이버섯전', '닭갈비', '도라지오이생채', '시금치프리타타', '근대국', '가지나물', '콩나물국', '짬뽕불고기', '버섯잡채', '과일', '감자만두', '떡갈비조림', '가쯔오장국', '카레덮밥', '오복지', '옥수수전', '열무김치', '갈치양념조림', '청경채사과무침', '돈육김치찌개', '닭오븐구이', '브로컬리', '꽈리고추어묵조림', '연두부탕', '호박나물', '소불고기', '콩나물김치국', '알타리김치', '골뱅이무침', '얼갈이된장국', '오징어볶음', '닭살겨자냉채', '미역줄기볶음', '찐옥수수', '꽃맛살샐러드', '맑은국', '깐풍육', '열무보리비빔밥', '미역오이냉국', '온두부', '볶음김치', '양념깻잎지', '돈육장조림', '사과맛살초무침', '굴비구이', '미트볼케찹조림', '된장찌개', '들깨버섯국', '계란찜', '참나물무침', '제육볶음', '차돌박이된장찌개', '열무김치', '해초무침', '해물누룽지탕', '쫄면야채무침', '주꾸미굴소스볶음', '닭개장', '아삭고추무침', '동태포전', '두부오꼬노미야끼', '쇠고기단호박조림', '알탕', '콩나물무침', '무쌈', '훈제오리구이', '양파절임', '시금치된장국', '실곤약무침', '양념두부조림', '소고기불고기', '열무김치', '도라지나물', '미역국', '미소장국', '영양모듬견과', '궁중떡볶이', '해물까스', '비빔밥', '동그랑땡', '무생채', '된장찌개', '꽁치레몬구이', '계란말이', '치커리생채', '우무묵냉국', '마늘치킨', '어묵볶음', '홍어채무침', '배추된장국', '돈육간장불고기', '쫄면무침', '탕수어', '쇠고기샤브국', '참나물땅콩무침', '과일샐러드', '콩나물밥', '치킨핑거', '팽이장국', '메추리알조림', '마파두부', '모듬장조림', '숙주나물', '근대국', '두부새싹구이', '도라지생채', '조랭이떡국', '소고기낙지볶음', '브로컬리오징어숙회', '콩나물국', '버섯불고기', '취나물', '녹두전', '들깨시래기국', '야채스틱', '동파삼겹수육', '오징어튀김', '열무김치', '샐러드파스타', '맑은국', '무생채', '김치제육덮밥', '간장찜닭', '마늘쫑무침', '연두부', '꽃게탕', '건파래무침', '매운주꾸미볶음', '새송이버섯전', '미역국', '양배추쌈', '감자채볶음', '돈육고추장불고기', '연두부국', '쇠고기미역국', '흑임자연근샐러드', '두부스테이크', '닭매운찜', '오징어튀김', '소불고기덮밥', '오복지무침', '구운채소', '가쯔오장국', '부추전', '등갈비김치찜', '콩나물무침', '시래기국', '계란말이', '상추파무침', '고추장찌개', '언양식불고기', '돈육굴소스볶음', '무생채', '골뱅이무침', '어묵국', '닭개장', '김치전', '류산슬', '아삭고추무침', '유부장국', '메밀전병만두', '과일', '쨔샤이무침', '카레덮밥', '감자프리타타', '명태조림', '소고기장조림', '꽃게탕', '파래김', '잡채', '식혜', '돼지갈비찜', '송편', '아욱된장국', '쭈꾸미숙회무침', '어묵탕', '감자채볶음', '돈육고추장불고기', '모듬쌈', '사과고구마그라탱', '돈육강정', '맑은국', '오이초무침', '곤드레밥', '들깨버섯국', '오징어볶음', '단호박계란찜', '청경채사과무침', '오징어젓무침', '야채스틱', '석박지', '김치전', '과일', '설렁탕', '버섯불고기', '열무된장국', '맛살겨자채', '깻잎지', '참나물생채', '우엉잡채', '매운소고기무국', '조기구이', '유부장국', '생선가스', '콩나물밥', '땅콩조림', '가래떡구이', '감자국', '열무김치', '해물파전', '브로컬리들깨찜', '김치제육볶음', '호박나물', '닭갈비', '오징어국', '연두부', '고추장찌개', '오이무침', '돈육간장불고기', '야채계란찜', '메밀전병만두', '콩비지찌개', '닭볶음탕', '파래김', '어묵볶음', '콩나물국', '깍두기', '톳두부무침', '등갈비김치찜', '방풍나물', '얼갈이국', '쇠고기낙지볶음', '시금치프리타타', '두부새싹구이', '시금치나물', '오징어볶음', '근대국', '황태국', '홍어채무침', '소불고기', '콩나물무침', '실곤약야채무침', '어묵국', '쫑상추무침', '동파삼겹수육', '닭살겨자채', '콩나물국', '반달호박나물', '수제돈가스', '청경채생채', '마늘간장치킨', '새송이버섯전', '시래기국', '무쌈', '훈제오리구이', '배추된장국', '양파절임', '참치야채전', '오징어볶음', '쇠고기샤브국', '단호박계란찜', '도라지초무침', '해파리냉채', '매운콩나물국', '치커리생채', '닭데리야끼구이', '오징어젓무침', '탕평채', '맑은국', '사천식탕수육', '곤드레밥', '닭갈비', '무생채', '동태포전', '미역국', '고등어구이', '육개장', '연근조림', '비엔나케찹볶음', '소고기불고기', '아삭고추무침', '순두부찌개', '골뱅이무침', '돈육강정', '두부양념조림', '청국장찌개', '유채나물', '꽃맛살샐러드', '콩나물밥', '치킨핑거', '팽이장국', '얼갈이겉절이', '상추무침', '아욱국', '오징어숙회무침', '유자청제육볶음', '깍두기', '언양식불고기', '부추깻잎전', '도토리묵무침', '알탕', '돈육굴소스볶음', '매운어묵볶음', '꽃게탕', '콩나물무침', '주꾸미볶음', '메추리알조림', '들깨시래기국', '통도라지구이', '새우까스', '파스타샐러드', '맑은국', '오이무침', '카레덮밥', '두부구이', '콩나물국', '물파래무침', '닭볶음탕', '쫄면무침', '버섯불고기', '취나물', '근대국', '얼갈이국', '참나물생채', '닭갈비', '감자프리타타', '늙은호박전', '짬뽕불고기', '배추된장국', '연두부', '오징어튀김', '과일샐러드', '나물비빔밥', '가쯔오장국', '군고구마', '물미역', '레몬탕수육', '어묵꽈리고추볶음', '알타리김치', '두부김치국', '계란말이', '매운버섯국', '얼갈이생채', '해물누룽지탕', '계란찜', '세발나물', '쇠고기낙지볶음', '미역국', '도라지초무침', '유린기', '모듬버섯볶음', '차돌박이찌개', '유부장국', '언양식불고기', '단호박영양밥', '주꾸미초무침', '파래김', '콩나물국', '쫑상추무침', '오리불고기', '셀프무쌈말이', '동그랑땡전', '쇠고기모듬장조림', '떡만두국', '깻잎지', '콩나물파채무침', '감자그라탕', '아욱국', '제육볶음', '알타리김치', '시금치국', '등갈비김치찜', '메밀전', '도토리묵무침', '가자미튀김', '콩나물밥', '고추잡채', '가쯔오국', '실곤약초무침', '매운어묵국', '참나물겉절이', '맛살전', '동파삼겹수육', '방풍나물', '동태찌개', '치즈함박스테이크', '두부조림', '콩나물국', '짬뽕불고기', '메추리알조림', '건새우마늘쫑볶음', '물파래무침', '해물김치전', '닭볶음탕', '연두부탕', '쫄면무침', '탕수어', '팽이장국', '치커리유자청생채', '곤드레밥', '호박나물', '두부새싹구이', '돼지갈비찜', '알타리김치', '근대국', '닭개장', '갈치양념조림', '고기전', '비트무생채', '부추생채', '훈제오리구이', '열무된장국', '매운어묵볶음', '크리스마스케익', '쌈무', '돈육굴소스볶음', '얼갈이나물', '골뱅이무침', '아욱국', '계란말이', '오징어볶음', '순두부찌개', '참나물땅콩무침', '해물동그랑땡', '버섯불고기', '고추장찌개', '유채나물', '양배추쌈', '콩나물국', '감자채볶음', '돈육고추장불고기', '해물파전', '떡국', '식혜', '소갈비찜', '도라지오이무침', '꽈리고추찜', '안동찜닭', '주꾸미초무침', '차돌박이찌개', '물미역무침', '삼치구이', '언양식불고기', '두부김치국', '늙은호박전', '부추생채', '쇠고기숙주볶음', '시래기국', '청경채생채', '고등어구이', '콩나물국', '치즈함박스테이크', '검정콩조림', '치킨핑거', '하와이안샐러드', '맑은국', '비빔밥', '탕수육', '깍두기', '육개장', '감자프리타타', '깻잎지', '시금치나물', '고추잡채', '꽃게탕', '메밀전', '돈육굴소스볶음', '감자채볶음', '마늘쫑무침', '알탕', '해파리냉채', '등갈비김치말이', '치커리유자청생채', '알타리김치', '어묵국', '군만두', '단무지', '맑은국', '짜장덮밥', '오렌지', '유산슬', '두부스테이크', '쇠고기낙지볶음', '오이무침', '봄동된장국', '순살파닭', '콩나물김치국', '실곤약초무침', '우엉조림', '버섯불고기', '고추장찌개', '오이사과무침', '야채계란찜', '청경채생채', '배추된장국', '새송이버섯전', '닭볶음탕', '알타리김치', '생선까스', '콩나물밥', '파스타샐러드', '오복지무침', '맑은국', '오징어초무침', '얼갈이국', '누룽지탕수육', '취나물', '멸치호두볶음', '짬뽕불고기', '수제비국', '도라지나물', '사과고구마그라탱', '브로컬리들깨찜', '된장찌개', '김치제육볶음', '새알만두국', '치킨무', '양파치킨', '돈육잡채', '유채나물', '쫄면무침', '유부장국', '새우까스', '오이무침', '카레덮밥', '비엔나감자볶음', '콩나물겨자채무침', '청국장찌개', '갈치구이', '해물파전', '시금치국', '간장깻잎지', '동파삼겹수육', '부추생채', '훈제오리구이', '열무된장국', '매운어묵볶음', '쌈무', '황태국', '숙주나물', '알타리김치', '들깨버섯무침', '제육볶음', '계란말이', '소불고기', '실곤약초무침', '어묵국', '물미역', '옥수수전', '순두부찌개', '돈육장조림', '고구마튀김', '오복지무침', '메추리알조림', '맑은국', '낙지비빔밥', '양배추쌈', '미니채소떡갈비', '카레감자채볶음', '꽃게탕', '오징어볶음', '연두부', '미역줄기볶음', '봄동된장국', '콩비지찌개', '치즈함박스테이크', '새송이버섯전', '유채나물', '굴비구이', '오곡밥', '오징어야채무침', '보름나물', '부럼', '구이김', '차돌박이찌개', '김치찐만두', '치킨핑거', '맑은국', '무생채', '곤드레밥', '요플레', '오이무침', '돼지갈비찜', '시금치프리타타', '알타리김치', '아욱국', '언양식불고기', '맛살냉채', '돈육김치찌개', '마늘쫑건새우볶음', '버섯불고기', '고추장찌개', '참나물', '두부양념조림', '쇠고기미역국', '고등어구이', '미트볼칠리조림', '숙주나물', '오징어튀김', '유부장국', '음료', '떡밤초', '비빔밥', '무말랭이', '콩가루배추된장국', '매운어묵볶음', '돈삼겹보쌈', '해물된장찌개', '옥수수계란찜', '모듬쌈', '돈육간장불고기', '삼치구이', '얼갈이나물', '육개장', '고추잡채', '콩나물밥', '닭가슴살냉채', '유채나물겉절이', '코다리강정', '알타리김치', '미역장국', '북어해장국', '녹두전', '돌나물', '소고기낙지볶음', '열무나물무침', '비엔나컬리플라워조림', '해물누룽지탕', '차돌박이찌개', '쇠고기숙주볶음', '감자프리타타', '건새우마늘쫑볶음', '어묵국', '쑥국', '풋마늘대무침', '해물김치전', '안동찜닭', '쫄면무침', '무말랭이', '가쯔오장국', '카레덮밥', '고구마치즈구이', '우거지해장국', '모듬소시지구이', '열무김치', '양념깻잎지', '갈치구이', '호박나물', '메밀전병만두', '열무된장국', '등갈비김치찜', '콩나물국', '버섯불고기', '세발나물', '오징어숙회무침', '동파육', '계란찜', '쫑상추무침', '아욱국', '알타리김치', '맑은국', '시저샐러드', '오이무침', '야채튀김', '김치제육덮밥', '바나나', '깍두기', '동태전', '식혜', '봄동겉절이', '오렌지', '새송이전', '한방소갈비찜', '미역국', '돈육굴소스볶음', '양배추쌈', '해물된장찌개', '달래두부무침', '방풍나물', '두부구이', '소고기장조림', '꽃게탕', '무채국', '얼갈이나물', '들깨버섯무침', '제육볶음', '돈육칠리강정', '모듬묵샐러드', '단호박영양밥', '가쯔오장국', '숙주나물', '어묵탕', '열무김치', '부추팽이겉절이', '야채계란말이', '매운돼지갈비찜', '셀프무쌈말이', '알탕', '파래김', '미니함박조림', '황태국', '소고기숙주볶음', '계란찜', '치커리무침', '오징어볶음', '참나물무침', '궁중떡볶음', '연두부탕', '순대볶음', '온두부', '볶음김치', '들깨시래기국', '곤드레밥', '쫄면', '열무김치', '야채비빔만두', '아삭고추무침', '안동찜닭', '돈육김치찌개', '맛살전', '짬뽕불고기', '조랭이떡미역국', '간장깻잎지', '유자청돈육볶음', '모듬쌈', '새송이버섯전', '된장찌개', '견과류조림', '열무김치', '감자채볶음', '주꾸미볶음', '순두부찌개', '오징어튀김', '과일샐러드', '나물비빔밥', '가쯔오장국', '오복지', '콩나물국', '수제돈까스', '파스타샐러드', '오이무침', '닭오븐구이', '옥수수전', '치커리사과생채', '아욱국', '매운어묵국', '버섯불고기', '도라지오이생채', '시금치프리타타', '고구마순나물', '열무된장국', '우엉잡채', '닭볶음탕', '계란장조림', '오징어볶음', '떡국', '양념깻잎지', '매운버섯국', '어묵볶음', '열무김치', '미트볼케찹조림', '세발나물', '군만두', '단무지', '맑은국', '짜장덮밥', '사천식탕수육', '유자청돈육볶음', '양배추쌈', '콩나물겨자채', '들깨시래기국', '쇠고기장조림', '골뱅이무침', '된장찌개', '취나물무침', '미소장국', '카레라이스', '방울토마토', '언양식불고기', '떡볶이', '무나물', '열무김치', '두부카프레제', '해물누룽지탕', '두부김치국', '돈육간장강정', '황태양념구이', '미역국', '숙주나물', '계란찜', '부추생채', '버섯불고기', '김치콩나물국', '소고기샤브국', '오징어볶음', '모듬묵샐러드', '연근조림', '치커리생채', '해물된장찌개', '안동찜닭', '버섯볶음', '미니채소떡갈비', '순두부찌개', '사각어묵무침', '단배추나물', '훈제오리구이', '양파절임', '두부조림', '쌈무', '어묵국', '청경채생채', '콩나물밥', '치킨핑거', '요거트D', '메추리알조림', '가쯔오장국', '상추쌈', '무말랭이무침', '보쌈', '마늘', '고추', '근대국', '참치김치찌개', '소고기장조림', '깍두기', '셀프무쌈말이', '실곤약초무침', '호박나물', '해파리겨자채', '아욱국', '제육볶음', '해물청경채볶음', '고기전', '차돌된장찌개', '미역줄기볶음', '콘샐러드', '연근땅콩조림', '산채비빔밥', '가쯔오장국', '치킨너겟', '계란말이', '돼지갈비찜', '취나물', '연두부탕', '탕수어', '버섯매운탕', '치커리유자청무침', '온두부', '볶음김치', '코다리조림', '방풍나물', '소고기숙주나물볶음', '된장찌개', '사각어묵볶음', '해물순두부찌개', '참나물생채', '열무김치', '수원왕갈비통닭', '연두부', '꽃게탕', '새송이떡갈비구이', '도토리묵야채무침', '가자미튀김', '소고기국', '시금치고추장무침', '돈육장조림', '계란찜', '콩나물국', '부추전', '땅콩조림', '낙지비빔밥', '돈육콩나물불고기', '쫑상추무침', '북어국', '시금치프리타타', '감자채전', '오징어국', '안동찜닭', '오이소박이', '마파두부', '배추된장국', '돈나물유자청무침', '수제돈가스', '고등어구이', '야채비빔만두', '깍두기', '육개장', '파래김', '봄나물비빔밥', '마늘쫑무침', '동태전', '함박스테이크', '맑은국', '콩나물국', '짬뽕불고기', '메추리알조림', '모듬쌈', '열무김치', '두부계란부침', '콩나물무침', '등갈비김치찜', '아욱국', '코다리조림', '과일샐러드', '계란말이', '맑은국', '곤드레밥', '고추장찌개', '언양식불고기', '오이무침', '버섯잡채', '매운어묵국', '소불고기', '골뱅이무침', '숙주나물', '열무김치', '오징어볶음', '땅콩조림', '연두부', '부대찌개', '사과고구마그라탕', '오복지무침', '깍두기', '맑은국', '맛살냉채', '김치제육덮밥', '옹심이만두국', '신김치도토리묵', '치커리유자청생채', '닭볶음탕', '해물파전', '사천식탕수육', '오이냉국', '양념깻잎지', '잡채', '열무된장국', '돼지고기유자청볶음', '취나물무침', '북어해장국', '흑임자연근샐러드', '무생채', '매운돼지갈비찜', '단무지', '맑은국', '짜장덮밥', '깐풍기', '쨔샤이무침', '물만두', '감자국', '주꾸미볶음', '아삭고추무침', '시금치프리타타', '소고기장조림', '김치전', '사과오이초무침', '청국장찌개', '가지나물', '소불고기', '옥수수계란찜', '어묵국', '참치김치찌개', '해파리냉채', '열무김치', '맛살전', '돈육장조림', '쫄면무침', '무말랭이', '가쯔오장국', '카레덮밥', '고구마치즈구이', '양념치킨', '비엔나볶음', '소고기미역국', '파래김', '꽃맛살샐러드', '콩나물밥', '치킨핑거', '팽이장국', '얼갈이겉절이', '청경채생채', '매운어묵볶음', '순두부찌개', '치즈함박스테이크', '쫑상추무침', '우엉잡채', '쇠고기낙지볶음', '사과오이냉국', '찐옥수수', '파스타샐러드', '맑은국', '마파두부덮밥', '치킨너겟', '감자채볶음', '짬뽕불고기', '열무된장국', '호박잎', '동그랑땡전', '열무김치', '훈제오리구이', '부추겉절이', '양파절임', '김치두부국', '쌈무', '꽃맛살볶음', '버섯불고기', '오징어국', '치커리유자청생채', '어묵꽈리볶음', '도라지생채', '닭볶음탕', '시래기국', '오복지무침', '깐풍육', '가쯔오장국', '시저샐러드', '열무보리비빔밥', '무말랭이', '삼겹보쌈', '해물김치전', '근대국', '삼계탕', '수제석박지', '초복특식', '찹쌀밥', '수박', '생야채', '돈육굴소스볶음', '주꾸미야채무침', '시금치나물', '차돌박이찌개', '북어계란국', '열무김치', '간장두부조림', '닭갈비', '셀프무쌈말이', '미소장국', '산채비빔밥', '아삭고추무침', '야채튀김', '요플레', '모듬묵양념장', '미니채소떡갈비', '참나물생채', '돈육김치찌개', '소고기무국', '비엔나감자볶음', '무생채', '갈치구이', '매운어묵국', '양파짱아찌', '소고기숙주볶음', '치킨샐러드', '파프리카잡채', '깍두기', '등갈비김치찜', '시금치된장국', '콩나물무침', '카레라이스', '호두견과류강정', '갈비통통만두', '가쯔오국', '쫄면야채무침', '코다리조림', '치커리사과무침', '매운소고기국', '유린기', '오이맛살초무침', '김치전', '고구마함박스테이크', '우묵냉국', '사과고구마그라탕', '시금치국', '오이무침', '유자청제육볶음', '장어강정', '햄감자채볶음', '사과오이냉국', '콩나물무침', '메밀전병만두', '맑은국', '찐햇감자', '오복지', '곤드레밥', '해물누룽지탕', '청경채생채', '닭볶음탕', '아욱국', '오징어브로컬리숙회', '꽈리고추찜', '계란말이', '미트볼케찹조림', '고추장찌개', '실곤약흑임자무침', '콩나물국', '닭갈비', '건새우마늘쫑볶음', '양배추쌈', '계란찜', '짬뽕불고기', '도토리묵냉국', '군만두', '맑은국', '짜장덮밥', '단무지무침', '고추잡채', '치커리유자청무침', '어묵볶음', '돼지갈비찜', '아욱국', '옥수수전', '주꾸미볶음', '차돌된장찌개', '양념깻잎지', '고추잎나물', '소고기숙주볶음', '모듬묵', '된장찌개', '깻잎찜', '언양식불고기', '꽃게탕', '감자프리타타', '모히토과일샐러드', '콩나물밥', '올챙이만두국', '쨔샤이무침', '유린기', '쇠고기장조림', '비름나물된장무침', '잡채', '닭개장', '연두부', '해물겨자냉채', '시래기국', '유자청제육볶음', '닭강정', '얼갈이겉절이', '소고기미역국', '모듬소세지구이', '미소장국', '오징어튀김', '산채비빔밥', '아삭고추무침', '요플레', '닭곰탕', '열무김치', '오이도라지생채', '류산슬', '오꼬노미야끼계란말이', '미니채소떡갈비', '자반고등어구이', '돈육김치찌개', '숙주나물', '사과고구마그라탕', '함박스테이크', '꽃게탕', '콩나물무침', '버섯불고기', '고추장찌개', '동태전', '레몬미역초무침', '과일', '치킨핑거', '맑은국', '카레덮밥', '오복지', '쫄면야채무침', '훈제오리구이', '매운어묵볶음', '배추된장국', '양파절임', '부추겉절이', '쌈무', '굴비구이', '김구이', '비엔나컬리플라워볶음', '부대찌개', '돈육김치볶음', '들깨시락국', '쫑상추무침', '궁중떡볶음', '소고기장조림', '참나물생채', '갈치무조림', '차돌박이찌개', '유부장국', '새송이너비아니구이', '양장피', '단호박영양밥', '오이무침', '호박부추전', '토란국', '도토리묵야채무침', '매운돼지갈비찜', '미역무침', '수제돈까스', '통도라지구이', '된장찌개', '짬뽕불고기', '모듬쌈', '김치콩나물국', '버섯잡채', '사천식탕수육', '맑은순두부국', '청경채겉절이', '감자프리타타', '생선까스', '과일', '팽이장국', '나물비빔밥', '식혜', '송편', '갈비만두', '황태국', '훈제오리고추장볶음', '부추생채', '연두부', '쌈무', '돈육굴소스볶음', '꽃게된장찌개', '날치알계란찜', '꽃상추겉절이', '과일', '파스타샐러드', '소고기미역국', '오렌지주스', '탄두리치킨', '오징어숙회무침', '호박나물', '카레감자채볶음', '주꾸미볶음', '쇠고기샤브국', '비름나물', '대패삼겹', '열무된장국', '사각어묵무침', '동그랑땡전', '얼갈이겉절이', '근대국', '유자청제육볶음', '얼갈이된장국', '버섯불고기', '미역줄기볶음', '골뱅이무침', '사과고구마그라탕', '돈육강정', '오복지무침', '맑은국', '곤드레밥', '두부스테이크', '깍두기', '마늘쫑무침', '콩나물김치국', '해물누룽지탕', '계란말이', '청경채생채', '언양식불고기', '어묵국', '얼갈이겉절이', '짬뽕불고기', '메추리알조림', '콩가루배추국', '깍두기', '부추겉절이', '닭갈비', '우엉잡채', '돈육김치찌개', '해물된장찌개', '소불고기', '미역레몬초무침', '두부양념조림', '돈육굴소스볶음', '해파리겨자채', '콩비지찌개', '마늘쫑건새우볶음', '마늘간장치킨', '치커리사과무침', '새송이버섯전', '동태탕', '미트볼조림', '굴비구이', '옹심이만두국', '청경채무침', '건파래무침', '파스타샐러드', '아욱국', '매운돼지갈비찜', '북어해장국', '감자채볶음', '야채스틱', '제육볶음', '어묵볶음', '콩나물국', '부추생채', '닭갈비', '모히토과일샐러드', '돈육강정', '콩나물밥', '쨔샤이무침', '가쯔오국', '해물굴소스볶음', '치커리유자청무침', '알탕', '쇠고기두부찜', '쇠고기장조림', '옥수수전', '마늘쫑무침', '우거지된장국', '훈제오리단호박볶음', '부추생채', '고추장찌개', '양파절임', '골뱅이무침', '잡채', '짬뽕불고기', '얼큰순두부찌개', '도토리묵무침', '카레라이스', '메밀전병만두', '단무지', '바나나', '우동국', '유린기', '숙주나물무침', '등갈비김치말이', '계란말이', '열무김치', '건새우아욱국', '생선까스', '팽이장국', '나물비빔밥', '식혜', '갈비만두', '메추리알조림', '소고기미역국', '모듬쌈', '유자청제육볶음', '두부새싹구이', '열무김치', '오징어볶음', '파래김', '된장찌개', '치킨핑거', '무비트생채', '맑은국', '마파두부덮밥', '시저샐러드', '매운콩나물국', '늙은호박전', '쫑상추무침', '동파삼겹수육', '음료', '딸기드레싱샐러드', '감자범벅', '옥수수스프', '수제피클', '옛날돈까스', '계란찜', '청경채사과생채', '소고기낙지볶음', '근대국', '순살파닭', '감자채볶음', '고추장찌개', '콩나물무침', '열무김치', '동태전', '오이무침', '시금치프리타타', '가쯔오장국', '김치제육덮밥', '미니채소떡갈비', '멸치호두볶음', '오징어국', '물파래무침', '단무지', '사천식탕수육', '야채볶음밥', '멕시칸샐러드', '미역장국', '잡채', '언양식불고기', '돈육김치찌개', '진미채무침', '옥수수전', '주꾸미볶음', '차돌된장찌개', '양념깻잎지', '사과고구마그라탕', '돈육강정', '오복지무침', '맑은국', '곤드레밥', '모듬소시지구이', '콩나물국', '미역레몬초무침', '해물누룽지탕', '김치볶음밥', '방울토마토', '또띠아칩', '피클', '나가사끼짬뽕국', '치킨텐더샐러드', '소고기장조림', '오이무침', '김치콩나물국', '시금치프리타타', '탕수어', '김치볶음', '온두부', '육개장', '참나물', '미소장국', '닭강정', '오이도라지무침', '콩나물밥', '청포묵무침', '실곤약흑임자무침', '비빔야채만두', '류산슬', '된장찌개', '아몬드멸치볶음', '생선까스', '과일', '맑은국', '카레덮밥', '쫄면야채무침', '계란말이', '버섯불고기', '고추장찌개', '아삭고추무침', '마파두부', '누룽지탕수육', '깍두기', '김치두부국', '파래김', '군만두', '감자치즈구이', '맑은국', '치커리유자청생채', '나물비빔밥', '청경채생채', '열무김치', '해물파전', '닭볶음탕', '아욱국', '미소장국', '콘샐러드', '과일', '오므라이스', '모듬튀김', '군고구마', '훈제오리구이', '열무된장국', '우엉잡채', '양파절임', '쌈무', '마늘쫑무침', '부추전', '마늘간장치킨', '홍합탕', '김치볶음밥', '열무김치', '팽이장국', '비트무생채', '콥샐러드', '해물까스', '계란', '요플레', '가지나물', '동태전', '닭갈비', '쇠고기샤브국', '계란찜', '깍두기', '근대국', '양념깻잎지', '수제돈가스', '유자청돈육볶음', '시금치나물', '콩나물겨자채', '들깨시래기국', '코다리조림', '치커리사과무침', '매운소고기국', '유린기', '유부장국', '새송이너비아니구이', '양장피', '단호박영양밥', '오이무침', '호박부추전', '굴미역국', '도토리묵야채무침', '매운돼지갈비찜', '참치김치찌개', '가지무침', '깍두기', '고추잡채', '안동찜닭', '훈제오리볶음', '열무된장국', '양파절임', '쌈무', '떡잡채', '무채국', '소고기숙주볶음', '유채겉절이', '메추리알곤약조림', '미소장국', '콩나물밥', '샐러드파스타', '언양식불고기', '가래떡츄러스', '대패삼겹', '해물콩나물찜', '연두부', '된장찌개', '매운닭찜', '감자양파국', '두부커틀릿', '간장깻잎지', '돈육김치볶음', '깍두기', '모듬쌈', '비엔나감자조림', '아욱국', '치킨핑거', '조각케익', '오징어국', '애호박전', '콩나물무침', '물미역', '녹두전', '열무김치', '짬뽕불고기', '된장찌개', '파인애플볶음밥', '콘치즈오븐구이', '단무지무침', '사천식탕수육', '가쯔오장국', '버섯불고기', '고추장찌개', '오이무침', '두부양념조림', '양배추쌈', '배추된장국', '부추깻잎전', '닭볶음탕', '떡국', '식혜', '시금치프리타타', '유채나물', '제육볶음', '미소장국', '탕수어', '과일샐러드', '마늘쫑무침', '비빔밥', '돈육김치볶음', '사각어묵볶음', '쫑상추무침', '된장찌개', '감자채전', '오이도라지무침', '순살파닭', '미역국', '사과고구마그라탕', '돈육강정', '오복지무침', '맑은국', '곤드레밥', '가자미튀김', '육개장', '언양식불고기', '치커리무침', '미소장국', '과일샐러드', '참치회덮밥', '또띠아피자', '락교', '마늘쫑볶음', '부추생채', '훈제오리구이', '명이절임', '근대국', '두부구이', '함박스테이크', '오이무침', '시래기국', '고기전', '단호박영양밥', '콩나물무침', '오징어숙회무침', '연두부탕', '해물된장찌개', '아삭고추무침', '묵은지닭찜', '깐풍두부', '열무김치', '수제피클', '김치필라프', '콥샐러드', '크림스프', '토마토스파게티', '치커리사과유자청무침', '고등어구이', '닭갈비', '순두부찌개', '열무김치', '땅콩조림', '등갈비김치찜', '콩나물냉채', '어묵국', '모듬묵흑임자샐러드', '허니버터치킨', '오이무침', '미역장국', '불고기비빔밥', '시금치초무침', '동태전', '돼지갈비찜', '아욱국', '황태국', '어묵꽈리고추조림', '오리고추장볶음', '미역오이초무침', '청경채생채', '꽃맛살샐러드', '콩나물밥', '치킨핑거', '가쯔오장국', '닭오븐구이', '시금치나물', '들깨시래기국', '달래두부무침', '오징어튀김', '계란국', '시저샐러드', '열무나물', '김치제육덮밥', '계란찜', '쇠고기낙지볶음', '미역국', '세발나물생채', '돈육강정', '도라지초무침', '모듬버섯볶음', '차돌박이찌개', '유부장국', '언양식불고기', '단호박영양밥', '주꾸미초무침', '파래김', '어묵탕', '감자채볶음', '오이무침', '동파삼겹수육', '미트볼조림', '굴비구이', '오곡밥', '보름나물', '부럼', '두부김치국', '소고기숙주볶음', '매운콩나물국', '골뱅이무침', '유채나물', '실곤약흑임자무침', '냉이된장찌개', '레몬탕수육', '양념깻잎지', '닭데리야끼조림', '바나나', '비빔야채만두', '팽이장국', '곤드레밥', '사각어묵볶음', '동태찌개', '쫑상추무침', '돈육간장볶음', '김밥볶음밥', '크림새우', '미니짬뽕', '또띠아칩', '하와이안샐러드', '우엉잡채', '쇠고기샤브국', '미역오이초무침', '유자청제육볶음', '고기전', '주꾸미볶음', '차돌된장찌개', '봄동겉절이', '미소장국', '사과고구마그라탕', '메밀전병만두', '나물비빔밥', '도라지오이생채', '오징어초무침', '열무김치', '간장마늘치킨', '호박채나물', '근대국', '치커리만다린무침', '짬뽕불고기', '새송이버섯전', '들깨미역국', '돈육김치볶음', '계란찜', '깍두기', '실곤약초무침', '된장찌개', '늙은호박전', '부추생채', '열무김치', '훈제오리구이', '양파절임', '부대찌개', '과일샐러드', '팽이장국', '마늘쫑무침', '낙지비빔밥', '치킨텐더', '두부계란부침', '북어국', '닭갈비', '콩나물무침', '소고기장조림', '황태양념구이', '아욱국', '세발나물생채', '소고기버섯볶음', '치커리유자청무침', '깍두기', '모듬묵', '두부김치국', '꽃맛살볶음', '오징어볶음', '양념깻잎지', '쇠고기무국', '콩나물밥', '고추장찌개', '오이무침', '떡잡채', '갈치구이', '돌나물무침', '김치전', '수원왕갈비통닭', '치킨무', '미역국', '브로컬리', '건새우아욱국', '곤드레밥', '돈육간장볶음', '쫄면야채무침', '콩나물국', '소불고기', '오이도라지생채', '옥수수계란찜', '대파육개장', '가자미엿장조림', '청경채겉절이', '꼬들단무지무침', '골뱅이야채무침', '카레라이스', '감자만두', '애기새송이버섯볶음', '미소시루', '꼬들빼기김치', '열무김치', '가지완자튀김', '순두부찌개', '해물돼지갈비찜', '야채스틱', '석박지', '부추겉절이', '설렁탕', '동태포전', '돈육굴소스볶음', '아삭고추쌈장무침', '열무김치', '오징어숙회무침', '어묵국', '대구탕', '차돌박이숙주볶음', '시금치나물', '브로컬리', '조갯살무국', '고춧잎볶음', '레몬유린기', '마파두부덮밥', '콩나물냉채', '햄계란말이', '콩비지찌개', '고추장고구마순무침', '짜장닭볶음', '감자채볶음', '칠리새우', '풋마늘대무침', '갈비탕', '봄동전', '미역초무침', '오리양념불고기', '시래기국', '깍두기', '소고기미역국', '치커리사과무침', '해물누룽지탕', '김치고기전', '파스타샐러드', '오이무침', '유부주머니국', '목살스테이크', '계란찜', '배추된장국', '모듬쌈', '제육볶음', '봄나물비빔밥', '마늘쫑무침', '맑은국', '시저샐러드', '치킨너겟', '오꼬노미계란말이', '주꾸미볶음', '연두부', '우렁된장찌개', '고추장찌개', '안동찜닭', '모듬버섯볶음', '참나물생채무침', '삼겹살수육', '배추깻잎', '오복지무침', '들깨시래기국', '감자채볶음', '참치김치볶음', '등갈비김치찜', '경상도식소고기국', '치커리오이무침', '부추무침', '순대국밥', '살구복숭아주스', '고추튀김', '오이', '간장깻잎지', '음료', '오리불고기', '백김치', '미역국', '꽃게된장국', '후르츠탕수육', '유채나물무침', '두부양념조림', '닭강정', '계란국', '짜요짜요', '셀프무쌈말이', '낙지비빔밥', '영양부추생채', '소고기브로컬리볶음', '시금치부침개', '두부김치국', '미니우동', '고구마고로케', '고기듬뿍카레라이스', '실곤약무침', '오렌지자몽샐러드', '참치야채샐러드', '치즈닭갈비', '고구마치즈빵', '오렌지', '아욱국', '숙주나물', '주꾸미세비체샐러드', '새우튀김', '열무김치', '참나물땅콩가루무침', 'LA갈비구이', '청포도', '홍초콩나물국', '얼갈이겉절이', '육전', '해물잡채', '전복장각삼계탕', '소고기당면국', '바질페스토스파게티', '연어스테이크', '비트무피클', '머위된장무침', '황태국', '우엉불고기', '오이사과생채', '야채계란말이', '카프레제샐러드', '오향장육', '양배추', '깍두기', '식혜', '베리베리샐러드', '멸치국수', '꼬막미나리초무침', '춘천닭갈비', '황태포무침', '단호박견과류구이', '나주곰탕', '가지나물무침', '오미자주스', '새우완자탕', '두릅새송이초무침', '해물볶음우동', '연어훈제샐러드', '자몽에이드', '고구마치즈돈까스', '알타리김치', '모듬소세지버섯구이', '문어오이미역초무침', '요거트드링킹', '카레닭볶음', '그린샐러드', '대구지리탕', '브로콜리새송이메추리알조림', '열무김치', '육개장', '양파호박채나물', '홍삼', '크란치바', '수원왕갈비', '제첩두부국', '깻잎전', '건강비빔밥', '이벤트행사', '황태채마늘쫑무침', '새우날치알볶음밥', '춘권튀김', '망고', '장어구이', '복숭아아이스티', '오이무초무침', '배추김치', '곰취', '삼겹살더덕고추장구이', '오렌지주스', '적포도', '버섯들깨국', '콩나물부추무침', '배추김치', '석박지', '황도샐러드', '포도주스', '왕갈비탕', '해물전', '꼬시래기무초무침', '쫄면야채무침', '과일', '프로바이오틱', '양배추채무침', '냉메밀소바', '히레카츠', '견과류연근조림', '치커리유자샐러드', '알로에주스', '크레미계란말이', '깍두기', '아욱수제비국', '통오이고추무침', '해물섞어찜', '양념', '마시는요거트', '냉족발야채무침', '사과', '돈육김치찌개', '백김치', '두부참치조림', '오징어링', '새우튀김', '꽃맛살과일샐러드', '호박숙', '열무물국수', '소갈비찜', '골뱅이야채무침', '닭개장', '인절미츄러스맛탕', '떡갈비', '감자채볶음', '배즙', '야채스틱', '요플레', '소고기콩나물밥', '들깨미역국', '고추장누들떡볶이', '바싹불고기', '파인애플', '사과즙', '생선까스', '블랙페퍼쉬림프', '꽈리고추찹쌀무침', '유부주머니된장국', '해초샐러드', '연두부탕', '모듬쌈', '시금치프리타타', '제육볶음', '명엽채볶음', '들깨수제비', '닭볶음탕', '도토리묵무침', '닭살카레라이스', '비빔메밀면', '후르츠탕수육', '견과류멸치볶음', '미역미소시루', '두부스테이크', '주꾸미볶음', '차돌된장찌개', '청경채만다린생채', '소불고기덮밥', '어묵볶음', '야채비빔만두', '맑은국', '땅콩조림', '매콤콩나물국', '쫑상추무침', '짬뽕불고기', '연두부', '동그랑땡구이', '고추잡채', '청경채겉절이', '시래기국', '무채국', '꽁치한마리구이', '열무김치', '만두탕수육', '쨔샤이무침', '곤드레밥', '깍두기', '오징어볶음', '콩비지찌개', '옥수수계란찜', '간장깻잎지', '유부장국', '오이지무침', '레몬유린기', '마파두부덮밥', '두릅소고기샐러드', '콩나물잡채', '소고기미역국', '닭갈비', '셀프무쌈말이', '돈육고추장볶음', '모듬야채쌈', '사각어묵무침', '된장찌개', '매실짱아찌', '깐풍육', '강된장', '가쯔오장국', '시저샐러드', '열무보리비빔밥', '녹두전', '소고기장조림', '비름나물', '육개장', '베이컨김치볶음밥', '냉모밀국수', '깍두기', '야채고로케', '수박', '해물부추전', '오삼불고기', '대구탕', '해물동그랑땡', '오이무침', '요구르트', '두부구이', '시금치된장국', '닭볶음탕', '미역줄기볶음', '오이사과냉국', '치킨핑거', '깻잎순무침', '나물비빔밥', '맛살떡샐러드', '요구르트', '토마토프리타타', '굴비구이', '매운소고기국', '도라지오이무침', '양파링카레튀김', '팽이무국', '참나물생채', '돈육버섯고추장덮밥', '요구르트', '모듬어묵볶음', '고구마순볶음', '냉모밀국수', '매운돈갈비찜', '메밀전병', '콩자반', '어묵잡채', '대파육개장', '홍어미나리초무침', '카레라이스', '과일요거트샐러드', '부추고추전', '요구르트', '동태알탕', '쫄면야채무침', '감자채파프리카볶음', '춘천닭갈비', '옥수수계란찜', '매운소고기무국', '오리불고기', '콩나물맛살냉채', '핫도그', '물만두국', '양배추숙쌈', '석박지', '오징어초무침', '콩자반', '매실음료', '통들깨부추무침', '한방설렁탕', '채소스틱', '건새우호박채전', '도라지오이초무침', '시금치된장국', '닭볶음탕', '시저샐러드', '돈육고추장볶음', '콩자반', '마카로니샐러드', '맑은콩나물국', '쌈채소', '무채와사비무침', '숙주미나리무침', '만두찜', '레몬유린기', '마파두부덮밥', '미역미소시루', '건새우무채국', '쫑상추무침', '비타민흑임자샐러드', '두부커틀렛', '쭈꾸미삼겹고추장볶음', '열기어구이', '도토리묵', '무말랭이무침', '콩가루배춧국', '비빔밥', '치커리만다린샐러드', '장각삼계탕', '아삭고추쌈장무침', '가지찜', '해물잡채', '석박지', '양배추샐러드', '김치우동', '깍둑오이초무침', '수제돈가스', '호박새우젓볶음', '돈육김치볶음', '모둠채소무침', '호박맑은국', '두부맛전', '브로콜리숙회', '타래과', '치자밥', '닭개장', '꽃맛살샐러드', '양장피', '고등어카레구이', '오리불고기', '로스트치킨샐러드', '오이소배기', '아욱국', '매운콩나물무침', '병아리콩밥', '깻잎통닭', '김치전', '소고기미역국', '치킨무', '새싹샐러드', '콘슬로우', '실곤약냉채', '양배추샐러드', '만가닥버섯불고기', '열무나물', '해물수제비국', '토마토스크램블', '황태미역국', '얼갈이나물', '안동찜닭', '호박된장찌개', '꽈리고추감자조림', '가자미엿장구이', '토마토샐러드', '기장밥', '목살스테이크', '우거지국', '삼겹살수육', '풋고추', '부추무침', '모둠쌈', '수박화채', '그린샐러드', '보쌈김치', '브로콜리깨소스무침', '후라이드', '팽이장국', '그린샐러드', '낙지비빔밥', '미나리초무침', '양배추샐러드', '새우까스', '마늘종숙회', '어묵고추장떡', '짜글이돼지찌개', '골뱅이채소무침', '오리대패불고기', '김치두부국', '열무나물', '오징어튀김', '냉이된장국', '수수밥', '견과류샐러드', '삼색콜리', '돈갈비찜', '장어강정', '오이양파무침', '꽈리고추메추리알조림', '탱크보이', '맑은콩나물국', '눈꽃치즈샐러드', '찐옥수수', '쭈삼불고기', '검정콩밥', '파프리카해초무침', '콜리샐러드', '건새우아욱국', '새송이전', '분홍소시지전', '얼갈이된장국', '닭다리바베큐오븐구이', '유부채소겨자냉채', '시리얼샐러드', '아귀순살찜', '해파리무침', '뼈없는감자탕', '생선까스', '근대나물', '푸실리파스타샐러드', '매운쇠고기버섯볶음', '양배추', '렌틸콩밥', '떡국', '수떡수떡화채', '더덕무침', '청경채깨장나물', '열무김치', '오징어볶음', '타꼬야끼', '그린샐러드', '북어채국', '참나물두부무침', '유부장국', '부들어묵볶음', '황도샐러드', '바베큐폭립', '차조밥', '사과푸딩샐러드', '살살치킨', '부추와사비무침', '브로콜리버섯볶음', '동태탕', '나쵸콥샐러드', '보리밥', '치즈닭갈비', '단호박', '상추무침', '김말이튀김', '부대찌개', '매콤해물볶음', '깍두기', '채소계란말이', '그린샐러드', '맑은버섯육개장', '고구마순무침', '검은깨올방개묵무침', '오리불고기', '츄러스', '순남시래기국', '마카로니콘샐러드', '갈릭버섯탕수', '오향장육', '크루통샐러드', '김치볶음', '모둠쌈', '고추지무침', '요구르트', '어묵국', '콩나물두루치기', '더덕오이생채', '버섯메추리알장조림', '바지락미역국', '고구마순볶음', '카레닭찜', '수수밥', '시금치된장국', '시리얼', '김치빈대떡', '석박지', '얼갈이나물', '나주곰탕', '적어구이', '그린샐러드', '한식잡채', '다슬기아욱국', '돈사태김치찜', '검정콩밥', '열무김치', '삼색유자청무침', '닭살겨자냉채', '요구르트', '모닝샌드', '견과류샐러드', '소불고기', '순두부찌개', '코다리강정', '노각생채', '황태콩나물해장국', '가지고추장무침', '시금치프리타타', '요구르트', '우거지국', '매콤돼지갈비찜', '삼색만두채소무침', '우무콩국', '호박채나물볶음', '황도샐러드', '기장밥', '바나나', '꽃맛살샐러드', '냉족발야채무침', '부추샐러드', '마파두부', '열무김치', '찰보리밥', '치킨핑거', '쫄면채소무침', '그린샐러드', '매운계란파국', '오징어초무침', '옹심이만두국', '대패삽겹숙주볶음', '양배추숙쌈', '딸기푸딩', '생선까스', '마카로니치즈범벅', '오이사과무침', '나쵸칩', '아욱된장국', '짬뽕국', '취나물쌈장무침', '군만두', '짜장소스', '계란채소볶음밥', '열대과일', '와사비무쌈', '수육', '홍합살미역국', '매콤볼어묵볶음', '콩나물볶음', '수수밥', '그린샐러드', '수완왕갈비맛통닭', '돈육김치찌개', '미나리초장무침', '순대채소볶음', '참나물두부무침', '잔치국수', '알타리김치', '모둠쌈', '사과나무주스', '오리고추장불고기', '배추국', '미트볼채소볶음', '귀리밥', '견과류샐러드', '오이양파무침', '류산슬', '순두부찌개', '가자미엿장구이', '햇고구마오븐구이', '유부장국', '목살찹스테이크', '할라피뇨채소피클', '감자수제비국', '쇠고기낙지볶음', '건새우호박볶음', '비엔나떡조림', '버섯국', '시리얼샐러드', '통도라지고추장구이', '병아리콩', '주꾸미브로콜리숙회', '춘천닭갈비', '옹심이만둣국', '청경채겉절이', '딸기푸딩', '과일샐러드', '매운콩나물국', '김말이강정', '수수밥', '참나물무침', '돈갈비찜', '오향장육', '석박지', '부추고추장무침', '한식잡채', '갈비탕', '실곤약야채무침', '북엇국', '찰보리밥', '해물파전', '나쵸칩', '그린샐러드', '콩나물파채불고기', '겉절이김치', '고구마순볶음', '닭다리살스테이크', '황도샐러드', '감자조림', '동태탕', '꽁치캔김치조림', '파프리카해초무침', '식혜', '사과', '오리대패불고기', '떡만두국', '춘권튀김', '쫄면채소무침', '건새우미역국', '매운소불고기', '요거트파르페', '열무김치', '두부강정', '단호박카레라이스', '치커리무침', '고추장누들떡볶이', '통계란꼬치어묵탕', '시금치샐러드', '바베큐장각오븐구이', '인절미', '꽃게탕', '파프리카감자채볶음', '버섯초무침', '총각김치', '부추무침', '렌틸콩밥', '닭살겨자냉채', '우거지된장국', '훈제오리볶음', '오이볶음', '찹쌀호떡', '김칫국', '시금치고추장나물', '장어고추장양념구이', '수수밥', '배도라지주스', '청양부추전', '알배기', '깻잎', '순남시래기국', '만다린샐러드', '츄러스채소맛탕', '두부된장찌개', '도라지나물볶음', '겉절이김치', '돈갈비양념구이', '홍합살무국', '청경채무침', '시리얼샐러드', '두반장가지볶음', '매운쇠고기국', '열무김치', '갈릭순살치킨', '브로콜리쌈장무침', '임연수무조림', '얼갈이된장국', '단호박어묵탕수', '푸딩', '쭈꾸미삼겹살볶음', '쌈추', '크루통샐러드', '유부김칫국', '아귀콩나물찜', '연근유자피클', '찰보리밥', '치킨까스', '요플레', '미역미소시루국', '토마토계란볶음', '차돌비빔국수', '핫도그', '쌈추겉절이', '돼지고추장불고기', '견과류샐러드', '삼색물만두무침', '겉절이김치', '버섯잡채', '곤드레밥', '양념장', '된장찌개', '건새우호박채전', '북엇국', '춘천닭갈비', '오이생채', '브로콜리숙회', '생선까스', '묵은지닭볶음탕', '맑은콩나물국', '요구르트', '오삼불고기', '쇠고기미역국', '계란말이', '유부채소겨자무침', '감자고구마샐러드', '기장밥', '석박지', '방풍나물', '삼계탕', '고기완자전', '도토리묵', '감자채볶음', '단감', '깐풍기', '차조밥', '겉절이김치', '적어양념장구이', '쇠고기숙주볶음', '통들깨부추무침', '건새우아욱국', '무생채', '돼지김치찌개', '고구마오븐구이', '얼갈이나물', '당면채소무침', '대패삼겹살볶음', '수수밥', '동태매운탕', '상추', '어묵고추장볶음', '바지락냉이국', '전주비빔밥', '찰떡떡갈비조림', '모둠버섯볶음', '완두콩밥', '물미역', '홍합국', '과일그라탕', '쇠고기낙지볶음', '알타리김치', '매콤해물볶음', '수제탕수육', '근대된장국', '치커리오이무침', '매운족발볶음', '해물까스', '돌나물유자청무침', '아욱된장국', '동파육', '귀리밥', '도라지볶음', '꽈배기도넛', '겉절이김치', '청경채', '미역국', '석박지', '개성식메밀부침개', '골뱅이채소무침', '참나물무침', '한방설렁탕', '북엇국', '수수밥', '숙주미나리무침', '갓김치', '타꼬야끼', '해물돼지갈비찜', '톳무침', '수제두부까스', '안동찜닭', '시금치된장국', '나쵸', '메추리알탕수', '바나나', '오리주물럭', '부추양파무침', '호박된장찌개', '미소장국', '미니버거', '해파리냉채', '찰보리밥', '두부고기양념찜', '알리오올리오파스타', '겉절이김치', '비엔나채소볶음', '오이쑥갓생채', '라면땅', '순두부찌개', '얼갈이된장국', '물미역', '검정콩밥', '가자미유린기', '쇠고기당면볶음', '황도샐러드', '제육고추장불고기', '쌈추', '콩나물파채무침', '황태채국', '등심돈까스', '홍시', '솎음열무나물', '어묵매운탕', '크루통샐러드', '불낙찌개', '시금치나물', '코다리강정', '차조밥', '탕평채', '고추장감자조림', '깍두기', '해물누룽지탕', '콩비지김치찌개', '수제과일잼샌드', '돼지간장불고기', '조갯살아욱국', '겉절이김치', '취나물무침', '강낭콩밥', '고기완자전', '팽이된장국', '오징어볶음', '이연복의', '청경채찜', '붕어빵', '스팸계란전', '쑥갓나물', '굴미역국', '닭간장조림', '눈꽃치즈샐러드', '펜네파스타샐러드', '오프룻요거트', '찰보리밥', '삼색유자청무침', '축하떡', 'LA갈비구이', '한식잡채', '김치두부국', '채소프리타타', '팽이장국', '산고추지무침', '메밀전병', '겉절이김치', '오향장육', '팥밥', '양배추', '더덕구이', '된장찌개', '육개장', '톳두부무침', '갈치감자조림', '두부구이', '어묵간장조림', '유부주머니국', '삼겹살김치볶음', '우거지국', '아귀콩나물찜', '훈제오리마늘볶음', '꿀호떡', '기장밥', '봄동나물', '치즈계란찜', '크래미해초무침', '만가닥버섯불고기', '호박고추장찌개', '겉절이김치', '북엇국', '수수밥', '깍두기', '고등어카레구이', '알배기', '제육고추장불고기', '닭다리살스테이크', '단호박채소전', '진미채오이무침', '근대국', '석박지', '쫄면채소무침', '청포도주스', '풋고추양파쌈장무침', '과일샐러드', '굴떡국', '건취나물볶음', '콩나물파채불고기', '차조밥', '쌈배추', '해물완자전', '시금치나물', '황도샐러드', '가자미무조림', '겉절이김치', '세발나물무침', '그린샐러드', '오이소박이', '문어꽈리고추조림', '양배추샐러드', '수제돈까스', '달래무침', '동태알탕', '청양고추계란말이', '오삼불고기', '유채나물무침', '새알팥죽', '바지락살무국', '소고기잡채', '토마토두부카프레제', '매운쇠고기샤브샤브', '마늘바게트', '봄동겉절이', '냉이나물무침', '차조밥', '하와이언함박스테이크', '건새우아욱국', '마파무조림', '고등어김치말이찜', '호박된장국', '깍두기', '오리대패불고기', '파래김', '소고기떡국', '콩나물잡채', '봉추찜닭', '오미산적', '동태전', '식혜', '보리밥', '콩샐러드', '과일그라탕', '유부된장국', '봄동숙', '돈육도라지고추장볶음', '오리들깨탕', '꽁치한마리레몬구이', '미니핫도그', '파프리카계란말이', '아삭이고추된장무침', '수수밥', '무쌈채소말이', '참치채소볶음', '아욱된장국', '목살스테이크', '양배추쌈', '콩나물맑은국', '매운소고기낙지볶음', '메추리알짜장떡볶이', '옥수수계란찜', '오리대패불고기', '쪽파무침', '미역국', '콩나물볶음', '버블샐러드', '검정콩밥', '쑥갓나물', '된장찌개', '상추쌈', '돈육두루치기', '타코야끼', '시금치된장국', '겉절이김치', '두부까스', '매운호박볶음', '소갈비찜', '차조밥', '콩나물김칫국', '지중해샐러드', '석박지', '뼈없는감자탕', '고등어구이', '솎음열무나물', '채소스틱', '춘천닭갈비', '바나나', '그린샐러드', '청경채나물', '감자채카레볶음', '어묵국', '맑은콩나물국', '그린샐러드', '기장밥', '삼겹살김치찜', '떡잡채', '치커리오이무침', '단호박물김치', '수제함박스테이크', '견과류마카로니범벅', '생깻잎지', '아욱국', '동파육', '냉이된장국', '봄동전', '수수밥', '무생채', '청경채', '올방개묵무침', '계란파국', '파프리카해초무침', '전주비빔밥', '요거닭', '깐풍연근', '양념김', '봄동겉절이', '돈육간장불고기', '연두부', '전주식콩나물해장국', '귀리밥', '양배추샐러드', '교촌간장치킨', '가지고추장무침', '요구르트', '들깨미역국', '옥수수콘치즈구이', '오꼬노미계란말이', '대구지리', '매운돈갈비찜', '상추무침', '보리밥', '오리주물럭', '수제삼색무쌈', '청양부추전', '우렁된장찌개', '겉절이김치', '수제돈까스', '동초나물무침', '팽이장국', '가자미조림', '부추고추장무침', '배추들깨국', '오리대패불고기', '시금치프리타타', '닭살데리야끼조림', '팥밥', '사과푸딩', '세발나물무침', '버섯탕수', '알타리김치', '부대찌개', '매콤해물볶음', '감자조림', '콥샐러드', '미나리나물', '아욱국', '고등어김치말이찜', '브로콜리숙회', '석박지', '볼어묵굴소스볶음', '설렁탕', '차조밥', '북엇국', '솎음열무나물무침', '채소전', '닭볶음탕', '돈수육', '매콤어묵볶음', '감자양파국', '콩나물파채무침', '적어양념장구이', '도라지오이초무침', '장각백숙', '기장밥', '채소스틱', '겉절이김치', '짬뽕국', '수제찹쌀꿔바로우', '그린샐러드', '계란후라이', '단무지락교무침', '유니짜장밥', '참나물겉절이', '떡국', '소갈비찜', '한식잡채', '오이스틱', '탕평채', '수수밥', '깍두기', '육개장', '수박', '닭살겨자냉채', '미니쌀국수', '동초나물무침', '스프링롤', '삼겹살고추장구이', '알타리김치', '완두콩밥', '김치어묵탕', '수원왕갈비통닭', '연근깨소스무침', '두부양념조림', '유부장국', '마약계란장조림', '김치전', '해물누룽지탕', '마카로니치즈범벅', '세발나물무침', '안동찜닭', '요구르트', '호박고추장찌개', '감자채전', '보리밥', '파스타샐러드', '깍두기', '치커리무침', '등갈비김치찜', '근대국', '쇠고기숙주볶음', '해물탕', '물미역초고추장무침', '맛살계란말이', '더덕양념구이', '석박지', '생선까스', '나주곰탕', '방풍나물무침', '그린샐러드', '베이비크랩강정', '옹심이국', '오곡밥', '부럼', '목살스테이크', '양배추샐러드', '치즈불닭', '베이컨감자볶음', '아욱국', '매운콩나물무침', '동파육', '황태미역국', '참나물상추겉절이', '망고푸딩', '느타리버섯볶음', '쑥갓두부무침', '수수부꾸미', '매운쇠고기샤브샤브국', '갈치조림', '옥수수밥', '알타리김치', '닭다리튀김', '쑥국', '골뱅이채소무침', '미나리나물', '얼갈이된장국', '깻잎무쌈', '오리불고기', '갈비탕', '깍두기', '매생이전', '순살닭강정', '도라지오이생채', '차조밥', '냉이된장국', '도토리묵', '봄나물비빔밥', '쥬시쿨', '콥샐러드', '수제고기육전', '귀리밥', '시금치고추장나물무침', '타워함박스테이크', '문어꽈리고추조림', '콩가루배추국', '부추무침', '목살구이', '겉절이김치', '쌈채소', '어묵매운탕', '유부채소겨자냉채', '깍두기', '근대된장국', '비엔나브로콜리볶음', '묵은지닭찜', '요구르트', '건다래순볶음', '콩샐러드', '수수밥', '고등어구이', '어묵잡채', '대파육개장', '두부까스', '물만둣국', '제육미나리볶음', '겉절이김치', '아삭이고추된장무침', '양배추샐러드', '머위나물', '수제오미산적', '열무된장국', '기장밥', '장각허브오븐구이', '버섯매운탕', '오이생채', '그린샐러드', '돈갈비찜', '황태국', '콩나물불고기', '쇠고기납작당면볶음', '삼색유자청무침', '마카로니콘샐러드', '깻잎쌈', '유채나물된장무침', '검정콩밥', '장어강정', '요구르트', '순남시래기국', '겉절이김치', '건새우호박채전', '비름나물', '바베큐폭립', '미역국', '양배추샐러드', '짜파치킨', '쫄면채소무침', '차조밥', '아욱국', '취나물무침', '가지나물', '깍두기', '소불고기', '풋마늘대무침', '돈육김치찌개', '메추리알떡볶이', '요거트푸딩', '세발나물무침', '동태매운탕', '그린샐러드', '차돌박이구이', '돈수육', '완두콩밥', '유부장국', '수제보쌈김치', '브로콜리땅콩소스무침', '모듬채소', '방풍나물', '허니순살치킨', '버섯초장무침', '콩가루배추국', '석박지', '보리밥', '바나나', '순대국밥', '통들깨부추무침', '해물동그랑땡채소볶음', '채소스틱', '꼬시래기무침', '김말이강정', '닭개장', '돈육춘장볶음', '쇠고기미역국', '춘천닭갈비', '가지두반장볶음', '오지치즈후라이', '귀리밥', '매콤소갈비찜', '돌나물초장무침', '시리얼샐러드', '깻잎완자전', '순두부백탕', '비빔냉면', '오이나물볶음', '돈육간장불고기', '냉이국', '겉절이김치', '맑은떡국', '유채나물무침', '옥수수밥', '가자미구이', '석박지', '청포묵', '사골우거지국', '그린샐러드', '비름나물고추장무침', '해물누룽지탕']\n",
            "1562\n"
          ],
          "name": "stdout"
        }
      ]
    },
    {
      "cell_type": "code",
      "metadata": {
        "id": "5yzk7UdDO1sS"
      },
      "source": [
        "def menu_making(col):\n",
        "    array = []\n",
        "    for i in col:\n",
        "        for j in i:\n",
        "            array.append(j)\n",
        "    return list(set(array))\n",
        "\n",
        "breakfast_s = menu_making(all_df['breakfast'])\n",
        "lunch_s = menu_making(all_df['lunch'])\n",
        "dinner_s = menu_making(all_df['dinner'])\n",
        "# print(breakfast_list[:10])\n",
        "# print(lunch_list[:10])\n",
        "# print(dinner_list[:10])\n",
        "# print(len(breakfast_list), len(lunch_list), len(dinner_list))\n"
      ],
      "execution_count": 21,
      "outputs": []
    },
    {
      "cell_type": "code",
      "metadata": {
        "colab": {
          "base_uri": "https://localhost:8080/"
        },
        "id": "YoRizuLnTLA_",
        "outputId": "67c5ef53-38d8-408f-fbab-b5f3a0a53500"
      },
      "source": [
        "print(len(breakfast_s), len(lunch_s), len(dinner_s))"
      ],
      "execution_count": 22,
      "outputs": [
        {
          "output_type": "stream",
          "text": [
            "794 1562 1568\n"
          ],
          "name": "stdout"
        }
      ]
    },
    {
      "cell_type": "code",
      "metadata": {
        "colab": {
          "base_uri": "https://localhost:8080/"
        },
        "id": "OesmiY0_aypI",
        "outputId": "28de6474-f389-4937-dafc-f09f8665c3d7"
      },
      "source": [
        "all_df['lunch'][0]"
      ],
      "execution_count": 23,
      "outputs": [
        {
          "output_type": "execute_result",
          "data": {
            "text/plain": [
              "['오징어찌개', '계란찜', '쇠불고기', '요구르트', '청포묵무침']"
            ]
          },
          "metadata": {
            "tags": []
          },
          "execution_count": 23
        }
      ]
    },
    {
      "cell_type": "code",
      "metadata": {
        "colab": {
          "base_uri": "https://localhost:8080/"
        },
        "id": "UF5VUheZh9BH",
        "outputId": "7a46a10f-df3e-4ecc-ab50-e5410a1a3287"
      },
      "source": [
        "all_df['dinner'][0]"
      ],
      "execution_count": 24,
      "outputs": [
        {
          "output_type": "execute_result",
          "data": {
            "text/plain": [
              "['건파래무침', '자반고등어구이', '육개장', '두부조림']"
            ]
          },
          "metadata": {
            "tags": []
          },
          "execution_count": 24
        }
      ]
    },
    {
      "cell_type": "code",
      "metadata": {
        "colab": {
          "base_uri": "https://localhost:8080/"
        },
        "id": "q1hfDavyTdIf",
        "outputId": "58145b76-c9c1-4014-c2d4-87fddf6776e7"
      },
      "source": [
        "train_df = all_df[:len(train_df)]\n",
        "test_df = all_df[len(train_df):]\n",
        "print(train_df.shape, test_df.shape)"
      ],
      "execution_count": 25,
      "outputs": [
        {
          "output_type": "stream",
          "text": [
            "(1205, 15) (50, 15)\n"
          ],
          "name": "stdout"
        }
      ]
    },
    {
      "cell_type": "markdown",
      "metadata": {
        "id": "ieAC2UUXEObw"
      },
      "source": [
        "#"
      ]
    },
    {
      "cell_type": "markdown",
      "metadata": {
        "id": "rX1t1qf7kpum"
      },
      "source": [
        "## OneHot Encoding"
      ]
    },
    {
      "cell_type": "code",
      "metadata": {
        "id": "vJCwEIDGxK8G"
      },
      "source": [
        "from sklearn.decomposition import SparsePCA"
      ],
      "execution_count": 26,
      "outputs": []
    },
    {
      "cell_type": "code",
      "metadata": {
        "id": "uWrSgG_HejCn"
      },
      "source": [
        "lunch_oh = pd.DataFrame(np.zeros([len(all_df), len(lunch_s)]), columns=lunch_s)\n",
        "dinner_oh = pd.DataFrame(np.zeros([len(all_df), len(dinner_s)]), columns=dinner_s)"
      ],
      "execution_count": 27,
      "outputs": []
    },
    {
      "cell_type": "code",
      "metadata": {
        "colab": {
          "base_uri": "https://localhost:8080/"
        },
        "id": "uKRCjSAagP5y",
        "outputId": "146f6e3a-959d-45c6-f4a1-f3f86eb27d33"
      },
      "source": [
        "for i in range(len(all_df['lunch'])):\n",
        "    for m in all_df['lunch'][i]:\n",
        "        lunch_oh.loc[i, m] = 1\n",
        "\n",
        "lunch_oh.loc[0, all_df['lunch'][0]] "
      ],
      "execution_count": 28,
      "outputs": [
        {
          "output_type": "execute_result",
          "data": {
            "text/plain": [
              "오징어찌개    1.0\n",
              "계란찜      1.0\n",
              "쇠불고기     1.0\n",
              "요구르트     1.0\n",
              "청포묵무침    1.0\n",
              "Name: 0, dtype: float64"
            ]
          },
          "metadata": {
            "tags": []
          },
          "execution_count": 28
        }
      ]
    },
    {
      "cell_type": "code",
      "metadata": {
        "colab": {
          "base_uri": "https://localhost:8080/"
        },
        "id": "b96szJflh6FX",
        "outputId": "2d71d99e-0240-454f-a45f-6bc3f60162c3"
      },
      "source": [
        "for i in range(len(all_df['dinner'])):\n",
        "    for m in all_df['dinner'][i]:\n",
        "        dinner_oh.loc[i, m] = 1\n",
        "\n",
        "dinner_oh.loc[0, all_df['dinner'][0]] "
      ],
      "execution_count": 29,
      "outputs": [
        {
          "output_type": "execute_result",
          "data": {
            "text/plain": [
              "건파래무침      1.0\n",
              "자반고등어구이    1.0\n",
              "육개장        1.0\n",
              "두부조림       1.0\n",
              "Name: 0, dtype: float64"
            ]
          },
          "metadata": {
            "tags": []
          },
          "execution_count": 29
        }
      ]
    },
    {
      "cell_type": "code",
      "metadata": {
        "colab": {
          "base_uri": "https://localhost:8080/",
          "height": 558
        },
        "id": "ocFUKoHr-I7R",
        "outputId": "0586a08d-4a58-438b-82d4-804eb56a4796"
      },
      "source": [
        "dinner_oh"
      ],
      "execution_count": 30,
      "outputs": [
        {
          "output_type": "execute_result",
          "data": {
            "text/html": [
              "<div>\n",
              "<style scoped>\n",
              "    .dataframe tbody tr th:only-of-type {\n",
              "        vertical-align: middle;\n",
              "    }\n",
              "\n",
              "    .dataframe tbody tr th {\n",
              "        vertical-align: top;\n",
              "    }\n",
              "\n",
              "    .dataframe thead th {\n",
              "        text-align: right;\n",
              "    }\n",
              "</style>\n",
              "<table border=\"1\" class=\"dataframe\">\n",
              "  <thead>\n",
              "    <tr style=\"text-align: right;\">\n",
              "      <th></th>\n",
              "      <th>볼어묵곤약볶음</th>\n",
              "      <th>아몬드멸치볶음</th>\n",
              "      <th>고추장찌개</th>\n",
              "      <th>콩비지찌개</th>\n",
              "      <th>비엔나케찹볶음</th>\n",
              "      <th>어묵곤약볶음</th>\n",
              "      <th>찐감자</th>\n",
              "      <th>꼬막찜</th>\n",
              "      <th>시래기들깨탕</th>\n",
              "      <th>락교</th>\n",
              "      <th>근대나물무침</th>\n",
              "      <th>타코야끼</th>\n",
              "      <th>사과</th>\n",
              "      <th>오징어순대볶음</th>\n",
              "      <th>호박젓국찌개</th>\n",
              "      <th>바지락살국</th>\n",
              "      <th>쇠고기미역국</th>\n",
              "      <th>달래오이생채</th>\n",
              "      <th>제육춘장볶음</th>\n",
              "      <th>마늘간장치킨</th>\n",
              "      <th>건파래볶음</th>\n",
              "      <th>가자미구이</th>\n",
              "      <th>바지락수제비</th>\n",
              "      <th>만두튀김</th>\n",
              "      <th>물파래전</th>\n",
              "      <th>두부미소된장국</th>\n",
              "      <th>사과양상추샐러드</th>\n",
              "      <th>쨔샤이무침</th>\n",
              "      <th>고춧잎무침</th>\n",
              "      <th>고사리볶음</th>\n",
              "      <th>코다리양념조림</th>\n",
              "      <th>춘권</th>\n",
              "      <th>감자버터구이</th>\n",
              "      <th>볼어묵조림</th>\n",
              "      <th>치커리사과생채</th>\n",
              "      <th>고구마치즈돈까스</th>\n",
              "      <th>야채샐러드</th>\n",
              "      <th>팽이버섯채소전</th>\n",
              "      <th>장각닭죽</th>\n",
              "      <th>김치필라프</th>\n",
              "      <th>...</th>\n",
              "      <th>봄나물튀김</th>\n",
              "      <th>가지탕수</th>\n",
              "      <th>아삭고추된장무침</th>\n",
              "      <th>쇠고기매운국</th>\n",
              "      <th>쇠고기국</th>\n",
              "      <th>크림새우</th>\n",
              "      <th>마카로니치즈범벅</th>\n",
              "      <th>감귤쥬스</th>\n",
              "      <th>취나물볶음</th>\n",
              "      <th>나가사키면</th>\n",
              "      <th>멘보샤</th>\n",
              "      <th>매운등뼈조림</th>\n",
              "      <th>유채나물무침</th>\n",
              "      <th>쑥갓생무침</th>\n",
              "      <th>닭오븐구이</th>\n",
              "      <th>아귀콩나물찜</th>\n",
              "      <th>치즈계란찜</th>\n",
              "      <th>완두콩스프</th>\n",
              "      <th>시래기삼치조림</th>\n",
              "      <th>매운돈갈비찜</th>\n",
              "      <th>유채나물</th>\n",
              "      <th>연근땅콩조림</th>\n",
              "      <th>미니김밥</th>\n",
              "      <th>장국</th>\n",
              "      <th>두반장가지나물</th>\n",
              "      <th>맛살냉채</th>\n",
              "      <th>닭살냉채</th>\n",
              "      <th>호박나물</th>\n",
              "      <th>소고기숙주볶음</th>\n",
              "      <th>호빵</th>\n",
              "      <th>비엔나감자볶음</th>\n",
              "      <th>비프스파게티</th>\n",
              "      <th>핫도그</th>\n",
              "      <th>돌나물유자청무침</th>\n",
              "      <th>야채튀김</th>\n",
              "      <th>깍둑오이초무침</th>\n",
              "      <th>부추팽이무침</th>\n",
              "      <th>임연수구이</th>\n",
              "      <th>나박물김치</th>\n",
              "      <th>훈제오리불고기</th>\n",
              "    </tr>\n",
              "  </thead>\n",
              "  <tbody>\n",
              "    <tr>\n",
              "      <th>0</th>\n",
              "      <td>0.0</td>\n",
              "      <td>0.0</td>\n",
              "      <td>0.0</td>\n",
              "      <td>0.0</td>\n",
              "      <td>0.0</td>\n",
              "      <td>0.0</td>\n",
              "      <td>0.0</td>\n",
              "      <td>0.0</td>\n",
              "      <td>0.0</td>\n",
              "      <td>0.0</td>\n",
              "      <td>0.0</td>\n",
              "      <td>0.0</td>\n",
              "      <td>0.0</td>\n",
              "      <td>0.0</td>\n",
              "      <td>0.0</td>\n",
              "      <td>0.0</td>\n",
              "      <td>0.0</td>\n",
              "      <td>0.0</td>\n",
              "      <td>0.0</td>\n",
              "      <td>0.0</td>\n",
              "      <td>0.0</td>\n",
              "      <td>0.0</td>\n",
              "      <td>0.0</td>\n",
              "      <td>0.0</td>\n",
              "      <td>0.0</td>\n",
              "      <td>0.0</td>\n",
              "      <td>0.0</td>\n",
              "      <td>0.0</td>\n",
              "      <td>0.0</td>\n",
              "      <td>0.0</td>\n",
              "      <td>0.0</td>\n",
              "      <td>0.0</td>\n",
              "      <td>0.0</td>\n",
              "      <td>0.0</td>\n",
              "      <td>0.0</td>\n",
              "      <td>0.0</td>\n",
              "      <td>0.0</td>\n",
              "      <td>0.0</td>\n",
              "      <td>0.0</td>\n",
              "      <td>0.0</td>\n",
              "      <td>...</td>\n",
              "      <td>0.0</td>\n",
              "      <td>0.0</td>\n",
              "      <td>0.0</td>\n",
              "      <td>0.0</td>\n",
              "      <td>0.0</td>\n",
              "      <td>0.0</td>\n",
              "      <td>0.0</td>\n",
              "      <td>0.0</td>\n",
              "      <td>0.0</td>\n",
              "      <td>0.0</td>\n",
              "      <td>0.0</td>\n",
              "      <td>0.0</td>\n",
              "      <td>0.0</td>\n",
              "      <td>0.0</td>\n",
              "      <td>0.0</td>\n",
              "      <td>0.0</td>\n",
              "      <td>0.0</td>\n",
              "      <td>0.0</td>\n",
              "      <td>0.0</td>\n",
              "      <td>0.0</td>\n",
              "      <td>0.0</td>\n",
              "      <td>0.0</td>\n",
              "      <td>0.0</td>\n",
              "      <td>0.0</td>\n",
              "      <td>0.0</td>\n",
              "      <td>0.0</td>\n",
              "      <td>0.0</td>\n",
              "      <td>0.0</td>\n",
              "      <td>0.0</td>\n",
              "      <td>0.0</td>\n",
              "      <td>0.0</td>\n",
              "      <td>0.0</td>\n",
              "      <td>0.0</td>\n",
              "      <td>0.0</td>\n",
              "      <td>0.0</td>\n",
              "      <td>0.0</td>\n",
              "      <td>0.0</td>\n",
              "      <td>0.0</td>\n",
              "      <td>0.0</td>\n",
              "      <td>0.0</td>\n",
              "    </tr>\n",
              "    <tr>\n",
              "      <th>1</th>\n",
              "      <td>0.0</td>\n",
              "      <td>0.0</td>\n",
              "      <td>0.0</td>\n",
              "      <td>0.0</td>\n",
              "      <td>0.0</td>\n",
              "      <td>0.0</td>\n",
              "      <td>0.0</td>\n",
              "      <td>0.0</td>\n",
              "      <td>0.0</td>\n",
              "      <td>0.0</td>\n",
              "      <td>0.0</td>\n",
              "      <td>0.0</td>\n",
              "      <td>0.0</td>\n",
              "      <td>0.0</td>\n",
              "      <td>0.0</td>\n",
              "      <td>0.0</td>\n",
              "      <td>0.0</td>\n",
              "      <td>0.0</td>\n",
              "      <td>0.0</td>\n",
              "      <td>0.0</td>\n",
              "      <td>0.0</td>\n",
              "      <td>0.0</td>\n",
              "      <td>0.0</td>\n",
              "      <td>0.0</td>\n",
              "      <td>0.0</td>\n",
              "      <td>0.0</td>\n",
              "      <td>0.0</td>\n",
              "      <td>0.0</td>\n",
              "      <td>0.0</td>\n",
              "      <td>0.0</td>\n",
              "      <td>0.0</td>\n",
              "      <td>0.0</td>\n",
              "      <td>0.0</td>\n",
              "      <td>0.0</td>\n",
              "      <td>0.0</td>\n",
              "      <td>0.0</td>\n",
              "      <td>0.0</td>\n",
              "      <td>0.0</td>\n",
              "      <td>0.0</td>\n",
              "      <td>0.0</td>\n",
              "      <td>...</td>\n",
              "      <td>0.0</td>\n",
              "      <td>0.0</td>\n",
              "      <td>0.0</td>\n",
              "      <td>0.0</td>\n",
              "      <td>0.0</td>\n",
              "      <td>0.0</td>\n",
              "      <td>0.0</td>\n",
              "      <td>0.0</td>\n",
              "      <td>0.0</td>\n",
              "      <td>0.0</td>\n",
              "      <td>0.0</td>\n",
              "      <td>0.0</td>\n",
              "      <td>0.0</td>\n",
              "      <td>0.0</td>\n",
              "      <td>0.0</td>\n",
              "      <td>0.0</td>\n",
              "      <td>0.0</td>\n",
              "      <td>0.0</td>\n",
              "      <td>0.0</td>\n",
              "      <td>0.0</td>\n",
              "      <td>0.0</td>\n",
              "      <td>0.0</td>\n",
              "      <td>0.0</td>\n",
              "      <td>0.0</td>\n",
              "      <td>0.0</td>\n",
              "      <td>0.0</td>\n",
              "      <td>0.0</td>\n",
              "      <td>0.0</td>\n",
              "      <td>0.0</td>\n",
              "      <td>0.0</td>\n",
              "      <td>0.0</td>\n",
              "      <td>0.0</td>\n",
              "      <td>0.0</td>\n",
              "      <td>0.0</td>\n",
              "      <td>0.0</td>\n",
              "      <td>0.0</td>\n",
              "      <td>0.0</td>\n",
              "      <td>0.0</td>\n",
              "      <td>0.0</td>\n",
              "      <td>0.0</td>\n",
              "    </tr>\n",
              "    <tr>\n",
              "      <th>2</th>\n",
              "      <td>0.0</td>\n",
              "      <td>0.0</td>\n",
              "      <td>0.0</td>\n",
              "      <td>0.0</td>\n",
              "      <td>0.0</td>\n",
              "      <td>0.0</td>\n",
              "      <td>0.0</td>\n",
              "      <td>0.0</td>\n",
              "      <td>0.0</td>\n",
              "      <td>0.0</td>\n",
              "      <td>0.0</td>\n",
              "      <td>0.0</td>\n",
              "      <td>0.0</td>\n",
              "      <td>0.0</td>\n",
              "      <td>0.0</td>\n",
              "      <td>0.0</td>\n",
              "      <td>0.0</td>\n",
              "      <td>0.0</td>\n",
              "      <td>0.0</td>\n",
              "      <td>0.0</td>\n",
              "      <td>0.0</td>\n",
              "      <td>0.0</td>\n",
              "      <td>0.0</td>\n",
              "      <td>0.0</td>\n",
              "      <td>0.0</td>\n",
              "      <td>0.0</td>\n",
              "      <td>0.0</td>\n",
              "      <td>0.0</td>\n",
              "      <td>0.0</td>\n",
              "      <td>0.0</td>\n",
              "      <td>0.0</td>\n",
              "      <td>0.0</td>\n",
              "      <td>0.0</td>\n",
              "      <td>0.0</td>\n",
              "      <td>0.0</td>\n",
              "      <td>0.0</td>\n",
              "      <td>0.0</td>\n",
              "      <td>0.0</td>\n",
              "      <td>0.0</td>\n",
              "      <td>0.0</td>\n",
              "      <td>...</td>\n",
              "      <td>0.0</td>\n",
              "      <td>0.0</td>\n",
              "      <td>0.0</td>\n",
              "      <td>0.0</td>\n",
              "      <td>0.0</td>\n",
              "      <td>0.0</td>\n",
              "      <td>0.0</td>\n",
              "      <td>0.0</td>\n",
              "      <td>0.0</td>\n",
              "      <td>0.0</td>\n",
              "      <td>0.0</td>\n",
              "      <td>0.0</td>\n",
              "      <td>0.0</td>\n",
              "      <td>0.0</td>\n",
              "      <td>0.0</td>\n",
              "      <td>0.0</td>\n",
              "      <td>0.0</td>\n",
              "      <td>0.0</td>\n",
              "      <td>0.0</td>\n",
              "      <td>0.0</td>\n",
              "      <td>0.0</td>\n",
              "      <td>0.0</td>\n",
              "      <td>0.0</td>\n",
              "      <td>0.0</td>\n",
              "      <td>0.0</td>\n",
              "      <td>0.0</td>\n",
              "      <td>0.0</td>\n",
              "      <td>0.0</td>\n",
              "      <td>0.0</td>\n",
              "      <td>0.0</td>\n",
              "      <td>0.0</td>\n",
              "      <td>0.0</td>\n",
              "      <td>0.0</td>\n",
              "      <td>0.0</td>\n",
              "      <td>0.0</td>\n",
              "      <td>0.0</td>\n",
              "      <td>0.0</td>\n",
              "      <td>0.0</td>\n",
              "      <td>0.0</td>\n",
              "      <td>0.0</td>\n",
              "    </tr>\n",
              "    <tr>\n",
              "      <th>3</th>\n",
              "      <td>0.0</td>\n",
              "      <td>0.0</td>\n",
              "      <td>0.0</td>\n",
              "      <td>0.0</td>\n",
              "      <td>0.0</td>\n",
              "      <td>0.0</td>\n",
              "      <td>0.0</td>\n",
              "      <td>0.0</td>\n",
              "      <td>0.0</td>\n",
              "      <td>0.0</td>\n",
              "      <td>0.0</td>\n",
              "      <td>0.0</td>\n",
              "      <td>0.0</td>\n",
              "      <td>0.0</td>\n",
              "      <td>0.0</td>\n",
              "      <td>0.0</td>\n",
              "      <td>0.0</td>\n",
              "      <td>0.0</td>\n",
              "      <td>0.0</td>\n",
              "      <td>0.0</td>\n",
              "      <td>0.0</td>\n",
              "      <td>0.0</td>\n",
              "      <td>0.0</td>\n",
              "      <td>0.0</td>\n",
              "      <td>0.0</td>\n",
              "      <td>0.0</td>\n",
              "      <td>0.0</td>\n",
              "      <td>0.0</td>\n",
              "      <td>0.0</td>\n",
              "      <td>0.0</td>\n",
              "      <td>0.0</td>\n",
              "      <td>0.0</td>\n",
              "      <td>0.0</td>\n",
              "      <td>0.0</td>\n",
              "      <td>0.0</td>\n",
              "      <td>0.0</td>\n",
              "      <td>0.0</td>\n",
              "      <td>0.0</td>\n",
              "      <td>0.0</td>\n",
              "      <td>0.0</td>\n",
              "      <td>...</td>\n",
              "      <td>0.0</td>\n",
              "      <td>0.0</td>\n",
              "      <td>0.0</td>\n",
              "      <td>0.0</td>\n",
              "      <td>0.0</td>\n",
              "      <td>0.0</td>\n",
              "      <td>0.0</td>\n",
              "      <td>0.0</td>\n",
              "      <td>0.0</td>\n",
              "      <td>0.0</td>\n",
              "      <td>0.0</td>\n",
              "      <td>0.0</td>\n",
              "      <td>0.0</td>\n",
              "      <td>0.0</td>\n",
              "      <td>0.0</td>\n",
              "      <td>0.0</td>\n",
              "      <td>0.0</td>\n",
              "      <td>0.0</td>\n",
              "      <td>0.0</td>\n",
              "      <td>0.0</td>\n",
              "      <td>0.0</td>\n",
              "      <td>0.0</td>\n",
              "      <td>1.0</td>\n",
              "      <td>0.0</td>\n",
              "      <td>0.0</td>\n",
              "      <td>0.0</td>\n",
              "      <td>0.0</td>\n",
              "      <td>0.0</td>\n",
              "      <td>0.0</td>\n",
              "      <td>0.0</td>\n",
              "      <td>0.0</td>\n",
              "      <td>0.0</td>\n",
              "      <td>0.0</td>\n",
              "      <td>0.0</td>\n",
              "      <td>0.0</td>\n",
              "      <td>0.0</td>\n",
              "      <td>0.0</td>\n",
              "      <td>0.0</td>\n",
              "      <td>0.0</td>\n",
              "      <td>0.0</td>\n",
              "    </tr>\n",
              "    <tr>\n",
              "      <th>4</th>\n",
              "      <td>0.0</td>\n",
              "      <td>0.0</td>\n",
              "      <td>0.0</td>\n",
              "      <td>0.0</td>\n",
              "      <td>0.0</td>\n",
              "      <td>0.0</td>\n",
              "      <td>0.0</td>\n",
              "      <td>0.0</td>\n",
              "      <td>0.0</td>\n",
              "      <td>0.0</td>\n",
              "      <td>0.0</td>\n",
              "      <td>0.0</td>\n",
              "      <td>0.0</td>\n",
              "      <td>0.0</td>\n",
              "      <td>0.0</td>\n",
              "      <td>0.0</td>\n",
              "      <td>0.0</td>\n",
              "      <td>0.0</td>\n",
              "      <td>0.0</td>\n",
              "      <td>0.0</td>\n",
              "      <td>0.0</td>\n",
              "      <td>0.0</td>\n",
              "      <td>0.0</td>\n",
              "      <td>0.0</td>\n",
              "      <td>0.0</td>\n",
              "      <td>0.0</td>\n",
              "      <td>0.0</td>\n",
              "      <td>0.0</td>\n",
              "      <td>0.0</td>\n",
              "      <td>0.0</td>\n",
              "      <td>0.0</td>\n",
              "      <td>0.0</td>\n",
              "      <td>0.0</td>\n",
              "      <td>0.0</td>\n",
              "      <td>0.0</td>\n",
              "      <td>0.0</td>\n",
              "      <td>0.0</td>\n",
              "      <td>0.0</td>\n",
              "      <td>0.0</td>\n",
              "      <td>0.0</td>\n",
              "      <td>...</td>\n",
              "      <td>0.0</td>\n",
              "      <td>0.0</td>\n",
              "      <td>0.0</td>\n",
              "      <td>0.0</td>\n",
              "      <td>0.0</td>\n",
              "      <td>0.0</td>\n",
              "      <td>0.0</td>\n",
              "      <td>0.0</td>\n",
              "      <td>0.0</td>\n",
              "      <td>0.0</td>\n",
              "      <td>0.0</td>\n",
              "      <td>0.0</td>\n",
              "      <td>0.0</td>\n",
              "      <td>0.0</td>\n",
              "      <td>0.0</td>\n",
              "      <td>0.0</td>\n",
              "      <td>0.0</td>\n",
              "      <td>0.0</td>\n",
              "      <td>0.0</td>\n",
              "      <td>0.0</td>\n",
              "      <td>0.0</td>\n",
              "      <td>0.0</td>\n",
              "      <td>0.0</td>\n",
              "      <td>0.0</td>\n",
              "      <td>0.0</td>\n",
              "      <td>0.0</td>\n",
              "      <td>0.0</td>\n",
              "      <td>0.0</td>\n",
              "      <td>0.0</td>\n",
              "      <td>0.0</td>\n",
              "      <td>0.0</td>\n",
              "      <td>0.0</td>\n",
              "      <td>0.0</td>\n",
              "      <td>0.0</td>\n",
              "      <td>0.0</td>\n",
              "      <td>0.0</td>\n",
              "      <td>0.0</td>\n",
              "      <td>0.0</td>\n",
              "      <td>0.0</td>\n",
              "      <td>0.0</td>\n",
              "    </tr>\n",
              "    <tr>\n",
              "      <th>...</th>\n",
              "      <td>...</td>\n",
              "      <td>...</td>\n",
              "      <td>...</td>\n",
              "      <td>...</td>\n",
              "      <td>...</td>\n",
              "      <td>...</td>\n",
              "      <td>...</td>\n",
              "      <td>...</td>\n",
              "      <td>...</td>\n",
              "      <td>...</td>\n",
              "      <td>...</td>\n",
              "      <td>...</td>\n",
              "      <td>...</td>\n",
              "      <td>...</td>\n",
              "      <td>...</td>\n",
              "      <td>...</td>\n",
              "      <td>...</td>\n",
              "      <td>...</td>\n",
              "      <td>...</td>\n",
              "      <td>...</td>\n",
              "      <td>...</td>\n",
              "      <td>...</td>\n",
              "      <td>...</td>\n",
              "      <td>...</td>\n",
              "      <td>...</td>\n",
              "      <td>...</td>\n",
              "      <td>...</td>\n",
              "      <td>...</td>\n",
              "      <td>...</td>\n",
              "      <td>...</td>\n",
              "      <td>...</td>\n",
              "      <td>...</td>\n",
              "      <td>...</td>\n",
              "      <td>...</td>\n",
              "      <td>...</td>\n",
              "      <td>...</td>\n",
              "      <td>...</td>\n",
              "      <td>...</td>\n",
              "      <td>...</td>\n",
              "      <td>...</td>\n",
              "      <td>...</td>\n",
              "      <td>...</td>\n",
              "      <td>...</td>\n",
              "      <td>...</td>\n",
              "      <td>...</td>\n",
              "      <td>...</td>\n",
              "      <td>...</td>\n",
              "      <td>...</td>\n",
              "      <td>...</td>\n",
              "      <td>...</td>\n",
              "      <td>...</td>\n",
              "      <td>...</td>\n",
              "      <td>...</td>\n",
              "      <td>...</td>\n",
              "      <td>...</td>\n",
              "      <td>...</td>\n",
              "      <td>...</td>\n",
              "      <td>...</td>\n",
              "      <td>...</td>\n",
              "      <td>...</td>\n",
              "      <td>...</td>\n",
              "      <td>...</td>\n",
              "      <td>...</td>\n",
              "      <td>...</td>\n",
              "      <td>...</td>\n",
              "      <td>...</td>\n",
              "      <td>...</td>\n",
              "      <td>...</td>\n",
              "      <td>...</td>\n",
              "      <td>...</td>\n",
              "      <td>...</td>\n",
              "      <td>...</td>\n",
              "      <td>...</td>\n",
              "      <td>...</td>\n",
              "      <td>...</td>\n",
              "      <td>...</td>\n",
              "      <td>...</td>\n",
              "      <td>...</td>\n",
              "      <td>...</td>\n",
              "      <td>...</td>\n",
              "      <td>...</td>\n",
              "    </tr>\n",
              "    <tr>\n",
              "      <th>1250</th>\n",
              "      <td>0.0</td>\n",
              "      <td>0.0</td>\n",
              "      <td>0.0</td>\n",
              "      <td>0.0</td>\n",
              "      <td>0.0</td>\n",
              "      <td>0.0</td>\n",
              "      <td>0.0</td>\n",
              "      <td>0.0</td>\n",
              "      <td>0.0</td>\n",
              "      <td>0.0</td>\n",
              "      <td>0.0</td>\n",
              "      <td>0.0</td>\n",
              "      <td>0.0</td>\n",
              "      <td>0.0</td>\n",
              "      <td>0.0</td>\n",
              "      <td>0.0</td>\n",
              "      <td>0.0</td>\n",
              "      <td>0.0</td>\n",
              "      <td>0.0</td>\n",
              "      <td>0.0</td>\n",
              "      <td>0.0</td>\n",
              "      <td>0.0</td>\n",
              "      <td>0.0</td>\n",
              "      <td>0.0</td>\n",
              "      <td>0.0</td>\n",
              "      <td>0.0</td>\n",
              "      <td>0.0</td>\n",
              "      <td>0.0</td>\n",
              "      <td>0.0</td>\n",
              "      <td>0.0</td>\n",
              "      <td>0.0</td>\n",
              "      <td>0.0</td>\n",
              "      <td>0.0</td>\n",
              "      <td>0.0</td>\n",
              "      <td>0.0</td>\n",
              "      <td>0.0</td>\n",
              "      <td>0.0</td>\n",
              "      <td>0.0</td>\n",
              "      <td>0.0</td>\n",
              "      <td>0.0</td>\n",
              "      <td>...</td>\n",
              "      <td>0.0</td>\n",
              "      <td>0.0</td>\n",
              "      <td>0.0</td>\n",
              "      <td>0.0</td>\n",
              "      <td>0.0</td>\n",
              "      <td>0.0</td>\n",
              "      <td>0.0</td>\n",
              "      <td>0.0</td>\n",
              "      <td>0.0</td>\n",
              "      <td>0.0</td>\n",
              "      <td>0.0</td>\n",
              "      <td>0.0</td>\n",
              "      <td>0.0</td>\n",
              "      <td>0.0</td>\n",
              "      <td>0.0</td>\n",
              "      <td>0.0</td>\n",
              "      <td>0.0</td>\n",
              "      <td>0.0</td>\n",
              "      <td>0.0</td>\n",
              "      <td>0.0</td>\n",
              "      <td>0.0</td>\n",
              "      <td>0.0</td>\n",
              "      <td>0.0</td>\n",
              "      <td>0.0</td>\n",
              "      <td>0.0</td>\n",
              "      <td>0.0</td>\n",
              "      <td>0.0</td>\n",
              "      <td>0.0</td>\n",
              "      <td>0.0</td>\n",
              "      <td>0.0</td>\n",
              "      <td>0.0</td>\n",
              "      <td>0.0</td>\n",
              "      <td>0.0</td>\n",
              "      <td>0.0</td>\n",
              "      <td>0.0</td>\n",
              "      <td>0.0</td>\n",
              "      <td>0.0</td>\n",
              "      <td>0.0</td>\n",
              "      <td>0.0</td>\n",
              "      <td>0.0</td>\n",
              "    </tr>\n",
              "    <tr>\n",
              "      <th>1251</th>\n",
              "      <td>0.0</td>\n",
              "      <td>0.0</td>\n",
              "      <td>0.0</td>\n",
              "      <td>0.0</td>\n",
              "      <td>0.0</td>\n",
              "      <td>0.0</td>\n",
              "      <td>0.0</td>\n",
              "      <td>0.0</td>\n",
              "      <td>0.0</td>\n",
              "      <td>0.0</td>\n",
              "      <td>0.0</td>\n",
              "      <td>0.0</td>\n",
              "      <td>0.0</td>\n",
              "      <td>0.0</td>\n",
              "      <td>0.0</td>\n",
              "      <td>0.0</td>\n",
              "      <td>0.0</td>\n",
              "      <td>0.0</td>\n",
              "      <td>0.0</td>\n",
              "      <td>0.0</td>\n",
              "      <td>0.0</td>\n",
              "      <td>0.0</td>\n",
              "      <td>0.0</td>\n",
              "      <td>0.0</td>\n",
              "      <td>0.0</td>\n",
              "      <td>0.0</td>\n",
              "      <td>0.0</td>\n",
              "      <td>0.0</td>\n",
              "      <td>0.0</td>\n",
              "      <td>0.0</td>\n",
              "      <td>0.0</td>\n",
              "      <td>0.0</td>\n",
              "      <td>0.0</td>\n",
              "      <td>0.0</td>\n",
              "      <td>0.0</td>\n",
              "      <td>0.0</td>\n",
              "      <td>0.0</td>\n",
              "      <td>0.0</td>\n",
              "      <td>0.0</td>\n",
              "      <td>0.0</td>\n",
              "      <td>...</td>\n",
              "      <td>0.0</td>\n",
              "      <td>0.0</td>\n",
              "      <td>0.0</td>\n",
              "      <td>0.0</td>\n",
              "      <td>0.0</td>\n",
              "      <td>0.0</td>\n",
              "      <td>0.0</td>\n",
              "      <td>0.0</td>\n",
              "      <td>0.0</td>\n",
              "      <td>0.0</td>\n",
              "      <td>0.0</td>\n",
              "      <td>0.0</td>\n",
              "      <td>0.0</td>\n",
              "      <td>0.0</td>\n",
              "      <td>0.0</td>\n",
              "      <td>0.0</td>\n",
              "      <td>0.0</td>\n",
              "      <td>0.0</td>\n",
              "      <td>0.0</td>\n",
              "      <td>0.0</td>\n",
              "      <td>0.0</td>\n",
              "      <td>0.0</td>\n",
              "      <td>0.0</td>\n",
              "      <td>0.0</td>\n",
              "      <td>0.0</td>\n",
              "      <td>0.0</td>\n",
              "      <td>0.0</td>\n",
              "      <td>0.0</td>\n",
              "      <td>0.0</td>\n",
              "      <td>0.0</td>\n",
              "      <td>0.0</td>\n",
              "      <td>0.0</td>\n",
              "      <td>0.0</td>\n",
              "      <td>0.0</td>\n",
              "      <td>0.0</td>\n",
              "      <td>0.0</td>\n",
              "      <td>0.0</td>\n",
              "      <td>0.0</td>\n",
              "      <td>0.0</td>\n",
              "      <td>0.0</td>\n",
              "    </tr>\n",
              "    <tr>\n",
              "      <th>1252</th>\n",
              "      <td>0.0</td>\n",
              "      <td>0.0</td>\n",
              "      <td>0.0</td>\n",
              "      <td>0.0</td>\n",
              "      <td>0.0</td>\n",
              "      <td>0.0</td>\n",
              "      <td>0.0</td>\n",
              "      <td>0.0</td>\n",
              "      <td>0.0</td>\n",
              "      <td>0.0</td>\n",
              "      <td>0.0</td>\n",
              "      <td>0.0</td>\n",
              "      <td>0.0</td>\n",
              "      <td>0.0</td>\n",
              "      <td>0.0</td>\n",
              "      <td>0.0</td>\n",
              "      <td>0.0</td>\n",
              "      <td>0.0</td>\n",
              "      <td>0.0</td>\n",
              "      <td>0.0</td>\n",
              "      <td>0.0</td>\n",
              "      <td>0.0</td>\n",
              "      <td>0.0</td>\n",
              "      <td>0.0</td>\n",
              "      <td>0.0</td>\n",
              "      <td>0.0</td>\n",
              "      <td>0.0</td>\n",
              "      <td>0.0</td>\n",
              "      <td>0.0</td>\n",
              "      <td>0.0</td>\n",
              "      <td>0.0</td>\n",
              "      <td>0.0</td>\n",
              "      <td>0.0</td>\n",
              "      <td>0.0</td>\n",
              "      <td>0.0</td>\n",
              "      <td>0.0</td>\n",
              "      <td>0.0</td>\n",
              "      <td>0.0</td>\n",
              "      <td>0.0</td>\n",
              "      <td>0.0</td>\n",
              "      <td>...</td>\n",
              "      <td>0.0</td>\n",
              "      <td>0.0</td>\n",
              "      <td>0.0</td>\n",
              "      <td>0.0</td>\n",
              "      <td>0.0</td>\n",
              "      <td>0.0</td>\n",
              "      <td>0.0</td>\n",
              "      <td>1.0</td>\n",
              "      <td>0.0</td>\n",
              "      <td>0.0</td>\n",
              "      <td>0.0</td>\n",
              "      <td>0.0</td>\n",
              "      <td>0.0</td>\n",
              "      <td>0.0</td>\n",
              "      <td>0.0</td>\n",
              "      <td>0.0</td>\n",
              "      <td>0.0</td>\n",
              "      <td>0.0</td>\n",
              "      <td>0.0</td>\n",
              "      <td>0.0</td>\n",
              "      <td>0.0</td>\n",
              "      <td>0.0</td>\n",
              "      <td>0.0</td>\n",
              "      <td>0.0</td>\n",
              "      <td>0.0</td>\n",
              "      <td>0.0</td>\n",
              "      <td>0.0</td>\n",
              "      <td>0.0</td>\n",
              "      <td>0.0</td>\n",
              "      <td>0.0</td>\n",
              "      <td>0.0</td>\n",
              "      <td>0.0</td>\n",
              "      <td>0.0</td>\n",
              "      <td>0.0</td>\n",
              "      <td>0.0</td>\n",
              "      <td>0.0</td>\n",
              "      <td>0.0</td>\n",
              "      <td>0.0</td>\n",
              "      <td>0.0</td>\n",
              "      <td>0.0</td>\n",
              "    </tr>\n",
              "    <tr>\n",
              "      <th>1253</th>\n",
              "      <td>0.0</td>\n",
              "      <td>0.0</td>\n",
              "      <td>0.0</td>\n",
              "      <td>0.0</td>\n",
              "      <td>0.0</td>\n",
              "      <td>0.0</td>\n",
              "      <td>0.0</td>\n",
              "      <td>0.0</td>\n",
              "      <td>0.0</td>\n",
              "      <td>0.0</td>\n",
              "      <td>0.0</td>\n",
              "      <td>0.0</td>\n",
              "      <td>0.0</td>\n",
              "      <td>0.0</td>\n",
              "      <td>0.0</td>\n",
              "      <td>0.0</td>\n",
              "      <td>0.0</td>\n",
              "      <td>0.0</td>\n",
              "      <td>0.0</td>\n",
              "      <td>0.0</td>\n",
              "      <td>0.0</td>\n",
              "      <td>0.0</td>\n",
              "      <td>0.0</td>\n",
              "      <td>0.0</td>\n",
              "      <td>0.0</td>\n",
              "      <td>0.0</td>\n",
              "      <td>0.0</td>\n",
              "      <td>0.0</td>\n",
              "      <td>0.0</td>\n",
              "      <td>0.0</td>\n",
              "      <td>0.0</td>\n",
              "      <td>0.0</td>\n",
              "      <td>0.0</td>\n",
              "      <td>0.0</td>\n",
              "      <td>0.0</td>\n",
              "      <td>0.0</td>\n",
              "      <td>0.0</td>\n",
              "      <td>0.0</td>\n",
              "      <td>0.0</td>\n",
              "      <td>0.0</td>\n",
              "      <td>...</td>\n",
              "      <td>0.0</td>\n",
              "      <td>0.0</td>\n",
              "      <td>0.0</td>\n",
              "      <td>0.0</td>\n",
              "      <td>0.0</td>\n",
              "      <td>0.0</td>\n",
              "      <td>0.0</td>\n",
              "      <td>0.0</td>\n",
              "      <td>0.0</td>\n",
              "      <td>0.0</td>\n",
              "      <td>0.0</td>\n",
              "      <td>0.0</td>\n",
              "      <td>0.0</td>\n",
              "      <td>1.0</td>\n",
              "      <td>0.0</td>\n",
              "      <td>0.0</td>\n",
              "      <td>0.0</td>\n",
              "      <td>0.0</td>\n",
              "      <td>0.0</td>\n",
              "      <td>0.0</td>\n",
              "      <td>0.0</td>\n",
              "      <td>0.0</td>\n",
              "      <td>0.0</td>\n",
              "      <td>0.0</td>\n",
              "      <td>0.0</td>\n",
              "      <td>0.0</td>\n",
              "      <td>0.0</td>\n",
              "      <td>0.0</td>\n",
              "      <td>0.0</td>\n",
              "      <td>0.0</td>\n",
              "      <td>0.0</td>\n",
              "      <td>0.0</td>\n",
              "      <td>0.0</td>\n",
              "      <td>0.0</td>\n",
              "      <td>0.0</td>\n",
              "      <td>0.0</td>\n",
              "      <td>0.0</td>\n",
              "      <td>0.0</td>\n",
              "      <td>0.0</td>\n",
              "      <td>0.0</td>\n",
              "    </tr>\n",
              "    <tr>\n",
              "      <th>1254</th>\n",
              "      <td>0.0</td>\n",
              "      <td>0.0</td>\n",
              "      <td>0.0</td>\n",
              "      <td>0.0</td>\n",
              "      <td>0.0</td>\n",
              "      <td>0.0</td>\n",
              "      <td>0.0</td>\n",
              "      <td>0.0</td>\n",
              "      <td>0.0</td>\n",
              "      <td>0.0</td>\n",
              "      <td>0.0</td>\n",
              "      <td>0.0</td>\n",
              "      <td>0.0</td>\n",
              "      <td>0.0</td>\n",
              "      <td>0.0</td>\n",
              "      <td>0.0</td>\n",
              "      <td>0.0</td>\n",
              "      <td>0.0</td>\n",
              "      <td>0.0</td>\n",
              "      <td>0.0</td>\n",
              "      <td>0.0</td>\n",
              "      <td>0.0</td>\n",
              "      <td>0.0</td>\n",
              "      <td>0.0</td>\n",
              "      <td>0.0</td>\n",
              "      <td>0.0</td>\n",
              "      <td>0.0</td>\n",
              "      <td>0.0</td>\n",
              "      <td>0.0</td>\n",
              "      <td>0.0</td>\n",
              "      <td>0.0</td>\n",
              "      <td>1.0</td>\n",
              "      <td>0.0</td>\n",
              "      <td>0.0</td>\n",
              "      <td>0.0</td>\n",
              "      <td>0.0</td>\n",
              "      <td>0.0</td>\n",
              "      <td>0.0</td>\n",
              "      <td>0.0</td>\n",
              "      <td>0.0</td>\n",
              "      <td>...</td>\n",
              "      <td>0.0</td>\n",
              "      <td>0.0</td>\n",
              "      <td>0.0</td>\n",
              "      <td>0.0</td>\n",
              "      <td>0.0</td>\n",
              "      <td>0.0</td>\n",
              "      <td>0.0</td>\n",
              "      <td>0.0</td>\n",
              "      <td>0.0</td>\n",
              "      <td>0.0</td>\n",
              "      <td>0.0</td>\n",
              "      <td>0.0</td>\n",
              "      <td>0.0</td>\n",
              "      <td>0.0</td>\n",
              "      <td>0.0</td>\n",
              "      <td>0.0</td>\n",
              "      <td>0.0</td>\n",
              "      <td>0.0</td>\n",
              "      <td>0.0</td>\n",
              "      <td>0.0</td>\n",
              "      <td>0.0</td>\n",
              "      <td>0.0</td>\n",
              "      <td>0.0</td>\n",
              "      <td>0.0</td>\n",
              "      <td>0.0</td>\n",
              "      <td>0.0</td>\n",
              "      <td>0.0</td>\n",
              "      <td>0.0</td>\n",
              "      <td>0.0</td>\n",
              "      <td>0.0</td>\n",
              "      <td>0.0</td>\n",
              "      <td>0.0</td>\n",
              "      <td>0.0</td>\n",
              "      <td>0.0</td>\n",
              "      <td>0.0</td>\n",
              "      <td>0.0</td>\n",
              "      <td>0.0</td>\n",
              "      <td>0.0</td>\n",
              "      <td>0.0</td>\n",
              "      <td>0.0</td>\n",
              "    </tr>\n",
              "  </tbody>\n",
              "</table>\n",
              "<p>1255 rows × 1568 columns</p>\n",
              "</div>"
            ],
            "text/plain": [
              "      볼어묵곤약볶음  아몬드멸치볶음  고추장찌개  콩비지찌개  ...  부추팽이무침  임연수구이  나박물김치  훈제오리불고기\n",
              "0         0.0      0.0    0.0    0.0  ...     0.0    0.0    0.0      0.0\n",
              "1         0.0      0.0    0.0    0.0  ...     0.0    0.0    0.0      0.0\n",
              "2         0.0      0.0    0.0    0.0  ...     0.0    0.0    0.0      0.0\n",
              "3         0.0      0.0    0.0    0.0  ...     0.0    0.0    0.0      0.0\n",
              "4         0.0      0.0    0.0    0.0  ...     0.0    0.0    0.0      0.0\n",
              "...       ...      ...    ...    ...  ...     ...    ...    ...      ...\n",
              "1250      0.0      0.0    0.0    0.0  ...     0.0    0.0    0.0      0.0\n",
              "1251      0.0      0.0    0.0    0.0  ...     0.0    0.0    0.0      0.0\n",
              "1252      0.0      0.0    0.0    0.0  ...     0.0    0.0    0.0      0.0\n",
              "1253      0.0      0.0    0.0    0.0  ...     0.0    0.0    0.0      0.0\n",
              "1254      0.0      0.0    0.0    0.0  ...     0.0    0.0    0.0      0.0\n",
              "\n",
              "[1255 rows x 1568 columns]"
            ]
          },
          "metadata": {
            "tags": []
          },
          "execution_count": 30
        }
      ]
    },
    {
      "cell_type": "code",
      "metadata": {
        "colab": {
          "base_uri": "https://localhost:8080/"
        },
        "id": "G418AX-aivQO",
        "outputId": "fb17002a-ae1f-4fa5-d5dc-2a01739169c3"
      },
      "source": [
        "print(lunch_oh.shape, dinner_oh.shape)"
      ],
      "execution_count": 31,
      "outputs": [
        {
          "output_type": "stream",
          "text": [
            "(1255, 1562) (1255, 1568)\n"
          ],
          "name": "stdout"
        }
      ]
    },
    {
      "cell_type": "code",
      "metadata": {
        "colab": {
          "base_uri": "https://localhost:8080/"
        },
        "id": "3RrU6zoFxgLy",
        "outputId": "2860f62b-b019-47bd-b8cc-430354408024"
      },
      "source": [
        "transformer = SparsePCA(n_components=10, random_state=0)\n",
        "transformer.fit(lunch_oh)\n",
        "lunch_pca = transformer.transform(lunch_oh)\n",
        "\n",
        "transformer = SparsePCA(n_components=10, random_state=0)\n",
        "transformer.fit(dinner_oh)\n",
        "dinner_pca = transformer.transform(dinner_oh)\n",
        "\n",
        "print(lunch_pca.shape, dinner_pca.shape)"
      ],
      "execution_count": 32,
      "outputs": [
        {
          "output_type": "stream",
          "text": [
            "(1255, 10) (1255, 10)\n"
          ],
          "name": "stdout"
        }
      ]
    },
    {
      "cell_type": "code",
      "metadata": {
        "colab": {
          "base_uri": "https://localhost:8080/",
          "height": 204
        },
        "id": "1tY5txXsjogu",
        "outputId": "2511fe09-d3ce-4e88-85da-5e329bee3b13"
      },
      "source": [
        "all_df.drop(['breakfast', 'lunch', 'dinner'], axis=1, inplace=True)\n",
        "\n",
        "all_df.head()"
      ],
      "execution_count": 33,
      "outputs": [
        {
          "output_type": "execute_result",
          "data": {
            "text/html": [
              "<div>\n",
              "<style scoped>\n",
              "    .dataframe tbody tr th:only-of-type {\n",
              "        vertical-align: middle;\n",
              "    }\n",
              "\n",
              "    .dataframe tbody tr th {\n",
              "        vertical-align: top;\n",
              "    }\n",
              "\n",
              "    .dataframe thead th {\n",
              "        text-align: right;\n",
              "    }\n",
              "</style>\n",
              "<table border=\"1\" class=\"dataframe\">\n",
              "  <thead>\n",
              "    <tr style=\"text-align: right;\">\n",
              "      <th></th>\n",
              "      <th>lunch_y</th>\n",
              "      <th>dinner_y</th>\n",
              "      <th>vac_ratio</th>\n",
              "      <th>trip_ratio</th>\n",
              "      <th>home</th>\n",
              "      <th>extra</th>\n",
              "      <th>total</th>\n",
              "      <th>year</th>\n",
              "      <th>month</th>\n",
              "      <th>date</th>\n",
              "      <th>week</th>\n",
              "      <th>dayofweek</th>\n",
              "    </tr>\n",
              "  </thead>\n",
              "  <tbody>\n",
              "    <tr>\n",
              "      <th>0</th>\n",
              "      <td>1039.0</td>\n",
              "      <td>331.0</td>\n",
              "      <td>0.019223</td>\n",
              "      <td>0.057670</td>\n",
              "      <td>0.0</td>\n",
              "      <td>0.091503</td>\n",
              "      <td>0.923106</td>\n",
              "      <td>2016</td>\n",
              "      <td>2</td>\n",
              "      <td>1</td>\n",
              "      <td>5</td>\n",
              "      <td>0</td>\n",
              "    </tr>\n",
              "    <tr>\n",
              "      <th>1</th>\n",
              "      <td>867.0</td>\n",
              "      <td>560.0</td>\n",
              "      <td>0.019223</td>\n",
              "      <td>0.066513</td>\n",
              "      <td>0.0</td>\n",
              "      <td>0.122645</td>\n",
              "      <td>0.914264</td>\n",
              "      <td>2016</td>\n",
              "      <td>2</td>\n",
              "      <td>2</td>\n",
              "      <td>5</td>\n",
              "      <td>1</td>\n",
              "    </tr>\n",
              "    <tr>\n",
              "      <th>2</th>\n",
              "      <td>1017.0</td>\n",
              "      <td>573.0</td>\n",
              "      <td>0.021530</td>\n",
              "      <td>0.069204</td>\n",
              "      <td>0.0</td>\n",
              "      <td>0.042676</td>\n",
              "      <td>0.909266</td>\n",
              "      <td>2016</td>\n",
              "      <td>2</td>\n",
              "      <td>3</td>\n",
              "      <td>5</td>\n",
              "      <td>2</td>\n",
              "    </tr>\n",
              "    <tr>\n",
              "      <th>3</th>\n",
              "      <td>978.0</td>\n",
              "      <td>525.0</td>\n",
              "      <td>0.039985</td>\n",
              "      <td>0.084583</td>\n",
              "      <td>0.0</td>\n",
              "      <td>0.136486</td>\n",
              "      <td>0.875433</td>\n",
              "      <td>2016</td>\n",
              "      <td>2</td>\n",
              "      <td>4</td>\n",
              "      <td>5</td>\n",
              "      <td>3</td>\n",
              "    </tr>\n",
              "    <tr>\n",
              "      <th>4</th>\n",
              "      <td>925.0</td>\n",
              "      <td>330.0</td>\n",
              "      <td>0.106882</td>\n",
              "      <td>0.069589</td>\n",
              "      <td>0.0</td>\n",
              "      <td>0.013072</td>\n",
              "      <td>0.823529</td>\n",
              "      <td>2016</td>\n",
              "      <td>2</td>\n",
              "      <td>5</td>\n",
              "      <td>5</td>\n",
              "      <td>4</td>\n",
              "    </tr>\n",
              "  </tbody>\n",
              "</table>\n",
              "</div>"
            ],
            "text/plain": [
              "   lunch_y  dinner_y  vac_ratio  trip_ratio  ...  month  date  week  dayofweek\n",
              "0   1039.0     331.0   0.019223    0.057670  ...      2     1     5          0\n",
              "1    867.0     560.0   0.019223    0.066513  ...      2     2     5          1\n",
              "2   1017.0     573.0   0.021530    0.069204  ...      2     3     5          2\n",
              "3    978.0     525.0   0.039985    0.084583  ...      2     4     5          3\n",
              "4    925.0     330.0   0.106882    0.069589  ...      2     5     5          4\n",
              "\n",
              "[5 rows x 12 columns]"
            ]
          },
          "metadata": {
            "tags": []
          },
          "execution_count": 33
        }
      ]
    },
    {
      "cell_type": "code",
      "metadata": {
        "colab": {
          "base_uri": "https://localhost:8080/"
        },
        "id": "2zUPKCgbjzOx",
        "outputId": "a8bfc30a-df10-4ece-8832-5a8e95ec29c7"
      },
      "source": [
        "print(all_df.shape)"
      ],
      "execution_count": 34,
      "outputs": [
        {
          "output_type": "stream",
          "text": [
            "(1255, 12)\n"
          ],
          "name": "stdout"
        }
      ]
    },
    {
      "cell_type": "code",
      "metadata": {
        "colab": {
          "base_uri": "https://localhost:8080/"
        },
        "id": "oRyNzcxiiIKR",
        "outputId": "22106039-b672-4741-d3d4-6506a7506686"
      },
      "source": [
        "lunch_oh_df = pd.concat([all_df, lunch_oh], axis=1)\n",
        "dinner_oh_df = pd.concat([all_df, dinner_oh], axis=1)\n",
        "print(lunch_oh_df.shape, dinner_oh_df.shape)"
      ],
      "execution_count": 35,
      "outputs": [
        {
          "output_type": "stream",
          "text": [
            "(1255, 1574) (1255, 1580)\n"
          ],
          "name": "stdout"
        }
      ]
    },
    {
      "cell_type": "code",
      "metadata": {
        "colab": {
          "base_uri": "https://localhost:8080/",
          "height": 389
        },
        "id": "2V_DSx7WkPYn",
        "outputId": "f461c91c-9c42-46ef-a20f-19176ee0c1e4"
      },
      "source": [
        "lunch_oh_df.head()"
      ],
      "execution_count": 36,
      "outputs": [
        {
          "output_type": "execute_result",
          "data": {
            "text/html": [
              "<div>\n",
              "<style scoped>\n",
              "    .dataframe tbody tr th:only-of-type {\n",
              "        vertical-align: middle;\n",
              "    }\n",
              "\n",
              "    .dataframe tbody tr th {\n",
              "        vertical-align: top;\n",
              "    }\n",
              "\n",
              "    .dataframe thead th {\n",
              "        text-align: right;\n",
              "    }\n",
              "</style>\n",
              "<table border=\"1\" class=\"dataframe\">\n",
              "  <thead>\n",
              "    <tr style=\"text-align: right;\">\n",
              "      <th></th>\n",
              "      <th>lunch_y</th>\n",
              "      <th>dinner_y</th>\n",
              "      <th>vac_ratio</th>\n",
              "      <th>trip_ratio</th>\n",
              "      <th>home</th>\n",
              "      <th>extra</th>\n",
              "      <th>total</th>\n",
              "      <th>year</th>\n",
              "      <th>month</th>\n",
              "      <th>date</th>\n",
              "      <th>week</th>\n",
              "      <th>dayofweek</th>\n",
              "      <th>아몬드멸치볶음</th>\n",
              "      <th>닭살데리야끼조림</th>\n",
              "      <th>고추장찌개</th>\n",
              "      <th>콩비지찌개</th>\n",
              "      <th>순살양념치킨</th>\n",
              "      <th>닭찜</th>\n",
              "      <th>사각어묵무침</th>\n",
              "      <th>토마토두부카프레제</th>\n",
              "      <th>비엔나케찹볶음</th>\n",
              "      <th>시래기들깨탕</th>\n",
              "      <th>오이무초무침</th>\n",
              "      <th>락교</th>\n",
              "      <th>완두콩밥</th>\n",
              "      <th>타코야끼</th>\n",
              "      <th>사과</th>\n",
              "      <th>마파무조림</th>\n",
              "      <th>불고기비빔밥</th>\n",
              "      <th>쇠고기미역국</th>\n",
              "      <th>두부고기양념찜</th>\n",
              "      <th>미나리오이무침</th>\n",
              "      <th>마늘간장치킨</th>\n",
              "      <th>가자미구이</th>\n",
              "      <th>호두견과류강정</th>\n",
              "      <th>물파래전</th>\n",
              "      <th>두부맛전</th>\n",
              "      <th>미나리초무침</th>\n",
              "      <th>취나물쌈장무침</th>\n",
              "      <th>새우날치알볶음밥</th>\n",
              "      <th>...</th>\n",
              "      <th>쌈추</th>\n",
              "      <th>무채와사비무침</th>\n",
              "      <th>파채상추무침</th>\n",
              "      <th>유채나물무침</th>\n",
              "      <th>수제과일잼샌드</th>\n",
              "      <th>닭오븐구이</th>\n",
              "      <th>아귀콩나물찜</th>\n",
              "      <th>치즈계란찜</th>\n",
              "      <th>건새우무국</th>\n",
              "      <th>깻잎완자전</th>\n",
              "      <th>매운돈갈비찜</th>\n",
              "      <th>꼬지삼색전</th>\n",
              "      <th>청양고추계란말이</th>\n",
              "      <th>유채나물</th>\n",
              "      <th>연근땅콩조림</th>\n",
              "      <th>쇠고기모듬장조림</th>\n",
              "      <th>개성식메밀부침개</th>\n",
              "      <th>열무비빔밥</th>\n",
              "      <th>콜리샐러드</th>\n",
              "      <th>꼬막미나리초무침</th>\n",
              "      <th>맛살냉채</th>\n",
              "      <th>닭살냉채</th>\n",
              "      <th>소고기숙주볶음</th>\n",
              "      <th>호박나물</th>\n",
              "      <th>시래기된장국</th>\n",
              "      <th>비엔나감자볶음</th>\n",
              "      <th>오리들깨탕</th>\n",
              "      <th>나주곰탕</th>\n",
              "      <th>간장돼지갈비찜</th>\n",
              "      <th>쭈꾸미삼겹살볶음</th>\n",
              "      <th>볶은김치</th>\n",
              "      <th>핫도그</th>\n",
              "      <th>돌나물유자청무침</th>\n",
              "      <th>야채튀김</th>\n",
              "      <th>깍둑오이초무침</th>\n",
              "      <th>순대국밥</th>\n",
              "      <th>명이절임</th>\n",
              "      <th>임연수구이</th>\n",
              "      <th>쇠고기당면볶음</th>\n",
              "      <th>햇고구마오븐구이</th>\n",
              "    </tr>\n",
              "  </thead>\n",
              "  <tbody>\n",
              "    <tr>\n",
              "      <th>0</th>\n",
              "      <td>1039.0</td>\n",
              "      <td>331.0</td>\n",
              "      <td>0.019223</td>\n",
              "      <td>0.057670</td>\n",
              "      <td>0.0</td>\n",
              "      <td>0.091503</td>\n",
              "      <td>0.923106</td>\n",
              "      <td>2016</td>\n",
              "      <td>2</td>\n",
              "      <td>1</td>\n",
              "      <td>5</td>\n",
              "      <td>0</td>\n",
              "      <td>0.0</td>\n",
              "      <td>0.0</td>\n",
              "      <td>0.0</td>\n",
              "      <td>0.0</td>\n",
              "      <td>0.0</td>\n",
              "      <td>0.0</td>\n",
              "      <td>0.0</td>\n",
              "      <td>0.0</td>\n",
              "      <td>0.0</td>\n",
              "      <td>0.0</td>\n",
              "      <td>0.0</td>\n",
              "      <td>0.0</td>\n",
              "      <td>0.0</td>\n",
              "      <td>0.0</td>\n",
              "      <td>0.0</td>\n",
              "      <td>0.0</td>\n",
              "      <td>0.0</td>\n",
              "      <td>0.0</td>\n",
              "      <td>0.0</td>\n",
              "      <td>0.0</td>\n",
              "      <td>0.0</td>\n",
              "      <td>0.0</td>\n",
              "      <td>0.0</td>\n",
              "      <td>0.0</td>\n",
              "      <td>0.0</td>\n",
              "      <td>0.0</td>\n",
              "      <td>0.0</td>\n",
              "      <td>0.0</td>\n",
              "      <td>...</td>\n",
              "      <td>0.0</td>\n",
              "      <td>0.0</td>\n",
              "      <td>0.0</td>\n",
              "      <td>0.0</td>\n",
              "      <td>0.0</td>\n",
              "      <td>0.0</td>\n",
              "      <td>0.0</td>\n",
              "      <td>0.0</td>\n",
              "      <td>0.0</td>\n",
              "      <td>0.0</td>\n",
              "      <td>0.0</td>\n",
              "      <td>0.0</td>\n",
              "      <td>0.0</td>\n",
              "      <td>0.0</td>\n",
              "      <td>0.0</td>\n",
              "      <td>0.0</td>\n",
              "      <td>0.0</td>\n",
              "      <td>0.0</td>\n",
              "      <td>0.0</td>\n",
              "      <td>0.0</td>\n",
              "      <td>0.0</td>\n",
              "      <td>0.0</td>\n",
              "      <td>0.0</td>\n",
              "      <td>0.0</td>\n",
              "      <td>0.0</td>\n",
              "      <td>0.0</td>\n",
              "      <td>0.0</td>\n",
              "      <td>0.0</td>\n",
              "      <td>0.0</td>\n",
              "      <td>0.0</td>\n",
              "      <td>0.0</td>\n",
              "      <td>0.0</td>\n",
              "      <td>0.0</td>\n",
              "      <td>0.0</td>\n",
              "      <td>0.0</td>\n",
              "      <td>0.0</td>\n",
              "      <td>0.0</td>\n",
              "      <td>0.0</td>\n",
              "      <td>0.0</td>\n",
              "      <td>0.0</td>\n",
              "    </tr>\n",
              "    <tr>\n",
              "      <th>1</th>\n",
              "      <td>867.0</td>\n",
              "      <td>560.0</td>\n",
              "      <td>0.019223</td>\n",
              "      <td>0.066513</td>\n",
              "      <td>0.0</td>\n",
              "      <td>0.122645</td>\n",
              "      <td>0.914264</td>\n",
              "      <td>2016</td>\n",
              "      <td>2</td>\n",
              "      <td>2</td>\n",
              "      <td>5</td>\n",
              "      <td>1</td>\n",
              "      <td>0.0</td>\n",
              "      <td>0.0</td>\n",
              "      <td>0.0</td>\n",
              "      <td>0.0</td>\n",
              "      <td>0.0</td>\n",
              "      <td>0.0</td>\n",
              "      <td>0.0</td>\n",
              "      <td>0.0</td>\n",
              "      <td>0.0</td>\n",
              "      <td>0.0</td>\n",
              "      <td>0.0</td>\n",
              "      <td>0.0</td>\n",
              "      <td>0.0</td>\n",
              "      <td>0.0</td>\n",
              "      <td>0.0</td>\n",
              "      <td>0.0</td>\n",
              "      <td>0.0</td>\n",
              "      <td>0.0</td>\n",
              "      <td>0.0</td>\n",
              "      <td>0.0</td>\n",
              "      <td>0.0</td>\n",
              "      <td>0.0</td>\n",
              "      <td>0.0</td>\n",
              "      <td>0.0</td>\n",
              "      <td>0.0</td>\n",
              "      <td>0.0</td>\n",
              "      <td>0.0</td>\n",
              "      <td>0.0</td>\n",
              "      <td>...</td>\n",
              "      <td>0.0</td>\n",
              "      <td>0.0</td>\n",
              "      <td>0.0</td>\n",
              "      <td>0.0</td>\n",
              "      <td>0.0</td>\n",
              "      <td>0.0</td>\n",
              "      <td>0.0</td>\n",
              "      <td>0.0</td>\n",
              "      <td>0.0</td>\n",
              "      <td>0.0</td>\n",
              "      <td>0.0</td>\n",
              "      <td>0.0</td>\n",
              "      <td>0.0</td>\n",
              "      <td>0.0</td>\n",
              "      <td>0.0</td>\n",
              "      <td>0.0</td>\n",
              "      <td>0.0</td>\n",
              "      <td>0.0</td>\n",
              "      <td>0.0</td>\n",
              "      <td>0.0</td>\n",
              "      <td>0.0</td>\n",
              "      <td>0.0</td>\n",
              "      <td>0.0</td>\n",
              "      <td>0.0</td>\n",
              "      <td>0.0</td>\n",
              "      <td>0.0</td>\n",
              "      <td>0.0</td>\n",
              "      <td>0.0</td>\n",
              "      <td>0.0</td>\n",
              "      <td>0.0</td>\n",
              "      <td>0.0</td>\n",
              "      <td>0.0</td>\n",
              "      <td>0.0</td>\n",
              "      <td>0.0</td>\n",
              "      <td>0.0</td>\n",
              "      <td>0.0</td>\n",
              "      <td>0.0</td>\n",
              "      <td>0.0</td>\n",
              "      <td>0.0</td>\n",
              "      <td>0.0</td>\n",
              "    </tr>\n",
              "    <tr>\n",
              "      <th>2</th>\n",
              "      <td>1017.0</td>\n",
              "      <td>573.0</td>\n",
              "      <td>0.021530</td>\n",
              "      <td>0.069204</td>\n",
              "      <td>0.0</td>\n",
              "      <td>0.042676</td>\n",
              "      <td>0.909266</td>\n",
              "      <td>2016</td>\n",
              "      <td>2</td>\n",
              "      <td>3</td>\n",
              "      <td>5</td>\n",
              "      <td>2</td>\n",
              "      <td>0.0</td>\n",
              "      <td>0.0</td>\n",
              "      <td>0.0</td>\n",
              "      <td>0.0</td>\n",
              "      <td>0.0</td>\n",
              "      <td>0.0</td>\n",
              "      <td>0.0</td>\n",
              "      <td>0.0</td>\n",
              "      <td>0.0</td>\n",
              "      <td>0.0</td>\n",
              "      <td>0.0</td>\n",
              "      <td>0.0</td>\n",
              "      <td>0.0</td>\n",
              "      <td>0.0</td>\n",
              "      <td>0.0</td>\n",
              "      <td>0.0</td>\n",
              "      <td>0.0</td>\n",
              "      <td>0.0</td>\n",
              "      <td>0.0</td>\n",
              "      <td>0.0</td>\n",
              "      <td>0.0</td>\n",
              "      <td>0.0</td>\n",
              "      <td>0.0</td>\n",
              "      <td>0.0</td>\n",
              "      <td>0.0</td>\n",
              "      <td>0.0</td>\n",
              "      <td>0.0</td>\n",
              "      <td>0.0</td>\n",
              "      <td>...</td>\n",
              "      <td>0.0</td>\n",
              "      <td>0.0</td>\n",
              "      <td>0.0</td>\n",
              "      <td>0.0</td>\n",
              "      <td>0.0</td>\n",
              "      <td>0.0</td>\n",
              "      <td>0.0</td>\n",
              "      <td>0.0</td>\n",
              "      <td>0.0</td>\n",
              "      <td>0.0</td>\n",
              "      <td>0.0</td>\n",
              "      <td>0.0</td>\n",
              "      <td>0.0</td>\n",
              "      <td>0.0</td>\n",
              "      <td>0.0</td>\n",
              "      <td>0.0</td>\n",
              "      <td>0.0</td>\n",
              "      <td>0.0</td>\n",
              "      <td>0.0</td>\n",
              "      <td>0.0</td>\n",
              "      <td>0.0</td>\n",
              "      <td>0.0</td>\n",
              "      <td>0.0</td>\n",
              "      <td>0.0</td>\n",
              "      <td>0.0</td>\n",
              "      <td>0.0</td>\n",
              "      <td>0.0</td>\n",
              "      <td>0.0</td>\n",
              "      <td>0.0</td>\n",
              "      <td>0.0</td>\n",
              "      <td>0.0</td>\n",
              "      <td>0.0</td>\n",
              "      <td>0.0</td>\n",
              "      <td>0.0</td>\n",
              "      <td>0.0</td>\n",
              "      <td>0.0</td>\n",
              "      <td>0.0</td>\n",
              "      <td>0.0</td>\n",
              "      <td>0.0</td>\n",
              "      <td>0.0</td>\n",
              "    </tr>\n",
              "    <tr>\n",
              "      <th>3</th>\n",
              "      <td>978.0</td>\n",
              "      <td>525.0</td>\n",
              "      <td>0.039985</td>\n",
              "      <td>0.084583</td>\n",
              "      <td>0.0</td>\n",
              "      <td>0.136486</td>\n",
              "      <td>0.875433</td>\n",
              "      <td>2016</td>\n",
              "      <td>2</td>\n",
              "      <td>4</td>\n",
              "      <td>5</td>\n",
              "      <td>3</td>\n",
              "      <td>0.0</td>\n",
              "      <td>0.0</td>\n",
              "      <td>0.0</td>\n",
              "      <td>0.0</td>\n",
              "      <td>0.0</td>\n",
              "      <td>0.0</td>\n",
              "      <td>0.0</td>\n",
              "      <td>0.0</td>\n",
              "      <td>0.0</td>\n",
              "      <td>0.0</td>\n",
              "      <td>0.0</td>\n",
              "      <td>0.0</td>\n",
              "      <td>0.0</td>\n",
              "      <td>0.0</td>\n",
              "      <td>0.0</td>\n",
              "      <td>0.0</td>\n",
              "      <td>0.0</td>\n",
              "      <td>0.0</td>\n",
              "      <td>0.0</td>\n",
              "      <td>0.0</td>\n",
              "      <td>0.0</td>\n",
              "      <td>0.0</td>\n",
              "      <td>0.0</td>\n",
              "      <td>0.0</td>\n",
              "      <td>0.0</td>\n",
              "      <td>0.0</td>\n",
              "      <td>0.0</td>\n",
              "      <td>0.0</td>\n",
              "      <td>...</td>\n",
              "      <td>0.0</td>\n",
              "      <td>0.0</td>\n",
              "      <td>0.0</td>\n",
              "      <td>0.0</td>\n",
              "      <td>0.0</td>\n",
              "      <td>0.0</td>\n",
              "      <td>0.0</td>\n",
              "      <td>0.0</td>\n",
              "      <td>0.0</td>\n",
              "      <td>0.0</td>\n",
              "      <td>0.0</td>\n",
              "      <td>0.0</td>\n",
              "      <td>0.0</td>\n",
              "      <td>0.0</td>\n",
              "      <td>0.0</td>\n",
              "      <td>0.0</td>\n",
              "      <td>0.0</td>\n",
              "      <td>0.0</td>\n",
              "      <td>0.0</td>\n",
              "      <td>0.0</td>\n",
              "      <td>0.0</td>\n",
              "      <td>0.0</td>\n",
              "      <td>0.0</td>\n",
              "      <td>0.0</td>\n",
              "      <td>0.0</td>\n",
              "      <td>0.0</td>\n",
              "      <td>0.0</td>\n",
              "      <td>0.0</td>\n",
              "      <td>0.0</td>\n",
              "      <td>0.0</td>\n",
              "      <td>0.0</td>\n",
              "      <td>0.0</td>\n",
              "      <td>0.0</td>\n",
              "      <td>0.0</td>\n",
              "      <td>0.0</td>\n",
              "      <td>0.0</td>\n",
              "      <td>0.0</td>\n",
              "      <td>0.0</td>\n",
              "      <td>0.0</td>\n",
              "      <td>0.0</td>\n",
              "    </tr>\n",
              "    <tr>\n",
              "      <th>4</th>\n",
              "      <td>925.0</td>\n",
              "      <td>330.0</td>\n",
              "      <td>0.106882</td>\n",
              "      <td>0.069589</td>\n",
              "      <td>0.0</td>\n",
              "      <td>0.013072</td>\n",
              "      <td>0.823529</td>\n",
              "      <td>2016</td>\n",
              "      <td>2</td>\n",
              "      <td>5</td>\n",
              "      <td>5</td>\n",
              "      <td>4</td>\n",
              "      <td>0.0</td>\n",
              "      <td>0.0</td>\n",
              "      <td>0.0</td>\n",
              "      <td>0.0</td>\n",
              "      <td>0.0</td>\n",
              "      <td>0.0</td>\n",
              "      <td>0.0</td>\n",
              "      <td>0.0</td>\n",
              "      <td>0.0</td>\n",
              "      <td>0.0</td>\n",
              "      <td>0.0</td>\n",
              "      <td>0.0</td>\n",
              "      <td>0.0</td>\n",
              "      <td>0.0</td>\n",
              "      <td>0.0</td>\n",
              "      <td>0.0</td>\n",
              "      <td>0.0</td>\n",
              "      <td>0.0</td>\n",
              "      <td>0.0</td>\n",
              "      <td>0.0</td>\n",
              "      <td>0.0</td>\n",
              "      <td>0.0</td>\n",
              "      <td>0.0</td>\n",
              "      <td>0.0</td>\n",
              "      <td>0.0</td>\n",
              "      <td>0.0</td>\n",
              "      <td>0.0</td>\n",
              "      <td>0.0</td>\n",
              "      <td>...</td>\n",
              "      <td>0.0</td>\n",
              "      <td>0.0</td>\n",
              "      <td>0.0</td>\n",
              "      <td>0.0</td>\n",
              "      <td>0.0</td>\n",
              "      <td>0.0</td>\n",
              "      <td>0.0</td>\n",
              "      <td>0.0</td>\n",
              "      <td>0.0</td>\n",
              "      <td>0.0</td>\n",
              "      <td>0.0</td>\n",
              "      <td>0.0</td>\n",
              "      <td>0.0</td>\n",
              "      <td>0.0</td>\n",
              "      <td>0.0</td>\n",
              "      <td>0.0</td>\n",
              "      <td>0.0</td>\n",
              "      <td>0.0</td>\n",
              "      <td>0.0</td>\n",
              "      <td>0.0</td>\n",
              "      <td>0.0</td>\n",
              "      <td>0.0</td>\n",
              "      <td>0.0</td>\n",
              "      <td>0.0</td>\n",
              "      <td>0.0</td>\n",
              "      <td>0.0</td>\n",
              "      <td>0.0</td>\n",
              "      <td>0.0</td>\n",
              "      <td>0.0</td>\n",
              "      <td>0.0</td>\n",
              "      <td>0.0</td>\n",
              "      <td>0.0</td>\n",
              "      <td>0.0</td>\n",
              "      <td>0.0</td>\n",
              "      <td>0.0</td>\n",
              "      <td>0.0</td>\n",
              "      <td>0.0</td>\n",
              "      <td>0.0</td>\n",
              "      <td>0.0</td>\n",
              "      <td>0.0</td>\n",
              "    </tr>\n",
              "  </tbody>\n",
              "</table>\n",
              "<p>5 rows × 1574 columns</p>\n",
              "</div>"
            ],
            "text/plain": [
              "   lunch_y  dinner_y  vac_ratio  trip_ratio  ...  명이절임  임연수구이  쇠고기당면볶음  햇고구마오븐구이\n",
              "0   1039.0     331.0   0.019223    0.057670  ...   0.0    0.0      0.0       0.0\n",
              "1    867.0     560.0   0.019223    0.066513  ...   0.0    0.0      0.0       0.0\n",
              "2   1017.0     573.0   0.021530    0.069204  ...   0.0    0.0      0.0       0.0\n",
              "3    978.0     525.0   0.039985    0.084583  ...   0.0    0.0      0.0       0.0\n",
              "4    925.0     330.0   0.106882    0.069589  ...   0.0    0.0      0.0       0.0\n",
              "\n",
              "[5 rows x 1574 columns]"
            ]
          },
          "metadata": {
            "tags": []
          },
          "execution_count": 36
        }
      ]
    },
    {
      "cell_type": "code",
      "metadata": {
        "colab": {
          "base_uri": "https://localhost:8080/",
          "height": 372
        },
        "id": "FwhOouxwkVGN",
        "outputId": "e16ab751-564d-461b-facb-22b4935305de"
      },
      "source": [
        "dinner_oh_df.head()"
      ],
      "execution_count": 37,
      "outputs": [
        {
          "output_type": "execute_result",
          "data": {
            "text/html": [
              "<div>\n",
              "<style scoped>\n",
              "    .dataframe tbody tr th:only-of-type {\n",
              "        vertical-align: middle;\n",
              "    }\n",
              "\n",
              "    .dataframe tbody tr th {\n",
              "        vertical-align: top;\n",
              "    }\n",
              "\n",
              "    .dataframe thead th {\n",
              "        text-align: right;\n",
              "    }\n",
              "</style>\n",
              "<table border=\"1\" class=\"dataframe\">\n",
              "  <thead>\n",
              "    <tr style=\"text-align: right;\">\n",
              "      <th></th>\n",
              "      <th>lunch_y</th>\n",
              "      <th>dinner_y</th>\n",
              "      <th>vac_ratio</th>\n",
              "      <th>trip_ratio</th>\n",
              "      <th>home</th>\n",
              "      <th>extra</th>\n",
              "      <th>total</th>\n",
              "      <th>year</th>\n",
              "      <th>month</th>\n",
              "      <th>date</th>\n",
              "      <th>week</th>\n",
              "      <th>dayofweek</th>\n",
              "      <th>볼어묵곤약볶음</th>\n",
              "      <th>아몬드멸치볶음</th>\n",
              "      <th>고추장찌개</th>\n",
              "      <th>콩비지찌개</th>\n",
              "      <th>비엔나케찹볶음</th>\n",
              "      <th>어묵곤약볶음</th>\n",
              "      <th>찐감자</th>\n",
              "      <th>꼬막찜</th>\n",
              "      <th>시래기들깨탕</th>\n",
              "      <th>락교</th>\n",
              "      <th>근대나물무침</th>\n",
              "      <th>타코야끼</th>\n",
              "      <th>사과</th>\n",
              "      <th>오징어순대볶음</th>\n",
              "      <th>호박젓국찌개</th>\n",
              "      <th>바지락살국</th>\n",
              "      <th>쇠고기미역국</th>\n",
              "      <th>달래오이생채</th>\n",
              "      <th>제육춘장볶음</th>\n",
              "      <th>마늘간장치킨</th>\n",
              "      <th>건파래볶음</th>\n",
              "      <th>가자미구이</th>\n",
              "      <th>바지락수제비</th>\n",
              "      <th>만두튀김</th>\n",
              "      <th>물파래전</th>\n",
              "      <th>두부미소된장국</th>\n",
              "      <th>사과양상추샐러드</th>\n",
              "      <th>쨔샤이무침</th>\n",
              "      <th>...</th>\n",
              "      <th>봄나물튀김</th>\n",
              "      <th>가지탕수</th>\n",
              "      <th>아삭고추된장무침</th>\n",
              "      <th>쇠고기매운국</th>\n",
              "      <th>쇠고기국</th>\n",
              "      <th>크림새우</th>\n",
              "      <th>마카로니치즈범벅</th>\n",
              "      <th>감귤쥬스</th>\n",
              "      <th>취나물볶음</th>\n",
              "      <th>나가사키면</th>\n",
              "      <th>멘보샤</th>\n",
              "      <th>매운등뼈조림</th>\n",
              "      <th>유채나물무침</th>\n",
              "      <th>쑥갓생무침</th>\n",
              "      <th>닭오븐구이</th>\n",
              "      <th>아귀콩나물찜</th>\n",
              "      <th>치즈계란찜</th>\n",
              "      <th>완두콩스프</th>\n",
              "      <th>시래기삼치조림</th>\n",
              "      <th>매운돈갈비찜</th>\n",
              "      <th>유채나물</th>\n",
              "      <th>연근땅콩조림</th>\n",
              "      <th>미니김밥</th>\n",
              "      <th>장국</th>\n",
              "      <th>두반장가지나물</th>\n",
              "      <th>맛살냉채</th>\n",
              "      <th>닭살냉채</th>\n",
              "      <th>호박나물</th>\n",
              "      <th>소고기숙주볶음</th>\n",
              "      <th>호빵</th>\n",
              "      <th>비엔나감자볶음</th>\n",
              "      <th>비프스파게티</th>\n",
              "      <th>핫도그</th>\n",
              "      <th>돌나물유자청무침</th>\n",
              "      <th>야채튀김</th>\n",
              "      <th>깍둑오이초무침</th>\n",
              "      <th>부추팽이무침</th>\n",
              "      <th>임연수구이</th>\n",
              "      <th>나박물김치</th>\n",
              "      <th>훈제오리불고기</th>\n",
              "    </tr>\n",
              "  </thead>\n",
              "  <tbody>\n",
              "    <tr>\n",
              "      <th>0</th>\n",
              "      <td>1039.0</td>\n",
              "      <td>331.0</td>\n",
              "      <td>0.019223</td>\n",
              "      <td>0.057670</td>\n",
              "      <td>0.0</td>\n",
              "      <td>0.091503</td>\n",
              "      <td>0.923106</td>\n",
              "      <td>2016</td>\n",
              "      <td>2</td>\n",
              "      <td>1</td>\n",
              "      <td>5</td>\n",
              "      <td>0</td>\n",
              "      <td>0.0</td>\n",
              "      <td>0.0</td>\n",
              "      <td>0.0</td>\n",
              "      <td>0.0</td>\n",
              "      <td>0.0</td>\n",
              "      <td>0.0</td>\n",
              "      <td>0.0</td>\n",
              "      <td>0.0</td>\n",
              "      <td>0.0</td>\n",
              "      <td>0.0</td>\n",
              "      <td>0.0</td>\n",
              "      <td>0.0</td>\n",
              "      <td>0.0</td>\n",
              "      <td>0.0</td>\n",
              "      <td>0.0</td>\n",
              "      <td>0.0</td>\n",
              "      <td>0.0</td>\n",
              "      <td>0.0</td>\n",
              "      <td>0.0</td>\n",
              "      <td>0.0</td>\n",
              "      <td>0.0</td>\n",
              "      <td>0.0</td>\n",
              "      <td>0.0</td>\n",
              "      <td>0.0</td>\n",
              "      <td>0.0</td>\n",
              "      <td>0.0</td>\n",
              "      <td>0.0</td>\n",
              "      <td>0.0</td>\n",
              "      <td>...</td>\n",
              "      <td>0.0</td>\n",
              "      <td>0.0</td>\n",
              "      <td>0.0</td>\n",
              "      <td>0.0</td>\n",
              "      <td>0.0</td>\n",
              "      <td>0.0</td>\n",
              "      <td>0.0</td>\n",
              "      <td>0.0</td>\n",
              "      <td>0.0</td>\n",
              "      <td>0.0</td>\n",
              "      <td>0.0</td>\n",
              "      <td>0.0</td>\n",
              "      <td>0.0</td>\n",
              "      <td>0.0</td>\n",
              "      <td>0.0</td>\n",
              "      <td>0.0</td>\n",
              "      <td>0.0</td>\n",
              "      <td>0.0</td>\n",
              "      <td>0.0</td>\n",
              "      <td>0.0</td>\n",
              "      <td>0.0</td>\n",
              "      <td>0.0</td>\n",
              "      <td>0.0</td>\n",
              "      <td>0.0</td>\n",
              "      <td>0.0</td>\n",
              "      <td>0.0</td>\n",
              "      <td>0.0</td>\n",
              "      <td>0.0</td>\n",
              "      <td>0.0</td>\n",
              "      <td>0.0</td>\n",
              "      <td>0.0</td>\n",
              "      <td>0.0</td>\n",
              "      <td>0.0</td>\n",
              "      <td>0.0</td>\n",
              "      <td>0.0</td>\n",
              "      <td>0.0</td>\n",
              "      <td>0.0</td>\n",
              "      <td>0.0</td>\n",
              "      <td>0.0</td>\n",
              "      <td>0.0</td>\n",
              "    </tr>\n",
              "    <tr>\n",
              "      <th>1</th>\n",
              "      <td>867.0</td>\n",
              "      <td>560.0</td>\n",
              "      <td>0.019223</td>\n",
              "      <td>0.066513</td>\n",
              "      <td>0.0</td>\n",
              "      <td>0.122645</td>\n",
              "      <td>0.914264</td>\n",
              "      <td>2016</td>\n",
              "      <td>2</td>\n",
              "      <td>2</td>\n",
              "      <td>5</td>\n",
              "      <td>1</td>\n",
              "      <td>0.0</td>\n",
              "      <td>0.0</td>\n",
              "      <td>0.0</td>\n",
              "      <td>0.0</td>\n",
              "      <td>0.0</td>\n",
              "      <td>0.0</td>\n",
              "      <td>0.0</td>\n",
              "      <td>0.0</td>\n",
              "      <td>0.0</td>\n",
              "      <td>0.0</td>\n",
              "      <td>0.0</td>\n",
              "      <td>0.0</td>\n",
              "      <td>0.0</td>\n",
              "      <td>0.0</td>\n",
              "      <td>0.0</td>\n",
              "      <td>0.0</td>\n",
              "      <td>0.0</td>\n",
              "      <td>0.0</td>\n",
              "      <td>0.0</td>\n",
              "      <td>0.0</td>\n",
              "      <td>0.0</td>\n",
              "      <td>0.0</td>\n",
              "      <td>0.0</td>\n",
              "      <td>0.0</td>\n",
              "      <td>0.0</td>\n",
              "      <td>0.0</td>\n",
              "      <td>0.0</td>\n",
              "      <td>0.0</td>\n",
              "      <td>...</td>\n",
              "      <td>0.0</td>\n",
              "      <td>0.0</td>\n",
              "      <td>0.0</td>\n",
              "      <td>0.0</td>\n",
              "      <td>0.0</td>\n",
              "      <td>0.0</td>\n",
              "      <td>0.0</td>\n",
              "      <td>0.0</td>\n",
              "      <td>0.0</td>\n",
              "      <td>0.0</td>\n",
              "      <td>0.0</td>\n",
              "      <td>0.0</td>\n",
              "      <td>0.0</td>\n",
              "      <td>0.0</td>\n",
              "      <td>0.0</td>\n",
              "      <td>0.0</td>\n",
              "      <td>0.0</td>\n",
              "      <td>0.0</td>\n",
              "      <td>0.0</td>\n",
              "      <td>0.0</td>\n",
              "      <td>0.0</td>\n",
              "      <td>0.0</td>\n",
              "      <td>0.0</td>\n",
              "      <td>0.0</td>\n",
              "      <td>0.0</td>\n",
              "      <td>0.0</td>\n",
              "      <td>0.0</td>\n",
              "      <td>0.0</td>\n",
              "      <td>0.0</td>\n",
              "      <td>0.0</td>\n",
              "      <td>0.0</td>\n",
              "      <td>0.0</td>\n",
              "      <td>0.0</td>\n",
              "      <td>0.0</td>\n",
              "      <td>0.0</td>\n",
              "      <td>0.0</td>\n",
              "      <td>0.0</td>\n",
              "      <td>0.0</td>\n",
              "      <td>0.0</td>\n",
              "      <td>0.0</td>\n",
              "    </tr>\n",
              "    <tr>\n",
              "      <th>2</th>\n",
              "      <td>1017.0</td>\n",
              "      <td>573.0</td>\n",
              "      <td>0.021530</td>\n",
              "      <td>0.069204</td>\n",
              "      <td>0.0</td>\n",
              "      <td>0.042676</td>\n",
              "      <td>0.909266</td>\n",
              "      <td>2016</td>\n",
              "      <td>2</td>\n",
              "      <td>3</td>\n",
              "      <td>5</td>\n",
              "      <td>2</td>\n",
              "      <td>0.0</td>\n",
              "      <td>0.0</td>\n",
              "      <td>0.0</td>\n",
              "      <td>0.0</td>\n",
              "      <td>0.0</td>\n",
              "      <td>0.0</td>\n",
              "      <td>0.0</td>\n",
              "      <td>0.0</td>\n",
              "      <td>0.0</td>\n",
              "      <td>0.0</td>\n",
              "      <td>0.0</td>\n",
              "      <td>0.0</td>\n",
              "      <td>0.0</td>\n",
              "      <td>0.0</td>\n",
              "      <td>0.0</td>\n",
              "      <td>0.0</td>\n",
              "      <td>0.0</td>\n",
              "      <td>0.0</td>\n",
              "      <td>0.0</td>\n",
              "      <td>0.0</td>\n",
              "      <td>0.0</td>\n",
              "      <td>0.0</td>\n",
              "      <td>0.0</td>\n",
              "      <td>0.0</td>\n",
              "      <td>0.0</td>\n",
              "      <td>0.0</td>\n",
              "      <td>0.0</td>\n",
              "      <td>0.0</td>\n",
              "      <td>...</td>\n",
              "      <td>0.0</td>\n",
              "      <td>0.0</td>\n",
              "      <td>0.0</td>\n",
              "      <td>0.0</td>\n",
              "      <td>0.0</td>\n",
              "      <td>0.0</td>\n",
              "      <td>0.0</td>\n",
              "      <td>0.0</td>\n",
              "      <td>0.0</td>\n",
              "      <td>0.0</td>\n",
              "      <td>0.0</td>\n",
              "      <td>0.0</td>\n",
              "      <td>0.0</td>\n",
              "      <td>0.0</td>\n",
              "      <td>0.0</td>\n",
              "      <td>0.0</td>\n",
              "      <td>0.0</td>\n",
              "      <td>0.0</td>\n",
              "      <td>0.0</td>\n",
              "      <td>0.0</td>\n",
              "      <td>0.0</td>\n",
              "      <td>0.0</td>\n",
              "      <td>0.0</td>\n",
              "      <td>0.0</td>\n",
              "      <td>0.0</td>\n",
              "      <td>0.0</td>\n",
              "      <td>0.0</td>\n",
              "      <td>0.0</td>\n",
              "      <td>0.0</td>\n",
              "      <td>0.0</td>\n",
              "      <td>0.0</td>\n",
              "      <td>0.0</td>\n",
              "      <td>0.0</td>\n",
              "      <td>0.0</td>\n",
              "      <td>0.0</td>\n",
              "      <td>0.0</td>\n",
              "      <td>0.0</td>\n",
              "      <td>0.0</td>\n",
              "      <td>0.0</td>\n",
              "      <td>0.0</td>\n",
              "    </tr>\n",
              "    <tr>\n",
              "      <th>3</th>\n",
              "      <td>978.0</td>\n",
              "      <td>525.0</td>\n",
              "      <td>0.039985</td>\n",
              "      <td>0.084583</td>\n",
              "      <td>0.0</td>\n",
              "      <td>0.136486</td>\n",
              "      <td>0.875433</td>\n",
              "      <td>2016</td>\n",
              "      <td>2</td>\n",
              "      <td>4</td>\n",
              "      <td>5</td>\n",
              "      <td>3</td>\n",
              "      <td>0.0</td>\n",
              "      <td>0.0</td>\n",
              "      <td>0.0</td>\n",
              "      <td>0.0</td>\n",
              "      <td>0.0</td>\n",
              "      <td>0.0</td>\n",
              "      <td>0.0</td>\n",
              "      <td>0.0</td>\n",
              "      <td>0.0</td>\n",
              "      <td>0.0</td>\n",
              "      <td>0.0</td>\n",
              "      <td>0.0</td>\n",
              "      <td>0.0</td>\n",
              "      <td>0.0</td>\n",
              "      <td>0.0</td>\n",
              "      <td>0.0</td>\n",
              "      <td>0.0</td>\n",
              "      <td>0.0</td>\n",
              "      <td>0.0</td>\n",
              "      <td>0.0</td>\n",
              "      <td>0.0</td>\n",
              "      <td>0.0</td>\n",
              "      <td>0.0</td>\n",
              "      <td>0.0</td>\n",
              "      <td>0.0</td>\n",
              "      <td>0.0</td>\n",
              "      <td>0.0</td>\n",
              "      <td>0.0</td>\n",
              "      <td>...</td>\n",
              "      <td>0.0</td>\n",
              "      <td>0.0</td>\n",
              "      <td>0.0</td>\n",
              "      <td>0.0</td>\n",
              "      <td>0.0</td>\n",
              "      <td>0.0</td>\n",
              "      <td>0.0</td>\n",
              "      <td>0.0</td>\n",
              "      <td>0.0</td>\n",
              "      <td>0.0</td>\n",
              "      <td>0.0</td>\n",
              "      <td>0.0</td>\n",
              "      <td>0.0</td>\n",
              "      <td>0.0</td>\n",
              "      <td>0.0</td>\n",
              "      <td>0.0</td>\n",
              "      <td>0.0</td>\n",
              "      <td>0.0</td>\n",
              "      <td>0.0</td>\n",
              "      <td>0.0</td>\n",
              "      <td>0.0</td>\n",
              "      <td>0.0</td>\n",
              "      <td>1.0</td>\n",
              "      <td>0.0</td>\n",
              "      <td>0.0</td>\n",
              "      <td>0.0</td>\n",
              "      <td>0.0</td>\n",
              "      <td>0.0</td>\n",
              "      <td>0.0</td>\n",
              "      <td>0.0</td>\n",
              "      <td>0.0</td>\n",
              "      <td>0.0</td>\n",
              "      <td>0.0</td>\n",
              "      <td>0.0</td>\n",
              "      <td>0.0</td>\n",
              "      <td>0.0</td>\n",
              "      <td>0.0</td>\n",
              "      <td>0.0</td>\n",
              "      <td>0.0</td>\n",
              "      <td>0.0</td>\n",
              "    </tr>\n",
              "    <tr>\n",
              "      <th>4</th>\n",
              "      <td>925.0</td>\n",
              "      <td>330.0</td>\n",
              "      <td>0.106882</td>\n",
              "      <td>0.069589</td>\n",
              "      <td>0.0</td>\n",
              "      <td>0.013072</td>\n",
              "      <td>0.823529</td>\n",
              "      <td>2016</td>\n",
              "      <td>2</td>\n",
              "      <td>5</td>\n",
              "      <td>5</td>\n",
              "      <td>4</td>\n",
              "      <td>0.0</td>\n",
              "      <td>0.0</td>\n",
              "      <td>0.0</td>\n",
              "      <td>0.0</td>\n",
              "      <td>0.0</td>\n",
              "      <td>0.0</td>\n",
              "      <td>0.0</td>\n",
              "      <td>0.0</td>\n",
              "      <td>0.0</td>\n",
              "      <td>0.0</td>\n",
              "      <td>0.0</td>\n",
              "      <td>0.0</td>\n",
              "      <td>0.0</td>\n",
              "      <td>0.0</td>\n",
              "      <td>0.0</td>\n",
              "      <td>0.0</td>\n",
              "      <td>0.0</td>\n",
              "      <td>0.0</td>\n",
              "      <td>0.0</td>\n",
              "      <td>0.0</td>\n",
              "      <td>0.0</td>\n",
              "      <td>0.0</td>\n",
              "      <td>0.0</td>\n",
              "      <td>0.0</td>\n",
              "      <td>0.0</td>\n",
              "      <td>0.0</td>\n",
              "      <td>0.0</td>\n",
              "      <td>0.0</td>\n",
              "      <td>...</td>\n",
              "      <td>0.0</td>\n",
              "      <td>0.0</td>\n",
              "      <td>0.0</td>\n",
              "      <td>0.0</td>\n",
              "      <td>0.0</td>\n",
              "      <td>0.0</td>\n",
              "      <td>0.0</td>\n",
              "      <td>0.0</td>\n",
              "      <td>0.0</td>\n",
              "      <td>0.0</td>\n",
              "      <td>0.0</td>\n",
              "      <td>0.0</td>\n",
              "      <td>0.0</td>\n",
              "      <td>0.0</td>\n",
              "      <td>0.0</td>\n",
              "      <td>0.0</td>\n",
              "      <td>0.0</td>\n",
              "      <td>0.0</td>\n",
              "      <td>0.0</td>\n",
              "      <td>0.0</td>\n",
              "      <td>0.0</td>\n",
              "      <td>0.0</td>\n",
              "      <td>0.0</td>\n",
              "      <td>0.0</td>\n",
              "      <td>0.0</td>\n",
              "      <td>0.0</td>\n",
              "      <td>0.0</td>\n",
              "      <td>0.0</td>\n",
              "      <td>0.0</td>\n",
              "      <td>0.0</td>\n",
              "      <td>0.0</td>\n",
              "      <td>0.0</td>\n",
              "      <td>0.0</td>\n",
              "      <td>0.0</td>\n",
              "      <td>0.0</td>\n",
              "      <td>0.0</td>\n",
              "      <td>0.0</td>\n",
              "      <td>0.0</td>\n",
              "      <td>0.0</td>\n",
              "      <td>0.0</td>\n",
              "    </tr>\n",
              "  </tbody>\n",
              "</table>\n",
              "<p>5 rows × 1580 columns</p>\n",
              "</div>"
            ],
            "text/plain": [
              "   lunch_y  dinner_y  vac_ratio  trip_ratio  ...  부추팽이무침  임연수구이  나박물김치  훈제오리불고기\n",
              "0   1039.0     331.0   0.019223    0.057670  ...     0.0    0.0    0.0      0.0\n",
              "1    867.0     560.0   0.019223    0.066513  ...     0.0    0.0    0.0      0.0\n",
              "2   1017.0     573.0   0.021530    0.069204  ...     0.0    0.0    0.0      0.0\n",
              "3    978.0     525.0   0.039985    0.084583  ...     0.0    0.0    0.0      0.0\n",
              "4    925.0     330.0   0.106882    0.069589  ...     0.0    0.0    0.0      0.0\n",
              "\n",
              "[5 rows x 1580 columns]"
            ]
          },
          "metadata": {
            "tags": []
          },
          "execution_count": 37
        }
      ]
    },
    {
      "cell_type": "markdown",
      "metadata": {
        "id": "PjIOsxXbklAx"
      },
      "source": [
        "### train test split"
      ]
    },
    {
      "cell_type": "code",
      "metadata": {
        "colab": {
          "base_uri": "https://localhost:8080/"
        },
        "id": "Wg4kiyspkwsS",
        "outputId": "40f1933f-d43d-4c59-de2d-59ba6161c6be"
      },
      "source": [
        "l_oh_train_df = lunch_oh_df[:len(train_df)]\n",
        "l_oh_test_df = lunch_oh_df[len(train_df):].drop(['lunch_y', 'dinner_y'], axis=1)\n",
        "d_oh_train_df = dinner_oh_df[:len(train_df)]\n",
        "d_oh_test_df = dinner_oh_df[len(train_df):].drop(['lunch_y', 'dinner_y'], axis=1)\n",
        "\n",
        "print(l_oh_train_df.shape, l_oh_test_df.shape)\n",
        "print(d_oh_train_df.shape, d_oh_test_df.shape)"
      ],
      "execution_count": 38,
      "outputs": [
        {
          "output_type": "stream",
          "text": [
            "(1205, 1574) (50, 1572)\n",
            "(1205, 1580) (50, 1578)\n"
          ],
          "name": "stdout"
        }
      ]
    },
    {
      "cell_type": "code",
      "metadata": {
        "colab": {
          "base_uri": "https://localhost:8080/"
        },
        "id": "b8baG6dOlfZC",
        "outputId": "856c5ff4-d00a-403b-e772-658777f32031"
      },
      "source": [
        "lunch_X = l_oh_train_df.drop(['lunch_y', 'dinner_y'], axis=1)\n",
        "lunch_y = l_oh_train_df['lunch_y']\n",
        "dinner_X = d_oh_train_df.drop(['lunch_y', 'dinner_y'], axis=1)\n",
        "dinner_y = d_oh_train_df['dinner_y']\n",
        "for col in (lunch_X, lunch_y, dinner_X, dinner_y):\n",
        "    print(col.head(1))\n",
        "# 점심\n",
        "l_X_train, l_X_test, l_y_train, l_y_test = train_test_split(lunch_X, lunch_y, test_size=0.2, random_state=2021)\n",
        "# 저녁\n",
        "d_X_train, d_X_test, d_y_train, d_y_test = train_test_split(dinner_X, dinner_y, test_size=0.2, random_state=2021)\n",
        "\n",
        "col1 = [l_X_train, l_X_test, l_y_train, l_y_test]\n",
        "col2 = [d_X_train, d_X_test, d_y_train, d_y_test]\n",
        "for i, j in zip(col1, col2):\n",
        "    print('\\nlunch',i.shape)\n",
        "    print('dinner',j.shape)"
      ],
      "execution_count": 39,
      "outputs": [
        {
          "output_type": "stream",
          "text": [
            "   vac_ratio  trip_ratio  home     extra  ...  명이절임  임연수구이  쇠고기당면볶음  햇고구마오븐구이\n",
            "0   0.019223     0.05767   0.0  0.091503  ...   0.0    0.0      0.0       0.0\n",
            "\n",
            "[1 rows x 1572 columns]\n",
            "0    1039.0\n",
            "Name: lunch_y, dtype: float64\n",
            "   vac_ratio  trip_ratio  home     extra  ...  부추팽이무침  임연수구이  나박물김치  훈제오리불고기\n",
            "0   0.019223     0.05767   0.0  0.091503  ...     0.0    0.0    0.0      0.0\n",
            "\n",
            "[1 rows x 1578 columns]\n",
            "0    331.0\n",
            "Name: dinner_y, dtype: float64\n",
            "\n",
            "lunch (964, 1572)\n",
            "dinner (964, 1578)\n",
            "\n",
            "lunch (241, 1572)\n",
            "dinner (241, 1578)\n",
            "\n",
            "lunch (964,)\n",
            "dinner (964,)\n",
            "\n",
            "lunch (241,)\n",
            "dinner (241,)\n"
          ],
          "name": "stdout"
        }
      ]
    },
    {
      "cell_type": "markdown",
      "metadata": {
        "id": "v-K9iwVumkLg"
      },
      "source": [
        "### LightGBM"
      ]
    },
    {
      "cell_type": "code",
      "metadata": {
        "colab": {
          "base_uri": "https://localhost:8080/",
          "height": 388
        },
        "id": "F8FZ8uaomqG6",
        "outputId": "3f689cbe-676d-4f14-ea71-1d4037ebe0ce"
      },
      "source": [
        "from optuna.samplers import TPESampler\n",
        "sampler = TPESampler(seed=10)\n",
        "def objective(trial):\n",
        "\n",
        "    param = {\n",
        "         'objective': 'regression', # 회귀\n",
        "         'metric': 'mae', \n",
        "         'verbosity': -1,\n",
        "         'boosting_type': 'gbdt', # gradient boosting decision tree\n",
        "         'lambda_l1': trial.suggest_loguniform('lambda_l1', 1e-8, 1),\n",
        "         'lambda_l2': trial.suggest_loguniform('lambda_l2', 1e-8, 1),\n",
        "         'num_leaves': trial.suggest_int('num_leaves', 2, 400),\n",
        "         'max_depth': trial.suggest_int('max_depth',3, 14),\n",
        "         'learning_rate': trial.suggest_loguniform('lambda_l2', 1e-8, 1),\n",
        "         'n_estimators': trial.suggest_int('n_estimators', 700, 5000),\n",
        "         'feature_fraction': trial.suggest_uniform('feature_fraction', 0.4, 1.0),\n",
        "         'bagging_fraction': trial.suggest_uniform('bagging_fraction', 0.4, 1.0),\n",
        "         'bagging_freq': trial.suggest_int('bagging_freq', 1, 7),\n",
        "         'min_child_samples': trial.suggest_int('min_child_samples', 5, 100),\n",
        "     }\n",
        "\n",
        "    lgbm_regr = lgb.LGBMRegressor(**param)\n",
        "    lgbm = lgbm_regr.fit(l_X_train, l_y_train , eval_set = [(l_X_train, l_y_train)], verbose=False)\n",
        "    mae = mean_absolute_error(l_y_test, lgbm.predict(l_X_test))\n",
        "    return mae\n",
        "        \n",
        "l_study_lgb = optuna.create_study(direction='minimize', sampler=sampler)\n",
        "l_study_lgb.optimize(objective, n_trials=50)"
      ],
      "execution_count": 40,
      "outputs": [
        {
          "output_type": "error",
          "ename": "ModuleNotFoundError",
          "evalue": "ignored",
          "traceback": [
            "\u001b[0;31m---------------------------------------------------------------------------\u001b[0m",
            "\u001b[0;31mModuleNotFoundError\u001b[0m                       Traceback (most recent call last)",
            "\u001b[0;32m<ipython-input-40-5ccef6f93537>\u001b[0m in \u001b[0;36m<module>\u001b[0;34m()\u001b[0m\n\u001b[0;32m----> 1\u001b[0;31m \u001b[0;32mfrom\u001b[0m \u001b[0moptuna\u001b[0m\u001b[0;34m.\u001b[0m\u001b[0msamplers\u001b[0m \u001b[0;32mimport\u001b[0m \u001b[0mTPESampler\u001b[0m\u001b[0;34m\u001b[0m\u001b[0;34m\u001b[0m\u001b[0m\n\u001b[0m\u001b[1;32m      2\u001b[0m \u001b[0msampler\u001b[0m \u001b[0;34m=\u001b[0m \u001b[0mTPESampler\u001b[0m\u001b[0;34m(\u001b[0m\u001b[0mseed\u001b[0m\u001b[0;34m=\u001b[0m\u001b[0;36m10\u001b[0m\u001b[0;34m)\u001b[0m\u001b[0;34m\u001b[0m\u001b[0;34m\u001b[0m\u001b[0m\n\u001b[1;32m      3\u001b[0m \u001b[0;32mdef\u001b[0m \u001b[0mobjective\u001b[0m\u001b[0;34m(\u001b[0m\u001b[0mtrial\u001b[0m\u001b[0;34m)\u001b[0m\u001b[0;34m:\u001b[0m\u001b[0;34m\u001b[0m\u001b[0;34m\u001b[0m\u001b[0m\n\u001b[1;32m      4\u001b[0m \u001b[0;34m\u001b[0m\u001b[0m\n\u001b[1;32m      5\u001b[0m     param = {\n",
            "\u001b[0;31mModuleNotFoundError\u001b[0m: No module named 'optuna'",
            "",
            "\u001b[0;31m---------------------------------------------------------------------------\u001b[0;32m\nNOTE: If your import is failing due to a missing package, you can\nmanually install dependencies using either !pip or !apt.\n\nTo view examples of installing some common dependencies, click the\n\"Open Examples\" button below.\n\u001b[0;31m---------------------------------------------------------------------------\u001b[0m\n"
          ]
        }
      ]
    },
    {
      "cell_type": "code",
      "metadata": {
        "id": "FxIVqV8UmpaK"
      },
      "source": [
        "sampler = TPESampler(seed=10)\n",
        "def objective(trial):\n",
        "\n",
        "    param = {\n",
        "         'objective': 'regression', # 회귀\n",
        "         'metric': 'mae', \n",
        "         'verbosity': -1,\n",
        "         'boosting_type': 'gbdt', # gradient boosting decision tree\n",
        "         'lambda_l1': trial.suggest_loguniform('lambda_l1', 1e-8, 1),\n",
        "         'lambda_l2': trial.suggest_loguniform('lambda_l2', 1e-8, 1),\n",
        "         'num_leaves': trial.suggest_int('num_leaves', 2, 400),\n",
        "         'max_depth': trial.suggest_int('max_depth',3, 9),\n",
        "         'learning_rate': trial.suggest_loguniform('lambda_l2', 1e-8, 1),\n",
        "         'n_estimators': trial.suggest_int('n_estimators', 700, 5000),\n",
        "         'feature_fraction': trial.suggest_uniform('feature_fraction', 0.4, 1.0),\n",
        "         'bagging_fraction': trial.suggest_uniform('bagging_fraction', 0.4, 1.0),\n",
        "         'bagging_freq': trial.suggest_int('bagging_freq', 1, 7),\n",
        "         'min_child_samples': trial.suggest_int('min_child_samples', 5, 100),\n",
        "     }\n",
        "\n",
        "    lgbm_regr = lgb.LGBMRegressor(**param)\n",
        "    lgbm = lgbm_regr.fit(d_X_train, d_y_train , eval_set = [(d_X_train, d_y_train)], verbose=False)\n",
        "    mae = mean_absolute_error(d_y_test, lgbm.predict(d_X_test))\n",
        "    return mae\n",
        "        \n",
        "d_study_lgb = optuna.create_study(direction='minimize', sampler=sampler)\n",
        "d_study_lgb.optimize(objective, n_trials=50)"
      ],
      "execution_count": null,
      "outputs": []
    },
    {
      "cell_type": "code",
      "metadata": {
        "id": "sr3P5SYwmoKS"
      },
      "source": [
        "print('Lunch Best Trial: score {},\\nparams {}'.format(l_study_lgb.best_trial.value, l_study_lgb.best_trial.params))\n",
        "print('Dinner Best Trial: score {},\\nparams {}'.format(d_study_lgb.best_trial.value, d_study_lgb.best_trial.params))"
      ],
      "execution_count": null,
      "outputs": []
    },
    {
      "cell_type": "code",
      "metadata": {
        "id": "OzYtZXcimnX3"
      },
      "source": [
        "l_trial_lgb = l_study_lgb.best_trial\n",
        "lunch_lgb_params = l_trial_lgb.params\n",
        "print(lunch_lgb_params)\n",
        "d_trial_lgb = d_study_lgb.best_trial\n",
        "dinner_lgb_params = d_trial_lgb.params\n",
        "print(dinner_lgb_params)"
      ],
      "execution_count": null,
      "outputs": []
    },
    {
      "cell_type": "markdown",
      "metadata": {
        "id": "80m7UzzJnWXi"
      },
      "source": [
        "#### Predict"
      ]
    },
    {
      "cell_type": "code",
      "metadata": {
        "id": "gl26eNqxnB59"
      },
      "source": [
        "lunch_lgb_model = lgb.LGBMRegressor(**lunch_lgb_params)\n",
        "lunch_lgb_model.fit(l_oh_train_df.drop(['lunch_y', 'dinner_y'], axis=1), l_oh_train_df['lunch_y'], eval_metric='mae')\n",
        "lunch_lgb_pred = lunch_lgb_model.predict(l_oh_test_df)"
      ],
      "execution_count": null,
      "outputs": []
    },
    {
      "cell_type": "code",
      "metadata": {
        "id": "yy93HpdPnB4c"
      },
      "source": [
        "dinner_lgb_model = lgb.LGBMRegressor(**dinner_lgb_params)\n",
        "dinner_lgb_model.fit(d_oh_train_df.drop(['lunch_y', 'dinner_y'], axis=1), d_oh_train_df['dinner_y'], eval_metric='mae')\n",
        "dinner_lgb_pred = dinner_lgb_model.predict(d_oh_test_df)"
      ],
      "execution_count": null,
      "outputs": []
    },
    {
      "cell_type": "code",
      "metadata": {
        "id": "GF1OB4RxnB3C"
      },
      "source": [
        "print(lunch_lgb_pred)\n",
        "print(dinner_lgb_pred)"
      ],
      "execution_count": null,
      "outputs": []
    },
    {
      "cell_type": "code",
      "metadata": {
        "id": "O5AJpcwRnB1T"
      },
      "source": [
        "lgb_submit = pd.read_csv(PATH + 'sample_submission.csv')\n",
        "lgb_submit['중식계'] = lunch_lgb_pred\n",
        "lgb_submit['석식계'] = dinner_lgb_pred\n",
        "lgb_submit.to_csv(PATH + 'lgb_pca30.csv', index=False)\n",
        "lgb_submit.head()"
      ],
      "execution_count": null,
      "outputs": []
    },
    {
      "cell_type": "markdown",
      "metadata": {
        "id": "e1GPduQpJRAD"
      },
      "source": [
        "## FastText"
      ]
    },
    {
      "cell_type": "code",
      "metadata": {
        "id": "0QenVYubKxB-"
      },
      "source": [
        "# HYPER PARAMETERS\n",
        "\n",
        "class CFG:\n",
        "    emb_dim = 1000\n",
        "\n",
        "args = CFG"
      ],
      "execution_count": 10,
      "outputs": []
    },
    {
      "cell_type": "code",
      "metadata": {
        "id": "1yc8CWX-KFUk"
      },
      "source": [
        "def food_combinations(train=True):\n",
        "    col = ['breakfast', 'lunch', 'dinner']\n",
        "    array = []\n",
        "    if train:\n",
        "        for c in col:\n",
        "            for l in all_df[:len(train_df)][c]:\n",
        "                array.append(l)\n",
        "    else:\n",
        "        for c in col:\n",
        "            for l in all_df[len(train_df):][c]:\n",
        "                array.append(l)\n",
        "    print(len(array))\n",
        "    print(array[:3])\n",
        "    return array"
      ],
      "execution_count": 11,
      "outputs": []
    },
    {
      "cell_type": "code",
      "metadata": {
        "colab": {
          "base_uri": "https://localhost:8080/"
        },
        "id": "hKOsHP6mJYbZ",
        "outputId": "f8dd1cdc-2430-422c-d50e-e254b79b1992"
      },
      "source": [
        "TRAIN_W2V = True\n",
        "try:\n",
        "    model = FastText.load('food_embedding.model')\n",
        "    print(\"Model loaded\")\n",
        "    if not TRAIN_W2V:\n",
        "        print('Training test set using current model')\n",
        "        test_food = food_combinations(train=False)\n",
        "        model.train(test_food, total_examples=len(test_food))\n",
        "\n",
        "except:\n",
        "    if TRAIN_W2V:\n",
        "        print(\"Training w2v\")\n",
        "        train_food = food_combinations(train=True)\n",
        "        model = FastText(\n",
        "            sentences=train_food, \n",
        "            vector_size=args.emb_dim, # 벡터 사이즈\n",
        "            window=7,\n",
        "            workers=-1,\n",
        "            sg=0, # 0: CBOW, 1: skip-gram\n",
        "            epochs=5000\n",
        "                         )\n",
        "        model.save('food_embedding.model')\n",
        "    else:\n",
        "        print(\"Model loading failed. Do not train.\")"
      ],
      "execution_count": 12,
      "outputs": [
        {
          "output_type": "stream",
          "text": [
            "Training w2v\n",
            "3615\n",
            "[['된장찌개', '찐빵', '호두죽', '두유', '쥐어채무침'], ['팥죽', '두유', '호박젓국찌개', '시래기조림', '단호박샌드'], ['느타리호박볶음', '표고버섯죽', '베이글', '콩나물국', '두유']]\n"
          ],
          "name": "stdout"
        }
      ]
    },
    {
      "cell_type": "code",
      "metadata": {
        "colab": {
          "base_uri": "https://localhost:8080/"
        },
        "id": "B1tTbqcTQ3q9",
        "outputId": "91495bc8-d34b-48b5-b2dc-e2c1ecd36686"
      },
      "source": [
        "model.wv.most_similar('롤케익')"
      ],
      "execution_count": 13,
      "outputs": [
        {
          "output_type": "execute_result",
          "data": {
            "text/plain": [
              "[('메론롤케익', 0.31038698554039),\n",
              " ('치커리생채', 0.13070371747016907),\n",
              " ('핫케익', 0.12502849102020264),\n",
              " ('팬케익', 0.10767900198698044),\n",
              " ('초코핫케익', 0.08644900470972061),\n",
              " ('매운닭찜', 0.08594220876693726),\n",
              " ('시금치팬케익', 0.07469557225704193),\n",
              " ('가자미양념찜', 0.07081528007984161),\n",
              " ('아삭고추무침', 0.06712538003921509),\n",
              " ('아욱국', 0.06635218858718872)]"
            ]
          },
          "metadata": {
            "tags": []
          },
          "execution_count": 13
        }
      ]
    },
    {
      "cell_type": "code",
      "metadata": {
        "colab": {
          "base_uri": "https://localhost:8080/"
        },
        "id": "gIbbvvmZPIc0",
        "outputId": "9cd4139b-0aa4-47cb-88dd-f3e2770e8dab"
      },
      "source": [
        "model.wv.most_similar('돼지갈비찜')"
      ],
      "execution_count": 14,
      "outputs": [
        {
          "output_type": "execute_result",
          "data": {
            "text/plain": [
              "[('매운돼지갈비찜', 0.5205038785934448),\n",
              " ('메밀전', 0.08249811083078384),\n",
              " ('호빵', 0.08165036141872406),\n",
              " ('북엇국', 0.076026551425457),\n",
              " ('비빔밥', 0.07081298530101776),\n",
              " ('꼬들단무지', 0.06981134414672852),\n",
              " ('나물비빔밥', 0.06900784373283386),\n",
              " ('가쯔오장국', 0.06778419762849808),\n",
              " ('쑥갓두부무침', 0.06650222837924957),\n",
              " ('모듬소시지구이', 0.06628240644931793)]"
            ]
          },
          "metadata": {
            "tags": []
          },
          "execution_count": 14
        }
      ]
    },
    {
      "cell_type": "code",
      "metadata": {
        "colab": {
          "base_uri": "https://localhost:8080/"
        },
        "id": "U7iBzm3GRt83",
        "outputId": "cb7d0fc7-5cf9-4aee-c545-a40b5d76ce4e"
      },
      "source": [
        "model.wv.get_vector('쥐어채무침')"
      ],
      "execution_count": 178,
      "outputs": [
        {
          "output_type": "execute_result",
          "data": {
            "text/plain": [
              "array([ 2.76554754e-04, -6.76811978e-05,  1.87654980e-04, -6.70635782e-05,\n",
              "        1.90722945e-04, -3.73920375e-05,  3.12061929e-05,  2.84711830e-04,\n",
              "        1.22308280e-04,  1.47023136e-04, -7.85705124e-05, -2.37139993e-05,\n",
              "       -3.37802136e-04,  1.76095098e-04,  5.65830887e-05,  1.67870065e-04,\n",
              "        2.42070615e-04, -5.62474961e-05,  1.30616347e-04,  5.53611108e-06,\n",
              "        1.96494773e-04,  1.22931931e-04,  3.48382688e-04, -1.65097794e-04,\n",
              "        2.01837302e-05,  2.64188100e-04, -5.63779686e-05, -2.92273271e-05,\n",
              "        1.60119707e-05, -2.13954612e-04, -1.99171918e-04,  4.50834523e-05,\n",
              "       -1.38371024e-05, -1.19308352e-04,  8.93853867e-05,  1.96733054e-05,\n",
              "        2.11236966e-05,  1.22152633e-04,  5.86616807e-07, -2.96585167e-05,\n",
              "       -3.68495763e-04,  2.19212365e-04, -3.88291883e-05,  1.67353966e-04,\n",
              "        8.72092787e-05,  6.58930439e-05,  1.02048260e-04, -1.87589525e-04,\n",
              "       -1.00720872e-05, -9.71928821e-05,  4.61632408e-05, -7.54980138e-05,\n",
              "        8.74193847e-06,  1.85063240e-04,  1.79190160e-04, -4.24678501e-06,\n",
              "       -5.66886447e-05,  1.29120745e-04,  8.56124097e-05,  1.05253057e-04,\n",
              "       -3.83107923e-04, -1.22946498e-04, -1.25535575e-04, -3.40446393e-04,\n",
              "        1.67098755e-04, -3.63280451e-05, -9.89676773e-05, -6.27603076e-05,\n",
              "       -1.90084087e-04,  1.55596063e-04,  1.23284321e-04, -1.49632702e-04,\n",
              "        4.26636907e-05, -3.48955102e-04,  1.96347013e-04, -6.86176500e-05,\n",
              "       -2.14539206e-04, -8.74373436e-05, -4.12508292e-04,  7.50758554e-05,\n",
              "       -6.83320177e-05, -7.84060539e-05, -3.93546761e-05,  5.18215238e-05,\n",
              "       -1.89145703e-05,  5.57362873e-05, -5.45232615e-05,  1.66462472e-04,\n",
              "        1.38773074e-04,  1.27443607e-04,  3.69254645e-04,  2.48803321e-04,\n",
              "       -2.39534696e-04,  5.44822797e-05,  1.17457275e-04,  6.58331774e-05,\n",
              "        1.00810132e-04, -9.62952763e-05, -3.94300259e-05, -1.83417742e-05,\n",
              "        2.81775225e-04,  2.30313617e-05,  5.32407212e-05,  3.30840521e-05,\n",
              "       -1.34573522e-04,  4.89404156e-05, -1.49661719e-04, -2.20831316e-05,\n",
              "       -1.03810184e-04, -2.03054617e-04, -3.98468583e-05, -2.79436674e-04,\n",
              "       -1.15638126e-04,  2.09466350e-04,  1.31298555e-04, -2.07480887e-04,\n",
              "        9.67921587e-05, -2.02696538e-04, -8.86309426e-05, -4.39485884e-05,\n",
              "       -8.74350517e-05,  1.34628834e-04, -8.08172117e-05,  1.22041725e-04,\n",
              "       -1.42662757e-04, -1.80589501e-04, -3.45013308e-04, -1.69595573e-04,\n",
              "       -2.88616313e-04, -9.82043493e-05, -1.19360993e-04, -2.32660561e-04,\n",
              "       -6.69892688e-05,  8.93750912e-05, -1.11766485e-05, -3.63427898e-05,\n",
              "        1.13598153e-05,  1.11638445e-04,  8.12790968e-05,  2.81702058e-04,\n",
              "       -3.65588290e-04,  4.94627238e-05, -1.55103189e-04,  2.24384596e-04,\n",
              "       -8.13916558e-05, -8.26397300e-05,  1.23858072e-05,  1.04238261e-05,\n",
              "        1.25839622e-04, -2.01790201e-04,  5.09345809e-05,  1.61964766e-04,\n",
              "       -2.64016649e-04,  5.23818235e-05,  2.35547268e-04,  1.52436987e-04,\n",
              "       -2.03705466e-04, -1.28588625e-04,  2.76883336e-04,  1.18610209e-04,\n",
              "       -1.48611405e-04,  6.31371440e-05,  2.14007378e-04,  2.59668246e-04,\n",
              "        9.67890519e-05,  1.37435985e-04,  1.22445708e-04,  2.94806869e-05,\n",
              "        3.55684533e-05, -2.02432057e-04, -6.05614550e-05,  7.21231409e-05,\n",
              "        5.33236707e-05, -2.14900210e-04,  2.85005342e-04, -9.60263787e-05,\n",
              "       -3.49551919e-05,  1.19471370e-05,  3.14837700e-04, -1.73943961e-04,\n",
              "       -2.59994675e-04,  9.59788013e-05,  9.45385400e-05,  2.03302872e-04,\n",
              "        1.26561616e-04,  4.99032503e-05,  1.54856476e-04, -1.54427282e-04,\n",
              "        1.13741284e-04,  8.08806508e-05,  1.89015500e-05,  9.60153484e-05,\n",
              "       -2.24295669e-04,  1.98920374e-04,  5.41236368e-05,  6.58600402e-05,\n",
              "        7.37833907e-05, -7.26970102e-05, -6.51057417e-05, -3.06143600e-04,\n",
              "       -2.21859900e-05, -8.23947412e-05,  1.37925512e-04, -4.69933657e-05,\n",
              "       -1.84727221e-04, -4.22135054e-05,  2.34406718e-04, -1.77441441e-04,\n",
              "       -6.96309144e-05,  6.03118897e-05,  7.42165576e-05,  4.76380519e-05,\n",
              "        2.18278452e-04, -1.42745863e-04, -5.44600298e-05,  5.71381461e-05,\n",
              "        1.89771643e-04,  2.82156951e-04, -1.89292150e-05, -3.56431628e-05,\n",
              "        3.26074369e-04, -8.93786782e-05, -1.38475210e-04,  2.81943998e-04,\n",
              "        3.74966585e-05, -7.35343856e-05, -1.17032367e-04,  4.73325708e-05,\n",
              "       -6.37588018e-05, -1.62384313e-04,  1.30533546e-04,  1.74938730e-04,\n",
              "        8.29486817e-06,  1.84669349e-04, -2.73106183e-04,  8.90580341e-05,\n",
              "       -1.32340152e-04, -5.87140639e-05, -8.78335049e-05, -4.33095556e-04,\n",
              "       -1.46236067e-04, -1.00258141e-04,  1.71582185e-04, -1.60066211e-05,\n",
              "       -1.92634339e-04,  7.86076853e-05,  2.51847177e-05, -1.16113173e-04,\n",
              "       -2.86270602e-04, -6.91750256e-06,  8.28373813e-05, -2.42172289e-04,\n",
              "        1.29863940e-04, -8.92654425e-05,  1.49092157e-04,  4.59846160e-05,\n",
              "        2.14428132e-04, -8.48143682e-05, -2.55460531e-04, -1.98555383e-04,\n",
              "        3.11573858e-05,  1.99222224e-04, -4.50322987e-05,  2.43115555e-05,\n",
              "       -2.20033384e-04,  8.48645577e-05,  9.82842757e-05, -1.63032862e-04,\n",
              "       -9.55344221e-05, -2.43633054e-04, -1.62058714e-04,  2.30643927e-04,\n",
              "        4.62496137e-05, -1.17687079e-04, -2.02734343e-04,  1.58898038e-04,\n",
              "        2.11620340e-04,  6.09881645e-05, -2.90952303e-05, -1.75427689e-04,\n",
              "        4.35712354e-05,  1.06000356e-04, -1.95955472e-05,  8.63121477e-06,\n",
              "        1.92523003e-04,  8.74136313e-05, -1.35231399e-04, -1.01863909e-04,\n",
              "        1.68712882e-04, -1.80882154e-04, -1.31063134e-05, -4.72599168e-05,\n",
              "        1.25910257e-04,  2.02094860e-04,  4.00628371e-04,  7.66926241e-05,\n",
              "       -2.64041068e-04, -1.54670648e-04, -2.13624749e-04, -8.13393417e-05,\n",
              "       -1.37077382e-06,  1.31406749e-04, -5.73569159e-05, -2.74853635e-04,\n",
              "       -4.47637321e-05,  7.13892441e-05,  1.09031047e-04, -6.87224165e-05,\n",
              "       -4.34992799e-05,  2.06584918e-05,  1.37995827e-04, -6.60906007e-05,\n",
              "       -1.55474088e-04,  1.10457768e-04, -3.81096361e-05,  1.40680699e-04,\n",
              "       -1.66767622e-05, -1.60785828e-04,  1.16983778e-04,  1.69330029e-04,\n",
              "       -1.19364566e-04, -4.83036274e-07, -1.97187212e-04,  4.75913002e-05,\n",
              "        5.62491077e-05, -1.36853545e-04,  9.51499987e-06,  2.78835996e-05,\n",
              "       -2.19814101e-04,  2.42982442e-05,  1.06056301e-04, -2.16922272e-04,\n",
              "       -3.02094792e-04,  7.57091257e-05,  1.88458798e-05,  9.42734114e-05,\n",
              "        1.92912732e-04, -5.25840951e-05, -9.19243757e-05,  7.83272553e-05,\n",
              "       -2.30129212e-04, -3.37629754e-05,  2.30195306e-04, -1.34749862e-05,\n",
              "       -8.55823600e-05,  2.84752550e-05, -6.77815769e-05, -1.02268050e-05,\n",
              "        1.53355140e-04, -1.57422051e-04, -1.42199016e-04,  3.10610922e-05,\n",
              "       -4.30335167e-05, -1.96470952e-04, -5.46523588e-05, -1.16670984e-04,\n",
              "        1.40471995e-04,  2.01783856e-04, -1.12529715e-05, -1.37769139e-05,\n",
              "       -1.85398647e-04,  5.55384722e-05,  2.85081827e-04, -1.22646059e-04,\n",
              "        1.03943203e-04,  1.67432590e-04,  8.76999839e-05,  4.85269766e-06,\n",
              "        1.02961611e-04, -1.46981096e-04,  7.74418004e-05, -9.70808542e-05,\n",
              "       -1.58164970e-04,  6.70522741e-06, -7.63075805e-05,  2.04251519e-05,\n",
              "       -1.81779076e-04, -1.16603500e-04, -9.59885710e-06,  2.43596776e-04,\n",
              "       -1.54998430e-04,  1.85694680e-05, -2.58513202e-04, -6.59742582e-05,\n",
              "       -1.37678231e-04,  1.23856094e-04,  2.75983883e-04, -1.58372732e-05,\n",
              "        5.15036409e-05,  6.38516722e-05,  1.41203956e-04,  1.24137267e-04,\n",
              "        6.08382434e-05, -4.12709960e-05,  2.63099239e-04,  4.94623200e-05,\n",
              "       -3.11285170e-04, -4.77762260e-05,  1.12023088e-04, -1.69011575e-04,\n",
              "        3.04014597e-04,  1.19825254e-05,  8.92643147e-05,  4.50522712e-05,\n",
              "       -2.04625670e-04, -7.87893587e-05, -3.73105286e-05, -2.49355187e-04,\n",
              "       -3.66057240e-04,  2.42887923e-04,  1.75761688e-05, -2.55838124e-04,\n",
              "        4.00239369e-05, -1.15810130e-04,  2.13139196e-04,  1.18930184e-04,\n",
              "        9.46847722e-05,  1.19722063e-04, -2.09800011e-04, -2.33352446e-04,\n",
              "        1.57164759e-05,  7.91447092e-05, -6.92376125e-05,  3.33463366e-04,\n",
              "        1.71517051e-04,  7.66601370e-05, -1.22564568e-04,  3.41247069e-05,\n",
              "        2.29223733e-04,  2.01294621e-04,  9.20812963e-05, -2.68588396e-04,\n",
              "        3.24464709e-05,  9.83492500e-05, -1.80539224e-04,  2.34299296e-04,\n",
              "        9.03247201e-05,  7.13155605e-05, -1.55199246e-04,  6.03580265e-05,\n",
              "       -5.84316622e-05, -3.71465430e-04, -4.66926722e-05, -1.61162781e-04,\n",
              "        1.41303361e-04,  2.30697886e-04,  6.69321453e-05, -2.98408304e-05,\n",
              "       -2.50534125e-04,  2.30353066e-06, -2.32640057e-04,  1.24722341e-04,\n",
              "       -1.53055866e-04, -1.37253781e-04, -1.29639247e-05,  1.40504053e-04,\n",
              "        1.90758146e-04,  2.44270224e-04,  9.51435286e-05, -1.16499126e-04,\n",
              "        1.64881771e-04,  1.70081024e-04,  2.04399388e-04, -1.92962560e-07,\n",
              "        1.51717075e-04,  3.53528048e-05,  1.73905180e-04, -2.91546658e-05,\n",
              "       -1.07302425e-04, -1.24852071e-04,  1.44884660e-04, -1.66638783e-04,\n",
              "        2.17383364e-04, -7.47178929e-05,  4.31377193e-05, -1.44885475e-04,\n",
              "       -4.89757113e-05, -1.98115566e-04,  2.34349022e-06,  5.77226128e-05,\n",
              "        5.82373214e-05,  8.16330357e-05,  1.55659058e-04,  2.46716139e-04,\n",
              "       -1.03989769e-04, -3.69561691e-04,  1.90608233e-04, -3.21259256e-04,\n",
              "       -1.63141551e-04, -1.61775955e-04,  2.03210890e-04,  6.71536691e-05,\n",
              "       -2.16550208e-04,  1.28895132e-04, -1.33745471e-05,  3.37269921e-05,\n",
              "        1.75513924e-04,  2.48583183e-05,  7.06379869e-05, -4.76982932e-05,\n",
              "        1.62927405e-04, -1.10205561e-04,  1.27226915e-04, -4.96303037e-05,\n",
              "        1.22591155e-04, -3.22974884e-05, -4.10255234e-05,  8.08171805e-08,\n",
              "       -4.45607293e-05, -8.37366533e-05, -6.67449422e-05,  6.85881387e-05,\n",
              "       -3.13523560e-05,  1.57001741e-05,  1.79860668e-04,  1.83065757e-04,\n",
              "        1.01570105e-04,  6.11075811e-05,  3.03476612e-04,  1.47171449e-04,\n",
              "       -1.53934132e-04,  1.65910213e-04, -1.25868130e-04,  2.77236890e-04,\n",
              "       -1.21981277e-04,  1.22067038e-04,  1.35859791e-05,  7.90899958e-06,\n",
              "       -1.28881089e-04, -2.33035549e-04,  2.50708108e-04, -3.40266342e-05,\n",
              "       -5.89222836e-05, -3.07838818e-05, -7.02614998e-05, -1.22209400e-04,\n",
              "        9.64978753e-05, -8.72484889e-05, -3.37861161e-06,  2.62467918e-04,\n",
              "       -2.12593965e-04, -8.72017267e-07, -1.33884576e-04, -1.06128115e-04,\n",
              "       -1.16453608e-04,  2.25070071e-05,  7.18114825e-05, -9.84816652e-05,\n",
              "       -3.56248274e-05, -2.74099930e-05,  5.91798816e-05, -4.49456529e-05,\n",
              "        1.30870185e-05, -7.84100394e-06, -4.21097029e-05,  2.15386666e-04,\n",
              "        4.49123800e-05,  7.92433420e-05, -2.11097838e-04, -1.50231981e-05,\n",
              "       -4.86151148e-05, -6.54556789e-05,  2.75007915e-06,  2.48291151e-04,\n",
              "       -6.40105281e-05,  6.46590343e-05, -1.53923407e-04,  2.19663871e-05,\n",
              "       -5.94479388e-05,  9.62247505e-05, -2.64169357e-04, -2.21632232e-04,\n",
              "        3.32894298e-04, -5.48222670e-05, -2.49472978e-05,  1.85488912e-04,\n",
              "       -5.98319348e-05, -2.10880869e-04,  6.00994099e-06, -1.07250657e-04,\n",
              "       -2.16599248e-04,  1.90052131e-04, -1.98544203e-05,  1.75011693e-04,\n",
              "       -1.14945651e-04, -2.79828673e-04,  5.08452977e-05, -1.97461377e-05,\n",
              "       -2.97264137e-06, -1.27803054e-04, -2.04707569e-04, -6.91360256e-05,\n",
              "       -2.17237743e-04, -1.00071193e-04,  1.98610316e-04,  1.67753577e-04,\n",
              "        1.70932635e-05,  1.94707740e-04, -5.90867194e-06,  2.41290574e-04,\n",
              "        2.01012676e-06,  2.12615283e-04, -2.38307439e-05,  2.29719558e-06,\n",
              "       -2.69274839e-04, -1.05574618e-04, -3.64124685e-06, -9.54358911e-05,\n",
              "        6.42419836e-05, -5.12578372e-05,  4.92333857e-05, -1.46560953e-04,\n",
              "       -2.46858282e-04, -2.25406140e-04, -1.27522726e-04,  8.51043005e-05,\n",
              "       -1.00339195e-04, -1.15099414e-04, -7.08156003e-05, -7.64574434e-05,\n",
              "        1.09116212e-04,  2.76292383e-04, -3.74181021e-04, -5.37675005e-05,\n",
              "        1.25708088e-04, -7.31468099e-05,  1.78103928e-05, -2.34358358e-05,\n",
              "        2.02975731e-04, -1.47571132e-04,  6.78439392e-07, -6.21234212e-05,\n",
              "        2.89914606e-04, -2.93314719e-04,  3.03739362e-04,  6.47585111e-05,\n",
              "       -5.60049157e-05,  6.38992278e-05, -1.49887754e-04, -2.34059393e-04,\n",
              "       -4.11074943e-05,  8.72411547e-05, -7.72447456e-05, -1.35334223e-04,\n",
              "        9.64596402e-05,  2.21852843e-05,  2.02725161e-04,  2.60561246e-05,\n",
              "        7.85192315e-05, -3.71180067e-05,  7.33328416e-05,  8.92768294e-05,\n",
              "        9.31586601e-06, -2.65143753e-05, -2.68715230e-04,  4.32913257e-05,\n",
              "        9.66959487e-05,  3.42007515e-05, -1.72178537e-04,  1.10054403e-04,\n",
              "        8.18343833e-05, -1.52604058e-04,  1.08252698e-05, -4.30380984e-04,\n",
              "        5.25963551e-05,  1.10026616e-04, -4.67961363e-05, -1.14384957e-05,\n",
              "        5.27043776e-05, -1.27681342e-04, -1.22044956e-04, -6.81648453e-05,\n",
              "        3.39511389e-05,  9.73768401e-05,  2.23420884e-05, -3.48271060e-05,\n",
              "       -1.52879089e-04,  1.29250111e-04,  1.90415652e-04,  1.29854161e-04,\n",
              "        3.04746663e-05,  1.31702545e-04, -1.03993611e-04, -2.67952186e-04,\n",
              "       -2.60372879e-04, -7.95915403e-05, -1.68834842e-04,  1.06344123e-04,\n",
              "        1.35897179e-04, -5.85605158e-05, -6.15385125e-06,  8.04170268e-05,\n",
              "        2.29007244e-04,  1.16166375e-04, -9.97790557e-05,  1.36279894e-04,\n",
              "       -5.13722371e-05,  1.01442281e-04, -6.29170536e-05, -5.94600497e-05,\n",
              "        1.40840508e-04,  2.86985043e-04, -1.69272840e-04, -1.58467810e-04,\n",
              "        2.23074330e-05,  7.90296253e-05,  7.77629684e-05, -1.13964059e-04,\n",
              "       -7.18832671e-05, -1.23917984e-04, -6.06229878e-05, -6.76597119e-05,\n",
              "       -1.20765428e-04,  8.05677701e-05,  1.42530640e-04,  1.79885974e-04,\n",
              "       -1.13188886e-04, -1.54582624e-04,  1.75517518e-04,  7.18571901e-05,\n",
              "       -1.25637511e-04, -6.35736869e-05, -5.43148453e-05, -7.50783729e-05,\n",
              "       -1.56007474e-04, -2.58248008e-04,  2.14289303e-05, -7.61046686e-05,\n",
              "        2.09412210e-05,  8.25063180e-05,  2.22090443e-04,  3.01984430e-04,\n",
              "        2.46168056e-05, -8.27343101e-05,  6.73352042e-05,  1.83778393e-04,\n",
              "       -1.74340003e-05, -5.78937652e-05,  1.69126270e-05,  2.91689852e-04,\n",
              "        2.39252295e-05,  1.05941253e-04, -5.13423329e-05, -1.22645011e-04,\n",
              "        1.67549824e-05,  4.35845577e-05,  1.84903649e-04,  1.25145525e-04,\n",
              "        3.31904041e-04,  8.24401723e-05, -1.56311304e-04, -3.23208733e-05,\n",
              "        9.76860101e-05,  1.01808422e-04, -2.14495194e-05, -2.19607537e-04,\n",
              "        3.48359783e-04, -2.86895702e-05,  4.46051527e-05, -5.58185020e-05,\n",
              "        2.62121292e-04, -1.62009892e-04, -1.21864789e-04, -2.57530541e-04,\n",
              "       -2.51425026e-05, -5.81936329e-05,  2.26602833e-06, -1.70831641e-04,\n",
              "       -1.20650795e-04,  7.17763978e-05, -8.31533180e-05,  6.47082707e-05,\n",
              "       -1.42790959e-05, -2.55520543e-04, -3.60847371e-05,  1.19719145e-04,\n",
              "        7.29840976e-05,  6.79750010e-05, -1.02897036e-04, -9.35351709e-05,\n",
              "       -2.58767192e-04, -2.37025815e-04,  1.30061153e-05,  1.59713934e-04,\n",
              "        2.36878259e-04, -2.49738096e-05, -2.67154915e-04, -9.94932998e-05,\n",
              "        3.80131155e-06, -2.02513096e-04, -1.07446816e-04, -2.31725440e-04,\n",
              "       -4.54308101e-05,  1.43741956e-04,  2.64058966e-04,  6.94141854e-05,\n",
              "        6.84425613e-05,  3.86835964e-05,  3.55999291e-05,  4.89691338e-05,\n",
              "        1.39937532e-04, -6.70932277e-05,  2.60170957e-04,  9.57606680e-05,\n",
              "       -1.02872997e-04,  1.36016024e-06,  9.10292219e-05, -1.32787172e-04,\n",
              "        7.03210171e-05, -4.57301176e-05,  6.29098213e-05, -1.00294179e-04,\n",
              "        2.71893186e-05,  1.01615195e-04,  2.37465560e-04, -1.06782165e-04,\n",
              "       -1.06937907e-04,  3.66924971e-04, -8.52676021e-05,  3.02618973e-05,\n",
              "        3.93512804e-04,  3.10427364e-04, -1.48279272e-04,  3.27052316e-04,\n",
              "       -1.21534358e-04, -1.82490083e-04,  2.09197504e-04,  1.13308735e-04,\n",
              "       -9.97969328e-05,  3.36081168e-04, -1.12889371e-04, -1.35785580e-04,\n",
              "        1.15779578e-04, -1.28494576e-04,  3.38117316e-05,  2.76222301e-04,\n",
              "       -6.29818678e-05, -6.87767169e-07,  6.85839987e-05, -1.94068925e-04,\n",
              "        3.28498754e-05,  4.93802581e-05, -3.44423752e-05,  9.21922183e-05,\n",
              "       -1.06980282e-04,  6.56046177e-05,  2.19627313e-04, -7.44843856e-05,\n",
              "        7.75566004e-05, -1.02549398e-04,  6.12963995e-05,  8.10584315e-05,\n",
              "        5.25911055e-05, -8.50633442e-05,  1.40166478e-04,  2.02152893e-04,\n",
              "        3.25006586e-05, -1.04458195e-04, -1.68785791e-05, -2.25947842e-05,\n",
              "       -2.66013172e-04, -2.56334373e-04,  1.10464985e-04, -8.47604315e-05,\n",
              "       -7.56529262e-05, -1.35122114e-04, -3.04008980e-04, -2.67167052e-04,\n",
              "       -2.37475106e-04,  1.34928196e-04,  1.26145213e-04,  1.92635227e-04,\n",
              "       -1.37128911e-04,  7.65914519e-05, -7.89066180e-05, -3.79407502e-05,\n",
              "       -5.17052467e-05, -1.00733843e-04, -1.01761332e-04, -6.09846975e-05,\n",
              "        2.31981641e-04,  1.32209316e-04, -1.04930485e-04,  5.98335719e-05,\n",
              "        3.18336388e-04,  1.41113516e-04, -2.83799945e-05, -2.50138779e-04,\n",
              "        4.28128988e-04, -6.34922471e-05, -8.27272524e-05, -5.26896729e-05,\n",
              "       -1.99563765e-05,  5.86916794e-05, -9.70329202e-05, -3.10392966e-06,\n",
              "       -2.92441946e-05,  7.80159389e-05,  5.14908752e-05, -2.38911580e-05,\n",
              "       -2.44719471e-04,  1.37519353e-04,  2.76355622e-05,  9.63360289e-05,\n",
              "        6.78090801e-05, -3.70933958e-05, -1.28842905e-04,  8.47709962e-05,\n",
              "        5.41734153e-05,  5.99835948e-05, -1.31203531e-04, -6.12956937e-05,\n",
              "        1.28258092e-04,  9.61225669e-05,  2.08507394e-04,  1.03347258e-04,\n",
              "       -4.87005964e-05,  2.48317119e-05,  9.47681037e-05, -1.91752217e-04,\n",
              "        1.31777764e-04,  3.38769984e-04, -1.00807047e-04,  1.02913240e-04,\n",
              "       -1.53113477e-04, -5.95071579e-05, -2.97401821e-05, -2.26784468e-04,\n",
              "        1.06573043e-05, -2.48116285e-05, -8.75145852e-05, -2.34816791e-04,\n",
              "       -4.85641758e-05,  1.91414627e-04, -1.72137865e-04, -7.41428448e-05,\n",
              "       -1.69612365e-04, -3.07284907e-04, -3.48170033e-05, -1.68515342e-07,\n",
              "        2.64179544e-04,  2.37902394e-04,  4.75072884e-05,  1.99062662e-04,\n",
              "       -1.45413884e-04, -1.44678328e-04, -1.78022572e-04,  1.19768447e-04,\n",
              "       -5.10266909e-05, -2.14039625e-04,  1.44877471e-04,  1.90670835e-05,\n",
              "        1.77165581e-04,  1.02996295e-04,  5.95297115e-06,  6.92255198e-05,\n",
              "        5.08002413e-04,  4.12538029e-05,  4.24247355e-06, -1.22356185e-04,\n",
              "       -3.53167241e-04,  3.61261698e-07,  5.29849385e-05,  1.19384968e-04,\n",
              "        9.14552002e-05, -1.63724799e-05, -6.52147646e-05,  2.79835640e-05,\n",
              "       -6.66495253e-05,  1.55487229e-04,  1.80921154e-04,  1.35791401e-04,\n",
              "       -7.54410357e-05,  7.36510046e-05, -1.31000648e-04, -1.93107669e-04,\n",
              "        2.27561686e-04, -2.00445182e-04,  6.35661636e-05,  1.22986094e-04,\n",
              "        5.63311150e-05, -7.94205152e-06, -4.08758315e-05, -4.83947042e-05,\n",
              "        2.86305090e-04, -3.07928771e-04, -2.97385559e-04, -1.88776285e-05,\n",
              "       -2.77756517e-05, -1.33569934e-04, -2.38754747e-05,  6.55520926e-05,\n",
              "       -1.37988944e-04, -3.00187414e-04, -1.29345586e-04, -2.36047672e-05,\n",
              "       -7.21088290e-05,  1.12378584e-04, -2.02618292e-04,  2.12120736e-04],\n",
              "      dtype=float32)"
            ]
          },
          "metadata": {
            "tags": []
          },
          "execution_count": 178
        }
      ]
    },
    {
      "cell_type": "code",
      "metadata": {
        "colab": {
          "base_uri": "https://localhost:8080/"
        },
        "id": "6sogzjl-yjrr",
        "outputId": "d0a2e883-4bdb-4148-869d-f168f3acb340"
      },
      "source": [
        "train_df = all_df[:len(train_df)]\n",
        "print(train_df.shape)"
      ],
      "execution_count": 15,
      "outputs": [
        {
          "output_type": "stream",
          "text": [
            "(1205, 15) (50, 13)\n"
          ],
          "name": "stdout"
        }
      ]
    },
    {
      "cell_type": "code",
      "metadata": {
        "id": "JMpL4vpfy6QJ"
      },
      "source": [
        "def food_embedding(menu_row):\n",
        "    vec_ = np.zeros(args.emb_dim)\n",
        "    for i in menu_row:\n",
        "        vec = model.wv.get_vector(i)\n",
        "        vec_ += vec\n",
        "    vec_ /= len(menu_row)\n",
        "    return vec_"
      ],
      "execution_count": 16,
      "outputs": []
    },
    {
      "cell_type": "code",
      "metadata": {
        "colab": {
          "base_uri": "https://localhost:8080/"
        },
        "id": "HaMQLe2YzMEE",
        "outputId": "b0cdcfbc-bcf2-49cb-a7fe-f7993b5f65a1"
      },
      "source": [
        "train_df['breakfast_embedding'] = train_df['breakfast'].apply(lambda x: food_embedding(x))\n",
        "train_df['lunch_embedding'] = train_df['lunch'].apply(lambda x: food_embedding(x))\n",
        "train_df['dinner_embedding'] = train_df['dinner'].apply(lambda x: food_embedding(x))\n",
        "y_lunch = train_df['lunch_y']\n",
        "y_dinner = train_df['dinner_y']\n",
        "\n",
        "train_df.drop(['breakfast', 'lunch', 'dinner', 'lunch_y', 'dinner_y'], axis=1, inplace=True)\n",
        "X_common = train_df.iloc[:, :10]"
      ],
      "execution_count": 17,
      "outputs": [
        {
          "output_type": "stream",
          "text": [
            "/usr/local/lib/python3.7/dist-packages/ipykernel_launcher.py:1: SettingWithCopyWarning: \n",
            "A value is trying to be set on a copy of a slice from a DataFrame.\n",
            "Try using .loc[row_indexer,col_indexer] = value instead\n",
            "\n",
            "See the caveats in the documentation: https://pandas.pydata.org/pandas-docs/stable/user_guide/indexing.html#returning-a-view-versus-a-copy\n",
            "  \"\"\"Entry point for launching an IPython kernel.\n",
            "/usr/local/lib/python3.7/dist-packages/ipykernel_launcher.py:2: SettingWithCopyWarning: \n",
            "A value is trying to be set on a copy of a slice from a DataFrame.\n",
            "Try using .loc[row_indexer,col_indexer] = value instead\n",
            "\n",
            "See the caveats in the documentation: https://pandas.pydata.org/pandas-docs/stable/user_guide/indexing.html#returning-a-view-versus-a-copy\n",
            "  \n",
            "/usr/local/lib/python3.7/dist-packages/ipykernel_launcher.py:3: SettingWithCopyWarning: \n",
            "A value is trying to be set on a copy of a slice from a DataFrame.\n",
            "Try using .loc[row_indexer,col_indexer] = value instead\n",
            "\n",
            "See the caveats in the documentation: https://pandas.pydata.org/pandas-docs/stable/user_guide/indexing.html#returning-a-view-versus-a-copy\n",
            "  This is separate from the ipykernel package so we can avoid doing imports until\n",
            "/usr/local/lib/python3.7/dist-packages/pandas/core/frame.py:4174: SettingWithCopyWarning: \n",
            "A value is trying to be set on a copy of a slice from a DataFrame\n",
            "\n",
            "See the caveats in the documentation: https://pandas.pydata.org/pandas-docs/stable/user_guide/indexing.html#returning-a-view-versus-a-copy\n",
            "  errors=errors,\n"
          ],
          "name": "stderr"
        }
      ]
    },
    {
      "cell_type": "code",
      "metadata": {
        "colab": {
          "base_uri": "https://localhost:8080/",
          "height": 230
        },
        "id": "wZV7sb8O1mZg",
        "outputId": "0076d9fb-c6bc-4ac8-c9e4-6f75ef3498d3"
      },
      "source": [
        "train_df.head(3)"
      ],
      "execution_count": 197,
      "outputs": [
        {
          "output_type": "execute_result",
          "data": {
            "text/html": [
              "<div>\n",
              "<style scoped>\n",
              "    .dataframe tbody tr th:only-of-type {\n",
              "        vertical-align: middle;\n",
              "    }\n",
              "\n",
              "    .dataframe tbody tr th {\n",
              "        vertical-align: top;\n",
              "    }\n",
              "\n",
              "    .dataframe thead th {\n",
              "        text-align: right;\n",
              "    }\n",
              "</style>\n",
              "<table border=\"1\" class=\"dataframe\">\n",
              "  <thead>\n",
              "    <tr style=\"text-align: right;\">\n",
              "      <th></th>\n",
              "      <th>vac_ratio</th>\n",
              "      <th>trip_ratio</th>\n",
              "      <th>home</th>\n",
              "      <th>extra</th>\n",
              "      <th>total</th>\n",
              "      <th>year</th>\n",
              "      <th>month</th>\n",
              "      <th>date</th>\n",
              "      <th>week</th>\n",
              "      <th>dayofweek</th>\n",
              "      <th>breakfast_embedding</th>\n",
              "      <th>lunch_embedding</th>\n",
              "      <th>dinner_embedding</th>\n",
              "    </tr>\n",
              "  </thead>\n",
              "  <tbody>\n",
              "    <tr>\n",
              "      <th>0</th>\n",
              "      <td>0.019223</td>\n",
              "      <td>0.057670</td>\n",
              "      <td>0.0</td>\n",
              "      <td>0.091503</td>\n",
              "      <td>0.923106</td>\n",
              "      <td>2016</td>\n",
              "      <td>2</td>\n",
              "      <td>1</td>\n",
              "      <td>5</td>\n",
              "      <td>0</td>\n",
              "      <td>[0.00014791362877986103, 3.759953688131645e-05...</td>\n",
              "      <td>[8.092580392258242e-05, 4.813005798496306e-05,...</td>\n",
              "      <td>[-0.0001504417396063218, -5.397768563852878e-0...</td>\n",
              "    </tr>\n",
              "    <tr>\n",
              "      <th>1</th>\n",
              "      <td>0.019223</td>\n",
              "      <td>0.066513</td>\n",
              "      <td>0.0</td>\n",
              "      <td>0.122645</td>\n",
              "      <td>0.914264</td>\n",
              "      <td>2016</td>\n",
              "      <td>2</td>\n",
              "      <td>2</td>\n",
              "      <td>5</td>\n",
              "      <td>1</td>\n",
              "      <td>[2.360515155714893e-05, 0.00014551309623129783...</td>\n",
              "      <td>[-0.00012419465056154877, 9.206753093167208e-0...</td>\n",
              "      <td>[2.7436683012638243e-06, -0.000246905530366348...</td>\n",
              "    </tr>\n",
              "    <tr>\n",
              "      <th>2</th>\n",
              "      <td>0.021530</td>\n",
              "      <td>0.069204</td>\n",
              "      <td>0.0</td>\n",
              "      <td>0.042676</td>\n",
              "      <td>0.909266</td>\n",
              "      <td>2016</td>\n",
              "      <td>2</td>\n",
              "      <td>3</td>\n",
              "      <td>5</td>\n",
              "      <td>2</td>\n",
              "      <td>[7.8573715290986e-05, -1.1144138261443004e-05,...</td>\n",
              "      <td>[-6.713198066184607e-05, -2.6992111088475212e-...</td>\n",
              "      <td>[1.0722013030317612e-05, -0.000119662861834513...</td>\n",
              "    </tr>\n",
              "  </tbody>\n",
              "</table>\n",
              "</div>"
            ],
            "text/plain": [
              "   vac_ratio  ...                                   dinner_embedding\n",
              "0   0.019223  ...  [-0.0001504417396063218, -5.397768563852878e-0...\n",
              "1   0.019223  ...  [2.7436683012638243e-06, -0.000246905530366348...\n",
              "2   0.021530  ...  [1.0722013030317612e-05, -0.000119662861834513...\n",
              "\n",
              "[3 rows x 13 columns]"
            ]
          },
          "metadata": {
            "tags": []
          },
          "execution_count": 197
        }
      ]
    },
    {
      "cell_type": "code",
      "metadata": {
        "id": "GA-V9HV85JFo"
      },
      "source": [
        "emb_arr_lunch = np.array(train_df['lunch_embedding'].to_numpy().tolist())\n",
        "emb_arr_dinner = np.array(train_df['dinner_embedding'].to_numpy().tolist())\n",
        "\n",
        "X_train_lunch = np.concatenate((X_common.to_numpy(), emb_arr_lunch), axis=1)\n",
        "X_train_dinner = np.concatenate((X_common.to_numpy(), emb_arr_dinner), axis=1)"
      ],
      "execution_count": 18,
      "outputs": []
    },
    {
      "cell_type": "code",
      "metadata": {
        "id": "A6OtGNv-6SjY"
      },
      "source": [
        "X_train_lunch, X_test_lunch, y_train_lunch, y_test_lunch = train_test_split(X_train_lunch,\n",
        "                                                                            y_lunch,\n",
        "                                                                            test_size=0.2,\n",
        "                                                                            random_state=42)\n",
        "X_train_dinner, X_test_dinner, y_train_dinner, y_test_dinner = train_test_split(X_train_dinner,\n",
        "                                                                                y_dinner,\n",
        "                                                                                test_size=0.1,\n",
        "                                                                                random_state=42)\n"
      ],
      "execution_count": 19,
      "outputs": []
    },
    {
      "cell_type": "code",
      "metadata": {
        "colab": {
          "base_uri": "https://localhost:8080/"
        },
        "id": "wcoaCn036byK",
        "outputId": "5989d37b-9bc5-4be1-8d98-fa147f34c592"
      },
      "source": [
        "# Simple LGBM Regressor w/o tuning\n",
        "model_lunch = LGBMRegressor()\n",
        "model_lunch.fit(X_train_lunch, y_train_lunch)\n",
        "\n",
        "model_dinner = LGBMRegressor()\n",
        "model_dinner.fit(X_train_dinner, y_train_dinner)\n",
        "\n",
        "# Validate\n",
        "pred_lunch = model_lunch.predict(X_test_lunch)\n",
        "pred_dinner = model_dinner.predict(X_test_dinner)\n",
        "\n",
        "print(\"lunch mae: \", mean_absolute_error(y_test_lunch, pred_lunch))\n",
        "print(\"dinner mae: \", mean_absolute_error(y_test_dinner, pred_dinner))"
      ],
      "execution_count": 20,
      "outputs": [
        {
          "output_type": "stream",
          "text": [
            "lunch mae:  86.80928959716786\n",
            "dinner mae:  53.1362096922962\n"
          ],
          "name": "stdout"
        }
      ]
    },
    {
      "cell_type": "markdown",
      "metadata": {
        "id": "lTezP60R6vco"
      },
      "source": [
        "### Inference"
      ]
    },
    {
      "cell_type": "code",
      "metadata": {
        "colab": {
          "base_uri": "https://localhost:8080/"
        },
        "id": "gYg49nGX6yOB",
        "outputId": "59408965-3e94-4cc2-cff0-2e770d59537a"
      },
      "source": [
        "TRAIN_W2V = False\n",
        "try:\n",
        "    model = FastText.load('food_embedding.model')\n",
        "    print(\"Model loaded\")\n",
        "    if not TRAIN_W2V:\n",
        "        print('Training test set using current model')\n",
        "        test_food = food_combinations(train=False)\n",
        "        model.train(test_food, total_examples=len(test_food))\n",
        "\n",
        "except:\n",
        "    if TRAIN_W2V:\n",
        "        print(\"Training w2v\")\n",
        "        train_food = food_combinations(train=True)\n",
        "        model = FastText(\n",
        "            sentences=train_food, \n",
        "            vector_size=args.emb_dim, # 벡터 사이즈\n",
        "            window=7, # 주변 4개\n",
        "            workers=4,\n",
        "            sg=1, # 0: CBOW, 1: skip-gram\n",
        "            epochs=5000\n",
        "                         )\n",
        "        model.save('food_embedding.model')"
      ],
      "execution_count": 21,
      "outputs": [
        {
          "output_type": "stream",
          "text": [
            "Model loaded\n",
            "Training test set using current model\n",
            "150\n",
            "[['찐계란', '단호박죽', '연유버터베이글', '사과', '고기완자전', '우거지국'], ['찐계란', '시래기지짐', '대만샌드위치', '황태국'], ['핫케익', '찐계란', '오곡죽', '고구마순볶음', '매생이굴국']]\n"
          ],
          "name": "stdout"
        }
      ]
    },
    {
      "cell_type": "code",
      "metadata": {
        "colab": {
          "base_uri": "https://localhost:8080/"
        },
        "id": "lY5AhS2X633R",
        "outputId": "a93be1d0-ff27-4ded-ab76-038716aaa783"
      },
      "source": [
        "model.wv.most_similar('우거지국')"
      ],
      "execution_count": 22,
      "outputs": [
        {
          "output_type": "execute_result",
          "data": {
            "text/plain": [
              "[('우거지해장국', 0.21551667153835297),\n",
              " ('모듬튀김', 0.09901649504899979),\n",
              " ('닭오븐구이', 0.08764186501502991),\n",
              " ('삶은계란', 0.08117633312940598),\n",
              " ('쌀국수', 0.0769101157784462),\n",
              " ('쑥국', 0.07504355907440186),\n",
              " ('찜닭', 0.07437247782945633),\n",
              " ('매운어묵국', 0.07352926582098007),\n",
              " ('황태양념구이', 0.07150933146476746),\n",
              " ('닭강정', 0.07124882191419601)]"
            ]
          },
          "metadata": {
            "tags": []
          },
          "execution_count": 22
        }
      ]
    },
    {
      "cell_type": "code",
      "metadata": {
        "id": "bJFsfFsMBrIZ"
      },
      "source": [
        "test_df = all_df[len(train_df):].drop(['lunch_y', 'dinner_y'], axis=1)"
      ],
      "execution_count": 28,
      "outputs": []
    },
    {
      "cell_type": "code",
      "metadata": {
        "id": "Nvd8X5Dw6-pJ"
      },
      "source": [
        "test_df['breakfast_embedding'] = test_df['breakfast'].apply(lambda x: food_embedding(x))\n",
        "test_df['lunch_embedding'] = test_df['lunch'].apply(lambda x: food_embedding(x))\n",
        "test_df['dinner_embedding'] = test_df['dinner'].apply(lambda x: food_embedding(x))\n",
        "test_df.drop(['breakfast', 'lunch', 'dinner'], axis=1, inplace=True)\n",
        "X_test_common = test_df.iloc[:, :10]"
      ],
      "execution_count": 29,
      "outputs": []
    },
    {
      "cell_type": "code",
      "metadata": {
        "id": "LTlCQGxcBmWO"
      },
      "source": [
        "test_emb_arr_lunch  = np.array(test_df['lunch_embedding'].to_numpy().tolist())\n",
        "test_emb_arr_dinner  = np.array(test_df['dinner_embedding'].to_numpy().tolist())\n",
        "\n",
        "test_lunch  = np.concatenate((X_test_common.to_numpy(), test_emb_arr_lunch), axis=1)\n",
        "test_dinner  = np.concatenate((X_test_common.to_numpy(), test_emb_arr_dinner), axis=1)"
      ],
      "execution_count": 30,
      "outputs": []
    },
    {
      "cell_type": "code",
      "metadata": {
        "id": "aMxECQKYBarG"
      },
      "source": [
        "test_pred_lunch = model_lunch.predict(test_lunch)\n",
        "test_pred_dinner = model_dinner.predict(test_dinner)\n",
        "\n",
        "submission_df = pd.read_csv(PATH+'sample_submission.csv')\n",
        "submission_df['중식계'] = test_pred_lunch\n",
        "submission_df['석식계'] = test_pred_dinner"
      ],
      "execution_count": 32,
      "outputs": []
    },
    {
      "cell_type": "code",
      "metadata": {
        "id": "Poa0hyioCFnO"
      },
      "source": [
        "submission_df.to_csv('fasttext1.csv', index=False)"
      ],
      "execution_count": 33,
      "outputs": []
    },
    {
      "cell_type": "code",
      "metadata": {
        "colab": {
          "base_uri": "https://localhost:8080/",
          "height": 270
        },
        "id": "LtyKUzhm7Iga",
        "outputId": "b1c8a817-d753-40f6-f06e-cb44c61178fb"
      },
      "source": [
        "test_df.head(1)"
      ],
      "execution_count": 25,
      "outputs": [
        {
          "output_type": "execute_result",
          "data": {
            "text/html": [
              "<div>\n",
              "<style scoped>\n",
              "    .dataframe tbody tr th:only-of-type {\n",
              "        vertical-align: middle;\n",
              "    }\n",
              "\n",
              "    .dataframe tbody tr th {\n",
              "        vertical-align: top;\n",
              "    }\n",
              "\n",
              "    .dataframe thead th {\n",
              "        text-align: right;\n",
              "    }\n",
              "</style>\n",
              "<table border=\"1\" class=\"dataframe\">\n",
              "  <thead>\n",
              "    <tr style=\"text-align: right;\">\n",
              "      <th></th>\n",
              "      <th>breakfast</th>\n",
              "      <th>lunch</th>\n",
              "      <th>dinner</th>\n",
              "      <th>vac_ratio</th>\n",
              "      <th>trip_ratio</th>\n",
              "      <th>home</th>\n",
              "      <th>extra</th>\n",
              "      <th>total</th>\n",
              "      <th>year</th>\n",
              "      <th>month</th>\n",
              "      <th>date</th>\n",
              "      <th>week</th>\n",
              "      <th>dayofweek</th>\n",
              "      <th>breakfast_embedding</th>\n",
              "      <th>lunch_embedding</th>\n",
              "      <th>dinner_embedding</th>\n",
              "    </tr>\n",
              "  </thead>\n",
              "  <tbody>\n",
              "    <tr>\n",
              "      <th>1205</th>\n",
              "      <td>[찐계란, 단호박죽, 연유버터베이글, 사과, 고기완자전, 우거지국]</td>\n",
              "      <td>[매운돈갈비찜, 상추무침, 오꼬노미계란말이, 대구지리]</td>\n",
              "      <td>[쇠고기우엉볶음, 버섯햄볶음, 얼큰순두부찌개]</td>\n",
              "      <td>0.029501</td>\n",
              "      <td>0.061012</td>\n",
              "      <td>0.120013</td>\n",
              "      <td>0.001676</td>\n",
              "      <td>0.789474</td>\n",
              "      <td>2021</td>\n",
              "      <td>1</td>\n",
              "      <td>27</td>\n",
              "      <td>4</td>\n",
              "      <td>2</td>\n",
              "      <td>[-3.002130627767959e-05, -2.6683754792126518e-...</td>\n",
              "      <td>[5.8634714150684886e-05, -1.1691027793858666e-...</td>\n",
              "      <td>[-7.44763219699962e-05, 1.4272785241094728e-06...</td>\n",
              "    </tr>\n",
              "  </tbody>\n",
              "</table>\n",
              "</div>"
            ],
            "text/plain": [
              "                                  breakfast  ...                                   dinner_embedding\n",
              "1205  [찐계란, 단호박죽, 연유버터베이글, 사과, 고기완자전, 우거지국]  ...  [-7.44763219699962e-05, 1.4272785241094728e-06...\n",
              "\n",
              "[1 rows x 16 columns]"
            ]
          },
          "metadata": {
            "tags": []
          },
          "execution_count": 25
        }
      ]
    },
    {
      "cell_type": "markdown",
      "metadata": {
        "id": "tnq-cgMaeje3"
      },
      "source": [
        "# Baseline"
      ]
    },
    {
      "cell_type": "code",
      "metadata": {
        "colab": {
          "base_uri": "https://localhost:8080/"
        },
        "id": "U8llYpvLN_Dm",
        "outputId": "644ebe24-f3c5-44be-e140-ae0d1bf6a94c"
      },
      "source": [
        "base_df = all_df.drop(['breakfast', 'lunch', 'dinner'], axis=1)\n",
        "b_train_df = base_df[:len(train_df)]\n",
        "b_test_df = base_df[len(train_df):].drop(['lunch_y', 'dinner_y'], axis=1)\n",
        "print(b_train_df.shape, b_test_df.shape)"
      ],
      "execution_count": null,
      "outputs": [
        {
          "output_type": "stream",
          "text": [
            "(1205, 12) (50, 10)\n"
          ],
          "name": "stdout"
        }
      ]
    },
    {
      "cell_type": "code",
      "metadata": {
        "colab": {
          "base_uri": "https://localhost:8080/"
        },
        "id": "ImXwnP5-YC-c",
        "outputId": "1aa860d7-b7cf-41fb-be1b-8ce9d84a4e09"
      },
      "source": [
        "base_df.info()"
      ],
      "execution_count": null,
      "outputs": [
        {
          "output_type": "stream",
          "text": [
            "<class 'pandas.core.frame.DataFrame'>\n",
            "Int64Index: 1255 entries, 0 to 1254\n",
            "Data columns (total 12 columns):\n",
            " #   Column      Non-Null Count  Dtype  \n",
            "---  ------      --------------  -----  \n",
            " 0   lunch_y     1205 non-null   float64\n",
            " 1   dinner_y    1205 non-null   float64\n",
            " 2   vac_ratio   1255 non-null   float64\n",
            " 3   trip_ratio  1255 non-null   float64\n",
            " 4   home        1255 non-null   float64\n",
            " 5   extra       1255 non-null   float64\n",
            " 6   total       1255 non-null   float64\n",
            " 7   year        1255 non-null   int64  \n",
            " 8   month       1255 non-null   int64  \n",
            " 9   date        1255 non-null   int64  \n",
            " 10  week        1255 non-null   int64  \n",
            " 11  dayofweek   1255 non-null   int64  \n",
            "dtypes: float64(7), int64(5)\n",
            "memory usage: 167.5 KB\n"
          ],
          "name": "stdout"
        }
      ]
    },
    {
      "cell_type": "code",
      "metadata": {
        "colab": {
          "base_uri": "https://localhost:8080/",
          "height": 289
        },
        "id": "CyxzG5YJX8S-",
        "outputId": "01dbe959-ba8e-4381-b1b8-b03a743006dd"
      },
      "source": [
        "base_df.describe()"
      ],
      "execution_count": null,
      "outputs": [
        {
          "output_type": "execute_result",
          "data": {
            "text/html": [
              "<div>\n",
              "<style scoped>\n",
              "    .dataframe tbody tr th:only-of-type {\n",
              "        vertical-align: middle;\n",
              "    }\n",
              "\n",
              "    .dataframe tbody tr th {\n",
              "        vertical-align: top;\n",
              "    }\n",
              "\n",
              "    .dataframe thead th {\n",
              "        text-align: right;\n",
              "    }\n",
              "</style>\n",
              "<table border=\"1\" class=\"dataframe\">\n",
              "  <thead>\n",
              "    <tr style=\"text-align: right;\">\n",
              "      <th></th>\n",
              "      <th>lunch_y</th>\n",
              "      <th>dinner_y</th>\n",
              "      <th>vac_ratio</th>\n",
              "      <th>trip_ratio</th>\n",
              "      <th>home</th>\n",
              "      <th>extra</th>\n",
              "      <th>total</th>\n",
              "      <th>year</th>\n",
              "      <th>month</th>\n",
              "      <th>date</th>\n",
              "      <th>week</th>\n",
              "      <th>dayofweek</th>\n",
              "    </tr>\n",
              "  </thead>\n",
              "  <tbody>\n",
              "    <tr>\n",
              "      <th>count</th>\n",
              "      <td>1205.000000</td>\n",
              "      <td>1205.000000</td>\n",
              "      <td>1255.000000</td>\n",
              "      <td>1255.000000</td>\n",
              "      <td>1255.000000</td>\n",
              "      <td>1255.000000</td>\n",
              "      <td>1255.000000</td>\n",
              "      <td>1255.000000</td>\n",
              "      <td>1255.000000</td>\n",
              "      <td>1255.00000</td>\n",
              "      <td>1255.000000</td>\n",
              "      <td>1255.000000</td>\n",
              "    </tr>\n",
              "    <tr>\n",
              "      <th>mean</th>\n",
              "      <td>890.334440</td>\n",
              "      <td>461.772614</td>\n",
              "      <td>0.055247</td>\n",
              "      <td>0.085630</td>\n",
              "      <td>0.017930</td>\n",
              "      <td>0.098451</td>\n",
              "      <td>0.841193</td>\n",
              "      <td>2018.169721</td>\n",
              "      <td>6.358566</td>\n",
              "      <td>15.89243</td>\n",
              "      <td>25.883665</td>\n",
              "      <td>2.007968</td>\n",
              "    </tr>\n",
              "    <tr>\n",
              "      <th>std</th>\n",
              "      <td>209.505057</td>\n",
              "      <td>139.179202</td>\n",
              "      <td>0.049595</td>\n",
              "      <td>0.016669</td>\n",
              "      <td>0.039774</td>\n",
              "      <td>0.087486</td>\n",
              "      <td>0.056905</td>\n",
              "      <td>1.518847</td>\n",
              "      <td>3.470845</td>\n",
              "      <td>8.67904</td>\n",
              "      <td>15.164042</td>\n",
              "      <td>1.414191</td>\n",
              "    </tr>\n",
              "    <tr>\n",
              "      <th>min</th>\n",
              "      <td>296.000000</td>\n",
              "      <td>0.000000</td>\n",
              "      <td>0.008475</td>\n",
              "      <td>0.014576</td>\n",
              "      <td>0.000000</td>\n",
              "      <td>0.000000</td>\n",
              "      <td>0.520288</td>\n",
              "      <td>2016.000000</td>\n",
              "      <td>1.000000</td>\n",
              "      <td>1.00000</td>\n",
              "      <td>1.000000</td>\n",
              "      <td>0.000000</td>\n",
              "    </tr>\n",
              "    <tr>\n",
              "      <th>25%</th>\n",
              "      <td>758.000000</td>\n",
              "      <td>406.000000</td>\n",
              "      <td>0.025727</td>\n",
              "      <td>0.076076</td>\n",
              "      <td>0.000000</td>\n",
              "      <td>0.001061</td>\n",
              "      <td>0.814270</td>\n",
              "      <td>2017.000000</td>\n",
              "      <td>3.000000</td>\n",
              "      <td>8.00000</td>\n",
              "      <td>12.000000</td>\n",
              "      <td>1.000000</td>\n",
              "    </tr>\n",
              "    <tr>\n",
              "      <th>50%</th>\n",
              "      <td>879.000000</td>\n",
              "      <td>483.000000</td>\n",
              "      <td>0.037074</td>\n",
              "      <td>0.087205</td>\n",
              "      <td>0.000000</td>\n",
              "      <td>0.111111</td>\n",
              "      <td>0.863602</td>\n",
              "      <td>2018.000000</td>\n",
              "      <td>6.000000</td>\n",
              "      <td>16.00000</td>\n",
              "      <td>26.000000</td>\n",
              "      <td>2.000000</td>\n",
              "    </tr>\n",
              "    <tr>\n",
              "      <th>75%</th>\n",
              "      <td>1032.000000</td>\n",
              "      <td>545.000000</td>\n",
              "      <td>0.065336</td>\n",
              "      <td>0.097917</td>\n",
              "      <td>0.000000</td>\n",
              "      <td>0.164824</td>\n",
              "      <td>0.882132</td>\n",
              "      <td>2019.000000</td>\n",
              "      <td>9.000000</td>\n",
              "      <td>23.00000</td>\n",
              "      <td>39.000000</td>\n",
              "      <td>3.000000</td>\n",
              "    </tr>\n",
              "    <tr>\n",
              "      <th>max</th>\n",
              "      <td>1459.000000</td>\n",
              "      <td>905.000000</td>\n",
              "      <td>0.464164</td>\n",
              "      <td>0.121115</td>\n",
              "      <td>0.180678</td>\n",
              "      <td>0.387640</td>\n",
              "      <td>0.934087</td>\n",
              "      <td>2021.000000</td>\n",
              "      <td>12.000000</td>\n",
              "      <td>31.00000</td>\n",
              "      <td>52.000000</td>\n",
              "      <td>4.000000</td>\n",
              "    </tr>\n",
              "  </tbody>\n",
              "</table>\n",
              "</div>"
            ],
            "text/plain": [
              "           lunch_y     dinner_y  ...         week    dayofweek\n",
              "count  1205.000000  1205.000000  ...  1255.000000  1255.000000\n",
              "mean    890.334440   461.772614  ...    25.883665     2.007968\n",
              "std     209.505057   139.179202  ...    15.164042     1.414191\n",
              "min     296.000000     0.000000  ...     1.000000     0.000000\n",
              "25%     758.000000   406.000000  ...    12.000000     1.000000\n",
              "50%     879.000000   483.000000  ...    26.000000     2.000000\n",
              "75%    1032.000000   545.000000  ...    39.000000     3.000000\n",
              "max    1459.000000   905.000000  ...    52.000000     4.000000\n",
              "\n",
              "[8 rows x 12 columns]"
            ]
          },
          "metadata": {
            "tags": []
          },
          "execution_count": 21
        }
      ]
    },
    {
      "cell_type": "code",
      "metadata": {
        "colab": {
          "base_uri": "https://localhost:8080/",
          "height": 199
        },
        "id": "28llXi8yOsix",
        "outputId": "946af01f-50bf-462e-cd2c-5e36d1261d30"
      },
      "source": [
        "b_train_df.head()"
      ],
      "execution_count": null,
      "outputs": [
        {
          "output_type": "execute_result",
          "data": {
            "text/html": [
              "<div>\n",
              "<style scoped>\n",
              "    .dataframe tbody tr th:only-of-type {\n",
              "        vertical-align: middle;\n",
              "    }\n",
              "\n",
              "    .dataframe tbody tr th {\n",
              "        vertical-align: top;\n",
              "    }\n",
              "\n",
              "    .dataframe thead th {\n",
              "        text-align: right;\n",
              "    }\n",
              "</style>\n",
              "<table border=\"1\" class=\"dataframe\">\n",
              "  <thead>\n",
              "    <tr style=\"text-align: right;\">\n",
              "      <th></th>\n",
              "      <th>lunch_y</th>\n",
              "      <th>dinner_y</th>\n",
              "      <th>vac_ratio</th>\n",
              "      <th>trip_ratio</th>\n",
              "      <th>home</th>\n",
              "      <th>extra</th>\n",
              "      <th>total</th>\n",
              "      <th>year</th>\n",
              "      <th>month</th>\n",
              "      <th>date</th>\n",
              "      <th>week</th>\n",
              "      <th>dayofweek</th>\n",
              "    </tr>\n",
              "  </thead>\n",
              "  <tbody>\n",
              "    <tr>\n",
              "      <th>0</th>\n",
              "      <td>1039.0</td>\n",
              "      <td>331.0</td>\n",
              "      <td>0.019223</td>\n",
              "      <td>0.057670</td>\n",
              "      <td>0.0</td>\n",
              "      <td>0.091503</td>\n",
              "      <td>0.923106</td>\n",
              "      <td>2016</td>\n",
              "      <td>2</td>\n",
              "      <td>1</td>\n",
              "      <td>5</td>\n",
              "      <td>0</td>\n",
              "    </tr>\n",
              "    <tr>\n",
              "      <th>1</th>\n",
              "      <td>867.0</td>\n",
              "      <td>560.0</td>\n",
              "      <td>0.019223</td>\n",
              "      <td>0.066513</td>\n",
              "      <td>0.0</td>\n",
              "      <td>0.122645</td>\n",
              "      <td>0.914264</td>\n",
              "      <td>2016</td>\n",
              "      <td>2</td>\n",
              "      <td>2</td>\n",
              "      <td>5</td>\n",
              "      <td>1</td>\n",
              "    </tr>\n",
              "    <tr>\n",
              "      <th>2</th>\n",
              "      <td>1017.0</td>\n",
              "      <td>573.0</td>\n",
              "      <td>0.021530</td>\n",
              "      <td>0.069204</td>\n",
              "      <td>0.0</td>\n",
              "      <td>0.042676</td>\n",
              "      <td>0.909266</td>\n",
              "      <td>2016</td>\n",
              "      <td>2</td>\n",
              "      <td>3</td>\n",
              "      <td>5</td>\n",
              "      <td>2</td>\n",
              "    </tr>\n",
              "    <tr>\n",
              "      <th>3</th>\n",
              "      <td>978.0</td>\n",
              "      <td>525.0</td>\n",
              "      <td>0.039985</td>\n",
              "      <td>0.084583</td>\n",
              "      <td>0.0</td>\n",
              "      <td>0.136486</td>\n",
              "      <td>0.875433</td>\n",
              "      <td>2016</td>\n",
              "      <td>2</td>\n",
              "      <td>4</td>\n",
              "      <td>5</td>\n",
              "      <td>3</td>\n",
              "    </tr>\n",
              "    <tr>\n",
              "      <th>4</th>\n",
              "      <td>925.0</td>\n",
              "      <td>330.0</td>\n",
              "      <td>0.106882</td>\n",
              "      <td>0.069589</td>\n",
              "      <td>0.0</td>\n",
              "      <td>0.013072</td>\n",
              "      <td>0.823529</td>\n",
              "      <td>2016</td>\n",
              "      <td>2</td>\n",
              "      <td>5</td>\n",
              "      <td>5</td>\n",
              "      <td>4</td>\n",
              "    </tr>\n",
              "  </tbody>\n",
              "</table>\n",
              "</div>"
            ],
            "text/plain": [
              "   lunch_y  dinner_y  vac_ratio  trip_ratio  ...  month  date  week  dayofweek\n",
              "0   1039.0     331.0   0.019223    0.057670  ...      2     1     5          0\n",
              "1    867.0     560.0   0.019223    0.066513  ...      2     2     5          1\n",
              "2   1017.0     573.0   0.021530    0.069204  ...      2     3     5          2\n",
              "3    978.0     525.0   0.039985    0.084583  ...      2     4     5          3\n",
              "4    925.0     330.0   0.106882    0.069589  ...      2     5     5          4\n",
              "\n",
              "[5 rows x 12 columns]"
            ]
          },
          "metadata": {
            "tags": []
          },
          "execution_count": 22
        }
      ]
    },
    {
      "cell_type": "code",
      "metadata": {
        "colab": {
          "base_uri": "https://localhost:8080/",
          "height": 199
        },
        "id": "yq3gPBCyOthV",
        "outputId": "b2d11856-c131-4cba-f160-34694c576788"
      },
      "source": [
        "b_test_df.head()"
      ],
      "execution_count": null,
      "outputs": [
        {
          "output_type": "execute_result",
          "data": {
            "text/html": [
              "<div>\n",
              "<style scoped>\n",
              "    .dataframe tbody tr th:only-of-type {\n",
              "        vertical-align: middle;\n",
              "    }\n",
              "\n",
              "    .dataframe tbody tr th {\n",
              "        vertical-align: top;\n",
              "    }\n",
              "\n",
              "    .dataframe thead th {\n",
              "        text-align: right;\n",
              "    }\n",
              "</style>\n",
              "<table border=\"1\" class=\"dataframe\">\n",
              "  <thead>\n",
              "    <tr style=\"text-align: right;\">\n",
              "      <th></th>\n",
              "      <th>vac_ratio</th>\n",
              "      <th>trip_ratio</th>\n",
              "      <th>home</th>\n",
              "      <th>extra</th>\n",
              "      <th>total</th>\n",
              "      <th>year</th>\n",
              "      <th>month</th>\n",
              "      <th>date</th>\n",
              "      <th>week</th>\n",
              "      <th>dayofweek</th>\n",
              "    </tr>\n",
              "  </thead>\n",
              "  <tbody>\n",
              "    <tr>\n",
              "      <th>1205</th>\n",
              "      <td>0.029501</td>\n",
              "      <td>0.061012</td>\n",
              "      <td>0.120013</td>\n",
              "      <td>0.001676</td>\n",
              "      <td>0.789474</td>\n",
              "      <td>2021</td>\n",
              "      <td>1</td>\n",
              "      <td>27</td>\n",
              "      <td>4</td>\n",
              "      <td>2</td>\n",
              "    </tr>\n",
              "    <tr>\n",
              "      <th>1206</th>\n",
              "      <td>0.034864</td>\n",
              "      <td>0.071069</td>\n",
              "      <td>0.116661</td>\n",
              "      <td>0.137110</td>\n",
              "      <td>0.777405</td>\n",
              "      <td>2021</td>\n",
              "      <td>1</td>\n",
              "      <td>28</td>\n",
              "      <td>4</td>\n",
              "      <td>3</td>\n",
              "    </tr>\n",
              "    <tr>\n",
              "      <th>1207</th>\n",
              "      <td>0.090513</td>\n",
              "      <td>0.083473</td>\n",
              "      <td>0.098558</td>\n",
              "      <td>0.000000</td>\n",
              "      <td>0.727456</td>\n",
              "      <td>2021</td>\n",
              "      <td>1</td>\n",
              "      <td>29</td>\n",
              "      <td>4</td>\n",
              "      <td>4</td>\n",
              "    </tr>\n",
              "    <tr>\n",
              "      <th>1208</th>\n",
              "      <td>0.036936</td>\n",
              "      <td>0.052668</td>\n",
              "      <td>0.110123</td>\n",
              "      <td>0.183995</td>\n",
              "      <td>0.800274</td>\n",
              "      <td>2021</td>\n",
              "      <td>2</td>\n",
              "      <td>1</td>\n",
              "      <td>5</td>\n",
              "      <td>0</td>\n",
              "    </tr>\n",
              "    <tr>\n",
              "      <th>1209</th>\n",
              "      <td>0.021204</td>\n",
              "      <td>0.063611</td>\n",
              "      <td>0.107387</td>\n",
              "      <td>0.155609</td>\n",
              "      <td>0.807798</td>\n",
              "      <td>2021</td>\n",
              "      <td>2</td>\n",
              "      <td>2</td>\n",
              "      <td>5</td>\n",
              "      <td>1</td>\n",
              "    </tr>\n",
              "  </tbody>\n",
              "</table>\n",
              "</div>"
            ],
            "text/plain": [
              "      vac_ratio  trip_ratio      home     extra  ...  month  date  week  dayofweek\n",
              "1205   0.029501    0.061012  0.120013  0.001676  ...      1    27     4          2\n",
              "1206   0.034864    0.071069  0.116661  0.137110  ...      1    28     4          3\n",
              "1207   0.090513    0.083473  0.098558  0.000000  ...      1    29     4          4\n",
              "1208   0.036936    0.052668  0.110123  0.183995  ...      2     1     5          0\n",
              "1209   0.021204    0.063611  0.107387  0.155609  ...      2     2     5          1\n",
              "\n",
              "[5 rows x 10 columns]"
            ]
          },
          "metadata": {
            "tags": []
          },
          "execution_count": 23
        }
      ]
    },
    {
      "cell_type": "code",
      "metadata": {
        "id": "mgx-WqyF80Vf",
        "colab": {
          "base_uri": "https://localhost:8080/"
        },
        "outputId": "2a2976ba-bc98-4007-88b7-a82a6a486baa"
      },
      "source": [
        "lunch_X = b_train_df.drop(['lunch_y', 'dinner_y'], axis=1)\n",
        "lunch_y = b_train_df['lunch_y']\n",
        "dinner_X = b_train_df.drop(['lunch_y', 'dinner_y'], axis=1)\n",
        "dinner_y = b_train_df['dinner_y']\n",
        "for col in (lunch_X, lunch_y, dinner_X, dinner_y):\n",
        "    print(col.head(1))\n",
        "# 점심\n",
        "l_X_train, l_X_test, l_y_train, l_y_test = train_test_split(lunch_X, lunch_y, test_size=0.2, random_state=2021)\n",
        "# 저녁\n",
        "d_X_train, d_X_test, d_y_train, d_y_test = train_test_split(dinner_X, dinner_y, test_size=0.2, random_state=2021)"
      ],
      "execution_count": null,
      "outputs": [
        {
          "output_type": "stream",
          "text": [
            "   vac_ratio  trip_ratio  home     extra  ...  month  date  week  dayofweek\n",
            "0   0.019223     0.05767   0.0  0.091503  ...      2     1     5          0\n",
            "\n",
            "[1 rows x 10 columns]\n",
            "0    1039.0\n",
            "Name: lunch_y, dtype: float64\n",
            "   vac_ratio  trip_ratio  home     extra  ...  month  date  week  dayofweek\n",
            "0   0.019223     0.05767   0.0  0.091503  ...      2     1     5          0\n",
            "\n",
            "[1 rows x 10 columns]\n",
            "0    331.0\n",
            "Name: dinner_y, dtype: float64\n"
          ],
          "name": "stdout"
        }
      ]
    },
    {
      "cell_type": "code",
      "metadata": {
        "colab": {
          "base_uri": "https://localhost:8080/"
        },
        "id": "C8wltZXuVaNX",
        "outputId": "de911167-e660-4802-bdac-b36d2ac767d9"
      },
      "source": [
        "col1 = [l_X_train, l_X_test, l_y_train, l_y_test]\n",
        "col2 = [d_X_train, d_X_test, d_y_train, d_y_test]\n",
        "for i, j in zip(col1, col2):\n",
        "    print(i.shape)\n",
        "    print(j.shape)"
      ],
      "execution_count": null,
      "outputs": [
        {
          "output_type": "stream",
          "text": [
            "(964, 10)\n",
            "(964, 10)\n",
            "(241, 10)\n",
            "(241, 10)\n",
            "(964,)\n",
            "(964,)\n",
            "(241,)\n",
            "(241,)\n"
          ],
          "name": "stdout"
        }
      ]
    },
    {
      "cell_type": "markdown",
      "metadata": {
        "id": "BcqfiTFxaG9c"
      },
      "source": [
        "## 점심 튜닝"
      ]
    },
    {
      "cell_type": "code",
      "metadata": {
        "colab": {
          "base_uri": "https://localhost:8080/"
        },
        "id": "cWnx4bk2WN4_",
        "outputId": "5c035d89-d46c-4e36-d074-06cfbf25d931"
      },
      "source": [
        "from optuna.samplers import TPESampler\n",
        "\n",
        "sampler = TPESampler(seed=2021)\n",
        "n_repeats=3\n",
        "\n",
        "def objective(trial):\n",
        "    dtrain = xgb.DMatrix(l_X_train, label=l_y_train)\n",
        "    dtest = xgb.DMatrix(l_X_test, label=l_y_test)\n",
        "\n",
        "    param = {\n",
        "        'objective': 'reg:squarederror', # 회귀\n",
        "         'eval_metric': 'mae',\n",
        "         \"xgb_gpu_hist\": 1,\n",
        "         'verbosity': 0,\n",
        "         'booster': 'gbtree', # gradient boosting decision tree\n",
        "         'lambda': trial.suggest_loguniform('lambda', 1e-8, 1),\n",
        "         'alpha': trial.suggest_loguniform('alpha', 1e-8, 1),\n",
        "         'max_depth': trial.suggest_int('max_depth',3, 9),\n",
        "         \"eta\": trial.suggest_loguniform(\"eta\", 1e-8, 1.0),\n",
        "         \"gamma\": trial.suggest_loguniform(\"gamma\", 1e-8, 1.0),\n",
        "         'n_estimators': trial.suggest_int('n_estimators', 700, 1500),\n",
        "         'min_child_weight': trial.suggest_int('min_child_weight', 0, 10),\n",
        "         'subsample': trial.suggest_loguniform('subsample', 0.4, 1)\n",
        "    }\n",
        "\n",
        "    model = xgb.XGBRegressor(**param)\n",
        "    xgb2 = model.fit(l_X_train, l_y_train, eval_set=[(l_X_test, l_y_test)], verbose=0,\n",
        "                      eval_metric='mae')\n",
        "    mae = mean_absolute_error(l_y_test, xgb2.predict(l_X_test))\n",
        "\n",
        "    return mae\n",
        "        \n",
        "l_study_xgb = optuna.create_study(direction='minimize', sampler=sampler)\n",
        "l_study_xgb.optimize(objective, n_trials=50)"
      ],
      "execution_count": null,
      "outputs": [
        {
          "output_type": "stream",
          "text": [
            "\u001b[32m[I 2021-07-03 09:24:44,230]\u001b[0m A new study created in memory with name: no-name-a88e5a8f-534c-41e8-abf7-6b3d9a97a246\u001b[0m\n",
            "/usr/local/lib/python3.7/dist-packages/xgboost/data.py:114: UserWarning:\n",
            "\n",
            "Use subset (sliced data) of np.ndarray is not recommended because it will generate extra copies and increase memory consumption\n",
            "\n",
            "\u001b[32m[I 2021-07-03 09:24:44,983]\u001b[0m Trial 0 finished with value: 918.3411489156272 and parameters: {'lambda': 0.0007044111641739534, 'alpha': 0.007361306311531573, 'max_depth': 3, 'eta': 3.1723761109634215e-06, 'gamma': 0.9504871519148276, 'n_estimators': 802, 'min_child_weight': 1, 'subsample': 0.7974053460591444}. Best is trial 0 with value: 918.3411489156272.\u001b[0m\n",
            "/usr/local/lib/python3.7/dist-packages/xgboost/data.py:114: UserWarning:\n",
            "\n",
            "Use subset (sliced data) of np.ndarray is not recommended because it will generate extra copies and increase memory consumption\n",
            "\n",
            "\u001b[32m[I 2021-07-03 09:24:46,062]\u001b[0m Trial 1 finished with value: 920.6297843038294 and parameters: {'lambda': 0.0019828237604565383, 'alpha': 0.01881399642343495, 'max_depth': 3, 'eta': 2.9415096718071926e-08, 'gamma': 0.5002279126949734, 'n_estimators': 1193, 'min_child_weight': 0, 'subsample': 0.6689793622007182}. Best is trial 0 with value: 918.3411489156272.\u001b[0m\n",
            "/usr/local/lib/python3.7/dist-packages/xgboost/data.py:114: UserWarning:\n",
            "\n",
            "Use subset (sliced data) of np.ndarray is not recommended because it will generate extra copies and increase memory consumption\n",
            "\n",
            "\u001b[32m[I 2021-07-03 09:24:47,542]\u001b[0m Trial 2 finished with value: 913.3117210736414 and parameters: {'lambda': 0.0008554559847076483, 'alpha': 0.5137409482657409, 'max_depth': 7, 'eta': 9.317229332510368e-06, 'gamma': 4.141540859021937e-05, 'n_estimators': 861, 'min_child_weight': 6, 'subsample': 0.47829570944696775}. Best is trial 2 with value: 913.3117210736414.\u001b[0m\n",
            "/usr/local/lib/python3.7/dist-packages/xgboost/data.py:114: UserWarning:\n",
            "\n",
            "Use subset (sliced data) of np.ndarray is not recommended because it will generate extra copies and increase memory consumption\n",
            "\n",
            "\u001b[32m[I 2021-07-03 09:24:48,768]\u001b[0m Trial 3 finished with value: 66.56477336962688 and parameters: {'lambda': 0.0004673391136992949, 'alpha': 6.464095867534913e-05, 'max_depth': 6, 'eta': 0.03844050387430893, 'gamma': 0.007207758310433094, 'n_estimators': 755, 'min_child_weight': 7, 'subsample': 0.7213206090997876}. Best is trial 3 with value: 66.56477336962688.\u001b[0m\n",
            "/usr/local/lib/python3.7/dist-packages/xgboost/data.py:114: UserWarning:\n",
            "\n",
            "Use subset (sliced data) of np.ndarray is not recommended because it will generate extra copies and increase memory consumption\n",
            "\n",
            "\u001b[32m[I 2021-07-03 09:24:51,769]\u001b[0m Trial 4 finished with value: 273.61192290120107 and parameters: {'lambda': 0.042083801365359705, 'alpha': 4.322700584864719e-07, 'max_depth': 7, 'eta': 0.0008741945531044277, 'gamma': 2.5618220897682866e-06, 'n_estimators': 1398, 'min_child_weight': 6, 'subsample': 0.9834348413016252}. Best is trial 3 with value: 66.56477336962688.\u001b[0m\n",
            "/usr/local/lib/python3.7/dist-packages/xgboost/data.py:114: UserWarning:\n",
            "\n",
            "Use subset (sliced data) of np.ndarray is not recommended because it will generate extra copies and increase memory consumption\n",
            "\n",
            "\u001b[32m[I 2021-07-03 09:24:53,821]\u001b[0m Trial 5 finished with value: 888.0750881685756 and parameters: {'lambda': 3.45030802333646e-05, 'alpha': 1.0245696441514804e-07, 'max_depth': 6, 'eta': 2.8463576586210582e-05, 'gamma': 0.2125771165026529, 'n_estimators': 1267, 'min_child_weight': 9, 'subsample': 0.6861216687720229}. Best is trial 3 with value: 66.56477336962688.\u001b[0m\n",
            "/usr/local/lib/python3.7/dist-packages/xgboost/data.py:114: UserWarning:\n",
            "\n",
            "Use subset (sliced data) of np.ndarray is not recommended because it will generate extra copies and increase memory consumption\n",
            "\n",
            "\u001b[32m[I 2021-07-03 09:24:56,129]\u001b[0m Trial 6 finished with value: 918.4752982592681 and parameters: {'lambda': 0.0012434816947988851, 'alpha': 5.466023520987005e-06, 'max_depth': 8, 'eta': 2.761888724198144e-06, 'gamma': 2.88634156038091e-06, 'n_estimators': 861, 'min_child_weight': 2, 'subsample': 0.7262540977337992}. Best is trial 3 with value: 66.56477336962688.\u001b[0m\n",
            "/usr/local/lib/python3.7/dist-packages/xgboost/data.py:114: UserWarning:\n",
            "\n",
            "Use subset (sliced data) of np.ndarray is not recommended because it will generate extra copies and increase memory consumption\n",
            "\n",
            "\u001b[32m[I 2021-07-03 09:24:58,183]\u001b[0m Trial 7 finished with value: 70.33486545926803 and parameters: {'lambda': 1.7255139207784372e-07, 'alpha': 1.2870516994090315e-05, 'max_depth': 7, 'eta': 0.061149501847645366, 'gamma': 3.241096716642312e-08, 'n_estimators': 1031, 'min_child_weight': 3, 'subsample': 0.774644544278894}. Best is trial 3 with value: 66.56477336962688.\u001b[0m\n",
            "/usr/local/lib/python3.7/dist-packages/xgboost/data.py:114: UserWarning:\n",
            "\n",
            "Use subset (sliced data) of np.ndarray is not recommended because it will generate extra copies and increase memory consumption\n",
            "\n",
            "\u001b[32m[I 2021-07-03 09:24:59,356]\u001b[0m Trial 8 finished with value: 68.1853860562273 and parameters: {'lambda': 6.177011550458872e-05, 'alpha': 0.02449800360991601, 'max_depth': 3, 'eta': 0.09918695841159368, 'gamma': 0.016436710223451063, 'n_estimators': 1318, 'min_child_weight': 0, 'subsample': 0.6896215853214822}. Best is trial 3 with value: 66.56477336962688.\u001b[0m\n",
            "/usr/local/lib/python3.7/dist-packages/xgboost/data.py:114: UserWarning:\n",
            "\n",
            "Use subset (sliced data) of np.ndarray is not recommended because it will generate extra copies and increase memory consumption\n",
            "\n",
            "\u001b[32m[I 2021-07-03 09:25:01,048]\u001b[0m Trial 9 finished with value: 67.28061470253338 and parameters: {'lambda': 0.02187549378501035, 'alpha': 1.5598018174190139e-06, 'max_depth': 5, 'eta': 0.06682151812048484, 'gamma': 0.002690489809534762, 'n_estimators': 1304, 'min_child_weight': 4, 'subsample': 0.536733171381199}. Best is trial 3 with value: 66.56477336962688.\u001b[0m\n",
            "/usr/local/lib/python3.7/dist-packages/xgboost/data.py:114: UserWarning:\n",
            "\n",
            "Use subset (sliced data) of np.ndarray is not recommended because it will generate extra copies and increase memory consumption\n",
            "\n",
            "\u001b[32m[I 2021-07-03 09:25:02,781]\u001b[0m Trial 10 finished with value: 300.78902033255804 and parameters: {'lambda': 5.004452912467814e-07, 'alpha': 0.00022278607691920244, 'max_depth': 9, 'eta': 0.001592380784922668, 'gamma': 0.002099348519680594, 'n_estimators': 704, 'min_child_weight': 10, 'subsample': 0.9316994280483778}. Best is trial 3 with value: 66.56477336962688.\u001b[0m\n",
            "/usr/local/lib/python3.7/dist-packages/xgboost/data.py:114: UserWarning:\n",
            "\n",
            "Use subset (sliced data) of np.ndarray is not recommended because it will generate extra copies and increase memory consumption\n",
            "\n",
            "\u001b[32m[I 2021-07-03 09:25:04,111]\u001b[0m Trial 11 finished with value: 111.3425189133007 and parameters: {'lambda': 0.8124300831619966, 'alpha': 1.0942499015468279e-08, 'max_depth': 5, 'eta': 0.8567161025170673, 'gamma': 0.003961951563814869, 'n_estimators': 1053, 'min_child_weight': 8, 'subsample': 0.5415362837471598}. Best is trial 3 with value: 66.56477336962688.\u001b[0m\n",
            "/usr/local/lib/python3.7/dist-packages/xgboost/data.py:114: UserWarning:\n",
            "\n",
            "Use subset (sliced data) of np.ndarray is not recommended because it will generate extra copies and increase memory consumption\n",
            "\n",
            "\u001b[32m[I 2021-07-03 09:25:05,985]\u001b[0m Trial 12 finished with value: 65.47171881584705 and parameters: {'lambda': 0.2767127371994452, 'alpha': 0.0002842771489056246, 'max_depth': 5, 'eta': 0.009813918251814603, 'gamma': 0.000475114248083701, 'n_estimators': 1407, 'min_child_weight': 4, 'subsample': 0.5616611239461566}. Best is trial 12 with value: 65.47171881584705.\u001b[0m\n",
            "/usr/local/lib/python3.7/dist-packages/xgboost/data.py:114: UserWarning:\n",
            "\n",
            "Use subset (sliced data) of np.ndarray is not recommended because it will generate extra copies and increase memory consumption\n",
            "\n",
            "\u001b[32m[I 2021-07-03 09:25:07,652]\u001b[0m Trial 13 finished with value: 69.28092950211521 and parameters: {'lambda': 0.6973871675442999, 'alpha': 0.000284448495246753, 'max_depth': 5, 'eta': 0.002862468962969005, 'gamma': 0.00012550778351316517, 'n_estimators': 1473, 'min_child_weight': 7, 'subsample': 0.40970483992774775}. Best is trial 12 with value: 65.47171881584705.\u001b[0m\n",
            "/usr/local/lib/python3.7/dist-packages/xgboost/data.py:114: UserWarning:\n",
            "\n",
            "Use subset (sliced data) of np.ndarray is not recommended because it will generate extra copies and increase memory consumption\n",
            "\n",
            "\u001b[32m[I 2021-07-03 09:25:09,241]\u001b[0m Trial 14 finished with value: 123.82464042441974 and parameters: {'lambda': 3.893349981715994e-06, 'alpha': 0.0009338630713115014, 'max_depth': 4, 'eta': 0.9132508070880299, 'gamma': 0.00015807915824965108, 'n_estimators': 1492, 'min_child_weight': 5, 'subsample': 0.5487032621606267}. Best is trial 12 with value: 65.47171881584705.\u001b[0m\n",
            "/usr/local/lib/python3.7/dist-packages/xgboost/data.py:114: UserWarning:\n",
            "\n",
            "Use subset (sliced data) of np.ndarray is not recommended because it will generate extra copies and increase memory consumption\n",
            "\n",
            "\u001b[32m[I 2021-07-03 09:25:10,775]\u001b[0m Trial 15 finished with value: 783.4060237457148 and parameters: {'lambda': 0.05012678061570556, 'alpha': 2.919160899996243e-05, 'max_depth': 6, 'eta': 0.00016910018811554884, 'gamma': 0.045075163473762385, 'n_estimators': 958, 'min_child_weight': 4, 'subsample': 0.6005481927728954}. Best is trial 12 with value: 65.47171881584705.\u001b[0m\n",
            "/usr/local/lib/python3.7/dist-packages/xgboost/data.py:114: UserWarning:\n",
            "\n",
            "Use subset (sliced data) of np.ndarray is not recommended because it will generate extra copies and increase memory consumption\n",
            "\n",
            "\u001b[32m[I 2021-07-03 09:25:12,140]\u001b[0m Trial 16 finished with value: 64.20113527923205 and parameters: {'lambda': 0.2740768872902664, 'alpha': 0.0010646682248388827, 'max_depth': 4, 'eta': 0.008152801312229872, 'gamma': 0.0004569100347069903, 'n_estimators': 1163, 'min_child_weight': 7, 'subsample': 0.8572080056927597}. Best is trial 16 with value: 64.20113527923205.\u001b[0m\n",
            "/usr/local/lib/python3.7/dist-packages/xgboost/data.py:114: UserWarning:\n",
            "\n",
            "Use subset (sliced data) of np.ndarray is not recommended because it will generate extra copies and increase memory consumption\n",
            "\n",
            "\u001b[32m[I 2021-07-03 09:25:13,493]\u001b[0m Trial 17 finished with value: 67.40008760191098 and parameters: {'lambda': 0.9571509232692393, 'alpha': 0.32176538177297237, 'max_depth': 4, 'eta': 0.005376159201972576, 'gamma': 1.28114344075404e-05, 'n_estimators': 1160, 'min_child_weight': 5, 'subsample': 0.8751973272381632}. Best is trial 16 with value: 64.20113527923205.\u001b[0m\n",
            "/usr/local/lib/python3.7/dist-packages/xgboost/data.py:114: UserWarning:\n",
            "\n",
            "Use subset (sliced data) of np.ndarray is not recommended because it will generate extra copies and increase memory consumption\n",
            "\n",
            "\u001b[32m[I 2021-07-03 09:25:14,941]\u001b[0m Trial 18 finished with value: 722.0406193396857 and parameters: {'lambda': 1.1919908806560655e-08, 'alpha': 0.0023069979929525183, 'max_depth': 4, 'eta': 0.00017392894544831955, 'gamma': 0.0005959691237442354, 'n_estimators': 1403, 'min_child_weight': 10, 'subsample': 0.4591840805254221}. Best is trial 16 with value: 64.20113527923205.\u001b[0m\n",
            "/usr/local/lib/python3.7/dist-packages/xgboost/data.py:114: UserWarning:\n",
            "\n",
            "Use subset (sliced data) of np.ndarray is not recommended because it will generate extra copies and increase memory consumption\n",
            "\n",
            "\u001b[32m[I 2021-07-03 09:25:16,237]\u001b[0m Trial 19 finished with value: 65.34140153940288 and parameters: {'lambda': 0.18073547388026767, 'alpha': 0.06451499291835323, 'max_depth': 4, 'eta': 0.01786502548027726, 'gamma': 3.561841423988695e-08, 'n_estimators': 1172, 'min_child_weight': 3, 'subsample': 0.5933452151689637}. Best is trial 16 with value: 64.20113527923205.\u001b[0m\n",
            "/usr/local/lib/python3.7/dist-packages/xgboost/data.py:114: UserWarning:\n",
            "\n",
            "Use subset (sliced data) of np.ndarray is not recommended because it will generate extra copies and increase memory consumption\n",
            "\n",
            "\u001b[32m[I 2021-07-03 09:25:17,570]\u001b[0m Trial 20 finished with value: 81.2812292328514 and parameters: {'lambda': 0.009409659062217815, 'alpha': 0.1590777309745813, 'max_depth': 4, 'eta': 0.3557242255687097, 'gamma': 2.3922179706674597e-08, 'n_estimators': 1137, 'min_child_weight': 2, 'subsample': 0.6169627695906035}. Best is trial 16 with value: 64.20113527923205.\u001b[0m\n",
            "/usr/local/lib/python3.7/dist-packages/xgboost/data.py:114: UserWarning:\n",
            "\n",
            "Use subset (sliced data) of np.ndarray is not recommended because it will generate extra copies and increase memory consumption\n",
            "\n",
            "\u001b[32m[I 2021-07-03 09:25:19,215]\u001b[0m Trial 21 finished with value: 66.09441708133429 and parameters: {'lambda': 0.160756284633171, 'alpha': 0.0009663744947612753, 'max_depth': 5, 'eta': 0.010841969920209825, 'gamma': 1.965059027408609e-07, 'n_estimators': 1226, 'min_child_weight': 3, 'subsample': 0.583481689951347}. Best is trial 16 with value: 64.20113527923205.\u001b[0m\n",
            "/usr/local/lib/python3.7/dist-packages/xgboost/data.py:114: UserWarning:\n",
            "\n",
            "Use subset (sliced data) of np.ndarray is not recommended because it will generate extra copies and increase memory consumption\n",
            "\n",
            "\u001b[32m[I 2021-07-03 09:25:20,314]\u001b[0m Trial 22 finished with value: 63.76083867876361 and parameters: {'lambda': 0.2071617183903141, 'alpha': 0.028389630078426337, 'max_depth': 4, 'eta': 0.01843924924522292, 'gamma': 0.0006187858956920169, 'n_estimators': 1057, 'min_child_weight': 4, 'subsample': 0.49937190739488835}. Best is trial 22 with value: 63.76083867876361.\u001b[0m\n",
            "/usr/local/lib/python3.7/dist-packages/xgboost/data.py:114: UserWarning:\n",
            "\n",
            "Use subset (sliced data) of np.ndarray is not recommended because it will generate extra copies and increase memory consumption\n",
            "\n",
            "\u001b[32m[I 2021-07-03 09:25:21,216]\u001b[0m Trial 23 finished with value: 71.47218784949591 and parameters: {'lambda': 0.007627032299773406, 'alpha': 0.03057499913770234, 'max_depth': 3, 'eta': 0.24268756816628095, 'gamma': 1.1831896282470302e-05, 'n_estimators': 1071, 'min_child_weight': 6, 'subsample': 0.4799326516041161}. Best is trial 22 with value: 63.76083867876361.\u001b[0m\n",
            "/usr/local/lib/python3.7/dist-packages/xgboost/data.py:114: UserWarning:\n",
            "\n",
            "Use subset (sliced data) of np.ndarray is not recommended because it will generate extra copies and increase memory consumption\n",
            "\n",
            "\u001b[32m[I 2021-07-03 09:25:22,193]\u001b[0m Trial 24 finished with value: 413.13437700073746 and parameters: {'lambda': 0.13068318019504035, 'alpha': 0.05527248630619152, 'max_depth': 4, 'eta': 0.000825402305546864, 'gamma': 6.465945239353549e-07, 'n_estimators': 980, 'min_child_weight': 3, 'subsample': 0.4104983193192014}. Best is trial 22 with value: 63.76083867876361.\u001b[0m\n",
            "/usr/local/lib/python3.7/dist-packages/xgboost/data.py:114: UserWarning:\n",
            "\n",
            "Use subset (sliced data) of np.ndarray is not recommended because it will generate extra copies and increase memory consumption\n",
            "\n",
            "\u001b[32m[I 2021-07-03 09:25:23,332]\u001b[0m Trial 25 finished with value: 65.65550820758234 and parameters: {'lambda': 0.9372120867902318, 'alpha': 0.006049924902092124, 'max_depth': 4, 'eta': 0.019968607075283362, 'gamma': 0.000547702263480113, 'n_estimators': 1118, 'min_child_weight': 8, 'subsample': 0.5026674168411607}. Best is trial 22 with value: 63.76083867876361.\u001b[0m\n",
            "/usr/local/lib/python3.7/dist-packages/xgboost/data.py:114: UserWarning:\n",
            "\n",
            "Use subset (sliced data) of np.ndarray is not recommended because it will generate extra copies and increase memory consumption\n",
            "\n",
            "\u001b[32m[I 2021-07-03 09:25:24,142]\u001b[0m Trial 26 finished with value: 630.3086509229731 and parameters: {'lambda': 0.0047267670742643245, 'alpha': 0.9433949814102942, 'max_depth': 3, 'eta': 0.00039486518044311346, 'gamma': 1.969825957042282e-05, 'n_estimators': 969, 'min_child_weight': 2, 'subsample': 0.44727861528246615}. Best is trial 22 with value: 63.76083867876361.\u001b[0m\n",
            "/usr/local/lib/python3.7/dist-packages/xgboost/data.py:114: UserWarning:\n",
            "\n",
            "Use subset (sliced data) of np.ndarray is not recommended because it will generate extra copies and increase memory consumption\n",
            "\n",
            "\u001b[32m[I 2021-07-03 09:25:25,440]\u001b[0m Trial 27 finished with value: 79.17071748472348 and parameters: {'lambda': 0.12946761480821614, 'alpha': 0.07633072612236762, 'max_depth': 4, 'eta': 0.2188051451663559, 'gamma': 0.028004999588453865, 'n_estimators': 1226, 'min_child_weight': 5, 'subsample': 0.5110743451156794}. Best is trial 22 with value: 63.76083867876361.\u001b[0m\n",
            "/usr/local/lib/python3.7/dist-packages/xgboost/data.py:114: UserWarning:\n",
            "\n",
            "Use subset (sliced data) of np.ndarray is not recommended because it will generate extra copies and increase memory consumption\n",
            "\n",
            "\u001b[32m[I 2021-07-03 09:25:26,774]\u001b[0m Trial 28 finished with value: 67.60952011678229 and parameters: {'lambda': 0.045651976278035765, 'alpha': 0.0027919745946494534, 'max_depth': 5, 'eta': 0.003791399704997058, 'gamma': 0.00011311956795561258, 'n_estimators': 1104, 'min_child_weight': 4, 'subsample': 0.43712371626449087}. Best is trial 22 with value: 63.76083867876361.\u001b[0m\n",
            "/usr/local/lib/python3.7/dist-packages/xgboost/data.py:114: UserWarning:\n",
            "\n",
            "Use subset (sliced data) of np.ndarray is not recommended because it will generate extra copies and increase memory consumption\n",
            "\n",
            "\u001b[32m[I 2021-07-03 09:25:27,748]\u001b[0m Trial 29 finished with value: 920.4169202738777 and parameters: {'lambda': 0.3251467993745164, 'alpha': 0.011527281447922762, 'max_depth': 3, 'eta': 2.6598991453494786e-07, 'gamma': 0.09725359248861774, 'n_estimators': 1012, 'min_child_weight': 1, 'subsample': 0.8609625459069349}. Best is trial 22 with value: 63.76083867876361.\u001b[0m\n",
            "/usr/local/lib/python3.7/dist-packages/xgboost/data.py:114: UserWarning:\n",
            "\n",
            "Use subset (sliced data) of np.ndarray is not recommended because it will generate extra copies and increase memory consumption\n",
            "\n",
            "\u001b[32m[I 2021-07-03 09:25:28,553]\u001b[0m Trial 30 finished with value: 891.1256005773901 and parameters: {'lambda': 0.026309010256652807, 'alpha': 0.0048158470784652125, 'max_depth': 3, 'eta': 3.6637203141230605e-05, 'gamma': 0.001350819781320405, 'n_estimators': 897, 'min_child_weight': 7, 'subsample': 0.6355155580215037}. Best is trial 22 with value: 63.76083867876361.\u001b[0m\n",
            "/usr/local/lib/python3.7/dist-packages/xgboost/data.py:114: UserWarning:\n",
            "\n",
            "Use subset (sliced data) of np.ndarray is not recommended because it will generate extra copies and increase memory consumption\n",
            "\n",
            "\u001b[32m[I 2021-07-03 09:25:30,375]\u001b[0m Trial 31 finished with value: 65.66313886840314 and parameters: {'lambda': 0.21823113903857247, 'alpha': 0.0007674714125633175, 'max_depth': 5, 'eta': 0.012604206949792552, 'gamma': 0.0002800994353654845, 'n_estimators': 1364, 'min_child_weight': 4, 'subsample': 0.5821410853305904}. Best is trial 22 with value: 63.76083867876361.\u001b[0m\n",
            "/usr/local/lib/python3.7/dist-packages/xgboost/data.py:114: UserWarning:\n",
            "\n",
            "Use subset (sliced data) of np.ndarray is not recommended because it will generate extra copies and increase memory consumption\n",
            "\n",
            "\u001b[32m[I 2021-07-03 09:25:31,710]\u001b[0m Trial 32 finished with value: 65.47880611182248 and parameters: {'lambda': 0.2875238410485435, 'alpha': 9.626458786645682e-05, 'max_depth': 4, 'eta': 0.01840068848363384, 'gamma': 0.0006983690521101405, 'n_estimators': 1203, 'min_child_weight': 3, 'subsample': 0.6376430109191562}. Best is trial 22 with value: 63.76083867876361.\u001b[0m\n",
            "/usr/local/lib/python3.7/dist-packages/xgboost/data.py:114: UserWarning:\n",
            "\n",
            "Use subset (sliced data) of np.ndarray is not recommended because it will generate extra copies and increase memory consumption\n",
            "\n",
            "\u001b[32m[I 2021-07-03 09:25:33,286]\u001b[0m Trial 33 finished with value: 66.53877809136735 and parameters: {'lambda': 0.8766589057109917, 'alpha': 0.1647192179899387, 'max_depth': 5, 'eta': 0.006298866217442768, 'gamma': 3.605108553097131e-05, 'n_estimators': 1171, 'min_child_weight': 1, 'subsample': 0.5682265072290751}. Best is trial 22 with value: 63.76083867876361.\u001b[0m\n",
            "/usr/local/lib/python3.7/dist-packages/xgboost/data.py:114: UserWarning:\n",
            "\n",
            "Use subset (sliced data) of np.ndarray is not recommended because it will generate extra copies and increase memory consumption\n",
            "\n",
            "\u001b[32m[I 2021-07-03 09:25:34,614]\u001b[0m Trial 34 finished with value: 67.1737475889847 and parameters: {'lambda': 0.00026800490142671974, 'alpha': 0.00023165926065790214, 'max_depth': 4, 'eta': 0.03163077809397883, 'gamma': 0.006960980040910539, 'n_estimators': 1272, 'min_child_weight': 6, 'subsample': 0.5040631702445691}. Best is trial 22 with value: 63.76083867876361.\u001b[0m\n",
            "/usr/local/lib/python3.7/dist-packages/xgboost/data.py:114: UserWarning:\n",
            "\n",
            "Use subset (sliced data) of np.ndarray is not recommended because it will generate extra copies and increase memory consumption\n",
            "\n",
            "\u001b[32m[I 2021-07-03 09:25:36,215]\u001b[0m Trial 35 finished with value: 196.59272696467357 and parameters: {'lambda': 0.0033033834013924375, 'alpha': 0.0021798012566677364, 'max_depth': 6, 'eta': 0.001700104649425605, 'gamma': 5.262820093234687e-05, 'n_estimators': 917, 'min_child_weight': 4, 'subsample': 0.659609945507105}. Best is trial 22 with value: 63.76083867876361.\u001b[0m\n",
            "/usr/local/lib/python3.7/dist-packages/xgboost/data.py:114: UserWarning:\n",
            "\n",
            "Use subset (sliced data) of np.ndarray is not recommended because it will generate extra copies and increase memory consumption\n",
            "\n",
            "\u001b[32m[I 2021-07-03 09:25:38,023]\u001b[0m Trial 36 finished with value: 70.69596881787312 and parameters: {'lambda': 0.07612852097134915, 'alpha': 0.013745161698255681, 'max_depth': 5, 'eta': 0.12118806005489595, 'gamma': 4.554880814638298e-06, 'n_estimators': 1423, 'min_child_weight': 6, 'subsample': 0.5308684849500519}. Best is trial 22 with value: 63.76083867876361.\u001b[0m\n",
            "/usr/local/lib/python3.7/dist-packages/xgboost/data.py:114: UserWarning:\n",
            "\n",
            "Use subset (sliced data) of np.ndarray is not recommended because it will generate extra copies and increase memory consumption\n",
            "\n",
            "\u001b[32m[I 2021-07-03 09:25:39,016]\u001b[0m Trial 37 finished with value: 566.9749211988013 and parameters: {'lambda': 0.016001288641054264, 'alpha': 0.4848633782842135, 'max_depth': 3, 'eta': 0.00045437426136759945, 'gamma': 0.6648418476038375, 'n_estimators': 1078, 'min_child_weight': 5, 'subsample': 0.7501982494312628}. Best is trial 22 with value: 63.76083867876361.\u001b[0m\n",
            "/usr/local/lib/python3.7/dist-packages/xgboost/data.py:114: UserWarning:\n",
            "\n",
            "Use subset (sliced data) of np.ndarray is not recommended because it will generate extra copies and increase memory consumption\n",
            "\n",
            "\u001b[32m[I 2021-07-03 09:25:40,454]\u001b[0m Trial 38 finished with value: 68.37319857648794 and parameters: {'lambda': 0.37830766337833766, 'alpha': 2.3875873223855133e-05, 'max_depth': 4, 'eta': 0.033572943847321284, 'gamma': 0.00027971978355721667, 'n_estimators': 1344, 'min_child_weight': 1, 'subsample': 0.48364960002910196}. Best is trial 22 with value: 63.76083867876361.\u001b[0m\n",
            "/usr/local/lib/python3.7/dist-packages/xgboost/data.py:114: UserWarning:\n",
            "\n",
            "Use subset (sliced data) of np.ndarray is not recommended because it will generate extra copies and increase memory consumption\n",
            "\n",
            "\u001b[32m[I 2021-07-03 09:25:41,917]\u001b[0m Trial 39 finished with value: 920.6512656624881 and parameters: {'lambda': 0.0013083025082882734, 'alpha': 0.0005963194974817163, 'max_depth': 6, 'eta': 1.453365910950332e-08, 'gamma': 0.013795691188164573, 'n_estimators': 790, 'min_child_weight': 3, 'subsample': 0.8091926383702137}. Best is trial 22 with value: 63.76083867876361.\u001b[0m\n",
            "/usr/local/lib/python3.7/dist-packages/xgboost/data.py:114: UserWarning:\n",
            "\n",
            "Use subset (sliced data) of np.ndarray is not recommended because it will generate extra copies and increase memory consumption\n",
            "\n",
            "\u001b[32m[I 2021-07-03 09:25:44,427]\u001b[0m Trial 40 finished with value: 92.21004729844722 and parameters: {'lambda': 0.10643828543223426, 'alpha': 0.048721427763492614, 'max_depth': 7, 'eta': 0.5264933954023195, 'gamma': 0.0013080549493276036, 'n_estimators': 1258, 'min_child_weight': 2, 'subsample': 0.568864027814022}. Best is trial 22 with value: 63.76083867876361.\u001b[0m\n",
            "/usr/local/lib/python3.7/dist-packages/xgboost/data.py:114: UserWarning:\n",
            "\n",
            "Use subset (sliced data) of np.ndarray is not recommended because it will generate extra copies and increase memory consumption\n",
            "\n",
            "\u001b[32m[I 2021-07-03 09:25:45,782]\u001b[0m Trial 41 finished with value: 64.8624306833101 and parameters: {'lambda': 0.4078147902543462, 'alpha': 0.0001225110703385133, 'max_depth': 4, 'eta': 0.01258267098415013, 'gamma': 0.000676656126643668, 'n_estimators': 1197, 'min_child_weight': 3, 'subsample': 0.6433697540019185}. Best is trial 22 with value: 63.76083867876361.\u001b[0m\n",
            "/usr/local/lib/python3.7/dist-packages/xgboost/data.py:114: UserWarning:\n",
            "\n",
            "Use subset (sliced data) of np.ndarray is not recommended because it will generate extra copies and increase memory consumption\n",
            "\n",
            "\u001b[32m[I 2021-07-03 09:25:47,131]\u001b[0m Trial 42 finished with value: 65.68355994006905 and parameters: {'lambda': 0.41469291313219897, 'alpha': 5.958593343648572e-06, 'max_depth': 4, 'eta': 0.0074743184319847, 'gamma': 0.00032037877226054296, 'n_estimators': 1165, 'min_child_weight': 4, 'subsample': 0.6696656009022517}. Best is trial 22 with value: 63.76083867876361.\u001b[0m\n",
            "/usr/local/lib/python3.7/dist-packages/xgboost/data.py:114: UserWarning:\n",
            "\n",
            "Use subset (sliced data) of np.ndarray is not recommended because it will generate extra copies and increase memory consumption\n",
            "\n",
            "\u001b[32m[I 2021-07-03 09:25:48,582]\u001b[0m Trial 43 finished with value: 70.90660684039484 and parameters: {'lambda': 0.05934943626914697, 'alpha': 6.424451137568253e-05, 'max_depth': 5, 'eta': 0.10182282439510772, 'gamma': 0.004589266119230406, 'n_estimators': 1019, 'min_child_weight': 3, 'subsample': 0.7052555724607684}. Best is trial 22 with value: 63.76083867876361.\u001b[0m\n",
            "/usr/local/lib/python3.7/dist-packages/xgboost/data.py:114: UserWarning:\n",
            "\n",
            "Use subset (sliced data) of np.ndarray is not recommended because it will generate extra copies and increase memory consumption\n",
            "\n",
            "\u001b[32m[I 2021-07-03 09:25:50,370]\u001b[0m Trial 44 finished with value: 93.12601594410496 and parameters: {'lambda': 0.01732043201454145, 'alpha': 0.00033675868455918033, 'max_depth': 5, 'eta': 0.0023021868361587515, 'gamma': 6.036845199256942e-05, 'n_estimators': 1118, 'min_child_weight': 2, 'subsample': 0.970397622865187}. Best is trial 22 with value: 63.76083867876361.\u001b[0m\n",
            "/usr/local/lib/python3.7/dist-packages/xgboost/data.py:114: UserWarning:\n",
            "\n",
            "Use subset (sliced data) of np.ndarray is not recommended because it will generate extra copies and increase memory consumption\n",
            "\n",
            "\u001b[32m[I 2021-07-03 09:25:51,709]\u001b[0m Trial 45 finished with value: 66.96586463263421 and parameters: {'lambda': 1.6665751034731995e-05, 'alpha': 4.1268641761415764e-05, 'max_depth': 4, 'eta': 0.04561606792786469, 'gamma': 0.0012749949992720854, 'n_estimators': 1211, 'min_child_weight': 4, 'subsample': 0.6025443314376345}. Best is trial 22 with value: 63.76083867876361.\u001b[0m\n",
            "/usr/local/lib/python3.7/dist-packages/xgboost/data.py:114: UserWarning:\n",
            "\n",
            "Use subset (sliced data) of np.ndarray is not recommended because it will generate extra copies and increase memory consumption\n",
            "\n",
            "\u001b[32m[I 2021-07-03 09:25:52,808]\u001b[0m Trial 46 finished with value: 223.5998911244246 and parameters: {'lambda': 0.4163754932794567, 'alpha': 0.00018078657901974128, 'max_depth': 3, 'eta': 0.0011224113425333613, 'gamma': 0.0026877259921942545, 'n_estimators': 1295, 'min_child_weight': 7, 'subsample': 0.5531604400526776}. Best is trial 22 with value: 63.76083867876361.\u001b[0m\n",
            "/usr/local/lib/python3.7/dist-packages/xgboost/data.py:114: UserWarning:\n",
            "\n",
            "Use subset (sliced data) of np.ndarray is not recommended because it will generate extra copies and increase memory consumption\n",
            "\n",
            "\u001b[32m[I 2021-07-03 09:25:54,035]\u001b[0m Trial 47 finished with value: 64.35296073691974 and parameters: {'lambda': 0.0005191714251864224, 'alpha': 8.12733873663608e-06, 'max_depth': 4, 'eta': 0.017284203813064784, 'gamma': 0.0001863794283045143, 'n_estimators': 1078, 'min_child_weight': 5, 'subsample': 0.8050531631466846}. Best is trial 22 with value: 63.76083867876361.\u001b[0m\n",
            "/usr/local/lib/python3.7/dist-packages/xgboost/data.py:114: UserWarning:\n",
            "\n",
            "Use subset (sliced data) of np.ndarray is not recommended because it will generate extra copies and increase memory consumption\n",
            "\n",
            "\u001b[32m[I 2021-07-03 09:25:55,043]\u001b[0m Trial 48 finished with value: 71.0621180870721 and parameters: {'lambda': 3.724610945081388e-06, 'alpha': 3.7984606442848577e-06, 'max_depth': 3, 'eta': 0.1436178588128073, 'gamma': 0.0002142191213028585, 'n_estimators': 1088, 'min_child_weight': 8, 'subsample': 0.8503096346810791}. Best is trial 22 with value: 63.76083867876361.\u001b[0m\n",
            "/usr/local/lib/python3.7/dist-packages/xgboost/data.py:114: UserWarning:\n",
            "\n",
            "Use subset (sliced data) of np.ndarray is not recommended because it will generate extra copies and increase memory consumption\n",
            "\n",
            "\u001b[32m[I 2021-07-03 09:25:56,278]\u001b[0m Trial 49 finished with value: 66.52909021654564 and parameters: {'lambda': 0.000397333699416699, 'alpha': 1.5278081275894802e-06, 'max_depth': 4, 'eta': 0.05427246005429505, 'gamma': 8.298139675573555e-05, 'n_estimators': 1052, 'min_child_weight': 0, 'subsample': 0.8155844991352281}. Best is trial 22 with value: 63.76083867876361.\u001b[0m\n"
          ],
          "name": "stderr"
        }
      ]
    },
    {
      "cell_type": "markdown",
      "metadata": {
        "id": "FdO9O4BxaMgy"
      },
      "source": [
        "## 저녁 튜닝"
      ]
    },
    {
      "cell_type": "code",
      "metadata": {
        "colab": {
          "base_uri": "https://localhost:8080/"
        },
        "id": "VeopNUEEaKea",
        "outputId": "4f27fddd-a51f-433e-b5bf-45cecf31305e"
      },
      "source": [
        "from optuna.samplers import TPESampler\n",
        "\n",
        "sampler = TPESampler(seed=2021)\n",
        "n_repeats=3\n",
        "\n",
        "def objective(trial):\n",
        "    dtrain = xgb.DMatrix(d_X_train, label=d_y_train)\n",
        "    dtest = xgb.DMatrix(d_X_test, label=d_y_test)\n",
        "\n",
        "    param = {\n",
        "        'objective': 'reg:squarederror', # 회귀\n",
        "         'eval_metric': 'mae',\n",
        "         \"xgb_gpu_hist\": 1,\n",
        "         'verbosity': 0,\n",
        "         'booster': 'gbtree', # gradient boosting decision tree\n",
        "         'lambda': trial.suggest_loguniform('lambda', 1e-8, 1),\n",
        "         'alpha': trial.suggest_loguniform('alpha', 1e-8, 1),\n",
        "         'max_depth': trial.suggest_int('max_depth',3, 9),\n",
        "         \"eta\": trial.suggest_loguniform(\"eta\", 1e-8, 1.0),\n",
        "         \"gamma\": trial.suggest_loguniform(\"gamma\", 1e-8, 1.0),\n",
        "         'n_estimators': trial.suggest_int('n_estimators', 700, 1500),\n",
        "         'min_child_weight': trial.suggest_int('min_child_weight', 0, 10),\n",
        "         'subsample': trial.suggest_loguniform('subsample', 0.4, 1)\n",
        "    }\n",
        "\n",
        "    model = xgb.XGBRegressor(**param)\n",
        "\n",
        "    xgb2 = model.fit(d_X_train, d_y_train, eval_set=[(d_X_test, d_y_test)], verbose=0,\n",
        "                      eval_metric='mae')\n",
        "    mae = mean_absolute_error(d_y_test, xgb2.predict(d_X_test))\n",
        "\n",
        "    return mae\n",
        "        \n",
        "d_study_xgb = optuna.create_study(direction='minimize', sampler=sampler)\n",
        "d_study_xgb.optimize(objective, n_trials=50)"
      ],
      "execution_count": null,
      "outputs": [
        {
          "output_type": "stream",
          "text": [
            "\u001b[32m[I 2021-07-03 09:25:56,311]\u001b[0m A new study created in memory with name: no-name-f426e753-abd1-4098-9403-ed9ac82358d3\u001b[0m\n",
            "/usr/local/lib/python3.7/dist-packages/xgboost/data.py:114: UserWarning:\n",
            "\n",
            "Use subset (sliced data) of np.ndarray is not recommended because it will generate extra copies and increase memory consumption\n",
            "\n",
            "\u001b[32m[I 2021-07-03 09:25:57,075]\u001b[0m Trial 0 finished with value: 475.41611422913695 and parameters: {'lambda': 0.0007044111641739534, 'alpha': 0.007361306311531573, 'max_depth': 3, 'eta': 3.1723761109634215e-06, 'gamma': 0.9504871519148276, 'n_estimators': 802, 'min_child_weight': 1, 'subsample': 0.7974053460591444}. Best is trial 0 with value: 475.41611422913695.\u001b[0m\n",
            "/usr/local/lib/python3.7/dist-packages/xgboost/data.py:114: UserWarning:\n",
            "\n",
            "Use subset (sliced data) of np.ndarray is not recommended because it will generate extra copies and increase memory consumption\n",
            "\n",
            "\u001b[32m[I 2021-07-03 09:25:58,167]\u001b[0m Trial 1 finished with value: 476.5668930421232 and parameters: {'lambda': 0.0019828237604565383, 'alpha': 0.01881399642343495, 'max_depth': 3, 'eta': 2.9415096718071926e-08, 'gamma': 0.5002279126949734, 'n_estimators': 1193, 'min_child_weight': 0, 'subsample': 0.6689793622007182}. Best is trial 0 with value: 475.41611422913695.\u001b[0m\n",
            "/usr/local/lib/python3.7/dist-packages/xgboost/data.py:114: UserWarning:\n",
            "\n",
            "Use subset (sliced data) of np.ndarray is not recommended because it will generate extra copies and increase memory consumption\n",
            "\n",
            "\u001b[32m[I 2021-07-03 09:25:59,697]\u001b[0m Trial 2 finished with value: 472.89822147199226 and parameters: {'lambda': 0.0008554559847076483, 'alpha': 0.5137409482657409, 'max_depth': 7, 'eta': 9.317229332510368e-06, 'gamma': 4.141540859021937e-05, 'n_estimators': 861, 'min_child_weight': 6, 'subsample': 0.47829570944696775}. Best is trial 2 with value: 472.89822147199226.\u001b[0m\n",
            "/usr/local/lib/python3.7/dist-packages/xgboost/data.py:114: UserWarning:\n",
            "\n",
            "Use subset (sliced data) of np.ndarray is not recommended because it will generate extra copies and increase memory consumption\n",
            "\n",
            "\u001b[32m[I 2021-07-03 09:26:00,929]\u001b[0m Trial 3 finished with value: 52.80681936968411 and parameters: {'lambda': 0.0004673391136992949, 'alpha': 6.464095867534913e-05, 'max_depth': 6, 'eta': 0.03844050387430893, 'gamma': 0.007207758310433094, 'n_estimators': 755, 'min_child_weight': 7, 'subsample': 0.7213206090997876}. Best is trial 3 with value: 52.80681936968411.\u001b[0m\n",
            "/usr/local/lib/python3.7/dist-packages/xgboost/data.py:114: UserWarning:\n",
            "\n",
            "Use subset (sliced data) of np.ndarray is not recommended because it will generate extra copies and increase memory consumption\n",
            "\n",
            "\u001b[32m[I 2021-07-03 09:26:04,050]\u001b[0m Trial 4 finished with value: 152.3267437562161 and parameters: {'lambda': 0.042083801365359705, 'alpha': 4.322700584864719e-07, 'max_depth': 7, 'eta': 0.0008741945531044277, 'gamma': 2.5618220897682866e-06, 'n_estimators': 1398, 'min_child_weight': 6, 'subsample': 0.9834348413016252}. Best is trial 3 with value: 52.80681936968411.\u001b[0m\n",
            "/usr/local/lib/python3.7/dist-packages/xgboost/data.py:114: UserWarning:\n",
            "\n",
            "Use subset (sliced data) of np.ndarray is not recommended because it will generate extra copies and increase memory consumption\n",
            "\n",
            "\u001b[32m[I 2021-07-03 09:26:06,178]\u001b[0m Trial 5 finished with value: 460.2370487693929 and parameters: {'lambda': 3.45030802333646e-05, 'alpha': 1.0245696441514804e-07, 'max_depth': 6, 'eta': 2.8463576586210582e-05, 'gamma': 0.2125771165026529, 'n_estimators': 1267, 'min_child_weight': 9, 'subsample': 0.6861216687720229}. Best is trial 3 with value: 52.80681936968411.\u001b[0m\n",
            "/usr/local/lib/python3.7/dist-packages/xgboost/data.py:114: UserWarning:\n",
            "\n",
            "Use subset (sliced data) of np.ndarray is not recommended because it will generate extra copies and increase memory consumption\n",
            "\n",
            "\u001b[32m[I 2021-07-03 09:26:08,688]\u001b[0m Trial 6 finished with value: 475.4849389205335 and parameters: {'lambda': 0.0012434816947988851, 'alpha': 5.466023520987005e-06, 'max_depth': 8, 'eta': 2.761888724198144e-06, 'gamma': 2.88634156038091e-06, 'n_estimators': 861, 'min_child_weight': 2, 'subsample': 0.7262540977337992}. Best is trial 3 with value: 52.80681936968411.\u001b[0m\n",
            "/usr/local/lib/python3.7/dist-packages/xgboost/data.py:114: UserWarning:\n",
            "\n",
            "Use subset (sliced data) of np.ndarray is not recommended because it will generate extra copies and increase memory consumption\n",
            "\n",
            "\u001b[32m[I 2021-07-03 09:26:10,713]\u001b[0m Trial 7 finished with value: 53.12981206252862 and parameters: {'lambda': 1.7255139207784372e-07, 'alpha': 1.2870516994090315e-05, 'max_depth': 7, 'eta': 0.061149501847645366, 'gamma': 3.241096716642312e-08, 'n_estimators': 1031, 'min_child_weight': 3, 'subsample': 0.774644544278894}. Best is trial 3 with value: 52.80681936968411.\u001b[0m\n",
            "/usr/local/lib/python3.7/dist-packages/xgboost/data.py:114: UserWarning:\n",
            "\n",
            "Use subset (sliced data) of np.ndarray is not recommended because it will generate extra copies and increase memory consumption\n",
            "\n",
            "\u001b[32m[I 2021-07-03 09:26:11,907]\u001b[0m Trial 8 finished with value: 59.22441621835796 and parameters: {'lambda': 6.177011550458872e-05, 'alpha': 0.02449800360991601, 'max_depth': 3, 'eta': 0.09918695841159368, 'gamma': 0.016436710223451063, 'n_estimators': 1318, 'min_child_weight': 0, 'subsample': 0.6896215853214822}. Best is trial 3 with value: 52.80681936968411.\u001b[0m\n",
            "/usr/local/lib/python3.7/dist-packages/xgboost/data.py:114: UserWarning:\n",
            "\n",
            "Use subset (sliced data) of np.ndarray is not recommended because it will generate extra copies and increase memory consumption\n",
            "\n",
            "\u001b[32m[I 2021-07-03 09:26:13,595]\u001b[0m Trial 9 finished with value: 53.98322954217428 and parameters: {'lambda': 0.02187549378501035, 'alpha': 1.5598018174190139e-06, 'max_depth': 5, 'eta': 0.06682151812048484, 'gamma': 0.002690489809534762, 'n_estimators': 1304, 'min_child_weight': 4, 'subsample': 0.536733171381199}. Best is trial 3 with value: 52.80681936968411.\u001b[0m\n",
            "/usr/local/lib/python3.7/dist-packages/xgboost/data.py:114: UserWarning:\n",
            "\n",
            "Use subset (sliced data) of np.ndarray is not recommended because it will generate extra copies and increase memory consumption\n",
            "\n",
            "\u001b[32m[I 2021-07-03 09:26:15,332]\u001b[0m Trial 10 finished with value: 166.63734709919734 and parameters: {'lambda': 5.004452912467814e-07, 'alpha': 0.00022278607691920244, 'max_depth': 9, 'eta': 0.001592380784922668, 'gamma': 0.002099348519680594, 'n_estimators': 704, 'min_child_weight': 10, 'subsample': 0.9316994280483778}. Best is trial 3 with value: 52.80681936968411.\u001b[0m\n",
            "/usr/local/lib/python3.7/dist-packages/xgboost/data.py:114: UserWarning:\n",
            "\n",
            "Use subset (sliced data) of np.ndarray is not recommended because it will generate extra copies and increase memory consumption\n",
            "\n",
            "\u001b[32m[I 2021-07-03 09:26:16,325]\u001b[0m Trial 11 finished with value: 75.39252892173673 and parameters: {'lambda': 6.303067996914016e-08, 'alpha': 0.00011284590212347822, 'max_depth': 5, 'eta': 0.8540676182150262, 'gamma': 2.960389675838704e-08, 'n_estimators': 1022, 'min_child_weight': 8, 'subsample': 0.8212404197422466}. Best is trial 3 with value: 52.80681936968411.\u001b[0m\n",
            "/usr/local/lib/python3.7/dist-packages/xgboost/data.py:114: UserWarning:\n",
            "\n",
            "Use subset (sliced data) of np.ndarray is not recommended because it will generate extra copies and increase memory consumption\n",
            "\n",
            "\u001b[32m[I 2021-07-03 09:26:17,720]\u001b[0m Trial 12 finished with value: 49.60530137224316 and parameters: {'lambda': 2.1115276911097155e-06, 'alpha': 1.053023456782512e-08, 'max_depth': 5, 'eta': 0.009329138801411624, 'gamma': 1.0428876644868658e-08, 'n_estimators': 1030, 'min_child_weight': 4, 'subsample': 0.5995868221527397}. Best is trial 12 with value: 49.60530137224316.\u001b[0m\n",
            "/usr/local/lib/python3.7/dist-packages/xgboost/data.py:114: UserWarning:\n",
            "\n",
            "Use subset (sliced data) of np.ndarray is not recommended because it will generate extra copies and increase memory consumption\n",
            "\n",
            "\u001b[32m[I 2021-07-03 09:26:18,713]\u001b[0m Trial 13 finished with value: 85.74301532096388 and parameters: {'lambda': 3.029505671740337e-06, 'alpha': 2.3254850323359887e-08, 'max_depth': 5, 'eta': 0.002762356761921004, 'gamma': 0.00010187306410138822, 'n_estimators': 717, 'min_child_weight': 7, 'subsample': 0.565794121839103}. Best is trial 12 with value: 49.60530137224316.\u001b[0m\n",
            "/usr/local/lib/python3.7/dist-packages/xgboost/data.py:114: UserWarning:\n",
            "\n",
            "Use subset (sliced data) of np.ndarray is not recommended because it will generate extra copies and increase memory consumption\n",
            "\n",
            "\u001b[32m[I 2021-07-03 09:26:19,673]\u001b[0m Trial 14 finished with value: 195.27811266673552 and parameters: {'lambda': 5.212926435362662e-06, 'alpha': 2.3226546685639463e-08, 'max_depth': 4, 'eta': 0.9132508070880299, 'gamma': 0.02286909713380436, 'n_estimators': 988, 'min_child_weight': 5, 'subsample': 0.4096051466204361}. Best is trial 12 with value: 49.60530137224316.\u001b[0m\n",
            "/usr/local/lib/python3.7/dist-packages/xgboost/data.py:114: UserWarning:\n",
            "\n",
            "Use subset (sliced data) of np.ndarray is not recommended because it will generate extra copies and increase memory consumption\n",
            "\n",
            "\u001b[32m[I 2021-07-03 09:26:21,362]\u001b[0m Trial 15 finished with value: 395.96413413320835 and parameters: {'lambda': 0.3398163549712074, 'alpha': 0.0010321400334105644, 'max_depth': 6, 'eta': 0.00016910018811554884, 'gamma': 3.7500074859559315e-07, 'n_estimators': 1146, 'min_child_weight': 4, 'subsample': 0.5980303637521858}. Best is trial 12 with value: 49.60530137224316.\u001b[0m\n",
            "/usr/local/lib/python3.7/dist-packages/xgboost/data.py:114: UserWarning:\n",
            "\n",
            "Use subset (sliced data) of np.ndarray is not recommended because it will generate extra copies and increase memory consumption\n",
            "\n",
            "\u001b[32m[I 2021-07-03 09:26:22,341]\u001b[0m Trial 16 finished with value: 48.37489075878349 and parameters: {'lambda': 4.277979133843391e-06, 'alpha': 0.7749760386934557, 'max_depth': 4, 'eta': 0.008152801312229872, 'gamma': 0.0004569100347069903, 'n_estimators': 940, 'min_child_weight': 7, 'subsample': 0.5002956340798566}. Best is trial 16 with value: 48.37489075878349.\u001b[0m\n",
            "/usr/local/lib/python3.7/dist-packages/xgboost/data.py:114: UserWarning:\n",
            "\n",
            "Use subset (sliced data) of np.ndarray is not recommended because it will generate extra copies and increase memory consumption\n",
            "\n",
            "\u001b[32m[I 2021-07-03 09:26:23,320]\u001b[0m Trial 17 finished with value: 49.59407719339078 and parameters: {'lambda': 1.804464586382735e-06, 'alpha': 0.06256584421430596, 'max_depth': 4, 'eta': 0.005376159201972576, 'gamma': 8.68993960210861e-05, 'n_estimators': 952, 'min_child_weight': 5, 'subsample': 0.468648006410138}. Best is trial 16 with value: 48.37489075878349.\u001b[0m\n",
            "/usr/local/lib/python3.7/dist-packages/xgboost/data.py:114: UserWarning:\n",
            "\n",
            "Use subset (sliced data) of np.ndarray is not recommended because it will generate extra copies and increase memory consumption\n",
            "\n",
            "\u001b[32m[I 2021-07-03 09:26:24,245]\u001b[0m Trial 18 finished with value: 425.38179205661 and parameters: {'lambda': 1.1772216526969938e-08, 'alpha': 0.9994246856858706, 'max_depth': 4, 'eta': 0.00012458048704042218, 'gamma': 0.00016468352252101143, 'n_estimators': 948, 'min_child_weight': 10, 'subsample': 0.40332500922435083}. Best is trial 16 with value: 48.37489075878349.\u001b[0m\n",
            "/usr/local/lib/python3.7/dist-packages/xgboost/data.py:114: UserWarning:\n",
            "\n",
            "Use subset (sliced data) of np.ndarray is not recommended because it will generate extra copies and increase memory consumption\n",
            "\n",
            "\u001b[32m[I 2021-07-03 09:26:25,217]\u001b[0m Trial 19 finished with value: 476.4907484974604 and parameters: {'lambda': 2.0556174559931543e-05, 'alpha': 0.21987538004955565, 'max_depth': 4, 'eta': 2.164831945499237e-07, 'gamma': 0.0003867070164004027, 'n_estimators': 926, 'min_child_weight': 8, 'subsample': 0.46844809354771166}. Best is trial 16 with value: 48.37489075878349.\u001b[0m\n",
            "/usr/local/lib/python3.7/dist-packages/xgboost/data.py:114: UserWarning:\n",
            "\n",
            "Use subset (sliced data) of np.ndarray is not recommended because it will generate extra copies and increase memory consumption\n",
            "\n",
            "\u001b[32m[I 2021-07-03 09:26:26,335]\u001b[0m Trial 20 finished with value: 48.99136212455781 and parameters: {'lambda': 3.1778711344601074e-08, 'alpha': 0.1084228639083024, 'max_depth': 4, 'eta': 0.006989318214660817, 'gamma': 2.1496960796248377e-05, 'n_estimators': 1104, 'min_child_weight': 5, 'subsample': 0.4644635260242569}. Best is trial 16 with value: 48.37489075878349.\u001b[0m\n",
            "/usr/local/lib/python3.7/dist-packages/xgboost/data.py:114: UserWarning:\n",
            "\n",
            "Use subset (sliced data) of np.ndarray is not recommended because it will generate extra copies and increase memory consumption\n",
            "\n",
            "\u001b[32m[I 2021-07-03 09:26:27,462]\u001b[0m Trial 21 finished with value: 48.56101706413807 and parameters: {'lambda': 2.555192037586075e-08, 'alpha': 0.11611550144786228, 'max_depth': 4, 'eta': 0.008392157449483425, 'gamma': 6.100470859500051e-06, 'n_estimators': 1113, 'min_child_weight': 6, 'subsample': 0.4595537856813319}. Best is trial 16 with value: 48.37489075878349.\u001b[0m\n",
            "/usr/local/lib/python3.7/dist-packages/xgboost/data.py:114: UserWarning:\n",
            "\n",
            "Use subset (sliced data) of np.ndarray is not recommended because it will generate extra copies and increase memory consumption\n",
            "\n",
            "\u001b[32m[I 2021-07-03 09:26:28,404]\u001b[0m Trial 22 finished with value: 340.3084225634816 and parameters: {'lambda': 1.627341649627836e-08, 'alpha': 0.1177102169557382, 'max_depth': 3, 'eta': 0.0003212314759473525, 'gamma': 9.785938310693853e-06, 'n_estimators': 1099, 'min_child_weight': 6, 'subsample': 0.5165671428147879}. Best is trial 16 with value: 48.37489075878349.\u001b[0m\n",
            "/usr/local/lib/python3.7/dist-packages/xgboost/data.py:114: UserWarning:\n",
            "\n",
            "Use subset (sliced data) of np.ndarray is not recommended because it will generate extra copies and increase memory consumption\n",
            "\n",
            "\u001b[32m[I 2021-07-03 09:26:29,469]\u001b[0m Trial 23 finished with value: 48.903642250789154 and parameters: {'lambda': 5.596019783535093e-08, 'alpha': 0.0024442335233036305, 'max_depth': 4, 'eta': 0.017411679188438785, 'gamma': 4.031547520455439e-07, 'n_estimators': 1093, 'min_child_weight': 7, 'subsample': 0.4322241697354785}. Best is trial 16 with value: 48.37489075878349.\u001b[0m\n",
            "/usr/local/lib/python3.7/dist-packages/xgboost/data.py:114: UserWarning:\n",
            "\n",
            "Use subset (sliced data) of np.ndarray is not recommended because it will generate extra copies and increase memory consumption\n",
            "\n",
            "\u001b[32m[I 2021-07-03 09:26:30,650]\u001b[0m Trial 24 finished with value: 65.13898644902399 and parameters: {'lambda': 2.2871858625155397e-07, 'alpha': 0.005758707088677027, 'max_depth': 4, 'eta': 0.3226255305406646, 'gamma': 3.180815361349332e-07, 'n_estimators': 1200, 'min_child_weight': 8, 'subsample': 0.42788697226847766}. Best is trial 16 with value: 48.37489075878349.\u001b[0m\n",
            "/usr/local/lib/python3.7/dist-packages/xgboost/data.py:114: UserWarning:\n",
            "\n",
            "Use subset (sliced data) of np.ndarray is not recommended because it will generate extra copies and increase memory consumption\n",
            "\n",
            "\u001b[32m[I 2021-07-03 09:26:31,903]\u001b[0m Trial 25 finished with value: 49.54024992048493 and parameters: {'lambda': 7.40953537192926e-08, 'alpha': 0.0014365396163047842, 'max_depth': 5, 'eta': 0.019211481493860153, 'gamma': 4.691084394211817e-07, 'n_estimators': 1090, 'min_child_weight': 7, 'subsample': 0.431195865004134}. Best is trial 16 with value: 48.37489075878349.\u001b[0m\n",
            "/usr/local/lib/python3.7/dist-packages/xgboost/data.py:114: UserWarning:\n",
            "\n",
            "Use subset (sliced data) of np.ndarray is not recommended because it will generate extra copies and increase memory consumption\n",
            "\n",
            "\u001b[32m[I 2021-07-03 09:26:33,142]\u001b[0m Trial 26 finished with value: 146.68508325473897 and parameters: {'lambda': 4.594266046202505e-07, 'alpha': 0.9623633840490177, 'max_depth': 3, 'eta': 0.0008733896032352066, 'gamma': 3.251227982097295e-06, 'n_estimators': 1487, 'min_child_weight': 9, 'subsample': 0.5098840384760587}. Best is trial 16 with value: 48.37489075878349.\u001b[0m\n",
            "/usr/local/lib/python3.7/dist-packages/xgboost/data.py:114: UserWarning:\n",
            "\n",
            "Use subset (sliced data) of np.ndarray is not recommended because it will generate extra copies and increase memory consumption\n",
            "\n",
            "\u001b[32m[I 2021-07-03 09:26:34,335]\u001b[0m Trial 27 finished with value: 58.87532625554508 and parameters: {'lambda': 9.994284609160695e-06, 'alpha': 0.001090472722604927, 'max_depth': 4, 'eta': 0.21387733672238712, 'gamma': 1.2423419921608941e-07, 'n_estimators': 1188, 'min_child_weight': 7, 'subsample': 0.43840925916290835}. Best is trial 16 with value: 48.37489075878349.\u001b[0m\n",
            "/usr/local/lib/python3.7/dist-packages/xgboost/data.py:114: UserWarning:\n",
            "\n",
            "Use subset (sliced data) of np.ndarray is not recommended because it will generate extra copies and increase memory consumption\n",
            "\n",
            "\u001b[32m[I 2021-07-03 09:26:35,452]\u001b[0m Trial 28 finished with value: 49.43363564241971 and parameters: {'lambda': 1.2294703093211583e-08, 'alpha': 0.3484092225614428, 'max_depth': 5, 'eta': 0.017590487328147743, 'gamma': 7.81726112519595e-06, 'n_estimators': 909, 'min_child_weight': 9, 'subsample': 0.503717173109283}. Best is trial 16 with value: 48.37489075878349.\u001b[0m\n",
            "/usr/local/lib/python3.7/dist-packages/xgboost/data.py:114: UserWarning:\n",
            "\n",
            "Use subset (sliced data) of np.ndarray is not recommended because it will generate extra copies and increase memory consumption\n",
            "\n",
            "\u001b[32m[I 2021-07-03 09:26:36,160]\u001b[0m Trial 29 finished with value: 464.9184888289677 and parameters: {'lambda': 0.0001678788920671415, 'alpha': 0.008556452942455495, 'max_depth': 3, 'eta': 3.163462015935103e-05, 'gamma': 0.0006751371908833001, 'n_estimators': 815, 'min_child_weight': 6, 'subsample': 0.5427612959082263}. Best is trial 16 with value: 48.37489075878349.\u001b[0m\n",
            "/usr/local/lib/python3.7/dist-packages/xgboost/data.py:114: UserWarning:\n",
            "\n",
            "Use subset (sliced data) of np.ndarray is not recommended because it will generate extra copies and increase memory consumption\n",
            "\n",
            "\u001b[32m[I 2021-07-03 09:26:36,982]\u001b[0m Trial 30 finished with value: 60.99465909538427 and parameters: {'lambda': 8.372731083265067e-07, 'alpha': 0.003492132415257511, 'max_depth': 3, 'eta': 0.2952491655766468, 'gamma': 1.4361781910861084e-06, 'n_estimators': 1057, 'min_child_weight': 8, 'subsample': 0.4013294186985629}. Best is trial 16 with value: 48.37489075878349.\u001b[0m\n",
            "/usr/local/lib/python3.7/dist-packages/xgboost/data.py:114: UserWarning:\n",
            "\n",
            "Use subset (sliced data) of np.ndarray is not recommended because it will generate extra copies and increase memory consumption\n",
            "\n",
            "\u001b[32m[I 2021-07-03 09:26:38,147]\u001b[0m Trial 31 finished with value: 49.33993293635578 and parameters: {'lambda': 2.9574094687528395e-08, 'alpha': 0.03869215134728838, 'max_depth': 4, 'eta': 0.005112175719078412, 'gamma': 1.3802264419738717e-05, 'n_estimators': 1125, 'min_child_weight': 5, 'subsample': 0.4634306813340733}. Best is trial 16 with value: 48.37489075878349.\u001b[0m\n",
            "/usr/local/lib/python3.7/dist-packages/xgboost/data.py:114: UserWarning:\n",
            "\n",
            "Use subset (sliced data) of np.ndarray is not recommended because it will generate extra copies and increase memory consumption\n",
            "\n",
            "\u001b[32m[I 2021-07-03 09:26:39,364]\u001b[0m Trial 32 finished with value: 250.0575388516628 and parameters: {'lambda': 7.802292995602489e-08, 'alpha': 0.09997556901862417, 'max_depth': 4, 'eta': 0.0005846769356512174, 'gamma': 3.440850648280193e-05, 'n_estimators': 1161, 'min_child_weight': 6, 'subsample': 0.4375681970222544}. Best is trial 16 with value: 48.37489075878349.\u001b[0m\n",
            "/usr/local/lib/python3.7/dist-packages/xgboost/data.py:114: UserWarning:\n",
            "\n",
            "Use subset (sliced data) of np.ndarray is not recommended because it will generate extra copies and increase memory consumption\n",
            "\n",
            "\u001b[32m[I 2021-07-03 09:26:40,390]\u001b[0m Trial 33 finished with value: 49.670251156779244 and parameters: {'lambda': 3.255731254954529e-08, 'alpha': 0.012212843239462944, 'max_depth': 3, 'eta': 0.0209632201501692, 'gamma': 2.3465932927534822e-05, 'n_estimators': 1239, 'min_child_weight': 7, 'subsample': 0.49658741547877433}. Best is trial 16 with value: 48.37489075878349.\u001b[0m\n",
            "/usr/local/lib/python3.7/dist-packages/xgboost/data.py:114: UserWarning:\n",
            "\n",
            "Use subset (sliced data) of np.ndarray is not recommended because it will generate extra copies and increase memory consumption\n",
            "\n",
            "\u001b[32m[I 2021-07-03 09:26:41,575]\u001b[0m Trial 34 finished with value: 61.75128170662401 and parameters: {'lambda': 1.0759705215678392e-08, 'alpha': 0.4478520547259499, 'max_depth': 4, 'eta': 0.0025950936838975737, 'gamma': 0.0005296817883751048, 'n_estimators': 1090, 'min_child_weight': 3, 'subsample': 0.45413897170598644}. Best is trial 16 with value: 48.37489075878349.\u001b[0m\n",
            "/usr/local/lib/python3.7/dist-packages/xgboost/data.py:114: UserWarning:\n",
            "\n",
            "Use subset (sliced data) of np.ndarray is not recommended because it will generate extra copies and increase memory consumption\n",
            "\n",
            "\u001b[32m[I 2021-07-03 09:26:42,673]\u001b[0m Trial 35 finished with value: 49.02350790174176 and parameters: {'lambda': 1.3027332017585647e-07, 'alpha': 0.1343377711437904, 'max_depth': 5, 'eta': 0.008998777660171096, 'gamma': 9.383901458376211e-07, 'n_estimators': 872, 'min_child_weight': 5, 'subsample': 0.48893273115365804}. Best is trial 16 with value: 48.37489075878349.\u001b[0m\n",
            "/usr/local/lib/python3.7/dist-packages/xgboost/data.py:114: UserWarning:\n",
            "\n",
            "Use subset (sliced data) of np.ndarray is not recommended because it will generate extra copies and increase memory consumption\n",
            "\n",
            "\u001b[32m[I 2021-07-03 09:26:44,034]\u001b[0m Trial 36 finished with value: 57.26218447151026 and parameters: {'lambda': 8.740497286545499e-07, 'alpha': 0.00035320812458775925, 'max_depth': 6, 'eta': 0.11718765143468748, 'gamma': 1.142227914779116e-07, 'n_estimators': 1003, 'min_child_weight': 6, 'subsample': 0.4172387544628144}. Best is trial 16 with value: 48.37489075878349.\u001b[0m\n",
            "/usr/local/lib/python3.7/dist-packages/xgboost/data.py:114: UserWarning:\n",
            "\n",
            "Use subset (sliced data) of np.ndarray is not recommended because it will generate extra copies and increase memory consumption\n",
            "\n",
            "\u001b[32m[I 2021-07-03 09:26:44,686]\u001b[0m Trial 37 finished with value: 50.276839398744194 and parameters: {'lambda': 2.6922923375677746e-07, 'alpha': 0.035489631897735026, 'max_depth': 3, 'eta': 0.027464144019768915, 'gamma': 3.999722208934755e-06, 'n_estimators': 803, 'min_child_weight': 7, 'subsample': 0.45019431970130136}. Best is trial 16 with value: 48.37489075878349.\u001b[0m\n",
            "/usr/local/lib/python3.7/dist-packages/xgboost/data.py:114: UserWarning:\n",
            "\n",
            "Use subset (sliced data) of np.ndarray is not recommended because it will generate extra copies and increase memory consumption\n",
            "\n",
            "\u001b[32m[I 2021-07-03 09:26:46,071]\u001b[0m Trial 38 finished with value: 446.9351382473198 and parameters: {'lambda': 0.00016514171967801477, 'alpha': 0.002825919257073743, 'max_depth': 4, 'eta': 5.438287567409407e-05, 'gamma': 0.0001964783196314695, 'n_estimators': 1222, 'min_child_weight': 4, 'subsample': 0.543531607775182}. Best is trial 16 with value: 48.37489075878349.\u001b[0m\n",
            "/usr/local/lib/python3.7/dist-packages/xgboost/data.py:114: UserWarning:\n",
            "\n",
            "Use subset (sliced data) of np.ndarray is not recommended because it will generate extra copies and increase memory consumption\n",
            "\n",
            "\u001b[32m[I 2021-07-03 09:26:47,567]\u001b[0m Trial 39 finished with value: 156.79775720018569 and parameters: {'lambda': 0.0039153034190586725, 'alpha': 0.9397978108444817, 'max_depth': 5, 'eta': 0.0011276857065002299, 'gamma': 3.932400627001717e-05, 'n_estimators': 1058, 'min_child_weight': 6, 'subsample': 0.5774449863411818}. Best is trial 16 with value: 48.37489075878349.\u001b[0m\n",
            "/usr/local/lib/python3.7/dist-packages/xgboost/data.py:114: UserWarning:\n",
            "\n",
            "Use subset (sliced data) of np.ndarray is not recommended because it will generate extra copies and increase memory consumption\n",
            "\n",
            "\u001b[32m[I 2021-07-03 09:26:48,773]\u001b[0m Trial 40 finished with value: 52.90647470308043 and parameters: {'lambda': 2.997854377785043e-08, 'alpha': 0.01858963899216021, 'max_depth': 3, 'eta': 0.003327304777907329, 'gamma': 0.0013591387058649446, 'n_estimators': 1373, 'min_child_weight': 3, 'subsample': 0.6295840409473126}. Best is trial 16 with value: 48.37489075878349.\u001b[0m\n",
            "/usr/local/lib/python3.7/dist-packages/xgboost/data.py:114: UserWarning:\n",
            "\n",
            "Use subset (sliced data) of np.ndarray is not recommended because it will generate extra copies and increase memory consumption\n",
            "\n",
            "\u001b[32m[I 2021-07-03 09:26:49,857]\u001b[0m Trial 41 finished with value: 49.24867121906201 and parameters: {'lambda': 7.157486855516702e-08, 'alpha': 0.19019780531786146, 'max_depth': 5, 'eta': 0.010481735637286502, 'gamma': 1.2937970173218866e-06, 'n_estimators': 861, 'min_child_weight': 5, 'subsample': 0.48499778414992245}. Best is trial 16 with value: 48.37489075878349.\u001b[0m\n",
            "/usr/local/lib/python3.7/dist-packages/xgboost/data.py:114: UserWarning:\n",
            "\n",
            "Use subset (sliced data) of np.ndarray is not recommended because it will generate extra copies and increase memory consumption\n",
            "\n",
            "\u001b[32m[I 2021-07-03 09:26:50,779]\u001b[0m Trial 42 finished with value: 52.85353423549921 and parameters: {'lambda': 1.46238192508433e-07, 'alpha': 0.0682076897217432, 'max_depth': 4, 'eta': 0.04581872898973004, 'gamma': 9.358188987148226e-07, 'n_estimators': 878, 'min_child_weight': 5, 'subsample': 0.48074435143551575}. Best is trial 16 with value: 48.37489075878349.\u001b[0m\n",
            "/usr/local/lib/python3.7/dist-packages/xgboost/data.py:114: UserWarning:\n",
            "\n",
            "Use subset (sliced data) of np.ndarray is not recommended because it will generate extra copies and increase memory consumption\n",
            "\n",
            "\u001b[32m[I 2021-07-03 09:26:52,028]\u001b[0m Trial 43 finished with value: 48.691231852250475 and parameters: {'lambda': 1.5201381415709392e-07, 'alpha': 2.014883142394282e-05, 'max_depth': 5, 'eta': 0.009086426929558045, 'gamma': 1.1224628174885833e-07, 'n_estimators': 974, 'min_child_weight': 7, 'subsample': 0.5212690606787962}. Best is trial 16 with value: 48.37489075878349.\u001b[0m\n",
            "/usr/local/lib/python3.7/dist-packages/xgboost/data.py:114: UserWarning:\n",
            "\n",
            "Use subset (sliced data) of np.ndarray is not recommended because it will generate extra copies and increase memory consumption\n",
            "\n",
            "\u001b[32m[I 2021-07-03 09:26:53,128]\u001b[0m Trial 44 finished with value: 344.4506517782251 and parameters: {'lambda': 2.9824023272254985e-08, 'alpha': 2.1286662771300246e-05, 'max_depth': 4, 'eta': 0.0003447145451748578, 'gamma': 6.536232546011515e-08, 'n_estimators': 980, 'min_child_weight': 8, 'subsample': 0.5210138851516327}. Best is trial 16 with value: 48.37489075878349.\u001b[0m\n",
            "/usr/local/lib/python3.7/dist-packages/xgboost/data.py:114: UserWarning:\n",
            "\n",
            "Use subset (sliced data) of np.ndarray is not recommended because it will generate extra copies and increase memory consumption\n",
            "\n",
            "\u001b[32m[I 2021-07-03 09:26:54,382]\u001b[0m Trial 45 finished with value: 56.27455974911258 and parameters: {'lambda': 8.723587117264894e-07, 'alpha': 3.5214876592102657e-06, 'max_depth': 5, 'eta': 0.09562654300179624, 'gamma': 1.1121742270173979e-08, 'n_estimators': 1058, 'min_child_weight': 7, 'subsample': 0.4489719837515521}. Best is trial 16 with value: 48.37489075878349.\u001b[0m\n",
            "/usr/local/lib/python3.7/dist-packages/xgboost/data.py:114: UserWarning:\n",
            "\n",
            "Use subset (sliced data) of np.ndarray is not recommended because it will generate extra copies and increase memory consumption\n",
            "\n",
            "\u001b[32m[I 2021-07-03 09:26:55,578]\u001b[0m Trial 46 finished with value: 65.37667595004639 and parameters: {'lambda': 3.2504999691040626e-07, 'alpha': 1.1734207361172968e-06, 'max_depth': 4, 'eta': 0.0022904798811346377, 'gamma': 5.2261027173581985e-08, 'n_estimators': 1138, 'min_child_weight': 6, 'subsample': 0.5272594427998025}. Best is trial 16 with value: 48.37489075878349.\u001b[0m\n",
            "/usr/local/lib/python3.7/dist-packages/xgboost/data.py:114: UserWarning:\n",
            "\n",
            "Use subset (sliced data) of np.ndarray is not recommended because it will generate extra copies and increase memory consumption\n",
            "\n",
            "\u001b[32m[I 2021-07-03 09:26:57,473]\u001b[0m Trial 47 finished with value: 473.86223707604705 and parameters: {'lambda': 1.3053754674255718e-05, 'alpha': 1.4948419293456199e-05, 'max_depth': 6, 'eta': 5.041522275900231e-06, 'gamma': 7.965606783698402e-06, 'n_estimators': 1173, 'min_child_weight': 7, 'subsample': 0.562156886304678}. Best is trial 16 with value: 48.37489075878349.\u001b[0m\n",
            "/usr/local/lib/python3.7/dist-packages/xgboost/data.py:114: UserWarning:\n",
            "\n",
            "Use subset (sliced data) of np.ndarray is not recommended because it will generate extra copies and increase memory consumption\n",
            "\n",
            "\u001b[32m[I 2021-07-03 09:26:58,662]\u001b[0m Trial 48 finished with value: 48.588130460240535 and parameters: {'lambda': 6.154927864206695e-06, 'alpha': 4.600883546057284e-05, 'max_depth': 5, 'eta': 0.008250568532058423, 'gamma': 0.006812827202181092, 'n_estimators': 985, 'min_child_weight': 8, 'subsample': 0.4187504781088081}. Best is trial 16 with value: 48.37489075878349.\u001b[0m\n",
            "/usr/local/lib/python3.7/dist-packages/xgboost/data.py:114: UserWarning:\n",
            "\n",
            "Use subset (sliced data) of np.ndarray is not recommended because it will generate extra copies and increase memory consumption\n",
            "\n",
            "\u001b[32m[I 2021-07-03 09:26:59,763]\u001b[0m Trial 49 finished with value: 52.877577271204274 and parameters: {'lambda': 6.0945618374501046e-05, 'alpha': 4.590801432439927e-05, 'max_depth': 5, 'eta': 0.04652959753438826, 'gamma': 0.0681698714929842, 'n_estimators': 982, 'min_child_weight': 8, 'subsample': 0.4148593553123528}. Best is trial 16 with value: 48.37489075878349.\u001b[0m\n"
          ],
          "name": "stderr"
        }
      ]
    },
    {
      "cell_type": "code",
      "metadata": {
        "colab": {
          "base_uri": "https://localhost:8080/"
        },
        "id": "reaA8c3PYrdV",
        "outputId": "5699fd3b-503f-4f5a-def0-c2fb241eb741"
      },
      "source": [
        "print('Lunch Best Trial: score {},\\nparams {}'.format(l_study_xgb.best_trial.value, l_study_xgb.best_trial.params))\n",
        "print('Dinner Best Trial: score {},\\nparams {}'.format(d_study_xgb.best_trial.value, d_study_xgb.best_trial.params))"
      ],
      "execution_count": null,
      "outputs": [
        {
          "output_type": "stream",
          "text": [
            "Lunch Best Trial: score 63.76083867876361,\n",
            "params {'lambda': 0.2071617183903141, 'alpha': 0.028389630078426337, 'max_depth': 4, 'eta': 0.01843924924522292, 'gamma': 0.0006187858956920169, 'n_estimators': 1057, 'min_child_weight': 4, 'subsample': 0.49937190739488835}\n",
            "Dinner Best Trial: score 48.37489075878349,\n",
            "params {'lambda': 4.277979133843391e-06, 'alpha': 0.7749760386934557, 'max_depth': 4, 'eta': 0.008152801312229872, 'gamma': 0.0004569100347069903, 'n_estimators': 940, 'min_child_weight': 7, 'subsample': 0.5002956340798566}\n"
          ],
          "name": "stdout"
        }
      ]
    },
    {
      "cell_type": "code",
      "metadata": {
        "colab": {
          "base_uri": "https://localhost:8080/"
        },
        "id": "hHcWGWdrYwDq",
        "outputId": "c308153a-83af-41f6-9501-5b0c8ace3de7"
      },
      "source": [
        "l_trial = l_study_xgb.best_trial\n",
        "lunch_xgb_params = l_trial.params\n",
        "lunch_xgb_params"
      ],
      "execution_count": null,
      "outputs": [
        {
          "output_type": "execute_result",
          "data": {
            "text/plain": [
              "{'alpha': 0.028389630078426337,\n",
              " 'eta': 0.01843924924522292,\n",
              " 'gamma': 0.0006187858956920169,\n",
              " 'lambda': 0.2071617183903141,\n",
              " 'max_depth': 4,\n",
              " 'min_child_weight': 4,\n",
              " 'n_estimators': 1057,\n",
              " 'subsample': 0.49937190739488835}"
            ]
          },
          "metadata": {
            "tags": []
          },
          "execution_count": 142
        }
      ]
    },
    {
      "cell_type": "code",
      "metadata": {
        "colab": {
          "base_uri": "https://localhost:8080/"
        },
        "id": "tanTBeVNaxJ7",
        "outputId": "c4d687c0-ae1f-4c7b-d8a5-4dec249cedb1"
      },
      "source": [
        "d_trial = d_study_xgb.best_trial\n",
        "dinner_xgb_params = d_trial.params\n",
        "dinner_xgb_params"
      ],
      "execution_count": null,
      "outputs": [
        {
          "output_type": "execute_result",
          "data": {
            "text/plain": [
              "{'alpha': 0.7749760386934557,\n",
              " 'eta': 0.008152801312229872,\n",
              " 'gamma': 0.0004569100347069903,\n",
              " 'lambda': 4.277979133843391e-06,\n",
              " 'max_depth': 4,\n",
              " 'min_child_weight': 7,\n",
              " 'n_estimators': 940,\n",
              " 'subsample': 0.5002956340798566}"
            ]
          },
          "metadata": {
            "tags": []
          },
          "execution_count": 143
        }
      ]
    },
    {
      "cell_type": "code",
      "metadata": {
        "colab": {
          "base_uri": "https://localhost:8080/"
        },
        "id": "36jaPySDY0nv",
        "outputId": "062bab30-662b-4f73-802a-80269266d501"
      },
      "source": [
        "lunch_xgb_model = xgb.XGBRegressor(**lunch_xgb_params)\n",
        "lunch_xgb_model.fit(b_train_df.drop(['lunch_y', 'dinner_y'], axis=1), b_train_df['lunch_y'], eval_metric='mae')\n",
        "lunch_xgb_pred = lunch_xgb_model.predict(b_test_df)\n",
        "\n",
        "dinner_xgb_model = xgb.XGBRegressor(**dinner_xgb_params)\n",
        "dinner_xgb_model.fit(b_train_df.drop(['lunch_y', 'dinner_y'], axis=1), b_train_df['dinner_y'], eval_metric='mae')\n",
        "dinner_xgb_pred = dinner_xgb_model.predict(b_test_df)"
      ],
      "execution_count": null,
      "outputs": [
        {
          "output_type": "stream",
          "text": [
            "/usr/local/lib/python3.7/dist-packages/xgboost/data.py:114: UserWarning:\n",
            "\n",
            "Use subset (sliced data) of np.ndarray is not recommended because it will generate extra copies and increase memory consumption\n",
            "\n"
          ],
          "name": "stderr"
        }
      ]
    },
    {
      "cell_type": "code",
      "metadata": {
        "colab": {
          "base_uri": "https://localhost:8080/"
        },
        "id": "dWohQ8qaZ9wL",
        "outputId": "f29a7a3e-de8b-46a9-8651-02338312d05c"
      },
      "source": [
        "lunch_xgb_pred"
      ],
      "execution_count": null,
      "outputs": [
        {
          "output_type": "execute_result",
          "data": {
            "text/plain": [
              "array([ 994.9242 ,  919.6314 ,  605.23694, 1255.2684 ,  953.8549 ,\n",
              "        953.3689 ,  935.91516,  638.6148 , 1266.0553 , 1023.3267 ,\n",
              "        772.17834, 1308.999  , 1125.0316 , 1085.5706 ,  900.0972 ,\n",
              "        662.7512 , 1278.9653 , 1040.3416 ,  913.692  ,  841.9029 ,\n",
              "        606.52356, 1106.5292 ,  977.1059 ,  908.995  ,  634.20026,\n",
              "       1312.0895 , 1161.6604 , 1005.5013 ,  942.61676,  675.2395 ,\n",
              "       1290.7927 ,  987.2304 , 1046.5105 ,  902.4546 ,  636.1867 ,\n",
              "       1207.2196 ,  988.4212 ,  915.2831 ,  811.3775 ,  581.08905,\n",
              "       1183.7014 ,  968.84216,  920.5803 ,  814.6066 ,  592.08185,\n",
              "       1213.3978 , 1046.8319 ,  956.9798 ,  852.40784,  593.6707 ],\n",
              "      dtype=float32)"
            ]
          },
          "metadata": {
            "tags": []
          },
          "execution_count": 145
        }
      ]
    },
    {
      "cell_type": "code",
      "metadata": {
        "colab": {
          "base_uri": "https://localhost:8080/"
        },
        "id": "Mi8UttR0bMw9",
        "outputId": "10d98aa0-3500-4898-d8bd-4185454da8c5"
      },
      "source": [
        "dinner_xgb_pred"
      ],
      "execution_count": null,
      "outputs": [
        {
          "output_type": "execute_result",
          "data": {
            "text/plain": [
              "array([217.5145 , 403.2052 , 246.3411 , 498.18445, 433.41296, 386.7222 ,\n",
              "       420.97272, 353.72974, 584.9701 , 487.35437, 195.0462 , 732.1324 ,\n",
              "       623.68756, 409.78995, 498.08823, 375.6728 , 644.32776, 605.3887 ,\n",
              "       329.30945, 496.8572 , 315.1558 , 645.8691 , 442.0772 , 549.3749 ,\n",
              "       387.9646 , 656.3688 , 643.18024, 424.5477 , 509.7587 , 332.6781 ,\n",
              "       731.80963, 560.68146, 424.51163, 471.8689 , 309.854  , 647.3817 ,\n",
              "       581.3698 , 311.83316, 445.98022, 273.98315, 629.8954 , 552.66876,\n",
              "       218.0934 , 407.56396, 311.27405, 612.31433, 538.4524 , 407.3398 ,\n",
              "       458.80402, 302.66708], dtype=float32)"
            ]
          },
          "metadata": {
            "tags": []
          },
          "execution_count": 146
        }
      ]
    },
    {
      "cell_type": "code",
      "metadata": {
        "colab": {
          "base_uri": "https://localhost:8080/",
          "height": 284
        },
        "id": "bNcxNpW2eQSs",
        "outputId": "ddc0b811-d44e-41b6-9f72-3799b0e21511"
      },
      "source": [
        "plt.barh(lunch_X.columns, lunch_xgb_model.feature_importances_)"
      ],
      "execution_count": null,
      "outputs": [
        {
          "output_type": "execute_result",
          "data": {
            "text/plain": [
              "<BarContainer object of 10 artists>"
            ]
          },
          "metadata": {
            "tags": []
          },
          "execution_count": 148
        },
        {
          "output_type": "display_data",
          "data": {
            "image/png": "[encoded data removed]",
            "text/plain": [
              "<Figure size 432x288 with 1 Axes>"
            ]
          },
          "metadata": {
            "tags": [],
            "needs_background": "light"
          }
        }
      ]
    },
    {
      "cell_type": "code",
      "metadata": {
        "colab": {
          "base_uri": "https://localhost:8080/",
          "height": 199
        },
        "id": "NawDqo4omFV9",
        "outputId": "63f357c0-5a69-46e4-d8b0-94ccf42aa29e"
      },
      "source": [
        "submission_df = pd.read_csv(PATH + 'sample_submission.csv')\n",
        "submission_df['중식계'] = lunch_xgb_pred\n",
        "submission_df['석식계'] = dinner_xgb_pred\n",
        "submission_df.head()"
      ],
      "execution_count": null,
      "outputs": [
        {
          "output_type": "execute_result",
          "data": {
            "text/html": [
              "<div>\n",
              "<style scoped>\n",
              "    .dataframe tbody tr th:only-of-type {\n",
              "        vertical-align: middle;\n",
              "    }\n",
              "\n",
              "    .dataframe tbody tr th {\n",
              "        vertical-align: top;\n",
              "    }\n",
              "\n",
              "    .dataframe thead th {\n",
              "        text-align: right;\n",
              "    }\n",
              "</style>\n",
              "<table border=\"1\" class=\"dataframe\">\n",
              "  <thead>\n",
              "    <tr style=\"text-align: right;\">\n",
              "      <th></th>\n",
              "      <th>일자</th>\n",
              "      <th>중식계</th>\n",
              "      <th>석식계</th>\n",
              "    </tr>\n",
              "  </thead>\n",
              "  <tbody>\n",
              "    <tr>\n",
              "      <th>0</th>\n",
              "      <td>2021-01-27</td>\n",
              "      <td>994.924194</td>\n",
              "      <td>217.514496</td>\n",
              "    </tr>\n",
              "    <tr>\n",
              "      <th>1</th>\n",
              "      <td>2021-01-28</td>\n",
              "      <td>919.631409</td>\n",
              "      <td>403.205200</td>\n",
              "    </tr>\n",
              "    <tr>\n",
              "      <th>2</th>\n",
              "      <td>2021-01-29</td>\n",
              "      <td>605.236938</td>\n",
              "      <td>246.341095</td>\n",
              "    </tr>\n",
              "    <tr>\n",
              "      <th>3</th>\n",
              "      <td>2021-02-01</td>\n",
              "      <td>1255.268433</td>\n",
              "      <td>498.184448</td>\n",
              "    </tr>\n",
              "    <tr>\n",
              "      <th>4</th>\n",
              "      <td>2021-02-02</td>\n",
              "      <td>953.854919</td>\n",
              "      <td>433.412964</td>\n",
              "    </tr>\n",
              "  </tbody>\n",
              "</table>\n",
              "</div>"
            ],
            "text/plain": [
              "           일자          중식계         석식계\n",
              "0  2021-01-27   994.924194  217.514496\n",
              "1  2021-01-28   919.631409  403.205200\n",
              "2  2021-01-29   605.236938  246.341095\n",
              "3  2021-02-01  1255.268433  498.184448\n",
              "4  2021-02-02   953.854919  433.412964"
            ]
          },
          "metadata": {
            "tags": []
          },
          "execution_count": 147
        }
      ]
    },
    {
      "cell_type": "code",
      "metadata": {
        "id": "GZsmF9cMmg1M"
      },
      "source": [
        "submission_df.to_csv(PATH + 'xgb_base2.csv', index=False)"
      ],
      "execution_count": null,
      "outputs": []
    },
    {
      "cell_type": "markdown",
      "metadata": {
        "id": "VhHGixtouZye"
      },
      "source": [
        "# LightGBM\n"
      ]
    },
    {
      "cell_type": "code",
      "metadata": {
        "colab": {
          "base_uri": "https://localhost:8080/"
        },
        "id": "q_OQA5Nlst9k",
        "outputId": "5243e89a-8b76-473a-a83e-070d5fc68ef0"
      },
      "source": [
        " sampler = TPESampler(seed=10)\n",
        " def objective(trial):\n",
        "\n",
        "     param = {\n",
        "         'objective': 'regression', # 회귀\n",
        "         'metric': 'mae', \n",
        "         'verbosity': -1,\n",
        "         'boosting_type': 'gbdt', # gradient boosting decision tree\n",
        "         'lambda_l1': trial.suggest_loguniform('lambda_l1', 1e-8, 1),\n",
        "         'lambda_l2': trial.suggest_loguniform('lambda_l2', 1e-8, 1),\n",
        "         'num_leaves': trial.suggest_int('num_leaves', 2, 400),\n",
        "         'max_depth': trial.suggest_int('max_depth',3, 9),\n",
        "         'learning_rate': trial.suggest_loguniform('lambda_l2', 1e-8, 1),\n",
        "         'n_estimators': trial.suggest_int('n_estimators', 700, 5000),\n",
        "         'feature_fraction': trial.suggest_uniform('feature_fraction', 0.4, 1.0),\n",
        "         'bagging_fraction': trial.suggest_uniform('bagging_fraction', 0.4, 1.0),\n",
        "         'bagging_freq': trial.suggest_int('bagging_freq', 1, 7),\n",
        "         'min_child_samples': trial.suggest_int('min_child_samples', 5, 100),\n",
        "     }\n",
        "\n",
        "     lgbm_regr = lgb.LGBMRegressor(**param)\n",
        "     lgbm = lgbm_regr.fit(l_X_train, l_y_train , eval_set = [(l_X_train, l_y_train)], verbose=False)\n",
        "     mae = mean_absolute_error(l_y_test, lgbm.predict(l_X_test))\n",
        "     return mae\n",
        "        \n",
        "l_study_lgb = optuna.create_study(direction='minimize', sampler=sampler)\n",
        "l_study_lgb.optimize(objective, n_trials=50)"
      ],
      "execution_count": null,
      "outputs": [
        {
          "output_type": "stream",
          "text": [
            "\u001b[32m[I 2021-07-03 09:45:30,528]\u001b[0m A new study created in memory with name: no-name-59ec12cc-7867-4c2e-9c15-69635dc58dfe\u001b[0m\n"
          ],
          "name": "stderr"
        },
        {
          "output_type": "stream",
          "text": [
            "[LightGBM] [Warning] feature_fraction is set=0.5348779873185086, colsample_bytree=1.0 will be ignored. Current value: feature_fraction=0.5348779873185086\n",
            "[LightGBM] [Warning] bagging_freq is set=6, subsample_freq=0 will be ignored. Current value: bagging_freq=6\n",
            "[LightGBM] [Warning] lambda_l2 is set=1.4656004675652718e-08, reg_lambda=0.0 will be ignored. Current value: lambda_l2=1.4656004675652718e-08\n",
            "[LightGBM] [Warning] bagging_fraction is set=0.5188377188557745, subsample=1.0 will be ignored. Current value: bagging_fraction=0.5188377188557745\n",
            "[LightGBM] [Warning] lambda_l1 is set=0.014810344004555135, reg_alpha=0.0 will be ignored. Current value: lambda_l1=0.014810344004555135\n"
          ],
          "name": "stdout"
        },
        {
          "output_type": "stream",
          "text": [
            "\u001b[32m[I 2021-07-03 09:45:31,890]\u001b[0m Trial 0 finished with value: 168.08836813627406 and parameters: {'lambda_l1': 0.014810344004555135, 'lambda_l2': 1.4656004675652718e-08, 'num_leaves': 254, 'max_depth': 8, 'n_estimators': 2844, 'feature_fraction': 0.5348779873185086, 'bagging_fraction': 0.5188377188557745, 'bagging_freq': 6, 'min_child_samples': 21}. Best is trial 0 with value: 168.08836813627406.\u001b[0m\n"
          ],
          "name": "stderr"
        },
        {
          "output_type": "stream",
          "text": [
            "[LightGBM] [Warning] feature_fraction is set=0.8875725769912681, colsample_bytree=1.0 will be ignored. Current value: feature_fraction=0.8875725769912681\n",
            "[LightGBM] [Warning] bagging_freq is set=6, subsample_freq=0 will be ignored. Current value: bagging_freq=6\n",
            "[LightGBM] [Warning] lambda_l2 is set=0.003040034742832493, reg_lambda=0.0 will be ignored. Current value: lambda_l2=0.003040034742832493\n",
            "[LightGBM] [Warning] bagging_fraction is set=0.7675156400976328, subsample=1.0 will be ignored. Current value: bagging_fraction=0.7675156400976328\n",
            "[LightGBM] [Warning] lambda_l1 is set=5.090008568091192e-08, reg_alpha=0.0 will be ignored. Current value: lambda_l1=5.090008568091192e-08\n"
          ],
          "name": "stdout"
        },
        {
          "output_type": "stream",
          "text": [
            "\u001b[32m[I 2021-07-03 09:45:32,646]\u001b[0m Trial 1 finished with value: 68.2245823893435 and parameters: {'lambda_l1': 5.090008568091192e-08, 'lambda_l2': 0.003040034742832493, 'num_leaves': 382, 'max_depth': 3, 'n_estimators': 2902, 'feature_fraction': 0.8875725769912681, 'bagging_fraction': 0.7675156400976328, 'bagging_freq': 6, 'min_child_samples': 33}. Best is trial 1 with value: 68.2245823893435.\u001b[0m\n"
          ],
          "name": "stderr"
        },
        {
          "output_type": "stream",
          "text": [
            "[LightGBM] [Warning] feature_fraction is set=0.8044801690398071, colsample_bytree=1.0 will be ignored. Current value: feature_fraction=0.8044801690398071\n",
            "[LightGBM] [Warning] bagging_freq is set=4, subsample_freq=0 will be ignored. Current value: bagging_freq=4\n",
            "[LightGBM] [Warning] lambda_l2 is set=0.005207224083783965, reg_lambda=0.0 will be ignored. Current value: lambda_l2=0.005207224083783965\n",
            "[LightGBM] [Warning] bagging_fraction is set=0.6650999046537976, subsample=1.0 will be ignored. Current value: bagging_fraction=0.6650999046537976\n",
            "[LightGBM] [Warning] lambda_l1 is set=0.21988367156694333, reg_alpha=0.0 will be ignored. Current value: lambda_l1=0.21988367156694333\n"
          ],
          "name": "stdout"
        },
        {
          "output_type": "stream",
          "text": [
            "\u001b[32m[I 2021-07-03 09:45:33,185]\u001b[0m Trial 2 finished with value: 73.67051522366995 and parameters: {'lambda_l1': 0.21988367156694333, 'lambda_l2': 0.005207224083783965, 'num_leaves': 218, 'max_depth': 3, 'n_estimators': 2305, 'feature_fraction': 0.8044801690398071, 'bagging_fraction': 0.6650999046537976, 'bagging_freq': 4, 'min_child_samples': 64}. Best is trial 1 with value: 68.2245823893435.\u001b[0m\n"
          ],
          "name": "stderr"
        },
        {
          "output_type": "stream",
          "text": [
            "[LightGBM] [Warning] feature_fraction is set=0.945189328485201, colsample_bytree=1.0 will be ignored. Current value: feature_fraction=0.945189328485201\n",
            "[LightGBM] [Warning] bagging_freq is set=1, subsample_freq=0 will be ignored. Current value: bagging_freq=1\n",
            "[LightGBM] [Warning] lambda_l2 is set=0.0015965313667163816, reg_lambda=0.0 will be ignored. Current value: lambda_l2=0.0015965313667163816\n",
            "[LightGBM] [Warning] bagging_fraction is set=0.5915416533931271, subsample=1.0 will be ignored. Current value: bagging_fraction=0.5915416533931271\n",
            "[LightGBM] [Warning] lambda_l1 is set=0.00012738137732610437, reg_alpha=0.0 will be ignored. Current value: lambda_l1=0.00012738137732610437\n"
          ],
          "name": "stdout"
        },
        {
          "output_type": "stream",
          "text": [
            "\u001b[32m[I 2021-07-03 09:45:34,549]\u001b[0m Trial 3 finished with value: 70.80919003939353 and parameters: {'lambda_l1': 0.00012738137732610437, 'lambda_l2': 0.0015965313667163816, 'num_leaves': 241, 'max_depth': 8, 'n_estimators': 2943, 'feature_fraction': 0.945189328485201, 'bagging_fraction': 0.5915416533931271, 'bagging_freq': 1, 'min_child_samples': 33}. Best is trial 1 with value: 68.2245823893435.\u001b[0m\n"
          ],
          "name": "stderr"
        },
        {
          "output_type": "stream",
          "text": [
            "[LightGBM] [Warning] feature_fraction is set=0.8915721974020412, colsample_bytree=1.0 will be ignored. Current value: feature_fraction=0.8915721974020412\n",
            "[LightGBM] [Warning] bagging_freq is set=6, subsample_freq=0 will be ignored. Current value: bagging_freq=6\n",
            "[LightGBM] [Warning] lambda_l2 is set=0.042604022999246406, reg_lambda=0.0 will be ignored. Current value: lambda_l2=0.042604022999246406\n",
            "[LightGBM] [Warning] bagging_fraction is set=0.5193685238072874, subsample=1.0 will be ignored. Current value: bagging_fraction=0.5193685238072874\n",
            "[LightGBM] [Warning] lambda_l1 is set=8.163471763379958e-08, reg_alpha=0.0 will be ignored. Current value: lambda_l1=8.163471763379958e-08\n"
          ],
          "name": "stdout"
        },
        {
          "output_type": "stream",
          "text": [
            "\u001b[32m[I 2021-07-03 09:45:35,633]\u001b[0m Trial 4 finished with value: 78.27357533205227 and parameters: {'lambda_l1': 8.163471763379958e-08, 'lambda_l2': 0.042604022999246406, 'num_leaves': 20, 'max_depth': 7, 'n_estimators': 3055, 'feature_fraction': 0.8915721974020412, 'bagging_fraction': 0.5193685238072874, 'bagging_freq': 6, 'min_child_samples': 38}. Best is trial 1 with value: 68.2245823893435.\u001b[0m\n"
          ],
          "name": "stderr"
        },
        {
          "output_type": "stream",
          "text": [
            "[LightGBM] [Warning] feature_fraction is set=0.6355175463679523, colsample_bytree=1.0 will be ignored. Current value: feature_fraction=0.6355175463679523\n",
            "[LightGBM] [Warning] bagging_freq is set=6, subsample_freq=0 will be ignored. Current value: bagging_freq=6\n",
            "[LightGBM] [Warning] lambda_l2 is set=2.3318126555538504e-06, reg_lambda=0.0 will be ignored. Current value: lambda_l2=2.3318126555538504e-06\n",
            "[LightGBM] [Warning] bagging_fraction is set=0.4560762247351902, subsample=1.0 will be ignored. Current value: bagging_fraction=0.4560762247351902\n",
            "[LightGBM] [Warning] lambda_l1 is set=0.010893853540963833, reg_alpha=0.0 will be ignored. Current value: lambda_l1=0.010893853540963833\n"
          ],
          "name": "stdout"
        },
        {
          "output_type": "stream",
          "text": [
            "\u001b[32m[I 2021-07-03 09:45:36,233]\u001b[0m Trial 5 finished with value: 167.7616691311999 and parameters: {'lambda_l1': 0.010893853540963833, 'lambda_l2': 2.3318126555538504e-06, 'num_leaves': 354, 'max_depth': 5, 'n_estimators': 1409, 'feature_fraction': 0.6355175463679523, 'bagging_fraction': 0.4560762247351902, 'bagging_freq': 6, 'min_child_samples': 19}. Best is trial 1 with value: 68.2245823893435.\u001b[0m\n"
          ],
          "name": "stderr"
        },
        {
          "output_type": "stream",
          "text": [
            "[LightGBM] [Warning] feature_fraction is set=0.5508244805242356, colsample_bytree=1.0 will be ignored. Current value: feature_fraction=0.5508244805242356\n",
            "[LightGBM] [Warning] bagging_freq is set=7, subsample_freq=0 will be ignored. Current value: bagging_freq=7\n",
            "[LightGBM] [Warning] lambda_l2 is set=0.3581671060741645, reg_lambda=0.0 will be ignored. Current value: lambda_l2=0.3581671060741645\n",
            "[LightGBM] [Warning] bagging_fraction is set=0.7584229889385306, subsample=1.0 will be ignored. Current value: bagging_fraction=0.7584229889385306\n",
            "[LightGBM] [Warning] lambda_l1 is set=1.1828116394242723e-05, reg_alpha=0.0 will be ignored. Current value: lambda_l1=1.1828116394242723e-05\n"
          ],
          "name": "stdout"
        },
        {
          "output_type": "stream",
          "text": [
            "\u001b[32m[I 2021-07-03 09:45:37,607]\u001b[0m Trial 6 finished with value: 80.8529806502653 and parameters: {'lambda_l1': 1.1828116394242723e-05, 'lambda_l2': 0.3581671060741645, 'num_leaves': 396, 'max_depth': 6, 'n_estimators': 4253, 'feature_fraction': 0.5508244805242356, 'bagging_fraction': 0.7584229889385306, 'bagging_freq': 7, 'min_child_samples': 56}. Best is trial 1 with value: 68.2245823893435.\u001b[0m\n"
          ],
          "name": "stderr"
        },
        {
          "output_type": "stream",
          "text": [
            "[LightGBM] [Warning] feature_fraction is set=0.5984315871892792, colsample_bytree=1.0 will be ignored. Current value: feature_fraction=0.5984315871892792\n",
            "[LightGBM] [Warning] bagging_freq is set=1, subsample_freq=0 will be ignored. Current value: bagging_freq=1\n",
            "[LightGBM] [Warning] lambda_l2 is set=2.0618360930258403e-08, reg_lambda=0.0 will be ignored. Current value: lambda_l2=2.0618360930258403e-08\n",
            "[LightGBM] [Warning] bagging_fraction is set=0.8642981777263575, subsample=1.0 will be ignored. Current value: bagging_fraction=0.8642981777263575\n",
            "[LightGBM] [Warning] lambda_l1 is set=0.0005267577135346555, reg_alpha=0.0 will be ignored. Current value: lambda_l1=0.0005267577135346555\n"
          ],
          "name": "stdout"
        },
        {
          "output_type": "stream",
          "text": [
            "\u001b[32m[I 2021-07-03 09:45:38,123]\u001b[0m Trial 7 finished with value: 168.088589155563 and parameters: {'lambda_l1': 0.0005267577135346555, 'lambda_l2': 2.0618360930258403e-08, 'num_leaves': 144, 'max_depth': 3, 'n_estimators': 2013, 'feature_fraction': 0.5984315871892792, 'bagging_fraction': 0.8642981777263575, 'bagging_freq': 1, 'min_child_samples': 46}. Best is trial 1 with value: 68.2245823893435.\u001b[0m\n"
          ],
          "name": "stderr"
        },
        {
          "output_type": "stream",
          "text": [
            "[LightGBM] [Warning] feature_fraction is set=0.8579443522862087, colsample_bytree=1.0 will be ignored. Current value: feature_fraction=0.8579443522862087\n",
            "[LightGBM] [Warning] bagging_freq is set=3, subsample_freq=0 will be ignored. Current value: bagging_freq=3\n",
            "[LightGBM] [Warning] lambda_l2 is set=0.0012357458041729475, reg_lambda=0.0 will be ignored. Current value: lambda_l2=0.0012357458041729475\n",
            "[LightGBM] [Warning] bagging_fraction is set=0.926857985634915, subsample=1.0 will be ignored. Current value: bagging_fraction=0.926857985634915\n",
            "[LightGBM] [Warning] lambda_l1 is set=3.3068536483753737e-06, reg_alpha=0.0 will be ignored. Current value: lambda_l1=3.3068536483753737e-06\n"
          ],
          "name": "stdout"
        },
        {
          "output_type": "stream",
          "text": [
            "\u001b[32m[I 2021-07-03 09:45:39,328]\u001b[0m Trial 8 finished with value: 73.11536522279569 and parameters: {'lambda_l1': 3.3068536483753737e-06, 'lambda_l2': 0.0012357458041729475, 'num_leaves': 140, 'max_depth': 3, 'n_estimators': 4484, 'feature_fraction': 0.8579443522862087, 'bagging_fraction': 0.926857985634915, 'bagging_freq': 3, 'min_child_samples': 63}. Best is trial 1 with value: 68.2245823893435.\u001b[0m\n",
            "\u001b[32m[I 2021-07-03 09:45:39,519]\u001b[0m Trial 9 finished with value: 134.33553544821945 and parameters: {'lambda_l1': 0.0001281542517497079, 'lambda_l2': 0.0006063078395671604, 'num_leaves': 106, 'max_depth': 5, 'n_estimators': 809, 'feature_fraction': 0.5818375363906209, 'bagging_fraction': 0.5452455252421164, 'bagging_freq': 4, 'min_child_samples': 59}. Best is trial 1 with value: 68.2245823893435.\u001b[0m\n"
          ],
          "name": "stderr"
        },
        {
          "output_type": "stream",
          "text": [
            "[LightGBM] [Warning] feature_fraction is set=0.5818375363906209, colsample_bytree=1.0 will be ignored. Current value: feature_fraction=0.5818375363906209\n",
            "[LightGBM] [Warning] bagging_freq is set=4, subsample_freq=0 will be ignored. Current value: bagging_freq=4\n",
            "[LightGBM] [Warning] lambda_l2 is set=0.0006063078395671604, reg_lambda=0.0 will be ignored. Current value: lambda_l2=0.0006063078395671604\n",
            "[LightGBM] [Warning] bagging_fraction is set=0.5452455252421164, subsample=1.0 will be ignored. Current value: bagging_fraction=0.5452455252421164\n",
            "[LightGBM] [Warning] lambda_l1 is set=0.0001281542517497079, reg_alpha=0.0 will be ignored. Current value: lambda_l1=0.0001281542517497079\n",
            "[LightGBM] [Warning] feature_fraction is set=0.7649442484108072, colsample_bytree=1.0 will be ignored. Current value: feature_fraction=0.7649442484108072\n",
            "[LightGBM] [Warning] bagging_freq is set=5, subsample_freq=0 will be ignored. Current value: bagging_freq=5\n",
            "[LightGBM] [Warning] lambda_l2 is set=3.010479332494921e-06, reg_lambda=0.0 will be ignored. Current value: lambda_l2=3.010479332494921e-06\n",
            "[LightGBM] [Warning] bagging_fraction is set=0.7880669612015251, subsample=1.0 will be ignored. Current value: bagging_fraction=0.7880669612015251\n",
            "[LightGBM] [Warning] lambda_l1 is set=1.6785873892849563e-08, reg_alpha=0.0 will be ignored. Current value: lambda_l1=1.6785873892849563e-08\n"
          ],
          "name": "stdout"
        },
        {
          "output_type": "stream",
          "text": [
            "\u001b[32m[I 2021-07-03 09:45:40,422]\u001b[0m Trial 10 finished with value: 167.0844404823267 and parameters: {'lambda_l1': 1.6785873892849563e-08, 'lambda_l2': 3.010479332494921e-06, 'num_leaves': 341, 'max_depth': 4, 'n_estimators': 3558, 'feature_fraction': 0.7649442484108072, 'bagging_fraction': 0.7880669612015251, 'bagging_freq': 5, 'min_child_samples': 90}. Best is trial 1 with value: 68.2245823893435.\u001b[0m\n"
          ],
          "name": "stderr"
        },
        {
          "output_type": "stream",
          "text": [
            "[LightGBM] [Warning] feature_fraction is set=0.9991122238129395, colsample_bytree=1.0 will be ignored. Current value: feature_fraction=0.9991122238129395\n",
            "[LightGBM] [Warning] bagging_freq is set=1, subsample_freq=0 will be ignored. Current value: bagging_freq=1\n",
            "[LightGBM] [Warning] lambda_l2 is set=2.61939793719469e-05, reg_lambda=0.0 will be ignored. Current value: lambda_l2=2.61939793719469e-05\n",
            "[LightGBM] [Warning] bagging_fraction is set=0.6585514682875593, subsample=1.0 will be ignored. Current value: bagging_fraction=0.6585514682875593\n",
            "[LightGBM] [Warning] lambda_l1 is set=8.9826258759353e-07, reg_alpha=0.0 will be ignored. Current value: lambda_l1=8.9826258759353e-07\n"
          ],
          "name": "stdout"
        },
        {
          "output_type": "stream",
          "text": [
            "\u001b[32m[I 2021-07-03 09:45:45,589]\u001b[0m Trial 11 finished with value: 156.59219682334364 and parameters: {'lambda_l1': 8.9826258759353e-07, 'lambda_l2': 2.61939793719469e-05, 'num_leaves': 287, 'max_depth': 9, 'n_estimators': 3632, 'feature_fraction': 0.9991122238129395, 'bagging_fraction': 0.6585514682875593, 'bagging_freq': 1, 'min_child_samples': 7}. Best is trial 1 with value: 68.2245823893435.\u001b[0m\n"
          ],
          "name": "stderr"
        },
        {
          "output_type": "stream",
          "text": [
            "[LightGBM] [Warning] feature_fraction is set=0.9922869658927289, colsample_bytree=1.0 will be ignored. Current value: feature_fraction=0.9922869658927289\n",
            "[LightGBM] [Warning] bagging_freq is set=2, subsample_freq=0 will be ignored. Current value: bagging_freq=2\n",
            "[LightGBM] [Warning] lambda_l2 is set=0.030766178350701442, reg_lambda=0.0 will be ignored. Current value: lambda_l2=0.030766178350701442\n",
            "[LightGBM] [Warning] bagging_fraction is set=0.6307116556352568, subsample=1.0 will be ignored. Current value: bagging_fraction=0.6307116556352568\n",
            "[LightGBM] [Warning] lambda_l1 is set=0.0010032552297938406, reg_alpha=0.0 will be ignored. Current value: lambda_l1=0.0010032552297938406\n"
          ],
          "name": "stdout"
        },
        {
          "output_type": "stream",
          "text": [
            "\u001b[32m[I 2021-07-03 09:45:46,945]\u001b[0m Trial 12 finished with value: 74.22269527381991 and parameters: {'lambda_l1': 0.0010032552297938406, 'lambda_l2': 0.030766178350701442, 'num_leaves': 311, 'max_depth': 9, 'n_estimators': 2453, 'feature_fraction': 0.9922869658927289, 'bagging_fraction': 0.6307116556352568, 'bagging_freq': 2, 'min_child_samples': 31}. Best is trial 1 with value: 68.2245823893435.\u001b[0m\n"
          ],
          "name": "stderr"
        },
        {
          "output_type": "stream",
          "text": [
            "[LightGBM] [Warning] feature_fraction is set=0.41844661211798795, colsample_bytree=1.0 will be ignored. Current value: feature_fraction=0.41844661211798795\n",
            "[LightGBM] [Warning] bagging_freq is set=3, subsample_freq=0 will be ignored. Current value: bagging_freq=3\n",
            "[LightGBM] [Warning] lambda_l2 is set=0.00015468424548794194, reg_lambda=0.0 will be ignored. Current value: lambda_l2=0.00015468424548794194\n",
            "[LightGBM] [Warning] bagging_fraction is set=0.995679260563783, subsample=1.0 will be ignored. Current value: bagging_fraction=0.995679260563783\n",
            "[LightGBM] [Warning] lambda_l1 is set=1.9886276185414409e-07, reg_alpha=0.0 will be ignored. Current value: lambda_l1=1.9886276185414409e-07\n"
          ],
          "name": "stdout"
        },
        {
          "output_type": "stream",
          "text": [
            "\u001b[32m[I 2021-07-03 09:45:50,725]\u001b[0m Trial 13 finished with value: 127.29066396606996 and parameters: {'lambda_l1': 1.9886276185414409e-07, 'lambda_l2': 0.00015468424548794194, 'num_leaves': 387, 'max_depth': 7, 'n_estimators': 3556, 'feature_fraction': 0.41844661211798795, 'bagging_fraction': 0.995679260563783, 'bagging_freq': 3, 'min_child_samples': 8}. Best is trial 1 with value: 68.2245823893435.\u001b[0m\n"
          ],
          "name": "stderr"
        },
        {
          "output_type": "stream",
          "text": [
            "[LightGBM] [Warning] feature_fraction is set=0.9290019894565231, colsample_bytree=1.0 will be ignored. Current value: feature_fraction=0.9290019894565231\n",
            "[LightGBM] [Warning] bagging_freq is set=7, subsample_freq=0 will be ignored. Current value: bagging_freq=7\n",
            "[LightGBM] [Warning] lambda_l2 is set=0.9773722751809201, reg_lambda=0.0 will be ignored. Current value: lambda_l2=0.9773722751809201\n",
            "[LightGBM] [Warning] bagging_fraction is set=0.750295356922126, subsample=1.0 will be ignored. Current value: bagging_fraction=0.750295356922126\n",
            "[LightGBM] [Warning] lambda_l1 is set=2.8821931552561775e-05, reg_alpha=0.0 will be ignored. Current value: lambda_l1=2.8821931552561775e-05\n"
          ],
          "name": "stdout"
        },
        {
          "output_type": "stream",
          "text": [
            "\u001b[32m[I 2021-07-03 09:45:51,767]\u001b[0m Trial 14 finished with value: 99.66860342433343 and parameters: {'lambda_l1': 2.8821931552561775e-05, 'lambda_l2': 0.9773722751809201, 'num_leaves': 219, 'max_depth': 8, 'n_estimators': 1756, 'feature_fraction': 0.9290019894565231, 'bagging_fraction': 0.750295356922126, 'bagging_freq': 7, 'min_child_samples': 28}. Best is trial 1 with value: 68.2245823893435.\u001b[0m\n"
          ],
          "name": "stderr"
        },
        {
          "output_type": "stream",
          "text": [
            "[LightGBM] [Warning] feature_fraction is set=0.7285367937084144, colsample_bytree=1.0 will be ignored. Current value: feature_fraction=0.7285367937084144\n",
            "[LightGBM] [Warning] bagging_freq is set=5, subsample_freq=0 will be ignored. Current value: bagging_freq=5\n",
            "[LightGBM] [Warning] lambda_l2 is set=0.013133026541985783, reg_lambda=0.0 will be ignored. Current value: lambda_l2=0.013133026541985783\n",
            "[LightGBM] [Warning] bagging_fraction is set=0.5989394570002292, subsample=1.0 will be ignored. Current value: bagging_fraction=0.5989394570002292\n",
            "[LightGBM] [Warning] lambda_l1 is set=1.0885522537644062e-08, reg_alpha=0.0 will be ignored. Current value: lambda_l1=1.0885522537644062e-08\n"
          ],
          "name": "stdout"
        },
        {
          "output_type": "stream",
          "text": [
            "\u001b[32m[I 2021-07-03 09:45:52,796]\u001b[0m Trial 15 finished with value: 70.82605705543644 and parameters: {'lambda_l1': 1.0885522537644062e-08, 'lambda_l2': 0.013133026541985783, 'num_leaves': 28, 'max_depth': 7, 'n_estimators': 3001, 'feature_fraction': 0.7285367937084144, 'bagging_fraction': 0.5989394570002292, 'bagging_freq': 5, 'min_child_samples': 44}. Best is trial 1 with value: 68.2245823893435.\u001b[0m\n"
          ],
          "name": "stderr"
        },
        {
          "output_type": "stream",
          "text": [
            "[LightGBM] [Warning] feature_fraction is set=0.9592124084612702, colsample_bytree=1.0 will be ignored. Current value: feature_fraction=0.9592124084612702\n",
            "[LightGBM] [Warning] bagging_freq is set=2, subsample_freq=0 will be ignored. Current value: bagging_freq=2\n",
            "[LightGBM] [Warning] lambda_l2 is set=3.4319355308173353e-05, reg_lambda=0.0 will be ignored. Current value: lambda_l2=3.4319355308173353e-05\n",
            "[LightGBM] [Warning] bagging_fraction is set=0.4072835615446248, subsample=1.0 will be ignored. Current value: bagging_fraction=0.4072835615446248\n",
            "[LightGBM] [Warning] lambda_l1 is set=0.006757265265334436, reg_alpha=0.0 will be ignored. Current value: lambda_l1=0.006757265265334436\n"
          ],
          "name": "stdout"
        },
        {
          "output_type": "stream",
          "text": [
            "\u001b[32m[I 2021-07-03 09:45:53,431]\u001b[0m Trial 16 finished with value: 160.12652768803702 and parameters: {'lambda_l1': 0.006757265265334436, 'lambda_l2': 3.4319355308173353e-05, 'num_leaves': 266, 'max_depth': 8, 'n_estimators': 2583, 'feature_fraction': 0.9592124084612702, 'bagging_fraction': 0.4072835615446248, 'bagging_freq': 2, 'min_child_samples': 73}. Best is trial 1 with value: 68.2245823893435.\u001b[0m\n"
          ],
          "name": "stderr"
        },
        {
          "output_type": "stream",
          "text": [
            "[LightGBM] [Warning] feature_fraction is set=0.8133108831404763, colsample_bytree=1.0 will be ignored. Current value: feature_fraction=0.8133108831404763\n",
            "[LightGBM] [Warning] bagging_freq is set=5, subsample_freq=0 will be ignored. Current value: bagging_freq=5\n",
            "[LightGBM] [Warning] lambda_l2 is set=0.19063245323117958, reg_lambda=0.0 will be ignored. Current value: lambda_l2=0.19063245323117958\n",
            "[LightGBM] [Warning] bagging_fraction is set=0.8359226382813782, subsample=1.0 will be ignored. Current value: bagging_fraction=0.8359226382813782\n",
            "[LightGBM] [Warning] lambda_l1 is set=0.4749952337893574, reg_alpha=0.0 will be ignored. Current value: lambda_l1=0.4749952337893574\n"
          ],
          "name": "stdout"
        },
        {
          "output_type": "stream",
          "text": [
            "\u001b[32m[I 2021-07-03 09:45:55,146]\u001b[0m Trial 17 finished with value: 75.38167518057081 and parameters: {'lambda_l1': 0.4749952337893574, 'lambda_l2': 0.19063245323117958, 'num_leaves': 163, 'max_depth': 5, 'n_estimators': 3778, 'feature_fraction': 0.8133108831404763, 'bagging_fraction': 0.8359226382813782, 'bagging_freq': 5, 'min_child_samples': 19}. Best is trial 1 with value: 68.2245823893435.\u001b[0m\n"
          ],
          "name": "stderr"
        },
        {
          "output_type": "stream",
          "text": [
            "[LightGBM] [Warning] feature_fraction is set=0.9049229635967819, colsample_bytree=1.0 will be ignored. Current value: feature_fraction=0.9049229635967819\n",
            "[LightGBM] [Warning] bagging_freq is set=7, subsample_freq=0 will be ignored. Current value: bagging_freq=7\n",
            "[LightGBM] [Warning] lambda_l2 is set=0.0038947940771188595, reg_lambda=0.0 will be ignored. Current value: lambda_l2=0.0038947940771188595\n",
            "[LightGBM] [Warning] bagging_fraction is set=0.7133340635208179, subsample=1.0 will be ignored. Current value: bagging_fraction=0.7133340635208179\n",
            "[LightGBM] [Warning] lambda_l1 is set=6.162473122054843e-05, reg_alpha=0.0 will be ignored. Current value: lambda_l1=6.162473122054843e-05\n"
          ],
          "name": "stdout"
        },
        {
          "output_type": "stream",
          "text": [
            "\u001b[32m[I 2021-07-03 09:45:57,195]\u001b[0m Trial 18 finished with value: 68.25159573580302 and parameters: {'lambda_l1': 6.162473122054843e-05, 'lambda_l2': 0.0038947940771188595, 'num_leaves': 63, 'max_depth': 6, 'n_estimators': 4956, 'feature_fraction': 0.9049229635967819, 'bagging_fraction': 0.7133340635208179, 'bagging_freq': 7, 'min_child_samples': 35}. Best is trial 1 with value: 68.2245823893435.\u001b[0m\n"
          ],
          "name": "stderr"
        },
        {
          "output_type": "stream",
          "text": [
            "[LightGBM] [Warning] feature_fraction is set=0.6694741937620116, colsample_bytree=1.0 will be ignored. Current value: feature_fraction=0.6694741937620116\n",
            "[LightGBM] [Warning] bagging_freq is set=7, subsample_freq=0 will be ignored. Current value: bagging_freq=7\n",
            "[LightGBM] [Warning] lambda_l2 is set=0.00017090105110919117, reg_lambda=0.0 will be ignored. Current value: lambda_l2=0.00017090105110919117\n",
            "[LightGBM] [Warning] bagging_fraction is set=0.7102315542302928, subsample=1.0 will be ignored. Current value: bagging_fraction=0.7102315542302928\n",
            "[LightGBM] [Warning] lambda_l1 is set=1.558826272807897e-06, reg_alpha=0.0 will be ignored. Current value: lambda_l1=1.558826272807897e-06\n"
          ],
          "name": "stdout"
        },
        {
          "output_type": "stream",
          "text": [
            "\u001b[32m[I 2021-07-03 09:45:58,996]\u001b[0m Trial 19 finished with value: 112.40814959477449 and parameters: {'lambda_l1': 1.558826272807897e-06, 'lambda_l2': 0.00017090105110919117, 'num_leaves': 88, 'max_depth': 6, 'n_estimators': 4901, 'feature_fraction': 0.6694741937620116, 'bagging_fraction': 0.7102315542302928, 'bagging_freq': 7, 'min_child_samples': 44}. Best is trial 1 with value: 68.2245823893435.\u001b[0m\n"
          ],
          "name": "stderr"
        },
        {
          "output_type": "stream",
          "text": [
            "[LightGBM] [Warning] feature_fraction is set=0.8830528000666321, colsample_bytree=1.0 will be ignored. Current value: feature_fraction=0.8830528000666321\n",
            "[LightGBM] [Warning] bagging_freq is set=6, subsample_freq=0 will be ignored. Current value: bagging_freq=6\n",
            "[LightGBM] [Warning] lambda_l2 is set=0.005399216065659898, reg_lambda=0.0 will be ignored. Current value: lambda_l2=0.005399216065659898\n",
            "[LightGBM] [Warning] bagging_fraction is set=0.8981126396254016, subsample=1.0 will be ignored. Current value: bagging_fraction=0.8981126396254016\n",
            "[LightGBM] [Warning] lambda_l1 is set=8.577543141688918e-08, reg_alpha=0.0 will be ignored. Current value: lambda_l1=8.577543141688918e-08\n"
          ],
          "name": "stdout"
        },
        {
          "output_type": "stream",
          "text": [
            "\u001b[32m[I 2021-07-03 09:46:00,363]\u001b[0m Trial 20 finished with value: 69.81787156647374 and parameters: {'lambda_l1': 8.577543141688918e-08, 'lambda_l2': 0.005399216065659898, 'num_leaves': 57, 'max_depth': 4, 'n_estimators': 4914, 'feature_fraction': 0.8830528000666321, 'bagging_fraction': 0.8981126396254016, 'bagging_freq': 6, 'min_child_samples': 75}. Best is trial 1 with value: 68.2245823893435.\u001b[0m\n"
          ],
          "name": "stderr"
        },
        {
          "output_type": "stream",
          "text": [
            "[LightGBM] [Warning] feature_fraction is set=0.857435008067406, colsample_bytree=1.0 will be ignored. Current value: feature_fraction=0.857435008067406\n",
            "[LightGBM] [Warning] bagging_freq is set=6, subsample_freq=0 will be ignored. Current value: bagging_freq=6\n",
            "[LightGBM] [Warning] lambda_l2 is set=0.007085955366616683, reg_lambda=0.0 will be ignored. Current value: lambda_l2=0.007085955366616683\n",
            "[LightGBM] [Warning] bagging_fraction is set=0.9541820918740274, subsample=1.0 will be ignored. Current value: bagging_fraction=0.9541820918740274\n",
            "[LightGBM] [Warning] lambda_l1 is set=1.3637885278895198e-07, reg_alpha=0.0 will be ignored. Current value: lambda_l1=1.3637885278895198e-07\n"
          ],
          "name": "stdout"
        },
        {
          "output_type": "stream",
          "text": [
            "\u001b[32m[I 2021-07-03 09:46:01,715]\u001b[0m Trial 21 finished with value: 72.07557604930169 and parameters: {'lambda_l1': 1.3637885278895198e-07, 'lambda_l2': 0.007085955366616683, 'num_leaves': 64, 'max_depth': 4, 'n_estimators': 4860, 'feature_fraction': 0.857435008067406, 'bagging_fraction': 0.9541820918740274, 'bagging_freq': 6, 'min_child_samples': 89}. Best is trial 1 with value: 68.2245823893435.\u001b[0m\n"
          ],
          "name": "stderr"
        },
        {
          "output_type": "stream",
          "text": [
            "[LightGBM] [Warning] feature_fraction is set=0.8896961138855114, colsample_bytree=1.0 will be ignored. Current value: feature_fraction=0.8896961138855114\n",
            "[LightGBM] [Warning] bagging_freq is set=7, subsample_freq=0 will be ignored. Current value: bagging_freq=7\n",
            "[LightGBM] [Warning] lambda_l2 is set=0.1440306548213092, reg_lambda=0.0 will be ignored. Current value: lambda_l2=0.1440306548213092\n",
            "[LightGBM] [Warning] bagging_fraction is set=0.8719479103382188, subsample=1.0 will be ignored. Current value: bagging_fraction=0.8719479103382188\n",
            "[LightGBM] [Warning] lambda_l1 is set=1.117885124030037e-08, reg_alpha=0.0 will be ignored. Current value: lambda_l1=1.117885124030037e-08\n"
          ],
          "name": "stdout"
        },
        {
          "output_type": "stream",
          "text": [
            "\u001b[32m[I 2021-07-03 09:46:02,909]\u001b[0m Trial 22 finished with value: 79.82043715241834 and parameters: {'lambda_l1': 1.117885124030037e-08, 'lambda_l2': 0.1440306548213092, 'num_leaves': 49, 'max_depth': 4, 'n_estimators': 4443, 'feature_fraction': 0.8896961138855114, 'bagging_fraction': 0.8719479103382188, 'bagging_freq': 7, 'min_child_samples': 99}. Best is trial 1 with value: 68.2245823893435.\u001b[0m\n"
          ],
          "name": "stderr"
        },
        {
          "output_type": "stream",
          "text": [
            "[LightGBM] [Warning] feature_fraction is set=0.797585277438908, colsample_bytree=1.0 will be ignored. Current value: feature_fraction=0.797585277438908\n",
            "[LightGBM] [Warning] bagging_freq is set=6, subsample_freq=0 will be ignored. Current value: bagging_freq=6\n",
            "[LightGBM] [Warning] lambda_l2 is set=0.00286882006173601, reg_lambda=0.0 will be ignored. Current value: lambda_l2=0.00286882006173601\n",
            "[LightGBM] [Warning] bagging_fraction is set=0.8340528532958039, subsample=1.0 will be ignored. Current value: bagging_fraction=0.8340528532958039\n",
            "[LightGBM] [Warning] lambda_l1 is set=4.4206330381302414e-07, reg_alpha=0.0 will be ignored. Current value: lambda_l1=4.4206330381302414e-07\n"
          ],
          "name": "stdout"
        },
        {
          "output_type": "stream",
          "text": [
            "\u001b[32m[I 2021-07-03 09:46:04,272]\u001b[0m Trial 23 finished with value: 70.4626573453293 and parameters: {'lambda_l1': 4.4206330381302414e-07, 'lambda_l2': 0.00286882006173601, 'num_leaves': 180, 'max_depth': 4, 'n_estimators': 4963, 'feature_fraction': 0.797585277438908, 'bagging_fraction': 0.8340528532958039, 'bagging_freq': 6, 'min_child_samples': 74}. Best is trial 1 with value: 68.2245823893435.\u001b[0m\n"
          ],
          "name": "stderr"
        },
        {
          "output_type": "stream",
          "text": [
            "[LightGBM] [Warning] feature_fraction is set=0.9082255084550924, colsample_bytree=1.0 will be ignored. Current value: feature_fraction=0.9082255084550924\n",
            "[LightGBM] [Warning] bagging_freq is set=5, subsample_freq=0 will be ignored. Current value: bagging_freq=5\n",
            "[LightGBM] [Warning] lambda_l2 is set=0.0004910285788460762, reg_lambda=0.0 will be ignored. Current value: lambda_l2=0.0004910285788460762\n",
            "[LightGBM] [Warning] bagging_fraction is set=0.7131579822782704, subsample=1.0 will be ignored. Current value: bagging_fraction=0.7131579822782704\n",
            "[LightGBM] [Warning] lambda_l1 is set=5.3211789024334075e-08, reg_alpha=0.0 will be ignored. Current value: lambda_l1=5.3211789024334075e-08\n"
          ],
          "name": "stdout"
        },
        {
          "output_type": "stream",
          "text": [
            "\u001b[32m[I 2021-07-03 09:46:05,747]\u001b[0m Trial 24 finished with value: 83.35697281125313 and parameters: {'lambda_l1': 5.3211789024334075e-08, 'lambda_l2': 0.0004910285788460762, 'num_leaves': 114, 'max_depth': 5, 'n_estimators': 4092, 'feature_fraction': 0.9082255084550924, 'bagging_fraction': 0.7131579822782704, 'bagging_freq': 5, 'min_child_samples': 50}. Best is trial 1 with value: 68.2245823893435.\u001b[0m\n"
          ],
          "name": "stderr"
        },
        {
          "output_type": "stream",
          "text": [
            "[LightGBM] [Warning] feature_fraction is set=0.8525645941267856, colsample_bytree=1.0 will be ignored. Current value: feature_fraction=0.8525645941267856\n",
            "[LightGBM] [Warning] bagging_freq is set=7, subsample_freq=0 will be ignored. Current value: bagging_freq=7\n",
            "[LightGBM] [Warning] lambda_l2 is set=0.03461833732184834, reg_lambda=0.0 will be ignored. Current value: lambda_l2=0.03461833732184834\n",
            "[LightGBM] [Warning] bagging_fraction is set=0.9186670114421646, subsample=1.0 will be ignored. Current value: bagging_fraction=0.9186670114421646\n",
            "[LightGBM] [Warning] lambda_l1 is set=9.627153081826672e-06, reg_alpha=0.0 will be ignored. Current value: lambda_l1=9.627153081826672e-06\n"
          ],
          "name": "stdout"
        },
        {
          "output_type": "stream",
          "text": [
            "\u001b[32m[I 2021-07-03 09:46:06,914]\u001b[0m Trial 25 finished with value: 73.17524387491486 and parameters: {'lambda_l1': 9.627153081826672e-06, 'lambda_l2': 0.03461833732184834, 'num_leaves': 70, 'max_depth': 3, 'n_estimators': 4664, 'feature_fraction': 0.8525645941267856, 'bagging_fraction': 0.9186670114421646, 'bagging_freq': 7, 'min_child_samples': 71}. Best is trial 1 with value: 68.2245823893435.\u001b[0m\n",
            "\u001b[32m[I 2021-07-03 09:46:07,080]\u001b[0m Trial 26 finished with value: 165.79104295387324 and parameters: {'lambda_l1': 3.617654385059622e-08, 'lambda_l2': 3.21018883782884e-05, 'num_leaves': 3, 'max_depth': 6, 'n_estimators': 922, 'feature_fraction': 0.7208616598347489, 'bagging_fraction': 0.8051944778854442, 'bagging_freq': 6, 'min_child_samples': 84}. Best is trial 1 with value: 68.2245823893435.\u001b[0m\n"
          ],
          "name": "stderr"
        },
        {
          "output_type": "stream",
          "text": [
            "[LightGBM] [Warning] feature_fraction is set=0.7208616598347489, colsample_bytree=1.0 will be ignored. Current value: feature_fraction=0.7208616598347489\n",
            "[LightGBM] [Warning] bagging_freq is set=6, subsample_freq=0 will be ignored. Current value: bagging_freq=6\n",
            "[LightGBM] [Warning] lambda_l2 is set=3.21018883782884e-05, reg_lambda=0.0 will be ignored. Current value: lambda_l2=3.21018883782884e-05\n",
            "[LightGBM] [Warning] bagging_fraction is set=0.8051944778854442, subsample=1.0 will be ignored. Current value: bagging_fraction=0.8051944778854442\n",
            "[LightGBM] [Warning] lambda_l1 is set=3.617654385059622e-08, reg_alpha=0.0 will be ignored. Current value: lambda_l1=3.617654385059622e-08\n",
            "[LightGBM] [Warning] feature_fraction is set=0.978823807556182, colsample_bytree=1.0 will be ignored. Current value: feature_fraction=0.978823807556182\n",
            "[LightGBM] [Warning] bagging_freq is set=7, subsample_freq=0 will be ignored. Current value: bagging_freq=7\n",
            "[LightGBM] [Warning] lambda_l2 is set=0.007623884125877974, reg_lambda=0.0 will be ignored. Current value: lambda_l2=0.007623884125877974\n",
            "[LightGBM] [Warning] bagging_fraction is set=0.7586217334270403, subsample=1.0 will be ignored. Current value: bagging_fraction=0.7586217334270403\n",
            "[LightGBM] [Warning] lambda_l1 is set=3.5202198902227952e-06, reg_alpha=0.0 will be ignored. Current value: lambda_l1=3.5202198902227952e-06\n"
          ],
          "name": "stdout"
        },
        {
          "output_type": "stream",
          "text": [
            "\u001b[32m[I 2021-07-03 09:46:08,380]\u001b[0m Trial 27 finished with value: 68.31447930080783 and parameters: {'lambda_l1': 3.5202198902227952e-06, 'lambda_l2': 0.007623884125877974, 'num_leaves': 37, 'max_depth': 4, 'n_estimators': 3928, 'feature_fraction': 0.978823807556182, 'bagging_fraction': 0.7586217334270403, 'bagging_freq': 7, 'min_child_samples': 38}. Best is trial 1 with value: 68.2245823893435.\u001b[0m\n"
          ],
          "name": "stderr"
        },
        {
          "output_type": "stream",
          "text": [
            "[LightGBM] [Warning] feature_fraction is set=0.983261850180457, colsample_bytree=1.0 will be ignored. Current value: feature_fraction=0.983261850180457\n",
            "[LightGBM] [Warning] bagging_freq is set=7, subsample_freq=0 will be ignored. Current value: bagging_freq=7\n",
            "[LightGBM] [Warning] lambda_l2 is set=0.06153077564466302, reg_lambda=0.0 will be ignored. Current value: lambda_l2=0.06153077564466302\n",
            "[LightGBM] [Warning] bagging_fraction is set=0.7478638044077373, subsample=1.0 will be ignored. Current value: bagging_fraction=0.7478638044077373\n",
            "[LightGBM] [Warning] lambda_l1 is set=2.6713597683041026e-05, reg_alpha=0.0 will be ignored. Current value: lambda_l1=2.6713597683041026e-05\n"
          ],
          "name": "stdout"
        },
        {
          "output_type": "stream",
          "text": [
            "\u001b[32m[I 2021-07-03 09:46:10,110]\u001b[0m Trial 28 finished with value: 73.37228600318362 and parameters: {'lambda_l1': 2.6713597683041026e-05, 'lambda_l2': 0.06153077564466302, 'num_leaves': 30, 'max_depth': 5, 'n_estimators': 4001, 'feature_fraction': 0.983261850180457, 'bagging_fraction': 0.7478638044077373, 'bagging_freq': 7, 'min_child_samples': 24}. Best is trial 1 with value: 68.2245823893435.\u001b[0m\n"
          ],
          "name": "stderr"
        },
        {
          "output_type": "stream",
          "text": [
            "[LightGBM] [Warning] feature_fraction is set=0.4467465826790745, colsample_bytree=1.0 will be ignored. Current value: feature_fraction=0.4467465826790745\n",
            "[LightGBM] [Warning] bagging_freq is set=7, subsample_freq=0 will be ignored. Current value: bagging_freq=7\n",
            "[LightGBM] [Warning] lambda_l2 is set=0.00036096976564155053, reg_lambda=0.0 will be ignored. Current value: lambda_l2=0.00036096976564155053\n",
            "[LightGBM] [Warning] bagging_fraction is set=0.672679532303821, subsample=1.0 will be ignored. Current value: bagging_fraction=0.672679532303821\n",
            "[LightGBM] [Warning] lambda_l1 is set=0.0008411698071306363, reg_alpha=0.0 will be ignored. Current value: lambda_l1=0.0008411698071306363\n"
          ],
          "name": "stdout"
        },
        {
          "output_type": "stream",
          "text": [
            "\u001b[32m[I 2021-07-03 09:46:10,646]\u001b[0m Trial 29 finished with value: 118.29020494785748 and parameters: {'lambda_l1': 0.0008411698071306363, 'lambda_l2': 0.00036096976564155053, 'num_leaves': 3, 'max_depth': 7, 'n_estimators': 3251, 'feature_fraction': 0.4467465826790745, 'bagging_fraction': 0.672679532303821, 'bagging_freq': 7, 'min_child_samples': 37}. Best is trial 1 with value: 68.2245823893435.\u001b[0m\n"
          ],
          "name": "stderr"
        },
        {
          "output_type": "stream",
          "text": [
            "[LightGBM] [Warning] feature_fraction is set=0.9485639040314328, colsample_bytree=1.0 will be ignored. Current value: feature_fraction=0.9485639040314328\n",
            "[LightGBM] [Warning] bagging_freq is set=6, subsample_freq=0 will be ignored. Current value: bagging_freq=6\n",
            "[LightGBM] [Warning] lambda_l2 is set=0.9330264060741632, reg_lambda=0.0 will be ignored. Current value: lambda_l2=0.9330264060741632\n",
            "[LightGBM] [Warning] bagging_fraction is set=0.7907252411951584, subsample=1.0 will be ignored. Current value: bagging_fraction=0.7907252411951584\n",
            "[LightGBM] [Warning] lambda_l1 is set=5.238685512402491e-06, reg_alpha=0.0 will be ignored. Current value: lambda_l1=5.238685512402491e-06\n"
          ],
          "name": "stdout"
        },
        {
          "output_type": "stream",
          "text": [
            "\u001b[32m[I 2021-07-03 09:46:11,503]\u001b[0m Trial 30 finished with value: 103.94130317065652 and parameters: {'lambda_l1': 5.238685512402491e-06, 'lambda_l2': 0.9330264060741632, 'num_leaves': 113, 'max_depth': 6, 'n_estimators': 3337, 'feature_fraction': 0.9485639040314328, 'bagging_fraction': 0.7907252411951584, 'bagging_freq': 6, 'min_child_samples': 13}. Best is trial 1 with value: 68.2245823893435.\u001b[0m\n"
          ],
          "name": "stderr"
        },
        {
          "output_type": "stream",
          "text": [
            "[LightGBM] [Warning] feature_fraction is set=0.8456039224486642, colsample_bytree=1.0 will be ignored. Current value: feature_fraction=0.8456039224486642\n",
            "[LightGBM] [Warning] bagging_freq is set=6, subsample_freq=0 will be ignored. Current value: bagging_freq=6\n",
            "[LightGBM] [Warning] lambda_l2 is set=0.011681208582494407, reg_lambda=0.0 will be ignored. Current value: lambda_l2=0.011681208582494407\n",
            "[LightGBM] [Warning] bagging_fraction is set=0.712747098225565, subsample=1.0 will be ignored. Current value: bagging_fraction=0.712747098225565\n",
            "[LightGBM] [Warning] lambda_l1 is set=4.1883465875895746e-07, reg_alpha=0.0 will be ignored. Current value: lambda_l1=4.1883465875895746e-07\n"
          ],
          "name": "stdout"
        },
        {
          "output_type": "stream",
          "text": [
            "\u001b[32m[I 2021-07-03 09:46:12,701]\u001b[0m Trial 31 finished with value: 69.7380789666321 and parameters: {'lambda_l1': 4.1883465875895746e-07, 'lambda_l2': 0.011681208582494407, 'num_leaves': 48, 'max_depth': 4, 'n_estimators': 3929, 'feature_fraction': 0.8456039224486642, 'bagging_fraction': 0.712747098225565, 'bagging_freq': 6, 'min_child_samples': 37}. Best is trial 1 with value: 68.2245823893435.\u001b[0m\n"
          ],
          "name": "stderr"
        },
        {
          "output_type": "stream",
          "text": [
            "[LightGBM] [Warning] feature_fraction is set=0.7753150238928894, colsample_bytree=1.0 will be ignored. Current value: feature_fraction=0.7753150238928894\n",
            "[LightGBM] [Warning] bagging_freq is set=5, subsample_freq=0 will be ignored. Current value: bagging_freq=5\n",
            "[LightGBM] [Warning] lambda_l2 is set=0.009843900884763586, reg_lambda=0.0 will be ignored. Current value: lambda_l2=0.009843900884763586\n",
            "[LightGBM] [Warning] bagging_fraction is set=0.7033300787966946, subsample=1.0 will be ignored. Current value: bagging_fraction=0.7033300787966946\n",
            "[LightGBM] [Warning] lambda_l1 is set=6.933439446112878e-07, reg_alpha=0.0 will be ignored. Current value: lambda_l1=6.933439446112878e-07\n"
          ],
          "name": "stdout"
        },
        {
          "output_type": "stream",
          "text": [
            "\u001b[32m[I 2021-07-03 09:46:13,676]\u001b[0m Trial 32 finished with value: 67.77519885281583 and parameters: {'lambda_l1': 6.933439446112878e-07, 'lambda_l2': 0.009843900884763586, 'num_leaves': 95, 'max_depth': 3, 'n_estimators': 3908, 'feature_fraction': 0.7753150238928894, 'bagging_fraction': 0.7033300787966946, 'bagging_freq': 5, 'min_child_samples': 38}. Best is trial 32 with value: 67.77519885281583.\u001b[0m\n"
          ],
          "name": "stderr"
        },
        {
          "output_type": "stream",
          "text": [
            "[LightGBM] [Warning] feature_fraction is set=0.770900940963003, colsample_bytree=1.0 will be ignored. Current value: feature_fraction=0.770900940963003\n",
            "[LightGBM] [Warning] bagging_freq is set=5, subsample_freq=0 will be ignored. Current value: bagging_freq=5\n",
            "[LightGBM] [Warning] lambda_l2 is set=0.002349695193344987, reg_lambda=0.0 will be ignored. Current value: lambda_l2=0.002349695193344987\n",
            "[LightGBM] [Warning] bagging_fraction is set=0.6634893230016086, subsample=1.0 will be ignored. Current value: bagging_fraction=0.6634893230016086\n",
            "[LightGBM] [Warning] lambda_l1 is set=1.2412526223857976e-06, reg_alpha=0.0 will be ignored. Current value: lambda_l1=1.2412526223857976e-06\n"
          ],
          "name": "stdout"
        },
        {
          "output_type": "stream",
          "text": [
            "\u001b[32m[I 2021-07-03 09:46:14,367]\u001b[0m Trial 33 finished with value: 69.45398282377937 and parameters: {'lambda_l1': 1.2412526223857976e-06, 'lambda_l2': 0.002349695193344987, 'num_leaves': 83, 'max_depth': 3, 'n_estimators': 2728, 'feature_fraction': 0.770900940963003, 'bagging_fraction': 0.6634893230016086, 'bagging_freq': 5, 'min_child_samples': 26}. Best is trial 32 with value: 67.77519885281583.\u001b[0m\n"
          ],
          "name": "stderr"
        },
        {
          "output_type": "stream",
          "text": [
            "[LightGBM] [Warning] feature_fraction is set=0.8109698082278238, colsample_bytree=1.0 will be ignored. Current value: feature_fraction=0.8109698082278238\n",
            "[LightGBM] [Warning] bagging_freq is set=4, subsample_freq=0 will be ignored. Current value: bagging_freq=4\n",
            "[LightGBM] [Warning] lambda_l2 is set=0.0012066704851500033, reg_lambda=0.0 will be ignored. Current value: lambda_l2=0.0012066704851500033\n",
            "[LightGBM] [Warning] bagging_fraction is set=0.7483332174356776, subsample=1.0 will be ignored. Current value: bagging_fraction=0.7483332174356776\n",
            "[LightGBM] [Warning] lambda_l1 is set=4.17692130190505e-05, reg_alpha=0.0 will be ignored. Current value: lambda_l1=4.17692130190505e-05\n"
          ],
          "name": "stdout"
        },
        {
          "output_type": "stream",
          "text": [
            "\u001b[32m[I 2021-07-03 09:46:14,977]\u001b[0m Trial 34 finished with value: 83.75409302531094 and parameters: {'lambda_l1': 4.17692130190505e-05, 'lambda_l2': 0.0012066704851500033, 'num_leaves': 3, 'max_depth': 3, 'n_estimators': 3280, 'feature_fraction': 0.8109698082278238, 'bagging_fraction': 0.7483332174356776, 'bagging_freq': 4, 'min_child_samples': 39}. Best is trial 32 with value: 67.77519885281583.\u001b[0m\n"
          ],
          "name": "stderr"
        },
        {
          "output_type": "stream",
          "text": [
            "[LightGBM] [Warning] feature_fraction is set=0.9242757612217026, colsample_bytree=1.0 will be ignored. Current value: feature_fraction=0.9242757612217026\n",
            "[LightGBM] [Warning] bagging_freq is set=5, subsample_freq=0 will be ignored. Current value: bagging_freq=5\n",
            "[LightGBM] [Warning] lambda_l2 is set=0.015967861745800383, reg_lambda=0.0 will be ignored. Current value: lambda_l2=0.015967861745800383\n",
            "[LightGBM] [Warning] bagging_fraction is set=0.6201655597229148, subsample=1.0 will be ignored. Current value: bagging_fraction=0.6201655597229148\n",
            "[LightGBM] [Warning] lambda_l1 is set=3.0925815695686164e-06, reg_alpha=0.0 will be ignored. Current value: lambda_l1=3.0925815695686164e-06\n"
          ],
          "name": "stdout"
        },
        {
          "output_type": "stream",
          "text": [
            "\u001b[32m[I 2021-07-03 09:46:16,094]\u001b[0m Trial 35 finished with value: 69.40967229893587 and parameters: {'lambda_l1': 3.0925815695686164e-06, 'lambda_l2': 0.015967861745800383, 'num_leaves': 125, 'max_depth': 3, 'n_estimators': 4367, 'feature_fraction': 0.9242757612217026, 'bagging_fraction': 0.6201655597229148, 'bagging_freq': 5, 'min_child_samples': 31}. Best is trial 32 with value: 67.77519885281583.\u001b[0m\n"
          ],
          "name": "stderr"
        },
        {
          "output_type": "stream",
          "text": [
            "[LightGBM] [Warning] feature_fraction is set=0.9689976512076663, colsample_bytree=1.0 will be ignored. Current value: feature_fraction=0.9689976512076663\n",
            "[LightGBM] [Warning] bagging_freq is set=7, subsample_freq=0 will be ignored. Current value: bagging_freq=7\n",
            "[LightGBM] [Warning] lambda_l2 is set=0.07728059834779502, reg_lambda=0.0 will be ignored. Current value: lambda_l2=0.07728059834779502\n",
            "[LightGBM] [Warning] bagging_fraction is set=0.6801525970382309, subsample=1.0 will be ignored. Current value: bagging_fraction=0.6801525970382309\n",
            "[LightGBM] [Warning] lambda_l1 is set=0.00023035809545990645, reg_alpha=0.0 will be ignored. Current value: lambda_l1=0.00023035809545990645\n"
          ],
          "name": "stdout"
        },
        {
          "output_type": "stream",
          "text": [
            "\u001b[32m[I 2021-07-03 09:46:16,705]\u001b[0m Trial 36 finished with value: 73.53002867018955 and parameters: {'lambda_l1': 0.00023035809545990645, 'lambda_l2': 0.07728059834779502, 'num_leaves': 180, 'max_depth': 3, 'n_estimators': 2298, 'feature_fraction': 0.9689976512076663, 'bagging_fraction': 0.6801525970382309, 'bagging_freq': 7, 'min_child_samples': 49}. Best is trial 32 with value: 67.77519885281583.\u001b[0m\n"
          ],
          "name": "stderr"
        },
        {
          "output_type": "stream",
          "text": [
            "[LightGBM] [Warning] feature_fraction is set=0.6799896576109249, colsample_bytree=1.0 will be ignored. Current value: feature_fraction=0.6799896576109249\n",
            "[LightGBM] [Warning] bagging_freq is set=6, subsample_freq=0 will be ignored. Current value: bagging_freq=6\n",
            "[LightGBM] [Warning] lambda_l2 is set=0.00365564781783537, reg_lambda=0.0 will be ignored. Current value: lambda_l2=0.00365564781783537\n",
            "[LightGBM] [Warning] bagging_fraction is set=0.8187865503548556, subsample=1.0 will be ignored. Current value: bagging_fraction=0.8187865503548556\n",
            "[LightGBM] [Warning] lambda_l1 is set=2.897285138402634e-07, reg_alpha=0.0 will be ignored. Current value: lambda_l1=2.897285138402634e-07\n"
          ],
          "name": "stdout"
        },
        {
          "output_type": "stream",
          "text": [
            "\u001b[32m[I 2021-07-03 09:46:18,158]\u001b[0m Trial 37 finished with value: 65.47700831201462 and parameters: {'lambda_l1': 2.897285138402634e-07, 'lambda_l2': 0.00365564781783537, 'num_leaves': 89, 'max_depth': 4, 'n_estimators': 4170, 'feature_fraction': 0.6799896576109249, 'bagging_fraction': 0.8187865503548556, 'bagging_freq': 6, 'min_child_samples': 20}. Best is trial 37 with value: 65.47700831201462.\u001b[0m\n"
          ],
          "name": "stderr"
        },
        {
          "output_type": "stream",
          "text": [
            "[LightGBM] [Warning] feature_fraction is set=0.6305292483774079, colsample_bytree=1.0 will be ignored. Current value: feature_fraction=0.6305292483774079\n",
            "[LightGBM] [Warning] bagging_freq is set=4, subsample_freq=0 will be ignored. Current value: bagging_freq=4\n",
            "[LightGBM] [Warning] lambda_l2 is set=0.003988285558711171, reg_lambda=0.0 will be ignored. Current value: lambda_l2=0.003988285558711171\n",
            "[LightGBM] [Warning] bagging_fraction is set=0.8382605479138953, subsample=1.0 will be ignored. Current value: bagging_fraction=0.8382605479138953\n",
            "[LightGBM] [Warning] lambda_l1 is set=0.08103833153437869, reg_alpha=0.0 will be ignored. Current value: lambda_l1=0.08103833153437869\n"
          ],
          "name": "stdout"
        },
        {
          "output_type": "stream",
          "text": [
            "\u001b[32m[I 2021-07-03 09:46:19,940]\u001b[0m Trial 38 finished with value: 66.5813999610059 and parameters: {'lambda_l1': 0.08103833153437869, 'lambda_l2': 0.003988285558711171, 'num_leaves': 92, 'max_depth': 5, 'n_estimators': 4176, 'feature_fraction': 0.6305292483774079, 'bagging_fraction': 0.8382605479138953, 'bagging_freq': 4, 'min_child_samples': 16}. Best is trial 37 with value: 65.47700831201462.\u001b[0m\n"
          ],
          "name": "stderr"
        },
        {
          "output_type": "stream",
          "text": [
            "[LightGBM] [Warning] feature_fraction is set=0.6545599625224247, colsample_bytree=1.0 will be ignored. Current value: feature_fraction=0.6545599625224247\n",
            "[LightGBM] [Warning] bagging_freq is set=4, subsample_freq=0 will be ignored. Current value: bagging_freq=4\n",
            "[LightGBM] [Warning] lambda_l2 is set=0.001337440493169704, reg_lambda=0.0 will be ignored. Current value: lambda_l2=0.001337440493169704\n",
            "[LightGBM] [Warning] bagging_fraction is set=0.7917239084922874, subsample=1.0 will be ignored. Current value: bagging_fraction=0.7917239084922874\n",
            "[LightGBM] [Warning] lambda_l1 is set=0.037113466772583696, reg_alpha=0.0 will be ignored. Current value: lambda_l1=0.037113466772583696\n"
          ],
          "name": "stdout"
        },
        {
          "output_type": "stream",
          "text": [
            "\u001b[32m[I 2021-07-03 09:46:21,950]\u001b[0m Trial 39 finished with value: 68.12675992566635 and parameters: {'lambda_l1': 0.037113466772583696, 'lambda_l2': 0.001337440493169704, 'num_leaves': 88, 'max_depth': 5, 'n_estimators': 4235, 'feature_fraction': 0.6545599625224247, 'bagging_fraction': 0.7917239084922874, 'bagging_freq': 4, 'min_child_samples': 15}. Best is trial 37 with value: 65.47700831201462.\u001b[0m\n"
          ],
          "name": "stderr"
        },
        {
          "output_type": "stream",
          "text": [
            "[LightGBM] [Warning] feature_fraction is set=0.6572490301121829, colsample_bytree=1.0 will be ignored. Current value: feature_fraction=0.6572490301121829\n",
            "[LightGBM] [Warning] bagging_freq is set=3, subsample_freq=0 will be ignored. Current value: bagging_freq=3\n",
            "[LightGBM] [Warning] lambda_l2 is set=6.147565815887788e-05, reg_lambda=0.0 will be ignored. Current value: lambda_l2=6.147565815887788e-05\n",
            "[LightGBM] [Warning] bagging_fraction is set=0.843060285702147, subsample=1.0 will be ignored. Current value: bagging_fraction=0.843060285702147\n",
            "[LightGBM] [Warning] lambda_l1 is set=0.1417946961934106, reg_alpha=0.0 will be ignored. Current value: lambda_l1=0.1417946961934106\n"
          ],
          "name": "stdout"
        },
        {
          "output_type": "stream",
          "text": [
            "\u001b[32m[I 2021-07-03 09:46:24,272]\u001b[0m Trial 40 finished with value: 143.37047718438484 and parameters: {'lambda_l1': 0.1417946961934106, 'lambda_l2': 6.147565815887788e-05, 'num_leaves': 94, 'max_depth': 5, 'n_estimators': 4189, 'feature_fraction': 0.6572490301121829, 'bagging_fraction': 0.843060285702147, 'bagging_freq': 3, 'min_child_samples': 15}. Best is trial 37 with value: 65.47700831201462.\u001b[0m\n"
          ],
          "name": "stderr"
        },
        {
          "output_type": "stream",
          "text": [
            "[LightGBM] [Warning] feature_fraction is set=0.5008785352223447, colsample_bytree=1.0 will be ignored. Current value: feature_fraction=0.5008785352223447\n",
            "[LightGBM] [Warning] bagging_freq is set=4, subsample_freq=0 will be ignored. Current value: bagging_freq=4\n",
            "[LightGBM] [Warning] lambda_l2 is set=0.0010207127649325268, reg_lambda=0.0 will be ignored. Current value: lambda_l2=0.0010207127649325268\n",
            "[LightGBM] [Warning] bagging_fraction is set=0.8111461277730591, subsample=1.0 will be ignored. Current value: bagging_fraction=0.8111461277730591\n",
            "[LightGBM] [Warning] lambda_l1 is set=0.08071802526324821, reg_alpha=0.0 will be ignored. Current value: lambda_l1=0.08071802526324821\n"
          ],
          "name": "stdout"
        },
        {
          "output_type": "stream",
          "text": [
            "\u001b[32m[I 2021-07-03 09:46:26,367]\u001b[0m Trial 41 finished with value: 69.76879254295662 and parameters: {'lambda_l1': 0.08071802526324821, 'lambda_l2': 0.0010207127649325268, 'num_leaves': 137, 'max_depth': 5, 'n_estimators': 4541, 'feature_fraction': 0.5008785352223447, 'bagging_fraction': 0.8111461277730591, 'bagging_freq': 4, 'min_child_samples': 15}. Best is trial 37 with value: 65.47700831201462.\u001b[0m\n"
          ],
          "name": "stderr"
        },
        {
          "output_type": "stream",
          "text": [
            "[LightGBM] [Warning] feature_fraction is set=0.6199850230421977, colsample_bytree=1.0 will be ignored. Current value: feature_fraction=0.6199850230421977\n",
            "[LightGBM] [Warning] bagging_freq is set=4, subsample_freq=0 will be ignored. Current value: bagging_freq=4\n",
            "[LightGBM] [Warning] lambda_l2 is set=0.00029869339456754064, reg_lambda=0.0 will be ignored. Current value: lambda_l2=0.00029869339456754064\n",
            "[LightGBM] [Warning] bagging_fraction is set=0.780120266936442, subsample=1.0 will be ignored. Current value: bagging_fraction=0.780120266936442\n",
            "[LightGBM] [Warning] lambda_l1 is set=0.045271139462990745, reg_alpha=0.0 will be ignored. Current value: lambda_l1=0.045271139462990745\n"
          ],
          "name": "stdout"
        },
        {
          "output_type": "stream",
          "text": [
            "\u001b[32m[I 2021-07-03 09:46:28,158]\u001b[0m Trial 42 finished with value: 91.99812603562292 and parameters: {'lambda_l1': 0.045271139462990745, 'lambda_l2': 0.00029869339456754064, 'num_leaves': 154, 'max_depth': 4, 'n_estimators': 4708, 'feature_fraction': 0.6199850230421977, 'bagging_fraction': 0.780120266936442, 'bagging_freq': 4, 'min_child_samples': 22}. Best is trial 37 with value: 65.47700831201462.\u001b[0m\n"
          ],
          "name": "stderr"
        },
        {
          "output_type": "stream",
          "text": [
            "[LightGBM] [Warning] feature_fraction is set=0.6861358517564461, colsample_bytree=1.0 will be ignored. Current value: feature_fraction=0.6861358517564461\n",
            "[LightGBM] [Warning] bagging_freq is set=5, subsample_freq=0 will be ignored. Current value: bagging_freq=5\n",
            "[LightGBM] [Warning] lambda_l2 is set=0.0024930661642714636, reg_lambda=0.0 will be ignored. Current value: lambda_l2=0.0024930661642714636\n",
            "[LightGBM] [Warning] bagging_fraction is set=0.8818295361642811, subsample=1.0 will be ignored. Current value: bagging_fraction=0.8818295361642811\n",
            "[LightGBM] [Warning] lambda_l1 is set=0.5816949305710215, reg_alpha=0.0 will be ignored. Current value: lambda_l1=0.5816949305710215\n"
          ],
          "name": "stdout"
        },
        {
          "output_type": "stream",
          "text": [
            "\u001b[32m[I 2021-07-03 09:46:30,016]\u001b[0m Trial 43 finished with value: 65.95959291306336 and parameters: {'lambda_l1': 0.5816949305710215, 'lambda_l2': 0.0024930661642714636, 'num_leaves': 91, 'max_depth': 5, 'n_estimators': 3732, 'feature_fraction': 0.6861358517564461, 'bagging_fraction': 0.8818295361642811, 'bagging_freq': 5, 'min_child_samples': 12}. Best is trial 37 with value: 65.47700831201462.\u001b[0m\n"
          ],
          "name": "stderr"
        },
        {
          "output_type": "stream",
          "text": [
            "[LightGBM] [Warning] feature_fraction is set=0.694649336674864, colsample_bytree=1.0 will be ignored. Current value: feature_fraction=0.694649336674864\n",
            "[LightGBM] [Warning] bagging_freq is set=4, subsample_freq=0 will be ignored. Current value: bagging_freq=4\n",
            "[LightGBM] [Warning] lambda_l2 is set=0.0015487656142613338, reg_lambda=0.0 will be ignored. Current value: lambda_l2=0.0015487656142613338\n",
            "[LightGBM] [Warning] bagging_fraction is set=0.8904034644477615, subsample=1.0 will be ignored. Current value: bagging_fraction=0.8904034644477615\n",
            "[LightGBM] [Warning] lambda_l1 is set=0.004451746482349735, reg_alpha=0.0 will be ignored. Current value: lambda_l1=0.004451746482349735\n"
          ],
          "name": "stdout"
        },
        {
          "output_type": "stream",
          "text": [
            "\u001b[32m[I 2021-07-03 09:46:32,242]\u001b[0m Trial 44 finished with value: 66.0828160805039 and parameters: {'lambda_l1': 0.004451746482349735, 'lambda_l2': 0.0015487656142613338, 'num_leaves': 94, 'max_depth': 5, 'n_estimators': 4296, 'feature_fraction': 0.694649336674864, 'bagging_fraction': 0.8904034644477615, 'bagging_freq': 4, 'min_child_samples': 10}. Best is trial 37 with value: 65.47700831201462.\u001b[0m\n"
          ],
          "name": "stderr"
        },
        {
          "output_type": "stream",
          "text": [
            "[LightGBM] [Warning] feature_fraction is set=0.6912647996827558, colsample_bytree=1.0 will be ignored. Current value: feature_fraction=0.6912647996827558\n",
            "[LightGBM] [Warning] bagging_freq is set=3, subsample_freq=0 will be ignored. Current value: bagging_freq=3\n",
            "[LightGBM] [Warning] lambda_l2 is set=0.0022411177210349058, reg_lambda=0.0 will be ignored. Current value: lambda_l2=0.0022411177210349058\n",
            "[LightGBM] [Warning] bagging_fraction is set=0.9692205317999674, subsample=1.0 will be ignored. Current value: bagging_fraction=0.9692205317999674\n",
            "[LightGBM] [Warning] lambda_l1 is set=0.97409057602456, reg_alpha=0.0 will be ignored. Current value: lambda_l1=0.97409057602456\n"
          ],
          "name": "stdout"
        },
        {
          "output_type": "stream",
          "text": [
            "\u001b[32m[I 2021-07-03 09:46:34,298]\u001b[0m Trial 45 finished with value: 66.54621693719595 and parameters: {'lambda_l1': 0.97409057602456, 'lambda_l2': 0.0022411177210349058, 'num_leaves': 129, 'max_depth': 5, 'n_estimators': 3497, 'feature_fraction': 0.6912647996827558, 'bagging_fraction': 0.9692205317999674, 'bagging_freq': 3, 'min_child_samples': 5}. Best is trial 37 with value: 65.47700831201462.\u001b[0m\n"
          ],
          "name": "stderr"
        },
        {
          "output_type": "stream",
          "text": [
            "[LightGBM] [Warning] feature_fraction is set=0.6907857835302649, colsample_bytree=1.0 will be ignored. Current value: feature_fraction=0.6907857835302649\n",
            "[LightGBM] [Warning] bagging_freq is set=3, subsample_freq=0 will be ignored. Current value: bagging_freq=3\n",
            "[LightGBM] [Warning] lambda_l2 is set=0.002293955675468287, reg_lambda=0.0 will be ignored. Current value: lambda_l2=0.002293955675468287\n",
            "[LightGBM] [Warning] bagging_fraction is set=0.9840748545936858, subsample=1.0 will be ignored. Current value: bagging_fraction=0.9840748545936858\n",
            "[LightGBM] [Warning] lambda_l1 is set=0.911386313567701, reg_alpha=0.0 will be ignored. Current value: lambda_l1=0.911386313567701\n"
          ],
          "name": "stdout"
        },
        {
          "output_type": "stream",
          "text": [
            "\u001b[32m[I 2021-07-03 09:46:36,254]\u001b[0m Trial 46 finished with value: 65.73120733570985 and parameters: {'lambda_l1': 0.911386313567701, 'lambda_l2': 0.002293955675468287, 'num_leaves': 126, 'max_depth': 5, 'n_estimators': 3688, 'feature_fraction': 0.6907857835302649, 'bagging_fraction': 0.9840748545936858, 'bagging_freq': 3, 'min_child_samples': 9}. Best is trial 37 with value: 65.47700831201462.\u001b[0m\n"
          ],
          "name": "stderr"
        },
        {
          "output_type": "stream",
          "text": [
            "[LightGBM] [Warning] feature_fraction is set=0.6894291505793495, colsample_bytree=1.0 will be ignored. Current value: feature_fraction=0.6894291505793495\n",
            "[LightGBM] [Warning] bagging_freq is set=3, subsample_freq=0 will be ignored. Current value: bagging_freq=3\n",
            "[LightGBM] [Warning] lambda_l2 is set=8.243222172966609e-06, reg_lambda=0.0 will be ignored. Current value: lambda_l2=8.243222172966609e-06\n",
            "[LightGBM] [Warning] bagging_fraction is set=0.9933142319078488, subsample=1.0 will be ignored. Current value: bagging_fraction=0.9933142319078488\n",
            "[LightGBM] [Warning] lambda_l1 is set=0.7723357260574077, reg_alpha=0.0 will be ignored. Current value: lambda_l1=0.7723357260574077\n"
          ],
          "name": "stdout"
        },
        {
          "output_type": "stream",
          "text": [
            "\u001b[32m[I 2021-07-03 09:46:38,548]\u001b[0m Trial 47 finished with value: 164.691249318221 and parameters: {'lambda_l1': 0.7723357260574077, 'lambda_l2': 8.243222172966609e-06, 'num_leaves': 124, 'max_depth': 5, 'n_estimators': 3741, 'feature_fraction': 0.6894291505793495, 'bagging_fraction': 0.9933142319078488, 'bagging_freq': 3, 'min_child_samples': 8}. Best is trial 37 with value: 65.47700831201462.\u001b[0m\n"
          ],
          "name": "stderr"
        },
        {
          "output_type": "stream",
          "text": [
            "[LightGBM] [Warning] feature_fraction is set=0.7077509504125293, colsample_bytree=1.0 will be ignored. Current value: feature_fraction=0.7077509504125293\n",
            "[LightGBM] [Warning] bagging_freq is set=2, subsample_freq=0 will be ignored. Current value: bagging_freq=2\n",
            "[LightGBM] [Warning] lambda_l2 is set=0.0007823504051765781, reg_lambda=0.0 will be ignored. Current value: lambda_l2=0.0007823504051765781\n",
            "[LightGBM] [Warning] bagging_fraction is set=0.9652566499690516, subsample=1.0 will be ignored. Current value: bagging_fraction=0.9652566499690516\n",
            "[LightGBM] [Warning] lambda_l1 is set=0.3077454896035705, reg_alpha=0.0 will be ignored. Current value: lambda_l1=0.3077454896035705\n"
          ],
          "name": "stdout"
        },
        {
          "output_type": "stream",
          "text": [
            "\u001b[32m[I 2021-07-03 09:46:41,821]\u001b[0m Trial 48 finished with value: 72.76843848555889 and parameters: {'lambda_l1': 0.3077454896035705, 'lambda_l2': 0.0007823504051765781, 'num_leaves': 206, 'max_depth': 6, 'n_estimators': 3469, 'feature_fraction': 0.7077509504125293, 'bagging_fraction': 0.9652566499690516, 'bagging_freq': 2, 'min_child_samples': 5}. Best is trial 37 with value: 65.47700831201462.\u001b[0m\n"
          ],
          "name": "stderr"
        },
        {
          "output_type": "stream",
          "text": [
            "[LightGBM] [Warning] feature_fraction is set=0.7369313686767585, colsample_bytree=1.0 will be ignored. Current value: feature_fraction=0.7369313686767585\n",
            "[LightGBM] [Warning] bagging_freq is set=2, subsample_freq=0 will be ignored. Current value: bagging_freq=2\n",
            "[LightGBM] [Warning] lambda_l2 is set=1.7820979457059422e-07, reg_lambda=0.0 will be ignored. Current value: lambda_l2=1.7820979457059422e-07\n",
            "[LightGBM] [Warning] bagging_fraction is set=0.958285045095513, subsample=1.0 will be ignored. Current value: bagging_fraction=0.958285045095513\n",
            "[LightGBM] [Warning] lambda_l1 is set=0.006696428249371957, reg_alpha=0.0 will be ignored. Current value: lambda_l1=0.006696428249371957\n"
          ],
          "name": "stdout"
        },
        {
          "output_type": "stream",
          "text": [
            "\u001b[32m[I 2021-07-03 09:46:44,079]\u001b[0m Trial 49 finished with value: 168.01796158020093 and parameters: {'lambda_l1': 0.006696428249371957, 'lambda_l2': 1.7820979457059422e-07, 'num_leaves': 177, 'max_depth': 5, 'n_estimators': 3740, 'feature_fraction': 0.7369313686767585, 'bagging_fraction': 0.958285045095513, 'bagging_freq': 2, 'min_child_samples': 11}. Best is trial 37 with value: 65.47700831201462.\u001b[0m\n"
          ],
          "name": "stderr"
        }
      ]
    },
    {
      "cell_type": "code",
      "metadata": {
        "colab": {
          "base_uri": "https://localhost:8080/"
        },
        "id": "7_2eGQpfu4Ng",
        "outputId": "4607f217-6ce0-447c-c473-c7743b05ad0b"
      },
      "source": [
        " sampler = TPESampler(seed=10)\n",
        " def objective(trial):\n",
        "\n",
        "     param = {\n",
        "         'objective': 'regression', # 회귀\n",
        "         'metric': 'mae', \n",
        "         'verbosity': -1,\n",
        "         'boosting_type': 'gbdt', # gradient boosting decision tree\n",
        "         'lambda_l1': trial.suggest_loguniform('lambda_l1', 1e-8, 1),\n",
        "         'lambda_l2': trial.suggest_loguniform('lambda_l2', 1e-8, 1),\n",
        "         'num_leaves': trial.suggest_int('num_leaves', 2, 400),\n",
        "         'max_depth': trial.suggest_int('max_depth',3, 9),\n",
        "         'learning_rate': trial.suggest_loguniform('lambda_l2', 1e-8, 1),\n",
        "         'n_estimators': trial.suggest_int('n_estimators', 700, 5000),\n",
        "         'feature_fraction': trial.suggest_uniform('feature_fraction', 0.4, 1.0),\n",
        "         'bagging_fraction': trial.suggest_uniform('bagging_fraction', 0.4, 1.0),\n",
        "         'bagging_freq': trial.suggest_int('bagging_freq', 1, 7),\n",
        "         'min_child_samples': trial.suggest_int('min_child_samples', 5, 100),\n",
        "     }\n",
        "\n",
        "     lgbm_regr = lgb.LGBMRegressor(**param)\n",
        "     lgbm = lgbm_regr.fit(d_X_train, d_y_train , eval_set = [(d_X_train, d_y_train)], verbose=False)\n",
        "     mae = mean_absolute_error(d_y_test, lgbm.predict(d_X_test))\n",
        "     return mae\n",
        "        \n",
        "d_study_lgb = optuna.create_study(direction='minimize', sampler=sampler)\n",
        "d_study_lgb.optimize(objective, n_trials=50)"
      ],
      "execution_count": null,
      "outputs": [
        {
          "output_type": "stream",
          "text": [
            "\u001b[32m[I 2021-07-03 09:46:44,107]\u001b[0m A new study created in memory with name: no-name-cd3128f2-f5f0-4590-9022-efe33303dc43\u001b[0m\n"
          ],
          "name": "stderr"
        },
        {
          "output_type": "stream",
          "text": [
            "[LightGBM] [Warning] feature_fraction is set=0.5348779873185086, colsample_bytree=1.0 will be ignored. Current value: feature_fraction=0.5348779873185086\n",
            "[LightGBM] [Warning] bagging_freq is set=6, subsample_freq=0 will be ignored. Current value: bagging_freq=6\n",
            "[LightGBM] [Warning] lambda_l2 is set=1.4656004675652718e-08, reg_lambda=0.0 will be ignored. Current value: lambda_l2=1.4656004675652718e-08\n",
            "[LightGBM] [Warning] bagging_fraction is set=0.5188377188557745, subsample=1.0 will be ignored. Current value: bagging_fraction=0.5188377188557745\n",
            "[LightGBM] [Warning] lambda_l1 is set=0.014810344004555135, reg_alpha=0.0 will be ignored. Current value: lambda_l1=0.014810344004555135\n"
          ],
          "name": "stdout"
        },
        {
          "output_type": "stream",
          "text": [
            "\u001b[32m[I 2021-07-03 09:46:45,565]\u001b[0m Trial 0 finished with value: 102.27037999911656 and parameters: {'lambda_l1': 0.014810344004555135, 'lambda_l2': 1.4656004675652718e-08, 'num_leaves': 254, 'max_depth': 8, 'n_estimators': 2844, 'feature_fraction': 0.5348779873185086, 'bagging_fraction': 0.5188377188557745, 'bagging_freq': 6, 'min_child_samples': 21}. Best is trial 0 with value: 102.27037999911656.\u001b[0m\n"
          ],
          "name": "stderr"
        },
        {
          "output_type": "stream",
          "text": [
            "[LightGBM] [Warning] feature_fraction is set=0.8875725769912681, colsample_bytree=1.0 will be ignored. Current value: feature_fraction=0.8875725769912681\n",
            "[LightGBM] [Warning] bagging_freq is set=6, subsample_freq=0 will be ignored. Current value: bagging_freq=6\n",
            "[LightGBM] [Warning] lambda_l2 is set=0.003040034742832493, reg_lambda=0.0 will be ignored. Current value: lambda_l2=0.003040034742832493\n",
            "[LightGBM] [Warning] bagging_fraction is set=0.7675156400976328, subsample=1.0 will be ignored. Current value: bagging_fraction=0.7675156400976328\n",
            "[LightGBM] [Warning] lambda_l1 is set=5.090008568091192e-08, reg_alpha=0.0 will be ignored. Current value: lambda_l1=5.090008568091192e-08\n"
          ],
          "name": "stdout"
        },
        {
          "output_type": "stream",
          "text": [
            "\u001b[32m[I 2021-07-03 09:46:46,345]\u001b[0m Trial 1 finished with value: 50.88575106945658 and parameters: {'lambda_l1': 5.090008568091192e-08, 'lambda_l2': 0.003040034742832493, 'num_leaves': 382, 'max_depth': 3, 'n_estimators': 2902, 'feature_fraction': 0.8875725769912681, 'bagging_fraction': 0.7675156400976328, 'bagging_freq': 6, 'min_child_samples': 33}. Best is trial 1 with value: 50.88575106945658.\u001b[0m\n"
          ],
          "name": "stderr"
        },
        {
          "output_type": "stream",
          "text": [
            "[LightGBM] [Warning] feature_fraction is set=0.8044801690398071, colsample_bytree=1.0 will be ignored. Current value: feature_fraction=0.8044801690398071\n",
            "[LightGBM] [Warning] bagging_freq is set=4, subsample_freq=0 will be ignored. Current value: bagging_freq=4\n",
            "[LightGBM] [Warning] lambda_l2 is set=0.005207224083783965, reg_lambda=0.0 will be ignored. Current value: lambda_l2=0.005207224083783965\n",
            "[LightGBM] [Warning] bagging_fraction is set=0.6650999046537976, subsample=1.0 will be ignored. Current value: bagging_fraction=0.6650999046537976\n",
            "[LightGBM] [Warning] lambda_l1 is set=0.21988367156694333, reg_alpha=0.0 will be ignored. Current value: lambda_l1=0.21988367156694333\n"
          ],
          "name": "stdout"
        },
        {
          "output_type": "stream",
          "text": [
            "\u001b[32m[I 2021-07-03 09:46:46,881]\u001b[0m Trial 2 finished with value: 56.39333400168846 and parameters: {'lambda_l1': 0.21988367156694333, 'lambda_l2': 0.005207224083783965, 'num_leaves': 218, 'max_depth': 3, 'n_estimators': 2305, 'feature_fraction': 0.8044801690398071, 'bagging_fraction': 0.6650999046537976, 'bagging_freq': 4, 'min_child_samples': 64}. Best is trial 1 with value: 50.88575106945658.\u001b[0m\n"
          ],
          "name": "stderr"
        },
        {
          "output_type": "stream",
          "text": [
            "[LightGBM] [Warning] feature_fraction is set=0.945189328485201, colsample_bytree=1.0 will be ignored. Current value: feature_fraction=0.945189328485201\n",
            "[LightGBM] [Warning] bagging_freq is set=1, subsample_freq=0 will be ignored. Current value: bagging_freq=1\n",
            "[LightGBM] [Warning] lambda_l2 is set=0.0015965313667163816, reg_lambda=0.0 will be ignored. Current value: lambda_l2=0.0015965313667163816\n",
            "[LightGBM] [Warning] bagging_fraction is set=0.5915416533931271, subsample=1.0 will be ignored. Current value: bagging_fraction=0.5915416533931271\n",
            "[LightGBM] [Warning] lambda_l1 is set=0.00012738137732610437, reg_alpha=0.0 will be ignored. Current value: lambda_l1=0.00012738137732610437\n"
          ],
          "name": "stdout"
        },
        {
          "output_type": "stream",
          "text": [
            "\u001b[32m[I 2021-07-03 09:46:48,277]\u001b[0m Trial 3 finished with value: 52.97165045557678 and parameters: {'lambda_l1': 0.00012738137732610437, 'lambda_l2': 0.0015965313667163816, 'num_leaves': 241, 'max_depth': 8, 'n_estimators': 2943, 'feature_fraction': 0.945189328485201, 'bagging_fraction': 0.5915416533931271, 'bagging_freq': 1, 'min_child_samples': 33}. Best is trial 1 with value: 50.88575106945658.\u001b[0m\n"
          ],
          "name": "stderr"
        },
        {
          "output_type": "stream",
          "text": [
            "[LightGBM] [Warning] feature_fraction is set=0.8915721974020412, colsample_bytree=1.0 will be ignored. Current value: feature_fraction=0.8915721974020412\n",
            "[LightGBM] [Warning] bagging_freq is set=6, subsample_freq=0 will be ignored. Current value: bagging_freq=6\n",
            "[LightGBM] [Warning] lambda_l2 is set=0.042604022999246406, reg_lambda=0.0 will be ignored. Current value: lambda_l2=0.042604022999246406\n",
            "[LightGBM] [Warning] bagging_fraction is set=0.5193685238072874, subsample=1.0 will be ignored. Current value: bagging_fraction=0.5193685238072874\n",
            "[LightGBM] [Warning] lambda_l1 is set=8.163471763379958e-08, reg_alpha=0.0 will be ignored. Current value: lambda_l1=8.163471763379958e-08\n"
          ],
          "name": "stdout"
        },
        {
          "output_type": "stream",
          "text": [
            "\u001b[32m[I 2021-07-03 09:46:49,387]\u001b[0m Trial 4 finished with value: 57.87950806994835 and parameters: {'lambda_l1': 8.163471763379958e-08, 'lambda_l2': 0.042604022999246406, 'num_leaves': 20, 'max_depth': 7, 'n_estimators': 3055, 'feature_fraction': 0.8915721974020412, 'bagging_fraction': 0.5193685238072874, 'bagging_freq': 6, 'min_child_samples': 38}. Best is trial 1 with value: 50.88575106945658.\u001b[0m\n"
          ],
          "name": "stderr"
        },
        {
          "output_type": "stream",
          "text": [
            "[LightGBM] [Warning] feature_fraction is set=0.6355175463679523, colsample_bytree=1.0 will be ignored. Current value: feature_fraction=0.6355175463679523\n",
            "[LightGBM] [Warning] bagging_freq is set=6, subsample_freq=0 will be ignored. Current value: bagging_freq=6\n",
            "[LightGBM] [Warning] lambda_l2 is set=2.3318126555538504e-06, reg_lambda=0.0 will be ignored. Current value: lambda_l2=2.3318126555538504e-06\n",
            "[LightGBM] [Warning] bagging_fraction is set=0.4560762247351902, subsample=1.0 will be ignored. Current value: bagging_fraction=0.4560762247351902\n",
            "[LightGBM] [Warning] lambda_l1 is set=0.010893853540963833, reg_alpha=0.0 will be ignored. Current value: lambda_l1=0.010893853540963833\n"
          ],
          "name": "stdout"
        },
        {
          "output_type": "stream",
          "text": [
            "\u001b[32m[I 2021-07-03 09:46:50,003]\u001b[0m Trial 5 finished with value: 102.09636719794584 and parameters: {'lambda_l1': 0.010893853540963833, 'lambda_l2': 2.3318126555538504e-06, 'num_leaves': 354, 'max_depth': 5, 'n_estimators': 1409, 'feature_fraction': 0.6355175463679523, 'bagging_fraction': 0.4560762247351902, 'bagging_freq': 6, 'min_child_samples': 19}. Best is trial 1 with value: 50.88575106945658.\u001b[0m\n"
          ],
          "name": "stderr"
        },
        {
          "output_type": "stream",
          "text": [
            "[LightGBM] [Warning] feature_fraction is set=0.5508244805242356, colsample_bytree=1.0 will be ignored. Current value: feature_fraction=0.5508244805242356\n",
            "[LightGBM] [Warning] bagging_freq is set=7, subsample_freq=0 will be ignored. Current value: bagging_freq=7\n",
            "[LightGBM] [Warning] lambda_l2 is set=0.3581671060741645, reg_lambda=0.0 will be ignored. Current value: lambda_l2=0.3581671060741645\n",
            "[LightGBM] [Warning] bagging_fraction is set=0.7584229889385306, subsample=1.0 will be ignored. Current value: bagging_fraction=0.7584229889385306\n",
            "[LightGBM] [Warning] lambda_l1 is set=1.1828116394242723e-05, reg_alpha=0.0 will be ignored. Current value: lambda_l1=1.1828116394242723e-05\n"
          ],
          "name": "stdout"
        },
        {
          "output_type": "stream",
          "text": [
            "\u001b[32m[I 2021-07-03 09:46:51,413]\u001b[0m Trial 6 finished with value: 59.6568606510387 and parameters: {'lambda_l1': 1.1828116394242723e-05, 'lambda_l2': 0.3581671060741645, 'num_leaves': 396, 'max_depth': 6, 'n_estimators': 4253, 'feature_fraction': 0.5508244805242356, 'bagging_fraction': 0.7584229889385306, 'bagging_freq': 7, 'min_child_samples': 56}. Best is trial 1 with value: 50.88575106945658.\u001b[0m\n"
          ],
          "name": "stderr"
        },
        {
          "output_type": "stream",
          "text": [
            "[LightGBM] [Warning] feature_fraction is set=0.5984315871892792, colsample_bytree=1.0 will be ignored. Current value: feature_fraction=0.5984315871892792\n",
            "[LightGBM] [Warning] bagging_freq is set=1, subsample_freq=0 will be ignored. Current value: bagging_freq=1\n",
            "[LightGBM] [Warning] lambda_l2 is set=2.0618360930258403e-08, reg_lambda=0.0 will be ignored. Current value: lambda_l2=2.0618360930258403e-08\n",
            "[LightGBM] [Warning] bagging_fraction is set=0.8642981777263575, subsample=1.0 will be ignored. Current value: bagging_fraction=0.8642981777263575\n",
            "[LightGBM] [Warning] lambda_l1 is set=0.0005267577135346555, reg_alpha=0.0 will be ignored. Current value: lambda_l1=0.0005267577135346555\n"
          ],
          "name": "stdout"
        },
        {
          "output_type": "stream",
          "text": [
            "\u001b[32m[I 2021-07-03 09:46:51,920]\u001b[0m Trial 7 finished with value: 102.2706028172915 and parameters: {'lambda_l1': 0.0005267577135346555, 'lambda_l2': 2.0618360930258403e-08, 'num_leaves': 144, 'max_depth': 3, 'n_estimators': 2013, 'feature_fraction': 0.5984315871892792, 'bagging_fraction': 0.8642981777263575, 'bagging_freq': 1, 'min_child_samples': 46}. Best is trial 1 with value: 50.88575106945658.\u001b[0m\n"
          ],
          "name": "stderr"
        },
        {
          "output_type": "stream",
          "text": [
            "[LightGBM] [Warning] feature_fraction is set=0.8579443522862087, colsample_bytree=1.0 will be ignored. Current value: feature_fraction=0.8579443522862087\n",
            "[LightGBM] [Warning] bagging_freq is set=3, subsample_freq=0 will be ignored. Current value: bagging_freq=3\n",
            "[LightGBM] [Warning] lambda_l2 is set=0.0012357458041729475, reg_lambda=0.0 will be ignored. Current value: lambda_l2=0.0012357458041729475\n",
            "[LightGBM] [Warning] bagging_fraction is set=0.926857985634915, subsample=1.0 will be ignored. Current value: bagging_fraction=0.926857985634915\n",
            "[LightGBM] [Warning] lambda_l1 is set=3.3068536483753737e-06, reg_alpha=0.0 will be ignored. Current value: lambda_l1=3.3068536483753737e-06\n"
          ],
          "name": "stdout"
        },
        {
          "output_type": "stream",
          "text": [
            "\u001b[32m[I 2021-07-03 09:46:53,077]\u001b[0m Trial 8 finished with value: 56.0349205798433 and parameters: {'lambda_l1': 3.3068536483753737e-06, 'lambda_l2': 0.0012357458041729475, 'num_leaves': 140, 'max_depth': 3, 'n_estimators': 4484, 'feature_fraction': 0.8579443522862087, 'bagging_fraction': 0.926857985634915, 'bagging_freq': 3, 'min_child_samples': 63}. Best is trial 1 with value: 50.88575106945658.\u001b[0m\n",
            "\u001b[32m[I 2021-07-03 09:46:53,281]\u001b[0m Trial 9 finished with value: 84.91992666873385 and parameters: {'lambda_l1': 0.0001281542517497079, 'lambda_l2': 0.0006063078395671604, 'num_leaves': 106, 'max_depth': 5, 'n_estimators': 809, 'feature_fraction': 0.5818375363906209, 'bagging_fraction': 0.5452455252421164, 'bagging_freq': 4, 'min_child_samples': 59}. Best is trial 1 with value: 50.88575106945658.\u001b[0m\n"
          ],
          "name": "stderr"
        },
        {
          "output_type": "stream",
          "text": [
            "[LightGBM] [Warning] feature_fraction is set=0.5818375363906209, colsample_bytree=1.0 will be ignored. Current value: feature_fraction=0.5818375363906209\n",
            "[LightGBM] [Warning] bagging_freq is set=4, subsample_freq=0 will be ignored. Current value: bagging_freq=4\n",
            "[LightGBM] [Warning] lambda_l2 is set=0.0006063078395671604, reg_lambda=0.0 will be ignored. Current value: lambda_l2=0.0006063078395671604\n",
            "[LightGBM] [Warning] bagging_fraction is set=0.5452455252421164, subsample=1.0 will be ignored. Current value: bagging_fraction=0.5452455252421164\n",
            "[LightGBM] [Warning] lambda_l1 is set=0.0001281542517497079, reg_alpha=0.0 will be ignored. Current value: lambda_l1=0.0001281542517497079\n",
            "[LightGBM] [Warning] feature_fraction is set=0.7649442484108072, colsample_bytree=1.0 will be ignored. Current value: feature_fraction=0.7649442484108072\n",
            "[LightGBM] [Warning] bagging_freq is set=5, subsample_freq=0 will be ignored. Current value: bagging_freq=5\n",
            "[LightGBM] [Warning] lambda_l2 is set=3.010479332494921e-06, reg_lambda=0.0 will be ignored. Current value: lambda_l2=3.010479332494921e-06\n",
            "[LightGBM] [Warning] bagging_fraction is set=0.7880669612015251, subsample=1.0 will be ignored. Current value: bagging_fraction=0.7880669612015251\n",
            "[LightGBM] [Warning] lambda_l1 is set=1.6785873892849563e-08, reg_alpha=0.0 will be ignored. Current value: lambda_l1=1.6785873892849563e-08\n"
          ],
          "name": "stdout"
        },
        {
          "output_type": "stream",
          "text": [
            "\u001b[32m[I 2021-07-03 09:46:54,255]\u001b[0m Trial 10 finished with value: 101.75072755084977 and parameters: {'lambda_l1': 1.6785873892849563e-08, 'lambda_l2': 3.010479332494921e-06, 'num_leaves': 341, 'max_depth': 4, 'n_estimators': 3558, 'feature_fraction': 0.7649442484108072, 'bagging_fraction': 0.7880669612015251, 'bagging_freq': 5, 'min_child_samples': 90}. Best is trial 1 with value: 50.88575106945658.\u001b[0m\n"
          ],
          "name": "stderr"
        },
        {
          "output_type": "stream",
          "text": [
            "[LightGBM] [Warning] feature_fraction is set=0.9991122238129395, colsample_bytree=1.0 will be ignored. Current value: feature_fraction=0.9991122238129395\n",
            "[LightGBM] [Warning] bagging_freq is set=1, subsample_freq=0 will be ignored. Current value: bagging_freq=1\n",
            "[LightGBM] [Warning] lambda_l2 is set=2.61939793719469e-05, reg_lambda=0.0 will be ignored. Current value: lambda_l2=2.61939793719469e-05\n",
            "[LightGBM] [Warning] bagging_fraction is set=0.6585514682875593, subsample=1.0 will be ignored. Current value: bagging_fraction=0.6585514682875593\n",
            "[LightGBM] [Warning] lambda_l1 is set=8.9826258759353e-07, reg_alpha=0.0 will be ignored. Current value: lambda_l1=8.9826258759353e-07\n"
          ],
          "name": "stdout"
        },
        {
          "output_type": "stream",
          "text": [
            "\u001b[32m[I 2021-07-03 09:46:59,794]\u001b[0m Trial 11 finished with value: 95.91307094748466 and parameters: {'lambda_l1': 8.9826258759353e-07, 'lambda_l2': 2.61939793719469e-05, 'num_leaves': 287, 'max_depth': 9, 'n_estimators': 3632, 'feature_fraction': 0.9991122238129395, 'bagging_fraction': 0.6585514682875593, 'bagging_freq': 1, 'min_child_samples': 7}. Best is trial 1 with value: 50.88575106945658.\u001b[0m\n"
          ],
          "name": "stderr"
        },
        {
          "output_type": "stream",
          "text": [
            "[LightGBM] [Warning] feature_fraction is set=0.9922869658927289, colsample_bytree=1.0 will be ignored. Current value: feature_fraction=0.9922869658927289\n",
            "[LightGBM] [Warning] bagging_freq is set=2, subsample_freq=0 will be ignored. Current value: bagging_freq=2\n",
            "[LightGBM] [Warning] lambda_l2 is set=0.030766178350701442, reg_lambda=0.0 will be ignored. Current value: lambda_l2=0.030766178350701442\n",
            "[LightGBM] [Warning] bagging_fraction is set=0.6307116556352568, subsample=1.0 will be ignored. Current value: bagging_fraction=0.6307116556352568\n",
            "[LightGBM] [Warning] lambda_l1 is set=0.0010032552297938406, reg_alpha=0.0 will be ignored. Current value: lambda_l1=0.0010032552297938406\n"
          ],
          "name": "stdout"
        },
        {
          "output_type": "stream",
          "text": [
            "\u001b[32m[I 2021-07-03 09:47:01,190]\u001b[0m Trial 12 finished with value: 53.83919682450579 and parameters: {'lambda_l1': 0.0010032552297938406, 'lambda_l2': 0.030766178350701442, 'num_leaves': 311, 'max_depth': 9, 'n_estimators': 2453, 'feature_fraction': 0.9922869658927289, 'bagging_fraction': 0.6307116556352568, 'bagging_freq': 2, 'min_child_samples': 31}. Best is trial 1 with value: 50.88575106945658.\u001b[0m\n"
          ],
          "name": "stderr"
        },
        {
          "output_type": "stream",
          "text": [
            "[LightGBM] [Warning] feature_fraction is set=0.41844661211798795, colsample_bytree=1.0 will be ignored. Current value: feature_fraction=0.41844661211798795\n",
            "[LightGBM] [Warning] bagging_freq is set=3, subsample_freq=0 will be ignored. Current value: bagging_freq=3\n",
            "[LightGBM] [Warning] lambda_l2 is set=0.00015468424548794194, reg_lambda=0.0 will be ignored. Current value: lambda_l2=0.00015468424548794194\n",
            "[LightGBM] [Warning] bagging_fraction is set=0.995679260563783, subsample=1.0 will be ignored. Current value: bagging_fraction=0.995679260563783\n",
            "[LightGBM] [Warning] lambda_l1 is set=1.9886276185414409e-07, reg_alpha=0.0 will be ignored. Current value: lambda_l1=1.9886276185414409e-07\n"
          ],
          "name": "stdout"
        },
        {
          "output_type": "stream",
          "text": [
            "\u001b[32m[I 2021-07-03 09:47:04,505]\u001b[0m Trial 13 finished with value: 77.94775249292114 and parameters: {'lambda_l1': 1.9886276185414409e-07, 'lambda_l2': 0.00015468424548794194, 'num_leaves': 387, 'max_depth': 7, 'n_estimators': 3556, 'feature_fraction': 0.41844661211798795, 'bagging_fraction': 0.995679260563783, 'bagging_freq': 3, 'min_child_samples': 8}. Best is trial 1 with value: 50.88575106945658.\u001b[0m\n"
          ],
          "name": "stderr"
        },
        {
          "output_type": "stream",
          "text": [
            "[LightGBM] [Warning] feature_fraction is set=0.9290019894565231, colsample_bytree=1.0 will be ignored. Current value: feature_fraction=0.9290019894565231\n",
            "[LightGBM] [Warning] bagging_freq is set=7, subsample_freq=0 will be ignored. Current value: bagging_freq=7\n",
            "[LightGBM] [Warning] lambda_l2 is set=0.9773722751809201, reg_lambda=0.0 will be ignored. Current value: lambda_l2=0.9773722751809201\n",
            "[LightGBM] [Warning] bagging_fraction is set=0.750295356922126, subsample=1.0 will be ignored. Current value: bagging_fraction=0.750295356922126\n",
            "[LightGBM] [Warning] lambda_l1 is set=2.8821931552561775e-05, reg_alpha=0.0 will be ignored. Current value: lambda_l1=2.8821931552561775e-05\n"
          ],
          "name": "stdout"
        },
        {
          "output_type": "stream",
          "text": [
            "\u001b[32m[I 2021-07-03 09:47:05,540]\u001b[0m Trial 14 finished with value: 72.58409443808755 and parameters: {'lambda_l1': 2.8821931552561775e-05, 'lambda_l2': 0.9773722751809201, 'num_leaves': 219, 'max_depth': 8, 'n_estimators': 1756, 'feature_fraction': 0.9290019894565231, 'bagging_fraction': 0.750295356922126, 'bagging_freq': 7, 'min_child_samples': 28}. Best is trial 1 with value: 50.88575106945658.\u001b[0m\n"
          ],
          "name": "stderr"
        },
        {
          "output_type": "stream",
          "text": [
            "[LightGBM] [Warning] feature_fraction is set=0.7285367937084144, colsample_bytree=1.0 will be ignored. Current value: feature_fraction=0.7285367937084144\n",
            "[LightGBM] [Warning] bagging_freq is set=5, subsample_freq=0 will be ignored. Current value: bagging_freq=5\n",
            "[LightGBM] [Warning] lambda_l2 is set=0.013133026541985783, reg_lambda=0.0 will be ignored. Current value: lambda_l2=0.013133026541985783\n",
            "[LightGBM] [Warning] bagging_fraction is set=0.5989394570002292, subsample=1.0 will be ignored. Current value: bagging_fraction=0.5989394570002292\n",
            "[LightGBM] [Warning] lambda_l1 is set=1.0885522537644062e-08, reg_alpha=0.0 will be ignored. Current value: lambda_l1=1.0885522537644062e-08\n"
          ],
          "name": "stdout"
        },
        {
          "output_type": "stream",
          "text": [
            "\u001b[32m[I 2021-07-03 09:47:06,620]\u001b[0m Trial 15 finished with value: 54.25703202570445 and parameters: {'lambda_l1': 1.0885522537644062e-08, 'lambda_l2': 0.013133026541985783, 'num_leaves': 28, 'max_depth': 7, 'n_estimators': 3001, 'feature_fraction': 0.7285367937084144, 'bagging_fraction': 0.5989394570002292, 'bagging_freq': 5, 'min_child_samples': 44}. Best is trial 1 with value: 50.88575106945658.\u001b[0m\n"
          ],
          "name": "stderr"
        },
        {
          "output_type": "stream",
          "text": [
            "[LightGBM] [Warning] feature_fraction is set=0.9592124084612702, colsample_bytree=1.0 will be ignored. Current value: feature_fraction=0.9592124084612702\n",
            "[LightGBM] [Warning] bagging_freq is set=2, subsample_freq=0 will be ignored. Current value: bagging_freq=2\n",
            "[LightGBM] [Warning] lambda_l2 is set=3.4319355308173353e-05, reg_lambda=0.0 will be ignored. Current value: lambda_l2=3.4319355308173353e-05\n",
            "[LightGBM] [Warning] bagging_fraction is set=0.4072835615446248, subsample=1.0 will be ignored. Current value: bagging_fraction=0.4072835615446248\n",
            "[LightGBM] [Warning] lambda_l1 is set=0.006757265265334436, reg_alpha=0.0 will be ignored. Current value: lambda_l1=0.006757265265334436\n"
          ],
          "name": "stdout"
        },
        {
          "output_type": "stream",
          "text": [
            "\u001b[32m[I 2021-07-03 09:47:07,209]\u001b[0m Trial 16 finished with value: 98.04227709076831 and parameters: {'lambda_l1': 0.006757265265334436, 'lambda_l2': 3.4319355308173353e-05, 'num_leaves': 266, 'max_depth': 8, 'n_estimators': 2583, 'feature_fraction': 0.9592124084612702, 'bagging_fraction': 0.4072835615446248, 'bagging_freq': 2, 'min_child_samples': 73}. Best is trial 1 with value: 50.88575106945658.\u001b[0m\n"
          ],
          "name": "stderr"
        },
        {
          "output_type": "stream",
          "text": [
            "[LightGBM] [Warning] feature_fraction is set=0.8133108831404763, colsample_bytree=1.0 will be ignored. Current value: feature_fraction=0.8133108831404763\n",
            "[LightGBM] [Warning] bagging_freq is set=5, subsample_freq=0 will be ignored. Current value: bagging_freq=5\n",
            "[LightGBM] [Warning] lambda_l2 is set=0.19063245323117958, reg_lambda=0.0 will be ignored. Current value: lambda_l2=0.19063245323117958\n",
            "[LightGBM] [Warning] bagging_fraction is set=0.8359226382813782, subsample=1.0 will be ignored. Current value: bagging_fraction=0.8359226382813782\n",
            "[LightGBM] [Warning] lambda_l1 is set=0.4749952337893574, reg_alpha=0.0 will be ignored. Current value: lambda_l1=0.4749952337893574\n"
          ],
          "name": "stdout"
        },
        {
          "output_type": "stream",
          "text": [
            "\u001b[32m[I 2021-07-03 09:47:08,922]\u001b[0m Trial 17 finished with value: 55.187261816113676 and parameters: {'lambda_l1': 0.4749952337893574, 'lambda_l2': 0.19063245323117958, 'num_leaves': 163, 'max_depth': 5, 'n_estimators': 3778, 'feature_fraction': 0.8133108831404763, 'bagging_fraction': 0.8359226382813782, 'bagging_freq': 5, 'min_child_samples': 19}. Best is trial 1 with value: 50.88575106945658.\u001b[0m\n"
          ],
          "name": "stderr"
        },
        {
          "output_type": "stream",
          "text": [
            "[LightGBM] [Warning] feature_fraction is set=0.9049229635967819, colsample_bytree=1.0 will be ignored. Current value: feature_fraction=0.9049229635967819\n",
            "[LightGBM] [Warning] bagging_freq is set=7, subsample_freq=0 will be ignored. Current value: bagging_freq=7\n",
            "[LightGBM] [Warning] lambda_l2 is set=0.0038947940771188595, reg_lambda=0.0 will be ignored. Current value: lambda_l2=0.0038947940771188595\n",
            "[LightGBM] [Warning] bagging_fraction is set=0.7133340635208179, subsample=1.0 will be ignored. Current value: bagging_fraction=0.7133340635208179\n",
            "[LightGBM] [Warning] lambda_l1 is set=6.162473122054843e-05, reg_alpha=0.0 will be ignored. Current value: lambda_l1=6.162473122054843e-05\n"
          ],
          "name": "stdout"
        },
        {
          "output_type": "stream",
          "text": [
            "\u001b[32m[I 2021-07-03 09:47:10,999]\u001b[0m Trial 18 finished with value: 51.788319311042265 and parameters: {'lambda_l1': 6.162473122054843e-05, 'lambda_l2': 0.0038947940771188595, 'num_leaves': 63, 'max_depth': 6, 'n_estimators': 4956, 'feature_fraction': 0.9049229635967819, 'bagging_fraction': 0.7133340635208179, 'bagging_freq': 7, 'min_child_samples': 35}. Best is trial 1 with value: 50.88575106945658.\u001b[0m\n"
          ],
          "name": "stderr"
        },
        {
          "output_type": "stream",
          "text": [
            "[LightGBM] [Warning] feature_fraction is set=0.6694741937620116, colsample_bytree=1.0 will be ignored. Current value: feature_fraction=0.6694741937620116\n",
            "[LightGBM] [Warning] bagging_freq is set=7, subsample_freq=0 will be ignored. Current value: bagging_freq=7\n",
            "[LightGBM] [Warning] lambda_l2 is set=0.00017090105110919117, reg_lambda=0.0 will be ignored. Current value: lambda_l2=0.00017090105110919117\n",
            "[LightGBM] [Warning] bagging_fraction is set=0.7102315542302928, subsample=1.0 will be ignored. Current value: bagging_fraction=0.7102315542302928\n",
            "[LightGBM] [Warning] lambda_l1 is set=1.558826272807897e-06, reg_alpha=0.0 will be ignored. Current value: lambda_l1=1.558826272807897e-06\n"
          ],
          "name": "stdout"
        },
        {
          "output_type": "stream",
          "text": [
            "\u001b[32m[I 2021-07-03 09:47:12,857]\u001b[0m Trial 19 finished with value: 74.03208675888746 and parameters: {'lambda_l1': 1.558826272807897e-06, 'lambda_l2': 0.00017090105110919117, 'num_leaves': 88, 'max_depth': 6, 'n_estimators': 4901, 'feature_fraction': 0.6694741937620116, 'bagging_fraction': 0.7102315542302928, 'bagging_freq': 7, 'min_child_samples': 44}. Best is trial 1 with value: 50.88575106945658.\u001b[0m\n"
          ],
          "name": "stderr"
        },
        {
          "output_type": "stream",
          "text": [
            "[LightGBM] [Warning] feature_fraction is set=0.8830528000666321, colsample_bytree=1.0 will be ignored. Current value: feature_fraction=0.8830528000666321\n",
            "[LightGBM] [Warning] bagging_freq is set=6, subsample_freq=0 will be ignored. Current value: bagging_freq=6\n",
            "[LightGBM] [Warning] lambda_l2 is set=0.005399216065659898, reg_lambda=0.0 will be ignored. Current value: lambda_l2=0.005399216065659898\n",
            "[LightGBM] [Warning] bagging_fraction is set=0.8981126396254016, subsample=1.0 will be ignored. Current value: bagging_fraction=0.8981126396254016\n",
            "[LightGBM] [Warning] lambda_l1 is set=8.577543141688918e-08, reg_alpha=0.0 will be ignored. Current value: lambda_l1=8.577543141688918e-08\n"
          ],
          "name": "stdout"
        },
        {
          "output_type": "stream",
          "text": [
            "\u001b[32m[I 2021-07-03 09:47:14,264]\u001b[0m Trial 20 finished with value: 52.39016149622366 and parameters: {'lambda_l1': 8.577543141688918e-08, 'lambda_l2': 0.005399216065659898, 'num_leaves': 57, 'max_depth': 4, 'n_estimators': 4914, 'feature_fraction': 0.8830528000666321, 'bagging_fraction': 0.8981126396254016, 'bagging_freq': 6, 'min_child_samples': 75}. Best is trial 1 with value: 50.88575106945658.\u001b[0m\n"
          ],
          "name": "stderr"
        },
        {
          "output_type": "stream",
          "text": [
            "[LightGBM] [Warning] feature_fraction is set=0.857435008067406, colsample_bytree=1.0 will be ignored. Current value: feature_fraction=0.857435008067406\n",
            "[LightGBM] [Warning] bagging_freq is set=6, subsample_freq=0 will be ignored. Current value: bagging_freq=6\n",
            "[LightGBM] [Warning] lambda_l2 is set=0.007085955366616683, reg_lambda=0.0 will be ignored. Current value: lambda_l2=0.007085955366616683\n",
            "[LightGBM] [Warning] bagging_fraction is set=0.9541820918740274, subsample=1.0 will be ignored. Current value: bagging_fraction=0.9541820918740274\n",
            "[LightGBM] [Warning] lambda_l1 is set=1.3637885278895198e-07, reg_alpha=0.0 will be ignored. Current value: lambda_l1=1.3637885278895198e-07\n"
          ],
          "name": "stdout"
        },
        {
          "output_type": "stream",
          "text": [
            "\u001b[32m[I 2021-07-03 09:47:15,644]\u001b[0m Trial 21 finished with value: 53.49626144822936 and parameters: {'lambda_l1': 1.3637885278895198e-07, 'lambda_l2': 0.007085955366616683, 'num_leaves': 64, 'max_depth': 4, 'n_estimators': 4860, 'feature_fraction': 0.857435008067406, 'bagging_fraction': 0.9541820918740274, 'bagging_freq': 6, 'min_child_samples': 89}. Best is trial 1 with value: 50.88575106945658.\u001b[0m\n"
          ],
          "name": "stderr"
        },
        {
          "output_type": "stream",
          "text": [
            "[LightGBM] [Warning] feature_fraction is set=0.8896961138855114, colsample_bytree=1.0 will be ignored. Current value: feature_fraction=0.8896961138855114\n",
            "[LightGBM] [Warning] bagging_freq is set=7, subsample_freq=0 will be ignored. Current value: bagging_freq=7\n",
            "[LightGBM] [Warning] lambda_l2 is set=0.1440306548213092, reg_lambda=0.0 will be ignored. Current value: lambda_l2=0.1440306548213092\n",
            "[LightGBM] [Warning] bagging_fraction is set=0.8719479103382188, subsample=1.0 will be ignored. Current value: bagging_fraction=0.8719479103382188\n",
            "[LightGBM] [Warning] lambda_l1 is set=1.117885124030037e-08, reg_alpha=0.0 will be ignored. Current value: lambda_l1=1.117885124030037e-08\n"
          ],
          "name": "stdout"
        },
        {
          "output_type": "stream",
          "text": [
            "\u001b[32m[I 2021-07-03 09:47:16,849]\u001b[0m Trial 22 finished with value: 62.680730159191256 and parameters: {'lambda_l1': 1.117885124030037e-08, 'lambda_l2': 0.1440306548213092, 'num_leaves': 49, 'max_depth': 4, 'n_estimators': 4443, 'feature_fraction': 0.8896961138855114, 'bagging_fraction': 0.8719479103382188, 'bagging_freq': 7, 'min_child_samples': 99}. Best is trial 1 with value: 50.88575106945658.\u001b[0m\n"
          ],
          "name": "stderr"
        },
        {
          "output_type": "stream",
          "text": [
            "[LightGBM] [Warning] feature_fraction is set=0.797585277438908, colsample_bytree=1.0 will be ignored. Current value: feature_fraction=0.797585277438908\n",
            "[LightGBM] [Warning] bagging_freq is set=6, subsample_freq=0 will be ignored. Current value: bagging_freq=6\n",
            "[LightGBM] [Warning] lambda_l2 is set=0.00286882006173601, reg_lambda=0.0 will be ignored. Current value: lambda_l2=0.00286882006173601\n",
            "[LightGBM] [Warning] bagging_fraction is set=0.8340528532958039, subsample=1.0 will be ignored. Current value: bagging_fraction=0.8340528532958039\n",
            "[LightGBM] [Warning] lambda_l1 is set=4.4206330381302414e-07, reg_alpha=0.0 will be ignored. Current value: lambda_l1=4.4206330381302414e-07\n"
          ],
          "name": "stdout"
        },
        {
          "output_type": "stream",
          "text": [
            "\u001b[32m[I 2021-07-03 09:47:18,237]\u001b[0m Trial 23 finished with value: 54.03356394449385 and parameters: {'lambda_l1': 4.4206330381302414e-07, 'lambda_l2': 0.00286882006173601, 'num_leaves': 180, 'max_depth': 4, 'n_estimators': 4963, 'feature_fraction': 0.797585277438908, 'bagging_fraction': 0.8340528532958039, 'bagging_freq': 6, 'min_child_samples': 74}. Best is trial 1 with value: 50.88575106945658.\u001b[0m\n"
          ],
          "name": "stderr"
        },
        {
          "output_type": "stream",
          "text": [
            "[LightGBM] [Warning] feature_fraction is set=0.9082255084550924, colsample_bytree=1.0 will be ignored. Current value: feature_fraction=0.9082255084550924\n",
            "[LightGBM] [Warning] bagging_freq is set=5, subsample_freq=0 will be ignored. Current value: bagging_freq=5\n",
            "[LightGBM] [Warning] lambda_l2 is set=0.0004910285788460762, reg_lambda=0.0 will be ignored. Current value: lambda_l2=0.0004910285788460762\n",
            "[LightGBM] [Warning] bagging_fraction is set=0.7131579822782704, subsample=1.0 will be ignored. Current value: bagging_fraction=0.7131579822782704\n",
            "[LightGBM] [Warning] lambda_l1 is set=5.3211789024334075e-08, reg_alpha=0.0 will be ignored. Current value: lambda_l1=5.3211789024334075e-08\n"
          ],
          "name": "stdout"
        },
        {
          "output_type": "stream",
          "text": [
            "\u001b[32m[I 2021-07-03 09:47:19,676]\u001b[0m Trial 24 finished with value: 61.29761142883199 and parameters: {'lambda_l1': 5.3211789024334075e-08, 'lambda_l2': 0.0004910285788460762, 'num_leaves': 114, 'max_depth': 5, 'n_estimators': 4092, 'feature_fraction': 0.9082255084550924, 'bagging_fraction': 0.7131579822782704, 'bagging_freq': 5, 'min_child_samples': 50}. Best is trial 1 with value: 50.88575106945658.\u001b[0m\n"
          ],
          "name": "stderr"
        },
        {
          "output_type": "stream",
          "text": [
            "[LightGBM] [Warning] feature_fraction is set=0.8525645941267856, colsample_bytree=1.0 will be ignored. Current value: feature_fraction=0.8525645941267856\n",
            "[LightGBM] [Warning] bagging_freq is set=7, subsample_freq=0 will be ignored. Current value: bagging_freq=7\n",
            "[LightGBM] [Warning] lambda_l2 is set=0.03461833732184834, reg_lambda=0.0 will be ignored. Current value: lambda_l2=0.03461833732184834\n",
            "[LightGBM] [Warning] bagging_fraction is set=0.9186670114421646, subsample=1.0 will be ignored. Current value: bagging_fraction=0.9186670114421646\n",
            "[LightGBM] [Warning] lambda_l1 is set=9.627153081826672e-06, reg_alpha=0.0 will be ignored. Current value: lambda_l1=9.627153081826672e-06\n"
          ],
          "name": "stdout"
        },
        {
          "output_type": "stream",
          "text": [
            "\u001b[32m[I 2021-07-03 09:47:20,809]\u001b[0m Trial 25 finished with value: 55.19156434912255 and parameters: {'lambda_l1': 9.627153081826672e-06, 'lambda_l2': 0.03461833732184834, 'num_leaves': 70, 'max_depth': 3, 'n_estimators': 4664, 'feature_fraction': 0.8525645941267856, 'bagging_fraction': 0.9186670114421646, 'bagging_freq': 7, 'min_child_samples': 71}. Best is trial 1 with value: 50.88575106945658.\u001b[0m\n",
            "\u001b[32m[I 2021-07-03 09:47:20,963]\u001b[0m Trial 26 finished with value: 101.191347511389 and parameters: {'lambda_l1': 3.617654385059622e-08, 'lambda_l2': 3.21018883782884e-05, 'num_leaves': 3, 'max_depth': 6, 'n_estimators': 922, 'feature_fraction': 0.7208616598347489, 'bagging_fraction': 0.8051944778854442, 'bagging_freq': 6, 'min_child_samples': 84}. Best is trial 1 with value: 50.88575106945658.\u001b[0m\n"
          ],
          "name": "stderr"
        },
        {
          "output_type": "stream",
          "text": [
            "[LightGBM] [Warning] feature_fraction is set=0.7208616598347489, colsample_bytree=1.0 will be ignored. Current value: feature_fraction=0.7208616598347489\n",
            "[LightGBM] [Warning] bagging_freq is set=6, subsample_freq=0 will be ignored. Current value: bagging_freq=6\n",
            "[LightGBM] [Warning] lambda_l2 is set=3.21018883782884e-05, reg_lambda=0.0 will be ignored. Current value: lambda_l2=3.21018883782884e-05\n",
            "[LightGBM] [Warning] bagging_fraction is set=0.8051944778854442, subsample=1.0 will be ignored. Current value: bagging_fraction=0.8051944778854442\n",
            "[LightGBM] [Warning] lambda_l1 is set=3.617654385059622e-08, reg_alpha=0.0 will be ignored. Current value: lambda_l1=3.617654385059622e-08\n",
            "[LightGBM] [Warning] feature_fraction is set=0.978823807556182, colsample_bytree=1.0 will be ignored. Current value: feature_fraction=0.978823807556182\n",
            "[LightGBM] [Warning] bagging_freq is set=7, subsample_freq=0 will be ignored. Current value: bagging_freq=7\n",
            "[LightGBM] [Warning] lambda_l2 is set=0.007623884125877974, reg_lambda=0.0 will be ignored. Current value: lambda_l2=0.007623884125877974\n",
            "[LightGBM] [Warning] bagging_fraction is set=0.7586217334270403, subsample=1.0 will be ignored. Current value: bagging_fraction=0.7586217334270403\n",
            "[LightGBM] [Warning] lambda_l1 is set=3.5202198902227952e-06, reg_alpha=0.0 will be ignored. Current value: lambda_l1=3.5202198902227952e-06\n"
          ],
          "name": "stdout"
        },
        {
          "output_type": "stream",
          "text": [
            "\u001b[32m[I 2021-07-03 09:47:22,287]\u001b[0m Trial 27 finished with value: 51.10153192642099 and parameters: {'lambda_l1': 3.5202198902227952e-06, 'lambda_l2': 0.007623884125877974, 'num_leaves': 37, 'max_depth': 4, 'n_estimators': 3928, 'feature_fraction': 0.978823807556182, 'bagging_fraction': 0.7586217334270403, 'bagging_freq': 7, 'min_child_samples': 38}. Best is trial 1 with value: 50.88575106945658.\u001b[0m\n"
          ],
          "name": "stderr"
        },
        {
          "output_type": "stream",
          "text": [
            "[LightGBM] [Warning] feature_fraction is set=0.983261850180457, colsample_bytree=1.0 will be ignored. Current value: feature_fraction=0.983261850180457\n",
            "[LightGBM] [Warning] bagging_freq is set=7, subsample_freq=0 will be ignored. Current value: bagging_freq=7\n",
            "[LightGBM] [Warning] lambda_l2 is set=0.06153077564466302, reg_lambda=0.0 will be ignored. Current value: lambda_l2=0.06153077564466302\n",
            "[LightGBM] [Warning] bagging_fraction is set=0.7478638044077373, subsample=1.0 will be ignored. Current value: bagging_fraction=0.7478638044077373\n",
            "[LightGBM] [Warning] lambda_l1 is set=2.6713597683041026e-05, reg_alpha=0.0 will be ignored. Current value: lambda_l1=2.6713597683041026e-05\n"
          ],
          "name": "stdout"
        },
        {
          "output_type": "stream",
          "text": [
            "\u001b[32m[I 2021-07-03 09:47:24,028]\u001b[0m Trial 28 finished with value: 57.35067831946532 and parameters: {'lambda_l1': 2.6713597683041026e-05, 'lambda_l2': 0.06153077564466302, 'num_leaves': 30, 'max_depth': 5, 'n_estimators': 4001, 'feature_fraction': 0.983261850180457, 'bagging_fraction': 0.7478638044077373, 'bagging_freq': 7, 'min_child_samples': 24}. Best is trial 1 with value: 50.88575106945658.\u001b[0m\n"
          ],
          "name": "stderr"
        },
        {
          "output_type": "stream",
          "text": [
            "[LightGBM] [Warning] feature_fraction is set=0.4467465826790745, colsample_bytree=1.0 will be ignored. Current value: feature_fraction=0.4467465826790745\n",
            "[LightGBM] [Warning] bagging_freq is set=7, subsample_freq=0 will be ignored. Current value: bagging_freq=7\n",
            "[LightGBM] [Warning] lambda_l2 is set=0.00036096976564155053, reg_lambda=0.0 will be ignored. Current value: lambda_l2=0.00036096976564155053\n",
            "[LightGBM] [Warning] bagging_fraction is set=0.672679532303821, subsample=1.0 will be ignored. Current value: bagging_fraction=0.672679532303821\n",
            "[LightGBM] [Warning] lambda_l1 is set=0.0008411698071306363, reg_alpha=0.0 will be ignored. Current value: lambda_l1=0.0008411698071306363\n"
          ],
          "name": "stdout"
        },
        {
          "output_type": "stream",
          "text": [
            "\u001b[32m[I 2021-07-03 09:47:24,566]\u001b[0m Trial 29 finished with value: 76.7237637130061 and parameters: {'lambda_l1': 0.0008411698071306363, 'lambda_l2': 0.00036096976564155053, 'num_leaves': 3, 'max_depth': 7, 'n_estimators': 3251, 'feature_fraction': 0.4467465826790745, 'bagging_fraction': 0.672679532303821, 'bagging_freq': 7, 'min_child_samples': 37}. Best is trial 1 with value: 50.88575106945658.\u001b[0m\n"
          ],
          "name": "stderr"
        },
        {
          "output_type": "stream",
          "text": [
            "[LightGBM] [Warning] feature_fraction is set=0.9485639040314328, colsample_bytree=1.0 will be ignored. Current value: feature_fraction=0.9485639040314328\n",
            "[LightGBM] [Warning] bagging_freq is set=6, subsample_freq=0 will be ignored. Current value: bagging_freq=6\n",
            "[LightGBM] [Warning] lambda_l2 is set=0.9330264060741632, reg_lambda=0.0 will be ignored. Current value: lambda_l2=0.9330264060741632\n",
            "[LightGBM] [Warning] bagging_fraction is set=0.7907252411951584, subsample=1.0 will be ignored. Current value: bagging_fraction=0.7907252411951584\n",
            "[LightGBM] [Warning] lambda_l1 is set=5.238685512402491e-06, reg_alpha=0.0 will be ignored. Current value: lambda_l1=5.238685512402491e-06\n"
          ],
          "name": "stdout"
        },
        {
          "output_type": "stream",
          "text": [
            "\u001b[32m[I 2021-07-03 09:47:25,406]\u001b[0m Trial 30 finished with value: 76.44828364410473 and parameters: {'lambda_l1': 5.238685512402491e-06, 'lambda_l2': 0.9330264060741632, 'num_leaves': 113, 'max_depth': 6, 'n_estimators': 3337, 'feature_fraction': 0.9485639040314328, 'bagging_fraction': 0.7907252411951584, 'bagging_freq': 6, 'min_child_samples': 13}. Best is trial 1 with value: 50.88575106945658.\u001b[0m\n"
          ],
          "name": "stderr"
        },
        {
          "output_type": "stream",
          "text": [
            "[LightGBM] [Warning] feature_fraction is set=0.8456039224486642, colsample_bytree=1.0 will be ignored. Current value: feature_fraction=0.8456039224486642\n",
            "[LightGBM] [Warning] bagging_freq is set=6, subsample_freq=0 will be ignored. Current value: bagging_freq=6\n",
            "[LightGBM] [Warning] lambda_l2 is set=0.011681208582494407, reg_lambda=0.0 will be ignored. Current value: lambda_l2=0.011681208582494407\n",
            "[LightGBM] [Warning] bagging_fraction is set=0.712747098225565, subsample=1.0 will be ignored. Current value: bagging_fraction=0.712747098225565\n",
            "[LightGBM] [Warning] lambda_l1 is set=4.1883465875895746e-07, reg_alpha=0.0 will be ignored. Current value: lambda_l1=4.1883465875895746e-07\n"
          ],
          "name": "stdout"
        },
        {
          "output_type": "stream",
          "text": [
            "\u001b[32m[I 2021-07-03 09:47:26,630]\u001b[0m Trial 31 finished with value: 52.72866096923458 and parameters: {'lambda_l1': 4.1883465875895746e-07, 'lambda_l2': 0.011681208582494407, 'num_leaves': 48, 'max_depth': 4, 'n_estimators': 3929, 'feature_fraction': 0.8456039224486642, 'bagging_fraction': 0.712747098225565, 'bagging_freq': 6, 'min_child_samples': 37}. Best is trial 1 with value: 50.88575106945658.\u001b[0m\n"
          ],
          "name": "stderr"
        },
        {
          "output_type": "stream",
          "text": [
            "[LightGBM] [Warning] feature_fraction is set=0.9091986518238144, colsample_bytree=1.0 will be ignored. Current value: feature_fraction=0.9091986518238144\n",
            "[LightGBM] [Warning] bagging_freq is set=5, subsample_freq=0 will be ignored. Current value: bagging_freq=5\n",
            "[LightGBM] [Warning] lambda_l2 is set=0.0054097168626809, reg_lambda=0.0 will be ignored. Current value: lambda_l2=0.0054097168626809\n",
            "[LightGBM] [Warning] bagging_fraction is set=0.8839408430846581, subsample=1.0 will be ignored. Current value: bagging_fraction=0.8839408430846581\n",
            "[LightGBM] [Warning] lambda_l1 is set=1.596942767846613e-06, reg_alpha=0.0 will be ignored. Current value: lambda_l1=1.596942767846613e-06\n"
          ],
          "name": "stdout"
        },
        {
          "output_type": "stream",
          "text": [
            "\u001b[32m[I 2021-07-03 09:47:27,884]\u001b[0m Trial 32 finished with value: 50.38060695099718 and parameters: {'lambda_l1': 1.596942767846613e-06, 'lambda_l2': 0.0054097168626809, 'num_leaves': 70, 'max_depth': 3, 'n_estimators': 4658, 'feature_fraction': 0.9091986518238144, 'bagging_fraction': 0.8839408430846581, 'bagging_freq': 5, 'min_child_samples': 27}. Best is trial 32 with value: 50.38060695099718.\u001b[0m\n"
          ],
          "name": "stderr"
        },
        {
          "output_type": "stream",
          "text": [
            "[LightGBM] [Warning] feature_fraction is set=0.925815425018322, colsample_bytree=1.0 will be ignored. Current value: feature_fraction=0.925815425018322\n",
            "[LightGBM] [Warning] bagging_freq is set=5, subsample_freq=0 will be ignored. Current value: bagging_freq=5\n",
            "[LightGBM] [Warning] lambda_l2 is set=0.0015153033999916955, reg_lambda=0.0 will be ignored. Current value: lambda_l2=0.0015153033999916955\n",
            "[LightGBM] [Warning] bagging_fraction is set=0.9969436914125568, subsample=1.0 will be ignored. Current value: bagging_fraction=0.9969436914125568\n",
            "[LightGBM] [Warning] lambda_l1 is set=4.452436211789732e-05, reg_alpha=0.0 will be ignored. Current value: lambda_l1=4.452436211789732e-05\n"
          ],
          "name": "stdout"
        },
        {
          "output_type": "stream",
          "text": [
            "\u001b[32m[I 2021-07-03 09:47:29,117]\u001b[0m Trial 33 finished with value: 50.41534563720781 and parameters: {'lambda_l1': 4.452436211789732e-05, 'lambda_l2': 0.0015153033999916955, 'num_leaves': 90, 'max_depth': 3, 'n_estimators': 4604, 'feature_fraction': 0.925815425018322, 'bagging_fraction': 0.9969436914125568, 'bagging_freq': 5, 'min_child_samples': 26}. Best is trial 32 with value: 50.38060695099718.\u001b[0m\n"
          ],
          "name": "stderr"
        },
        {
          "output_type": "stream",
          "text": [
            "[LightGBM] [Warning] feature_fraction is set=0.9772738945928839, colsample_bytree=1.0 will be ignored. Current value: feature_fraction=0.9772738945928839\n",
            "[LightGBM] [Warning] bagging_freq is set=5, subsample_freq=0 will be ignored. Current value: bagging_freq=5\n",
            "[LightGBM] [Warning] lambda_l2 is set=0.0009417066387537466, reg_lambda=0.0 will be ignored. Current value: lambda_l2=0.0009417066387537466\n",
            "[LightGBM] [Warning] bagging_fraction is set=0.9738372773713918, subsample=1.0 will be ignored. Current value: bagging_fraction=0.9738372773713918\n",
            "[LightGBM] [Warning] lambda_l1 is set=2.8145929349246734e-06, reg_alpha=0.0 will be ignored. Current value: lambda_l1=2.8145929349246734e-06\n"
          ],
          "name": "stdout"
        },
        {
          "output_type": "stream",
          "text": [
            "\u001b[32m[I 2021-07-03 09:47:30,382]\u001b[0m Trial 34 finished with value: 52.72270755899047 and parameters: {'lambda_l1': 2.8145929349246734e-06, 'lambda_l2': 0.0009417066387537466, 'num_leaves': 91, 'max_depth': 3, 'n_estimators': 4314, 'feature_fraction': 0.9772738945928839, 'bagging_fraction': 0.9738372773713918, 'bagging_freq': 5, 'min_child_samples': 25}. Best is trial 32 with value: 50.38060695099718.\u001b[0m\n"
          ],
          "name": "stderr"
        },
        {
          "output_type": "stream",
          "text": [
            "[LightGBM] [Warning] feature_fraction is set=0.9329972275586395, colsample_bytree=1.0 will be ignored. Current value: feature_fraction=0.9329972275586395\n",
            "[LightGBM] [Warning] bagging_freq is set=4, subsample_freq=0 will be ignored. Current value: bagging_freq=4\n",
            "[LightGBM] [Warning] lambda_l2 is set=0.01723918739867992, reg_lambda=0.0 will be ignored. Current value: lambda_l2=0.01723918739867992\n",
            "[LightGBM] [Warning] bagging_fraction is set=0.994399184996943, subsample=1.0 will be ignored. Current value: bagging_fraction=0.994399184996943\n",
            "[LightGBM] [Warning] lambda_l1 is set=9.66760944400639e-07, reg_alpha=0.0 will be ignored. Current value: lambda_l1=9.66760944400639e-07\n"
          ],
          "name": "stdout"
        },
        {
          "output_type": "stream",
          "text": [
            "\u001b[32m[I 2021-07-03 09:47:31,610]\u001b[0m Trial 35 finished with value: 53.05992678804438 and parameters: {'lambda_l1': 9.66760944400639e-07, 'lambda_l2': 0.01723918739867992, 'num_leaves': 8, 'max_depth': 3, 'n_estimators': 4616, 'feature_fraction': 0.9329972275586395, 'bagging_fraction': 0.994399184996943, 'bagging_freq': 4, 'min_child_samples': 15}. Best is trial 32 with value: 50.38060695099718.\u001b[0m\n"
          ],
          "name": "stderr"
        },
        {
          "output_type": "stream",
          "text": [
            "[LightGBM] [Warning] feature_fraction is set=0.7960373470467561, colsample_bytree=1.0 will be ignored. Current value: feature_fraction=0.7960373470467561\n",
            "[LightGBM] [Warning] bagging_freq is set=5, subsample_freq=0 will be ignored. Current value: bagging_freq=5\n",
            "[LightGBM] [Warning] lambda_l2 is set=0.0020104836009707154, reg_lambda=0.0 will be ignored. Current value: lambda_l2=0.0020104836009707154\n",
            "[LightGBM] [Warning] bagging_fraction is set=0.8414620474837822, subsample=1.0 will be ignored. Current value: bagging_fraction=0.8414620474837822\n",
            "[LightGBM] [Warning] lambda_l1 is set=0.00023035809545990645, reg_alpha=0.0 will be ignored. Current value: lambda_l1=0.00023035809545990645\n"
          ],
          "name": "stdout"
        },
        {
          "output_type": "stream",
          "text": [
            "\u001b[32m[I 2021-07-03 09:47:32,345]\u001b[0m Trial 36 finished with value: 52.29180824018335 and parameters: {'lambda_l1': 0.00023035809545990645, 'lambda_l2': 0.0020104836009707154, 'num_leaves': 134, 'max_depth': 3, 'n_estimators': 2628, 'feature_fraction': 0.7960373470467561, 'bagging_fraction': 0.8414620474837822, 'bagging_freq': 5, 'min_child_samples': 31}. Best is trial 32 with value: 50.38060695099718.\u001b[0m\n"
          ],
          "name": "stderr"
        },
        {
          "output_type": "stream",
          "text": [
            "[LightGBM] [Warning] feature_fraction is set=0.9569295052409753, colsample_bytree=1.0 will be ignored. Current value: feature_fraction=0.9569295052409753\n",
            "[LightGBM] [Warning] bagging_freq is set=4, subsample_freq=0 will be ignored. Current value: bagging_freq=4\n",
            "[LightGBM] [Warning] lambda_l2 is set=0.07680381735579632, reg_lambda=0.0 will be ignored. Current value: lambda_l2=0.07680381735579632\n",
            "[LightGBM] [Warning] bagging_fraction is set=0.8923893102350151, subsample=1.0 will be ignored. Current value: bagging_fraction=0.8923893102350151\n",
            "[LightGBM] [Warning] lambda_l1 is set=1.7508875234874616e-05, reg_alpha=0.0 will be ignored. Current value: lambda_l1=1.7508875234874616e-05\n"
          ],
          "name": "stdout"
        },
        {
          "output_type": "stream",
          "text": [
            "\u001b[32m[I 2021-07-03 09:47:33,572]\u001b[0m Trial 37 finished with value: 59.110562369032664 and parameters: {'lambda_l1': 1.7508875234874616e-05, 'lambda_l2': 0.07680381735579632, 'num_leaves': 190, 'max_depth': 3, 'n_estimators': 4187, 'feature_fraction': 0.9569295052409753, 'bagging_fraction': 0.8923893102350151, 'bagging_freq': 4, 'min_child_samples': 22}. Best is trial 32 with value: 50.38060695099718.\u001b[0m\n"
          ],
          "name": "stderr"
        },
        {
          "output_type": "stream",
          "text": [
            "[LightGBM] [Warning] feature_fraction is set=0.9224306929229203, colsample_bytree=1.0 will be ignored. Current value: feature_fraction=0.9224306929229203\n",
            "[LightGBM] [Warning] bagging_freq is set=5, subsample_freq=0 will be ignored. Current value: bagging_freq=5\n",
            "[LightGBM] [Warning] lambda_l2 is set=6.448471114589394e-05, reg_lambda=0.0 will be ignored. Current value: lambda_l2=6.448471114589394e-05\n",
            "[LightGBM] [Warning] bagging_fraction is set=0.7702230586752068, subsample=1.0 will be ignored. Current value: bagging_fraction=0.7702230586752068\n",
            "[LightGBM] [Warning] lambda_l1 is set=5.3456114838540395e-05, reg_alpha=0.0 will be ignored. Current value: lambda_l1=5.3456114838540395e-05\n"
          ],
          "name": "stdout"
        },
        {
          "output_type": "stream",
          "text": [
            "\u001b[32m[I 2021-07-03 09:47:34,205]\u001b[0m Trial 38 finished with value: 95.4937556058898 and parameters: {'lambda_l1': 5.3456114838540395e-05, 'lambda_l2': 6.448471114589394e-05, 'num_leaves': 217, 'max_depth': 3, 'n_estimators': 2145, 'feature_fraction': 0.9224306929229203, 'bagging_fraction': 0.7702230586752068, 'bagging_freq': 5, 'min_child_samples': 41}. Best is trial 32 with value: 50.38060695099718.\u001b[0m\n"
          ],
          "name": "stderr"
        },
        {
          "output_type": "stream",
          "text": [
            "[LightGBM] [Warning] feature_fraction is set=0.8305128192408078, colsample_bytree=1.0 will be ignored. Current value: feature_fraction=0.8305128192408078\n",
            "[LightGBM] [Warning] bagging_freq is set=4, subsample_freq=0 will be ignored. Current value: bagging_freq=4\n",
            "[LightGBM] [Warning] lambda_l2 is set=0.0020915996062826334, reg_lambda=0.0 will be ignored. Current value: lambda_l2=0.0020915996062826334\n",
            "[LightGBM] [Warning] bagging_fraction is set=0.9341455924632069, subsample=1.0 will be ignored. Current value: bagging_fraction=0.9341455924632069\n",
            "[LightGBM] [Warning] lambda_l1 is set=0.003372871572975594, reg_alpha=0.0 will be ignored. Current value: lambda_l1=0.003372871572975594\n"
          ],
          "name": "stdout"
        },
        {
          "output_type": "stream",
          "text": [
            "\u001b[32m[I 2021-07-03 09:47:35,651]\u001b[0m Trial 39 finished with value: 51.55403721335308 and parameters: {'lambda_l1': 0.003372871572975594, 'lambda_l2': 0.0020915996062826334, 'num_leaves': 86, 'max_depth': 4, 'n_estimators': 4660, 'feature_fraction': 0.8305128192408078, 'bagging_fraction': 0.9341455924632069, 'bagging_freq': 4, 'min_child_samples': 48}. Best is trial 32 with value: 50.38060695099718.\u001b[0m\n"
          ],
          "name": "stderr"
        },
        {
          "output_type": "stream",
          "text": [
            "[LightGBM] [Warning] feature_fraction is set=0.7583684595501632, colsample_bytree=1.0 will be ignored. Current value: feature_fraction=0.7583684595501632\n",
            "[LightGBM] [Warning] bagging_freq is set=6, subsample_freq=0 will be ignored. Current value: bagging_freq=6\n",
            "[LightGBM] [Warning] lambda_l2 is set=1.0757315797865286e-05, reg_lambda=0.0 will be ignored. Current value: lambda_l2=1.0757315797865286e-05\n",
            "[LightGBM] [Warning] bagging_fraction is set=0.8591422753700104, subsample=1.0 will be ignored. Current value: bagging_fraction=0.8591422753700104\n",
            "[LightGBM] [Warning] lambda_l1 is set=0.04442639526158807, reg_alpha=0.0 will be ignored. Current value: lambda_l1=0.04442639526158807\n"
          ],
          "name": "stdout"
        },
        {
          "output_type": "stream",
          "text": [
            "\u001b[32m[I 2021-07-03 09:47:36,563]\u001b[0m Trial 40 finished with value: 100.51243404763882 and parameters: {'lambda_l1': 0.04442639526158807, 'lambda_l2': 1.0757315797865286e-05, 'num_leaves': 36, 'max_depth': 3, 'n_estimators': 3326, 'feature_fraction': 0.7583684595501632, 'bagging_fraction': 0.8591422753700104, 'bagging_freq': 6, 'min_child_samples': 53}. Best is trial 32 with value: 50.38060695099718.\u001b[0m\n"
          ],
          "name": "stderr"
        },
        {
          "output_type": "stream",
          "text": [
            "[LightGBM] [Warning] feature_fraction is set=0.8742791916342895, colsample_bytree=1.0 will be ignored. Current value: feature_fraction=0.8742791916342895\n",
            "[LightGBM] [Warning] bagging_freq is set=4, subsample_freq=0 will be ignored. Current value: bagging_freq=4\n",
            "[LightGBM] [Warning] lambda_l2 is set=0.00031443621280828615, reg_lambda=0.0 will be ignored. Current value: lambda_l2=0.00031443621280828615\n",
            "[LightGBM] [Warning] bagging_fraction is set=0.9500668175225292, subsample=1.0 will be ignored. Current value: bagging_fraction=0.9500668175225292\n",
            "[LightGBM] [Warning] lambda_l1 is set=0.06235078593597233, reg_alpha=0.0 will be ignored. Current value: lambda_l1=0.06235078593597233\n"
          ],
          "name": "stdout"
        },
        {
          "output_type": "stream",
          "text": [
            "\u001b[32m[I 2021-07-03 09:47:38,268]\u001b[0m Trial 41 finished with value: 64.3468999129999 and parameters: {'lambda_l1': 0.06235078593597233, 'lambda_l2': 0.00031443621280828615, 'num_leaves': 92, 'max_depth': 4, 'n_estimators': 4660, 'feature_fraction': 0.8742791916342895, 'bagging_fraction': 0.9500668175225292, 'bagging_freq': 4, 'min_child_samples': 49}. Best is trial 32 with value: 50.38060695099718.\u001b[0m\n"
          ],
          "name": "stderr"
        },
        {
          "output_type": "stream",
          "text": [
            "[LightGBM] [Warning] feature_fraction is set=0.8209938685648955, colsample_bytree=1.0 will be ignored. Current value: feature_fraction=0.8209938685648955\n",
            "[LightGBM] [Warning] bagging_freq is set=3, subsample_freq=0 will be ignored. Current value: bagging_freq=3\n",
            "[LightGBM] [Warning] lambda_l2 is set=0.0013189876581934216, reg_lambda=0.0 will be ignored. Current value: lambda_l2=0.0013189876581934216\n",
            "[LightGBM] [Warning] bagging_fraction is set=0.939671806615613, subsample=1.0 will be ignored. Current value: bagging_fraction=0.939671806615613\n",
            "[LightGBM] [Warning] lambda_l1 is set=0.0027795525571181335, reg_alpha=0.0 will be ignored. Current value: lambda_l1=0.0027795525571181335\n"
          ],
          "name": "stdout"
        },
        {
          "output_type": "stream",
          "text": [
            "\u001b[32m[I 2021-07-03 09:47:39,836]\u001b[0m Trial 42 finished with value: 49.77502748346065 and parameters: {'lambda_l1': 0.0027795525571181335, 'lambda_l2': 0.0013189876581934216, 'num_leaves': 77, 'max_depth': 4, 'n_estimators': 4351, 'feature_fraction': 0.8209938685648955, 'bagging_fraction': 0.939671806615613, 'bagging_freq': 3, 'min_child_samples': 28}. Best is trial 42 with value: 49.77502748346065.\u001b[0m\n"
          ],
          "name": "stderr"
        },
        {
          "output_type": "stream",
          "text": [
            "[LightGBM] [Warning] feature_fraction is set=0.7702893475226578, colsample_bytree=1.0 will be ignored. Current value: feature_fraction=0.7702893475226578\n",
            "[LightGBM] [Warning] bagging_freq is set=3, subsample_freq=0 will be ignored. Current value: bagging_freq=3\n",
            "[LightGBM] [Warning] lambda_l2 is set=0.001009919599141044, reg_lambda=0.0 will be ignored. Current value: lambda_l2=0.001009919599141044\n",
            "[LightGBM] [Warning] bagging_fraction is set=0.8117396193748951, subsample=1.0 will be ignored. Current value: bagging_fraction=0.8117396193748951\n",
            "[LightGBM] [Warning] lambda_l1 is set=0.00025524993097192524, reg_alpha=0.0 will be ignored. Current value: lambda_l1=0.00025524993097192524\n"
          ],
          "name": "stdout"
        },
        {
          "output_type": "stream",
          "text": [
            "\u001b[32m[I 2021-07-03 09:47:41,391]\u001b[0m Trial 43 finished with value: 50.82007911358183 and parameters: {'lambda_l1': 0.00025524993097192524, 'lambda_l2': 0.001009919599141044, 'num_leaves': 129, 'max_depth': 4, 'n_estimators': 4388, 'feature_fraction': 0.7702893475226578, 'bagging_fraction': 0.8117396193748951, 'bagging_freq': 3, 'min_child_samples': 27}. Best is trial 42 with value: 49.77502748346065.\u001b[0m\n"
          ],
          "name": "stderr"
        },
        {
          "output_type": "stream",
          "text": [
            "[LightGBM] [Warning] feature_fraction is set=0.7636944615166064, colsample_bytree=1.0 will be ignored. Current value: feature_fraction=0.7636944615166064\n",
            "[LightGBM] [Warning] bagging_freq is set=3, subsample_freq=0 will be ignored. Current value: bagging_freq=3\n",
            "[LightGBM] [Warning] lambda_l2 is set=0.0011623154537011224, reg_lambda=0.0 will be ignored. Current value: lambda_l2=0.0011623154537011224\n",
            "[LightGBM] [Warning] bagging_fraction is set=0.8089946302785731, subsample=1.0 will be ignored. Current value: bagging_fraction=0.8089946302785731\n",
            "[LightGBM] [Warning] lambda_l1 is set=0.0002606276221696125, reg_alpha=0.0 will be ignored. Current value: lambda_l1=0.0002606276221696125\n"
          ],
          "name": "stdout"
        },
        {
          "output_type": "stream",
          "text": [
            "\u001b[32m[I 2021-07-03 09:47:42,627]\u001b[0m Trial 44 finished with value: 51.403380263458004 and parameters: {'lambda_l1': 0.0002606276221696125, 'lambda_l2': 0.0011623154537011224, 'num_leaves': 130, 'max_depth': 3, 'n_estimators': 4439, 'feature_fraction': 0.7636944615166064, 'bagging_fraction': 0.8089946302785731, 'bagging_freq': 3, 'min_child_samples': 16}. Best is trial 42 with value: 49.77502748346065.\u001b[0m\n"
          ],
          "name": "stderr"
        },
        {
          "output_type": "stream",
          "text": [
            "[LightGBM] [Warning] feature_fraction is set=0.8091728309057685, colsample_bytree=1.0 will be ignored. Current value: feature_fraction=0.8091728309057685\n",
            "[LightGBM] [Warning] bagging_freq is set=3, subsample_freq=0 will be ignored. Current value: bagging_freq=3\n",
            "[LightGBM] [Warning] lambda_l2 is set=0.0009459635443240914, reg_lambda=0.0 will be ignored. Current value: lambda_l2=0.0009459635443240914\n",
            "[LightGBM] [Warning] bagging_fraction is set=0.9014083135907872, subsample=1.0 will be ignored. Current value: bagging_fraction=0.9014083135907872\n",
            "[LightGBM] [Warning] lambda_l1 is set=0.002311571813235472, reg_alpha=0.0 will be ignored. Current value: lambda_l1=0.002311571813235472\n"
          ],
          "name": "stdout"
        },
        {
          "output_type": "stream",
          "text": [
            "\u001b[32m[I 2021-07-03 09:47:44,562]\u001b[0m Trial 45 finished with value: 50.10231185723775 and parameters: {'lambda_l1': 0.002311571813235472, 'lambda_l2': 0.0009459635443240914, 'num_leaves': 161, 'max_depth': 5, 'n_estimators': 4281, 'feature_fraction': 0.8091728309057685, 'bagging_fraction': 0.9014083135907872, 'bagging_freq': 3, 'min_child_samples': 28}. Best is trial 42 with value: 49.77502748346065.\u001b[0m\n"
          ],
          "name": "stderr"
        },
        {
          "output_type": "stream",
          "text": [
            "[LightGBM] [Warning] feature_fraction is set=0.6996250830317221, colsample_bytree=1.0 will be ignored. Current value: feature_fraction=0.6996250830317221\n",
            "[LightGBM] [Warning] bagging_freq is set=3, subsample_freq=0 will be ignored. Current value: bagging_freq=3\n",
            "[LightGBM] [Warning] lambda_l2 is set=8.909532017600439e-05, reg_lambda=0.0 will be ignored. Current value: lambda_l2=8.909532017600439e-05\n",
            "[LightGBM] [Warning] bagging_fraction is set=0.8975574125196653, subsample=1.0 will be ignored. Current value: bagging_fraction=0.8975574125196653\n",
            "[LightGBM] [Warning] lambda_l1 is set=0.001701156943205884, reg_alpha=0.0 will be ignored. Current value: lambda_l1=0.001701156943205884\n"
          ],
          "name": "stdout"
        },
        {
          "output_type": "stream",
          "text": [
            "\u001b[32m[I 2021-07-03 09:47:46,585]\u001b[0m Trial 46 finished with value: 83.38827099343189 and parameters: {'lambda_l1': 0.001701156943205884, 'lambda_l2': 8.909532017600439e-05, 'num_leaves': 163, 'max_depth': 5, 'n_estimators': 4304, 'feature_fraction': 0.6996250830317221, 'bagging_fraction': 0.8975574125196653, 'bagging_freq': 3, 'min_child_samples': 28}. Best is trial 42 with value: 49.77502748346065.\u001b[0m\n"
          ],
          "name": "stderr"
        },
        {
          "output_type": "stream",
          "text": [
            "[LightGBM] [Warning] feature_fraction is set=0.7794039425160162, colsample_bytree=1.0 will be ignored. Current value: feature_fraction=0.7794039425160162\n",
            "[LightGBM] [Warning] bagging_freq is set=2, subsample_freq=0 will be ignored. Current value: bagging_freq=2\n",
            "[LightGBM] [Warning] lambda_l2 is set=4.6040343482308495e-08, reg_lambda=0.0 will be ignored. Current value: lambda_l2=4.6040343482308495e-08\n",
            "[LightGBM] [Warning] bagging_fraction is set=0.9805804236499959, subsample=1.0 will be ignored. Current value: bagging_fraction=0.9805804236499959\n",
            "[LightGBM] [Warning] lambda_l1 is set=0.023779343671537195, reg_alpha=0.0 will be ignored. Current value: lambda_l1=0.023779343671537195\n"
          ],
          "name": "stdout"
        },
        {
          "output_type": "stream",
          "text": [
            "\u001b[32m[I 2021-07-03 09:47:48,589]\u001b[0m Trial 47 finished with value: 102.2613583014618 and parameters: {'lambda_l1': 0.023779343671537195, 'lambda_l2': 4.6040343482308495e-08, 'num_leaves': 163, 'max_depth': 5, 'n_estimators': 3760, 'feature_fraction': 0.7794039425160162, 'bagging_fraction': 0.9805804236499959, 'bagging_freq': 2, 'min_child_samples': 27}. Best is trial 42 with value: 49.77502748346065.\u001b[0m\n"
          ],
          "name": "stderr"
        },
        {
          "output_type": "stream",
          "text": [
            "[LightGBM] [Warning] feature_fraction is set=0.8244817332234778, colsample_bytree=1.0 will be ignored. Current value: feature_fraction=0.8244817332234778\n",
            "[LightGBM] [Warning] bagging_freq is set=3, subsample_freq=0 will be ignored. Current value: bagging_freq=3\n",
            "[LightGBM] [Warning] lambda_l2 is set=0.00022137109133883102, reg_lambda=0.0 will be ignored. Current value: lambda_l2=0.00022137109133883102\n",
            "[LightGBM] [Warning] bagging_fraction is set=0.9165714675747751, subsample=1.0 will be ignored. Current value: bagging_fraction=0.9165714675747751\n",
            "[LightGBM] [Warning] lambda_l1 is set=0.004319517026608934, reg_alpha=0.0 will be ignored. Current value: lambda_l1=0.004319517026608934\n"
          ],
          "name": "stdout"
        },
        {
          "output_type": "stream",
          "text": [
            "\u001b[32m[I 2021-07-03 09:47:51,737]\u001b[0m Trial 48 finished with value: 63.68962537603147 and parameters: {'lambda_l1': 0.004319517026608934, 'lambda_l2': 0.00022137109133883102, 'num_leaves': 121, 'max_depth': 5, 'n_estimators': 4758, 'feature_fraction': 0.8244817332234778, 'bagging_fraction': 0.9165714675747751, 'bagging_freq': 3, 'min_child_samples': 8}. Best is trial 42 with value: 49.77502748346065.\u001b[0m\n"
          ],
          "name": "stderr"
        },
        {
          "output_type": "stream",
          "text": [
            "[LightGBM] [Warning] feature_fraction is set=0.7413065249357587, colsample_bytree=1.0 will be ignored. Current value: feature_fraction=0.7413065249357587\n",
            "[LightGBM] [Warning] bagging_freq is set=2, subsample_freq=0 will be ignored. Current value: bagging_freq=2\n",
            "[LightGBM] [Warning] lambda_l2 is set=0.0007176014304748555, reg_lambda=0.0 will be ignored. Current value: lambda_l2=0.0007176014304748555\n",
            "[LightGBM] [Warning] bagging_fraction is set=0.9526516526613242, subsample=1.0 will be ignored. Current value: bagging_fraction=0.9526516526613242\n",
            "[LightGBM] [Warning] lambda_l1 is set=0.0004954194531827444, reg_alpha=0.0 will be ignored. Current value: lambda_l1=0.0004954194531827444\n"
          ],
          "name": "stdout"
        },
        {
          "output_type": "stream",
          "text": [
            "\u001b[32m[I 2021-07-03 09:47:53,587]\u001b[0m Trial 49 finished with value: 51.976929752416154 and parameters: {'lambda_l1': 0.0004954194531827444, 'lambda_l2': 0.0007176014304748555, 'num_leaves': 150, 'max_depth': 4, 'n_estimators': 4520, 'feature_fraction': 0.7413065249357587, 'bagging_fraction': 0.9526516526613242, 'bagging_freq': 2, 'min_child_samples': 12}. Best is trial 42 with value: 49.77502748346065.\u001b[0m\n"
          ],
          "name": "stderr"
        }
      ]
    },
    {
      "cell_type": "code",
      "metadata": {
        "colab": {
          "base_uri": "https://localhost:8080/"
        },
        "id": "PNFeBcx9tqur",
        "outputId": "3eb8e640-9c6f-427d-9160-894b9e8ce857"
      },
      "source": [
        "print('Lunch Best Trial: score {},\\nparams {}'.format(l_study_lgb.best_trial.value, l_study_lgb.best_trial.params))\n",
        "print('Dinner Best Trial: score {},\\nparams {}'.format(d_study_lgb.best_trial.value, d_study_lgb.best_trial.params))"
      ],
      "execution_count": null,
      "outputs": [
        {
          "output_type": "stream",
          "text": [
            "Lunch Best Trial: score 65.47700831201462,\n",
            "params {'lambda_l1': 2.897285138402634e-07, 'lambda_l2': 0.00365564781783537, 'num_leaves': 89, 'max_depth': 4, 'n_estimators': 4170, 'feature_fraction': 0.6799896576109249, 'bagging_fraction': 0.8187865503548556, 'bagging_freq': 6, 'min_child_samples': 20}\n",
            "Dinner Best Trial: score 49.77502748346065,\n",
            "params {'lambda_l1': 0.0027795525571181335, 'lambda_l2': 0.0013189876581934216, 'num_leaves': 77, 'max_depth': 4, 'n_estimators': 4351, 'feature_fraction': 0.8209938685648955, 'bagging_fraction': 0.939671806615613, 'bagging_freq': 3, 'min_child_samples': 28}\n"
          ],
          "name": "stdout"
        }
      ]
    },
    {
      "cell_type": "code",
      "metadata": {
        "colab": {
          "base_uri": "https://localhost:8080/"
        },
        "id": "CP2wRgpNukp_",
        "outputId": "3b9e9876-3fa0-414a-805f-8ffea49d0501"
      },
      "source": [
        "l_trial_lgb = l_study_lgb.best_trial\n",
        "lunch_lgb_params = l_trial_lgb.params\n",
        "lunch_lgb_params"
      ],
      "execution_count": null,
      "outputs": [
        {
          "output_type": "execute_result",
          "data": {
            "text/plain": [
              "{'bagging_fraction': 0.8187865503548556,\n",
              " 'bagging_freq': 6,\n",
              " 'feature_fraction': 0.6799896576109249,\n",
              " 'lambda_l1': 2.897285138402634e-07,\n",
              " 'lambda_l2': 0.00365564781783537,\n",
              " 'max_depth': 4,\n",
              " 'min_child_samples': 20,\n",
              " 'n_estimators': 4170,\n",
              " 'num_leaves': 89}"
            ]
          },
          "metadata": {
            "tags": []
          },
          "execution_count": 171
        }
      ]
    },
    {
      "cell_type": "code",
      "metadata": {
        "colab": {
          "base_uri": "https://localhost:8080/"
        },
        "id": "S_4jdK6SvFPm",
        "outputId": "41781d9c-21f1-4cc1-df79-4f9cd9c99e64"
      },
      "source": [
        "d_trial_lgb = d_study_lgb.best_trial\n",
        "dinner_lgb_params = d_trial_lgb.params\n",
        "dinner_lgb_params"
      ],
      "execution_count": null,
      "outputs": [
        {
          "output_type": "execute_result",
          "data": {
            "text/plain": [
              "{'bagging_fraction': 0.939671806615613,\n",
              " 'bagging_freq': 3,\n",
              " 'feature_fraction': 0.8209938685648955,\n",
              " 'lambda_l1': 0.0027795525571181335,\n",
              " 'lambda_l2': 0.0013189876581934216,\n",
              " 'max_depth': 4,\n",
              " 'min_child_samples': 28,\n",
              " 'n_estimators': 4351,\n",
              " 'num_leaves': 77}"
            ]
          },
          "metadata": {
            "tags": []
          },
          "execution_count": 172
        }
      ]
    },
    {
      "cell_type": "markdown",
      "metadata": {
        "id": "L3aUvzvEnnc_"
      },
      "source": [
        "#### Predict"
      ]
    },
    {
      "cell_type": "code",
      "metadata": {
        "colab": {
          "base_uri": "https://localhost:8080/"
        },
        "id": "hLoo862Fuoyl",
        "outputId": "d8b48b29-1bc2-4bd3-cce1-7059c96b1107"
      },
      "source": [
        "lunch_lgb_model = lgb.LGBMRegressor(**lunch_lgb_params)\n",
        "lunch_lgb_model.fit(b_train_df.drop(['lunch_y', 'dinner_y'], axis=1), b_train_df['lunch_y'], eval_metric='mae')\n",
        "lunch_lgb_pred = lunch_lgb_model.predict(b_test_df)\n",
        "\n",
        "dinner_lgb_model = lgb.LGBMRegressor(**dinner_lgb_params)\n",
        "dinner_lgb_model.fit(b_train_df.drop(['lunch_y', 'dinner_y'], axis=1), b_train_df['dinner_y'], eval_metric='mae')\n",
        "dinner_lgb_pred = dinner_lgb_model.predict(b_test_df)"
      ],
      "execution_count": null,
      "outputs": [
        {
          "output_type": "stream",
          "text": [
            "[LightGBM] [Warning] feature_fraction is set=0.6799896576109249, colsample_bytree=1.0 will be ignored. Current value: feature_fraction=0.6799896576109249\n",
            "[LightGBM] [Warning] bagging_freq is set=6, subsample_freq=0 will be ignored. Current value: bagging_freq=6\n",
            "[LightGBM] [Warning] lambda_l2 is set=0.00365564781783537, reg_lambda=0.0 will be ignored. Current value: lambda_l2=0.00365564781783537\n",
            "[LightGBM] [Warning] lambda_l1 is set=2.897285138402634e-07, reg_alpha=0.0 will be ignored. Current value: lambda_l1=2.897285138402634e-07\n",
            "[LightGBM] [Warning] bagging_fraction is set=0.8187865503548556, subsample=1.0 will be ignored. Current value: bagging_fraction=0.8187865503548556\n",
            "[LightGBM] [Warning] feature_fraction is set=0.8209938685648955, colsample_bytree=1.0 will be ignored. Current value: feature_fraction=0.8209938685648955\n",
            "[LightGBM] [Warning] bagging_freq is set=3, subsample_freq=0 will be ignored. Current value: bagging_freq=3\n",
            "[LightGBM] [Warning] lambda_l2 is set=0.0013189876581934216, reg_lambda=0.0 will be ignored. Current value: lambda_l2=0.0013189876581934216\n",
            "[LightGBM] [Warning] lambda_l1 is set=0.0027795525571181335, reg_alpha=0.0 will be ignored. Current value: lambda_l1=0.0027795525571181335\n",
            "[LightGBM] [Warning] bagging_fraction is set=0.939671806615613, subsample=1.0 will be ignored. Current value: bagging_fraction=0.939671806615613\n"
          ],
          "name": "stdout"
        }
      ]
    },
    {
      "cell_type": "code",
      "metadata": {
        "colab": {
          "base_uri": "https://localhost:8080/"
        },
        "id": "pjEBjP-LutfL",
        "outputId": "2ff8339f-2c36-4eb9-c625-852ab21d6d0d"
      },
      "source": [
        "lunch_lgb_pred"
      ],
      "execution_count": null,
      "outputs": [
        {
          "output_type": "execute_result",
          "data": {
            "text/plain": [
              "array([1079.03310198,  924.10964866,  577.80795891, 1249.64290239,\n",
              "        895.40968667,  976.67085872,  932.21715732,  588.31314377,\n",
              "       1265.88372599, 1007.43627688,  753.3058041 , 1298.1315063 ,\n",
              "       1095.51476572, 1143.45021793,  904.39944554,  686.3541367 ,\n",
              "       1325.01370148, 1057.89940921,  963.60653005,  798.25491832,\n",
              "        642.38341296, 1102.81447347, 1014.60911754,  871.34047641,\n",
              "        586.9445266 , 1368.12620978, 1142.22587593,  987.52438831,\n",
              "        964.93036481,  753.91854802, 1305.10202639,  976.69937358,\n",
              "       1135.31632959,  951.21850548,  646.85876952, 1227.54952625,\n",
              "       1032.7836392 ,  980.65422895,  850.75414849,  558.01674131,\n",
              "       1197.43640734,  999.96037929, 1007.00921605,  824.95815502,\n",
              "        607.28509736, 1228.23824069, 1075.8525771 , 1064.4343903 ,\n",
              "        891.26183146,  622.11567044])"
            ]
          },
          "metadata": {
            "tags": []
          },
          "execution_count": 174
        }
      ]
    },
    {
      "cell_type": "code",
      "metadata": {
        "colab": {
          "base_uri": "https://localhost:8080/"
        },
        "id": "4GuXL30svQN1",
        "outputId": "c4c62b15-c256-4280-a4b8-60ed9ddf3495"
      },
      "source": [
        "dinner_lgb_pred"
      ],
      "execution_count": null,
      "outputs": [
        {
          "output_type": "execute_result",
          "data": {
            "text/plain": [
              "array([240.64583374, 395.31253185, 230.10808226, 536.22486105,\n",
              "       436.06674743, 435.43609076, 417.67914823, 316.7960654 ,\n",
              "       576.4247487 , 470.58059628,  64.61235642, 716.50671474,\n",
              "       532.11446787, 338.15984255, 468.82518124, 362.77551051,\n",
              "       644.14007198, 630.39492527, 370.51080814, 489.80303535,\n",
              "       345.26131363, 637.2045706 , 445.68363242, 499.00831437,\n",
              "       379.33171555, 615.08692761, 566.33144218, 395.44760439,\n",
              "       524.533477  , 285.36198195, 698.27470741, 500.0443474 ,\n",
              "       459.49348451, 482.87676549, 194.51826389, 663.76134889,\n",
              "       590.70957418, 318.86217704, 488.28828955, 217.18639504,\n",
              "       705.05824861, 604.94206022, 296.65494587, 408.72644953,\n",
              "       309.53007816, 655.41708784, 553.40894854, 527.76336813,\n",
              "       486.43570526, 339.27940083])"
            ]
          },
          "metadata": {
            "tags": []
          },
          "execution_count": 175
        }
      ]
    },
    {
      "cell_type": "code",
      "metadata": {
        "colab": {
          "base_uri": "https://localhost:8080/",
          "height": 199
        },
        "id": "JACfYxl9vl1U",
        "outputId": "65561fb1-d6e7-4ee1-fd1f-3a26ae8cfd59"
      },
      "source": [
        "lgb_submit = pd.read_csv(PATH + 'sample_submission.csv')\n",
        "lgb_submit['중식계'] = lunch_lgb_pred\n",
        "lgb_submit['석식계'] = dinner_lgb_pred\n",
        "lgb_submit.to_csv(PATH + 'lgb_base.csv', index=False)\n",
        "lgb_submit.head()"
      ],
      "execution_count": null,
      "outputs": [
        {
          "output_type": "execute_result",
          "data": {
            "text/html": [
              "<div>\n",
              "<style scoped>\n",
              "    .dataframe tbody tr th:only-of-type {\n",
              "        vertical-align: middle;\n",
              "    }\n",
              "\n",
              "    .dataframe tbody tr th {\n",
              "        vertical-align: top;\n",
              "    }\n",
              "\n",
              "    .dataframe thead th {\n",
              "        text-align: right;\n",
              "    }\n",
              "</style>\n",
              "<table border=\"1\" class=\"dataframe\">\n",
              "  <thead>\n",
              "    <tr style=\"text-align: right;\">\n",
              "      <th></th>\n",
              "      <th>일자</th>\n",
              "      <th>중식계</th>\n",
              "      <th>석식계</th>\n",
              "    </tr>\n",
              "  </thead>\n",
              "  <tbody>\n",
              "    <tr>\n",
              "      <th>0</th>\n",
              "      <td>2021-01-27</td>\n",
              "      <td>1079.033102</td>\n",
              "      <td>240.645834</td>\n",
              "    </tr>\n",
              "    <tr>\n",
              "      <th>1</th>\n",
              "      <td>2021-01-28</td>\n",
              "      <td>924.109649</td>\n",
              "      <td>395.312532</td>\n",
              "    </tr>\n",
              "    <tr>\n",
              "      <th>2</th>\n",
              "      <td>2021-01-29</td>\n",
              "      <td>577.807959</td>\n",
              "      <td>230.108082</td>\n",
              "    </tr>\n",
              "    <tr>\n",
              "      <th>3</th>\n",
              "      <td>2021-02-01</td>\n",
              "      <td>1249.642902</td>\n",
              "      <td>536.224861</td>\n",
              "    </tr>\n",
              "    <tr>\n",
              "      <th>4</th>\n",
              "      <td>2021-02-02</td>\n",
              "      <td>895.409687</td>\n",
              "      <td>436.066747</td>\n",
              "    </tr>\n",
              "  </tbody>\n",
              "</table>\n",
              "</div>"
            ],
            "text/plain": [
              "           일자          중식계         석식계\n",
              "0  2021-01-27  1079.033102  240.645834\n",
              "1  2021-01-28   924.109649  395.312532\n",
              "2  2021-01-29   577.807959  230.108082\n",
              "3  2021-02-01  1249.642902  536.224861\n",
              "4  2021-02-02   895.409687  436.066747"
            ]
          },
          "metadata": {
            "tags": []
          },
          "execution_count": 176
        }
      ]
    },
    {
      "cell_type": "code",
      "metadata": {
        "id": "xMWINF0jFglK"
      },
      "source": [
        "# regex = \"\\((.*?)\\)\"\n",
        "# for i in range(len(all_df)):\n",
        "#     all_df['조식메뉴'][i] = re.sub(regex, '', all_df['조식메뉴'][i])\n",
        "#     all_df['중식메뉴'][i] = re.sub(regex, '', all_df['중식메뉴'][i])\n",
        "#     all_df['석식메뉴'][i] = re.sub(regex, '', all_df['석식메뉴'][i])\n",
        "\n",
        "\n",
        "# regex = '[/*,&+-><]'\n",
        "# for i in range(len(all_df)):\n",
        "#     all_df['조식메뉴'][i] = re.sub(regex, '', all_df['조식메뉴'][i])\n",
        "#     all_df['중식메뉴'][i] = re.sub(regex, '', all_df['중식메뉴'][i])\n",
        "#     all_df['석식메뉴'][i] = re.sub(regex, '', all_df['석식메뉴'][i])\n",
        "\n",
        "# regex = 'D|BLT'\n",
        "# for i in range(len(all_df)):\n",
        "#     all_df['조식메뉴'][i] = re.sub(regex, '', all_df['조식메뉴'][i])\n",
        "#     all_df['중식메뉴'][i] = re.sub(regex, '', all_df['중식메뉴'][i])\n",
        "#     all_df['석식메뉴'][i] = re.sub(regex, '', all_df['석식메뉴'][i])"
      ],
      "execution_count": null,
      "outputs": []
    },
    {
      "cell_type": "code",
      "metadata": {
        "id": "jQ5lnAhdJXj4"
      },
      "source": [
        "# tfidf에 입력하는 코퍼스가 공백기준으로 단어를 인식해서 그냥 위의 all_df 사용\n",
        "\n",
        "# col = ['조식메뉴', '중식메뉴', '석식메뉴']\n",
        "# for i in col:\n",
        "#     all_df[i] = all_df[i].str.split()\n",
        "# all_df"
      ],
      "execution_count": null,
      "outputs": []
    },
    {
      "cell_type": "markdown",
      "metadata": {
        "id": "M_ftaXkjn1SE"
      },
      "source": [
        "- 메뉴 정리\n",
        "\n",
        "    - Tfidf로 단어를 임베딩\n",
        "    - 임베딩한 값이 특정 threshold 미만이면 없애기\n",
        "    - 예를 들어 계란후라이 tfidf 값이 0.1이면 threshold를 0.15정도로 지정해서 계란후라이 지우기\n",
        "    - 지우고 남아 있는 메뉴 리스트에서 "
      ]
    },
    {
      "cell_type": "code",
      "metadata": {
        "id": "QeIifxKohDTf"
      },
      "source": [
        "# def list_make(list, column):\n",
        "#     for i in all_df[column]:\n",
        "#         list.append(i)\n",
        "#     return list\n",
        "# breakfast_list = []\n",
        "# lunch_list = []\n",
        "# dinner_list = []\n",
        "\n",
        "# breakfast_list = list_make(breakfast_list, '조식메뉴')\n",
        "# lunch_list = list_make(lunch_list, '중식메뉴')\n",
        "# dinner_list = list_make(dinner_list, '석식메뉴')"
      ],
      "execution_count": null,
      "outputs": []
    },
    {
      "cell_type": "code",
      "metadata": {
        "id": "H5f7GtOjjk0a"
      },
      "source": [
        "# breakfast_list[:5]"
      ],
      "execution_count": null,
      "outputs": []
    },
    {
      "cell_type": "code",
      "metadata": {
        "id": "G4RAOvfDq8zx"
      },
      "source": [
        "\n",
        "# non = []\n",
        "# def tfidf_view(sikdan):\n",
        "#     tfidf = TfidfVectorizer()\n",
        "#     sikdan_tfidf = tfidf.fit_transform(sikdan)\n",
        "#     word2id = defaultdict(lambda : 0)\n",
        "#     for idx, feature in enumerate(tfidf.get_feature_names()):\n",
        "#         word2id[feature] = idx\n",
        "#     for i, sent in enumerate(sikdan):\n",
        "#         print(' ===== document[%d] ====='%i)\n",
        "#         for token in sent.split():\n",
        "#             print([(token, sikdan_tfidf[i, word2id[token]])])\n",
        "#             if sikdan_tfidf[i, word2id[token]] < 0.001:\n",
        "#                 non.append(token)\n",
        "        \n",
        "\n",
        "# tfidf_view(breakfast_list)\n",
        "# non"
      ],
      "execution_count": null,
      "outputs": []
    }
  ]
}