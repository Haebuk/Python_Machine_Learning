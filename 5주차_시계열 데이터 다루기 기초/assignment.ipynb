{
 "cells": [
  {
   "cell_type": "markdown",
   "source": [
    "# 시계열 데이터 다루기 기초 숙제\r\n",
    "- 제공된 apartment.csv 데이터를 이용하여 코드를 완성해주세요\r\n",
    "    - 제공된 데이터는 DACON의 '아파트 실거래가 예측 대회'에서 제공된 데이터에서 \r\n",
    "    - 하계동에 위치한 현대아파트의 거래연월별 평균 실거래가를 가공한 데이터입니다.\r\n",
    "    - https://dacon.io/competitions/official/21265/data"
   ],
   "metadata": {}
  },
  {
   "cell_type": "markdown",
   "source": [
    "## 데이터를 불러오고 데이터의 정보를 확인해주세요."
   ],
   "metadata": {}
  },
  {
   "cell_type": "code",
   "execution_count": 17,
   "source": [
    "import pandas as pd\r\n",
    "df = pd.read_csv('apartment.csv')\r\n",
    "df.head()"
   ],
   "outputs": [
    {
     "output_type": "execute_result",
     "data": {
      "text/plain": [
       "     거래연월        평균실거래가\n",
       "0  200801  40500.000000\n",
       "1  200802  42080.000000\n",
       "2  200803  44783.333333\n",
       "3  200804  49000.000000\n",
       "4  200805  44000.000000"
      ],
      "text/html": [
       "<div>\n",
       "<style scoped>\n",
       "    .dataframe tbody tr th:only-of-type {\n",
       "        vertical-align: middle;\n",
       "    }\n",
       "\n",
       "    .dataframe tbody tr th {\n",
       "        vertical-align: top;\n",
       "    }\n",
       "\n",
       "    .dataframe thead th {\n",
       "        text-align: right;\n",
       "    }\n",
       "</style>\n",
       "<table border=\"1\" class=\"dataframe\">\n",
       "  <thead>\n",
       "    <tr style=\"text-align: right;\">\n",
       "      <th></th>\n",
       "      <th>거래연월</th>\n",
       "      <th>평균실거래가</th>\n",
       "    </tr>\n",
       "  </thead>\n",
       "  <tbody>\n",
       "    <tr>\n",
       "      <th>0</th>\n",
       "      <td>200801</td>\n",
       "      <td>40500.000000</td>\n",
       "    </tr>\n",
       "    <tr>\n",
       "      <th>1</th>\n",
       "      <td>200802</td>\n",
       "      <td>42080.000000</td>\n",
       "    </tr>\n",
       "    <tr>\n",
       "      <th>2</th>\n",
       "      <td>200803</td>\n",
       "      <td>44783.333333</td>\n",
       "    </tr>\n",
       "    <tr>\n",
       "      <th>3</th>\n",
       "      <td>200804</td>\n",
       "      <td>49000.000000</td>\n",
       "    </tr>\n",
       "    <tr>\n",
       "      <th>4</th>\n",
       "      <td>200805</td>\n",
       "      <td>44000.000000</td>\n",
       "    </tr>\n",
       "  </tbody>\n",
       "</table>\n",
       "</div>"
      ]
     },
     "metadata": {},
     "execution_count": 17
    }
   ],
   "metadata": {}
  },
  {
   "cell_type": "code",
   "execution_count": 18,
   "source": [
    "df.info()"
   ],
   "outputs": [
    {
     "output_type": "stream",
     "name": "stdout",
     "text": [
      "<class 'pandas.core.frame.DataFrame'>\n",
      "RangeIndex: 94 entries, 0 to 93\n",
      "Data columns (total 2 columns):\n",
      " #   Column  Non-Null Count  Dtype  \n",
      "---  ------  --------------  -----  \n",
      " 0   거래연월    94 non-null     int64  \n",
      " 1   평균실거래가  94 non-null     float64\n",
      "dtypes: float64(1), int64(1)\n",
      "memory usage: 1.6 KB\n"
     ]
    }
   ],
   "metadata": {}
  },
  {
   "cell_type": "markdown",
   "source": [
    "## 거래연월 열을 시계열 자료형으로 변환해주세요.\r\n",
    "- HINT: 교안대로 하면 이상하게 바뀔겁니다. format 키워드를 활용해주세요."
   ],
   "metadata": {}
  },
  {
   "cell_type": "code",
   "execution_count": 19,
   "source": [
    "df['거래연월'] = pd.to_datetime(df['거래연월'], format='%Y%m')"
   ],
   "outputs": [],
   "metadata": {}
  },
  {
   "cell_type": "markdown",
   "source": [
    "## 거래연월에서 연과 열을 분리해 새로운 열을 만들어주세요."
   ],
   "metadata": {}
  },
  {
   "cell_type": "code",
   "execution_count": 20,
   "source": [
    "df['연'] = df['거래연월'].dt.year\r\n",
    "df['월'] = df['거래연월'].dt.month\r\n",
    "df.head()"
   ],
   "outputs": [
    {
     "output_type": "execute_result",
     "data": {
      "text/plain": [
       "        거래연월        평균실거래가     연  월\n",
       "0 2008-01-01  40500.000000  2008  1\n",
       "1 2008-02-01  42080.000000  2008  2\n",
       "2 2008-03-01  44783.333333  2008  3\n",
       "3 2008-04-01  49000.000000  2008  4\n",
       "4 2008-05-01  44000.000000  2008  5"
      ],
      "text/html": [
       "<div>\n",
       "<style scoped>\n",
       "    .dataframe tbody tr th:only-of-type {\n",
       "        vertical-align: middle;\n",
       "    }\n",
       "\n",
       "    .dataframe tbody tr th {\n",
       "        vertical-align: top;\n",
       "    }\n",
       "\n",
       "    .dataframe thead th {\n",
       "        text-align: right;\n",
       "    }\n",
       "</style>\n",
       "<table border=\"1\" class=\"dataframe\">\n",
       "  <thead>\n",
       "    <tr style=\"text-align: right;\">\n",
       "      <th></th>\n",
       "      <th>거래연월</th>\n",
       "      <th>평균실거래가</th>\n",
       "      <th>연</th>\n",
       "      <th>월</th>\n",
       "    </tr>\n",
       "  </thead>\n",
       "  <tbody>\n",
       "    <tr>\n",
       "      <th>0</th>\n",
       "      <td>2008-01-01</td>\n",
       "      <td>40500.000000</td>\n",
       "      <td>2008</td>\n",
       "      <td>1</td>\n",
       "    </tr>\n",
       "    <tr>\n",
       "      <th>1</th>\n",
       "      <td>2008-02-01</td>\n",
       "      <td>42080.000000</td>\n",
       "      <td>2008</td>\n",
       "      <td>2</td>\n",
       "    </tr>\n",
       "    <tr>\n",
       "      <th>2</th>\n",
       "      <td>2008-03-01</td>\n",
       "      <td>44783.333333</td>\n",
       "      <td>2008</td>\n",
       "      <td>3</td>\n",
       "    </tr>\n",
       "    <tr>\n",
       "      <th>3</th>\n",
       "      <td>2008-04-01</td>\n",
       "      <td>49000.000000</td>\n",
       "      <td>2008</td>\n",
       "      <td>4</td>\n",
       "    </tr>\n",
       "    <tr>\n",
       "      <th>4</th>\n",
       "      <td>2008-05-01</td>\n",
       "      <td>44000.000000</td>\n",
       "      <td>2008</td>\n",
       "      <td>5</td>\n",
       "    </tr>\n",
       "  </tbody>\n",
       "</table>\n",
       "</div>"
      ]
     },
     "metadata": {},
     "execution_count": 20
    }
   ],
   "metadata": {}
  },
  {
   "cell_type": "markdown",
   "source": [
    "## 월별 실거래가 차이를 계산한 `실거래가차이` 열을 만들어주세요.\r\n",
    "- 빠진 월은 고려하지 않겠습니다."
   ],
   "metadata": {}
  },
  {
   "cell_type": "code",
   "execution_count": 21,
   "source": [
    "df['실거래가차이'] = df['평균실거래가'] - df['평균실거래가'].shift(1)\r\n",
    "df.head()"
   ],
   "outputs": [
    {
     "output_type": "execute_result",
     "data": {
      "text/plain": [
       "        거래연월        평균실거래가     연  월       실거래가차이\n",
       "0 2008-01-01  40500.000000  2008  1          NaN\n",
       "1 2008-02-01  42080.000000  2008  2  1580.000000\n",
       "2 2008-03-01  44783.333333  2008  3  2703.333333\n",
       "3 2008-04-01  49000.000000  2008  4  4216.666667\n",
       "4 2008-05-01  44000.000000  2008  5 -5000.000000"
      ],
      "text/html": [
       "<div>\n",
       "<style scoped>\n",
       "    .dataframe tbody tr th:only-of-type {\n",
       "        vertical-align: middle;\n",
       "    }\n",
       "\n",
       "    .dataframe tbody tr th {\n",
       "        vertical-align: top;\n",
       "    }\n",
       "\n",
       "    .dataframe thead th {\n",
       "        text-align: right;\n",
       "    }\n",
       "</style>\n",
       "<table border=\"1\" class=\"dataframe\">\n",
       "  <thead>\n",
       "    <tr style=\"text-align: right;\">\n",
       "      <th></th>\n",
       "      <th>거래연월</th>\n",
       "      <th>평균실거래가</th>\n",
       "      <th>연</th>\n",
       "      <th>월</th>\n",
       "      <th>실거래가차이</th>\n",
       "    </tr>\n",
       "  </thead>\n",
       "  <tbody>\n",
       "    <tr>\n",
       "      <th>0</th>\n",
       "      <td>2008-01-01</td>\n",
       "      <td>40500.000000</td>\n",
       "      <td>2008</td>\n",
       "      <td>1</td>\n",
       "      <td>NaN</td>\n",
       "    </tr>\n",
       "    <tr>\n",
       "      <th>1</th>\n",
       "      <td>2008-02-01</td>\n",
       "      <td>42080.000000</td>\n",
       "      <td>2008</td>\n",
       "      <td>2</td>\n",
       "      <td>1580.000000</td>\n",
       "    </tr>\n",
       "    <tr>\n",
       "      <th>2</th>\n",
       "      <td>2008-03-01</td>\n",
       "      <td>44783.333333</td>\n",
       "      <td>2008</td>\n",
       "      <td>3</td>\n",
       "      <td>2703.333333</td>\n",
       "    </tr>\n",
       "    <tr>\n",
       "      <th>3</th>\n",
       "      <td>2008-04-01</td>\n",
       "      <td>49000.000000</td>\n",
       "      <td>2008</td>\n",
       "      <td>4</td>\n",
       "      <td>4216.666667</td>\n",
       "    </tr>\n",
       "    <tr>\n",
       "      <th>4</th>\n",
       "      <td>2008-05-01</td>\n",
       "      <td>44000.000000</td>\n",
       "      <td>2008</td>\n",
       "      <td>5</td>\n",
       "      <td>-5000.000000</td>\n",
       "    </tr>\n",
       "  </tbody>\n",
       "</table>\n",
       "</div>"
      ]
     },
     "metadata": {},
     "execution_count": 21
    }
   ],
   "metadata": {}
  },
  {
   "cell_type": "markdown",
   "source": [
    "## 거래연월을 순서형 변수로 바꾼 `label_encoded` 열을 만들어주세요."
   ],
   "metadata": {}
  },
  {
   "cell_type": "code",
   "execution_count": 22,
   "source": [
    "from sklearn.preprocessing import LabelEncoder\r\n",
    "le = LabelEncoder()\r\n",
    "df['label_encoded'] = le.fit_transform(df['거래연월'])\r\n",
    "df"
   ],
   "outputs": [
    {
     "output_type": "execute_result",
     "data": {
      "text/plain": [
       "         거래연월        평균실거래가     연   월       실거래가차이  label_encoded\n",
       "0  2008-01-01  40500.000000  2008   1          NaN              0\n",
       "1  2008-02-01  42080.000000  2008   2  1580.000000              1\n",
       "2  2008-03-01  44783.333333  2008   3  2703.333333              2\n",
       "3  2008-04-01  49000.000000  2008   4  4216.666667              3\n",
       "4  2008-05-01  44000.000000  2008   5 -5000.000000              4\n",
       "..        ...           ...   ...  ..          ...            ...\n",
       "89 2017-05-01  47085.714286  2017   5   -14.285714             89\n",
       "90 2017-06-01  48258.333333  2017   6  1172.619048             90\n",
       "91 2017-07-01  49200.000000  2017   7   941.666667             91\n",
       "92 2017-10-01  51950.000000  2017  10  2750.000000             92\n",
       "93 2017-11-01  49425.000000  2017  11 -2525.000000             93\n",
       "\n",
       "[94 rows x 6 columns]"
      ],
      "text/html": [
       "<div>\n",
       "<style scoped>\n",
       "    .dataframe tbody tr th:only-of-type {\n",
       "        vertical-align: middle;\n",
       "    }\n",
       "\n",
       "    .dataframe tbody tr th {\n",
       "        vertical-align: top;\n",
       "    }\n",
       "\n",
       "    .dataframe thead th {\n",
       "        text-align: right;\n",
       "    }\n",
       "</style>\n",
       "<table border=\"1\" class=\"dataframe\">\n",
       "  <thead>\n",
       "    <tr style=\"text-align: right;\">\n",
       "      <th></th>\n",
       "      <th>거래연월</th>\n",
       "      <th>평균실거래가</th>\n",
       "      <th>연</th>\n",
       "      <th>월</th>\n",
       "      <th>실거래가차이</th>\n",
       "      <th>label_encoded</th>\n",
       "    </tr>\n",
       "  </thead>\n",
       "  <tbody>\n",
       "    <tr>\n",
       "      <th>0</th>\n",
       "      <td>2008-01-01</td>\n",
       "      <td>40500.000000</td>\n",
       "      <td>2008</td>\n",
       "      <td>1</td>\n",
       "      <td>NaN</td>\n",
       "      <td>0</td>\n",
       "    </tr>\n",
       "    <tr>\n",
       "      <th>1</th>\n",
       "      <td>2008-02-01</td>\n",
       "      <td>42080.000000</td>\n",
       "      <td>2008</td>\n",
       "      <td>2</td>\n",
       "      <td>1580.000000</td>\n",
       "      <td>1</td>\n",
       "    </tr>\n",
       "    <tr>\n",
       "      <th>2</th>\n",
       "      <td>2008-03-01</td>\n",
       "      <td>44783.333333</td>\n",
       "      <td>2008</td>\n",
       "      <td>3</td>\n",
       "      <td>2703.333333</td>\n",
       "      <td>2</td>\n",
       "    </tr>\n",
       "    <tr>\n",
       "      <th>3</th>\n",
       "      <td>2008-04-01</td>\n",
       "      <td>49000.000000</td>\n",
       "      <td>2008</td>\n",
       "      <td>4</td>\n",
       "      <td>4216.666667</td>\n",
       "      <td>3</td>\n",
       "    </tr>\n",
       "    <tr>\n",
       "      <th>4</th>\n",
       "      <td>2008-05-01</td>\n",
       "      <td>44000.000000</td>\n",
       "      <td>2008</td>\n",
       "      <td>5</td>\n",
       "      <td>-5000.000000</td>\n",
       "      <td>4</td>\n",
       "    </tr>\n",
       "    <tr>\n",
       "      <th>...</th>\n",
       "      <td>...</td>\n",
       "      <td>...</td>\n",
       "      <td>...</td>\n",
       "      <td>...</td>\n",
       "      <td>...</td>\n",
       "      <td>...</td>\n",
       "    </tr>\n",
       "    <tr>\n",
       "      <th>89</th>\n",
       "      <td>2017-05-01</td>\n",
       "      <td>47085.714286</td>\n",
       "      <td>2017</td>\n",
       "      <td>5</td>\n",
       "      <td>-14.285714</td>\n",
       "      <td>89</td>\n",
       "    </tr>\n",
       "    <tr>\n",
       "      <th>90</th>\n",
       "      <td>2017-06-01</td>\n",
       "      <td>48258.333333</td>\n",
       "      <td>2017</td>\n",
       "      <td>6</td>\n",
       "      <td>1172.619048</td>\n",
       "      <td>90</td>\n",
       "    </tr>\n",
       "    <tr>\n",
       "      <th>91</th>\n",
       "      <td>2017-07-01</td>\n",
       "      <td>49200.000000</td>\n",
       "      <td>2017</td>\n",
       "      <td>7</td>\n",
       "      <td>941.666667</td>\n",
       "      <td>91</td>\n",
       "    </tr>\n",
       "    <tr>\n",
       "      <th>92</th>\n",
       "      <td>2017-10-01</td>\n",
       "      <td>51950.000000</td>\n",
       "      <td>2017</td>\n",
       "      <td>10</td>\n",
       "      <td>2750.000000</td>\n",
       "      <td>92</td>\n",
       "    </tr>\n",
       "    <tr>\n",
       "      <th>93</th>\n",
       "      <td>2017-11-01</td>\n",
       "      <td>49425.000000</td>\n",
       "      <td>2017</td>\n",
       "      <td>11</td>\n",
       "      <td>-2525.000000</td>\n",
       "      <td>93</td>\n",
       "    </tr>\n",
       "  </tbody>\n",
       "</table>\n",
       "<p>94 rows × 6 columns</p>\n",
       "</div>"
      ]
     },
     "metadata": {},
     "execution_count": 22
    }
   ],
   "metadata": {}
  },
  {
   "cell_type": "markdown",
   "source": [
    "## Challenge 👍\r\n",
    "- 거래연월별 평균실거래가를 담은 그래프를 그려주세요\r\n",
    "- 정보를 가장 잘 표현하면서 본인이 할 수 있는 가장 예쁜 그래프를 만들어주세요:)"
   ],
   "metadata": {}
  },
  {
   "cell_type": "code",
   "execution_count": 30,
   "source": [
    "import matplotlib.pyplot as plt\r\n",
    "import numpy as np\r\n",
    "plt.rcParams['axes.unicode_minus'] = False\r\n",
    "import seaborn as sns\r\n",
    "sns.set_theme()"
   ],
   "outputs": [],
   "metadata": {}
  },
  {
   "cell_type": "code",
   "execution_count": 24,
   "source": [
    "df['거래연월'] = df['거래연월'].dt.strftime('%Y-%m')"
   ],
   "outputs": [],
   "metadata": {}
  },
  {
   "cell_type": "code",
   "execution_count": 38,
   "source": [
    "plt.figure(figsize=(16, 8))\r\n",
    "plt.rc('font', family='Malgun Gothic')\r\n",
    "sns.pointplot(x='거래연월', y='평균실거래가', data=df, color='lightcoral')\r\n",
    "plt.ylabel('평균실거래가(만원)')\r\n",
    "plt.xlabel('거래연월')\r\n",
    "plt.grid()\r\n",
    "plt.xticks(np.arange(0, 94, step=6), rotation=45,) # 가로축 표시 90도 회전, 일정 간격 표시\r\n",
    "plt.show()"
   ],
   "outputs": [
    {
     "output_type": "display_data",
     "data": {
      "text/plain": [
       "<Figure size 1152x576 with 1 Axes>"
      ],
      "image/png": "[encoded data removed]"
     },
     "metadata": {}
    }
   ],
   "metadata": {}
  }
 ],
 "metadata": {
  "orig_nbformat": 4,
  "language_info": {
   "name": "python",
   "version": "3.7.10",
   "mimetype": "text/x-python",
   "codemirror_mode": {
    "name": "ipython",
    "version": 3
   },
   "pygments_lexer": "ipython3",
   "nbconvert_exporter": "python",
   "file_extension": ".py"
  },
  "kernelspec": {
   "name": "python3",
   "display_name": "Python 3.7.10 64-bit ('base': conda)"
  },
  "interpreter": {
   "hash": "b3ba2566441a7c06988d0923437866b63cedc61552a5af99d1f4fb67d367b25f"
  }
 },
 "nbformat": 4,
 "nbformat_minor": 2
}