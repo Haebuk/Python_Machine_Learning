{
  "nbformat": 4,
  "nbformat_minor": 0,
  "metadata": {
    "colab": {
      "name": "logfile_practice.ipynb",
      "provenance": [],
      "mount_file_id": "137yGH5ksykgMMQXDfD3EsRmIVkzNZi0C",
      "authorship_tag": "ABX9TyNygRrIbf3wN/87sPaTsYz2",
      "include_colab_link": true
    },
    "kernelspec": {
      "name": "python3",
      "display_name": "Python 3"
    },
    "language_info": {
      "name": "python"
    }
  },
  "cells": [
    {
      "cell_type": "markdown",
      "metadata": {
        "id": "view-in-github",
        "colab_type": "text"
      },
      "source": [
        "<a href=\"https://colab.research.google.com/github/Haebuk/Python_Machine_Learning/blob/master/logfile_practice.ipynb\" target=\"_parent\"><img src=\"https://colab.research.google.com/assets/colab-badge.svg\" alt=\"Open In Colab\"/></a>"
      ]
    },
    {
      "cell_type": "markdown",
      "metadata": {
        "id": "KQHcxBjR3apc"
      },
      "source": [
        "https://www.kaggle.com/eliasdabbas/webserver-log-file-analysis"
      ]
    },
    {
      "cell_type": "markdown",
      "metadata": {
        "id": "xu5EhZvN3rHG"
      },
      "source": [
        ""
      ]
    },
    {
      "cell_type": "code",
      "metadata": {
        "id": "rj8saGKt3qzi",
        "colab": {
          "base_uri": "https://localhost:8080/"
        },
        "outputId": "ad62e51a-1ebd-4791-88a6-dc6f941f839f"
      },
      "source": [
        "import pandas as pd\n",
        "import re\n",
        "import os\n",
        "import time\n",
        "from tqdm import tqdm\n",
        "\n",
        "for path, dir, filenames in os.walk('/content/drive/MyDrive/input/access.log'):\n",
        "    for filename in filenames:\n",
        "        logfile = os.path.join(path, filename)\n",
        "        print(logfile)"
      ],
      "execution_count": null,
      "outputs": [
        {
          "output_type": "stream",
          "text": [
            "/content/drive/MyDrive/input/access.log/access.log\n"
          ],
          "name": "stdout"
        }
      ]
    },
    {
      "cell_type": "markdown",
      "metadata": {
        "id": "8natj1Me523_"
      },
      "source": [
        "- `os.listdir(dirname)`: `dirname`에 위치한 파일 목록 열거\n",
        "- `os.path.join(dirname, filename)`: `dirname`과 `filename` 경로를 이어줌\n",
        "- `os.path.splitext`: 파일명을 파일이름과 확장자명 두가지로 나눠줌"
      ]
    },
    {
      "cell_type": "code",
      "metadata": {
        "colab": {
          "base_uri": "https://localhost:8080/"
        },
        "id": "W4pyjQk0lX7E",
        "outputId": "af78a3ba-55f4-4a89-b62a-e3b8baaa99e2"
      },
      "source": [
        "!ls -lsSh /content/drive/MyDrive/input/access.log/access.log"
      ],
      "execution_count": null,
      "outputs": [
        {
          "output_type": "stream",
          "text": [
            "3.3G -rw------- 1 root root 3.3G Jul 16 01:08 /content/drive/MyDrive/input/access.log/access.log\n"
          ],
          "name": "stdout"
        }
      ]
    },
    {
      "cell_type": "code",
      "metadata": {
        "colab": {
          "base_uri": "https://localhost:8080/"
        },
        "id": "YtaMLGRv4vv0",
        "outputId": "7bd0171c-4f29-495f-8794-7a12ad0bd65a"
      },
      "source": [
        "def search(dirname):\n",
        "    filenames = os.listdir(dirname)\n",
        "    for filename in filenames:\n",
        "        full_filename = os.path.join(dirname, filename)\n",
        "        ext = os.path.splitext(full_filename)[-1]\n",
        "        if ext == '.csv':\n",
        "            print(full_filename)\n",
        "\n",
        "search('/content/drive/MyDrive/input/')"
      ],
      "execution_count": null,
      "outputs": [
        {
          "output_type": "stream",
          "text": [
            "('/content/drive/MyDrive/input/stage1_sample_submission', '.csv')\n",
            "/content/drive/MyDrive/input/stage1_sample_submission.csv\n",
            "('/content/drive/MyDrive/input/stage1_solution', '.csv')\n",
            "/content/drive/MyDrive/input/stage1_solution.csv\n",
            "('/content/drive/MyDrive/input/stage1_train_labels', '.csv')\n",
            "/content/drive/MyDrive/input/stage1_train_labels.csv\n",
            "('/content/drive/MyDrive/input/stage2_sample_submission_final', '.csv')\n",
            "/content/drive/MyDrive/input/stage2_sample_submission_final.csv\n",
            "('/content/drive/MyDrive/input/stage2_test_final', '')\n",
            "('/content/drive/MyDrive/input/stage1_train', '')\n",
            "('/content/drive/MyDrive/input/stage1_test', '')\n",
            "('/content/drive/MyDrive/input/mnist', '')\n",
            "('/content/drive/MyDrive/input/hymenoptera_data', '')\n",
            "('/content/drive/MyDrive/input/intel', '')\n",
            "('/content/drive/MyDrive/input/.ipynb_checkpoints', '')\n",
            "('/content/drive/MyDrive/input/programmers', '')\n",
            "('/content/drive/MyDrive/input/dataminingTP', '')\n",
            "('/content/drive/MyDrive/input/goodbooks10k', '')\n",
            "('/content/drive/MyDrive/input/masterclass', '')\n",
            "('/content/drive/MyDrive/input/hyundai', '')\n",
            "('/content/drive/MyDrive/input/235743_구내식당 식사 인원 예측 AI 경진대회_data', '')\n",
            "('/content/drive/MyDrive/input/IEEE-CIS Fraud Detection', '')\n",
            "('/content/drive/MyDrive/input/아카이브', '')\n",
            "('/content/drive/MyDrive/input/access', '.log')\n"
          ],
          "name": "stdout"
        }
      ]
    },
    {
      "cell_type": "markdown",
      "metadata": {
        "id": "mJ9l9r-N86aP"
      },
      "source": [
        "`os.walk(input)`\n",
        "- path: input\n",
        "- dir: 폴더 리스트\n",
        "- files: 파일 리스트"
      ]
    },
    {
      "cell_type": "code",
      "metadata": {
        "id": "cyfRAXIl3bpg",
        "colab": {
          "base_uri": "https://localhost:8080/"
        },
        "outputId": "2974c4ca-76d3-4a5d-d820-3425dfb99dae"
      },
      "source": [
        "with open(logfile) as log:\n",
        "    for line in log.readlines():\n",
        "        match = re.match(r'(.+) - - \\[(\\d{2}\\/\\w{3}\\/\\d{4}:\\d{2}:\\d{2}:\\d{2}) \\+\\d{4}\\] \\\"')"
      ],
      "execution_count": null,
      "outputs": [
        {
          "output_type": "stream",
          "text": [
            "54.36.149.41 - - [22/Jan/2019:03:56:14 +0330] \"GET /filter/27|13%20%D9%85%DA%AF%D8%A7%D9%BE%DB%8C%DA%A9%D8%B3%D9%84,27|%DA%A9%D9%85%D8%AA%D8%B1%20%D8%A7%D8%B2%205%20%D9%85%DA%AF%D8%A7%D9%BE%DB%8C%DA%A9%D8%B3%D9%84,p53 HTTP/1.1\" 200 30577 \"-\" \"Mozilla/5.0 (compatible; AhrefsBot/6.1; +http://ahrefs.com/robot/)\" \"-\"\n",
            "\n",
            "31.56.96.51 - - [22/Jan/2019:03:56:16 +0330] \"GET /image/60844/productModel/200x200 HTTP/1.1\" 200 5667 \"https://www.zanbil.ir/m/filter/b113\" \"Mozilla/5.0 (Linux; Android 6.0; ALE-L21 Build/HuaweiALE-L21) AppleWebKit/537.36 (KHTML, like Gecko) Chrome/66.0.3359.158 Mobile Safari/537.36\" \"-\"\n",
            "\n",
            "31.56.96.51 - - [22/Jan/2019:03:56:16 +0330] \"GET /image/61474/productModel/200x200 HTTP/1.1\" 200 5379 \"https://www.zanbil.ir/m/filter/b113\" \"Mozilla/5.0 (Linux; Android 6.0; ALE-L21 Build/HuaweiALE-L21) AppleWebKit/537.36 (KHTML, like Gecko) Chrome/66.0.3359.158 Mobile Safari/537.36\" \"-\"\n",
            "\n",
            "40.77.167.129 - - [22/Jan/2019:03:56:17 +0330] \"GET /image/14925/productModel/100x100 HTTP/1.1\" 200 1696 \"-\" \"Mozilla/5.0 (compatible; bingbot/2.0; +http://www.bing.com/bingbot.htm)\" \"-\"\n",
            "\n",
            "91.99.72.15 - - [22/Jan/2019:03:56:17 +0330] \"GET /product/31893/62100/%D8%B3%D8%B4%D9%88%D8%A7%D8%B1-%D8%AE%D8%A7%D9%86%DA%AF%DB%8C-%D9%BE%D8%B1%D9%86%D8%B3%D9%84%DB%8C-%D9%85%D8%AF%D9%84-PR257AT HTTP/1.1\" 200 41483 \"-\" \"Mozilla/5.0 (Windows NT 6.2; Win64; x64; rv:16.0)Gecko/16.0 Firefox/16.0\" \"-\"\n",
            "\n"
          ],
          "name": "stdout"
        }
      ]
    },
    {
      "cell_type": "code",
      "metadata": {
        "id": "9aShqyA1I7Zv"
      },
      "source": [
        "regex = '^(?P<client>\\S+) - - \\[(?P<datetime>[^*]+)\\] \"(?P<method>[A-Z]+) (?P<request>\\S+) HTTP/[0-9.]+\" (?P<status>[0-9]{3}) (?P<size>[0-9]+) \"(?P<url>\\S+)\" \"(?P<useragent>[^\"]*)\"'\n",
        "columns = ['client', 'datetime', 'method', 'request', 'status', 'size', 'url', 'useragent']"
      ],
      "execution_count": null,
      "outputs": []
    },
    {
      "cell_type": "code",
      "metadata": {
        "id": "v7KccXZZd5C-"
      },
      "source": [
        "%mkdir parquet_dir"
      ],
      "execution_count": null,
      "outputs": []
    },
    {
      "cell_type": "code",
      "metadata": {
        "id": "8k4gqz8beQ4e"
      },
      "source": [
        "def logs_to_df(logfile, output_dir, errors_file):\n",
        "    with open(logfile) as source_file:\n",
        "        linenumber = 0\n",
        "        parsed_lines = []\n",
        "        for line in tqdm(source_file):\n",
        "            try:\n",
        "                log_line = re.findall(regex, line)[0]\n",
        "                if linenumber % 50000 == 0:\n",
        "                    print(log_line)\n",
        "                parsed_lines.append(log_line)\n",
        "            except Exception as e:\n",
        "                with open(errors_file, 'at') as errfile:\n",
        "                    print((line, str(e)), file=errfile)\n",
        "                continue\n",
        "            linenumber += 1\n",
        "            if linenumber % 250000 == 0:\n",
        "                df = pd.DataFrame(parsed_lines, columns=columns)\n",
        "                df.to_parquet(f'{output_dir}/file_{linenumber}.parquet')\n",
        "                parsed_lines.clear()\n",
        "        else:\n",
        "            df = pd.DataFrame(parsed_lines, columns=columns)\n",
        "            df.to_parquet(f'{output_dir}/file_{linenumber}.parquet')\n",
        "            parsed_lines.clear()\n"
      ],
      "execution_count": null,
      "outputs": []
    },
    {
      "cell_type": "code",
      "metadata": {
        "colab": {
          "base_uri": "https://localhost:8080/"
        },
        "id": "lNxvpiyUiUib",
        "outputId": "c5a5314f-fb57-4432-ba96-9a16a100d170"
      },
      "source": [
        "%time logs_to_df(logfile=logfile, output_dir='parquet_dir', errors_file='errors.txt')"
      ],
      "execution_count": null,
      "outputs": [
        {
          "output_type": "stream",
          "text": [
            "24494it [00:00, 121708.93it/s]"
          ],
          "name": "stderr"
        },
        {
          "output_type": "stream",
          "text": [
            "('54.36.149.41', '22/Jan/2019:03:56:14 +0330', 'GET', '/filter/27|13%20%D9%85%DA%AF%D8%A7%D9%BE%DB%8C%DA%A9%D8%B3%D9%84,27|%DA%A9%D9%85%D8%AA%D8%B1%20%D8%A7%D8%B2%205%20%D9%85%DA%AF%D8%A7%D9%BE%DB%8C%DA%A9%D8%B3%D9%84,p53', '200', '30577', '-', 'Mozilla/5.0 (compatible; AhrefsBot/6.1; +http://ahrefs.com/robot/)')\n"
          ],
          "name": "stdout"
        },
        {
          "output_type": "stream",
          "text": [
            "70183it [00:00, 116789.35it/s]"
          ],
          "name": "stderr"
        },
        {
          "output_type": "stream",
          "text": [
            "('40.77.167.15', '22/Jan/2019:07:00:04 +0330', 'GET', '/filter/b67,b7,p62', '200', '30402', '-', 'Mozilla/5.0 (compatible; bingbot/2.0; +http://www.bing.com/bingbot.htm)')\n"
          ],
          "name": "stdout"
        },
        {
          "output_type": "stream",
          "text": [
            "114006it [00:01, 111689.04it/s]"
          ],
          "name": "stderr"
        },
        {
          "output_type": "stream",
          "text": [
            "('95.81.72.148', '22/Jan/2019:08:01:41 +0330', 'GET', '/image/53306/productModel/150x150', '200', '3499', 'https://www.zanbil.ir/browse/digital-supplies/%D9%84%D9%88%D8%A7%D8%B2%D9%85-%D8%AF%DB%8C%D8%AC%DB%8C%D8%AA%D8%A7%D9%84', 'Mozilla/5.0 (Windows NT 6.1; rv:60.0) Gecko/20100101 Firefox/60.0')\n"
          ],
          "name": "stdout"
        },
        {
          "output_type": "stream",
          "text": [
            "170199it [00:01, 109667.36it/s]"
          ],
          "name": "stderr"
        },
        {
          "output_type": "stream",
          "text": [
            "('66.249.66.194', '22/Jan/2019:08:36:15 +0330', 'GET', '/product/3187', '302', '0', '-', 'Mozilla/5.0 (Linux; Android 6.0.1; Nexus 5X Build/MMB29P) AppleWebKit/537.36 (KHTML, like Gecko) Chrome/41.0.2272.96 Mobile Safari/537.36 (compatible; Googlebot/2.1; +http://www.google.com/bot.html)')\n"
          ],
          "name": "stdout"
        },
        {
          "output_type": "stream",
          "text": [
            "215606it [00:01, 112423.52it/s]"
          ],
          "name": "stderr"
        },
        {
          "output_type": "stream",
          "text": [
            "('5.211.161.138', '22/Jan/2019:09:03:17 +0330', 'GET', '/image/54258/productModel/150x150', '200', '3811', 'https://www.zanbil.ir/m/product/26784/54745/%D9%85%D8%A7%D8%B4%DB%8C%D9%86-%D9%84%D8%A8%D8%A7%D8%B3%D8%B4%D9%88%DB%8C%DB%8C-%D8%AF%D8%B1%D8%A8-%D8%A7%D8%B2-%D8%AC%D9%84%D9%88-%D8%B3%D8%A7%D9%85%D8%B3%D9%88%D9%86%DA%AF-%D9%85%D8%AF%D9%84-B1253-W', 'Mozilla/5.0 (iPhone; CPU iPhone OS 12_1_2 like Mac OS X) AppleWebKit/605.1.15 (KHTML, like Gecko) Version/12.0 Mobile/15E148 Safari/604.1')\n"
          ],
          "name": "stdout"
        },
        {
          "output_type": "stream",
          "text": [
            "261458it [00:03, 41901.56it/s]"
          ],
          "name": "stderr"
        },
        {
          "output_type": "stream",
          "text": [
            "('91.92.181.203', '22/Jan/2019:09:26:38 +0330', 'GET', '/image/63126/productModel/150x150', '200', '3413', 'https://www.zanbil.ir/filter/b42,p1', 'Mozilla/5.0 (Windows NT 6.1) AppleWebKit/537.36 (KHTML, like Gecko) Chrome/71.0.3578.98 Safari/537.36')\n"
          ],
          "name": "stdout"
        },
        {
          "output_type": "stream",
          "text": [
            "317841it [00:03, 88104.27it/s]"
          ],
          "name": "stderr"
        },
        {
          "output_type": "stream",
          "text": [
            "('89.235.64.130', '22/Jan/2019:09:48:55 +0330', 'GET', '/image/32/brand', '200', '2161', 'https://www.zanbil.ir/filter/b16,b8,p3', 'Mozilla/5.0 (Windows NT 6.1; Win64; x64) AppleWebKit/537.36 (KHTML, like Gecko) Chrome/71.0.3578.98 Safari/537.36')\n"
          ],
          "name": "stdout"
        },
        {
          "output_type": "stream",
          "text": [
            "362727it [00:04, 103150.61it/s]"
          ],
          "name": "stderr"
        },
        {
          "output_type": "stream",
          "text": [
            "('185.237.87.254', '22/Jan/2019:10:09:27 +0330', 'GET', '/image/64709/productModel/100x100', '200', '2302', 'https://www.zanbil.ir/filter/b1,p62', 'Mozilla/5.0 (Windows NT 6.3; Win64; x64) AppleWebKit/537.36 (KHTML, like Gecko) Chrome/71.0.3578.98 Safari/537.36')\n"
          ],
          "name": "stdout"
        },
        {
          "output_type": "stream",
          "text": [
            "416391it [00:04, 102718.16it/s]"
          ],
          "name": "stderr"
        },
        {
          "output_type": "stream",
          "text": [
            "('2.177.185.120', '22/Jan/2019:10:28:08 +0330', 'GET', '/settings/logo', '200', '4120', 'https://www.zanbil.ir/m/browse/Teen-Furniture/%D9%85%D8%A8%D9%84%D9%85%D8%A7%D9%86-%DA%A9%D9%88%D8%AF%DA%A9-%D9%88-%D9%86%D9%88%D8%AC%D9%88%D8%A7%D9%86-', 'Mozilla/5.0 (Android 6.0.1; Mobile; rv:64.0) Gecko/64.0 Firefox/64.0')\n"
          ],
          "name": "stdout"
        },
        {
          "output_type": "stream",
          "text": [
            "472585it [00:05, 112105.03it/s]"
          ],
          "name": "stderr"
        },
        {
          "output_type": "stream",
          "text": [
            "('82.99.213.114', '22/Jan/2019:10:47:10 +0330', 'GET', '/image/32713?name=slrf-26-333.jpg&wh=300x300', '200', '9001', 'https://www.zanbil.ir/product/32713/63154/%DB%8C%D8%AE%DA%86%D8%A7%D9%84-%D9%81%D8%B1%DB%8C%D8%B2%D8%B1-%D8%AF%D9%88%D9%82%D9%84%D9%88-%D8%B3%DB%8C%D9%86%D8%AC%D8%B1-%D9%85%D8%AF%D9%84-SLRF-26', 'Mozilla/5.0 (Windows NT 6.1; WOW64; Trident/7.0; rv:11.0) like Gecko')\n"
          ],
          "name": "stdout"
        },
        {
          "output_type": "stream",
          "text": [
            "516716it [00:06, 40600.28it/s]"
          ],
          "name": "stderr"
        },
        {
          "output_type": "stream",
          "text": [
            "('2.177.247.209', '22/Jan/2019:11:06:14 +0330', 'GET', '/image/148/brand', '200', '2490', 'https://www.zanbil.ir/filter/b183', 'Mozilla/5.0 (Windows NT 10.0; Win64; x64) AppleWebKit/537.36 (KHTML, like Gecko) Chrome/71.0.3578.98 Safari/537.36')\n"
          ],
          "name": "stdout"
        },
        {
          "output_type": "stream",
          "text": [
            "573298it [00:06, 87414.83it/s]"
          ],
          "name": "stderr"
        },
        {
          "output_type": "stream",
          "text": [
            "('5.232.93.217', '22/Jan/2019:11:24:18 +0330', 'GET', '/image/31385/productTypeMenu', '200', '11', 'https://www.zanbil.ir/browse/refrigerator-and-freezer/%DB%8C%D8%AE%DA%86%D8%A7%D9%84-%D9%81%D8%B1%DB%8C%D8%B2%D8%B1', 'Mozilla/5.0 (Windows NT 6.3; Win64; x64; rv:64.0) Gecko/20100101 Firefox/64.0')\n"
          ],
          "name": "stdout"
        },
        {
          "output_type": "stream",
          "text": [
            "620331it [00:07, 107803.17it/s]"
          ],
          "name": "stderr"
        },
        {
          "output_type": "stream",
          "text": [
            "('2.188.27.28', '22/Jan/2019:11:42:46 +0330', 'GET', '/static/images/guarantees/bestPrice.png', '200', '7356', 'https://www.zanbil.ir/filter/b88', 'Mozilla/5.0 (Windows NT 6.1) AppleWebKit/537.36 (KHTML, like Gecko) Chrome/71.0.3578.98 Safari/537.36')\n"
          ],
          "name": "stdout"
        },
        {
          "output_type": "stream",
          "text": [
            "666378it [00:07, 110744.02it/s]"
          ],
          "name": "stderr"
        },
        {
          "output_type": "stream",
          "text": [
            "('151.239.241.163', '22/Jan/2019:12:00:27 +0330', 'GET', '/image/18781/productType/120x90', '200', '15705', 'https://www.zanbil.ir/product/20348/59682/%D9%85%D8%A7%D9%86%DB%8C%D8%AA%D9%88%D8%B1-LED-%D8%A7%DB%8C%D8%B3%D9%88%D8%B3-%D9%85%D8%AF%D9%84-PB287Q', 'Mozilla/5.0 (Windows NT 10.0; Win64; x64; rv:64.0) Gecko/20100101 Firefox/64.0')\n"
          ],
          "name": "stdout"
        },
        {
          "output_type": "stream",
          "text": [
            "712428it [00:08, 110469.13it/s]"
          ],
          "name": "stderr"
        },
        {
          "output_type": "stream",
          "text": [
            "('46.225.91.44', '22/Jan/2019:12:20:20 +0330', 'GET', '/static/images/amp/instagram.png', '200', '7146', 'https://www.zanbil.ir/m/product/31940/62154/%D8%A7%D8%AC%D8%A7%D9%82-%DA%AF%D8%A7%D8%B2-%D9%85%D8%A8%D9%84%D9%87-%D8%A7%D8%AE%D9%88%D8%A7%D9%86-%D9%85%D8%AF%D9%84-M2-EDTS?utm_medium=PPC&utm_source=Torob', 'Mozilla/5.0 (Linux; Android 8.0.0; SM-A320F) AppleWebKit/537.36 (KHTML, like Gecko) Chrome/71.0.3578.99 Mobile Safari/537.36')\n"
          ],
          "name": "stdout"
        },
        {
          "output_type": "stream",
          "text": [
            "769784it [00:09, 43092.00it/s]"
          ],
          "name": "stderr"
        },
        {
          "output_type": "stream",
          "text": [
            "('37.152.163.59', '22/Jan/2019:12:38:27 +0330', 'GET', '/static/images/loading.gif', '200', '7370', 'https://www.zanbil.ir/product/29314/%DA%A9%D8%A7%D9%84%D8%B3%DA%A9%D9%87-%D8%AF%D9%88%D9%82%D9%84%D9%88-%D8%AF%D9%84%DB%8C%D8%AC%D8%A7%D9%86-%D9%85%D8%AF%D9%84-%D8%AF%DB%8C%D8%A8%D8%A7-Delijan-Twin-Strollers-', 'Mozilla/5.0 (Windows NT 6.1; WOW64; Trident/7.0; rv:11.0) like Gecko')\n"
          ],
          "name": "stdout"
        },
        {
          "output_type": "stream",
          "text": [
            "813874it [00:09, 80282.53it/s]"
          ],
          "name": "stderr"
        },
        {
          "output_type": "stream",
          "text": [
            "('92.114.26.96', '22/Jan/2019:12:56:29 +0330', 'GET', '/static/images/guarantees/bestPrice.png', '200', '7356', 'https://www.zanbil.ir/browse/home-appliances/%D9%84%D9%88%D8%A7%D8%B2%D9%85-%D8%AE%D8%A7%D9%86%DA%AF%DB%8C', 'Mozilla/5.0 (Windows NT 6.1; rv:64.0) Gecko/20100101 Firefox/64.0')\n"
          ],
          "name": "stdout"
        },
        {
          "output_type": "stream",
          "text": [
            "866328it [00:10, 97901.60it/s]"
          ],
          "name": "stderr"
        },
        {
          "output_type": "stream",
          "text": [
            "('176.123.127.175', '22/Jan/2019:13:15:09 +0330', 'GET', '/image/64349/productModel/100x100', '200', '2863', 'https://www.zanbil.ir/product/34075/64913/%D8%AA%D9%84%D9%88%DB%8C%D8%B2%DB%8C%D9%88%D9%86-%D8%A7%D9%84-%D8%A7%DB%8C-%D8%AF%DB%8C-%D8%A7%DB%8C%DA%A9%D8%B3-%D9%88%DB%8C%DA%98%D9%86-%D9%85%D8%AF%D9%84-49XKU635', 'Mozilla/5.0 (Windows NT 6.1) AppleWebKit/537.36 (KHTML, like Gecko) Chrome/71.0.3578.98 Safari/537.36')\n"
          ],
          "name": "stdout"
        },
        {
          "output_type": "stream",
          "text": [
            "918512it [00:10, 99934.15it/s] "
          ],
          "name": "stderr"
        },
        {
          "output_type": "stream",
          "text": [
            "('151.243.195.154', '22/Jan/2019:13:34:11 +0330', 'GET', '/settings/logo', '200', '4120', 'https://www.zanbil.ir/content/view/paymentMethods', 'Mozilla/5.0 (Windows NT 6.1; rv:64.0) Gecko/20100101 Firefox/64.0')\n"
          ],
          "name": "stdout"
        },
        {
          "output_type": "stream",
          "text": [
            "971416it [00:11, 104293.84it/s]"
          ],
          "name": "stderr"
        },
        {
          "output_type": "stream",
          "text": [
            "('188.211.83.76', '22/Jan/2019:13:53:21 +0330', 'GET', '/image/8713/specialSale?role=e1', '200', '11', 'https://www.zanbil.ir/browse/furniture/%D9%85%D8%A8%D9%84%D9%85%D8%A7%D9%86', 'Mozilla/5.0 (Windows NT 10.0; Win64; x64) AppleWebKit/537.36 (KHTML, like Gecko) Chrome/71.0.3578.98 Safari/537.36')\n"
          ],
          "name": "stdout"
        },
        {
          "output_type": "stream",
          "text": [
            "1013245it [00:12, 37388.54it/s]"
          ],
          "name": "stderr"
        },
        {
          "output_type": "stream",
          "text": [
            "('2.181.160.157', '22/Jan/2019:14:11:45 +0330', 'GET', '/image/29044/productTypeMenu', '200', '11', 'https://www.zanbil.ir/browse/analog-watch/%D8%B3%D8%A7%D8%B9%D8%AA-%D9%85%DA%86%DB%8C-%D8%B9%D9%82%D8%B1%D8%A8%D9%87-%D8%A7%DB%8C', 'Mozilla/5.0 (Windows NT 6.1; Trident/7.0; rv:11.0) like Gecko')\n"
          ],
          "name": "stdout"
        },
        {
          "output_type": "stream",
          "text": [
            "1065331it [00:12, 79696.70it/s]"
          ],
          "name": "stderr"
        },
        {
          "output_type": "stream",
          "text": [
            "('185.186.240.178', '22/Jan/2019:14:32:03 +0330', 'GET', '/image/874/brand', '200', '7699', 'https://www.zanbil.ir/browse/home-appliances/%D9%84%D9%88%D8%A7%D8%B2%D9%85-%D8%AE%D8%A7%D9%86%DA%AF%DB%8C', 'Mozilla/5.0 (Windows NT 10.0; Win64; x64) AppleWebKit/537.36 (KHTML, like Gecko) Chrome/71.0.3578.98 Safari/537.36')\n"
          ],
          "name": "stdout"
        },
        {
          "output_type": "stream",
          "text": [
            "1111226it [00:13, 103160.44it/s]"
          ],
          "name": "stderr"
        },
        {
          "output_type": "stream",
          "text": [
            "('5.211.61.98', '22/Jan/2019:14:51:34 +0330', 'GET', '/image/59527/productModel/200x200', '200', '3425', 'https://www.zanbil.ir/m/browse/citrus-only-juicer/%D8%A2%D8%A8-%D9%BE%D8%B1%D8%AA%D9%82%D8%A7%D9%84-%DA%AF%DB%8C%D8%B1%DB%8C', 'Mozilla/5.0 (iPhone; CPU iPhone OS 11_3 like Mac OS X) AppleWebKit/605.1.15 (KHTML, like Gecko) Version/11.0 Mobile/15E148 Safari/604.1')\n"
          ],
          "name": "stdout"
        },
        {
          "output_type": "stream",
          "text": [
            "1166036it [00:13, 104261.07it/s]"
          ],
          "name": "stderr"
        },
        {
          "output_type": "stream",
          "text": [
            "('66.249.66.91', '22/Jan/2019:15:12:33 +0330', 'GET', '/static/images/guarantees/warranty.png', '304', '0', '-', 'Googlebot-Image/1.0')\n"
          ],
          "name": "stdout"
        },
        {
          "output_type": "stream",
          "text": [
            "1220863it [00:14, 109337.24it/s]"
          ],
          "name": "stderr"
        },
        {
          "output_type": "stream",
          "text": [
            "('46.225.241.66', '22/Jan/2019:15:32:21 +0330', 'GET', '/site/alexaGooleAnalitic', '200', '323', 'https://www.zanbil.ir/product/33722/%DB%8C%D8%AE%DA%86%D8%A7%D9%84-%D9%81%D8%B1%DB%8C%D8%B2%D8%B1-%D8%B3%D8%A7%DB%8C%D8%AF-%D8%A8%D8%A7%DB%8C-%D8%B3%D8%A7%DB%8C%D8%AF-%D8%A7%D8%B3%D9%86%D9%88%D8%A7-%D9%85%D8%AF%D9%84-COUNTER-S8-2280', 'Mozilla/5.0 (Windows NT 6.1) AppleWebKit/537.36 (KHTML, like Gecko) Chrome/71.0.3578.98 Safari/537.36')\n"
          ],
          "name": "stdout"
        },
        {
          "output_type": "stream",
          "text": [
            "1263576it [00:15, 36830.47it/s]"
          ],
          "name": "stderr"
        },
        {
          "output_type": "stream",
          "text": [
            "('80.210.135.223', '22/Jan/2019:15:53:33 +0330', 'GET', '/image/57043/productModel/200x200', '200', '3962', 'https://www.zanbil.ir/m/filter/b128%2Cb148%2Cb168%2Cb41%2Cp2597', 'Mozilla/5.0 (Linux; U; Android 4.2.2; fa-ir; ME-352 Build/JDQ39) AppleWebKit/534.30 (KHTML, like Gecko) Version/4.0 Mobile Safari/534.30')\n"
          ],
          "name": "stdout"
        },
        {
          "output_type": "stream",
          "text": [
            "1314836it [00:16, 78162.85it/s]"
          ],
          "name": "stderr"
        },
        {
          "output_type": "stream",
          "text": [
            "('2.144.242.63', '22/Jan/2019:16:16:46 +0330', 'GET', '/image/30154?name=spin_prod_1217482212_5567_pic1.jpg&wh=200x200', '200', '3369', 'https://torob.com/p/9c8c15c4-91dd-4054-a78f-745b7375d5dd/%D8%B3%D8%A7%DB%8C%D8%AF-%D8%A8%D8%A7%DB%8C-%D8%B3%D8%A7%DB%8C%D8%AF-28-%D9%81%D9%88%D8%AA-%D8%A7%D9%84-%D8%AC%DB%8C-%D9%85%D8%AF%D9%84-sxb53w/', 'Mozilla/5.0 (Windows NT 6.1; Win64; x64) AppleWebKit/537.36 (KHTML, like Gecko) Chrome/71.0.3578.98 Safari/537.36')\n"
          ],
          "name": "stdout"
        },
        {
          "output_type": "stream",
          "text": [
            "1367252it [00:16, 95747.05it/s]"
          ],
          "name": "stderr"
        },
        {
          "output_type": "stream",
          "text": [
            "('89.37.255.74', '22/Jan/2019:16:40:07 +0330', 'GET', '/image/55842/productModel/100x100', '200', '2250', 'https://www.zanbil.ir/product/26553/54307/%D9%85%D8%A7%D8%B4%DB%8C%D9%86-%D9%84%D8%A8%D8%A7%D8%B3%D8%B4%D9%88%DB%8C%DB%8C-%D8%AF%D8%B1%D8%A8-%D8%A7%D8%B2-%D8%AC%D9%84%D9%88-%D8%B3%D8%A7%D9%85%D8%B3%D9%88%D9%86%DA%AF-%D9%85%D8%AF%D9%84-J1254-W', 'Mozilla/5.0 (Windows NT 6.1; Win64; x64) AppleWebKit/537.36 (KHTML, like Gecko) Chrome/71.0.3578.98 Safari/537.36')\n"
          ],
          "name": "stdout"
        },
        {
          "output_type": "stream",
          "text": [
            "1417243it [00:17, 97624.47it/s]"
          ],
          "name": "stderr"
        },
        {
          "output_type": "stream",
          "text": [
            "('5.236.88.147', '22/Jan/2019:17:03:48 +0330', 'GET', '/image/32757?name=eb-x41-4.jpg&wh=200x200', '200', '3763', '-', 'Dalvik/1.6.0 (Linux; U; Android 4.4.2; H60-L04 Build/HDH60-L04)')\n"
          ],
          "name": "stdout"
        },
        {
          "output_type": "stream",
          "text": [
            "1470597it [00:17, 103937.51it/s]"
          ],
          "name": "stderr"
        },
        {
          "output_type": "stream",
          "text": [
            "('79.127.14.52', '22/Jan/2019:17:31:05 +0330', 'GET', '/image/1193/article/100x100', '200', '19086', 'https://www.zanbil.ir/', 'Mozilla/5.0 (Windows NT 6.1; Win64; x64; rv:64.0) Gecko/20100101 Firefox/64.0')\n"
          ],
          "name": "stdout"
        },
        {
          "output_type": "stream",
          "text": [
            "1510936it [00:18, 36682.60it/s]"
          ],
          "name": "stderr"
        },
        {
          "output_type": "stream",
          "text": [
            "('158.174.55.162', '22/Jan/2019:17:56:48 +0330', 'GET', '/image/59473/productModel/150x150', '200', '2432', 'https://www.zanbil.ir/filter/b485,b656,p12786', 'Mozilla/5.0 (Windows NT 10.0; Win64; x64) AppleWebKit/537.36 (KHTML, like Gecko) Chrome/71.0.3578.98 Safari/537.36')\n"
          ],
          "name": "stdout"
        },
        {
          "output_type": "stream",
          "text": [
            "1570134it [00:19, 83573.00it/s]"
          ],
          "name": "stderr"
        },
        {
          "output_type": "stream",
          "text": [
            "('185.129.197.158', '22/Jan/2019:18:22:34 +0330', 'GET', '/settings/logo', '200', '4120', 'https://www.zanbil.ir/m/filter/b1,b73', 'Mozilla/5.0 (Linux; Android 5.1.1; SM-T285) AppleWebKit/537.36 (KHTML, like Gecko) Chrome/71.0.3578.99 Safari/537.36')\n"
          ],
          "name": "stdout"
        },
        {
          "output_type": "stream",
          "text": [
            "1612387it [00:20, 96052.30it/s]"
          ],
          "name": "stderr"
        },
        {
          "output_type": "stream",
          "text": [
            "('185.141.171.86', '22/Jan/2019:18:47:16 +0330', 'GET', '/image/18781/productType/120x90', '200', '15705', 'https://www.zanbil.ir/m/product/31023/%DA%AF%D9%88%D8%B4%DB%8C-%D9%85%D9%88%D8%A8%D8%A7%DB%8C%D9%84-%D9%87%D9%88%D8%A7%D9%88%DB%8C-%D9%85%D8%AF%D9%84-Y3II-Dual-8GB-%28LUA-L21%29', 'Mozilla/5.0 (Linux; U; Android 4.2.2; fa-ir; MediaPad X1 7.0 Build/HuaweiMediaPad) AppleWebKit/534.30 (KHTML, like Gecko) Version/4.0 Safari/534.30')\n"
          ],
          "name": "stdout"
        },
        {
          "output_type": "stream",
          "text": [
            "1664162it [00:20, 102238.30it/s]"
          ],
          "name": "stderr"
        },
        {
          "output_type": "stream",
          "text": [
            "('109.162.143.8', '22/Jan/2019:19:14:27 +0330', 'GET', '/image/62414/productModel/150x150', '200', '3961', 'https://www.zanbil.ir/filter/p31385,b19', 'Mozilla/5.0 (Macintosh; Intel Mac OS X 10_13_6) AppleWebKit/537.36 (KHTML, like Gecko) Chrome/71.0.3578.98 Safari/537.36')\n"
          ],
          "name": "stdout"
        },
        {
          "output_type": "stream",
          "text": [
            "1723707it [00:21, 118700.63it/s]"
          ],
          "name": "stderr"
        },
        {
          "output_type": "stream",
          "text": [
            "('5.217.109.235', '22/Jan/2019:19:40:28 +0330', 'GET', '/image/1191/article/100x100', '200', '18870', 'https://www.zanbil.ir/filter/b215', 'Mozilla/5.0 (Windows NT 10.0; Win64; x64) AppleWebKit/537.36 (KHTML, like Gecko) Chrome/71.0.3578.98 Safari/537.36')\n"
          ],
          "name": "stdout"
        },
        {
          "output_type": "stream",
          "text": [
            "1771088it [00:22, 43911.36it/s]"
          ],
          "name": "stderr"
        },
        {
          "output_type": "stream",
          "text": [
            "('85.133.160.32', '22/Jan/2019:20:06:11 +0330', 'GET', '/static/css/font/wyekan/font.ttf', '200', '27459', 'https://www.zanbil.ir/m/product/33640/64330/%DA%AF%D9%88%D8%B4%DB%8C-%D9%85%D9%88%D8%A8%D8%A7%DB%8C%D9%84-%D8%A7%D9%BE%D9%84-%D9%85%D8%AF%D9%84-iPhone-XR-128GB', 'Mozilla/5.0 (Linux; Android 8.0.0; SAMSUNG SM-G950F Build/R16NW) AppleWebKit/537.36 (KHTML, like Gecko) SamsungBrowser/8.2 Chrome/63.0.3239.111 Mobile Safari/537.36')\n"
          ],
          "name": "stdout"
        },
        {
          "output_type": "stream",
          "text": [
            "1814210it [00:22, 80585.18it/s]"
          ],
          "name": "stderr"
        },
        {
          "output_type": "stream",
          "text": [
            "('188.159.169.71', '22/Jan/2019:20:34:47 +0330', 'GET', '/image/32553/productType/240x180', '200', '10993', 'https://www.zanbil.ir/m/browse/home-appliances', 'Mozilla/5.0 (Linux; Android 8.0.0; SM-G960F) AppleWebKit/537.36 (KHTML, like Gecko) Chrome/71.0.3578.99 Mobile Safari/537.36')\n"
          ],
          "name": "stdout"
        },
        {
          "output_type": "stream",
          "text": [
            "1871196it [00:23, 107366.07it/s]"
          ],
          "name": "stderr"
        },
        {
          "output_type": "stream",
          "text": [
            "('5.115.12.148', '22/Jan/2019:21:03:30 +0330', 'GET', '/image/31641/productModel/200x200', '200', '6383', 'https://www.zanbil.ir/m/browse/tensiometre/%D9%81%D8%B4%D8%A7%D8%B1%D8%B3%D9%86%D8%AC', 'Mozilla/5.0 (BB10; Kbd) AppleWebKit/537.35+ (KHTML, like Gecko) Version/10.3.3.3216 Mobile Safari/537.35+')\n"
          ],
          "name": "stdout"
        },
        {
          "output_type": "stream",
          "text": [
            "1915961it [00:23, 108246.37it/s]"
          ],
          "name": "stderr"
        },
        {
          "output_type": "stream",
          "text": [
            "('213.195.61.4', '22/Jan/2019:21:34:28 +0330', 'GET', '/static/css/font/wyekan/font.woff', '200', '28536', 'https://www.zanbil.ir/m/browse/medicine-and-health/%D9%BE%D8%B2%D8%B4%DA%A9%DB%8C-%D9%88-%D8%B3%D9%84%D8%A7%D9%85%D8%AA', 'Mozilla/5.0 (Android 7.0; Mobile; rv:64.0) Gecko/64.0 Firefox/64.0')\n"
          ],
          "name": "stdout"
        },
        {
          "output_type": "stream",
          "text": [
            "1973205it [00:24, 114461.69it/s]"
          ],
          "name": "stderr"
        },
        {
          "output_type": "stream",
          "text": [
            "('89.38.184.19', '22/Jan/2019:22:02:03 +0330', 'GET', '/image/8973/product/50x50', '200', '889', 'https://www.zanbil.ir/product/8973/11653/%D8%A2%D8%A8%DA%AF%D8%B1%D9%85%DA%A9%D9%86-%D8%AF%DB%8C%D9%88%D8%A7%D8%B1%DB%8C-%D8%A8%D9%88%D8%AA%D8%A7%D9%86-%D9%85%D8%AF%D9%84-B3118%D8%B4%D9%85%D8%B9%DA%A9-%D8%AF%D8%A7%D8%A6%D9%85?utm_medium=PPC&utm_source=Torob', 'Mozilla/5.0 (Windows NT 6.3; Win64; x64) AppleWebKit/537.36 (KHTML, like Gecko) Chrome/71.0.3578.98 Safari/537.36')\n"
          ],
          "name": "stdout"
        },
        {
          "output_type": "stream",
          "text": [
            "2018917it [00:25, 36225.92it/s]"
          ],
          "name": "stderr"
        },
        {
          "output_type": "stream",
          "text": [
            "('83.121.240.14', '22/Jan/2019:22:28:50 +0330', 'GET', '/m/event/Lg-festival-home?page=2', '200', '15726', '-', 'Mozilla/5.0 (Linux; Android 7.0; TRT-L21A Build/HUAWEITRT-L21A) AppleWebKit/537.36 (KHTML, like Gecko) Chrome/67.0.3396.87 Mobile Safari/537.36')\n"
          ],
          "name": "stdout"
        },
        {
          "output_type": "stream",
          "text": [
            "2065358it [00:25, 76111.39it/s]"
          ],
          "name": "stderr"
        },
        {
          "output_type": "stream",
          "text": [
            "('89.199.148.56', '22/Jan/2019:22:56:06 +0330', 'GET', '/image/31/productTypeType', '200', '12351', 'https://www.zanbil.ir/', 'Mozilla/5.0 (iPhone; CPU iPhone OS 12_0 like Mac OS X) AppleWebKit/605.1.15 (KHTML, like Gecko) Version/12.0 Mobile/15E148 Safari/604.1')\n"
          ],
          "name": "stdout"
        },
        {
          "output_type": "stream",
          "text": [
            "2121249it [00:26, 97567.89it/s]"
          ],
          "name": "stderr"
        },
        {
          "output_type": "stream",
          "text": [
            "('5.114.253.147', '22/Jan/2019:23:22:39 +0330', 'GET', '/image/59027/productModel/200x200', '200', '3357', 'https://www.zanbil.ir/m/filter/b485%2Cb656%2Cp12786%2Ct460', 'Mozilla/5.0 (Linux; Android 4.3; HUAWEI G6-U10 Build/HuaweiG6-U10) AppleWebKit/537.36 (KHTML, like Gecko) Chrome/35.0.1916.141 Mobile Safari/537.36')\n"
          ],
          "name": "stdout"
        },
        {
          "output_type": "stream",
          "text": [
            "2164509it [00:26, 105436.69it/s]"
          ],
          "name": "stderr"
        },
        {
          "output_type": "stream",
          "text": [
            "('31.56.11.241', '22/Jan/2019:23:52:51 +0330', 'GET', '/image/59331/productModel/200x200', '200', '3507', 'https://www.zanbil.ir/m/filter/b647%2Cp12786?page=2', 'Mozilla/5.0 (Linux; U; Android 4.3; en-US; GT-I9300 Build/JSS15J) AppleWebKit/534.30 (KHTML, like Gecko) Version/4.0 UCBrowser/11.2.0.915 U3/0.8.0 Mobile Safari/534.30')\n"
          ],
          "name": "stdout"
        },
        {
          "output_type": "stream",
          "text": [
            "2220700it [00:27, 111553.78it/s]"
          ],
          "name": "stderr"
        },
        {
          "output_type": "stream",
          "text": [
            "('5.75.34.134', '23/Jan/2019:00:29:59 +0330', 'GET', '/image/29620?name=-1%D8%B3%D9%88%D9%BE%D8%B1-%DA%A9%D9%84%D8%A7%D8%B3-%D9%87%D8%A7%D8%B1%D8%AF.jpg&wh=50x50', '200', '1001', 'https://www.zanbil.ir/product/29620/59054/%D8%AA%D8%B4%DA%A9-%DB%8C%DA%A9-%D9%86%D9%81%D8%B1%D9%87-%D8%AE%D9%88%D8%B4%D8%AE%D9%88%D8%A7%D8%A8-%D9%85%D8%AF%D9%84-%D8%B3%D9%88%D9%BE%D8%B1-%DA%A9%D9%84%D8%A7%D8%B3-%D9%87%D8%A7%D8%B1%D8%AF-%D8%B3%D8%A7%DB%8C%D8%B2-90*200', 'Mozilla/5.0 (Windows NT 6.1; Win64; x64) AppleWebKit/537.36 (KHTML, like Gecko) Chrome/70.0.3538.102 Safari/537.36 OPR/57.0.3098.116')\n"
          ],
          "name": "stdout"
        },
        {
          "output_type": "stream",
          "text": [
            "2266479it [00:28, 35662.14it/s]"
          ],
          "name": "stderr"
        },
        {
          "output_type": "stream",
          "text": [
            "('89.198.147.63', '23/Jan/2019:01:10:23 +0330', 'GET', '/image/65004/productModel/200x200', '200', '7759', 'https://www.zanbil.ir/m/filter/p62%2Cstexists', 'Mozilla/5.0 (Linux; Android 6.0.1; SM-A500H) AppleWebKit/537.36 (KHTML, like Gecko) Chrome/70.0.3538.110 Mobile Safari/537.36')\n"
          ],
          "name": "stdout"
        },
        {
          "output_type": "stream",
          "text": [
            "2321116it [00:29, 80491.44it/s]"
          ],
          "name": "stderr"
        },
        {
          "output_type": "stream",
          "text": [
            "('66.249.66.194', '23/Jan/2019:02:06:39 +0330', 'GET', '/m/browse/rice-cooker/%D9%BE%D9%84%D9%88%D9%BE%D8%B2', '200', '19577', '-', 'Mozilla/5.0 (Linux; Android 6.0.1; Nexus 5X Build/MMB29P) AppleWebKit/537.36 (KHTML, like Gecko) Chrome/41.0.2272.96 Mobile Safari/537.36 (compatible; Googlebot/2.1; +http://www.google.com/bot.html)')\n"
          ],
          "name": "stdout"
        },
        {
          "output_type": "stream",
          "text": [
            "2365921it [00:29, 102553.05it/s]"
          ],
          "name": "stderr"
        },
        {
          "output_type": "stream",
          "text": [
            "('2.178.60.3', '23/Jan/2019:04:21:59 +0330', 'GET', '/site/alexaGooleAnalitic', '200', '323', 'https://www.zanbil.ir/product/14245/23989/%D8%B5%D9%86%D8%AF%D9%84%DB%8C-%D9%85%D8%AF%DB%8C%D8%B1%DB%8C%D8%AA%DB%8C-%D8%A7%D8%B1%D9%88%D9%86%D8%AF-%D9%85%D8%AF%D9%84-%D9%85%D8%AF%DB%8C%D8%B1%DB%8C%D8%AA-%D8%AC%DA%A9%D8%AF%D8%A7%D8%B1-%D8%A8%D8%A7-%D9%85%DA%A9%D8%A7%D9%86%DB%8C%D8%B2%D9%85-%D8%B3%DB%8C%D9%86%DA%A9%D8%B1%D9%88%D9%86%D8%A7%DB%8C%D8%B2-%283316%29', 'Mozilla/5.0 (Windows NT 10.0; Win64; x64; rv:64.0) Gecko/20100101 Firefox/64.0')\n"
          ],
          "name": "stdout"
        },
        {
          "output_type": "stream",
          "text": [
            "2412711it [00:30, 113675.49it/s]"
          ],
          "name": "stderr"
        },
        {
          "output_type": "stream",
          "text": [
            "('37.255.118.123', '23/Jan/2019:07:02:30 +0330', 'GET', '/image/33888?name=model-b2048u-1-.jpg&wh=200x200', '200', '3975', '-', 'Dalvik/2.1.0 (Linux; U; Android 6.0.1; MI 4W MIUI/V9.5.7.0.MXDMIFA)')\n"
          ],
          "name": "stdout"
        },
        {
          "output_type": "stream",
          "text": [
            "2469443it [00:30, 110671.35it/s]"
          ],
          "name": "stderr"
        },
        {
          "output_type": "stream",
          "text": [
            "('5.120.132.205', '23/Jan/2019:08:11:12 +0330', 'GET', '/image/21543?name=4.jpg&wh=200x200', '200', '4919', 'https://torob.com/p/95199dbd-e586-48c2-9303-92ccf0cfaa93/%D9%85%DB%8C%D8%B2-%D9%86%D8%A7%D9%87%D8%A7%D8%B1%D8%AE%D9%88%D8%B1%DB%8C/', 'Mozilla/5.0 (Linux; Android 6.0; CAM-L21) AppleWebKit/537.36 (KHTML, like Gecko) Chrome/71.0.3578.99 Mobile Safari/537.36')\n"
          ],
          "name": "stdout"
        },
        {
          "output_type": "stream",
          "text": [
            "2514322it [00:31, 40294.76it/s]"
          ],
          "name": "stderr"
        },
        {
          "output_type": "stream",
          "text": [
            "('217.66.203.161', '23/Jan/2019:08:46:01 +0330', 'GET', '/image/10558/productModel/100x100', '200', '2716', 'https://www.zanbil.ir/filter/p44,b141,stexists', 'Mozilla/5.0 (Windows NT 6.1) AppleWebKit/537.36 (KHTML, like Gecko) Chrome/71.0.3578.98 Safari/537.36')\n"
          ],
          "name": "stdout"
        },
        {
          "output_type": "stream",
          "text": [
            "2572809it [00:32, 86551.43it/s]"
          ],
          "name": "stderr"
        },
        {
          "output_type": "stream",
          "text": [
            "('82.99.213.12', '23/Jan/2019:09:14:59 +0330', 'GET', '/image/68/productType/120x90', '200', '12113', 'https://www.zanbil.ir/product/7084/%DA%86%D8%B1%D8%AE-%DA%AF%D9%88%D8%B4%D8%AA-%D9%BE%D8%A7%D9%86%D8%A7%D8%B3%D9%88%D9%86%DB%8C%DA%A9-%D9%85%D8%AF%D9%84-MK-GN1760', 'Mozilla/5.0 (Windows NT 6.1; Win64; x64) AppleWebKit/537.36 (KHTML, like Gecko) Chrome/71.0.3578.98 Safari/537.36')\n"
          ],
          "name": "stdout"
        },
        {
          "output_type": "stream",
          "text": [
            "2620482it [00:32, 109993.37it/s]"
          ],
          "name": "stderr"
        },
        {
          "output_type": "stream",
          "text": [
            "('31.7.116.37', '23/Jan/2019:09:36:46 +0330', 'GET', '/image/%7B%7BbasketItem.id%7D%7D?type=productModel&wh=50x50', '200', '5', 'https://www.zanbil.ir/product/31990/%D8%BA%D8%B0%D8%A7-%D8%B3%D8%A7%D8%B2-%DA%A9%D9%86%D9%88%D9%88%D8%AF-%D9%85%D8%AF%D9%84-FP190', 'Mozilla/5.0 (Windows NT 10.0; Win64; x64; rv:64.0) Gecko/20100101 Firefox/64.0')\n"
          ],
          "name": "stdout"
        },
        {
          "output_type": "stream",
          "text": [
            "2668374it [00:33, 115764.45it/s]"
          ],
          "name": "stderr"
        },
        {
          "output_type": "stream",
          "text": [
            "('81.90.149.34', '23/Jan/2019:09:57:54 +0330', 'GET', '/image/64389/productModel/150x150', '200', '3627', 'https://www.zanbil.ir/filter/p1?page=3', 'Mozilla/5.0 (Windows NT 6.1) AppleWebKit/537.36 (KHTML, like Gecko) Chrome/71.0.3578.98 Safari/537.36')\n"
          ],
          "name": "stdout"
        },
        {
          "output_type": "stream",
          "text": [
            "2715168it [00:33, 114018.68it/s]"
          ],
          "name": "stderr"
        },
        {
          "output_type": "stream",
          "text": [
            "('151.240.128.181', '23/Jan/2019:10:18:20 +0330', 'GET', '/discountLabel/get/3?type=desktopSmallIcon', '200', '4336', 'https://www.zanbil.ir/browse/dishwasher/%D9%85%D8%A7%D8%B4%DB%8C%D9%86-%D8%B8%D8%B1%D9%81%D8%B4%D9%88%DB%8C%DB%8C', 'Mozilla/5.0 (Windows NT 6.1; WOW64; Trident/7.0; rv:11.0) like Gecko')\n"
          ],
          "name": "stdout"
        },
        {
          "output_type": "stream",
          "text": [
            "2772497it [00:35, 35822.03it/s]"
          ],
          "name": "stderr"
        },
        {
          "output_type": "stream",
          "text": [
            "('188.121.111.178', '23/Jan/2019:10:37:57 +0330', 'GET', '/settings/logo', '200', '4120', 'https://www.zanbil.ir/product/27953/56585/', 'Mozilla/5.0 (Windows NT 10.0; Win64; x64) AppleWebKit/537.36 (KHTML, like Gecko) Chrome/71.0.3578.98 Safari/537.36')\n"
          ],
          "name": "stdout"
        },
        {
          "output_type": "stream",
          "text": [
            "2815674it [00:35, 72691.50it/s]"
          ],
          "name": "stderr"
        },
        {
          "output_type": "stream",
          "text": [
            "('185.12.61.231', '23/Jan/2019:10:57:30 +0330', 'GET', '/image/41/brand', '200', '2946', 'https://www.zanbil.ir/filter/b74', 'Mozilla/5.0 (Windows NT 6.1) AppleWebKit/537.36 (KHTML, like Gecko) Chrome/71.0.3578.98 Safari/537.36')\n"
          ],
          "name": "stdout"
        },
        {
          "output_type": "stream",
          "text": [
            "2870882it [00:35, 100051.05it/s]"
          ],
          "name": "stderr"
        },
        {
          "output_type": "stream",
          "text": [
            "('78.39.107.74', '23/Jan/2019:11:16:05 +0330', 'GET', '/static/images/prev.png', '200', '3032', 'https://znbl.ir/static/bundle-bundle_site_head.css', 'Mozilla/5.0 (Windows NT 10.0; Win64; x64; rv:64.0) Gecko/20100101 Firefox/64.0')\n"
          ],
          "name": "stdout"
        },
        {
          "output_type": "stream",
          "text": [
            "2914450it [00:36, 103775.81it/s]"
          ],
          "name": "stderr"
        },
        {
          "output_type": "stream",
          "text": [
            "('5.215.143.121', '23/Jan/2019:11:32:35 +0330', 'GET', '/static/images/guarantees/warranty.png', '200', '5807', 'https://www.zanbil.ir/m', 'Mozilla/5.0 (Linux; Android 7.0; SM-A510F) AppleWebKit/537.36 (KHTML, like Gecko) Chrome/71.0.3578.99 Mobile Safari/537.36')\n"
          ],
          "name": "stdout"
        },
        {
          "output_type": "stream",
          "text": [
            "2968635it [00:36, 107870.73it/s]"
          ],
          "name": "stderr"
        },
        {
          "output_type": "stream",
          "text": [
            "('2.181.59.111', '23/Jan/2019:11:49:59 +0330', 'GET', '/image/58783/productModel/150x150', '200', '2364', 'https://www.zanbil.ir/m/product/33719/%DB%8C%D8%AE%DA%86%D8%A7%D9%84-%D9%81%D8%B1%DB%8C%D8%B2%D8%B1-%D8%B3%D8%A7%DB%8C%D8%AF-%D8%A8%D8%A7%DB%8C-%D8%B3%D8%A7%DB%8C%D8%AF-%D8%AF%D9%88%D9%88-%D9%85%D8%AF%D9%84-Secret-D2S-6027', 'Mozilla/5.0 (Android 6.0.1; Mobile; rv:62.0) Gecko/62.0 Firefox/62.0')\n"
          ],
          "name": "stdout"
        },
        {
          "output_type": "stream",
          "text": [
            "3012926it [00:38, 38669.48it/s]"
          ],
          "name": "stderr"
        },
        {
          "output_type": "stream",
          "text": [
            "('5.232.43.66', '23/Jan/2019:12:09:10 +0330', 'GET', '/image/1215/mainSlide', '200', '90970', 'https://www.zanbil.ir/filter/b20', 'Mozilla/5.0 (Windows NT 6.1; rv:64.0) Gecko/20100101 Firefox/64.0')\n"
          ],
          "name": "stdout"
        },
        {
          "output_type": "stream",
          "text": [
            "3067205it [00:38, 80237.97it/s]"
          ],
          "name": "stderr"
        },
        {
          "output_type": "stream",
          "text": [
            "('46.225.248.18', '23/Jan/2019:12:27:20 +0330', 'GET', '/image/33954?name=a6p-m.jpg&wh=50x50', '200', '1061', 'https://www.zanbil.ir/product/33954/%DA%AF%D9%88%D8%B4%DB%8C-%D9%85%D9%88%D8%A8%D8%A7%DB%8C%D9%84-%D8%B3%D8%A7%D9%85%D8%B3%D9%88%D9%86%DA%AF-%D9%85%D8%AF%D9%84-Galaxy-A6-Plus-%282018%29-Dual-64GB-%28A605F-DS%29', 'Mozilla/5.0 (Windows NT 10.0; Win64; x64) AppleWebKit/537.36 (KHTML, like Gecko) Chrome/71.0.3578.98 Safari/537.36')\n"
          ],
          "name": "stdout"
        },
        {
          "output_type": "stream",
          "text": [
            "3112059it [00:39, 102510.91it/s]"
          ],
          "name": "stderr"
        },
        {
          "output_type": "stream",
          "text": [
            "('40.77.192.177', '23/Jan/2019:12:47:31 +0330', 'GET', '/image/8165/productModel/100x100', '200', '2062', 'https://www.zanbil.ir/product/29192/%D8%B3%DB%8C%D9%86%DA%A9-%D8%B8%D8%B1%D9%81%D8%B4%D9%88%DB%8C%DB%8C-%D8%AA%D9%88%DA%A9%D8%A7%D8%B1-%D8%A7%D8%AE%D9%88%D8%A7%D9%86-%D9%85%D8%AF%D9%84-Akhavan-Double-Bowl-Sink-8', 'Mozilla/5.0 (Windows NT 6.1; WOW64) AppleWebKit/534+ (KHTML, like Gecko) BingPreview/1.0b')\n"
          ],
          "name": "stdout"
        },
        {
          "output_type": "stream",
          "text": [
            "3167810it [00:39, 108823.48it/s]"
          ],
          "name": "stderr"
        },
        {
          "output_type": "stream",
          "text": [
            "('31.59.124.134', '23/Jan/2019:13:07:12 +0330', 'GET', '/image/28254?name=model-b2012u.jpg&wh=200x200', '200', '3962', '-', 'Dalvik/2.1.0 (Linux; U; Android 5.0; SM-G900H Build/LRX21T)')\n"
          ],
          "name": "stdout"
        },
        {
          "output_type": "stream",
          "text": [
            "3213974it [00:40, 113317.50it/s]"
          ],
          "name": "stderr"
        },
        {
          "output_type": "stream",
          "text": [
            "('80.253.131.3', '23/Jan/2019:13:26:21 +0330', 'GET', '/image/65359/productModel/150x150', '200', '4558', 'https://www.zanbil.ir/browse/digital-camera/%D8%AF%D9%88%D8%B1%D8%A8%DB%8C%D9%86-%D8%B9%DA%A9%D8%A7%D8%B3%DB%8C', 'Mozilla/5.0 (Windows NT 10.0; Win64; x64) AppleWebKit/537.36 (KHTML, like Gecko) Chrome/71.0.3578.98 Safari/537.36')\n"
          ],
          "name": "stdout"
        },
        {
          "output_type": "stream",
          "text": [
            "3269361it [00:41, 32057.14it/s]"
          ],
          "name": "stderr"
        },
        {
          "output_type": "stream",
          "text": [
            "('5.209.152.129', '23/Jan/2019:13:45:40 +0330', 'GET', '/m/filter/p5252%2Ct440?name=%D8%A8%D8%AE%D8%A7%D8%B1%DB%8C-%D8%A8%D8%B1%D9%82%DB%8C&productType=electric-heaters', '200', '19018', 'https://www-zanbil-ir.cdn.ampproject.org/v/s/www.zanbil.ir/m/browse/electric-heaters/%D8%A8%D8%AE%D8%A7%D8%B1%DB%8C-%D8%A8%D8%B1%D9%82%DB%8C?amp_js_v=0.1&usqp=mq331AQECAEoAQ%3D%3D', 'Mozilla/5.0 (Linux; Android 4.4.2; SM-G7102 Build/KOT49H) AppleWebKit/537.36 (KHTML, like Gecko) Chrome/66.0.3359.158 Mobile Safari/537.36')\n"
          ],
          "name": "stdout"
        },
        {
          "output_type": "stream",
          "text": [
            "3310785it [00:42, 67373.13it/s]"
          ],
          "name": "stderr"
        },
        {
          "output_type": "stream",
          "text": [
            "('151.239.241.163', '23/Jan/2019:14:04:39 +0330', 'GET', '/image/8729/specialSale?role=e1', '200', '11', 'https://www.zanbil.ir/', 'Mozilla/5.0 (Windows NT 6.3) AppleWebKit/537.36 (KHTML, like Gecko) Chrome/71.0.3578.98 Safari/537.36')\n"
          ],
          "name": "stdout"
        },
        {
          "output_type": "stream",
          "text": [
            "3364284it [00:42, 95895.61it/s]"
          ],
          "name": "stderr"
        },
        {
          "output_type": "stream",
          "text": [
            "('195.181.168.181', '23/Jan/2019:14:25:59 +0330', 'GET', '/rapidGrails/jsonList?maxColumns=16&domainClass=eshop.Order&filter=[{op:%27inSession%27,%20field:%27id%27,%20val:%27orderList681ce4cb392247eb9d10c011c65b5e29%27}]&columns=[{%27name%27:%27trackingCode%27,%27width%27:110},{%27name%27:%27ownerName%27,%27width%27:120},{%27name%27:%27productsName%27,%27width%27:320,%27sortable%27:false},{%27name%27:%27ownerMobile%27,%27width%27:110},{%27name%27:%27deliveryMethodName%27,%27width%27:120,%27sortable%27:false},{%27name%27:%27deliveryCityName%27,%27width%27:120,%27sortable%27:false},{%27name%27:%27addressRegionName%27,%27width%27:120,%27sortable%27:false},{%27name%27:%27courier%27,%27width%27:120,%27expression%27:%27obj[\\\\x5C%27courier\\\\x5C%27]?.fullName%27},{%27name%27:%27status%27,%27width%27:110},{%27name%27:%27invoiceType%27,%27width%27:60,%27expression%27:%27g.message(code:%20obj[\\\\x5C%27invoiceTypeCode\\\\x5C%27])%27},{%27name%27:%27itemsDeliveryStatus%27,%27width%27:60},{%27name%27:%27creationType%27,%27width%27:50},{%27name%27:%27creationMedia%27,%27width%27:50},{%27name%27:%27completionMedia%27,%27width%27:50},{%27name%27:%27completionFollower%27,%27width%27:120},{%27name%27:%27lastActionDate%27,%27width%27:100,%27expression%27:%27rg.formatJalaliDate(date:%20%20obj[\\\\x5C%27lastActionDate\\\\x5C%27],%20hm:\\\\x5C%27true\\\\x5C%27%20)%27}]&_search=false&nd=1548241075794&rows=20&page=1&sidx=lastActionDate&sord=desc', '200', '2158', 'https://www.zanbil.ir/orderAdministration/console/187286', 'Mozilla/5.0 (Windows NT 10.0; Win64; x64; rv:64.0) Gecko/20100101 Firefox/64.0')\n"
          ],
          "name": "stdout"
        },
        {
          "output_type": "stream",
          "text": [
            "3417902it [00:43, 103022.12it/s]"
          ],
          "name": "stderr"
        },
        {
          "output_type": "stream",
          "text": [
            "('78.38.138.147', '23/Jan/2019:14:45:15 +0330', 'GET', '/static/images/not-exists.png', '200', '2471', 'https://www.zanbil.ir/search/%DA%AF%D9%88%D8%B4%DB%8C-a6/p0', 'Mozilla/5.0 (Windows NT 6.1; rv:64.0) Gecko/20100101 Firefox/64.0')\n"
          ],
          "name": "stdout"
        },
        {
          "output_type": "stream",
          "text": [
            "3463599it [00:43, 111837.50it/s]"
          ],
          "name": "stderr"
        },
        {
          "output_type": "stream",
          "text": [
            "('5.114.80.17', '23/Jan/2019:15:05:49 +0330', 'GET', '/static/images/not-checked.png', '200', '713', 'https://znbl.ir/static/bundle-bundle_site_head.css', 'Mozilla/5.0 (Windows NT 10.0; Win64; x64; rv:64.0) Gecko/20100101 Firefox/64.0')\n"
          ],
          "name": "stdout"
        },
        {
          "output_type": "stream",
          "text": [
            "3517039it [00:45, 31669.08it/s]"
          ],
          "name": "stderr"
        },
        {
          "output_type": "stream",
          "text": [
            "('66.249.66.93', '23/Jan/2019:15:27:36 +0330', 'GET', '/filter/b481%2Cb570%2Cb80%2Cb270%2Cb903%2Cb883%2Cb152%2Cb249%2Cb701%2Cb723%2Cb35%2Cb183%2Cb219%2Cb308%2Cb126%2Cb900%2Cb188%2Cb890%2Cb148%2Cb236%2Cb74%2Cb400%2Cb209%2Cb19%2Cb454%2Cb651%2Cb202%2Cb4%2Cb22%2Cb596%2Cb143%2Cb485%2Cb194%2Cb648%2Cb136%2Cb647%2Cb497%2Cb546%2Cb185%2Cb568%2Cb151%2Cb88%2Cb597%2Cb820%2Cb645%2Cb2%2Cb854%2Cb614%2Cb435%2Cb619%2Cb67%2Cb573%2Cb192%2Cb103%2Cb442%2Cb221%2Cb543%2Cb224%2Cb256%2Cb180%2Cb218%2Cb32%2Cb879%2Cb542%2Cb118%2Cb95%2Cb321%2Cb135%2Cb615%2Cb213%2Cb5%2Cb441%2Cb113?page=0', '200', '41510', '-', 'Mozilla/5.0 (compatible; Googlebot/2.1; +http://www.google.com/bot.html)')\n"
          ],
          "name": "stdout"
        },
        {
          "output_type": "stream",
          "text": [
            "3567024it [00:45, 71982.27it/s]"
          ],
          "name": "stderr"
        },
        {
          "output_type": "stream",
          "text": [
            "('109.230.204.6', '23/Jan/2019:15:48:04 +0330', 'GET', '/static/images/guarantees/pos.png', '200', '6465', 'https://www.zanbil.ir/filter/b133', 'Mozilla/5.0 (Windows NT 6.1; Win64; x64; rv:65.0) Gecko/20100101 Firefox/65.0')\n"
          ],
          "name": "stdout"
        },
        {
          "output_type": "stream",
          "text": [
            "3617347it [00:46, 95811.29it/s]"
          ],
          "name": "stderr"
        },
        {
          "output_type": "stream",
          "text": [
            "('217.219.180.112', '23/Jan/2019:16:11:28 +0330', 'GET', '/static/images/amp/telegram.png', '200', '4859', 'https://www.zanbil.ir/product/31581/%DA%AF%D9%88%D8%B4%DB%8C-%D9%85%D9%88%D8%A8%D8%A7%DB%8C%D9%84-%D8%A7%D9%84-%D8%AC%DB%8C-%D9%85%D8%AF%D9%84-%28G6-Plus-128GB-%28H870DSU', 'Mozilla/5.0 (Windows NT 6.1; rv:64.0) Gecko/20100101 Firefox/64.0')\n"
          ],
          "name": "stdout"
        },
        {
          "output_type": "stream",
          "text": [
            "3669344it [00:46, 97785.19it/s]"
          ],
          "name": "stderr"
        },
        {
          "output_type": "stream",
          "text": [
            "('37.27.132.164', '23/Jan/2019:16:35:29 +0330', 'GET', '/static/images/zanbil/Information-Icon.png', '200', '1429', 'https://www.zanbil.ir/product/33954/64714/%DA%AF%D9%88%D8%B4%DB%8C-%D9%85%D9%88%D8%A8%D8%A7%DB%8C%D9%84-%D8%B3%D8%A7%D9%85%D8%B3%D9%88%D9%86%DA%AF-%D9%85%D8%AF%D9%84-Galaxy-A6-Plus-%282018%29-Dual-64GB-%28A605F-DS%29', 'Mozilla/5.0 (Windows NT 6.1; Win64; x64; rv:64.0) Gecko/20100101 Firefox/64.0')\n"
          ],
          "name": "stdout"
        },
        {
          "output_type": "stream",
          "text": [
            "3721409it [00:47, 103910.05it/s]"
          ],
          "name": "stderr"
        },
        {
          "output_type": "stream",
          "text": [
            "('5.120.28.130', '23/Jan/2019:16:58:47 +0330', 'GET', '/image/26472/productModel/150x150', '200', '3817', 'https://www.zanbil.ir/browse/medicine-and-health/%D9%BE%D8%B2%D8%B4%DA%A9%DB%8C-%D9%88-%D8%B3%D9%84%D8%A7%D9%85%D8%AA', 'Mozilla/5.0 (Windows NT 10.0; Win64; x64; rv:56.0) Gecko/20100101 Firefox/56.0')\n"
          ],
          "name": "stdout"
        },
        {
          "output_type": "stream",
          "text": [
            "3762818it [00:48, 36311.40it/s]"
          ],
          "name": "stderr"
        },
        {
          "output_type": "stream",
          "text": [
            "('5.114.64.40', '23/Jan/2019:17:21:53 +0330', 'GET', '/static/images/guarantees/warranty.png', '200', '5807', 'https://www.zanbil.ir/m/search/%D9%81%D8%B1%D8%B2', 'Mozilla/5.0 (Linux; Android 8.0.0; WAS-LX1A) AppleWebKit/537.36 (KHTML, like Gecko) Chrome/71.0.3578.99 Mobile Safari/537.36')\n"
          ],
          "name": "stdout"
        },
        {
          "output_type": "stream",
          "text": [
            "3814164it [00:48, 79872.02it/s]"
          ],
          "name": "stderr"
        },
        {
          "output_type": "stream",
          "text": [
            "('77.104.65.104', '23/Jan/2019:17:45:43 +0330', 'GET', '/image/777/mainSlide', '200', '312763', 'https://www.zanbil.ir/browse/telephone/%DA%AF%D9%88%D8%B4%DB%8C-%D8%AA%D9%84%D9%81%D9%86', 'Mozilla/5.0 (Windows NT 6.1; Win64; x64; rv:64.0) Gecko/20100101 Firefox/64.0')\n"
          ],
          "name": "stdout"
        },
        {
          "output_type": "stream",
          "text": [
            "3865165it [00:49, 95454.45it/s]"
          ],
          "name": "stderr"
        },
        {
          "output_type": "stream",
          "text": [
            "('5.112.181.219', '23/Jan/2019:18:10:33 +0330', 'GET', '/amp-helper-frame.html?appId=a624a1c1-0c93-466a-a546-e146710f97e6&parentOrigin=https://www-zanbil-ir.cdn.ampproject.org', '200', '133', 'https://www-zanbil-ir.cdn.ampproject.org/v/s/www.zanbil.ir/m/browse/mattress/%D8%AA%D8%B4%DA%A9?amp_js_v=0.1&usqp=mq331AQECAEoAQ%3D%3D', 'Mozilla/5.0 (Linux; Android 7.0; HUAWEI MLA-L11 Build/HUAWEIMLA-L11) AppleWebKit/537.36 (KHTML, like Gecko) Chrome/66.0.3359.158 Mobile Safari/537.36')\n"
          ],
          "name": "stdout"
        },
        {
          "output_type": "stream",
          "text": [
            "3916089it [00:49, 99736.31it/s]"
          ],
          "name": "stderr"
        },
        {
          "output_type": "stream",
          "text": [
            "('46.209.99.138', '23/Jan/2019:18:37:43 +0330', 'GET', '/image/31678?name=bf420-2.jpg&wh=300x300', '200', '5001', 'https://www.zanbil.ir/product/31678/61786/%DB%8C%D8%AE%DA%86%D8%A7%D9%84-%D9%81%D8%B1%DB%8C%D8%B2%D8%B1-%D9%81%D8%B1%DB%8C%D8%B2%D8%B1-%D9%BE%D8%A7%DB%8C%DB%8C%D9%86-%D8%A7%D9%84-%D8%AC%DB%8C-%D9%85%D8%AF%D9%84-BF420TS', 'Mozilla/5.0 (Windows NT 10.0; Win64; x64) AppleWebKit/537.36 (KHTML, like Gecko) Chrome/71.0.3578.98 Safari/537.36')\n"
          ],
          "name": "stdout"
        },
        {
          "output_type": "stream",
          "text": [
            "3969062it [00:50, 105596.51it/s]"
          ],
          "name": "stderr"
        },
        {
          "output_type": "stream",
          "text": [
            "('5.113.90.62', '23/Jan/2019:19:05:13 +0330', 'GET', '/image/57019/productModel/200x200', '200', '3381', 'https://www.zanbil.ir/m/browse/hood/%D9%87%D9%88%D8%AF', 'Mozilla/5.0 (Linux; U; Android 4.4.2; fa-ir; LG-D320 Build/KOT49I.A1500461576) AppleWebKit/537.36 (KHTML, like Gecko) Version/4.0 Chrome/30.0.1599.103 Mobile Safari/537.36')\n"
          ],
          "name": "stdout"
        },
        {
          "output_type": "stream",
          "text": [
            "4011280it [00:51, 38458.82it/s]"
          ],
          "name": "stderr"
        },
        {
          "output_type": "stream",
          "text": [
            "('2.178.242.206', '23/Jan/2019:19:34:35 +0330', 'GET', '/site/alexaGooleAnalitic', '200', '323', 'https://www.zanbil.ir/browse/aroma-therapy/%D9%87%D9%88%D8%A7-%D9%88-%D8%B1%D8%A7%DB%8C%D8%AD%D9%87-%D8%AF%D8%B1%D9%85%D8%A7%D9%86%DB%8C', 'Mozilla/5.0 (Windows NT 6.1) AppleWebKit/537.36 (KHTML, like Gecko) Chrome/71.0.3578.98 Safari/537.36')\n"
          ],
          "name": "stdout"
        },
        {
          "output_type": "stream",
          "text": [
            "4070586it [00:52, 87545.08it/s]"
          ],
          "name": "stderr"
        },
        {
          "output_type": "stream",
          "text": [
            "('79.127.74.126', '23/Jan/2019:20:02:17 +0330', 'GET', '/image/35/brand', '200', '2264', 'https://www.zanbil.ir/filter/b183', 'Mozilla/5.0 (Windows NT 6.1; Win64; x64; rv:64.0) Gecko/20100101 Firefox/64.0')\n"
          ],
          "name": "stdout"
        },
        {
          "output_type": "stream",
          "text": [
            "4117552it [00:52, 107812.88it/s]"
          ],
          "name": "stderr"
        },
        {
          "output_type": "stream",
          "text": [
            "('46.41.233.247', '23/Jan/2019:20:29:24 +0330', 'GET', '/image/32553/productType/240x180', '200', '10993', 'https://www.zanbil.ir/m/browse/home-appliances/%D9%84%D9%88%D8%A7%D8%B2%D9%85-%D8%AE%D8%A7%D9%86%DA%AF%DB%8C', 'Mozilla/5.0 (Linux; Android 7.0; SM-T819) AppleWebKit/537.36 (KHTML, like Gecko) Chrome/71.0.3578.99 Safari/537.36')\n"
          ],
          "name": "stdout"
        },
        {
          "output_type": "stream",
          "text": [
            "4164842it [00:52, 113545.57it/s]"
          ],
          "name": "stderr"
        },
        {
          "output_type": "stream",
          "text": [
            "('37.148.5.38', '23/Jan/2019:20:56:35 +0330', 'GET', '/static/images/guarantees/support.png', '200', '6454', 'https://www.zanbil.ir/m/product/6480/%D8%A2%D8%A8%D9%85%DB%8C%D9%88%D9%87-%DA%AF%DB%8C%D8%B1%DB%8C-%D8%AA%DA%A9-%DA%A9%D8%A7%D8%B1%D9%87-%D9%BE%D8%A7%D8%B1%D8%B3-%D8%AE%D8%B2%D8%B1-%D9%85%D8%AF%D9%84-Parskhazar-Juicer-Tiger', 'Mozilla/5.0 (Linux; U; Android 4.2.2; fa-fa; GT-N5100 Build/JDQ39) AppleWebKit/534.30 (KHTML, like Gecko) Version/4.0 Safari/534.30')\n"
          ],
          "name": "stdout"
        },
        {
          "output_type": "stream",
          "text": [
            "4213286it [00:53, 118503.96it/s]"
          ],
          "name": "stderr"
        },
        {
          "output_type": "stream",
          "text": [
            "('204.18.140.161', '23/Jan/2019:21:24:25 +0330', 'GET', '/discountLabel/get/3?type=mobileSmallIcon', '200', '4336', 'https://www.zanbil.ir/m/product/34288/65271/%DA%AF%D9%88%D8%B4%DB%8C-%D9%85%D9%88%D8%A8%D8%A7%DB%8C%D9%84-%D8%B3%D8%A7%D9%85%D8%B3%D9%88%D9%86%DA%AF-%D9%85%D8%AF%D9%84-Galaxy-J4-%282018%29-Dual-32GB-%28J400%29', 'Mozilla/5.0 (Linux; U; Android 4.3; fa-ir; G630-U10 Build/HuaweiG630-U10) AppleWebKit/534.30 (KHTML, like Gecko) Version/4.0 Mobile Safari/534.30')\n"
          ],
          "name": "stdout"
        },
        {
          "output_type": "stream",
          "text": [
            "4270387it [00:54, 41214.61it/s]"
          ],
          "name": "stderr"
        },
        {
          "output_type": "stream",
          "text": [
            "('37.27.239.205', '23/Jan/2019:21:52:14 +0330', 'GET', '/static/css/font/wyekan/font.woff', '200', '28536', 'https://www.zanbil.ir/m/product/31227/61158/%DA%A9%D9%88%D9%84%D8%B1-%DA%AF%D8%A7%D8%B2%DB%8C-%D8%A7%DB%8C%D8%B3%D8%AA%D8%A7%D8%AF%D9%87-%DA%AF%D8%B1%DB%8C-%D9%85%D8%AF%D9%84-T2-Matic%E2%80%93H48H3', 'Mozilla/5.0 (iPhone; CPU iPhone OS 12_1 like Mac OS X) AppleWebKit/605.1.15 (KHTML, like Gecko) Version/12.0 Mobile/15E148 Safari/604.1')\n"
          ],
          "name": "stdout"
        },
        {
          "output_type": "stream",
          "text": [
            "4317172it [00:55, 81379.35it/s]"
          ],
          "name": "stderr"
        },
        {
          "output_type": "stream",
          "text": [
            "('54.37.204.118', '23/Jan/2019:22:17:52 +0330', 'GET', '/static/images/guarantees/goodShopping.png', '200', '6496', 'https://www.zanbil.ir/m/browse/executive-chair/%D8%B5%D9%86%D8%AF%D9%84%DB%8C-%D9%85%D8%AF%DB%8C%D8%B1%DB%8C%D8%AA%DB%8C', 'Mozilla/5.0 (Linux; Android 8.0.0; SM-G955F) AppleWebKit/537.36 (KHTML, like Gecko) Chrome/71.0.3578.99 Mobile Safari/537.36')\n"
          ],
          "name": "stdout"
        },
        {
          "output_type": "stream",
          "text": [
            "4364027it [00:55, 106103.52it/s]"
          ],
          "name": "stderr"
        },
        {
          "output_type": "stream",
          "text": [
            "('5.233.208.14', '23/Jan/2019:22:44:01 +0330', 'GET', '/image/9814/productModel/100x100', '200', '2779', 'https://www.zanbil.ir/filter/p63,b43,stexists', 'Mozilla/5.0 (Windows NT 6.1; WOW64) AppleWebKit/537.36 (KHTML, like Gecko) Chrome/71.0.3578.98 Safari/537.36')\n"
          ],
          "name": "stdout"
        },
        {
          "output_type": "stream",
          "text": [
            "4422942it [00:56, 116003.50it/s]"
          ],
          "name": "stderr"
        },
        {
          "output_type": "stream",
          "text": [
            "('109.125.154.205', '23/Jan/2019:23:09:33 +0330', 'GET', '/image/64498/productModel/200x200', '200', '7470', 'https://www.zanbil.ir/m/filter/b126%2Cb41%2Cb52%2Cp65%2Cb67', 'Mozilla/5.0 (Linux; Android 6.0.1; SAMSUNG SM-J700H Build/MMB29K) AppleWebKit/537.36 (KHTML, like Gecko) SamsungBrowser/8.2 Chrome/63.0.3239.111 Mobile Safari/537.36')\n"
          ],
          "name": "stdout"
        },
        {
          "output_type": "stream",
          "text": [
            "4470982it [00:56, 118833.93it/s]"
          ],
          "name": "stderr"
        },
        {
          "output_type": "stream",
          "text": [
            "('54.36.148.124', '23/Jan/2019:23:36:32 +0330', 'GET', '/filter/p5623,stexists,1817|%D8%AF%D8%A7%D8%B1%D8%A7%DB%8C%20%D8%B5%D9%81%D8%AD%D8%A7%D8%AA%DB%8C%20%D8%A7%D8%B2%20%D8%AC%D9%86%D8%B3%20%D8%B3%D8%B1%D8%A7%D9%85%DB%8C%DA%A9%20%D8%A8%D8%A7%20%D8%B1%D9%88%DA%A9%D8%B4%20%D8%A7%D8%A8%D8%B1%DB%8C%D8%B4%D9%85?o=1817', '302', '0', '-', 'Mozilla/5.0 (compatible; AhrefsBot/6.1; +http://ahrefs.com/robot/)')\n"
          ],
          "name": "stdout"
        },
        {
          "output_type": "stream",
          "text": [
            "4516824it [00:57, 39906.60it/s]"
          ],
          "name": "stderr"
        },
        {
          "output_type": "stream",
          "text": [
            "('151.240.156.107', '24/Jan/2019:00:07:21 +0330', 'GET', '/image/8692?name=20.jpg&wh=max', '200', '28598', 'https://www.zanbil.ir/m/product/8692/%D8%A8%D8%AE%D8%A7%D8%B1%DB%8C-%DA%AF%D8%A7%D8%B2%DB%8C-%D8%A8%D8%A7-%D8%AF%D9%88%D8%AF%DA%A9%D8%B4-%D9%86%DB%8C%DA%A9-%DA%A9%D8%A7%D9%84%D8%A7-%D9%85%D8%AF%D9%84-%D9%87%D9%88%D8%B4%D9%85%D9%86%D8%AF-Nicala-Gas-Heater-AB7', 'Mozilla/5.0 (Linux; Android 8.1.0; SM-P585) AppleWebKit/537.36 (KHTML, like Gecko) Chrome/70.0.3538.110 Safari/537.36')\n"
          ],
          "name": "stdout"
        },
        {
          "output_type": "stream",
          "text": [
            "4563220it [00:58, 80280.28it/s]"
          ],
          "name": "stderr"
        },
        {
          "output_type": "stream",
          "text": [
            "('66.249.66.93', '24/Jan/2019:00:45:12 +0330', 'GET', '/static/css/font/wyekan/font.woff', '304', '0', '-', 'Mozilla/5.0 (Linux; Android 6.0.1; Nexus 5X Build/MMB29P) AppleWebKit/537.36 (KHTML, like Gecko) Chrome/41.0.2272.96 Mobile Safari/537.36 (compatible; Googlebot/2.1; +http://www.google.com/bot.html)')\n"
          ],
          "name": "stdout"
        },
        {
          "output_type": "stream",
          "text": [
            "4622333it [00:58, 109041.39it/s]"
          ],
          "name": "stderr"
        },
        {
          "output_type": "stream",
          "text": [
            "('95.64.2.86', '24/Jan/2019:01:33:59 +0330', 'GET', '/image/58830/productModel/100x100', '200', '2226', 'https://www.zanbil.ir/filter/b6,p73', 'Mozilla/5.0 (X11; Linux x86_64) AppleWebKit/537.36 (KHTML, like Gecko) Chrome/71.0.3578.99 Safari/537.36')\n"
          ],
          "name": "stdout"
        },
        {
          "output_type": "stream",
          "text": [
            "4669671it [00:59, 115640.38it/s]"
          ],
          "name": "stderr"
        },
        {
          "output_type": "stream",
          "text": [
            "('89.198.128.16', '24/Jan/2019:03:00:27 +0330', 'GET', '/image/58996/productModel/200x200', '200', '2772', 'https://www.zanbil.ir/m/filter/p12786%2Ct460?name=%D8%AA%D8%B4%DA%A9&productType=mattress&page=1', 'Mozilla/5.0 (iPhone; CPU iPhone OS 9_3_4 like Mac OS X) AppleWebKit/601.1.46 (KHTML, like Gecko) Version/9.0 Mobile/13G35 Safari/601.1')\n"
          ],
          "name": "stdout"
        },
        {
          "output_type": "stream",
          "text": [
            "4715076it [00:59, 110065.85it/s]"
          ],
          "name": "stderr"
        },
        {
          "output_type": "stream",
          "text": [
            "('5.125.109.230', '24/Jan/2019:06:28:10 +0330', 'GET', '/static/images/amp/blog.png', '200', '3863', 'https://www.zanbil.ir/m/filter/p62%2Cstexists', 'Mozilla/5.0 (Linux; Android 4.4.2; GT-I9301I) AppleWebKit/537.36 (KHTML, like Gecko) Chrome/71.0.3578.99 Mobile Safari/537.36')\n"
          ],
          "name": "stdout"
        },
        {
          "output_type": "stream",
          "text": [
            "4768587it [01:00, 34984.06it/s]"
          ],
          "name": "stderr"
        },
        {
          "output_type": "stream",
          "text": [
            "('204.18.223.245', '24/Jan/2019:08:12:10 +0330', 'GET', '/settings/logo', '200', '4120', 'https://www.zanbil.ir/m/filter/b485%2Cb656%2Cp12786?page=1', 'Mozilla/5.0 (iPhone; CPU iPhone OS 12_1_2 like Mac OS X) AppleWebKit/605.1.15 (KHTML, like Gecko) Version/12.0 Mobile/15E148 Safari/604.1')\n"
          ],
          "name": "stdout"
        },
        {
          "output_type": "stream",
          "text": [
            "4813827it [01:01, 74054.71it/s]"
          ],
          "name": "stderr"
        },
        {
          "output_type": "stream",
          "text": [
            "('2.179.237.76', '24/Jan/2019:08:52:09 +0330', 'GET', '/static/images/amp/blog.png', '200', '3863', 'https://www.zanbil.ir/browse/bronze-clock/%D8%B3%D8%A7%D8%B9%D8%AA-%D8%A8%D8%B1%D9%86%D8%B2', 'Mozilla/5.0 (Windows NT 6.1; rv:64.0) Gecko/20100101 Firefox/64.0')\n"
          ],
          "name": "stdout"
        },
        {
          "output_type": "stream",
          "text": [
            "4866803it [01:01, 97019.01it/s]"
          ],
          "name": "stderr"
        },
        {
          "output_type": "stream",
          "text": [
            "('54.36.119.4', '24/Jan/2019:09:27:46 +0330', 'GET', '/image/43/brand', '200', '2376', 'https://www.zanbil.ir/m/browse/washing-machine/%D9%85%D8%A7%D8%B4%DB%8C%D9%86-%D9%84%D8%A8%D8%A7%D8%B3%D8%B4%D9%88%DB%8C%DB%8C', 'Mozilla/5.0 (Linux; Android 7.0; SAMSUNG SM-A310F Build/NRD90M) AppleWebKit/537.36 (KHTML, like Gecko) SamsungBrowser/8.2 Chrome/63.0.3239.111 Mobile Safari/537.36')\n"
          ],
          "name": "stdout"
        },
        {
          "output_type": "stream",
          "text": [
            "4919535it [01:02, 101563.33it/s]"
          ],
          "name": "stderr"
        },
        {
          "output_type": "stream",
          "text": [
            "('31.58.248.62', '24/Jan/2019:09:56:57 +0330', 'GET', '/image/21348/productModel/100x100', '200', '2318', 'https://www.zanbil.ir/browse/accessories/%D8%B3%D8%A7%D8%B9%D8%AA-%D9%88-%D8%A7%DA%A9%D8%B3%D8%B3%D9%88%D8%B1%DB%8C', 'Mozilla/5.0 (Windows NT 6.1; rv:49.0) Gecko/20100101 Firefox/49.0')\n"
          ],
          "name": "stdout"
        },
        {
          "output_type": "stream",
          "text": [
            "4962702it [01:02, 105667.94it/s]"
          ],
          "name": "stderr"
        },
        {
          "output_type": "stream",
          "text": [
            "('5.124.116.7', '24/Jan/2019:10:22:43 +0330', 'GET', '/image/61652/productModel/200x200', '200', '7301', 'https://www.zanbil.ir/m/browse/rice-cooker/%D9%BE%D9%84%D9%88%D9%BE%D8%B2', 'Mozilla/5.0 (Linux; Android 5.1.1; SAMSUNG SM-G531H Build/LMY48B) AppleWebKit/537.36 (KHTML, like Gecko) SamsungBrowser/3.3 Chrome/38.0.2125.102 Mobile Safari/537.36')\n"
          ],
          "name": "stdout"
        },
        {
          "output_type": "stream",
          "text": [
            "5015180it [01:04, 36674.30it/s]"
          ],
          "name": "stderr"
        },
        {
          "output_type": "stream",
          "text": [
            "('178.131.89.66', '24/Jan/2019:10:47:36 +0330', 'GET', '/image/56531/productModel/200x200', '200', '2975', 'https://www.zanbil.ir/m/browse/electric-shavers/%D9%85%D8%A7%D8%B4%DB%8C%D9%86-%D8%A7%D8%B5%D9%84%D8%A7%D8%AD', 'Mozilla/5.0 (Linux; Android 7.1.1; MI MAX 2) AppleWebKit/537.36 (KHTML, like Gecko) Chrome/71.0.3578.99 Mobile Safari/537.36')\n"
          ],
          "name": "stdout"
        },
        {
          "output_type": "stream",
          "text": [
            "5068304it [01:04, 80545.90it/s]"
          ],
          "name": "stderr"
        },
        {
          "output_type": "stream",
          "text": [
            "('5.114.254.176', '24/Jan/2019:11:11:00 +0330', 'GET', '/image/64802/productModel/100x100', '200', '2785', 'https://www.zanbil.ir/', 'Mozilla/5.0 (Windows NT 10.0; Win64; x64; rv:66.0) Gecko/20100101 Firefox/66.0')\n"
          ],
          "name": "stdout"
        },
        {
          "output_type": "stream",
          "text": [
            "5118887it [01:05, 95362.99it/s]"
          ],
          "name": "stderr"
        },
        {
          "output_type": "stream",
          "text": [
            "('65.49.68.200', '24/Jan/2019:11:34:26 +0330', 'GET', '/static/js/date-conversion.min.js', '200', '608', 'https://www.zanbil.ir/product/31577/61625/%D9%85%D8%A7%D8%B4%DB%8C%D9%86-%D8%B8%D8%B1%D9%81%D8%B4%D9%88%DB%8C%DB%8C-%D8%A7%DB%8C%D8%B3%D8%AA%D8%A7%D8%AF%D9%87-%D9%85%DB%8C%D8%AF%DB%8C%D8%A7-%D9%85%D8%AF%D9%84-WQP12-J7617K-W', 'Mozilla/5.0 (Windows NT 6.1) AppleWebKit/537.36 (KHTML, like Gecko) Chrome/71.0.3578.98 Safari/537.36')\n"
          ],
          "name": "stdout"
        },
        {
          "output_type": "stream",
          "text": [
            "5167799it [01:05, 96047.25it/s]"
          ],
          "name": "stderr"
        },
        {
          "output_type": "stream",
          "text": [
            "('109.162.207.164', '24/Jan/2019:11:54:57 +0330', 'GET', '/static/images/amp/blog.png', '200', '3863', 'https://www.zanbil.ir/', 'Mozilla/5.0 (Windows NT 10.0; Win64; x64; rv:64.0) Gecko/20100101 Firefox/64.0')\n"
          ],
          "name": "stdout"
        },
        {
          "output_type": "stream",
          "text": [
            "5218170it [01:06, 100227.16it/s]"
          ],
          "name": "stderr"
        },
        {
          "output_type": "stream",
          "text": [
            "('159.65.239.189', '24/Jan/2019:12:18:02 +0330', 'GET', '/amp-helper-frame.html?appId=a624a1c1-0c93-466a-a546-e146710f97e6&parentOrigin=https://www-zanbil-ir.cdn.ampproject.org', '200', '133', 'https://www-zanbil-ir.cdn.ampproject.org/v/s/www.zanbil.ir/m/product/10502/%D8%A7%D8%AA%D9%88-%D9%85%D9%88-%D9%81%DB%8C%D9%84%DB%8C%D9%BE%D8%B3-%D9%85%D8%AF%D9%84-HP8316?amp_js_v=a2&amp_gsa=1&usqp=mq331AQCCAE%3D', 'Mozilla/5.0 (Linux; Android 8.0.0; SM-A720F Build/R16NW) AppleWebKit/537.36 (KHTML, like Gecko) Chrome/68.0.3440.91 Mobile Safari/537.36')\n"
          ],
          "name": "stdout"
        },
        {
          "output_type": "stream",
          "text": [
            "5269334it [01:07, 36021.72it/s]"
          ],
          "name": "stderr"
        },
        {
          "output_type": "stream",
          "text": [
            "('77.104.75.170', '24/Jan/2019:12:40:14 +0330', 'GET', '/image/6386/productModel/150x150', '200', '2677', 'https://www.zanbil.ir/browse/cosmetic/%D8%A2%D8%B1%D8%A7%DB%8C%D8%B4%DB%8C-%D9%88-%D8%A8%D9%87%D8%AF%D8%A7%D8%B4%D8%AA%DB%8C', 'Mozilla/5.0 (Windows NT 10.0; Win64; x64) AppleWebKit/537.36 (KHTML, like Gecko) Chrome/71.0.3578.98 Safari/537.36')\n"
          ],
          "name": "stdout"
        },
        {
          "output_type": "stream",
          "text": [
            "5315010it [01:08, 72982.73it/s]"
          ],
          "name": "stderr"
        },
        {
          "output_type": "stream",
          "text": [
            "('92.242.207.97', '24/Jan/2019:13:07:16 +0330', 'GET', '/static/images/search-category-arrow.png', '304', '0', 'https://znbl.ir/static/bundle-bundle_site_head.css', 'Mozilla/5.0 (Windows NT 6.1) AppleWebKit/537.36 (KHTML, like Gecko) Chrome/71.0.3578.98 Safari/537.36')\n"
          ],
          "name": "stdout"
        },
        {
          "output_type": "stream",
          "text": [
            "5364325it [01:08, 93116.63it/s]"
          ],
          "name": "stderr"
        },
        {
          "output_type": "stream",
          "text": [
            "('31.57.137.123', '24/Jan/2019:13:32:03 +0330', 'GET', '/image/60709/productModel/50x50', '200', '1275', 'https://www.zanbil.ir/', 'Mozilla/5.0 (Windows NT 6.1) AppleWebKit/537.36 (KHTML, like Gecko) Chrome/71.0.3578.98 Safari/537.36')\n"
          ],
          "name": "stdout"
        },
        {
          "output_type": "stream",
          "text": [
            "5413041it [01:09, 92907.34it/s]"
          ],
          "name": "stderr"
        },
        {
          "output_type": "stream",
          "text": [
            "('94.183.161.158', '24/Jan/2019:13:58:27 +0330', 'GET', '/static/images/guarantees/pos.png', '200', '6465', 'https://www.zanbil.ir/browse/refrigerator-and-freezer/%DB%8C%D8%AE%DA%86%D8%A7%D9%84-%D9%81%D8%B1%DB%8C%D8%B2%D8%B1', 'Mozilla/5.0 (Windows NT 10.0) AppleWebKit/537.36 (KHTML, like Gecko) Chrome/71.0.3578.98 Safari/537.36')\n"
          ],
          "name": "stdout"
        },
        {
          "output_type": "stream",
          "text": [
            "5460327it [01:09, 93301.58it/s]"
          ],
          "name": "stderr"
        },
        {
          "output_type": "stream",
          "text": [
            "('151.238.148.3', '24/Jan/2019:14:24:35 +0330', 'GET', '/static/plugins/rapid-grails-0.1/bootstrap/img/glyphicons-halflings.png', '200', '12625', 'https://znbl.ir/static/bundle-bundle_site_head.css', 'Mozilla/5.0 (Windows NT 6.1; WOW64) AppleWebKit/537.36 (KHTML, like Gecko) Chrome/71.0.3578.98 Safari/537.36')\n"
          ],
          "name": "stdout"
        },
        {
          "output_type": "stream",
          "text": [
            "5514694it [01:11, 28907.12it/s]"
          ],
          "name": "stderr"
        },
        {
          "output_type": "stream",
          "text": [
            "('37.202.133.153', '24/Jan/2019:14:50:17 +0330', 'GET', '/image/31157?name=wab20262ir-3.jpg&wh=max', '200', '45182', 'https://www.zanbil.ir/product/31157/61042/%D9%85%D8%A7%D8%B4%DB%8C%D9%86-%D9%84%D8%A8%D8%A7%D8%B3%D8%B4%D9%88%DB%8C%DB%8C-%D8%AF%D8%B1%D8%A8-%D8%A7%D8%B2-%D8%AC%D9%84%D9%88-%D8%A8%D9%88%D8%B4-%D9%85%D8%AF%D9%84-WAB20262IR', 'Mozilla/5.0 (Windows NT 6.1; rv:64.0) Gecko/20100101 Firefox/64.0')\n"
          ],
          "name": "stdout"
        },
        {
          "output_type": "stream",
          "text": [
            "5562769it [01:11, 70129.15it/s]"
          ],
          "name": "stderr"
        },
        {
          "output_type": "stream",
          "text": [
            "('5.119.62.140', '24/Jan/2019:15:17:27 +0330', 'GET', '/image/20/brand', '200', '1958', 'https://www.zanbil.ir/m/filter/b67%2Cp65', 'Mozilla/5.0 (Linux; Android 4.2.2; fa-ir; SAMSUNG GT-S7272 Build/JDQ39) AppleWebKit/535.19 (KHTML, like Gecko) Version/1.0 Chrome/18.0.1025.308 Mobile Safari/535.19')\n"
          ],
          "name": "stdout"
        },
        {
          "output_type": "stream",
          "text": [
            "5614604it [01:12, 96373.64it/s]"
          ],
          "name": "stderr"
        },
        {
          "output_type": "stream",
          "text": [
            "('2.177.172.132', '24/Jan/2019:15:46:16 +0330', 'GET', '/image/105/brand', '200', '2653', 'https://www.zanbil.ir/m/filter/b36%2Cp5', 'Mozilla/5.0 (iPhone; CPU iPhone OS 11_4_1 like Mac OS X) AppleWebKit/605.1.15 (KHTML, like Gecko) Version/11.0 Mobile/15E148 Safari/604.1')\n"
          ],
          "name": "stdout"
        },
        {
          "output_type": "stream",
          "text": [
            "5668586it [01:12, 106324.11it/s]"
          ],
          "name": "stderr"
        },
        {
          "output_type": "stream",
          "text": [
            "('5.72.112.68', '24/Jan/2019:16:20:22 +0330', 'GET', '/image/31598?name=hq-585fwe-222.jpg&wh=max', '200', '14941', 'https://www.zanbil.ir/m/product/31598/%DB%8C%D8%AE%DA%86%D8%A7%D9%84-%D9%81%D8%B1%DB%8C%D8%B2%D8%B1-%D9%81%D8%B1%DB%8C%D8%B2%D8%B1-%D8%A8%D8%A7%D9%84%D8%A7-%D9%85%DB%8C%D8%AF%DB%8C%D8%A7-%D9%85%D8%AF%D9%84-HQ-585FWE', 'Mozilla/5.0 (Linux; Android 5.1.1; SAMSUNG SM-J200F Build/LMY47X) AppleWebKit/537.36 (KHTML, like Gecko) SamsungBrowser/3.5 Chrome/38.0.2125.102 Mobile Safari/537.36')\n"
          ],
          "name": "stdout"
        },
        {
          "output_type": "stream",
          "text": [
            "5714010it [01:13, 111610.36it/s]"
          ],
          "name": "stderr"
        },
        {
          "output_type": "stream",
          "text": [
            "('178.131.85.50', '24/Jan/2019:16:55:40 +0330', 'GET', '/image/13735/productModel/200x200', '200', '5520', 'https://www.zanbil.ir/m/filter/p5712?page=1', 'Mozilla/5.0 (Linux; Android 7.0; SM-G920F) AppleWebKit/537.36 (KHTML, like Gecko) Chrome/71.0.3578.99 Mobile Safari/537.36')\n"
          ],
          "name": "stdout"
        },
        {
          "output_type": "stream",
          "text": [
            "5770614it [01:14, 40029.72it/s]"
          ],
          "name": "stderr"
        },
        {
          "output_type": "stream",
          "text": [
            "('37.202.237.94', '24/Jan/2019:17:30:51 +0330', 'GET', '/image/32087?name=sxp430-11.jpg&wh=200x200', '200', '3775', 'https://torob.com/search/?query=TS%202108', 'Mozilla/5.0 (Windows NT 6.1; WOW64; rv:65.0) Gecko/20100101 Firefox/65.0')\n"
          ],
          "name": "stdout"
        },
        {
          "output_type": "stream",
          "text": [
            "5815011it [01:14, 78244.24it/s]"
          ],
          "name": "stderr"
        },
        {
          "output_type": "stream",
          "text": [
            "('5.123.178.16', '24/Jan/2019:18:05:24 +0330', 'GET', '/static/css/font/wyekan/font.woff', '200', '28536', 'https://www.zanbil.ir/m/filter/b105', 'Mozilla/5.0 (Linux; Android 8.1.0; SM-J530F) AppleWebKit/537.36 (KHTML, like Gecko) Chrome/71.0.3578.99 Mobile Safari/537.36')\n"
          ],
          "name": "stdout"
        },
        {
          "output_type": "stream",
          "text": [
            "5872121it [01:15, 100407.48it/s]"
          ],
          "name": "stderr"
        },
        {
          "output_type": "stream",
          "text": [
            "('65.49.68.205', '24/Jan/2019:18:38:33 +0330', 'GET', '/image/24755?name=korg_electribe.jpg&wh=max', '200', '74036', 'https://www.zanbil.ir/product/24755/%D8%B3%DB%8C%D9%86%D8%AA%DB%8C-%D8%B3%D8%A7%DB%8C%D8%B2%D8%B1-KORG-%D9%85%D8%AF%D9%84-electribe-sampler', 'Mozilla/5.0 (Windows NT 10.0; Win64; x64) AppleWebKit/537.36 (KHTML, like Gecko) Chrome/71.0.3578.98 Safari/537.36')\n"
          ],
          "name": "stdout"
        },
        {
          "output_type": "stream",
          "text": [
            "5916256it [01:15, 108097.29it/s]"
          ],
          "name": "stderr"
        },
        {
          "output_type": "stream",
          "text": [
            "('188.215.134.136', '24/Jan/2019:19:08:17 +0330', 'GET', '/static/images/guarantees/bestPrice.png', '200', '7356', 'https://www.zanbil.ir/m/product/28281/57089/%D9%87%D9%88%D8%AF-%D8%B4%D9%88%D9%85%DB%8C%D9%86%D9%87-%D8%A7%DB%8C-%DA%A9%D9%86-%D9%85%D8%AF%D9%84-Pardyc-B', 'Mozilla/5.0 (Linux; Android 6.0; LG-K350 Build/MRA58K) AppleWebKit/537.36 (KHTML, like Gecko) Chrome/53.0.2785.124 Mobile Safari/537.36')\n"
          ],
          "name": "stdout"
        },
        {
          "output_type": "stream",
          "text": [
            "5963184it [01:16, 115962.40it/s]"
          ],
          "name": "stderr"
        },
        {
          "output_type": "stream",
          "text": [
            "('5.214.123.10', '24/Jan/2019:19:44:14 +0330', 'GET', '/static/css/font/wyekan/font.woff', '200', '28536', 'https://www.zanbil.ir/m/filter/b1,p65', 'Mozilla/5.0 (Linux; Android 4.2.2; C2105 Build/15.3.A.1.17) AppleWebKit/537.36 (KHTML, like Gecko) Chrome/60.0.3112.97 Mobile Safari/537.36')\n"
          ],
          "name": "stdout"
        },
        {
          "output_type": "stream",
          "text": [
            "6020450it [01:17, 33182.91it/s]"
          ],
          "name": "stderr"
        },
        {
          "output_type": "stream",
          "text": [
            "('89.196.66.181', '24/Jan/2019:20:22:59 +0330', 'GET', '/image/63112/productModel/200x200', '200', '5706', 'https://www.zanbil.ir/m/browse/tv/%D8%AA%D9%84%D9%88%DB%8C%D8%B2%DB%8C%D9%88%D9%86', 'Mozilla/5.0 (Linux; Android 4.4.2; HUAWEI Y625-U32) AppleWebKit/537.36 (KHTML, like Gecko) Chrome/71.0.3578.99 Mobile Safari/537.36')\n"
          ],
          "name": "stdout"
        },
        {
          "output_type": "stream",
          "text": [
            "6064793it [01:18, 71278.01it/s]"
          ],
          "name": "stderr"
        },
        {
          "output_type": "stream",
          "text": [
            "('193.37.255.50', '24/Jan/2019:20:58:58 +0330', 'GET', '/image/607/article/100x100', '200', '10683', 'https://www.zanbil.ir/article/606/%D8%B9%D9%84%D8%AA-%D9%88-%D8%AF%D8%B1%D9%85%D8%A7%D9%86-%DA%AF%D8%B1%D8%AF%D9%86-%D8%AF%D8%B1%D8%AF-%28%D9%87%D9%85%D8%B1%D8%A7%D9%87-%D8%B3%D8%B1%D8%AF%D8%B1%D8%AF-%D9%88-%D8%B3%D8%B1%DA%AF%DB%8C%D8%AC%D9%87%29', 'Mozilla/5.0 (Windows NT 5.1) AppleWebKit/537.36 (KHTML, like Gecko) Chrome/49.0.2623.112 Safari/537.36')\n"
          ],
          "name": "stdout"
        },
        {
          "output_type": "stream",
          "text": [
            "6119963it [01:18, 99605.77it/s]"
          ],
          "name": "stderr"
        },
        {
          "output_type": "stream",
          "text": [
            "('5.115.192.22', '24/Jan/2019:21:36:40 +0330', 'GET', '/image/778/brand', '200', '5499', 'https://www.zanbil.ir/m/browse/bed-and-parks', 'Mozilla/5.0 (Linux; Android 6.0.1; SAMSUNG SM-G532F Build/MMB29T) AppleWebKit/537.36 (KHTML, like Gecko) SamsungBrowser/6.4 Chrome/56.0.2924.87 Mobile Safari/537.36')\n"
          ],
          "name": "stdout"
        },
        {
          "output_type": "stream",
          "text": [
            "6165384it [01:19, 107619.76it/s]"
          ],
          "name": "stderr"
        },
        {
          "output_type": "stream",
          "text": [
            "('66.249.66.194', '24/Jan/2019:22:04:31 +0330', 'GET', '/filter/b8,p6,stexists,v574%7C%D8%A8%D8%AF%D9%88%D9%86%20%D8%AA%D8%B3%D9%85%D9%87%20Direct%20Drive', '200', '33139', '-', 'Mozilla/5.0 (compatible; Googlebot/2.1; +http://www.google.com/bot.html)')\n"
          ],
          "name": "stdout"
        },
        {
          "output_type": "stream",
          "text": [
            "6212091it [01:19, 114343.18it/s]"
          ],
          "name": "stderr"
        },
        {
          "output_type": "stream",
          "text": [
            "('5.117.66.116', '24/Jan/2019:22:32:56 +0330', 'GET', '/apple-touch-icon.png', '404', '392', '-', 'MobileSafari/604.1 CFNetwork/976 Darwin/18.2.0')\n"
          ],
          "name": "stdout"
        },
        {
          "output_type": "stream",
          "text": [
            "6270660it [01:21, 39553.26it/s]"
          ],
          "name": "stderr"
        },
        {
          "output_type": "stream",
          "text": [
            "('83.120.234.213', '24/Jan/2019:23:00:24 +0330', 'GET', '/favicon.ico', '200', '0', 'https://www.zanbil.ir/m/product/15460/29309/%D9%88%D8%A7%DA%A9%D8%B1-%D8%B3%D8%B1%D9%88-%D9%BE%DB%8C%DA%A9%D8%B1-%D9%85%D8%AF%D9%84-%D8%AA%D8%A7%D8%B4%D9%88-%D8%A2%D9%84%D9%88%D9%85%DB%8C%D9%86%DB%8C%D9%88%D9%85%DB%8C-%D8%A8%D8%A7-%D8%A7%D8%B1%D8%AA%D9%81%D8%A7%D8%B9-%D9%85%D8%AA%D8%BA%DB%8C%D8%B1', 'Mozilla/5.0 (Linux; Android 8.0.0; SM-A520F) AppleWebKit/537.36 (KHTML, like Gecko) Chrome/71.0.3578.99 Mobile Safari/537.36')\n"
          ],
          "name": "stdout"
        },
        {
          "output_type": "stream",
          "text": [
            "6316533it [01:21, 79091.80it/s]"
          ],
          "name": "stderr"
        },
        {
          "output_type": "stream",
          "text": [
            "('31.58.71.81', '24/Jan/2019:23:28:57 +0330', 'GET', '/settings/logo', '200', '4120', 'https://www.zanbil.ir/search/%DA%A9%D9%84%D8%A7%D9%87-%D9%85%D8%B1%D8%AF%D8%A7%D9%86%D9%87-/p0', 'Mozilla/5.0 (Windows NT 6.1) AppleWebKit/537.36 (KHTML, like Gecko) Chrome/70.0.3538.102 Safari/537.36 OPR/57.0.3098.116')\n"
          ],
          "name": "stdout"
        },
        {
          "output_type": "stream",
          "text": [
            "6362380it [01:21, 102445.88it/s]"
          ],
          "name": "stderr"
        },
        {
          "output_type": "stream",
          "text": [
            "('185.239.173.197', '25/Jan/2019:00:01:36 +0330', 'GET', '/favicon.ico', '200', '0', '-', 'Mozilla/5.0 (iPhone; CPU iPhone OS 11_2_6 like Mac OS X) AppleWebKit/604.1.34 (KHTML, like Gecko) CriOS/71.0.3578.89 Mobile/15D100 Safari/604.1')\n"
          ],
          "name": "stdout"
        },
        {
          "output_type": "stream",
          "text": [
            "6413055it [01:22, 118022.62it/s]"
          ],
          "name": "stderr"
        },
        {
          "output_type": "stream",
          "text": [
            "('5.232.105.44', '25/Jan/2019:00:31:03 +0330', 'GET', '/static/images/amp/telegram.png', '200', '4859', 'https://www.zanbil.ir/m/browse/cell-phone/%DA%AF%D9%88%D8%B4%DB%8C-%D9%85%D9%88%D8%A8%D8%A7%DB%8C%D9%84', 'Mozilla/5.0 (Linux; Android 4.4.4; GT-I9060I Build/KTU84P) AppleWebKit/537.36 (KHTML, like Gecko) Chrome/40.0.2214.109 Mobile Safari/537.36')\n"
          ],
          "name": "stdout"
        },
        {
          "output_type": "stream",
          "text": [
            "6471552it [01:22, 109757.05it/s]"
          ],
          "name": "stderr"
        },
        {
          "output_type": "stream",
          "text": [
            "('5.217.156.4', '25/Jan/2019:01:05:27 +0330', 'GET', '/image/2/brand', '200', '4842', 'https://www.zanbil.ir/m/browse/cell-phone/%DA%AF%D9%88%D8%B4%DB%8C-%D9%85%D9%88%D8%A8%D8%A7%DB%8C%D9%84', 'Mozilla/5.0 (Linux; Android 4.4.2; Hol-U19 Build/HUAWEIHol-U19) AppleWebKit/537.36 (KHTML, like Gecko) Chrome/36.0.1985.135 Mobile Safari/537.36')\n"
          ],
          "name": "stdout"
        },
        {
          "output_type": "stream",
          "text": [
            "6516901it [01:23, 42379.97it/s]"
          ],
          "name": "stderr"
        },
        {
          "output_type": "stream",
          "text": [
            "('188.158.233.188', '25/Jan/2019:01:52:12 +0330', 'GET', '/favicon.ico', '200', '0', 'https://www.zanbil.ir/m/product/29385/58807/%D8%AC%D8%A7%D8%B1%D9%88%D8%A8%D8%B1%D9%82%DB%8C-%D8%A8%D8%A7-%D9%BE%D8%A7%DA%A9%D8%AA-%D9%81%DB%8C%D9%84%DB%8C%D9%BE%D8%B3-%D9%85%D8%AF%D9%84-FC8585', 'Mozilla/5.0 (iPhone; CPU iPhone OS 12_1_2 like Mac OS X) AppleWebKit/605.1.15 (KHTML, like Gecko) Version/12.0 Mobile/15E148 Safari/604.1')\n"
          ],
          "name": "stdout"
        },
        {
          "output_type": "stream",
          "text": [
            "6571277it [01:24, 85173.42it/s]"
          ],
          "name": "stderr"
        },
        {
          "output_type": "stream",
          "text": [
            "('204.18.75.121', '25/Jan/2019:03:13:56 +0330', 'GET', '/m/browse/electric-masher/%DA%AF%D9%88%D8%B4%D8%AA-%DA%A9%D9%88%D8%A8-%D8%A8%D8%B1%D9%82%DB%8C', '200', '19356', 'https://www.google.com/', 'Mozilla/5.0 (Linux; Android 5.1.1; SM-J200H) AppleWebKit/537.36 (KHTML, like Gecko) Chrome/70.0.3538.80 Mobile Safari/537.36')\n"
          ],
          "name": "stdout"
        },
        {
          "output_type": "stream",
          "text": [
            "6616003it [01:24, 104862.99it/s]"
          ],
          "name": "stderr"
        },
        {
          "output_type": "stream",
          "text": [
            "('5.127.241.218', '25/Jan/2019:06:26:19 +0330', 'GET', '/image/614/brand', '200', '2088', 'https://www.zanbil.ir/m/filter/b32%2Cp1', 'Mozilla/5.0 (Linux; Android 6.0.1; SM-N920C) AppleWebKit/537.36 (KHTML, like Gecko) Chrome/70.0.3538.80 Mobile Safari/537.36')\n"
          ],
          "name": "stdout"
        },
        {
          "output_type": "stream",
          "text": [
            "6662877it [01:25, 113244.47it/s]"
          ],
          "name": "stderr"
        },
        {
          "output_type": "stream",
          "text": [
            "('81.31.176.15', '25/Jan/2019:08:24:40 +0330', 'GET', '/static/images/third-party/footer.png', '200', '56076', 'https://www.zanbil.ir/browse/carved-paintings/%D8%AA%D8%A7%D8%A8%D9%84%D9%88-%D9%85%D8%B9%D8%B1%D9%82', 'Mozilla/5.0 (Windows NT 10.0; Win64; x64) AppleWebKit/537.36 (KHTML, like Gecko) Chrome/71.0.3578.98 Safari/537.36')\n"
          ],
          "name": "stdout"
        },
        {
          "output_type": "stream",
          "text": [
            "6723164it [01:25, 115883.39it/s]"
          ],
          "name": "stderr"
        },
        {
          "output_type": "stream",
          "text": [
            "('207.46.13.60', '25/Jan/2019:09:26:37 +0330', 'GET', '/filter/p30%2Cb125%2Cb88', '200', '32841', '-', 'Mozilla/5.0 (compatible; bingbot/2.0; +http://www.bing.com/bingbot.htm)')\n"
          ],
          "name": "stdout"
        },
        {
          "output_type": "stream",
          "text": [
            "6769849it [01:27, 39096.79it/s]"
          ],
          "name": "stderr"
        },
        {
          "output_type": "stream",
          "text": [
            "('94.24.81.103', '25/Jan/2019:10:11:23 +0330', 'HEAD', '/amp_preconnect_polyfill_404_or_other_error_expected._Do_not_worry_about_it?1548398700000', '404', '0', 'https://www.zanbil.ir/m/filter/b1%2Cp62', 'Mozilla/5.0 (Linux; U; Android 4.2.2; fa-ir; HUAWEI Y600-U20 Build/HUAWEIY600-U20) AppleWebKit/534.30 (KHTML, like Gecko) Version/4.0 Mobile Safari/534.30')\n"
          ],
          "name": "stdout"
        },
        {
          "output_type": "stream",
          "text": [
            "6814773it [01:27, 77889.82it/s]"
          ],
          "name": "stderr"
        },
        {
          "output_type": "stream",
          "text": [
            "('141.255.162.34', '25/Jan/2019:10:45:38 +0330', 'GET', '/product/20582/44691/%DA%AF%D9%88%D8%B4%DB%8C-%D8%AA%D9%84%D9%81%D9%86-%D8%A8%DB%8C-%D8%B3%DB%8C%D9%85-%DA%AF%DB%8C%DA%AF%D8%A7%D8%B3%D8%AA-%D9%85%D8%AF%D9%84-AS405AM', '200', '42184', '-', 'Mozilla/5.0 (Windows NT 6.2; Win64; x64; rv:16.0)Gecko/16.0 Firefox/16.0')\n"
          ],
          "name": "stdout"
        },
        {
          "output_type": "stream",
          "text": [
            "6874946it [01:28, 111759.97it/s]"
          ],
          "name": "stderr"
        },
        {
          "output_type": "stream",
          "text": [
            "('66.249.66.91', '25/Jan/2019:11:19:29 +0330', 'GET', '/static/css/font/wyekan/font.woff', '304', '0', '-', 'Mozilla/5.0 (Linux; Android 6.0.1; Nexus 5X Build/MMB29P) AppleWebKit/537.36 (KHTML, like Gecko) Chrome/41.0.2272.96 Mobile Safari/537.36 (compatible; Googlebot/2.1; +http://www.google.com/bot.html)')\n"
          ],
          "name": "stdout"
        },
        {
          "output_type": "stream",
          "text": [
            "6924063it [01:28, 119456.30it/s]"
          ],
          "name": "stderr"
        },
        {
          "output_type": "stream",
          "text": [
            "('40.77.167.156', '25/Jan/2019:11:52:56 +0330', 'GET', '/filter/b186,b703,b845', '200', '37695', '-', 'Mozilla/5.0 (compatible; bingbot/2.0; +http://www.bing.com/bingbot.htm)')\n"
          ],
          "name": "stdout"
        },
        {
          "output_type": "stream",
          "text": [
            "6973028it [01:28, 120446.01it/s]"
          ],
          "name": "stderr"
        },
        {
          "output_type": "stream",
          "text": [
            "('66.249.66.194', '25/Jan/2019:12:25:19 +0330', 'GET', '/m/filter/t143,t163', '200', '21208', '-', 'Mozilla/5.0 (Linux; Android 6.0.1; Nexus 5X Build/MMB29P) AppleWebKit/537.36 (KHTML, like Gecko) Chrome/41.0.2272.96 Mobile Safari/537.36 (compatible; Googlebot/2.1; +http://www.google.com/bot.html)')\n"
          ],
          "name": "stdout"
        },
        {
          "output_type": "stream",
          "text": [
            "7019905it [01:30, 42602.82it/s]"
          ],
          "name": "stderr"
        },
        {
          "output_type": "stream",
          "text": [
            "('192.160.102.169', '25/Jan/2019:12:53:23 +0330', 'GET', '/product/32497/62875/%DA%A9%D9%88%D9%84%D8%B1-%DA%AF%D8%A7%D8%B2%DB%8C-%D8%A7%D8%B3%D9%BE%D9%84%DB%8C%D8%AA-%D8%B3%D8%A7%D9%85%D8%B3%D9%88%D9%86%DA%AF-%D9%85%D8%AF%D9%84-AR10MSFHE', '200', '44204', '-', 'Mozilla/5.0 (Windows NT 6.2; Win64; x64; rv:16.0)Gecko/16.0 Firefox/16.0')\n"
          ],
          "name": "stdout"
        },
        {
          "output_type": "stream",
          "text": [
            "7063624it [01:30, 77343.68it/s]"
          ],
          "name": "stderr"
        },
        {
          "output_type": "stream",
          "text": [
            "('2.180.246.186', '25/Jan/2019:13:21:16 +0330', 'GET', '/static/images/icons/btn-search.png', '200', '393', 'https://znbl.ir/static/bundle-bundle_site_head.css', 'Mozilla/5.0 (Windows NT 6.1; Win64; x64) AppleWebKit/537.36 (KHTML, like Gecko) Chrome/71.0.3578.98 Safari/537.36')\n"
          ],
          "name": "stdout"
        },
        {
          "output_type": "stream",
          "text": [
            "7120317it [01:30, 105805.92it/s]"
          ],
          "name": "stderr"
        },
        {
          "output_type": "stream",
          "text": [
            "('91.251.189.70', '25/Jan/2019:13:49:30 +0330', 'GET', '/amp-helper-frame.html?appId=a624a1c1-0c93-466a-a546-e146710f97e6&parentOrigin=https://www.zanbil.ir', '200', '133', 'https://www.zanbil.ir/m/product/31506/61522/%D8%AA%D9%84%D9%88%DB%8C%D8%B2%DB%8C%D9%88%D9%86-%D8%A7%D9%84-%D8%A7%DB%8C-%D8%AF%DB%8C-%D8%A7%D9%84-%D8%AC%DB%8C-%D9%85%D8%AF%D9%84-43LJ62000GI', 'Mozilla/5.0 (Linux; Android 6.0.1; SM-G5520) AppleWebKit/537.36 (KHTML, like Gecko) Chrome/71.0.3578.99 Mobile Safari/537.36')\n"
          ],
          "name": "stdout"
        },
        {
          "output_type": "stream",
          "text": [
            "7164607it [01:31, 104266.82it/s]"
          ],
          "name": "stderr"
        },
        {
          "output_type": "stream",
          "text": [
            "('5.122.200.225', '25/Jan/2019:14:18:28 +0330', 'GET', '/image/63938/productModel/150x150', '200', '5288', 'https://www.zanbil.ir/m/product/33590/64261/%D8%AA%D9%84%D9%88%DB%8C%D8%B2%DB%8C%D9%88%D9%86-%D8%A7%D9%84-%D8%A7%DB%8C-%D8%AF%DB%8C-%D8%B3%D8%A7%D9%85%D8%B3%D9%88%D9%86%DA%AF-%D9%85%D8%AF%D9%84-43NU7900', 'Mozilla/5.0 (Linux; Android 8.0.0; SM-A520F) AppleWebKit/537.36 (KHTML, like Gecko) Chrome/70.0.3538.80 Mobile Safari/537.36')\n"
          ],
          "name": "stdout"
        },
        {
          "output_type": "stream",
          "text": [
            "7221332it [01:31, 108569.98it/s]"
          ],
          "name": "stderr"
        },
        {
          "output_type": "stream",
          "text": [
            "('66.249.66.91', '25/Jan/2019:14:48:37 +0330', 'GET', '/static/css/font/wyekan/font.woff', '304', '0', '-', 'Mozilla/5.0 (Linux; Android 6.0.1; Nexus 5X Build/MMB29P) AppleWebKit/537.36 (KHTML, like Gecko) Chrome/41.0.2272.96 Mobile Safari/537.36 (compatible; Googlebot/2.1; +http://www.google.com/bot.html)')\n"
          ],
          "name": "stdout"
        },
        {
          "output_type": "stream",
          "text": [
            "7264973it [01:33, 38912.90it/s]"
          ],
          "name": "stderr"
        },
        {
          "output_type": "stream",
          "text": [
            "('5.116.165.88', '25/Jan/2019:15:17:17 +0330', 'GET', '/static/images/guarantees/fastDelivery.png', '200', '7713', 'https://www.zanbil.ir/m/filter/p40', 'Mozilla/5.0 (Linux; Android 8.0.0; SM-A520F) AppleWebKit/537.36 (KHTML, like Gecko) Chrome/71.0.3578.99 Mobile Safari/537.36')\n"
          ],
          "name": "stdout"
        },
        {
          "output_type": "stream",
          "text": [
            "7318089it [01:33, 82528.21it/s]"
          ],
          "name": "stderr"
        },
        {
          "output_type": "stream",
          "text": [
            "('91.251.69.164', '25/Jan/2019:15:47:20 +0330', 'GET', '/image/12/productTypeType', '200', '11336', 'https://www.zanbil.ir/browse/refrigerator-and-freezer/%DB%8C%D8%AE%DA%86%D8%A7%D9%84-%D9%81%D8%B1%DB%8C%D8%B2%D8%B1', 'Mozilla/5.0 (Windows NT 10.0; Win64; x64; rv:64.0) Gecko/20100101 Firefox/64.0')\n"
          ],
          "name": "stdout"
        },
        {
          "output_type": "stream",
          "text": [
            "7370830it [01:34, 98655.14it/s]"
          ],
          "name": "stderr"
        },
        {
          "output_type": "stream",
          "text": [
            "('91.99.139.218', '25/Jan/2019:16:20:28 +0330', 'GET', '/image/33019?name=dl325-11.jpg&wh=max', '200', '51169', 'https://www.zanbil.ir/m/product/33019/63585/%D8%AC%D8%A7%D8%B1%D9%88%D8%A8%D8%B1%D9%82%DB%8C-%D8%A8%D8%A7-%D9%BE%D8%A7%DA%A9%D8%AA-%D8%AF%D9%84%D9%85%D9%88%D9%86%D8%AA%DB%8C-%D9%85%D8%AF%D9%84-DL325', 'Mozilla/5.0 (Linux; Android 6.0.1; SM-A720F) AppleWebKit/537.36 (KHTML, like Gecko) Chrome/71.0.3578.99 Mobile Safari/537.36')\n"
          ],
          "name": "stdout"
        },
        {
          "output_type": "stream",
          "text": [
            "7412562it [01:34, 101441.55it/s]"
          ],
          "name": "stderr"
        },
        {
          "output_type": "stream",
          "text": [
            "('2.187.68.96', '25/Jan/2019:16:50:44 +0330', 'GET', '/image/9405/productModel/100x100', '200', '1900', 'https://www.zanbil.ir/browse/kitchen-equipment', 'Mozilla/5.0 (Windows NT 6.1; Win64; x64; rv:64.0) Gecko/20100101 Firefox/64.0')\n"
          ],
          "name": "stdout"
        },
        {
          "output_type": "stream",
          "text": [
            "7464267it [01:35, 90781.40it/s]"
          ],
          "name": "stderr"
        },
        {
          "output_type": "stream",
          "text": [
            "('66.249.66.194', '25/Jan/2019:17:21:01 +0330', 'GET', '/m/filter/b2,p65', '200', '19233', '-', 'Mozilla/5.0 (Linux; Android 6.0.1; Nexus 5X Build/MMB29P) AppleWebKit/537.36 (KHTML, like Gecko) Chrome/41.0.2272.96 Mobile Safari/537.36 (compatible; Googlebot/2.1; +http://www.google.com/bot.html)')\n"
          ],
          "name": "stdout"
        },
        {
          "output_type": "stream",
          "text": [
            "7514419it [01:37, 17150.02it/s]"
          ],
          "name": "stderr"
        },
        {
          "output_type": "stream",
          "text": [
            "('5.114.90.199', '25/Jan/2019:17:53:29 +0330', 'GET', '/static/images/amp/blog.png', '200', '3863', 'https://www.zanbil.ir/m/index?utm_medium=26&utm_campaign=Z&utm_source=2&utm_term=205', 'Mozilla/5.0 (Linux; Android 7.0; HUAWEI VNS-L31 Build/HUAWEIVNS-L31) AppleWebKit/537.36 (KHTML, like Gecko) Chrome/55.0.2883.91 Mobile Safari/537.36')\n"
          ],
          "name": "stdout"
        },
        {
          "output_type": "stream",
          "text": [
            "7568515it [01:37, 57571.99it/s]"
          ],
          "name": "stderr"
        },
        {
          "output_type": "stream",
          "text": [
            "('178.131.231.60', '25/Jan/2019:18:25:06 +0330', 'GET', '/image/61612/productModel/200x200', '200', '6800', 'https://www.zanbil.ir/m/filter/p5666%2Cb215', 'Mozilla/5.0 (Android 5.0; Mobile; rv:64.0) Gecko/64.0 Firefox/64.0')\n"
          ],
          "name": "stdout"
        },
        {
          "output_type": "stream",
          "text": [
            "7611660it [01:38, 86810.95it/s]"
          ],
          "name": "stderr"
        },
        {
          "output_type": "stream",
          "text": [
            "('40.77.167.156', '25/Jan/2019:18:53:22 +0330', 'GET', '/blog/accessories/bags-and-suitcase/backpack/backpack-laptop/', '200', '20310', '-', 'Mozilla/5.0 (iPhone; CPU iPhone OS 7_0 like Mac OS X) AppleWebKit/537.51.1 (KHTML, like Gecko) Version/7.0 Mobile/11A465 Safari/9537.53 (compatible; bingbot/2.0; +http://www.bing.com/bingbot.htm)')\n"
          ],
          "name": "stdout"
        },
        {
          "output_type": "stream",
          "text": [
            "7666998it [01:38, 106074.99it/s]"
          ],
          "name": "stderr"
        },
        {
          "output_type": "stream",
          "text": [
            "('5.114.93.40', '25/Jan/2019:19:19:41 +0330', 'GET', '/image/148/brand', '200', '2490', 'https://www.zanbil.ir/m/filter/b219%2Cp2597?page=1', 'Mozilla/5.0 (Linux; Android 8.0.0; SM-G570F Build/R16NW) AppleWebKit/537.36 (KHTML, like Gecko) Chrome/66.0.3359.126 Mobile Safari/537.36')\n"
          ],
          "name": "stdout"
        },
        {
          "output_type": "stream",
          "text": [
            "7713862it [01:39, 114819.03it/s]"
          ],
          "name": "stderr"
        },
        {
          "output_type": "stream",
          "text": [
            "('91.99.108.80', '25/Jan/2019:19:45:01 +0330', 'GET', '/static/images/guarantees/warranty.png', '200', '5807', 'https://www.zanbil.ir/m/product/10002/%D9%81%D8%B1-%DA%A9%D9%86%D9%86%D8%AF%D9%87-%D9%85%D9%88-%D8%A8%D8%A7%D8%A8%DB%8C%D9%84%DB%8C%D8%B3-%D9%85%D8%AF%D9%84-C525', 'Mozilla/5.0 (Linux; Android 7.1.1; SM-T355) AppleWebKit/537.36 (KHTML, like Gecko) Chrome/71.0.3578.99 Safari/537.36')\n"
          ],
          "name": "stdout"
        },
        {
          "output_type": "stream",
          "text": [
            "7769723it [01:40, 39609.64it/s]"
          ],
          "name": "stderr"
        },
        {
          "output_type": "stream",
          "text": [
            "('5.210.105.86', '25/Jan/2019:20:11:50 +0330', 'GET', '/image/42/productType/120x90', '200', '10949', 'https://www.zanbil.ir/m/product/30156/59790/%DA%A9%D9%88%D9%84%D8%B1-%DA%AF%D8%A7%D8%B2%DB%8C-%D8%A7%D8%B3%D9%BE%D9%84%DB%8C%D8%AA-%D8%A7%D8%AC%D9%86%D8%B1%D8%A7%D9%84-%D9%85%D8%AF%D9%84-ASGA30FUTA-P', 'Mozilla/5.0 (Linux; Android 6.0.1; SM-J500H Build/MMB29M) AppleWebKit/537.36 (KHTML, like Gecko) Chrome/56.0.2924.87 Mobile Safari/537.36')\n"
          ],
          "name": "stdout"
        },
        {
          "output_type": "stream",
          "text": [
            "7823097it [01:41, 83187.02it/s]"
          ],
          "name": "stderr"
        },
        {
          "output_type": "stream",
          "text": [
            "('5.213.77.119', '25/Jan/2019:20:35:52 +0330', 'GET', '/favicon.ico', '200', '0', '-', 'MobileSafari/604.1 CFNetwork/976 Darwin/18.2.0')\n"
          ],
          "name": "stdout"
        },
        {
          "output_type": "stream",
          "text": [
            "7869767it [01:41, 105504.89it/s]"
          ],
          "name": "stderr"
        },
        {
          "output_type": "stream",
          "text": [
            "('5.239.61.221', '25/Jan/2019:21:03:26 +0330', 'GET', '/image/2/brand', '200', '4842', 'https://www.zanbil.ir/m/filter/p65?page=1', 'Mozilla/5.0 (Linux; Android 8.0.0; SM-G955F) AppleWebKit/537.36 (KHTML, like Gecko) Chrome/71.0.3578.99 Mobile Safari/537.36')\n"
          ],
          "name": "stdout"
        },
        {
          "output_type": "stream",
          "text": [
            "7917905it [01:41, 116802.26it/s]"
          ],
          "name": "stderr"
        },
        {
          "output_type": "stream",
          "text": [
            "('23.101.169.3', '25/Jan/2019:21:30:59 +0330', 'GET', '/image/2/productTypeMenu', '200', '11', 'https://www.zanbil.ir/browse/home-appliances/%D9%84%D9%88%D8%A7%D8%B2%D9%85-%D8%AE%D8%A7%D9%86%DA%AF%DB%8C', 'Mozilla/5.0 (compatible; MSIE 9.0; Windows NT 6.0; Trident/5.0;  Trident/5.0)')\n"
          ],
          "name": "stdout"
        },
        {
          "output_type": "stream",
          "text": [
            "7966546it [01:42, 108358.03it/s]"
          ],
          "name": "stderr"
        },
        {
          "output_type": "stream",
          "text": [
            "('95.80.178.97', '25/Jan/2019:21:55:14 +0330', 'GET', '/static/images/loading.gif', '200', '7370', 'https://www.zanbil.ir/filter/b1,p62', 'Mozilla/5.0 (Windows NT 6.1) AppleWebKit/537.36 (KHTML, like Gecko) Chrome/71.0.3578.98 Safari/537.36')\n"
          ],
          "name": "stdout"
        },
        {
          "output_type": "stream",
          "text": [
            "8012059it [01:43, 34608.90it/s]"
          ],
          "name": "stderr"
        },
        {
          "output_type": "stream",
          "text": [
            "('66.249.66.194', '25/Jan/2019:22:18:57 +0330', 'GET', '/m/browse/liturgy-of-khwaja-abdullah-ansari/%D9%85%D9%86%D8%A7%D8%AC%D8%A7%D8%AA-%D9%86%D8%A7%D9%85%D9%87-%D8%AE%D9%88%D8%A7%D8%AC%D9%87-%D8%B9%D8%A8%D8%AF%D8%A7%D9%84%D9%84%D9%87-%D8%A7%D9%86%D8%B5%D8%A7%D8%B1%DB%8C', '200', '17844', '-', 'Mozilla/5.0 (Linux; Android 6.0.1; Nexus 5X Build/MMB29P) AppleWebKit/537.36 (KHTML, like Gecko) Chrome/41.0.2272.96 Mobile Safari/537.36 (compatible; Googlebot/2.1; +http://www.google.com/bot.html)')\n"
          ],
          "name": "stdout"
        },
        {
          "output_type": "stream",
          "text": [
            "8067848it [01:44, 81213.37it/s]"
          ],
          "name": "stderr"
        },
        {
          "output_type": "stream",
          "text": [
            "('2.184.186.220', '25/Jan/2019:22:42:38 +0330', 'GET', '/image/1215/mainSlide', '200', '90970', 'https://www.zanbil.ir/', 'Mozilla/5.0 (Windows NT 10.0; Win64; x64; rv:52.0) Gecko/20100101 Firefox/52.0 Cyberfox/52.9.1')\n"
          ],
          "name": "stdout"
        },
        {
          "output_type": "stream",
          "text": [
            "8103109it [01:45, 32752.35it/s]"
          ],
          "name": "stderr"
        },
        {
          "output_type": "stream",
          "text": [
            "('178.131.125.127', '25/Jan/2019:23:08:16 +0330', 'GET', '/image/19041/productModel/100x100', '200', '1926', 'https://www.zanbil.ir/browse/furniture/%D9%85%D8%A8%D9%84%D9%85%D8%A7%D9%86', 'Mozilla/5.0 (Windows NT 10.0; Win64; x64) AppleWebKit/537.36 (KHTML, like Gecko) Chrome/71.0.3578.98 Safari/537.36')\n"
          ],
          "name": "stdout"
        },
        {
          "output_type": "stream",
          "text": [
            "8161595it [01:47, 43399.96it/s]"
          ],
          "name": "stderr"
        },
        {
          "output_type": "stream",
          "text": [
            "('31.59.65.88', '25/Jan/2019:23:34:52 +0330', 'GET', '/static/images/next.png', '200', '3045', 'https://znbl.ir/static/bundle-bundle_site_head.css', 'Mozilla/5.0 (Windows NT 6.3; Win64; x64; rv:64.0) Gecko/20100101 Firefox/64.0')\n"
          ],
          "name": "stdout"
        },
        {
          "output_type": "stream",
          "text": [
            "8215122it [01:47, 87252.15it/s]"
          ],
          "name": "stderr"
        },
        {
          "output_type": "stream",
          "text": [
            "('178.131.192.115', '26/Jan/2019:00:05:40 +0330', 'GET', '/image/64369/productModel/150x150', '200', '3481', 'https://www.zanbil.ir/search/%D8%B1%DB%8C%D8%B4-%D8%AA%D8%B1%D8%A7%D8%B4-/p0', 'Mozilla/5.0 (Windows NT 10.0; Win64; x64) AppleWebKit/537.36 (KHTML, like Gecko) Chrome/71.0.3578.98 Safari/537.36')\n"
          ],
          "name": "stdout"
        },
        {
          "output_type": "stream",
          "text": [
            "8270941it [01:49, 32079.51it/s]"
          ],
          "name": "stderr"
        },
        {
          "output_type": "stream",
          "text": [
            "('79.127.13.200', '26/Jan/2019:00:35:39 +0330', 'GET', '/static/images/guarantees/bestPrice.png', '200', '7356', 'https://www.zanbil.ir/m/product/34076/65045/%D9%85%D8%A7%D8%B4%DB%8C%D9%86-%D9%84%D8%A8%D8%A7%D8%B3%D8%B4%D9%88%DB%8C%DB%8C-%D8%AF%D8%B1%D8%A8-%D8%A7%D8%B2-%D8%AC%D9%84%D9%88-%D8%A7%D9%84-%D8%AC%DB%8C-%D9%85%D8%AF%D9%84-LG-WM-821NW', 'Mozilla/5.0 (Linux; Android 6.0.1; D6502 Build/23.5.A.1.291) AppleWebKit/537.36 (KHTML, like Gecko) Chrome/50.0.2661.89 Mobile Safari/537.36')\n"
          ],
          "name": "stdout"
        },
        {
          "output_type": "stream",
          "text": [
            "8315173it [01:49, 69937.37it/s]"
          ],
          "name": "stderr"
        },
        {
          "output_type": "stream",
          "text": [
            "('83.122.213.137', '26/Jan/2019:01:13:20 +0330', 'GET', '/image/46123/productModel/100x100', '200', '1824', 'https://www.zanbil.ir/browse/shaver/%D8%B1%DB%8C%D8%B4-%D8%AA%D8%B1%D8%A7%D8%B4', 'Mozilla/5.0 (Windows NT 10.0; WOW64; rv:65.0) Gecko/20100101 Firefox/65.0')\n"
          ],
          "name": "stdout"
        },
        {
          "output_type": "stream",
          "text": [
            "8372107it [01:50, 102931.20it/s]"
          ],
          "name": "stderr"
        },
        {
          "output_type": "stream",
          "text": [
            "('5.126.23.196', '26/Jan/2019:02:17:53 +0330', 'GET', '/image/55651/productModel/200x200', '200', '3867', 'https://www.zanbil.ir/m/browse/dishwasher/%D9%85%D8%A7%D8%B4%DB%8C%D9%86-%D8%B8%D8%B1%D9%81%D8%B4%D9%88%DB%8C%DB%8C', 'Mozilla/5.0 (Linux; Android 6.0.1; SM-G570F Build/MMB29K) AppleWebKit/537.36 (KHTML, like Gecko) Chrome/50.0.2661.89 Mobile Safari/537.36')\n"
          ],
          "name": "stdout"
        },
        {
          "output_type": "stream",
          "text": [
            "8420341it [01:50, 116410.80it/s]"
          ],
          "name": "stderr"
        },
        {
          "output_type": "stream",
          "text": [
            "('66.249.66.194', '26/Jan/2019:04:47:54 +0330', 'GET', '/m/filter/585%7C1500-1800%2Cp10%2C585%7C1500?o=585', '302', '0', '-', 'Mozilla/5.0 (compatible; Googlebot/2.1; +http://www.google.com/bot.html)')\n"
          ],
          "name": "stdout"
        },
        {
          "output_type": "stream",
          "text": [
            "8468365it [01:51, 117403.99it/s]"
          ],
          "name": "stderr"
        },
        {
          "output_type": "stream",
          "text": [
            "('23.101.169.3', '26/Jan/2019:07:23:10 +0330', 'GET', '/image/62/productTypeMenu', '200', '11', 'https://www.zanbil.ir/filter/b256,p44', 'Mozilla/5.0 (compatible; MSIE 9.0; Windows NT 6.0; Trident/5.0;  Trident/5.0)')\n"
          ],
          "name": "stdout"
        },
        {
          "output_type": "stream",
          "text": [
            "8514247it [01:52, 40201.94it/s]"
          ],
          "name": "stderr"
        },
        {
          "output_type": "stream",
          "text": [
            "('91.98.235.44', '26/Jan/2019:08:16:50 +0330', 'GET', '/images/raty/star-on.png', '302', '0', 'https://www.zanbil.ir/product/26508/54210/%DA%A9%D9%88%D9%84%D8%B1-%DA%AF%D8%A7%D8%B2%DB%8C-%D8%A7%D8%B3%D9%BE%D9%84%DB%8C%D8%AA-%DA%AF%D8%B1%DB%8C-%D9%85%D8%AF%D9%84-iCool-H12C3', 'Mozilla/5.0 (Windows NT 5.1) AppleWebKit/537.36 (KHTML, like Gecko) Chrome/49.0.2623.112 Safari/537.36')\n"
          ],
          "name": "stdout"
        },
        {
          "output_type": "stream",
          "text": [
            "8568828it [01:52, 85932.93it/s]"
          ],
          "name": "stderr"
        },
        {
          "output_type": "stream",
          "text": [
            "('80.191.224.130', '26/Jan/2019:08:48:17 +0330', 'GET', '/image/56759/productModel/150x150', '200', '2256', 'https://www.zanbil.ir/filter/p2597,b148', 'Mozilla/5.0 (Windows NT 6.1) AppleWebKit/537.36 (KHTML, like Gecko) Chrome/71.0.3578.98 Safari/537.36')\n"
          ],
          "name": "stdout"
        },
        {
          "output_type": "stream",
          "text": [
            "8613493it [01:53, 102291.00it/s]"
          ],
          "name": "stderr"
        },
        {
          "output_type": "stream",
          "text": [
            "('151.239.241.163', '26/Jan/2019:09:14:21 +0330', 'GET', '/rapidGrails/jsonList?maxColumns=16&domainClass=eshop.Order&filter=[{op:%27inSession%27,%20field:%27id%27,%20val:%27orderListd90380ac5952423a9c6908d62e92747d%27}]&columns=[{%27name%27:%27trackingCode%27,%27width%27:110},{%27name%27:%27ownerName%27,%27width%27:120},{%27name%27:%27productsName%27,%27width%27:320,%27sortable%27:false},{%27name%27:%27ownerMobile%27,%27width%27:110},{%27name%27:%27deliveryMethodName%27,%27width%27:120,%27sortable%27:false},{%27name%27:%27deliveryCityName%27,%27width%27:120,%27sortable%27:false},{%27name%27:%27addressRegionName%27,%27width%27:120,%27sortable%27:false},{%27name%27:%27courier%27,%27width%27:120,%27expression%27:%27obj[\\\\x5C%27courier\\\\x5C%27]?.fullName%27},{%27name%27:%27status%27,%27width%27:110},{%27name%27:%27invoiceType%27,%27width%27:60,%27expression%27:%27g.message(code:%20obj[\\\\x5C%27invoiceTypeCode\\\\x5C%27])%27},{%27name%27:%27itemsDeliveryStatus%27,%27width%27:60},{%27name%27:%27creationType%27,%27width%27:50},{%27name%27:%27creationMedia%27,%27width%27:50},{%27name%27:%27completionMedia%27,%27width%27:50},{%27name%27:%27completionFollower%27,%27width%27:120},{%27name%27:%27lastActionDate%27,%27width%27:100,%27expression%27:%27rg.formatJalaliDate(date:%20%20obj[\\\\x5C%27lastActionDate\\\\x5C%27],%20hm:\\\\x5C%27true\\\\x5C%27%20)%27}]&_search=false&nd=1548481677781&rows=10&page=1&sidx=lastActionDate&sord=desc', '200', '1519', 'https://www.zanbil.ir/orderAdministration/console', 'Mozilla/5.0 (Windows NT 6.1; Win64; x64) AppleWebKit/537.36 (KHTML, like Gecko) Chrome/71.0.3578.98 Safari/537.36')\n"
          ],
          "name": "stdout"
        },
        {
          "output_type": "stream",
          "text": [
            "8671442it [01:53, 112652.77it/s]"
          ],
          "name": "stderr"
        },
        {
          "output_type": "stream",
          "text": [
            "('91.99.47.57', '26/Jan/2019:09:35:16 +0330', 'GET', '/static/plugins/jquery-ui-1.8.15/jquery-ui/themes/cobalt/images/ui-bg_glass_55_b3c4d8_500x100.png', '200', '2919', 'https://znbl.ir/static/plugins/jquery-ui-1.8.15/jquery-ui/themes/cobalt/jquery-ui-1.8.15.custom.min.css', 'Mozilla/5.0 (Windows NT 10.0; Win64; x64; rv:64.0) Gecko/20100101 Firefox/64.0')\n"
          ],
          "name": "stdout"
        },
        {
          "output_type": "stream",
          "text": [
            "8716496it [01:54, 109319.01it/s]"
          ],
          "name": "stderr"
        },
        {
          "output_type": "stream",
          "text": [
            "('151.239.241.163', '26/Jan/2019:09:56:06 +0330', 'GET', '/rapidGrails/jsonList?maxColumns=16&domainClass=eshop.Order&columns=[{%27name%27:%27trackingCode%27,%27width%27:110},{%27name%27:%27ownerName%27,%27width%27:120},{%27name%27:%27productsName%27,%27width%27:320,%27sortable%27:false},{%27name%27:%27ownerMobile%27,%27width%27:110},{%27name%27:%27deliveryMethodName%27,%27width%27:120,%27sortable%27:false},{%27name%27:%27deliveryCityName%27,%27width%27:120,%27sortable%27:false},{%27name%27:%27addressRegionName%27,%27width%27:120,%27sortable%27:false},{%27name%27:%27courier%27,%27width%27:120,%27expression%27:%27obj[\\\\x5C%27courier\\\\x5C%27]?.fullName%27},{%27name%27:%27status%27,%27width%27:110},{%27name%27:%27invoiceType%27,%27width%27:60,%27expression%27:%27g.message(code:%20obj[\\\\x5C%27invoiceTypeCode\\\\x5C%27])%27},{%27name%27:%27itemsDeliveryStatus%27,%27width%27:60},{%27name%27:%27creationType%27,%27width%27:50},{%27name%27:%27creationMedia%27,%27width%27:50},{%27name%27:%27completionMedia%27,%27width%27:50},{%27name%27:%27completionFollower%27,%27width%27:120},{%27name%27:%27lastActionDate%27,%27width%27:100,%27expression%27:%27rg.formatJalaliDate(date:%20%20obj[\\\\x5C%27lastActionDate\\\\x5C%27],%20hm:\\\\x5C%27true\\\\x5C%27%20)%27}]&filter=[{%22op%22:%22eq%22,%22val%22:%229711060037%22,%22field%22:%22trackingCode%22}]&_search=false&nd=1548484200294&rows=10&page=1&sidx=lastActionDate&sord=desc', '200', '354', 'https://www.zanbil.ir/orderAdministration/console/188051', 'Mozilla/5.0 (Windows NT 6.3; rv:64.0) Gecko/20100101 Firefox/64.0')\n"
          ],
          "name": "stdout"
        },
        {
          "output_type": "stream",
          "text": [
            "8771093it [01:55, 32881.04it/s]"
          ],
          "name": "stderr"
        },
        {
          "output_type": "stream",
          "text": [
            "('40.77.167.205', '26/Jan/2019:10:15:48 +0330', 'GET', '/filter/b105,b148,b542,b80', '200', '37856', '-', 'Mozilla/5.0 (compatible; bingbot/2.0; +http://www.bing.com/bingbot.htm)')\n"
          ],
          "name": "stdout"
        },
        {
          "output_type": "stream",
          "text": [
            "8813369it [01:56, 69467.68it/s]"
          ],
          "name": "stderr"
        },
        {
          "output_type": "stream",
          "text": [
            "('5.117.111.102', '26/Jan/2019:10:34:29 +0330', 'GET', '/m/product/28935/58001/%D9%85%D8%A7%D8%B4%DB%8C%D9%86-%D8%B8%D8%B1%D9%81%D8%B4%D9%88%DB%8C%DB%8C-%D8%B1%D9%88%D9%85%DB%8C%D8%B2%DB%8C-%D8%A8%D9%88%D8%B4-%D9%85%D8%AF%D9%84-SKS62E28IR', '200', '21697', 'https://www.zanbil.ir/m/filter/p5%2Cb36?name=%D9%85%D8%A7%D8%B4%DB%8C%D9%86-%D8%B8%D8%B1%D9%81%D8%B4%D9%88%DB%8C%DB%8C&productType=dishwasher', 'Mozilla/5.0 (iPhone; CPU iPhone OS 12_1 like Mac OS X) AppleWebKit/605.1.15 (KHTML, like Gecko) CriOS/71.0.3578.89 Mobile/15E148 Safari/605.1')\n"
          ],
          "name": "stdout"
        },
        {
          "output_type": "stream",
          "text": [
            "8865652it [01:56, 94925.57it/s]"
          ],
          "name": "stderr"
        },
        {
          "output_type": "stream",
          "text": [
            "('213.217.50.140', '26/Jan/2019:10:51:48 +0330', 'GET', '/image/62412/productModel/50x50', '200', '1085', 'https://www.zanbil.ir/', 'Mozilla/5.0 (Windows NT 6.1; rv:64.0) Gecko/20100101 Firefox/64.0')\n"
          ],
          "name": "stdout"
        },
        {
          "output_type": "stream",
          "text": [
            "8918433it [01:57, 99150.86it/s]"
          ],
          "name": "stderr"
        },
        {
          "output_type": "stream",
          "text": [
            "('66.249.66.91', '26/Jan/2019:11:09:39 +0330', 'GET', '/static/images/amp/telegram.png', '304', '0', '-', 'Googlebot-Image/1.0')\n"
          ],
          "name": "stdout"
        },
        {
          "output_type": "stream",
          "text": [
            "8958456it [01:57, 56756.11it/s]"
          ],
          "name": "stderr"
        },
        {
          "output_type": "stream",
          "text": [
            "('185.161.113.50', '26/Jan/2019:11:26:38 +0330', 'GET', '/image/57015/productModel/150x150', '200', '2053', 'https://www.zanbil.ir/filter/b136,b195,b258,b574,b615,b647,p2597', 'Mozilla/5.0 (Windows NT 6.1; WOW64) AppleWebKit/537.36 (KHTML, like Gecko) Chrome/71.0.3578.98 Safari/537.36')\n"
          ],
          "name": "stdout"
        },
        {
          "output_type": "stream",
          "text": [
            "9012989it [02:00, 11958.27it/s]"
          ],
          "name": "stderr"
        },
        {
          "output_type": "stream",
          "text": [
            "('66.249.66.91', '26/Jan/2019:11:43:02 +0330', 'GET', '/static/css/font/wyekan/font.woff', '304', '0', '-', 'Mozilla/5.0 (Linux; Android 6.0.1; Nexus 5X Build/MMB29P) AppleWebKit/537.36 (KHTML, like Gecko) Chrome/41.0.2272.96 Mobile Safari/537.36 (compatible; Googlebot/2.1; +http://www.google.com/bot.html)')\n"
          ],
          "name": "stdout"
        },
        {
          "output_type": "stream",
          "text": [
            "9065882it [02:01, 44835.93it/s]"
          ],
          "name": "stderr"
        },
        {
          "output_type": "stream",
          "text": [
            "('91.99.47.57', '26/Jan/2019:12:02:07 +0330', 'GET', '/rapidGrails/jsonList?maxColumns=16&domainClass=eshop.Order&filter=[{op:%27inSession%27,%20field:%27id%27,%20val:%27orderListcffaffa6148b417c978d96b2e1e22378%27}]&columns=[{%27name%27:%27trackingCode%27,%27width%27:110},{%27name%27:%27ownerName%27,%27width%27:120},{%27name%27:%27productsName%27,%27width%27:320,%27sortable%27:false},{%27name%27:%27ownerMobile%27,%27width%27:110},{%27name%27:%27deliveryMethodName%27,%27width%27:120,%27sortable%27:false},{%27name%27:%27deliveryCityName%27,%27width%27:120,%27sortable%27:false},{%27name%27:%27addressRegionName%27,%27width%27:120,%27sortable%27:false},{%27name%27:%27courier%27,%27width%27:120,%27expression%27:%27obj[\\\\x5C%27courier\\\\x5C%27]?.fullName%27},{%27name%27:%27status%27,%27width%27:110},{%27name%27:%27invoiceType%27,%27width%27:60,%27expression%27:%27g.message(code:%20obj[\\\\x5C%27invoiceTypeCode\\\\x5C%27])%27},{%27name%27:%27itemsDeliveryStatus%27,%27width%27:60},{%27name%27:%27creationType%27,%27width%27:50},{%27name%27:%27creationMedia%27,%27width%27:50},{%27name%27:%27completionMedia%27,%27width%27:50},{%27name%27:%27completionFollower%27,%27width%27:120},{%27name%27:%27lastActionDate%27,%27width%27:100,%27expression%27:%27rg.formatJalaliDate(date:%20%20obj[\\\\x5C%27lastActionDate\\\\x5C%27],%20hm:\\\\x5C%27true\\\\x5C%27%20)%27}]&_search=false&nd=1548491745692&rows=10&page=1&sidx=lastActionDate&sord=desc', '200', '89', 'https://www.zanbil.ir/orderAdministration/console', 'Mozilla/5.0 (Windows NT 10.0; Win64; x64; rv:64.0) Gecko/20100101 Firefox/64.0')\n"
          ],
          "name": "stdout"
        },
        {
          "output_type": "stream",
          "text": [
            "9120059it [02:01, 87805.22it/s]"
          ],
          "name": "stderr"
        },
        {
          "output_type": "stream",
          "text": [
            "('5.122.180.58', '26/Jan/2019:12:20:34 +0330', 'GET', '/static/images/amp/instagram.png', '200', '7146', 'https://www.zanbil.ir/m/browse/tensiometre/%D9%81%D8%B4%D8%A7%D8%B1%D8%B3%D9%86%D8%AC', 'Mozilla/5.0 (Linux; Android 6.0.1; LG-K520) AppleWebKit/537.36 (KHTML, like Gecko) Chrome/71.0.3578.99 Mobile Safari/537.36')\n"
          ],
          "name": "stdout"
        },
        {
          "output_type": "stream",
          "text": [
            "9163583it [02:02, 102390.87it/s]"
          ],
          "name": "stderr"
        },
        {
          "output_type": "stream",
          "text": [
            "('83.121.231.220', '26/Jan/2019:12:37:03 +0330', 'GET', '/settings/logo', '200', '4120', 'https://www.zanbil.ir/m/product/16819/35085/%D8%B3%DB%8C%D9%86%DA%A9-%D8%B8%D8%B1%D9%81%D8%B4%D9%88%DB%8C%DB%8C-%D8%B1%D9%88%DA%A9%D8%A7%D8%B1-%D8%A7%D8%AE%D9%88%D8%A7%D9%86-%D9%85%D8%AF%D9%84-25', 'Mozilla/5.0 (Linux; Android 8.0.0; SAMSUNG SM-G955F Build/R16NW) AppleWebKit/537.36 (KHTML, like Gecko) SamsungBrowser/7.4 Chrome/59.0.3071.125 Mobile Safari/537.36')\n"
          ],
          "name": "stdout"
        },
        {
          "output_type": "stream",
          "text": [
            "9217926it [02:02, 106764.65it/s]"
          ],
          "name": "stderr"
        },
        {
          "output_type": "stream",
          "text": [
            "('74.82.4.29', '26/Jan/2019:12:53:09 +0330', 'GET', '/image/62998/productModel/200x200', '200', '4528', 'https://www.zanbil.ir/m/filter/b41%2Cb43%2Cb74%2Cp7', 'Mozilla/5.0 (Linux; Android 5.1.1; SM-J120F) AppleWebKit/537.36 (KHTML, like Gecko) Chrome/71.0.3578.99 Mobile Safari/537.36')\n"
          ],
          "name": "stdout"
        },
        {
          "output_type": "stream",
          "text": [
            "9270707it [02:04, 30459.87it/s]"
          ],
          "name": "stderr"
        },
        {
          "output_type": "stream",
          "text": [
            "('5.115.147.151', '26/Jan/2019:13:08:19 +0330', 'GET', '/image/32172?name=sg1-2222.jpg&wh=200x200', '200', '3997', '-', 'Dalvik/2.1.0 (Linux; U; Android 5.1.1; D2502 Build/19.4.A.0.182)')\n"
          ],
          "name": "stdout"
        },
        {
          "output_type": "stream",
          "text": [
            "9312943it [02:05, 66599.92it/s]"
          ],
          "name": "stderr"
        },
        {
          "output_type": "stream",
          "text": [
            "('46.62.165.133', '26/Jan/2019:13:23:57 +0330', 'GET', '/image/60895/productModel/200x200', '200', '5259', 'https://www.zanbil.ir/m/filter/b74?page=1', 'Mozilla/5.0 (iPhone; CPU iPhone OS 12_1 like Mac OS X) AppleWebKit/605.1.15 (KHTML, like Gecko) CriOS/71.0.3578.89 Mobile/15E148 Safari/605.1')\n"
          ],
          "name": "stdout"
        },
        {
          "output_type": "stream",
          "text": [
            "9364633it [02:05, 92920.14it/s]"
          ],
          "name": "stderr"
        },
        {
          "output_type": "stream",
          "text": [
            "('192.15.124.191', '26/Jan/2019:13:41:20 +0330', 'GET', '/image/9665/productModel/200x200', '200', '4263', 'https://www.zanbil.ir/m/browse/microwave-oven/%D9%85%D8%A7%DB%8C%DA%A9%D8%B1%D9%88%D9%81%D8%B1', 'Mozilla/5.0 (Linux; Android 8.1.0; SAMSUNG SM-G610F Build/M1AJQ) AppleWebKit/537.36 (KHTML, like Gecko) SamsungBrowser/8.2 Chrome/63.0.3239.111 Mobile Safari/537.36')\n"
          ],
          "name": "stdout"
        },
        {
          "output_type": "stream",
          "text": [
            "9418981it [02:06, 105494.93it/s]"
          ],
          "name": "stderr"
        },
        {
          "output_type": "stream",
          "text": [
            "('46.209.74.99', '26/Jan/2019:13:56:28 +0330', 'GET', '/image/51487/productModel/150x150', '200', '2966', 'https://www.zanbil.ir/browse/home-theater-system/%D8%B3%DB%8C%D9%86%D9%85%D8%A7-%D8%AE%D8%A7%D9%86%DA%AF%DB%8C', 'Mozilla/5.0 (Windows NT 6.1; rv:61.0) Gecko/20100101 Firefox/61.0')\n"
          ],
          "name": "stdout"
        },
        {
          "output_type": "stream",
          "text": [
            "9463003it [02:06, 108632.73it/s]"
          ],
          "name": "stderr"
        },
        {
          "output_type": "stream",
          "text": [
            "('194.225.168.117', '26/Jan/2019:14:12:40 +0330', 'GET', '/image/105/brand', '200', '2653', 'https://www.zanbil.ir/browse/microwave-oven/%D9%85%D8%A7%DB%8C%DA%A9%D8%B1%D9%88%D9%81%D8%B1', 'Mozilla/5.0 (Windows NT 6.3; Win64; x64; rv:64.0) Gecko/20100101 Firefox/64.0')\n"
          ],
          "name": "stdout"
        },
        {
          "output_type": "stream",
          "text": [
            "9513826it [02:08, 29498.31it/s]"
          ],
          "name": "stderr"
        },
        {
          "output_type": "stream",
          "text": [
            "('5.209.27.197', '26/Jan/2019:14:27:58 +0330', 'GET', '/image/2277/productModel/200x200', '200', '3693', 'https://www.zanbil.ir/m/filter/b41%2Cp56', 'Mozilla/5.0 (iPhone; CPU iPhone OS 12_0_1 like Mac OS X) AppleWebKit/605.1.15 (KHTML, like Gecko) Version/12.0 Mobile/15E148 Safari/604.1')\n"
          ],
          "name": "stdout"
        },
        {
          "output_type": "stream",
          "text": [
            "9562370it [02:08, 71011.03it/s]"
          ],
          "name": "stderr"
        },
        {
          "output_type": "stream",
          "text": [
            "('46.101.142.97', '26/Jan/2019:14:46:44 +0330', 'GET', '/image/58351/productModel/100x100', '200', '1911', 'https://www.zanbil.ir/filter/b213,b36,p5', 'Mozilla/5.0 (Windows NT 6.1) AppleWebKit/537.36 (KHTML, like Gecko) Chrome/71.0.3578.98 Safari/537.36')\n"
          ],
          "name": "stdout"
        },
        {
          "output_type": "stream",
          "text": [
            "9615042it [02:09, 99576.60it/s]"
          ],
          "name": "stderr"
        },
        {
          "output_type": "stream",
          "text": [
            "('5.106.77.122', '26/Jan/2019:15:03:23 +0330', 'GET', '/image/33776?name=tf540-33.jpg&wh=max', '200', '50019', 'https://www.zanbil.ir/m/product/33776/64504/%DB%8C%D8%AE%DA%86%D8%A7%D9%84-%D9%81%D8%B1%DB%8C%D8%B2%D8%B1-%D9%81%D8%B1%DB%8C%D8%B2%D8%B1-%D8%A8%D8%A7%D9%84%D8%A7-%D8%A7%D9%84-%D8%AC%DB%8C-%D9%85%D8%AF%D9%84-TF540TS', 'Mozilla/5.0 (Linux; Android 6.0.1; SAMSUNG SM-G532F Build/MMB29T) AppleWebKit/537.36 (KHTML, like Gecko) SamsungBrowser/6.4 Chrome/56.0.2924.87 Mobile Safari/537.36')\n"
          ],
          "name": "stdout"
        },
        {
          "output_type": "stream",
          "text": [
            "9667760it [02:09, 99702.01it/s]"
          ],
          "name": "stderr"
        },
        {
          "output_type": "stream",
          "text": [
            "('66.249.66.91', '26/Jan/2019:15:24:34 +0330', 'GET', '/static/css/font/wyekan/font.woff', '304', '0', '-', 'Mozilla/5.0 (Linux; Android 6.0.1; Nexus 5X Build/MMB29P) AppleWebKit/537.36 (KHTML, like Gecko) Chrome/41.0.2272.96 Mobile Safari/537.36 (compatible; Googlebot/2.1; +http://www.google.com/bot.html)')\n"
          ],
          "name": "stdout"
        },
        {
          "output_type": "stream",
          "text": [
            "9698220it [02:09, 95000.01it/s]"
          ],
          "name": "stderr"
        },
        {
          "output_type": "stream",
          "text": [
            "('5.160.221.38', '26/Jan/2019:15:43:02 +0330', 'GET', '/image/65016/productModel/100x100', '200', '3021', 'https://www.zanbil.ir/browse/cell-phone/%DA%AF%D9%88%D8%B4%DB%8C-%D9%85%D9%88%D8%A8%D8%A7%DB%8C%D9%84', 'Mozilla/5.0 (Windows NT 6.1; rv:62.0) Gecko/20100101 Firefox/62.0')\n"
          ],
          "name": "stdout"
        },
        {
          "output_type": "stream",
          "text": [
            "9763532it [02:12, 18386.69it/s]"
          ],
          "name": "stderr"
        },
        {
          "output_type": "stream",
          "text": [
            "('86.55.217.143', '26/Jan/2019:16:01:31 +0330', 'GET', '/static/images/amp/telegram.png', '200', '4859', 'https://www.zanbil.ir/m/browse/air-conditioner-split/%DA%A9%D9%88%D9%84%D8%B1-%DA%AF%D8%A7%D8%B2%DB%8C', 'Mozilla/5.0 (Linux; U; Android 4.2.2; en-gb; GT-I9105P Build/JDQ39) AppleWebKit/534.30 (KHTML, like Gecko) Version/4.0 Mobile Safari/534.30')\n"
          ],
          "name": "stdout"
        },
        {
          "output_type": "stream",
          "text": [
            "9813241it [02:13, 57613.68it/s]"
          ],
          "name": "stderr"
        },
        {
          "output_type": "stream",
          "text": [
            "('77.104.99.66', '26/Jan/2019:16:21:02 +0330', 'GET', '/image/187/article/100x100', '200', '6999', 'https://www.zanbil.ir/browse/sewing-machine/%DA%86%D8%B1%D8%AE-%D8%AE%DB%8C%D8%A7%D8%B7%DB%8C', 'Mozilla/5.0 (Windows NT 10.0; Win64; x64) AppleWebKit/537.36 (KHTML, like Gecko) Chrome/71.0.3578.98 Safari/537.36')\n"
          ],
          "name": "stdout"
        },
        {
          "output_type": "stream",
          "text": [
            "9864801it [02:13, 92124.03it/s]"
          ],
          "name": "stderr"
        },
        {
          "output_type": "stream",
          "text": [
            "('40.77.167.122', '26/Jan/2019:16:41:53 +0330', 'GET', '/product/12795/%DA%AF%D8%B1%D8%AF%D9%86%D8%A8%D9%86%D8%AF-%D8%B2%D9%86%D8%A7%D9%86%D9%87-%D8%A7%D9%84%DB%8C%D9%88%D8%B1-%D9%88%D8%A8%D8%B1-%D9%85%D8%AF%D9%84-%D8%B3%D8%A7%DB%8C%D9%87-%D8%B7%D9%84%D8%A7%DB%8C%DB%8C-Sturdy-gold-golden-shadow', '200', '41245', '-', 'Mozilla/5.0 (iPhone; CPU iPhone OS 7_0 like Mac OS X) AppleWebKit/537.51.1 (KHTML, like Gecko) Version/7.0 Mobile/11A465 Safari/9537.53 (compatible; bingbot/2.0; +http://www.bing.com/bingbot.htm)')\n"
          ],
          "name": "stdout"
        },
        {
          "output_type": "stream",
          "text": [
            "9915829it [02:14, 98950.76it/s]"
          ],
          "name": "stderr"
        },
        {
          "output_type": "stream",
          "text": [
            "('66.249.66.194', '26/Jan/2019:17:04:12 +0330', 'GET', '/product/8368/%D8%A8%D8%AE%D8%A7%D8%B1%DB%8C-%DA%AF%D8%A7%D8%B2%DB%8C-%D8%A8%D8%AF%D9%88%D9%86-%D8%AF%D9%88%D8%AF%DA%A9%D8%B4-%D9%BE%D9%84%D8%A7%D8%B1-%D9%85%D8%AF%D9%84-Polar-Gas-Heater-KN-20', '200', '42548', '-', 'Mozilla/5.0 (compatible; Googlebot/2.1; +http://www.google.com/bot.html)')\n"
          ],
          "name": "stdout"
        },
        {
          "output_type": "stream",
          "text": [
            "9965588it [02:14, 97552.75it/s]"
          ],
          "name": "stderr"
        },
        {
          "output_type": "stream",
          "text": [
            "('45.79.78.155', '26/Jan/2019:17:27:21 +0330', 'GET', '/static/images/zanbil/Information-Icon.png', '304', '0', 'https://www.zanbil.ir/product/29418/%DA%86%D9%87%D8%A7%D8%B1%DA%A9%D8%A7%D8%B1%D9%87-%28-%D9%BE%D8%B1%DB%8C%D9%86%D8%AA%D8%B1%D8%8C-%D8%A7%D8%B3%DA%A9%D9%86%D8%B1%D8%8C-%D9%81%DA%A9%D8%B3%D8%8C-%DA%A9%D9%BE%DB%8C-%29-%D8%AC%D9%88%D9%87%D8%B1%D8%A7%D9%81%D8%B4%D8%A7%D9%86-hp-%D9%85%D8%AF%D9%84-Wireless-OfficeJet-MFP-7510-Wide-Format', 'Mozilla/5.0 (Windows NT 10.0; Win64; x64; rv:63.0) Gecko/20100101 Firefox/63.0')\n"
          ],
          "name": "stdout"
        },
        {
          "output_type": "stream",
          "text": [
            "10013757it [02:16, 27420.10it/s]"
          ],
          "name": "stderr"
        },
        {
          "output_type": "stream",
          "text": [
            "('2.178.168.181', '26/Jan/2019:17:52:28 +0330', 'GET', '/image/57553/productModel/150x150', '200', '3632', 'https://www.zanbil.ir/filter/p6%2Cb2%2Cstexists', 'Mozilla/5.0 (Windows NT 10.0; Win64; x64) AppleWebKit/537.36 (KHTML, like Gecko) Chrome/71.0.3578.98 Safari/537.36')\n"
          ],
          "name": "stdout"
        },
        {
          "output_type": "stream",
          "text": [
            "10063358it [02:16, 69184.74it/s]"
          ],
          "name": "stderr"
        },
        {
          "output_type": "stream",
          "text": [
            "('5.112.70.14', '26/Jan/2019:18:15:11 +0330', 'GET', '/image/43/brand', '200', '2376', 'https://www.zanbil.ir/m/filter/b2%2Cp65?page=1', 'Mozilla/5.0 (Linux; Android 6.0.1; HTC Desire 630 dual sim Build/MMB29M) AppleWebKit/537.36 (KHTML, like Gecko) Chrome/46.0.2490.76 Mobile Safari/537.36')\n"
          ],
          "name": "stdout"
        },
        {
          "output_type": "stream",
          "text": [
            "10111189it [02:17, 85871.71it/s]"
          ],
          "name": "stderr"
        },
        {
          "output_type": "stream",
          "text": [
            "('66.249.66.194', '26/Jan/2019:18:37:40 +0330', 'GET', '/filter/b861%2Cp26668%2Cv1%7C%D9%85%D8%B4%DA%A9%DB%8C%20%D8%B2%D8%B1%D8%AF', '200', '30862', '-', 'Mozilla/5.0 (compatible; Googlebot/2.1; +http://www.google.com/bot.html)')\n"
          ],
          "name": "stdout"
        },
        {
          "output_type": "stream",
          "text": [
            "10169039it [02:17, 95393.73it/s]"
          ],
          "name": "stderr"
        },
        {
          "output_type": "stream",
          "text": [
            "('66.249.66.194', '26/Jan/2019:18:58:25 +0330', 'GET', '/m/filter/b656,p12786', '200', '18639', '-', 'Mozilla/5.0 (Linux; Android 6.0.1; Nexus 5X Build/MMB29P) AppleWebKit/537.36 (KHTML, like Gecko) Chrome/41.0.2272.96 Mobile Safari/537.36 (compatible; Googlebot/2.1; +http://www.google.com/bot.html)')\n"
          ],
          "name": "stdout"
        },
        {
          "output_type": "stream",
          "text": [
            "10215907it [02:18, 89456.01it/s]"
          ],
          "name": "stderr"
        },
        {
          "output_type": "stream",
          "text": [
            "('151.241.203.59', '26/Jan/2019:19:18:42 +0330', 'GET', '/image/8868/specialSale?role=e2', '200', '11', 'https://www.zanbil.ir/filter/b32', 'Mozilla/5.0 (Windows NT 6.1; Win64; x64) AppleWebKit/537.36 (KHTML, like Gecko) Chrome/71.0.3578.98 Safari/537.36')\n"
          ],
          "name": "stdout"
        },
        {
          "output_type": "stream",
          "text": [
            "10260422it [02:20, 27696.78it/s]"
          ],
          "name": "stderr"
        },
        {
          "output_type": "stream",
          "text": [
            "('5.126.27.221', '26/Jan/2019:19:39:27 +0330', 'GET', '/image/1176/mainSlideMobile', '200', '106246', 'https://www.zanbil.ir/m/browse/home-appliances/%D9%84%D9%88%D8%A7%D8%B2%D9%85-%D8%AE%D8%A7%D9%86%DA%AF%DB%8C', 'Mozilla/5.0 (Linux; Android 7.0; LG-M400 Build/NRD90U; wv) AppleWebKit/537.36 (KHTML, like Gecko) Version/4.0 Chrome/55.0.2883.91 Mobile Safari/537.36')\n"
          ],
          "name": "stdout"
        },
        {
          "output_type": "stream",
          "text": [
            "10317811it [02:20, 75794.42it/s]"
          ],
          "name": "stderr"
        },
        {
          "output_type": "stream",
          "text": [
            "('176.65.180.143', '26/Jan/2019:19:59:05 +0330', 'GET', '/image/60799/productModel/100x100', '200', '2965', 'https://www.zanbil.ir/filter/b854,p11671', 'Mozilla/5.0 (Windows NT 10.0; Win64; x64; rv:64.0) Gecko/20100101 Firefox/64.0')\n"
          ],
          "name": "stdout"
        },
        {
          "output_type": "stream",
          "text": [
            "10365152it [02:21, 73460.87it/s]\n"
          ],
          "name": "stderr"
        },
        {
          "output_type": "stream",
          "text": [
            "('91.99.26.60', '26/Jan/2019:20:21:25 +0330', 'GET', '/image/35/brand', '200', '2264', 'https://www.zanbil.ir/', 'Mozilla/5.0 (iPhone; CPU iPhone OS 12_1 like Mac OS X) AppleWebKit/605.1.15 (KHTML, like Gecko) Version/12.0 Mobile/15E148 Safari/604.1')\n",
            "CPU times: user 2min 5s, sys: 8.29 s, total: 2min 14s\n",
            "Wall time: 2min 21s\n"
          ],
          "name": "stdout"
        }
      ]
    },
    {
      "cell_type": "code",
      "metadata": {
        "colab": {
          "base_uri": "https://localhost:8080/"
        },
        "id": "1fmOznEBfx2D",
        "outputId": "f67eef6a-0356-4183-fadb-b770a8307a8f"
      },
      "source": [
        "!wc errors.txt"
      ],
      "execution_count": null,
      "outputs": [
        {
          "output_type": "stream",
          "text": [
            "   314   7867 236189 errors.txt\n"
          ],
          "name": "stdout"
        }
      ]
    },
    {
      "cell_type": "code",
      "metadata": {
        "colab": {
          "base_uri": "https://localhost:8080/"
        },
        "id": "XbqqZI1ak8gL",
        "outputId": "d15424b9-f734-4912-d2f9-68910847104b"
      },
      "source": [
        "%time logs_df = pd.read_parquet('parquet_dir/')"
      ],
      "execution_count": null,
      "outputs": [
        {
          "output_type": "stream",
          "text": [
            "CPU times: user 12.9 s, sys: 8.43 s, total: 21.3 s\n",
            "Wall time: 15.5 s\n"
          ],
          "name": "stdout"
        }
      ]
    },
    {
      "cell_type": "code",
      "metadata": {
        "colab": {
          "base_uri": "https://localhost:8080/"
        },
        "id": "aXJkEZUilKg5",
        "outputId": "05d453f6-3f91-46d8-8b88-96db0320eb43"
      },
      "source": [
        "!du -sh parquet_dir/"
      ],
      "execution_count": null,
      "outputs": [
        {
          "output_type": "stream",
          "text": [
            "257M\tparquet_dir/\n"
          ],
          "name": "stdout"
        }
      ]
    },
    {
      "cell_type": "code",
      "metadata": {
        "colab": {
          "base_uri": "https://localhost:8080/"
        },
        "id": "603GvbDZlTJU",
        "outputId": "e38acaa3-5934-47b4-8b26-19110286b478"
      },
      "source": [
        "logs_df.info(null_counts=True)"
      ],
      "execution_count": null,
      "outputs": [
        {
          "output_type": "stream",
          "text": [
            "<class 'pandas.core.frame.DataFrame'>\n",
            "RangeIndex: 10364838 entries, 0 to 10364837\n",
            "Data columns (total 8 columns):\n",
            " #   Column     Non-Null Count     Dtype \n",
            "---  ------     --------------     ----- \n",
            " 0   client     10364838 non-null  object\n",
            " 1   datetime   10364838 non-null  object\n",
            " 2   method     10364838 non-null  object\n",
            " 3   request    10364838 non-null  object\n",
            " 4   status     10364838 non-null  object\n",
            " 5   size       10364838 non-null  object\n",
            " 6   url        10364838 non-null  object\n",
            " 7   useragent  10364838 non-null  object\n",
            "dtypes: object(8)\n",
            "memory usage: 632.6+ MB\n"
          ],
          "name": "stdout"
        }
      ]
    },
    {
      "cell_type": "code",
      "metadata": {
        "id": "9BRTsbYgltRB"
      },
      "source": [
        "%rm -r parquet_dir/"
      ],
      "execution_count": null,
      "outputs": []
    },
    {
      "cell_type": "code",
      "metadata": {
        "id": "mbqer-4SmZbj"
      },
      "source": [
        "logs_df['client'] = logs_df['client'].astype('category')\n",
        "logs_df['datetime'] = pd.to_datetime(logs_df['datetime'], format='%d/%b/%Y:%H:%M:%S %z')\n",
        "logs_df['method'] = logs_df['method'].astype('category')\n",
        "logs_df['status'] = logs_df['size'].astype('int32')\n",
        "logs_df['url'] = logs_df['url'].astype('category')\n",
        "logs_df['useragent'] = logs_df['useragent'].astype('category')"
      ],
      "execution_count": null,
      "outputs": []
    },
    {
      "cell_type": "code",
      "metadata": {
        "colab": {
          "base_uri": "https://localhost:8080/"
        },
        "id": "fUqFFvZtnuMa",
        "outputId": "84c5610d-d7d4-4842-eb34-dd50b56f7b1f"
      },
      "source": [
        "logs_df.info(null_counts=True)"
      ],
      "execution_count": null,
      "outputs": [
        {
          "output_type": "stream",
          "text": [
            "<class 'pandas.core.frame.DataFrame'>\n",
            "RangeIndex: 10364838 entries, 0 to 10364837\n",
            "Data columns (total 8 columns):\n",
            " #   Column     Non-Null Count     Dtype                                \n",
            "---  ------     --------------     -----                                \n",
            " 0   client     10364838 non-null  category                             \n",
            " 1   datetime   10364838 non-null  datetime64[ns, pytz.FixedOffset(210)]\n",
            " 2   method     10364838 non-null  category                             \n",
            " 3   request    10364838 non-null  object                               \n",
            " 4   status     10364838 non-null  int32                                \n",
            " 5   size       10364838 non-null  object                               \n",
            " 6   url        10364838 non-null  category                             \n",
            " 7   useragent  10364838 non-null  category                             \n",
            "dtypes: category(4), datetime64[ns, pytz.FixedOffset(210)](1), int32(1), object(2)\n",
            "memory usage: 404.7+ MB\n"
          ],
          "name": "stdout"
        }
      ]
    },
    {
      "cell_type": "code",
      "metadata": {
        "colab": {
          "base_uri": "https://localhost:8080/"
        },
        "id": "NtaBz7RYn-Om",
        "outputId": "7eafdcab-f4b7-46b5-8115-3bd860730e55"
      },
      "source": [
        "%time logs_df.to_parquet('logs_df.parquet')"
      ],
      "execution_count": null,
      "outputs": [
        {
          "output_type": "stream",
          "text": [
            "CPU times: user 6.29 s, sys: 1.48 s, total: 7.77 s\n",
            "Wall time: 7.5 s\n"
          ],
          "name": "stdout"
        }
      ]
    },
    {
      "cell_type": "code",
      "metadata": {
        "colab": {
          "base_uri": "https://localhost:8080/"
        },
        "id": "Y1PrTjQPoHjc",
        "outputId": "481223a1-8af4-4f77-94eb-523bafc99f74"
      },
      "source": [
        "!ls -lshS"
      ],
      "execution_count": null,
      "outputs": [
        {
          "output_type": "stream",
          "text": [
            "total 277M\n",
            "277M -rw-r--r-- 1 root root 277M Jul 16 04:43 logs_df.parquet\n",
            "236K -rw-r--r-- 1 root root 231K Jul 16 04:26 errors.txt\n",
            "4.0K drwx------ 6 root root 4.0K Jul 16 01:11 drive\n",
            "4.0K drwxr-xr-x 1 root root 4.0K Jul  1 13:42 sample_data\n"
          ],
          "name": "stdout"
        }
      ]
    },
    {
      "cell_type": "code",
      "metadata": {
        "colab": {
          "base_uri": "https://localhost:8080/"
        },
        "id": "X3Eztp2ooKfu",
        "outputId": "4d30e6b5-bcfc-45e0-e2ac-f4256d5ae6b6"
      },
      "source": [
        "%time logs_df = pd.read_parquet('logs_df.parquet')"
      ],
      "execution_count": null,
      "outputs": [
        {
          "output_type": "stream",
          "text": [
            "CPU times: user 7.8 s, sys: 1.86 s, total: 9.65 s\n",
            "Wall time: 7.37 s\n"
          ],
          "name": "stdout"
        }
      ]
    },
    {
      "cell_type": "code",
      "metadata": {
        "colab": {
          "base_uri": "https://localhost:8080/"
        },
        "id": "IZ4AcQApoRJY",
        "outputId": "f6e21945-587f-4654-af5d-ce9f958df25d"
      },
      "source": [
        "logs_df.shape"
      ],
      "execution_count": null,
      "outputs": [
        {
          "output_type": "execute_result",
          "data": {
            "text/plain": [
              "(10364838, 8)"
            ]
          },
          "metadata": {
            "tags": []
          },
          "execution_count": 61
        }
      ]
    },
    {
      "cell_type": "code",
      "metadata": {
        "colab": {
          "base_uri": "https://localhost:8080/",
          "height": 767
        },
        "id": "vn6xRrlDoUBW",
        "outputId": "b06e6c7f-ba66-476a-b7d7-55a179d232e1"
      },
      "source": [
        "logs_df"
      ],
      "execution_count": null,
      "outputs": [
        {
          "output_type": "execute_result",
          "data": {
            "text/html": [
              "<div>\n",
              "<style scoped>\n",
              "    .dataframe tbody tr th:only-of-type {\n",
              "        vertical-align: middle;\n",
              "    }\n",
              "\n",
              "    .dataframe tbody tr th {\n",
              "        vertical-align: top;\n",
              "    }\n",
              "\n",
              "    .dataframe thead th {\n",
              "        text-align: right;\n",
              "    }\n",
              "</style>\n",
              "<table border=\"1\" class=\"dataframe\">\n",
              "  <thead>\n",
              "    <tr style=\"text-align: right;\">\n",
              "      <th></th>\n",
              "      <th>client</th>\n",
              "      <th>datetime</th>\n",
              "      <th>method</th>\n",
              "      <th>request</th>\n",
              "      <th>status</th>\n",
              "      <th>size</th>\n",
              "      <th>url</th>\n",
              "      <th>useragent</th>\n",
              "    </tr>\n",
              "  </thead>\n",
              "  <tbody>\n",
              "    <tr>\n",
              "      <th>0</th>\n",
              "      <td>37.152.163.59</td>\n",
              "      <td>2019-01-22 12:38:27+03:30</td>\n",
              "      <td>GET</td>\n",
              "      <td>/static/images/loading.gif</td>\n",
              "      <td>7370</td>\n",
              "      <td>7370</td>\n",
              "      <td>https://www.zanbil.ir/product/29314/%DA%A9%D8%...</td>\n",
              "      <td>Mozilla/5.0 (Windows NT 6.1; WOW64; Trident/7....</td>\n",
              "    </tr>\n",
              "    <tr>\n",
              "      <th>1</th>\n",
              "      <td>77.245.233.52</td>\n",
              "      <td>2019-01-22 12:38:27+03:30</td>\n",
              "      <td>GET</td>\n",
              "      <td>/image/11082/productType/240x180</td>\n",
              "      <td>12458</td>\n",
              "      <td>12458</td>\n",
              "      <td>https://www.zanbil.ir/browse/sports/%D8%AA%D8%...</td>\n",
              "      <td>Mozilla/5.0 (Windows NT 6.1; rv:64.0) Gecko/20...</td>\n",
              "    </tr>\n",
              "    <tr>\n",
              "      <th>2</th>\n",
              "      <td>37.27.128.139</td>\n",
              "      <td>2019-01-22 12:38:27+03:30</td>\n",
              "      <td>GET</td>\n",
              "      <td>/browse/Tablet-Arm-Chair/%D8%B5%D9%86%D8%AF%D9...</td>\n",
              "      <td>30604</td>\n",
              "      <td>30604</td>\n",
              "      <td>https://www.zanbil.ir/browse/Classroom-Furnitu...</td>\n",
              "      <td>Mozilla/5.0 (Windows NT 5.1) AppleWebKit/537.3...</td>\n",
              "    </tr>\n",
              "    <tr>\n",
              "      <th>3</th>\n",
              "      <td>77.245.233.52</td>\n",
              "      <td>2019-01-22 12:38:27+03:30</td>\n",
              "      <td>GET</td>\n",
              "      <td>/image/851/mainSlide</td>\n",
              "      <td>89859</td>\n",
              "      <td>89859</td>\n",
              "      <td>https://www.zanbil.ir/browse/sports/%D8%AA%D8%...</td>\n",
              "      <td>Mozilla/5.0 (Windows NT 6.1; rv:64.0) Gecko/20...</td>\n",
              "    </tr>\n",
              "    <tr>\n",
              "      <th>4</th>\n",
              "      <td>77.245.233.52</td>\n",
              "      <td>2019-01-22 12:38:27+03:30</td>\n",
              "      <td>GET</td>\n",
              "      <td>/image/848/mainSlide</td>\n",
              "      <td>93168</td>\n",
              "      <td>93168</td>\n",
              "      <td>https://www.zanbil.ir/browse/sports/%D8%AA%D8%...</td>\n",
              "      <td>Mozilla/5.0 (Windows NT 6.1; rv:64.0) Gecko/20...</td>\n",
              "    </tr>\n",
              "    <tr>\n",
              "      <th>...</th>\n",
              "      <td>...</td>\n",
              "      <td>...</td>\n",
              "      <td>...</td>\n",
              "      <td>...</td>\n",
              "      <td>...</td>\n",
              "      <td>...</td>\n",
              "      <td>...</td>\n",
              "      <td>...</td>\n",
              "    </tr>\n",
              "    <tr>\n",
              "      <th>10364833</th>\n",
              "      <td>86.104.110.254</td>\n",
              "      <td>2019-01-26 16:01:31+03:30</td>\n",
              "      <td>GET</td>\n",
              "      <td>/image/64832/productModel/200x200</td>\n",
              "      <td>8667</td>\n",
              "      <td>8667</td>\n",
              "      <td>https://www.zanbil.ir/m/browse/tv/%D8%AA%D9%84...</td>\n",
              "      <td>Mozilla/5.0 (iPhone; CPU iPhone OS 12_1 like M...</td>\n",
              "    </tr>\n",
              "    <tr>\n",
              "      <th>10364834</th>\n",
              "      <td>65.49.68.192</td>\n",
              "      <td>2019-01-26 16:01:31+03:30</td>\n",
              "      <td>GET</td>\n",
              "      <td>/image/64913/productModel/150x150</td>\n",
              "      <td>4395</td>\n",
              "      <td>4395</td>\n",
              "      <td>https://www.zanbil.ir/browse/audio-and-video-e...</td>\n",
              "      <td>Mozilla/5.0 (Windows NT 10.0; Win64; x64; rv:6...</td>\n",
              "    </tr>\n",
              "    <tr>\n",
              "      <th>10364835</th>\n",
              "      <td>65.49.68.192</td>\n",
              "      <td>2019-01-26 16:01:31+03:30</td>\n",
              "      <td>GET</td>\n",
              "      <td>/image/64802/productModel/150x150</td>\n",
              "      <td>4490</td>\n",
              "      <td>4490</td>\n",
              "      <td>https://www.zanbil.ir/browse/audio-and-video-e...</td>\n",
              "      <td>Mozilla/5.0 (Windows NT 10.0; Win64; x64; rv:6...</td>\n",
              "    </tr>\n",
              "    <tr>\n",
              "      <th>10364836</th>\n",
              "      <td>46.209.107.210</td>\n",
              "      <td>2019-01-26 16:01:31+03:30</td>\n",
              "      <td>GET</td>\n",
              "      <td>/image/%7B%7BbasketItem.id%7D%7D?type=productM...</td>\n",
              "      <td>5</td>\n",
              "      <td>5</td>\n",
              "      <td>https://www.zanbil.ir/</td>\n",
              "      <td>Mozilla/5.0 (Windows NT 6.1) AppleWebKit/537.3...</td>\n",
              "    </tr>\n",
              "    <tr>\n",
              "      <th>10364837</th>\n",
              "      <td>5.125.250.23</td>\n",
              "      <td>2019-01-26 16:01:31+03:30</td>\n",
              "      <td>GET</td>\n",
              "      <td>/settings/logo</td>\n",
              "      <td>4120</td>\n",
              "      <td>4120</td>\n",
              "      <td>https://www.zanbil.ir/m/article/618/%D8%AE%D9%...</td>\n",
              "      <td>Mozilla/5.0 (Linux; Android 6.0; ALE-L21 Build...</td>\n",
              "    </tr>\n",
              "  </tbody>\n",
              "</table>\n",
              "<p>10364838 rows × 8 columns</p>\n",
              "</div>"
            ],
            "text/plain": [
              "                  client  ...                                          useragent\n",
              "0          37.152.163.59  ...  Mozilla/5.0 (Windows NT 6.1; WOW64; Trident/7....\n",
              "1          77.245.233.52  ...  Mozilla/5.0 (Windows NT 6.1; rv:64.0) Gecko/20...\n",
              "2          37.27.128.139  ...  Mozilla/5.0 (Windows NT 5.1) AppleWebKit/537.3...\n",
              "3          77.245.233.52  ...  Mozilla/5.0 (Windows NT 6.1; rv:64.0) Gecko/20...\n",
              "4          77.245.233.52  ...  Mozilla/5.0 (Windows NT 6.1; rv:64.0) Gecko/20...\n",
              "...                  ...  ...                                                ...\n",
              "10364833  86.104.110.254  ...  Mozilla/5.0 (iPhone; CPU iPhone OS 12_1 like M...\n",
              "10364834    65.49.68.192  ...  Mozilla/5.0 (Windows NT 10.0; Win64; x64; rv:6...\n",
              "10364835    65.49.68.192  ...  Mozilla/5.0 (Windows NT 10.0; Win64; x64; rv:6...\n",
              "10364836  46.209.107.210  ...  Mozilla/5.0 (Windows NT 6.1) AppleWebKit/537.3...\n",
              "10364837    5.125.250.23  ...  Mozilla/5.0 (Linux; Android 6.0; ALE-L21 Build...\n",
              "\n",
              "[10364838 rows x 8 columns]"
            ]
          },
          "metadata": {
            "tags": []
          },
          "execution_count": 63
        }
      ]
    },
    {
      "cell_type": "code",
      "metadata": {
        "id": "zLcGR07moWai"
      },
      "source": [
        "from sklearn.cluster import KMeans\n",
        "k = 5\n",
        "kmeans = KMeans(k)"
      ],
      "execution_count": null,
      "outputs": []
    },
    {
      "cell_type": "code",
      "metadata": {
        "colab": {
          "base_uri": "https://localhost:8080/"
        },
        "id": "SSIcNxf9pUMZ",
        "outputId": "3f64596f-4600-481f-e814-cd0792d4d847"
      },
      "source": [
        "%time kmeans.fit(logs_df[['size']])"
      ],
      "execution_count": null,
      "outputs": [
        {
          "output_type": "stream",
          "text": [
            "CPU times: user 1min 13s, sys: 2.48 s, total: 1min 16s\n",
            "Wall time: 1min 15s\n"
          ],
          "name": "stdout"
        },
        {
          "output_type": "execute_result",
          "data": {
            "text/plain": [
              "KMeans(algorithm='auto', copy_x=True, init='k-means++', max_iter=300,\n",
              "       n_clusters=5, n_init=10, n_jobs=None, precompute_distances='auto',\n",
              "       random_state=None, tol=0.0001, verbose=0)"
            ]
          },
          "metadata": {
            "tags": []
          },
          "execution_count": 66
        }
      ]
    },
    {
      "cell_type": "code",
      "metadata": {
        "colab": {
          "base_uri": "https://localhost:8080/"
        },
        "id": "OPFHtKhwqNXW",
        "outputId": "36acde4a-2d9c-41f5-9770-675a4f7c122c"
      },
      "source": [
        "sorted(kmeans.cluster_centers_.round(0).flatten())"
      ],
      "execution_count": null,
      "outputs": [
        {
          "output_type": "execute_result",
          "data": {
            "text/plain": [
              "[3576.0, 27717.0, 73835.0, 191130.0, 549767.0]"
            ]
          },
          "metadata": {
            "tags": []
          },
          "execution_count": 67
        }
      ]
    },
    {
      "cell_type": "code",
      "metadata": {
        "colab": {
          "base_uri": "https://localhost:8080/",
          "height": 352
        },
        "id": "j6cqZJ1erI9Z",
        "outputId": "5996c91d-44d7-4ddb-c0d7-06417b95d296"
      },
      "source": [
        "cluster_df = logs_df.groupby(kmeans.labels_)['size'].describe().sort_values('mean').reset_index(drop=True)"
      ],
      "execution_count": null,
      "outputs": [
        {
          "output_type": "error",
          "ename": "KeyError",
          "evalue": "ignored",
          "traceback": [
            "\u001b[0;31m---------------------------------------------------------------------------\u001b[0m",
            "\u001b[0;31mKeyError\u001b[0m                                  Traceback (most recent call last)",
            "\u001b[0;32m<ipython-input-68-8590d45e1c5f>\u001b[0m in \u001b[0;36m<module>\u001b[0;34m()\u001b[0m\n\u001b[0;32m----> 1\u001b[0;31m \u001b[0mcluster_df\u001b[0m \u001b[0;34m=\u001b[0m \u001b[0mlogs_df\u001b[0m\u001b[0;34m.\u001b[0m\u001b[0mgroupby\u001b[0m\u001b[0;34m(\u001b[0m\u001b[0mkmeans\u001b[0m\u001b[0;34m.\u001b[0m\u001b[0mlabels_\u001b[0m\u001b[0;34m)\u001b[0m\u001b[0;34m[\u001b[0m\u001b[0;34m'size'\u001b[0m\u001b[0;34m]\u001b[0m\u001b[0;34m.\u001b[0m\u001b[0mdescribe\u001b[0m\u001b[0;34m(\u001b[0m\u001b[0;34m)\u001b[0m\u001b[0;34m.\u001b[0m\u001b[0msort_values\u001b[0m\u001b[0;34m(\u001b[0m\u001b[0;34m'mean'\u001b[0m\u001b[0;34m)\u001b[0m\u001b[0;34m.\u001b[0m\u001b[0mreset_index\u001b[0m\u001b[0;34m(\u001b[0m\u001b[0mdrop\u001b[0m\u001b[0;34m=\u001b[0m\u001b[0;32mTrue\u001b[0m\u001b[0;34m)\u001b[0m\u001b[0;34m\u001b[0m\u001b[0;34m\u001b[0m\u001b[0m\n\u001b[0m",
            "\u001b[0;32m/usr/local/lib/python3.7/dist-packages/pandas/core/frame.py\u001b[0m in \u001b[0;36msort_values\u001b[0;34m(self, by, axis, ascending, inplace, kind, na_position, ignore_index, key)\u001b[0m\n\u001b[1;32m   5296\u001b[0m \u001b[0;34m\u001b[0m\u001b[0m\n\u001b[1;32m   5297\u001b[0m             \u001b[0mby\u001b[0m \u001b[0;34m=\u001b[0m \u001b[0mby\u001b[0m\u001b[0;34m[\u001b[0m\u001b[0;36m0\u001b[0m\u001b[0;34m]\u001b[0m\u001b[0;34m\u001b[0m\u001b[0;34m\u001b[0m\u001b[0m\n\u001b[0;32m-> 5298\u001b[0;31m             \u001b[0mk\u001b[0m \u001b[0;34m=\u001b[0m \u001b[0mself\u001b[0m\u001b[0;34m.\u001b[0m\u001b[0m_get_label_or_level_values\u001b[0m\u001b[0;34m(\u001b[0m\u001b[0mby\u001b[0m\u001b[0;34m,\u001b[0m \u001b[0maxis\u001b[0m\u001b[0;34m=\u001b[0m\u001b[0maxis\u001b[0m\u001b[0;34m)\u001b[0m\u001b[0;34m\u001b[0m\u001b[0;34m\u001b[0m\u001b[0m\n\u001b[0m\u001b[1;32m   5299\u001b[0m \u001b[0;34m\u001b[0m\u001b[0m\n\u001b[1;32m   5300\u001b[0m             \u001b[0;31m# need to rewrap column in Series to apply key function\u001b[0m\u001b[0;34m\u001b[0m\u001b[0;34m\u001b[0m\u001b[0;34m\u001b[0m\u001b[0m\n",
            "\u001b[0;32m/usr/local/lib/python3.7/dist-packages/pandas/core/generic.py\u001b[0m in \u001b[0;36m_get_label_or_level_values\u001b[0;34m(self, key, axis)\u001b[0m\n\u001b[1;32m   1561\u001b[0m             \u001b[0mvalues\u001b[0m \u001b[0;34m=\u001b[0m \u001b[0mself\u001b[0m\u001b[0;34m.\u001b[0m\u001b[0maxes\u001b[0m\u001b[0;34m[\u001b[0m\u001b[0maxis\u001b[0m\u001b[0;34m]\u001b[0m\u001b[0;34m.\u001b[0m\u001b[0mget_level_values\u001b[0m\u001b[0;34m(\u001b[0m\u001b[0mkey\u001b[0m\u001b[0;34m)\u001b[0m\u001b[0;34m.\u001b[0m\u001b[0m_values\u001b[0m\u001b[0;34m\u001b[0m\u001b[0;34m\u001b[0m\u001b[0m\n\u001b[1;32m   1562\u001b[0m         \u001b[0;32melse\u001b[0m\u001b[0;34m:\u001b[0m\u001b[0;34m\u001b[0m\u001b[0;34m\u001b[0m\u001b[0m\n\u001b[0;32m-> 1563\u001b[0;31m             \u001b[0;32mraise\u001b[0m \u001b[0mKeyError\u001b[0m\u001b[0;34m(\u001b[0m\u001b[0mkey\u001b[0m\u001b[0;34m)\u001b[0m\u001b[0;34m\u001b[0m\u001b[0;34m\u001b[0m\u001b[0m\n\u001b[0m\u001b[1;32m   1564\u001b[0m \u001b[0;34m\u001b[0m\u001b[0m\n\u001b[1;32m   1565\u001b[0m         \u001b[0;31m# Check for duplicates\u001b[0m\u001b[0;34m\u001b[0m\u001b[0;34m\u001b[0m\u001b[0;34m\u001b[0m\u001b[0m\n",
            "\u001b[0;31mKeyError\u001b[0m: 'mean'"
          ]
        }
      ]
    },
    {
      "cell_type": "code",
      "metadata": {
        "colab": {
          "base_uri": "https://localhost:8080/",
          "height": 199
        },
        "id": "3Y6SEAfarWx6",
        "outputId": "54662968-fe16-43dd-df01-a28a41ecf2c4"
      },
      "source": [
        "logs_df.groupby(kmeans.labels_)['size'].describe()"
      ],
      "execution_count": null,
      "outputs": [
        {
          "output_type": "execute_result",
          "data": {
            "text/html": [
              "<div>\n",
              "<style scoped>\n",
              "    .dataframe tbody tr th:only-of-type {\n",
              "        vertical-align: middle;\n",
              "    }\n",
              "\n",
              "    .dataframe tbody tr th {\n",
              "        vertical-align: top;\n",
              "    }\n",
              "\n",
              "    .dataframe thead th {\n",
              "        text-align: right;\n",
              "    }\n",
              "</style>\n",
              "<table border=\"1\" class=\"dataframe\">\n",
              "  <thead>\n",
              "    <tr style=\"text-align: right;\">\n",
              "      <th></th>\n",
              "      <th>count</th>\n",
              "      <th>unique</th>\n",
              "      <th>top</th>\n",
              "      <th>freq</th>\n",
              "    </tr>\n",
              "  </thead>\n",
              "  <tbody>\n",
              "    <tr>\n",
              "      <th>0</th>\n",
              "      <td>1834988</td>\n",
              "      <td>31211</td>\n",
              "      <td>28536</td>\n",
              "      <td>113757</td>\n",
              "    </tr>\n",
              "    <tr>\n",
              "      <th>1</th>\n",
              "      <td>8021255</td>\n",
              "      <td>14872</td>\n",
              "      <td>0</td>\n",
              "      <td>770605</td>\n",
              "    </tr>\n",
              "    <tr>\n",
              "      <th>2</th>\n",
              "      <td>55039</td>\n",
              "      <td>7791</td>\n",
              "      <td>185207</td>\n",
              "      <td>30572</td>\n",
              "    </tr>\n",
              "    <tr>\n",
              "      <th>3</th>\n",
              "      <td>442381</td>\n",
              "      <td>8797</td>\n",
              "      <td>62894</td>\n",
              "      <td>55599</td>\n",
              "    </tr>\n",
              "    <tr>\n",
              "      <th>4</th>\n",
              "      <td>11175</td>\n",
              "      <td>7035</td>\n",
              "      <td>708098</td>\n",
              "      <td>222</td>\n",
              "    </tr>\n",
              "  </tbody>\n",
              "</table>\n",
              "</div>"
            ],
            "text/plain": [
              "     count unique     top    freq\n",
              "0  1834988  31211   28536  113757\n",
              "1  8021255  14872       0  770605\n",
              "2    55039   7791  185207   30572\n",
              "3   442381   8797   62894   55599\n",
              "4    11175   7035  708098     222"
            ]
          },
          "metadata": {
            "tags": []
          },
          "execution_count": 69
        }
      ]
    },
    {
      "cell_type": "code",
      "metadata": {
        "colab": {
          "base_uri": "https://localhost:8080/"
        },
        "id": "8Z3qZC3Gvy8z",
        "outputId": "00a4b779-9f0e-4b83-f794-ab029ea4d9e8"
      },
      "source": [
        "import numpy as np\n",
        "a = [[2,1], [1,2]]\n",
        "b = [[2,1], [2,2]]\n",
        "np.dot(a,b)"
      ],
      "execution_count": null,
      "outputs": [
        {
          "output_type": "execute_result",
          "data": {
            "text/plain": [
              "array([[6, 4],\n",
              "       [6, 5]])"
            ]
          },
          "metadata": {
            "tags": []
          },
          "execution_count": 82
        }
      ]
    },
    {
      "cell_type": "code",
      "metadata": {
        "colab": {
          "base_uri": "https://localhost:8080/"
        },
        "id": "OXvc0ycR2GtF",
        "outputId": "d09fc2a2-7c94-4ddf-bf45-2dfe3fda8885"
      },
      "source": [
        "for line in open(logfile):\n",
        "    print(line.split()[0])"
      ],
      "execution_count": null,
      "outputs": [
        {
          "output_type": "stream",
          "text": [
            "\u001b[1;30;43m스트리밍 출력 내용이 길어서 마지막 5000줄이 삭제되었습니다.\u001b[0m\n",
            "5.121.43.23\n",
            "66.249.66.91\n",
            "180.163.220.3\n",
            "66.249.66.194\n",
            "66.249.66.91\n",
            "5.121.43.23\n",
            "172.20.2.174\n",
            "5.121.43.23\n",
            "66.249.66.91\n",
            "66.249.66.194\n",
            "66.249.66.91\n",
            "5.121.43.23\n",
            "66.249.66.194\n",
            "66.249.66.194\n",
            "66.249.66.194\n",
            "2.186.65.58\n",
            "5.115.54.117\n",
            "66.249.66.194\n",
            "207.46.13.136\n",
            "207.46.13.136\n",
            "180.163.220.3\n",
            "180.163.220.4\n",
            "180.163.220.3\n",
            "207.46.13.136\n",
            "54.36.148.232\n",
            "66.249.66.194\n",
            "180.163.220.68\n",
            "207.46.13.136\n",
            "66.249.66.91\n",
            "180.163.220.4\n",
            "5.121.43.23\n",
            "54.36.148.129\n",
            "66.249.66.194\n",
            "66.249.66.194\n",
            "66.249.66.194\n",
            "207.46.13.136\n",
            "5.121.43.23\n",
            "66.249.66.194\n",
            "207.46.13.136\n",
            "54.36.148.232\n",
            "66.249.66.194\n",
            "66.249.66.91\n",
            "66.249.66.91\n",
            "66.249.66.194\n",
            "66.249.66.194\n",
            "51.15.15.54\n",
            "66.249.66.91\n",
            "66.249.66.194\n",
            "66.249.66.91\n",
            "66.249.66.194\n",
            "5.200.112.161\n",
            "66.249.66.194\n",
            "5.121.43.23\n",
            "66.249.66.194\n",
            "66.249.66.91\n",
            "66.249.66.194\n",
            "66.249.66.194\n",
            "54.36.149.50\n",
            "66.249.66.194\n",
            "5.160.157.20\n",
            "5.160.157.20\n",
            "66.249.66.91\n",
            "17.58.102.43\n",
            "83.120.223.38\n",
            "5.236.128.80\n",
            "66.249.66.194\n",
            "17.58.102.43\n",
            "31.58.190.45\n",
            "5.124.197.62\n",
            "66.249.66.91\n",
            "66.249.66.91\n",
            "66.249.66.194\n",
            "51.75.93.31\n",
            "5.124.197.62\n",
            "5.124.197.62\n",
            "5.124.197.62\n",
            "5.124.197.62\n",
            "5.124.197.62\n",
            "5.124.197.62\n",
            "66.249.66.91\n",
            "66.249.66.194\n",
            "5.124.197.62\n",
            "158.58.96.143\n",
            "5.124.197.62\n",
            "5.124.197.62\n",
            "5.114.34.49\n",
            "5.124.197.62\n",
            "66.249.66.194\n",
            "66.249.66.194\n",
            "66.249.66.195\n",
            "5.124.197.62\n",
            "2.186.65.58\n",
            "66.249.66.194\n",
            "66.249.66.91\n",
            "5.112.126.81\n",
            "157.55.39.245\n",
            "5.211.32.40\n",
            "54.36.148.184\n",
            "176.65.189.250\n",
            "54.36.149.34\n",
            "172.20.2.174\n",
            "157.55.39.245\n",
            "66.249.66.194\n",
            "66.249.66.194\n",
            "5.117.189.130\n",
            "66.249.66.194\n",
            "66.249.66.91\n",
            "66.249.66.91\n",
            "66.249.66.91\n",
            "66.249.66.91\n",
            "89.32.103.182\n",
            "188.159.63.26\n",
            "157.55.39.245\n",
            "54.36.148.150\n",
            "83.121.252.103\n",
            "66.249.66.91\n",
            "66.249.66.91\n",
            "66.249.66.91\n",
            "17.58.102.43\n",
            "66.249.66.194\n",
            "66.249.66.194\n",
            "66.249.66.91\n",
            "66.249.66.91\n",
            "17.58.102.43\n",
            "66.249.66.194\n",
            "66.249.66.91\n",
            "51.15.15.54\n",
            "207.46.13.136\n",
            "34.247.132.53\n",
            "66.249.66.194\n",
            "66.249.66.91\n",
            "54.36.148.251\n",
            "188.159.63.26\n",
            "66.249.66.194\n",
            "66.249.66.194\n",
            "66.249.66.194\n",
            "66.249.66.194\n",
            "54.36.148.232\n",
            "54.36.148.179\n",
            "54.36.149.78\n",
            "220.181.108.186\n",
            "66.249.66.91\n",
            "5.112.126.81\n",
            "66.249.66.91\n",
            "158.58.96.143\n",
            "5.116.228.149\n",
            "66.249.66.91\n",
            "66.249.66.194\n",
            "5.116.228.149\n",
            "5.116.228.149\n",
            "5.116.228.149\n",
            "5.116.228.149\n",
            "5.116.228.149\n",
            "5.116.228.149\n",
            "89.32.103.182\n",
            "54.36.148.84\n",
            "5.116.228.149\n",
            "5.116.228.149\n",
            "5.116.228.149\n",
            "5.116.228.149\n",
            "5.116.228.149\n",
            "5.116.228.149\n",
            "5.116.228.149\n",
            "5.116.228.149\n",
            "5.116.228.149\n",
            "5.116.228.149\n",
            "5.116.228.149\n",
            "5.116.228.149\n",
            "5.116.228.149\n",
            "66.249.66.91\n",
            "5.116.228.149\n",
            "66.249.66.91\n",
            "5.121.43.23\n",
            "5.116.228.149\n",
            "207.46.13.136\n",
            "5.121.43.23\n",
            "5.121.43.23\n",
            "5.121.43.23\n",
            "5.121.43.23\n",
            "66.249.66.91\n",
            "5.121.43.23\n",
            "40.77.167.170\n",
            "54.36.149.32\n",
            "5.121.43.23\n",
            "5.121.43.23\n",
            "5.121.43.23\n",
            "5.121.43.23\n",
            "5.121.43.23\n",
            "5.121.43.23\n",
            "54.36.148.134\n",
            "5.121.43.23\n",
            "5.121.43.23\n",
            "5.121.43.23\n",
            "5.121.43.23\n",
            "207.46.13.136\n",
            "66.249.66.194\n",
            "66.249.66.194\n",
            "5.121.43.23\n",
            "5.121.43.23\n",
            "5.121.43.23\n",
            "5.121.43.23\n",
            "5.121.43.23\n",
            "66.249.66.91\n",
            "66.249.66.194\n",
            "66.249.66.91\n",
            "172.20.2.174\n",
            "66.249.66.91\n",
            "207.46.13.136\n",
            "40.77.167.170\n",
            "66.249.66.91\n",
            "66.249.66.194\n",
            "207.46.13.136\n",
            "66.249.66.91\n",
            "207.46.13.136\n",
            "66.249.66.194\n",
            "40.77.167.170\n",
            "40.77.167.170\n",
            "207.46.13.136\n",
            "66.249.66.91\n",
            "66.249.66.194\n",
            "66.249.66.194\n",
            "66.249.66.91\n",
            "66.249.66.194\n",
            "5.116.228.149\n",
            "54.36.148.51\n",
            "40.77.167.170\n",
            "40.77.167.170\n",
            "40.77.167.170\n",
            "5.116.228.149\n",
            "207.46.13.136\n",
            "207.46.13.136\n",
            "5.116.228.149\n",
            "40.77.167.170\n",
            "46.4.203.149\n",
            "5.116.228.149\n",
            "5.116.228.149\n",
            "5.116.228.149\n",
            "5.116.228.149\n",
            "5.116.228.149\n",
            "5.116.228.149\n",
            "54.36.148.245\n",
            "207.46.13.136\n",
            "66.249.66.91\n",
            "5.160.157.20\n",
            "5.160.157.20\n",
            "89.198.193.18\n",
            "207.46.13.136\n",
            "54.36.148.180\n",
            "207.46.13.136\n",
            "207.46.13.136\n",
            "51.15.15.54\n",
            "46.4.203.149\n",
            "66.249.66.195\n",
            "157.55.39.245\n",
            "207.46.13.136\n",
            "66.249.66.194\n",
            "66.249.66.194\n",
            "157.55.39.245\n",
            "5.116.144.92\n",
            "5.116.144.92\n",
            "5.116.144.92\n",
            "5.116.144.92\n",
            "5.116.144.92\n",
            "5.116.144.92\n",
            "5.116.144.92\n",
            "5.116.144.92\n",
            "5.116.144.92\n",
            "5.116.144.92\n",
            "89.198.193.18\n",
            "89.198.193.18\n",
            "207.46.13.136\n",
            "157.55.39.245\n",
            "66.249.66.194\n",
            "66.249.66.91\n",
            "66.249.66.195\n",
            "66.249.66.194\n",
            "54.36.149.91\n",
            "207.46.13.136\n",
            "40.77.167.170\n",
            "207.46.13.136\n",
            "54.36.148.36\n",
            "157.55.39.245\n",
            "185.130.78.21\n",
            "40.77.167.170\n",
            "66.249.66.91\n",
            "207.46.13.136\n",
            "5.121.43.23\n",
            "66.249.66.91\n",
            "54.36.148.218\n",
            "40.77.167.170\n",
            "5.219.188.95\n",
            "207.46.13.136\n",
            "207.46.13.136\n",
            "66.249.66.91\n",
            "66.249.66.194\n",
            "66.249.66.194\n",
            "40.77.167.170\n",
            "66.249.66.91\n",
            "66.249.66.91\n",
            "172.20.2.174\n",
            "40.77.167.170\n",
            "66.249.66.194\n",
            "40.77.167.170\n",
            "40.77.167.170\n",
            "54.36.149.91\n",
            "89.32.103.182\n",
            "5.116.228.149\n",
            "5.121.43.23\n",
            "5.219.188.95\n",
            "40.77.167.170\n",
            "66.249.66.91\n",
            "66.249.66.91\n",
            "5.116.228.149\n",
            "5.121.43.23\n",
            "5.121.43.23\n",
            "5.116.228.149\n",
            "5.121.43.23\n",
            "5.116.228.149\n",
            "5.116.228.149\n",
            "5.116.228.149\n",
            "5.121.43.23\n",
            "5.116.228.149\n",
            "5.116.228.149\n",
            "5.116.228.149\n",
            "5.116.228.149\n",
            "5.116.228.149\n",
            "5.116.228.149\n",
            "5.116.228.149\n",
            "5.116.228.149\n",
            "40.77.167.170\n",
            "5.116.228.149\n",
            "5.116.228.149\n",
            "5.116.228.149\n",
            "5.116.228.149\n",
            "5.116.228.149\n",
            "66.249.66.91\n",
            "5.116.228.149\n",
            "5.116.228.149\n",
            "66.249.66.194\n",
            "54.36.149.68\n",
            "34.247.132.53\n",
            "46.4.203.149\n",
            "66.249.66.91\n",
            "5.116.228.149\n",
            "5.116.228.149\n",
            "40.77.167.170\n",
            "207.46.13.136\n",
            "66.249.66.91\n",
            "207.46.13.136\n",
            "5.124.197.62\n",
            "5.124.197.62\n",
            "40.77.167.170\n",
            "51.15.15.54\n",
            "66.249.66.194\n",
            "5.124.197.62\n",
            "5.124.197.62\n",
            "5.116.228.149\n",
            "5.116.228.149\n",
            "40.77.189.193\n",
            "40.77.189.193\n",
            "40.77.189.193\n",
            "40.77.189.193\n",
            "207.46.13.136\n",
            "66.249.66.194\n",
            "66.249.66.194\n",
            "207.46.13.136\n",
            "66.249.66.91\n",
            "5.121.43.23\n",
            "66.249.66.91\n",
            "54.36.148.102\n",
            "66.249.66.194\n",
            "5.121.43.23\n",
            "5.121.43.23\n",
            "5.121.43.23\n",
            "5.121.43.23\n",
            "5.121.43.23\n",
            "5.121.43.23\n",
            "5.121.43.23\n",
            "5.121.43.23\n",
            "5.121.43.23\n",
            "5.121.43.23\n",
            "5.121.43.23\n",
            "5.121.43.23\n",
            "66.249.66.91\n",
            "66.249.66.91\n",
            "5.121.43.23\n",
            "5.121.43.23\n",
            "5.121.43.23\n",
            "5.121.43.23\n",
            "66.249.66.194\n",
            "66.249.66.91\n",
            "40.77.167.170\n",
            "66.249.66.194\n",
            "5.121.43.23\n",
            "31.58.190.45\n",
            "5.121.43.23\n",
            "5.116.228.149\n",
            "66.249.66.91\n",
            "5.121.43.23\n",
            "5.121.43.23\n",
            "5.116.228.149\n",
            "66.249.66.194\n",
            "5.116.228.149\n",
            "5.116.228.149\n",
            "66.249.66.194\n",
            "89.198.193.18\n",
            "66.249.66.91\n",
            "66.249.66.194\n",
            "5.116.228.149\n",
            "5.116.228.149\n",
            "5.116.228.149\n",
            "5.124.197.62\n",
            "5.124.197.62\n",
            "5.124.197.62\n",
            "5.124.197.62\n",
            "54.36.149.4\n",
            "40.77.167.170\n",
            "89.198.193.18\n",
            "66.249.66.91\n",
            "37.128.244.97\n",
            "51.75.93.31\n",
            "54.36.149.11\n",
            "66.249.66.91\n",
            "66.249.66.194\n",
            "40.77.167.170\n",
            "66.249.66.91\n",
            "40.77.167.170\n",
            "66.249.66.91\n",
            "5.116.228.149\n",
            "66.249.66.91\n",
            "5.127.92.195\n",
            "5.116.228.149\n",
            "5.116.228.149\n",
            "5.116.228.149\n",
            "172.20.2.174\n",
            "66.249.66.194\n",
            "66.249.65.222\n",
            "54.36.148.196\n",
            "5.117.155.154\n",
            "5.160.157.20\n",
            "5.160.157.20\n",
            "66.249.66.91\n",
            "5.116.228.149\n",
            "5.116.228.149\n",
            "5.134.128.102\n",
            "5.117.155.154\n",
            "66.249.66.91\n",
            "5.117.155.154\n",
            "5.117.155.154\n",
            "66.249.66.194\n",
            "66.249.66.194\n",
            "5.117.155.154\n",
            "5.117.155.154\n",
            "66.249.66.194\n",
            "207.46.13.136\n",
            "66.249.66.194\n",
            "40.77.167.170\n",
            "207.46.13.136\n",
            "66.249.66.91\n",
            "46.4.203.149\n",
            "66.249.66.194\n",
            "23.101.169.3\n",
            "5.114.224.196\n",
            "5.117.150.159\n",
            "66.249.66.91\n",
            "5.117.150.159\n",
            "23.101.169.3\n",
            "51.15.15.54\n",
            "5.117.150.159\n",
            "5.117.150.159\n",
            "66.249.66.91\n",
            "5.117.150.159\n",
            "5.117.150.159\n",
            "5.117.150.159\n",
            "66.249.66.194\n",
            "5.117.150.159\n",
            "207.46.13.136\n",
            "5.117.150.159\n",
            "5.117.150.159\n",
            "5.117.150.159\n",
            "23.101.169.3\n",
            "5.117.150.159\n",
            "23.101.169.3\n",
            "66.249.66.91\n",
            "5.117.183.185\n",
            "23.101.169.3\n",
            "66.249.66.194\n",
            "5.116.228.149\n",
            "5.117.155.154\n",
            "66.249.66.194\n",
            "23.101.169.3\n",
            "66.249.66.194\n",
            "66.249.66.194\n",
            "66.249.66.91\n",
            "23.101.169.3\n",
            "5.134.128.102\n",
            "23.101.169.3\n",
            "23.101.169.3\n",
            "23.101.169.3\n",
            "23.101.169.3\n",
            "23.101.169.3\n",
            "23.101.169.3\n",
            "40.77.167.170\n",
            "66.249.66.91\n",
            "66.249.66.194\n",
            "23.101.169.3\n",
            "23.101.169.3\n",
            "23.101.169.3\n",
            "23.101.169.3\n",
            "66.249.66.194\n",
            "66.249.66.194\n",
            "66.249.66.194\n",
            "23.101.169.3\n",
            "23.101.169.3\n",
            "23.101.169.3\n",
            "23.101.169.3\n",
            "23.101.169.3\n",
            "23.101.169.3\n",
            "23.101.169.3\n",
            "23.101.169.3\n",
            "23.101.169.3\n",
            "23.101.169.3\n",
            "23.101.169.3\n",
            "66.249.66.194\n",
            "23.101.169.3\n",
            "23.101.169.3\n",
            "23.101.169.3\n",
            "23.101.169.3\n",
            "40.77.167.170\n",
            "23.101.169.3\n",
            "23.101.169.3\n",
            "23.101.169.3\n",
            "23.101.169.3\n",
            "23.101.169.3\n",
            "23.101.169.3\n",
            "23.101.169.3\n",
            "23.101.169.3\n",
            "66.249.66.194\n",
            "5.117.155.154\n",
            "23.101.169.3\n",
            "23.101.169.3\n",
            "23.101.169.3\n",
            "23.101.169.3\n",
            "54.36.148.237\n",
            "23.101.169.3\n",
            "23.101.169.3\n",
            "23.101.169.3\n",
            "23.101.169.3\n",
            "23.101.169.3\n",
            "23.101.169.3\n",
            "23.101.169.3\n",
            "23.101.169.3\n",
            "104.194.24.54\n",
            "23.101.169.3\n",
            "23.101.169.3\n",
            "23.101.169.3\n",
            "23.101.169.3\n",
            "54.36.148.228\n",
            "188.158.38.30\n",
            "5.117.155.154\n",
            "5.117.155.154\n",
            "5.117.155.154\n",
            "5.117.155.154\n",
            "23.101.169.3\n",
            "23.101.169.3\n",
            "23.101.169.3\n",
            "23.101.169.3\n",
            "23.101.169.3\n",
            "23.101.169.3\n",
            "23.101.169.3\n",
            "23.101.169.3\n",
            "66.249.66.194\n",
            "23.101.169.3\n",
            "23.101.169.3\n",
            "5.117.155.154\n",
            "66.249.66.194\n",
            "23.101.169.3\n",
            "23.101.169.3\n",
            "23.101.169.3\n",
            "23.101.169.3\n",
            "23.101.169.3\n",
            "66.249.66.194\n",
            "23.101.169.3\n",
            "23.101.169.3\n",
            "23.101.169.3\n",
            "23.101.169.3\n",
            "23.101.169.3\n",
            "54.36.148.144\n",
            "54.36.148.161\n",
            "23.101.169.3\n",
            "23.101.169.3\n",
            "23.101.169.3\n",
            "23.101.169.3\n",
            "66.249.66.91\n",
            "23.101.169.3\n",
            "23.101.169.3\n",
            "23.101.169.3\n",
            "23.101.169.3\n",
            "66.249.66.91\n",
            "51.38.65.189\n",
            "23.101.169.3\n",
            "23.101.169.3\n",
            "23.101.169.3\n",
            "23.101.169.3\n",
            "66.249.66.91\n",
            "66.249.66.91\n",
            "23.101.169.3\n",
            "23.101.169.3\n",
            "23.101.169.3\n",
            "23.101.169.3\n",
            "66.249.66.91\n",
            "66.249.66.194\n",
            "23.101.169.3\n",
            "23.101.169.3\n",
            "23.101.169.3\n",
            "23.101.169.3\n",
            "23.101.169.3\n",
            "23.101.169.3\n",
            "23.101.169.3\n",
            "23.101.169.3\n",
            "66.249.66.91\n",
            "40.77.167.170\n",
            "23.101.169.3\n",
            "23.101.169.3\n",
            "23.101.169.3\n",
            "23.101.169.3\n",
            "66.249.66.91\n",
            "23.101.169.3\n",
            "23.101.169.3\n",
            "23.101.169.3\n",
            "23.101.169.3\n",
            "40.77.167.170\n",
            "23.101.169.3\n",
            "23.101.169.3\n",
            "23.101.169.3\n",
            "23.101.169.3\n",
            "66.249.66.194\n",
            "40.77.167.170\n",
            "40.77.167.170\n",
            "40.77.167.170\n",
            "188.158.38.30\n",
            "207.46.13.136\n",
            "66.249.66.194\n",
            "172.20.2.174\n",
            "66.249.66.93\n",
            "164.215.218.89\n",
            "34.247.132.53\n",
            "207.46.13.136\n",
            "66.249.66.92\n",
            "2.186.65.58\n",
            "2.186.65.58\n",
            "2.186.65.58\n",
            "66.249.66.91\n",
            "66.249.66.197\n",
            "66.249.66.92\n",
            "63.143.42.246\n",
            "66.249.66.197\n",
            "66.249.66.197\n",
            "40.77.167.170\n",
            "63.143.42.246\n",
            "17.58.102.43\n",
            "66.249.66.91\n",
            "66.249.66.194\n",
            "66.249.66.197\n",
            "66.249.66.194\n",
            "51.15.15.54\n",
            "66.249.66.194\n",
            "66.249.66.194\n",
            "66.249.66.91\n",
            "66.249.66.197\n",
            "66.249.66.194\n",
            "207.46.13.136\n",
            "66.249.66.194\n",
            "66.249.66.194\n",
            "66.249.66.194\n",
            "207.46.13.136\n",
            "66.249.66.194\n",
            "66.249.66.194\n",
            "66.249.66.194\n",
            "146.185.138.203\n",
            "66.249.66.194\n",
            "5.117.155.154\n",
            "40.77.167.170\n",
            "66.249.66.91\n",
            "66.249.66.91\n",
            "5.117.155.154\n",
            "66.249.66.194\n",
            "40.77.167.170\n",
            "91.99.72.15\n",
            "54.36.148.160\n",
            "66.249.66.194\n",
            "91.99.72.15\n",
            "66.249.66.194\n",
            "66.249.66.194\n",
            "54.36.148.123\n",
            "66.249.66.194\n",
            "54.36.149.69\n",
            "66.249.66.194\n",
            "91.99.72.15\n",
            "66.249.66.91\n",
            "66.249.66.194\n",
            "66.249.66.194\n",
            "54.36.148.22\n",
            "66.249.66.91\n",
            "66.249.66.91\n",
            "66.249.66.194\n",
            "66.249.66.194\n",
            "91.99.72.15\n",
            "66.249.66.194\n",
            "66.249.66.194\n",
            "66.249.66.194\n",
            "66.249.66.194\n",
            "5.160.157.20\n",
            "5.160.157.20\n",
            "66.249.66.194\n",
            "46.4.203.149\n",
            "66.249.66.194\n",
            "157.55.39.245\n",
            "66.249.66.194\n",
            "66.249.66.194\n",
            "54.36.148.119\n",
            "172.20.2.174\n",
            "5.134.128.102\n",
            "66.249.66.91\n",
            "52.7.238.253\n",
            "66.249.66.194\n",
            "52.7.238.253\n",
            "17.58.102.43\n",
            "91.99.72.15\n",
            "66.249.66.194\n",
            "5.117.155.154\n",
            "66.249.66.91\n",
            "157.55.39.245\n",
            "5.117.155.154\n",
            "54.36.149.33\n",
            "91.99.72.15\n",
            "40.77.167.170\n",
            "66.249.66.194\n",
            "66.249.66.194\n",
            "91.99.72.15\n",
            "207.46.13.136\n",
            "91.99.72.15\n",
            "66.249.66.194\n",
            "66.249.66.194\n",
            "51.15.15.54\n",
            "66.249.66.91\n",
            "174.116.70.251\n",
            "66.249.66.194\n",
            "66.249.66.194\n",
            "66.249.66.91\n",
            "17.58.102.43\n",
            "66.249.66.91\n",
            "66.249.66.194\n",
            "157.55.39.245\n",
            "207.241.231.165\n",
            "5.123.88.42\n",
            "5.123.88.42\n",
            "17.58.102.43\n",
            "5.120.34.47\n",
            "66.249.66.194\n",
            "40.77.167.170\n",
            "66.249.66.194\n",
            "66.249.66.194\n",
            "66.249.66.91\n",
            "157.55.39.245\n",
            "66.249.66.194\n",
            "207.241.231.165\n",
            "40.77.167.170\n",
            "66.249.66.91\n",
            "95.64.55.171\n",
            "66.249.66.194\n",
            "157.55.39.245\n",
            "13.66.139.0\n",
            "5.124.197.62\n",
            "92.114.78.201\n",
            "91.99.72.15\n",
            "66.249.66.91\n",
            "66.249.66.194\n",
            "66.249.66.194\n",
            "157.55.39.245\n",
            "91.99.72.15\n",
            "91.99.72.15\n",
            "157.55.39.245\n",
            "91.99.72.15\n",
            "66.249.66.91\n",
            "5.124.197.62\n",
            "34.247.132.53\n",
            "5.124.197.62\n",
            "66.249.66.194\n",
            "54.36.148.104\n",
            "54.36.148.191\n",
            "207.46.13.136\n",
            "207.46.13.136\n",
            "66.249.66.91\n",
            "66.249.66.194\n",
            "23.101.169.3\n",
            "66.249.66.194\n",
            "66.249.66.91\n",
            "207.46.13.136\n",
            "23.101.169.3\n",
            "207.46.13.136\n",
            "207.46.13.136\n",
            "40.77.167.170\n",
            "172.20.2.174\n",
            "23.101.169.3\n",
            "66.249.66.91\n",
            "176.65.177.140\n",
            "23.101.169.3\n",
            "66.249.66.194\n",
            "66.249.66.194\n",
            "23.101.169.3\n",
            "207.46.13.136\n",
            "66.249.66.194\n",
            "40.77.167.170\n",
            "40.77.167.170\n",
            "54.36.149.37\n",
            "23.101.169.3\n",
            "23.101.169.3\n",
            "66.249.66.194\n",
            "5.52.143.122\n",
            "17.58.102.43\n",
            "23.101.169.3\n",
            "23.101.169.3\n",
            "23.101.169.3\n",
            "66.249.66.194\n",
            "54.36.148.66\n",
            "66.249.66.91\n",
            "23.101.169.3\n",
            "66.249.66.194\n",
            "40.77.167.170\n",
            "40.77.167.170\n",
            "23.101.169.3\n",
            "23.101.169.3\n",
            "23.101.169.3\n",
            "23.101.169.3\n",
            "216.244.66.248\n",
            "23.101.169.3\n",
            "23.101.169.3\n",
            "23.101.169.3\n",
            "69.162.124.229\n",
            "23.101.169.3\n",
            "23.101.169.3\n",
            "23.101.169.3\n",
            "66.249.66.91\n",
            "23.101.169.3\n",
            "23.101.169.3\n",
            "23.101.169.3\n",
            "207.46.13.136\n",
            "66.249.66.194\n",
            "23.101.169.3\n",
            "23.101.169.3\n",
            "23.101.169.3\n",
            "23.101.169.3\n",
            "23.101.169.3\n",
            "5.120.34.47\n",
            "207.46.13.136\n",
            "23.101.169.3\n",
            "23.101.169.3\n",
            "23.101.169.3\n",
            "23.101.169.3\n",
            "69.162.124.229\n",
            "91.99.72.15\n",
            "40.77.167.170\n",
            "207.46.13.136\n",
            "63.143.42.243\n",
            "23.101.169.3\n",
            "23.101.169.3\n",
            "23.101.169.3\n",
            "23.101.169.3\n",
            "66.249.66.194\n",
            "5.114.224.196\n",
            "23.101.169.3\n",
            "23.101.169.3\n",
            "23.101.169.3\n",
            "23.101.169.3\n",
            "23.101.169.3\n",
            "23.101.169.3\n",
            "23.101.169.3\n",
            "23.101.169.3\n",
            "207.46.13.136\n",
            "23.101.169.3\n",
            "23.101.169.3\n",
            "23.101.169.3\n",
            "23.101.169.3\n",
            "91.99.72.15\n",
            "40.77.167.170\n",
            "23.101.169.3\n",
            "23.101.169.3\n",
            "23.101.169.3\n",
            "23.101.169.3\n",
            "23.101.169.3\n",
            "23.101.169.3\n",
            "23.101.169.3\n",
            "51.15.15.54\n",
            "23.101.169.3\n",
            "23.101.169.3\n",
            "23.101.169.3\n",
            "23.101.169.3\n",
            "91.99.72.15\n",
            "23.101.169.3\n",
            "23.101.169.3\n",
            "40.77.167.170\n",
            "23.101.169.3\n",
            "23.101.169.3\n",
            "23.101.169.3\n",
            "23.101.169.3\n",
            "23.101.169.3\n",
            "23.101.169.3\n",
            "23.101.169.3\n",
            "66.249.66.194\n",
            "23.101.169.3\n",
            "23.101.169.3\n",
            "23.101.169.3\n",
            "23.101.169.3\n",
            "23.101.169.3\n",
            "23.101.169.3\n",
            "23.101.169.3\n",
            "23.101.169.3\n",
            "5.121.43.23\n",
            "5.120.34.47\n",
            "5.120.34.47\n",
            "23.101.169.3\n",
            "5.120.34.47\n",
            "23.101.169.3\n",
            "23.101.169.3\n",
            "5.120.34.47\n",
            "5.120.34.47\n",
            "91.99.72.15\n",
            "5.120.34.47\n",
            "5.121.43.23\n",
            "23.101.169.3\n",
            "23.101.169.3\n",
            "23.101.169.3\n",
            "23.101.169.3\n",
            "207.46.13.136\n",
            "5.124.197.62\n",
            "23.101.169.3\n",
            "23.101.169.3\n",
            "23.101.169.3\n",
            "23.101.169.3\n",
            "23.101.169.3\n",
            "23.101.169.3\n",
            "23.101.169.3\n",
            "23.101.169.3\n",
            "207.46.13.136\n",
            "66.249.66.91\n",
            "5.121.43.23\n",
            "5.121.43.23\n",
            "5.121.43.23\n",
            "5.121.43.23\n",
            "5.121.43.23\n",
            "66.249.66.194\n",
            "5.121.43.23\n",
            "5.121.43.23\n",
            "5.121.43.23\n",
            "5.121.43.23\n",
            "5.121.43.23\n",
            "5.121.43.23\n",
            "5.121.43.23\n",
            "207.46.13.136\n",
            "66.249.66.194\n",
            "207.46.13.136\n",
            "66.249.66.91\n",
            "5.121.43.23\n",
            "5.121.43.23\n",
            "5.121.43.23\n",
            "5.121.43.23\n",
            "5.121.43.23\n",
            "5.121.43.23\n",
            "66.249.66.91\n",
            "66.249.66.91\n",
            "5.120.34.47\n",
            "5.120.34.47\n",
            "5.120.34.47\n",
            "66.249.66.194\n",
            "63.143.42.242\n",
            "5.121.43.23\n",
            "5.121.43.23\n",
            "5.121.43.23\n",
            "5.121.43.23\n",
            "66.249.66.194\n",
            "66.249.66.194\n",
            "63.143.42.242\n",
            "207.46.13.136\n",
            "66.249.66.194\n",
            "54.36.148.239\n",
            "54.36.148.172\n",
            "86.55.216.175\n",
            "83.122.180.216\n",
            "83.122.180.216\n",
            "66.249.66.91\n",
            "69.162.124.234\n",
            "54.36.148.206\n",
            "40.77.167.170\n",
            "5.160.157.20\n",
            "5.160.157.20\n",
            "66.249.66.194\n",
            "207.46.13.136\n",
            "69.162.124.234\n",
            "54.36.149.67\n",
            "5.121.43.23\n",
            "5.121.43.23\n",
            "91.99.72.15\n",
            "5.115.54.117\n",
            "66.249.66.91\n",
            "188.158.38.30\n",
            "91.99.72.15\n",
            "5.123.88.42\n",
            "66.249.66.194\n",
            "63.143.42.246\n",
            "66.249.66.194\n",
            "66.249.66.194\n",
            "66.249.66.91\n",
            "66.249.66.91\n",
            "63.143.42.246\n",
            "91.99.72.15\n",
            "66.249.66.194\n",
            "66.249.66.194\n",
            "91.99.72.15\n",
            "40.77.167.170\n",
            "54.36.148.19\n",
            "66.249.66.194\n",
            "157.55.39.245\n",
            "66.249.66.194\n",
            "40.77.167.170\n",
            "40.77.167.170\n",
            "66.249.66.194\n",
            "172.20.2.174\n",
            "66.249.66.194\n",
            "66.249.66.194\n",
            "5.121.43.23\n",
            "40.77.167.170\n",
            "207.46.13.136\n",
            "66.249.66.194\n",
            "5.121.43.23\n",
            "5.121.43.23\n",
            "5.121.43.23\n",
            "5.121.43.23\n",
            "5.121.43.23\n",
            "5.121.43.23\n",
            "5.121.43.23\n",
            "5.121.43.23\n",
            "157.55.39.245\n",
            "5.115.54.117\n",
            "40.77.167.170\n",
            "66.249.66.91\n",
            "66.249.66.91\n",
            "5.121.43.23\n",
            "66.249.66.194\n",
            "5.121.43.23\n",
            "66.249.66.194\n",
            "5.115.54.117\n",
            "207.46.13.136\n",
            "5.121.43.23\n",
            "5.121.43.23\n",
            "40.77.167.170\n",
            "66.249.66.194\n",
            "66.249.66.194\n",
            "91.99.72.15\n",
            "5.115.54.117\n",
            "51.15.15.54\n",
            "207.46.13.136\n",
            "91.99.72.15\n",
            "91.99.72.15\n",
            "66.249.66.194\n",
            "66.249.66.194\n",
            "188.158.38.30\n",
            "66.249.66.91\n",
            "5.115.54.117\n",
            "5.115.54.117\n",
            "5.115.54.117\n",
            "91.99.72.15\n",
            "66.249.66.91\n",
            "66.249.66.194\n",
            "188.158.38.30\n",
            "66.249.66.91\n",
            "66.249.66.194\n",
            "5.115.54.117\n",
            "54.36.148.60\n",
            "157.55.39.245\n",
            "5.115.54.117\n",
            "5.115.54.117\n",
            "5.115.54.117\n",
            "5.115.54.117\n",
            "5.115.54.117\n",
            "5.115.54.117\n",
            "5.115.54.117\n",
            "5.115.54.117\n",
            "34.247.132.53\n",
            "40.77.167.170\n",
            "54.36.148.56\n",
            "66.249.66.194\n",
            "157.55.39.245\n",
            "5.123.88.42\n",
            "40.77.167.170\n",
            "192.15.185.192\n",
            "157.55.39.245\n",
            "40.77.167.170\n",
            "66.249.66.194\n",
            "66.249.66.91\n",
            "66.249.66.199\n",
            "66.249.66.91\n",
            "54.36.148.172\n",
            "66.249.66.91\n",
            "54.36.148.204\n",
            "207.46.13.136\n",
            "66.249.66.91\n",
            "66.249.66.91\n",
            "207.46.13.136\n",
            "66.249.66.194\n",
            "54.36.148.137\n",
            "172.20.2.174\n",
            "40.77.167.170\n",
            "5.121.43.23\n",
            "5.121.43.23\n",
            "66.249.66.194\n",
            "5.121.43.23\n",
            "5.121.43.23\n",
            "40.77.167.170\n",
            "66.249.66.194\n",
            "66.249.66.91\n",
            "66.249.66.91\n",
            "91.99.72.15\n",
            "66.249.66.194\n",
            "40.77.167.170\n",
            "66.249.66.194\n",
            "91.99.72.15\n",
            "91.99.72.15\n",
            "40.77.167.170\n",
            "51.38.125.215\n",
            "66.249.66.194\n",
            "104.194.24.54\n",
            "91.99.72.15\n",
            "51.15.15.54\n",
            "66.249.66.91\n",
            "5.122.115.238\n",
            "207.46.13.136\n",
            "5.121.43.23\n",
            "5.121.43.23\n",
            "5.121.43.23\n",
            "54.36.148.70\n",
            "207.46.13.136\n",
            "66.249.66.194\n",
            "5.209.40.38\n",
            "207.46.13.136\n",
            "207.46.13.136\n",
            "207.46.13.136\n",
            "40.77.167.170\n",
            "54.36.148.127\n",
            "66.249.66.91\n",
            "66.249.66.91\n",
            "5.160.157.20\n",
            "5.160.157.20\n",
            "66.249.66.194\n",
            "5.123.88.42\n",
            "83.121.252.103\n",
            "5.121.43.23\n",
            "5.121.43.23\n",
            "5.121.43.23\n",
            "5.123.88.42\n",
            "5.121.43.23\n",
            "5.121.43.23\n",
            "66.249.66.194\n",
            "66.249.66.91\n",
            "66.249.66.194\n",
            "54.36.148.162\n",
            "66.249.66.194\n",
            "66.249.66.194\n",
            "17.58.102.43\n",
            "5.209.40.38\n",
            "66.249.66.91\n",
            "72.141.96.227\n",
            "66.249.66.91\n",
            "17.58.102.43\n",
            "207.46.13.136\n",
            "54.36.148.36\n",
            "54.36.148.144\n",
            "66.249.66.91\n",
            "54.36.111.160\n",
            "51.38.65.189\n",
            "207.46.13.136\n",
            "66.249.66.91\n",
            "172.20.2.174\n",
            "54.36.149.98\n",
            "5.115.54.117\n",
            "66.249.66.194\n",
            "91.99.72.15\n",
            "5.122.95.74\n",
            "66.249.66.91\n",
            "66.249.66.91\n",
            "66.249.66.91\n",
            "91.99.72.15\n",
            "54.36.148.119\n",
            "5.121.43.23\n",
            "54.36.149.30\n",
            "66.249.66.194\n",
            "66.249.66.194\n",
            "91.99.72.15\n",
            "89.34.54.44\n",
            "66.249.66.194\n",
            "91.99.72.15\n",
            "66.249.66.194\n",
            "66.249.66.91\n",
            "54.36.111.160\n",
            "54.36.111.160\n",
            "40.77.167.170\n",
            "5.121.43.23\n",
            "40.77.167.170\n",
            "66.249.66.91\n",
            "66.249.66.195\n",
            "66.249.66.194\n",
            "54.36.148.182\n",
            "5.121.43.23\n",
            "54.36.148.227\n",
            "192.15.6.66\n",
            "66.249.66.91\n",
            "66.249.66.194\n",
            "195.181.3.169\n",
            "40.77.167.170\n",
            "34.247.132.53\n",
            "54.36.148.150\n",
            "87.251.148.24\n",
            "207.46.13.136\n",
            "66.249.66.194\n",
            "66.249.66.194\n",
            "51.15.15.54\n",
            "5.121.43.23\n",
            "5.121.43.23\n",
            "5.121.43.23\n",
            "192.15.6.66\n",
            "54.36.149.50\n",
            "192.15.6.66\n",
            "54.36.148.207\n",
            "5.121.43.23\n",
            "5.121.43.23\n",
            "66.249.66.91\n",
            "207.46.13.136\n",
            "192.15.6.66\n",
            "207.46.13.136\n",
            "192.15.6.66\n",
            "40.77.167.170\n",
            "40.77.167.170\n",
            "66.249.66.194\n",
            "54.36.148.220\n",
            "207.46.13.136\n",
            "40.77.167.170\n",
            "5.114.49.207\n",
            "207.46.13.136\n",
            "66.249.66.194\n",
            "72.141.96.227\n",
            "66.249.66.194\n",
            "91.99.72.15\n",
            "207.46.13.136\n",
            "66.249.66.194\n",
            "66.249.66.91\n",
            "66.249.66.194\n",
            "40.77.167.170\n",
            "66.249.66.91\n",
            "5.114.49.207\n",
            "66.249.66.91\n",
            "91.99.72.15\n",
            "40.77.167.170\n",
            "66.249.66.91\n",
            "91.99.72.15\n",
            "66.249.66.194\n",
            "66.249.66.195\n",
            "66.249.66.194\n",
            "91.99.72.15\n",
            "66.249.66.194\n",
            "66.249.66.91\n",
            "66.249.66.194\n",
            "172.20.2.174\n",
            "66.249.66.194\n",
            "195.181.3.169\n",
            "66.249.66.194\n",
            "5.121.43.23\n",
            "5.121.43.23\n",
            "5.121.43.23\n",
            "5.112.126.81\n",
            "5.121.43.23\n",
            "91.99.72.15\n",
            "66.249.66.91\n",
            "54.36.148.181\n",
            "207.46.13.136\n",
            "207.46.13.136\n",
            "66.249.66.91\n",
            "66.249.66.194\n",
            "66.249.66.91\n",
            "66.249.66.194\n",
            "5.160.157.20\n",
            "5.160.157.20\n",
            "66.249.66.91\n",
            "66.249.66.194\n",
            "40.77.167.170\n",
            "66.249.66.194\n",
            "66.249.66.194\n",
            "5.112.126.81\n",
            "5.121.43.23\n",
            "66.249.66.91\n",
            "66.249.66.194\n",
            "66.249.66.195\n",
            "66.249.66.194\n",
            "51.15.15.54\n",
            "5.121.43.23\n",
            "5.121.43.23\n",
            "5.121.43.23\n",
            "66.249.66.91\n",
            "5.121.43.23\n",
            "5.121.43.23\n",
            "40.77.167.170\n",
            "66.249.66.91\n",
            "66.249.66.194\n",
            "40.77.167.170\n",
            "66.249.66.194\n",
            "66.249.66.194\n",
            "5.121.43.23\n",
            "5.121.43.23\n",
            "5.121.43.23\n",
            "5.121.43.23\n",
            "66.249.66.91\n",
            "5.121.43.23\n",
            "5.121.43.23\n",
            "40.77.167.170\n",
            "207.46.13.136\n",
            "188.226.164.216\n",
            "188.226.164.216\n",
            "66.249.66.194\n",
            "5.209.40.38\n",
            "66.249.66.195\n",
            "40.77.167.170\n",
            "188.226.164.216\n",
            "66.249.66.194\n",
            "188.226.164.216\n",
            "188.226.164.216\n",
            "188.226.164.216\n",
            "188.226.164.216\n",
            "188.226.164.216\n",
            "66.249.66.194\n",
            "207.46.13.136\n",
            "188.226.164.216\n",
            "188.226.164.216\n",
            "188.226.164.216\n",
            "188.226.164.216\n",
            "188.226.164.216\n",
            "188.226.164.216\n",
            "188.226.164.216\n",
            "188.226.164.216\n",
            "40.77.167.170\n",
            "188.226.164.216\n",
            "188.226.164.216\n",
            "188.226.164.216\n",
            "188.226.164.216\n",
            "188.226.164.216\n",
            "188.226.164.216\n",
            "188.226.164.216\n",
            "188.226.164.216\n",
            "188.226.164.216\n",
            "188.226.164.216\n",
            "188.226.164.216\n",
            "188.226.164.216\n",
            "188.226.164.216\n",
            "188.226.164.216\n",
            "188.226.164.216\n",
            "188.226.164.216\n",
            "188.226.164.216\n",
            "188.226.164.216\n",
            "188.226.164.216\n",
            "40.77.167.170\n",
            "188.226.164.216\n",
            "188.226.164.216\n",
            "188.226.164.216\n",
            "188.226.164.216\n",
            "66.249.66.91\n",
            "188.226.164.216\n",
            "188.226.164.216\n",
            "188.226.164.216\n",
            "188.226.164.216\n",
            "188.226.164.216\n",
            "188.226.164.216\n",
            "188.226.164.216\n",
            "188.226.164.216\n",
            "188.226.164.216\n",
            "188.226.164.216\n",
            "188.226.164.216\n",
            "66.249.66.91\n",
            "188.226.164.216\n",
            "66.249.66.194\n",
            "188.226.164.216\n",
            "66.249.66.194\n",
            "89.35.183.130\n",
            "66.249.66.91\n",
            "40.77.167.170\n",
            "5.113.130.133\n",
            "5.113.130.133\n",
            "66.249.66.91\n",
            "172.20.2.174\n",
            "188.226.164.216\n",
            "66.249.66.91\n",
            "40.77.167.170\n",
            "66.249.66.91\n",
            "66.249.66.194\n",
            "51.38.125.215\n",
            "66.249.66.194\n",
            "188.226.164.216\n",
            "66.249.66.194\n",
            "66.249.66.194\n",
            "66.249.66.91\n",
            "34.247.132.53\n",
            "91.99.72.15\n",
            "188.226.164.216\n",
            "188.226.164.216\n",
            "188.226.164.216\n",
            "66.249.66.194\n",
            "188.159.74.40\n",
            "91.99.72.15\n",
            "40.77.167.170\n",
            "40.77.167.170\n",
            "51.38.125.215\n",
            "91.99.72.15\n",
            "66.249.66.194\n",
            "66.249.66.194\n",
            "91.99.72.15\n",
            "51.38.125.215\n",
            "40.77.167.170\n",
            "66.249.66.91\n",
            "66.249.66.91\n",
            "40.77.167.170\n",
            "188.226.164.216\n",
            "66.249.66.91\n",
            "66.249.66.194\n",
            "40.77.167.170\n",
            "188.226.164.216\n",
            "188.226.164.216\n",
            "188.226.164.216\n",
            "46.4.203.149\n",
            "207.46.13.136\n",
            "5.121.43.23\n",
            "66.249.66.91\n",
            "66.249.66.91\n",
            "66.249.66.91\n",
            "51.15.15.54\n",
            "66.249.66.91\n",
            "51.38.65.189\n",
            "54.36.148.188\n",
            "188.159.74.40\n",
            "5.121.43.23\n",
            "5.121.43.23\n",
            "66.249.66.91\n",
            "40.77.167.170\n",
            "40.77.167.170\n",
            "66.249.66.194\n",
            "17.58.102.43\n",
            "66.249.66.91\n",
            "188.226.164.216\n",
            "188.226.164.216\n",
            "40.77.167.170\n",
            "13.66.139.0\n",
            "188.226.164.216\n",
            "188.226.164.216\n",
            "66.249.66.194\n",
            "188.226.164.216\n",
            "188.226.164.216\n",
            "188.226.164.216\n",
            "188.226.164.216\n",
            "188.226.164.216\n",
            "188.226.164.216\n",
            "188.226.164.216\n",
            "188.226.164.216\n",
            "188.226.164.216\n",
            "188.226.164.216\n",
            "66.249.66.91\n",
            "66.249.66.194\n",
            "66.249.66.91\n",
            "188.226.164.216\n",
            "188.226.164.216\n",
            "188.226.164.216\n",
            "188.226.164.216\n",
            "188.226.164.216\n",
            "188.226.164.216\n",
            "188.226.164.216\n",
            "188.226.164.216\n",
            "188.226.164.216\n",
            "40.77.167.170\n",
            "188.226.164.216\n",
            "188.226.164.216\n",
            "188.226.164.216\n",
            "188.226.164.216\n",
            "188.226.164.216\n",
            "188.226.164.216\n",
            "40.77.167.170\n",
            "66.249.66.194\n",
            "66.249.66.194\n",
            "188.226.164.216\n",
            "188.226.164.216\n",
            "66.249.66.91\n",
            "66.249.66.194\n",
            "5.126.29.183\n",
            "66.249.66.194\n",
            "66.249.66.194\n",
            "66.249.66.91\n",
            "188.226.164.216\n",
            "5.114.49.207\n",
            "66.249.66.194\n",
            "66.249.66.195\n",
            "91.99.72.15\n",
            "66.249.66.91\n",
            "5.160.157.20\n",
            "5.160.157.20\n",
            "172.20.2.174\n",
            "66.249.66.91\n",
            "66.249.66.194\n",
            "149.202.184.84\n",
            "66.249.66.91\n",
            "66.249.66.194\n",
            "91.99.72.15\n",
            "204.18.175.72\n",
            "204.18.175.72\n",
            "204.18.175.72\n",
            "204.18.175.72\n",
            "204.18.175.72\n",
            "204.18.175.72\n",
            "66.249.66.194\n",
            "204.18.175.72\n",
            "91.99.72.15\n",
            "5.121.43.23\n",
            "66.249.66.194\n",
            "204.18.175.72\n",
            "204.18.175.72\n",
            "204.18.175.72\n",
            "204.18.175.72\n",
            "204.18.175.72\n",
            "204.18.175.72\n",
            "204.18.175.72\n",
            "204.18.175.72\n",
            "204.18.175.72\n",
            "204.18.175.72\n",
            "204.18.175.72\n",
            "204.18.175.72\n",
            "204.18.175.72\n",
            "91.99.72.15\n",
            "204.18.175.72\n",
            "204.18.175.72\n",
            "204.18.175.72\n",
            "204.18.175.72\n",
            "204.18.175.72\n",
            "204.18.175.72\n",
            "66.249.66.91\n",
            "5.211.32.40\n",
            "5.232.126.16\n",
            "5.121.43.23\n",
            "66.249.66.91\n",
            "5.211.32.40\n",
            "5.211.32.40\n",
            "5.211.32.40\n",
            "5.112.236.19\n",
            "66.249.66.194\n",
            "66.249.66.194\n",
            "66.249.66.91\n",
            "54.36.148.185\n",
            "66.249.66.91\n",
            "5.112.236.19\n",
            "5.112.236.19\n",
            "5.112.236.19\n",
            "5.112.236.19\n",
            "5.112.236.19\n",
            "5.112.236.19\n",
            "5.112.236.19\n",
            "5.112.236.19\n",
            "40.77.167.170\n",
            "5.112.236.19\n",
            "5.112.236.19\n",
            "5.112.236.19\n",
            "5.112.236.19\n",
            "5.112.236.19\n",
            "17.58.102.43\n",
            "66.249.66.91\n",
            "5.112.236.19\n",
            "207.46.13.136\n",
            "5.126.29.183\n",
            "5.112.236.19\n",
            "5.112.236.19\n",
            "66.249.66.91\n",
            "66.249.66.91\n",
            "54.36.148.80\n",
            "5.211.32.40\n",
            "5.112.236.19\n",
            "5.112.236.19\n",
            "40.77.167.170\n",
            "54.36.149.16\n",
            "188.226.164.216\n",
            "188.226.164.216\n",
            "188.226.164.216\n",
            "188.226.164.216\n",
            "66.249.66.194\n",
            "188.226.164.216\n",
            "17.58.102.43\n",
            "66.249.66.194\n",
            "5.72.172.59\n",
            "66.249.66.194\n",
            "5.211.32.40\n",
            "5.116.227.150\n",
            "5.211.32.40\n",
            "51.15.15.54\n",
            "5.116.227.150\n",
            "13.66.139.0\n",
            "40.77.167.170\n",
            "17.58.102.43\n",
            "204.18.175.72\n",
            "66.249.66.91\n",
            "5.116.227.150\n",
            "5.116.227.150\n",
            "5.116.227.150\n",
            "5.116.227.150\n",
            "5.116.227.150\n",
            "5.116.227.150\n",
            "66.249.66.194\n",
            "204.18.175.72\n",
            "204.18.175.72\n",
            "5.116.227.150\n",
            "204.18.175.72\n",
            "204.18.175.72\n",
            "204.18.175.72\n",
            "204.18.175.72\n",
            "204.18.175.72\n",
            "204.18.175.72\n",
            "204.18.175.72\n",
            "204.18.175.72\n",
            "204.18.175.72\n",
            "5.112.126.81\n",
            "204.18.175.72\n",
            "204.18.175.72\n",
            "204.18.175.72\n",
            "204.18.175.72\n",
            "5.121.43.23\n",
            "204.18.175.72\n",
            "204.18.175.72\n",
            "204.18.175.72\n",
            "66.249.66.91\n",
            "66.249.66.91\n",
            "5.124.26.80\n",
            "5.116.227.150\n",
            "5.116.227.150\n",
            "5.116.227.150\n",
            "5.116.227.150\n",
            "5.116.227.150\n",
            "5.121.43.23\n",
            "5.121.43.23\n",
            "5.116.227.150\n",
            "5.116.227.150\n",
            "34.247.132.53\n",
            "5.112.126.81\n",
            "66.249.66.91\n",
            "66.249.66.194\n",
            "5.116.227.150\n",
            "5.116.227.150\n",
            "5.121.43.23\n",
            "204.18.175.72\n",
            "204.18.175.72\n",
            "5.112.236.19\n",
            "5.112.236.19\n",
            "40.77.167.170\n",
            "204.18.175.72\n",
            "204.18.175.72\n",
            "17.58.102.43\n",
            "172.20.2.174\n",
            "5.116.227.150\n",
            "5.116.227.150\n",
            "5.116.227.150\n",
            "216.244.66.248\n",
            "5.116.227.150\n",
            "40.77.167.170\n",
            "66.249.66.194\n",
            "63.143.42.246\n",
            "5.121.43.23\n",
            "5.121.43.23\n",
            "82.99.223.75\n",
            "5.121.43.23\n",
            "188.226.164.216\n",
            "63.143.42.246\n",
            "204.18.175.72\n",
            "40.77.167.170\n",
            "188.226.164.216\n",
            "83.122.171.225\n",
            "83.122.171.225\n",
            "54.36.148.117\n",
            "188.226.164.216\n",
            "188.226.164.216\n",
            "188.226.164.216\n",
            "188.226.164.216\n",
            "66.249.66.92\n",
            "188.226.164.216\n",
            "83.122.106.8\n",
            "188.226.164.216\n",
            "188.226.164.216\n",
            "188.226.164.216\n",
            "188.226.164.216\n",
            "204.18.175.72\n",
            "188.226.164.216\n",
            "188.226.164.216\n",
            "188.226.164.216\n",
            "66.249.66.194\n",
            "204.18.175.72\n",
            "204.18.175.72\n",
            "188.226.164.216\n",
            "204.18.175.72\n",
            "204.18.175.72\n",
            "40.77.167.170\n",
            "83.122.106.8\n",
            "83.122.106.8\n",
            "83.122.106.8\n",
            "83.122.106.8\n",
            "83.122.171.225\n",
            "83.122.171.225\n",
            "83.122.106.8\n",
            "83.122.106.8\n",
            "66.249.66.194\n",
            "83.122.171.225\n",
            "83.122.171.225\n",
            "5.72.172.59\n",
            "66.249.66.194\n",
            "66.249.66.92\n",
            "66.249.66.91\n",
            "204.18.175.72\n",
            "91.99.72.15\n",
            "204.18.175.72\n",
            "188.226.164.216\n",
            "83.122.106.8\n",
            "204.18.175.72\n",
            "204.18.175.72\n",
            "83.122.106.8\n",
            "83.122.106.8\n",
            "40.77.167.170\n",
            "31.184.130.52\n",
            "66.249.66.194\n",
            "66.249.66.194\n",
            "66.249.66.91\n",
            "207.46.13.136\n",
            "91.99.72.15\n",
            "66.249.66.194\n",
            "40.77.167.170\n",
            "207.46.13.136\n",
            "54.36.149.43\n",
            "91.99.72.15\n",
            "66.249.66.91\n",
            "66.249.66.194\n",
            "66.249.66.194\n",
            "5.112.236.19\n",
            "5.112.236.19\n",
            "66.249.66.91\n",
            "66.249.66.91\n",
            "54.36.148.36\n",
            "66.249.66.194\n",
            "188.226.164.216\n",
            "66.249.66.194\n",
            "66.249.66.91\n",
            "66.249.66.194\n",
            "66.249.66.91\n",
            "46.4.203.149\n",
            "86.55.216.175\n",
            "40.77.167.170\n",
            "66.249.66.91\n",
            "54.36.148.247\n",
            "66.249.66.194\n",
            "204.18.175.72\n",
            "204.18.175.72\n",
            "204.18.175.72\n",
            "204.18.175.72\n",
            "51.15.15.54\n",
            "66.249.66.194\n",
            "66.249.66.91\n",
            "66.249.66.91\n",
            "66.249.66.91\n",
            "40.77.167.170\n",
            "5.160.157.20\n",
            "5.160.157.20\n",
            "207.46.13.136\n",
            "66.249.66.194\n",
            "66.249.66.91\n",
            "66.249.66.194\n",
            "207.46.13.136\n",
            "5.112.236.19\n",
            "5.112.236.19\n",
            "66.249.66.91\n",
            "40.77.167.170\n",
            "66.249.66.194\n",
            "54.36.149.87\n",
            "54.36.148.55\n",
            "207.46.13.136\n",
            "172.20.2.174\n",
            "51.38.125.215\n",
            "40.77.167.170\n",
            "66.249.66.91\n",
            "40.77.167.170\n",
            "54.36.149.31\n",
            "207.46.13.136\n",
            "66.249.66.194\n",
            "5.121.43.23\n",
            "66.249.66.194\n",
            "66.249.66.91\n",
            "66.249.66.194\n",
            "5.121.43.23\n",
            "5.121.43.23\n",
            "5.121.43.23\n",
            "66.249.66.194\n",
            "66.249.66.194\n",
            "66.249.66.194\n",
            "188.226.164.216\n",
            "17.58.102.43\n",
            "207.46.13.136\n",
            "66.249.66.194\n",
            "66.249.66.194\n",
            "66.249.66.91\n",
            "66.249.66.91\n",
            "54.36.148.118\n",
            "66.249.66.194\n",
            "66.249.66.194\n",
            "82.99.223.75\n",
            "40.77.167.170\n",
            "188.226.164.216\n",
            "82.99.223.75\n",
            "82.99.223.75\n",
            "82.99.223.75\n",
            "82.99.223.75\n",
            "82.99.223.75\n",
            "188.226.164.216\n",
            "82.99.223.75\n",
            "54.36.148.50\n",
            "82.99.223.75\n",
            "82.99.223.75\n",
            "82.99.223.75\n",
            "82.99.223.75\n",
            "188.226.164.216\n",
            "82.99.223.75\n",
            "188.226.164.216\n",
            "188.226.164.216\n",
            "82.99.223.75\n",
            "188.226.164.216\n",
            "82.99.223.75\n",
            "188.226.164.216\n",
            "82.99.223.75\n",
            "82.99.223.75\n",
            "82.99.223.75\n",
            "82.99.223.75\n",
            "188.226.164.216\n",
            "188.226.164.216\n",
            "188.226.164.216\n",
            "188.226.164.216\n",
            "188.226.164.216\n",
            "188.226.164.216\n",
            "51.38.125.215\n",
            "66.249.66.194\n",
            "66.249.66.91\n",
            "188.226.164.216\n",
            "188.226.164.216\n",
            "82.99.223.75\n",
            "188.226.164.216\n",
            "82.99.223.75\n",
            "82.99.223.75\n",
            "82.99.223.75\n",
            "188.226.164.216\n",
            "188.226.164.216\n",
            "188.226.164.216\n",
            "188.226.164.216\n",
            "188.226.164.216\n",
            "188.226.164.216\n",
            "188.226.164.216\n",
            "188.226.164.216\n",
            "188.226.164.216\n",
            "188.226.164.216\n",
            "188.226.164.216\n",
            "188.226.164.216\n",
            "188.226.164.216\n",
            "188.226.164.216\n",
            "188.226.164.216\n",
            "188.226.164.216\n",
            "5.112.236.19\n",
            "5.112.236.19\n",
            "82.99.223.75\n",
            "54.36.148.73\n",
            "82.99.223.75\n",
            "82.99.223.75\n",
            "82.99.223.75\n",
            "66.249.66.194\n",
            "66.249.66.194\n",
            "66.249.66.194\n",
            "157.55.39.245\n",
            "66.249.66.194\n",
            "66.249.66.194\n",
            "207.46.13.136\n",
            "157.55.39.245\n",
            "66.249.66.194\n",
            "66.249.66.91\n",
            "204.18.175.72\n",
            "66.249.66.194\n",
            "66.249.66.194\n",
            "204.18.175.72\n",
            "207.46.13.136\n",
            "204.18.175.72\n",
            "204.18.175.72\n",
            "157.55.39.245\n",
            "66.249.66.194\n",
            "34.247.132.53\n",
            "66.249.66.194\n",
            "54.36.149.102\n",
            "40.77.167.170\n",
            "83.121.159.152\n",
            "17.58.102.43\n",
            "54.36.149.18\n",
            "54.36.149.68\n",
            "89.199.165.30\n",
            "66.249.66.194\n",
            "66.249.66.91\n",
            "51.15.15.54\n",
            "17.58.102.43\n",
            "54.36.148.216\n",
            "66.249.66.91\n",
            "66.249.66.194\n",
            "172.20.2.174\n",
            "5.112.236.19\n",
            "5.112.236.19\n",
            "5.112.236.19\n",
            "5.112.236.19\n",
            "54.36.148.82\n",
            "66.249.66.194\n",
            "66.249.66.91\n",
            "192.15.81.106\n",
            "66.249.66.194\n",
            "69.162.124.229\n",
            "66.249.66.91\n",
            "83.121.159.152\n",
            "207.46.13.136\n",
            "204.18.175.72\n",
            "204.18.175.72\n",
            "63.143.42.243\n",
            "69.162.124.229\n",
            "66.249.66.194\n",
            "204.18.175.72\n",
            "204.18.175.72\n",
            "66.249.66.194\n",
            "54.36.148.211\n",
            "66.249.66.194\n",
            "66.249.66.91\n",
            "83.121.159.152\n",
            "204.18.175.72\n",
            "66.249.66.194\n",
            "204.18.175.72\n",
            "83.122.171.225\n",
            "66.249.66.194\n",
            "17.58.102.43\n",
            "66.249.66.194\n",
            "66.249.66.194\n",
            "66.249.66.91\n",
            "66.249.66.91\n",
            "204.18.175.72\n",
            "63.143.42.242\n",
            "54.36.148.235\n",
            "63.143.42.242\n",
            "40.77.167.170\n",
            "66.249.66.194\n",
            "66.249.66.194\n",
            "66.249.66.194\n",
            "40.77.167.170\n",
            "66.249.66.91\n",
            "40.77.167.170\n",
            "66.249.66.194\n",
            "204.18.175.72\n",
            "54.36.148.134\n",
            "5.160.157.20\n",
            "5.160.157.20\n",
            "66.249.66.91\n",
            "40.77.167.170\n",
            "66.249.66.194\n",
            "40.77.167.170\n",
            "66.249.66.194\n",
            "66.249.66.194\n",
            "63.143.42.246\n",
            "66.249.66.194\n",
            "66.249.66.91\n",
            "40.77.167.170\n",
            "157.55.39.245\n",
            "66.249.66.194\n",
            "63.143.42.246\n",
            "192.15.247.191\n",
            "66.249.66.194\n",
            "54.36.148.99\n",
            "66.249.66.91\n",
            "17.58.102.43\n",
            "192.15.81.106\n",
            "66.249.66.91\n",
            "66.249.66.91\n",
            "192.15.247.191\n",
            "192.15.247.191\n",
            "192.15.247.191\n",
            "192.15.247.191\n",
            "192.15.247.191\n",
            "192.15.247.191\n",
            "157.55.39.245\n",
            "207.46.13.136\n",
            "40.77.167.170\n",
            "66.249.66.194\n",
            "66.249.66.194\n",
            "51.15.15.54\n",
            "66.249.66.194\n",
            "54.36.148.81\n",
            "83.122.106.8\n",
            "83.122.106.8\n",
            "83.122.106.8\n",
            "66.249.66.91\n",
            "83.122.106.8\n",
            "66.249.66.194\n",
            "192.15.247.191\n",
            "192.15.247.191\n",
            "192.15.247.191\n",
            "192.15.247.191\n",
            "192.15.247.191\n",
            "172.20.2.174\n",
            "141.0.12.173\n",
            "141.0.12.173\n",
            "66.249.66.194\n",
            "40.77.167.170\n",
            "40.77.167.170\n",
            "192.15.247.191\n",
            "207.46.13.136\n",
            "66.249.66.91\n",
            "66.249.66.194\n",
            "40.77.167.170\n",
            "40.77.167.170\n",
            "5.127.215.170\n",
            "192.15.247.191\n",
            "192.15.247.191\n",
            "192.15.247.191\n",
            "192.15.247.191\n",
            "192.15.247.191\n",
            "207.46.13.136\n",
            "192.15.247.191\n",
            "192.15.247.191\n",
            "192.15.247.191\n",
            "66.249.66.194\n",
            "207.46.13.136\n",
            "66.249.66.194\n",
            "66.249.66.91\n",
            "89.199.165.30\n",
            "40.77.167.170\n",
            "54.36.148.253\n",
            "40.77.167.170\n",
            "207.46.13.136\n",
            "207.46.13.136\n",
            "66.249.66.194\n",
            "192.15.247.191\n",
            "192.15.247.191\n",
            "192.15.247.191\n",
            "192.15.247.191\n",
            "66.249.66.194\n",
            "66.249.66.194\n",
            "66.249.66.91\n",
            "66.249.66.194\n",
            "40.77.167.170\n",
            "207.46.13.136\n",
            "207.46.13.136\n",
            "40.77.167.170\n",
            "54.36.148.222\n",
            "66.249.66.91\n",
            "17.58.102.43\n",
            "66.249.66.194\n",
            "66.249.66.194\n",
            "66.249.66.91\n",
            "66.249.66.194\n",
            "192.15.247.191\n",
            "66.249.66.194\n",
            "17.58.102.43\n",
            "34.247.132.53\n",
            "157.55.39.245\n",
            "207.46.13.136\n",
            "54.36.148.126\n",
            "192.15.247.191\n",
            "17.58.102.43\n",
            "54.36.149.42\n",
            "54.36.148.18\n",
            "66.249.66.91\n",
            "192.15.247.191\n",
            "192.15.247.191\n",
            "66.249.66.91\n",
            "207.46.13.136\n",
            "66.249.66.91\n",
            "66.249.66.194\n",
            "40.77.167.170\n",
            "54.36.148.249\n",
            "157.55.39.245\n",
            "207.46.13.136\n",
            "192.15.247.191\n",
            "192.15.247.191\n",
            "192.15.247.191\n",
            "192.15.247.191\n",
            "5.123.158.147\n",
            "17.58.102.43\n",
            "51.15.15.54\n",
            "66.249.66.194\n",
            "172.80.205.91\n",
            "66.249.66.91\n",
            "54.36.149.91\n",
            "54.36.149.95\n",
            "66.249.66.91\n",
            "66.249.66.91\n",
            "66.249.66.91\n",
            "17.58.102.43\n",
            "66.249.66.91\n",
            "66.249.66.91\n",
            "172.20.2.174\n",
            "66.249.66.91\n",
            "17.58.102.43\n",
            "37.156.61.40\n",
            "66.249.66.194\n",
            "207.46.13.136\n",
            "66.249.66.194\n",
            "37.156.61.40\n",
            "37.156.61.40\n",
            "37.156.61.40\n",
            "37.156.61.40\n",
            "37.156.61.40\n",
            "37.156.61.40\n",
            "37.156.61.40\n",
            "37.156.61.40\n",
            "37.156.61.40\n",
            "37.156.61.40\n",
            "37.156.61.40\n",
            "37.156.61.40\n",
            "37.156.61.40\n",
            "37.156.61.40\n",
            "37.156.61.40\n",
            "37.156.61.40\n",
            "66.249.66.194\n",
            "37.156.61.40\n",
            "37.156.61.40\n",
            "37.156.61.40\n",
            "37.156.61.40\n",
            "37.156.61.40\n",
            "66.249.66.91\n",
            "37.156.61.40\n",
            "66.249.66.91\n",
            "37.156.61.40\n",
            "37.156.61.40\n",
            "37.156.61.40\n",
            "66.249.66.194\n",
            "66.249.66.194\n",
            "192.15.247.191\n",
            "37.156.61.40\n",
            "66.249.66.91\n",
            "66.249.66.194\n",
            "40.77.167.170\n",
            "66.249.66.91\n",
            "2.204.189.28\n",
            "66.249.66.194\n",
            "66.249.66.194\n",
            "66.249.66.194\n",
            "192.15.247.191\n",
            "192.15.247.191\n",
            "192.15.247.191\n",
            "5.160.157.20\n",
            "5.160.157.20\n",
            "5.113.251.33\n",
            "17.58.102.43\n",
            "192.15.247.191\n",
            "192.15.247.191\n",
            "176.58.102.207\n",
            "66.249.66.194\n",
            "66.249.66.194\n",
            "66.249.66.194\n",
            "40.77.167.170\n",
            "192.15.247.191\n",
            "17.58.102.43\n",
            "66.249.66.194\n",
            "66.249.66.194\n",
            "40.77.167.170\n",
            "204.18.175.72\n",
            "66.249.66.91\n",
            "66.249.66.194\n",
            "66.249.66.194\n",
            "63.143.42.243\n",
            "66.249.66.91\n",
            "37.156.61.40\n",
            "37.156.61.40\n",
            "37.156.61.40\n",
            "66.249.66.194\n",
            "37.156.61.40\n",
            "207.46.13.136\n",
            "66.249.66.91\n",
            "66.249.66.194\n",
            "54.36.148.29\n",
            "66.249.66.194\n",
            "40.77.167.170\n",
            "207.46.13.136\n",
            "66.249.66.194\n",
            "66.249.66.194\n",
            "66.249.66.194\n",
            "192.15.247.191\n",
            "207.46.13.136\n",
            "66.249.66.91\n",
            "164.215.218.89\n",
            "51.15.15.54\n",
            "207.46.13.136\n",
            "46.225.135.218\n",
            "46.225.135.218\n",
            "46.225.135.218\n",
            "46.225.135.218\n",
            "46.225.135.218\n",
            "46.225.135.218\n",
            "46.225.135.218\n",
            "5.215.2.31\n",
            "5.215.2.31\n",
            "46.225.135.218\n",
            "46.225.135.218\n",
            "46.225.135.218\n",
            "46.225.135.218\n",
            "46.225.135.218\n",
            "46.225.135.218\n",
            "46.225.135.218\n",
            "46.225.135.218\n",
            "46.225.135.218\n",
            "46.225.135.218\n",
            "46.225.135.218\n",
            "46.225.135.218\n",
            "46.225.135.218\n",
            "46.225.135.218\n",
            "46.225.135.218\n",
            "46.225.135.218\n",
            "46.225.135.218\n",
            "46.225.135.218\n",
            "46.225.135.218\n",
            "5.215.2.31\n",
            "46.225.135.218\n",
            "46.225.135.218\n",
            "5.215.2.31\n",
            "5.215.2.31\n",
            "5.215.2.31\n",
            "5.215.2.31\n",
            "46.225.135.218\n",
            "46.225.135.218\n",
            "46.225.135.218\n",
            "46.225.135.218\n",
            "46.225.135.218\n",
            "54.36.148.243\n",
            "46.225.135.218\n",
            "82.102.13.137\n",
            "188.158.38.30\n",
            "46.225.135.218\n",
            "204.18.175.72\n",
            "172.20.2.174\n",
            "204.18.175.72\n",
            "46.225.135.218\n",
            "5.215.2.31\n",
            "46.225.135.218\n",
            "46.225.135.218\n",
            "46.225.135.218\n",
            "46.225.135.218\n",
            "5.215.2.31\n",
            "5.215.2.31\n",
            "17.58.102.43\n",
            "66.249.66.194\n",
            "66.249.66.194\n",
            "66.249.66.194\n",
            "66.249.66.194\n",
            "204.18.175.72\n",
            "204.18.175.72\n",
            "66.249.66.194\n",
            "5.215.2.31\n",
            "172.80.205.91\n",
            "157.55.13.64\n",
            "66.249.66.194\n",
            "172.80.205.91\n",
            "172.80.205.91\n",
            "172.80.205.91\n",
            "172.80.205.91\n",
            "172.80.205.91\n",
            "172.80.205.91\n",
            "46.225.135.218\n",
            "66.249.66.91\n",
            "172.80.205.91\n",
            "172.80.205.91\n",
            "172.80.205.91\n",
            "172.80.205.91\n",
            "172.80.205.91\n",
            "172.80.205.91\n",
            "172.80.205.91\n",
            "172.80.205.91\n",
            "172.80.205.91\n",
            "172.80.205.91\n",
            "172.80.205.91\n",
            "172.80.205.91\n",
            "172.80.205.91\n",
            "54.36.149.21\n",
            "66.249.66.91\n",
            "172.80.205.91\n",
            "172.80.205.91\n",
            "172.80.205.91\n",
            "172.80.205.91\n",
            "172.80.205.91\n",
            "172.80.205.91\n",
            "172.80.205.91\n",
            "51.38.125.215\n",
            "172.80.205.91\n",
            "172.80.205.91\n",
            "172.80.205.91\n",
            "46.225.135.218\n",
            "172.80.205.91\n",
            "46.225.135.218\n",
            "40.77.167.170\n",
            "172.80.205.91\n",
            "172.80.205.91\n",
            "46.225.135.218\n",
            "192.15.247.191\n",
            "40.77.167.170\n",
            "66.249.66.91\n",
            "66.249.66.194\n",
            "34.247.132.53\n",
            "54.36.148.187\n",
            "40.77.167.170\n",
            "46.4.203.149\n",
            "192.15.247.191\n",
            "185.129.235.122\n",
            "192.15.247.191\n",
            "66.249.66.91\n",
            "66.249.66.91\n",
            "66.249.66.194\n",
            "172.80.205.91\n",
            "172.80.205.91\n",
            "172.80.205.91\n",
            "66.249.66.194\n",
            "172.80.205.91\n",
            "17.58.102.43\n",
            "66.249.66.91\n",
            "17.58.102.43\n",
            "40.77.167.170\n",
            "66.249.66.194\n",
            "66.249.66.194\n",
            "66.249.66.194\n",
            "66.249.66.194\n",
            "66.249.66.194\n",
            "192.15.247.191\n",
            "192.15.247.191\n",
            "192.15.247.191\n",
            "192.15.247.191\n",
            "40.77.167.170\n",
            "66.249.66.194\n",
            "66.249.66.194\n",
            "157.55.39.245\n",
            "66.249.66.91\n",
            "66.249.66.194\n",
            "54.36.148.156\n",
            "66.249.66.91\n",
            "54.36.149.7\n",
            "157.55.39.245\n",
            "54.36.148.254\n",
            "40.77.167.170\n",
            "54.36.148.229\n",
            "5.126.29.183\n",
            "66.249.66.194\n",
            "51.38.125.215\n",
            "51.15.15.54\n",
            "54.36.148.59\n",
            "66.249.66.91\n",
            "66.249.66.91\n",
            "40.77.167.170\n",
            "66.249.66.194\n",
            "66.249.66.194\n",
            "5.122.95.74\n",
            "54.36.148.55\n",
            "5.122.95.74\n",
            "172.80.205.91\n",
            "172.80.205.91\n",
            "66.249.66.194\n",
            "66.249.66.194\n",
            "66.249.66.194\n",
            "83.121.232.38\n",
            "172.20.2.174\n",
            "172.80.205.91\n",
            "83.121.232.38\n",
            "172.80.205.91\n",
            "54.36.148.95\n",
            "66.249.66.194\n",
            "172.80.205.91\n",
            "172.80.205.91\n",
            "172.80.205.91\n",
            "5.215.2.31\n",
            "5.215.2.31\n",
            "5.215.2.31\n",
            "66.249.66.194\n",
            "40.77.167.170\n",
            "66.249.66.91\n",
            "5.200.115.66\n",
            "172.80.205.91\n",
            "5.160.157.20\n",
            "5.160.157.20\n",
            "66.249.66.194\n",
            "66.249.66.91\n",
            "172.80.205.91\n",
            "54.36.148.42\n",
            "172.80.205.91\n",
            "172.80.205.91\n",
            "66.249.66.91\n",
            "172.80.205.91\n",
            "54.36.148.39\n",
            "66.249.66.194\n",
            "5.215.2.31\n",
            "66.249.66.194\n",
            "192.15.247.191\n",
            "54.36.148.35\n",
            "66.249.66.194\n",
            "192.15.247.191\n",
            "54.36.148.129\n",
            "66.249.66.91\n",
            "66.249.66.194\n",
            "54.36.148.47\n",
            "192.15.247.191\n",
            "192.15.247.191\n",
            "66.249.66.91\n",
            "66.249.66.194\n",
            "66.249.66.194\n",
            "40.77.167.170\n",
            "66.249.66.91\n",
            "66.249.66.194\n",
            "207.46.13.136\n",
            "66.249.66.194\n",
            "207.46.13.136\n",
            "66.249.66.91\n",
            "66.249.66.91\n",
            "66.249.66.194\n",
            "83.122.171.225\n",
            "54.36.148.160\n",
            "66.249.66.194\n",
            "207.46.13.136\n",
            "40.77.167.170\n",
            "66.249.66.91\n",
            "66.249.66.91\n",
            "213.207.229.63\n",
            "213.207.229.63\n",
            "66.249.66.194\n",
            "213.207.229.63\n",
            "40.77.167.170\n",
            "213.207.229.63\n",
            "213.207.229.63\n",
            "213.207.229.63\n",
            "213.207.229.63\n",
            "213.207.229.63\n",
            "213.207.229.63\n",
            "213.207.229.63\n",
            "213.207.229.63\n",
            "213.207.229.63\n",
            "213.207.229.63\n",
            "213.207.229.63\n",
            "213.207.229.63\n",
            "213.207.229.63\n",
            "213.207.229.63\n",
            "213.207.229.63\n",
            "213.207.229.63\n",
            "213.207.229.63\n",
            "213.207.229.63\n",
            "213.207.229.63\n",
            "213.207.229.63\n",
            "213.207.229.63\n",
            "66.249.66.194\n",
            "66.249.66.91\n",
            "54.36.148.18\n",
            "213.207.229.63\n",
            "213.207.229.63\n",
            "213.207.229.63\n",
            "213.207.229.63\n",
            "5.113.181.161\n",
            "5.122.95.74\n",
            "51.15.15.54\n",
            "207.46.13.136\n",
            "54.36.148.106\n",
            "207.46.13.136\n",
            "66.249.66.194\n",
            "192.15.247.191\n",
            "66.249.66.194\n",
            "172.20.2.174\n",
            "204.18.175.72\n",
            "66.249.66.194\n",
            "5.127.84.90\n",
            "66.249.66.91\n",
            "66.249.66.91\n",
            "158.58.95.21\n",
            "34.247.132.53\n",
            "207.46.13.136\n",
            "204.18.175.72\n",
            "66.249.66.194\n",
            "66.249.66.91\n",
            "204.18.175.72\n",
            "204.18.175.72\n",
            "207.46.13.136\n",
            "66.249.66.194\n",
            "192.15.247.191\n",
            "192.15.247.191\n",
            "213.207.229.63\n",
            "213.207.229.63\n",
            "213.207.229.63\n",
            "213.207.229.63\n",
            "54.36.148.224\n",
            "40.77.167.170\n",
            "192.15.247.191\n",
            "192.15.247.191\n",
            "157.55.39.245\n",
            "66.249.66.91\n",
            "5.127.84.90\n",
            "5.127.84.90\n",
            "66.249.66.91\n",
            "66.249.66.194\n",
            "54.36.148.71\n",
            "5.125.184.237\n",
            "66.249.66.194\n",
            "207.46.13.136\n",
            "66.249.66.91\n",
            "5.127.84.90\n",
            "5.125.184.237\n",
            "5.127.84.90\n",
            "5.127.84.90\n",
            "5.113.181.161\n",
            "5.125.184.237\n",
            "213.32.47.229\n",
            "192.15.247.191\n",
            "192.15.247.191\n",
            "5.125.184.237\n",
            "192.15.247.191\n",
            "54.36.149.84\n",
            "66.249.66.91\n",
            "66.249.66.91\n",
            "5.125.184.237\n",
            "5.113.251.33\n",
            "192.15.247.191\n",
            "192.15.247.191\n",
            "192.15.247.191\n",
            "5.127.84.90\n",
            "5.127.84.90\n",
            "5.127.84.90\n",
            "5.127.84.90\n",
            "5.127.84.90\n",
            "5.127.84.90\n",
            "213.32.47.229\n",
            "5.127.84.90\n",
            "5.127.84.90\n",
            "5.122.95.74\n",
            "5.127.84.90\n",
            "5.122.95.74\n",
            "5.122.95.74\n",
            "89.199.165.30\n",
            "5.127.84.90\n",
            "5.212.29.195\n",
            "66.249.66.91\n",
            "5.127.84.90\n",
            "207.46.13.136\n",
            "54.36.148.209\n",
            "5.127.84.90\n",
            "5.127.84.90\n",
            "5.127.84.90\n",
            "213.32.47.229\n",
            "5.127.84.90\n",
            "66.249.66.91\n",
            "54.36.149.89\n",
            "66.249.66.91\n",
            "5.127.84.90\n",
            "5.127.84.90\n",
            "213.32.47.229\n",
            "5.127.84.90\n",
            "5.127.84.90\n",
            "213.32.47.229\n",
            "213.32.47.229\n",
            "157.55.39.245\n",
            "213.32.47.229\n",
            "66.249.66.194\n",
            "213.32.47.229\n",
            "5.127.84.90\n",
            "5.127.84.90\n",
            "66.249.66.194\n",
            "5.127.84.90\n",
            "5.127.84.90\n",
            "91.99.72.15\n",
            "213.32.47.229\n",
            "204.18.139.145\n",
            "5.127.84.90\n",
            "66.249.66.194\n",
            "5.127.84.90\n",
            "213.32.47.229\n",
            "213.32.47.229\n",
            "66.249.66.91\n",
            "5.62.222.160\n",
            "207.46.13.136\n",
            "213.32.47.229\n",
            "66.249.66.194\n",
            "5.127.84.90\n",
            "5.127.84.90\n",
            "66.249.66.91\n",
            "5.127.84.90\n",
            "204.18.175.72\n",
            "5.127.84.90\n",
            "54.36.149.89\n",
            "204.18.139.145\n",
            "204.18.139.145\n",
            "91.99.72.15\n",
            "5.127.84.90\n",
            "5.127.84.90\n",
            "5.127.84.90\n",
            "5.127.84.90\n",
            "5.127.84.90\n",
            "5.127.84.90\n",
            "207.46.13.136\n",
            "204.18.175.72\n",
            "5.62.222.160\n",
            "91.99.72.15\n",
            "5.127.84.90\n",
            "5.127.84.90\n",
            "5.127.84.90\n",
            "5.127.84.90\n",
            "5.127.84.90\n",
            "5.127.84.90\n",
            "91.99.72.15\n",
            "5.127.84.90\n",
            "5.127.84.90\n",
            "5.127.84.90\n",
            "5.127.84.90\n",
            "5.127.84.90\n",
            "5.127.84.90\n",
            "5.62.222.160\n",
            "5.127.84.90\n",
            "5.127.84.90\n",
            "54.36.148.247\n",
            "5.127.84.90\n",
            "5.127.84.90\n",
            "5.127.84.90\n",
            "5.127.84.90\n",
            "69.162.124.234\n",
            "5.127.84.90\n",
            "5.127.84.90\n",
            "5.127.84.90\n",
            "54.36.148.66\n",
            "5.127.84.90\n",
            "5.127.84.90\n",
            "5.127.84.90\n",
            "5.127.84.90\n",
            "5.127.84.90\n",
            "5.127.84.90\n",
            "5.127.84.90\n",
            "5.127.84.90\n",
            "5.127.84.90\n",
            "5.127.84.90\n",
            "5.127.84.90\n",
            "5.127.84.90\n",
            "5.125.184.237\n",
            "5.127.84.90\n",
            "5.127.84.90\n",
            "5.127.84.90\n",
            "5.127.84.90\n",
            "5.127.84.90\n",
            "66.249.66.91\n",
            "5.127.84.90\n",
            "5.127.84.90\n",
            "69.162.124.234\n",
            "5.127.84.90\n",
            "5.127.84.90\n",
            "5.127.84.90\n",
            "5.127.84.90\n",
            "5.127.84.90\n",
            "5.127.84.90\n",
            "5.127.84.90\n",
            "5.127.84.90\n",
            "5.127.84.90\n",
            "5.127.84.90\n",
            "5.127.84.90\n",
            "5.127.84.90\n",
            "66.249.66.91\n",
            "5.62.222.160\n",
            "5.62.222.160\n",
            "5.62.222.160\n",
            "5.62.222.160\n",
            "5.62.222.160\n",
            "5.113.181.161\n",
            "5.62.222.160\n",
            "5.127.84.90\n",
            "5.125.184.237\n",
            "54.36.148.16\n",
            "207.46.13.136\n",
            "5.125.184.237\n",
            "40.77.167.170\n",
            "5.125.184.237\n",
            "5.125.184.237\n",
            "66.249.66.194\n",
            "207.46.13.136\n",
            "66.249.66.91\n",
            "66.249.66.194\n",
            "17.58.102.43\n",
            "51.15.15.54\n",
            "5.62.222.160\n",
            "40.77.167.170\n",
            "207.46.13.136\n",
            "5.62.222.160\n",
            "66.249.66.194\n",
            "66.249.66.91\n",
            "66.249.66.91\n",
            "5.160.157.20\n",
            "5.160.157.20\n",
            "66.249.66.194\n",
            "66.249.66.194\n",
            "5.62.222.160\n",
            "66.249.66.91\n",
            "5.62.222.160\n",
            "66.249.66.91\n",
            "207.46.13.136\n",
            "172.20.2.174\n",
            "46.4.203.149\n",
            "5.62.222.160\n",
            "40.77.167.170\n",
            "54.36.149.78\n",
            "66.249.66.91\n",
            "91.99.72.15\n",
            "46.4.203.149\n",
            "91.99.72.15\n",
            "91.99.72.15\n",
            "66.249.66.91\n",
            "207.46.13.136\n",
            "66.249.66.91\n",
            "66.249.66.91\n",
            "91.99.72.15\n",
            "66.249.66.194\n",
            "66.249.66.194\n",
            "5.124.26.80\n",
            "46.4.203.149\n",
            "207.46.13.136\n",
            "5.113.251.33\n",
            "207.46.13.136\n",
            "5.62.222.160\n",
            "40.77.167.170\n",
            "5.62.222.160\n",
            "5.62.222.160\n",
            "5.62.222.160\n",
            "5.62.222.160\n",
            "5.62.222.160\n",
            "5.62.222.160\n",
            "5.62.222.160\n",
            "5.62.222.160\n",
            "5.62.222.160\n",
            "5.62.222.160\n",
            "66.249.66.194\n",
            "5.62.222.160\n",
            "66.249.66.194\n",
            "66.249.66.194\n",
            "5.62.222.160\n",
            "5.62.222.160\n",
            "5.62.222.160\n",
            "66.249.66.194\n",
            "66.249.66.91\n",
            "66.249.66.91\n",
            "207.46.13.136\n",
            "66.249.66.91\n",
            "40.77.193.13\n",
            "91.99.72.15\n",
            "66.249.66.194\n",
            "91.99.72.15\n",
            "91.99.72.15\n",
            "5.125.184.237\n",
            "5.126.29.183\n",
            "5.125.184.237\n",
            "66.249.66.194\n",
            "91.99.72.15\n",
            "5.125.184.237\n",
            "5.125.184.237\n",
            "66.249.66.91\n",
            "5.62.222.160\n",
            "5.125.184.237\n",
            "66.249.66.91\n",
            "66.249.66.194\n",
            "5.125.184.237\n",
            "66.249.66.91\n",
            "5.125.184.237\n",
            "66.249.66.194\n",
            "207.46.13.136\n",
            "66.249.66.91\n",
            "157.55.39.245\n",
            "66.249.66.194\n",
            "66.249.66.91\n",
            "66.249.66.91\n",
            "5.62.222.160\n",
            "5.62.222.160\n",
            "5.62.222.160\n",
            "66.249.66.194\n",
            "54.36.148.156\n",
            "66.249.66.194\n",
            "66.249.66.194\n",
            "66.249.66.194\n",
            "5.62.222.160\n",
            "66.249.66.194\n",
            "157.55.39.245\n",
            "207.46.13.136\n",
            "54.36.148.235\n",
            "66.249.66.91\n",
            "5.113.251.33\n",
            "66.249.66.91\n",
            "5.113.181.161\n",
            "66.249.66.91\n",
            "207.46.13.136\n",
            "5.113.251.33\n",
            "40.77.167.170\n",
            "34.247.132.53\n",
            "66.249.66.199\n",
            "5.125.184.237\n",
            "66.249.66.194\n",
            "5.125.184.237\n",
            "66.249.66.91\n",
            "5.125.184.237\n",
            "5.125.184.237\n",
            "157.55.39.245\n",
            "66.249.66.194\n",
            "40.77.167.170\n",
            "66.249.66.91\n",
            "51.15.15.54\n",
            "66.249.66.198\n",
            "66.249.66.199\n",
            "207.46.13.136\n",
            "91.99.72.15\n",
            "91.99.72.15\n",
            "40.77.167.170\n",
            "63.143.42.246\n",
            "66.249.66.197\n",
            "66.249.66.91\n",
            "66.249.66.91\n",
            "66.249.66.197\n",
            "91.99.72.15\n",
            "66.249.66.198\n",
            "66.249.66.91\n",
            "40.77.167.170\n",
            "63.143.42.246\n",
            "54.36.148.16\n",
            "91.99.72.15\n",
            "66.249.66.197\n",
            "172.20.2.174\n",
            "157.55.39.245\n",
            "66.249.66.197\n",
            "66.249.66.197\n",
            "40.77.167.170\n",
            "66.249.66.197\n",
            "207.46.13.136\n",
            "207.46.13.136\n",
            "54.36.148.235\n",
            "157.55.39.245\n",
            "66.249.66.194\n",
            "66.249.66.195\n",
            "207.46.13.136\n",
            "66.249.66.199\n",
            "207.46.13.136\n",
            "66.249.66.195\n",
            "66.249.66.194\n",
            "66.249.66.194\n",
            "204.18.175.72\n",
            "66.249.66.194\n",
            "66.249.66.195\n",
            "157.55.39.245\n",
            "66.249.66.194\n",
            "204.18.175.72\n",
            "66.249.66.194\n",
            "207.46.13.136\n",
            "195.154.122.226\n",
            "66.249.66.194\n",
            "195.154.122.226\n",
            "195.154.122.226\n",
            "66.249.66.194\n",
            "204.18.175.72\n",
            "195.154.122.226\n",
            "37.9.113.152\n",
            "204.18.175.72\n",
            "204.18.175.72\n",
            "204.18.175.72\n",
            "66.249.66.195\n",
            "66.249.66.194\n",
            "207.46.13.136\n",
            "157.55.39.245\n",
            "195.154.122.226\n",
            "66.249.66.194\n",
            "37.9.113.152\n",
            "40.77.167.170\n",
            "66.249.66.194\n",
            "5.62.222.160\n",
            "207.46.13.136\n",
            "66.249.66.194\n",
            "91.99.72.15\n",
            "66.249.66.91\n",
            "66.249.66.194\n",
            "66.249.66.194\n",
            "157.55.39.245\n",
            "91.99.72.15\n",
            "66.249.66.194\n",
            "40.77.167.170\n",
            "54.36.148.22\n",
            "66.249.66.194\n",
            "91.99.72.15\n",
            "5.62.222.160\n",
            "5.62.222.160\n",
            "91.99.72.15\n",
            "123.125.71.43\n",
            "40.77.167.170\n",
            "66.249.66.194\n",
            "5.62.222.160\n",
            "66.249.66.91\n",
            "5.160.157.20\n",
            "5.160.157.20\n",
            "40.77.167.170\n",
            "157.55.39.245\n",
            "66.249.66.194\n",
            "5.62.222.160\n",
            "5.62.222.160\n",
            "66.249.66.194\n",
            "157.55.39.245\n",
            "123.125.71.31\n",
            "66.249.66.91\n",
            "5.62.222.160\n",
            "66.249.66.91\n",
            "66.249.66.194\n",
            "40.77.167.170\n",
            "151.235.137.158\n",
            "66.249.66.194\n",
            "207.46.13.136\n",
            "66.249.66.194\n",
            "66.249.66.194\n",
            "54.36.148.197\n",
            "66.249.66.91\n",
            "66.249.66.194\n",
            "54.36.148.148\n",
            "51.15.15.54\n",
            "207.46.13.136\n",
            "54.36.148.171\n",
            "66.249.66.91\n",
            "66.249.66.194\n",
            "157.55.39.245\n",
            "172.20.2.174\n",
            "66.249.66.194\n",
            "54.36.149.70\n",
            "66.249.66.194\n",
            "66.249.66.91\n",
            "54.36.148.243\n",
            "5.62.222.160\n",
            "66.249.66.91\n",
            "66.249.66.194\n",
            "66.249.66.91\n",
            "40.77.167.170\n",
            "5.62.222.160\n",
            "5.62.222.160\n",
            "5.62.222.160\n",
            "5.62.222.160\n",
            "5.62.222.160\n",
            "66.249.66.194\n",
            "5.62.222.160\n",
            "5.62.222.160\n",
            "5.62.222.160\n",
            "5.62.222.160\n",
            "5.62.222.160\n",
            "66.249.66.91\n",
            "40.77.167.170\n",
            "151.238.157.22\n",
            "66.249.66.91\n",
            "5.117.167.217\n",
            "40.77.167.170\n",
            "91.99.72.15\n",
            "66.249.66.194\n",
            "151.238.157.22\n",
            "66.249.66.194\n",
            "151.238.157.22\n",
            "91.99.72.15\n",
            "66.249.66.91\n",
            "151.238.157.22\n",
            "151.238.157.22\n",
            "91.99.72.15\n",
            "66.249.66.194\n",
            "66.249.66.194\n",
            "91.99.72.15\n",
            "151.238.157.22\n",
            "66.249.66.195\n",
            "66.249.66.194\n",
            "66.249.66.194\n",
            "151.238.157.22\n",
            "66.249.66.91\n",
            "151.238.157.22\n",
            "194.94.127.7\n",
            "104.248.138.218\n",
            "194.94.127.7\n",
            "194.94.127.7\n",
            "194.94.127.7\n",
            "194.94.127.7\n",
            "194.94.127.7\n",
            "194.94.127.7\n",
            "194.94.127.7\n",
            "194.94.127.7\n",
            "194.94.127.7\n",
            "194.94.127.7\n",
            "194.94.127.7\n",
            "66.249.66.91\n",
            "194.94.127.7\n",
            "104.248.138.218\n",
            "104.248.138.218\n",
            "194.94.127.7\n",
            "194.94.127.7\n",
            "104.248.138.218\n",
            "151.238.157.22\n",
            "104.248.138.218\n",
            "104.248.138.218\n",
            "104.248.138.218\n",
            "104.248.138.218\n",
            "151.238.157.22\n",
            "194.94.127.7\n",
            "66.249.66.195\n",
            "66.249.66.194\n",
            "66.249.66.91\n",
            "34.247.132.53\n",
            "66.249.66.91\n",
            "66.249.66.194\n",
            "66.249.66.91\n",
            "54.36.148.243\n",
            "204.18.175.72\n",
            "66.249.66.91\n",
            "66.249.66.91\n",
            "204.18.175.72\n",
            "66.249.66.194\n",
            "194.94.127.7\n",
            "194.94.127.7\n",
            "194.94.127.7\n",
            "194.94.127.7\n",
            "194.94.127.7\n",
            "194.94.127.7\n",
            "194.94.127.7\n",
            "194.94.127.7\n",
            "194.94.127.7\n",
            "194.94.127.7\n",
            "194.94.127.7\n",
            "194.94.127.7\n",
            "194.94.127.7\n",
            "194.94.127.7\n",
            "194.94.127.7\n",
            "194.94.127.7\n",
            "194.94.127.7\n",
            "194.94.127.7\n",
            "194.94.127.7\n",
            "194.94.127.7\n",
            "194.94.127.7\n",
            "194.94.127.7\n",
            "194.94.127.7\n",
            "194.94.127.7\n",
            "194.94.127.7\n",
            "194.94.127.7\n",
            "194.94.127.7\n",
            "194.94.127.7\n",
            "194.94.127.7\n",
            "194.94.127.7\n",
            "194.94.127.7\n",
            "194.94.127.7\n",
            "194.94.127.7\n",
            "194.94.127.7\n",
            "194.94.127.7\n",
            "194.94.127.7\n",
            "51.38.125.215\n",
            "194.94.127.7\n",
            "194.94.127.7\n",
            "194.94.127.7\n",
            "194.94.127.7\n",
            "194.94.127.7\n",
            "194.94.127.7\n",
            "66.249.66.194\n",
            "194.94.127.7\n",
            "194.94.127.7\n",
            "194.94.127.7\n",
            "194.94.127.7\n",
            "194.94.127.7\n",
            "194.94.127.7\n",
            "194.94.127.7\n",
            "194.94.127.7\n",
            "194.94.127.7\n",
            "194.94.127.7\n",
            "194.94.127.7\n",
            "194.94.127.7\n",
            "194.94.127.7\n",
            "194.94.127.7\n",
            "194.94.127.7\n",
            "194.94.127.7\n",
            "194.94.127.7\n",
            "194.94.127.7\n",
            "194.94.127.7\n",
            "194.94.127.7\n",
            "194.94.127.7\n",
            "194.94.127.7\n",
            "194.94.127.7\n",
            "194.94.127.7\n",
            "66.249.66.194\n",
            "194.94.127.7\n",
            "40.77.167.170\n",
            "194.94.127.7\n",
            "194.94.127.7\n",
            "194.94.127.7\n",
            "194.94.127.7\n",
            "194.94.127.7\n",
            "194.94.127.7\n",
            "194.94.127.7\n",
            "194.94.127.7\n",
            "66.249.66.194\n",
            "194.94.127.7\n",
            "194.94.127.7\n",
            "194.94.127.7\n",
            "194.94.127.7\n",
            "194.94.127.7\n",
            "66.249.66.194\n",
            "194.94.127.7\n",
            "194.94.127.7\n",
            "194.94.127.7\n",
            "194.94.127.7\n",
            "194.94.127.7\n",
            "194.94.127.7\n",
            "194.94.127.7\n",
            "194.94.127.7\n",
            "194.94.127.7\n",
            "194.94.127.7\n",
            "194.94.127.7\n",
            "194.94.127.7\n",
            "194.94.127.7\n",
            "194.94.127.7\n",
            "194.94.127.7\n",
            "194.94.127.7\n",
            "194.94.127.7\n",
            "194.94.127.7\n",
            "194.94.127.7\n",
            "194.94.127.7\n",
            "194.94.127.7\n",
            "194.94.127.7\n",
            "194.94.127.7\n",
            "194.94.127.7\n",
            "194.94.127.7\n",
            "194.94.127.7\n",
            "194.94.127.7\n",
            "194.94.127.7\n",
            "194.94.127.7\n",
            "194.94.127.7\n",
            "194.94.127.7\n",
            "194.94.127.7\n",
            "194.94.127.7\n",
            "194.94.127.7\n",
            "194.94.127.7\n",
            "194.94.127.7\n",
            "194.94.127.7\n",
            "194.94.127.7\n",
            "194.94.127.7\n",
            "194.94.127.7\n",
            "194.94.127.7\n",
            "194.94.127.7\n",
            "194.94.127.7\n",
            "66.249.66.91\n",
            "194.94.127.7\n",
            "194.94.127.7\n",
            "194.94.127.7\n",
            "194.94.127.7\n",
            "194.94.127.7\n",
            "194.94.127.7\n",
            "194.94.127.7\n",
            "194.94.127.7\n",
            "194.94.127.7\n",
            "194.94.127.7\n",
            "194.94.127.7\n",
            "194.94.127.7\n",
            "194.94.127.7\n",
            "194.94.127.7\n",
            "194.94.127.7\n",
            "194.94.127.7\n",
            "194.94.127.7\n",
            "194.94.127.7\n",
            "194.94.127.7\n",
            "194.94.127.7\n",
            "194.94.127.7\n",
            "194.94.127.7\n",
            "66.249.66.194\n",
            "194.94.127.7\n",
            "194.94.127.7\n",
            "194.94.127.7\n",
            "194.94.127.7\n",
            "194.94.127.7\n",
            "194.94.127.7\n",
            "194.94.127.7\n",
            "194.94.127.7\n",
            "194.94.127.7\n",
            "194.94.127.7\n",
            "194.94.127.7\n",
            "194.94.127.7\n",
            "194.94.127.7\n",
            "194.94.127.7\n",
            "194.94.127.7\n",
            "194.94.127.7\n",
            "194.94.127.7\n",
            "194.94.127.7\n",
            "194.94.127.7\n",
            "40.77.167.170\n",
            "66.249.66.194\n",
            "54.36.148.62\n",
            "194.94.127.7\n",
            "194.94.127.7\n",
            "194.94.127.7\n",
            "51.15.15.54\n",
            "194.94.127.7\n",
            "194.94.127.7\n",
            "194.94.127.7\n",
            "194.94.127.7\n",
            "194.94.127.7\n",
            "194.94.127.7\n",
            "194.94.127.7\n",
            "194.94.127.7\n",
            "66.249.66.91\n",
            "194.94.127.7\n",
            "194.94.127.7\n",
            "194.94.127.7\n",
            "194.94.127.7\n",
            "194.94.127.7\n",
            "194.94.127.7\n",
            "194.94.127.7\n",
            "194.94.127.7\n",
            "194.94.127.7\n",
            "194.94.127.7\n",
            "194.94.127.7\n",
            "194.94.127.7\n",
            "194.94.127.7\n",
            "194.94.127.7\n",
            "66.249.66.194\n",
            "194.94.127.7\n",
            "194.94.127.7\n",
            "194.94.127.7\n",
            "194.94.127.7\n",
            "194.94.127.7\n",
            "194.94.127.7\n",
            "194.94.127.7\n",
            "194.94.127.7\n",
            "194.94.127.7\n",
            "194.94.127.7\n",
            "194.94.127.7\n",
            "194.94.127.7\n",
            "194.94.127.7\n",
            "194.94.127.7\n",
            "194.94.127.7\n",
            "194.94.127.7\n",
            "194.94.127.7\n",
            "194.94.127.7\n",
            "194.94.127.7\n",
            "194.94.127.7\n",
            "194.94.127.7\n",
            "194.94.127.7\n",
            "194.94.127.7\n",
            "194.94.127.7\n",
            "194.94.127.7\n",
            "194.94.127.7\n",
            "194.94.127.7\n",
            "194.94.127.7\n",
            "194.94.127.7\n",
            "194.94.127.7\n",
            "194.94.127.7\n",
            "194.94.127.7\n",
            "66.249.66.91\n",
            "66.249.66.194\n",
            "194.94.127.7\n",
            "66.249.66.91\n",
            "69.162.124.229\n",
            "194.94.127.7\n",
            "195.154.123.43\n",
            "195.154.123.43\n",
            "195.154.123.43\n",
            "54.36.148.168\n",
            "69.162.124.229\n",
            "17.58.102.43\n",
            "195.154.123.43\n",
            "66.249.66.194\n",
            "66.249.66.194\n",
            "104.248.138.218\n",
            "172.20.2.174\n",
            "63.143.42.243\n",
            "66.249.66.194\n",
            "195.154.123.43\n",
            "17.58.102.43\n",
            "5.62.160.31\n",
            "66.249.66.194\n",
            "5.62.160.31\n",
            "66.249.66.194\n",
            "13.66.139.0\n",
            "66.249.66.194\n",
            "5.62.222.160\n",
            "51.38.125.215\n",
            "66.249.66.194\n",
            "66.249.66.91\n",
            "66.249.66.194\n",
            "66.249.66.91\n",
            "66.249.66.194\n",
            "66.249.66.194\n",
            "5.62.222.160\n",
            "93.110.220.181\n",
            "5.62.222.160\n",
            "91.99.72.15\n",
            "66.249.66.194\n",
            "63.143.42.242\n",
            "93.110.220.181\n",
            "91.99.72.15\n",
            "66.249.66.91\n",
            "63.143.42.242\n",
            "5.62.222.160\n",
            "5.62.222.160\n",
            "66.249.66.91\n",
            "91.99.72.15\n",
            "5.113.144.102\n",
            "66.249.66.194\n",
            "91.99.72.15\n",
            "5.160.157.20\n",
            "5.160.157.20\n",
            "93.110.220.181\n",
            "93.110.220.181\n",
            "93.110.220.181\n",
            "66.249.66.91\n",
            "66.249.66.194\n",
            "93.110.220.181\n",
            "66.249.66.194\n",
            "93.110.220.181\n",
            "66.249.66.194\n",
            "93.110.220.181\n",
            "93.110.220.181\n",
            "93.110.220.181\n",
            "93.110.220.181\n",
            "93.110.220.181\n",
            "93.110.220.181\n",
            "93.110.220.181\n",
            "5.62.222.160\n",
            "93.110.220.181\n",
            "93.110.220.181\n",
            "93.110.220.181\n",
            "93.110.220.181\n",
            "66.249.66.194\n",
            "93.110.220.181\n",
            "93.110.220.181\n",
            "93.110.220.181\n",
            "93.110.220.181\n",
            "93.110.220.181\n",
            "66.249.66.194\n",
            "93.110.220.181\n",
            "93.110.220.181\n",
            "93.110.220.181\n",
            "93.110.220.181\n",
            "93.110.220.181\n",
            "5.214.213.183\n",
            "93.110.220.181\n",
            "66.249.66.194\n",
            "93.110.220.181\n",
            "93.110.220.181\n",
            "66.249.66.194\n",
            "63.143.42.246\n",
            "93.110.220.181\n",
            "66.249.66.91\n",
            "93.110.220.181\n",
            "93.110.220.181\n",
            "93.110.220.181\n",
            "93.110.220.181\n",
            "93.110.220.181\n",
            "93.110.220.181\n",
            "93.110.220.181\n",
            "93.110.220.181\n",
            "93.110.220.181\n",
            "93.110.220.181\n",
            "93.110.220.181\n",
            "93.110.220.181\n",
            "93.110.220.181\n",
            "93.110.220.181\n",
            "63.143.42.246\n",
            "93.110.220.181\n",
            "93.110.220.181\n",
            "93.110.220.181\n",
            "93.110.220.181\n",
            "93.110.220.181\n",
            "93.110.220.181\n",
            "93.110.220.181\n",
            "66.249.66.195\n",
            "66.249.66.194\n",
            "93.110.220.181\n",
            "93.110.220.181\n",
            "93.110.220.181\n",
            "66.249.66.194\n",
            "93.110.220.181\n",
            "93.110.220.181\n",
            "93.110.220.181\n",
            "93.110.220.181\n",
            "93.110.220.181\n",
            "93.110.220.181\n",
            "93.110.220.181\n",
            "93.110.220.181\n",
            "93.110.220.181\n",
            "93.110.220.181\n",
            "93.110.220.181\n",
            "66.249.66.91\n",
            "93.110.220.181\n",
            "93.110.220.181\n",
            "93.110.220.181\n",
            "93.110.220.181\n",
            "93.110.220.181\n",
            "93.110.220.181\n",
            "93.110.220.181\n",
            "93.110.220.181\n",
            "93.110.220.181\n",
            "93.110.220.181\n",
            "93.110.220.181\n",
            "93.110.220.181\n",
            "93.110.220.181\n",
            "93.110.220.181\n",
            "93.110.220.181\n",
            "93.110.220.181\n",
            "40.77.167.170\n",
            "93.110.220.181\n",
            "93.110.220.181\n",
            "93.110.220.181\n",
            "93.110.220.181\n",
            "93.110.220.181\n",
            "93.110.220.181\n",
            "66.249.66.194\n",
            "66.249.66.194\n",
            "66.249.66.91\n",
            "5.62.222.160\n",
            "207.46.13.136\n",
            "93.110.220.181\n",
            "93.110.220.181\n",
            "13.66.139.0\n",
            "66.249.66.194\n",
            "66.249.66.194\n",
            "5.160.157.20\n",
            "40.77.167.170\n",
            "40.77.167.170\n",
            "5.62.222.160\n",
            "5.62.222.160\n",
            "40.77.167.170\n",
            "51.15.15.54\n",
            "5.113.18.169\n",
            "104.248.138.218\n",
            "207.46.13.136\n",
            "5.113.144.102\n",
            "5.62.222.160\n",
            "5.117.202.46\n",
            "46.225.135.218\n",
            "46.225.135.218\n",
            "46.225.135.218\n",
            "204.18.175.72\n",
            "204.18.175.72\n",
            "204.18.175.72\n",
            "207.46.13.136\n",
            "5.62.222.160\n",
            "192.15.247.191\n",
            "172.20.2.174\n",
            "5.113.144.102\n",
            "5.113.144.102\n",
            "66.249.66.91\n",
            "207.46.13.136\n",
            "5.113.144.102\n",
            "5.113.144.102\n",
            "66.249.66.91\n",
            "5.113.144.102\n",
            "5.113.144.102\n",
            "5.113.144.102\n",
            "192.15.247.191\n",
            "5.113.144.102\n",
            "207.46.13.136\n",
            "5.113.144.102\n",
            "93.110.220.181\n",
            "5.113.144.102\n",
            "5.113.144.102\n",
            "207.46.13.136\n",
            "54.36.148.167\n",
            "93.110.220.181\n",
            "5.113.144.102\n",
            "93.110.220.181\n",
            "17.58.102.43\n",
            "207.46.13.136\n",
            "93.110.220.181\n",
            "93.110.220.181\n",
            "93.110.220.181\n",
            "93.110.220.181\n",
            "93.110.220.181\n",
            "5.113.144.102\n",
            "5.113.18.169\n",
            "93.110.220.181\n",
            "93.110.220.181\n",
            "5.113.144.102\n",
            "93.110.220.181\n",
            "93.110.220.181\n",
            "93.110.220.181\n",
            "93.110.220.181\n",
            "93.110.220.181\n",
            "93.110.220.181\n",
            "93.110.220.181\n",
            "93.110.220.181\n",
            "93.110.220.181\n",
            "93.110.220.181\n",
            "93.110.220.181\n",
            "93.110.220.181\n",
            "5.113.144.102\n",
            "93.110.220.181\n",
            "93.110.220.181\n",
            "93.110.220.181\n",
            "93.110.220.181\n",
            "5.113.144.102\n",
            "5.113.144.102\n",
            "5.113.144.102\n",
            "66.249.66.194\n",
            "5.113.144.102\n",
            "5.113.144.102\n",
            "5.113.144.102\n",
            "5.113.144.102\n",
            "5.113.144.102\n",
            "5.113.18.169\n",
            "5.113.144.102\n",
            "5.113.144.102\n",
            "207.46.13.136\n",
            "66.249.66.91\n",
            "5.113.144.102\n",
            "5.113.144.102\n",
            "5.113.144.102\n",
            "40.77.167.170\n",
            "207.46.13.136\n",
            "91.99.72.15\n",
            "40.77.167.170\n",
            "5.113.144.102\n",
            "5.113.144.102\n",
            "17.58.102.43\n",
            "5.113.144.102\n",
            "66.249.66.194\n",
            "66.249.66.194\n",
            "93.110.220.181\n",
            "93.110.220.181\n",
            "93.110.220.181\n",
            "93.110.220.181\n",
            "93.110.220.181\n",
            "93.110.220.181\n",
            "93.110.220.181\n",
            "93.110.220.181\n",
            "93.110.220.181\n",
            "91.99.72.15\n",
            "93.110.220.181\n",
            "93.110.220.181\n",
            "93.110.220.181\n",
            "93.110.220.181\n",
            "93.110.220.181\n",
            "93.110.220.181\n",
            "66.249.66.91\n",
            "40.77.167.170\n",
            "66.249.66.194\n",
            "91.99.72.15\n",
            "91.99.72.15\n",
            "5.117.167.217\n",
            "66.249.66.194\n",
            "54.36.148.99\n",
            "5.113.144.102\n",
            "5.113.144.102\n",
            "66.249.66.91\n",
            "192.15.247.191\n",
            "34.247.132.53\n",
            "192.15.247.191\n",
            "66.249.66.91\n",
            "66.249.66.194\n",
            "192.15.247.191\n",
            "192.15.247.191\n",
            "192.15.247.191\n",
            "192.15.247.191\n",
            "192.15.247.191\n",
            "192.15.247.191\n",
            "104.248.138.218\n",
            "5.117.222.245\n",
            "192.15.247.191\n",
            "192.15.247.191\n",
            "192.15.247.191\n",
            "66.249.66.91\n",
            "192.15.247.191\n",
            "66.249.66.194\n",
            "192.15.247.191\n",
            "192.15.247.191\n",
            "192.15.247.191\n",
            "192.15.247.191\n",
            "192.15.247.191\n",
            "192.15.247.191\n",
            "66.249.66.194\n",
            "66.249.66.194\n",
            "66.249.66.91\n",
            "66.249.66.194\n",
            "66.249.66.91\n",
            "66.249.66.194\n",
            "66.249.66.194\n",
            "5.117.222.245\n",
            "207.46.13.136\n",
            "66.249.66.194\n",
            "5.212.57.77\n",
            "157.55.39.245\n",
            "5.212.57.77\n",
            "66.249.66.194\n",
            "5.212.57.77\n",
            "5.212.57.77\n",
            "5.212.57.77\n",
            "5.212.57.77\n",
            "5.212.57.77\n",
            "54.36.148.32\n",
            "5.113.144.102\n",
            "5.113.144.102\n",
            "5.113.144.102\n",
            "40.77.167.170\n",
            "66.249.66.194\n",
            "66.249.66.91\n",
            "5.211.32.40\n",
            "66.249.66.194\n",
            "5.212.57.77\n",
            "66.249.66.91\n",
            "66.249.66.91\n",
            "157.55.39.245\n",
            "207.46.13.136\n",
            "5.127.223.190\n",
            "157.55.39.245\n",
            "5.117.222.245\n",
            "5.127.223.190\n",
            "5.127.223.190\n",
            "5.127.223.190\n",
            "5.127.223.190\n",
            "5.127.223.190\n",
            "5.127.223.190\n",
            "207.46.13.136\n",
            "93.110.220.181\n",
            "5.113.144.102\n",
            "93.110.220.181\n",
            "93.110.220.181\n",
            "93.110.220.181\n",
            "93.110.220.181\n",
            "93.110.220.181\n",
            "93.110.220.181\n",
            "93.110.220.181\n",
            "93.110.220.181\n",
            "66.249.66.194\n",
            "51.15.15.54\n",
            "5.127.223.190\n",
            "5.127.223.190\n",
            "5.127.223.190\n",
            "5.127.223.190\n",
            "5.127.223.190\n",
            "5.127.223.190\n",
            "5.127.223.190\n",
            "157.55.39.245\n",
            "66.249.66.91\n",
            "17.58.102.43\n",
            "5.127.223.190\n",
            "66.249.66.194\n",
            "66.249.66.91\n",
            "5.127.223.190\n",
            "5.127.223.190\n",
            "5.127.223.190\n",
            "40.77.167.170\n",
            "66.249.66.194\n",
            "207.46.13.136\n",
            "146.185.154.135\n",
            "17.58.102.43\n",
            "93.110.220.181\n",
            "5.127.223.190\n",
            "5.127.223.190\n",
            "93.110.220.181\n",
            "93.110.220.181\n",
            "93.110.220.181\n",
            "93.110.220.181\n",
            "93.110.220.181\n",
            "93.110.220.181\n",
            "93.110.220.181\n",
            "93.110.220.181\n",
            "66.249.66.194\n",
            "93.110.220.181\n",
            "93.110.220.181\n",
            "172.20.2.174\n",
            "66.249.66.194\n",
            "66.249.66.194\n",
            "66.249.66.91\n",
            "207.46.13.136\n",
            "91.99.72.15\n",
            "91.99.72.15\n",
            "66.249.66.194\n",
            "51.38.125.215\n",
            "66.249.66.194\n",
            "5.62.222.160\n",
            "91.99.72.15\n",
            "5.127.223.190\n",
            "5.127.223.190\n",
            "5.127.223.190\n",
            "5.127.223.190\n",
            "5.127.223.190\n",
            "5.127.223.190\n",
            "66.249.66.91\n",
            "91.99.72.15\n",
            "93.110.220.181\n",
            "5.127.223.190\n",
            "5.127.223.190\n",
            "5.127.223.190\n",
            "93.110.220.181\n",
            "93.110.220.181\n",
            "93.110.220.181\n",
            "93.110.220.181\n",
            "93.110.220.181\n",
            "5.160.157.20\n",
            "5.160.157.20\n",
            "66.249.66.91\n",
            "192.15.6.66\n",
            "66.249.66.91\n",
            "66.249.66.194\n",
            "66.249.66.194\n",
            "54.36.148.186\n",
            "66.249.66.194\n",
            "66.249.66.194\n",
            "66.249.66.194\n",
            "54.36.148.118\n",
            "207.46.13.136\n",
            "66.249.66.194\n",
            "40.77.167.170\n",
            "66.249.66.194\n",
            "40.77.167.170\n",
            "66.249.66.194\n",
            "66.249.66.91\n",
            "207.46.13.136\n",
            "37.129.232.66\n",
            "5.120.22.214\n",
            "192.15.6.66\n",
            "37.129.232.66\n",
            "37.129.232.66\n",
            "37.129.232.66\n",
            "37.129.232.66\n",
            "37.129.232.66\n",
            "37.129.232.66\n",
            "66.249.66.194\n",
            "93.110.220.181\n",
            "37.129.232.66\n",
            "37.129.232.66\n",
            "37.129.232.66\n",
            "37.129.232.66\n",
            "37.129.232.66\n",
            "37.129.232.66\n",
            "37.129.232.66\n",
            "93.110.220.181\n",
            "37.129.232.66\n",
            "93.110.220.181\n",
            "192.15.6.66\n",
            "37.129.232.66\n",
            "37.129.232.66\n",
            "37.129.232.66\n",
            "37.129.232.66\n",
            "207.46.13.136\n",
            "66.249.66.194\n",
            "93.110.220.181\n",
            "93.110.220.181\n",
            "192.15.6.66\n",
            "93.110.220.181\n",
            "93.110.220.181\n",
            "93.110.220.181\n",
            "93.110.220.181\n",
            "192.15.6.66\n",
            "93.110.220.181\n",
            "93.110.220.181\n",
            "93.110.220.181\n",
            "93.110.220.181\n",
            "66.249.66.194\n",
            "192.15.6.66\n",
            "93.110.220.181\n",
            "93.110.220.181\n",
            "93.110.220.181\n",
            "93.110.220.181\n",
            "93.110.220.181\n",
            "5.127.223.190\n",
            "37.129.232.66\n",
            "66.249.66.194\n",
            "66.249.66.91\n",
            "5.127.223.190\n",
            "93.110.220.181\n",
            "5.127.223.190\n",
            "66.249.66.91\n",
            "5.127.223.190\n",
            "93.110.220.181\n",
            "93.110.220.181\n",
            "93.110.220.181\n",
            "54.36.149.82\n",
            "93.110.220.181\n",
            "93.110.220.181\n",
            "93.110.220.181\n",
            "93.110.220.181\n",
            "93.110.220.181\n",
            "93.110.220.181\n",
            "93.110.220.181\n",
            "93.110.220.181\n",
            "93.110.220.181\n",
            "93.110.220.181\n",
            "93.110.220.181\n",
            "93.110.220.181\n",
            "93.110.220.181\n",
            "93.110.220.181\n",
            "66.249.66.194\n",
            "93.110.220.181\n",
            "207.46.13.136\n",
            "17.58.102.43\n",
            "66.249.66.194\n",
            "54.36.148.61\n",
            "66.249.66.194\n",
            "192.15.247.191\n",
            "40.77.167.170\n",
            "192.15.247.191\n",
            "91.99.72.15\n",
            "93.110.220.181\n",
            "66.249.66.194\n",
            "5.208.83.144\n",
            "66.249.66.194\n",
            "93.110.220.181\n",
            "93.110.220.181\n",
            "66.249.66.91\n",
            "192.15.247.191\n",
            "93.110.220.181\n",
            "93.110.220.181\n",
            "93.110.220.181\n",
            "93.110.220.181\n",
            "93.110.220.181\n",
            "93.110.220.181\n",
            "66.249.66.194\n",
            "192.15.247.191\n",
            "66.249.66.91\n",
            "54.36.149.28\n",
            "66.249.66.194\n",
            "93.110.220.181\n",
            "192.15.247.191\n",
            "66.249.66.194\n",
            "66.249.66.194\n",
            "51.15.15.54\n",
            "54.36.148.38\n",
            "91.99.72.15\n",
            "54.36.148.127\n",
            "66.249.66.194\n",
            "54.36.148.155\n",
            "54.36.149.104\n",
            "66.249.66.194\n",
            "91.99.72.15\n",
            "54.36.148.197\n",
            "93.110.220.181\n",
            "5.127.84.90\n",
            "54.36.149.70\n",
            "91.99.72.15\n",
            "54.36.148.184\n",
            "66.249.66.194\n",
            "5.127.223.190\n",
            "5.127.223.190\n",
            "5.127.223.190\n",
            "93.110.220.181\n",
            "172.20.2.174\n",
            "192.15.6.66\n",
            "192.15.6.66\n",
            "93.110.220.181\n",
            "93.110.220.181\n",
            "93.110.220.181\n",
            "93.110.220.181\n",
            "93.110.220.181\n",
            "93.110.220.181\n",
            "93.110.220.181\n",
            "66.249.66.91\n",
            "91.99.72.15\n",
            "93.110.220.181\n",
            "93.110.220.181\n",
            "93.110.220.181\n",
            "93.110.220.181\n",
            "93.110.220.181\n",
            "93.110.220.181\n",
            "66.249.66.91\n",
            "66.249.66.194\n",
            "66.249.66.194\n",
            "40.77.167.170\n",
            "5.127.223.190\n",
            "40.77.167.170\n",
            "207.46.13.136\n",
            "66.249.66.194\n",
            "34.247.132.53\n",
            "91.99.72.15\n",
            "40.77.167.170\n",
            "66.249.66.91\n",
            "5.120.214.83\n",
            "91.99.72.15\n",
            "91.99.72.15\n",
            "207.46.13.136\n",
            "23.101.169.3\n",
            "91.99.72.15\n",
            "207.46.13.136\n",
            "23.101.169.3\n",
            "66.249.66.91\n",
            "93.110.220.181\n",
            "54.36.148.15\n",
            "66.249.66.91\n",
            "23.101.169.3\n",
            "23.101.169.3\n",
            "66.249.66.194\n",
            "66.249.66.91\n",
            "66.249.66.91\n",
            "66.249.66.194\n",
            "23.101.169.3\n",
            "66.249.66.194\n",
            "23.101.169.3\n",
            "54.36.148.197\n",
            "66.249.66.194\n",
            "66.249.66.91\n",
            "66.249.66.194\n",
            "5.62.222.160\n",
            "23.101.169.3\n",
            "17.58.102.43\n",
            "66.249.66.91\n",
            "66.249.66.194\n",
            "54.36.148.141\n",
            "66.249.66.91\n",
            "5.62.222.160\n",
            "23.101.169.3\n",
            "23.101.169.3\n",
            "23.101.169.3\n",
            "23.101.169.3\n",
            "54.36.149.85\n",
            "66.249.66.194\n",
            "23.101.169.3\n",
            "23.101.169.3\n",
            "23.101.169.3\n",
            "66.249.66.194\n",
            "85.239.198.13\n",
            "157.55.39.245\n",
            "91.99.72.15\n",
            "23.101.169.3\n",
            "23.101.169.3\n",
            "23.101.169.3\n",
            "23.101.169.3\n",
            "207.46.13.136\n",
            "66.249.66.91\n",
            "213.207.229.63\n",
            "66.249.66.194\n",
            "23.101.169.3\n",
            "91.99.72.15\n",
            "23.101.169.3\n",
            "213.207.229.63\n",
            "157.55.39.245\n",
            "23.101.169.3\n",
            "23.101.169.3\n",
            "5.62.222.160\n",
            "23.101.169.3\n",
            "5.62.222.160\n",
            "51.15.15.54\n",
            "207.46.13.136\n",
            "23.101.169.3\n",
            "23.101.169.3\n",
            "213.207.229.63\n",
            "91.99.72.15\n",
            "66.249.66.91\n",
            "66.249.66.194\n",
            "23.101.169.3\n",
            "23.101.169.3\n",
            "91.99.72.15\n",
            "85.239.198.13\n",
            "85.239.198.13\n",
            "23.101.169.3\n",
            "23.101.169.3\n",
            "66.249.66.91\n",
            "207.46.13.136\n",
            "23.101.169.3\n",
            "23.101.169.3\n",
            "23.101.169.3\n",
            "23.101.169.3\n",
            "23.101.169.3\n",
            "23.101.169.3\n",
            "23.101.169.3\n",
            "23.101.169.3\n",
            "23.101.169.3\n",
            "23.101.169.3\n",
            "54.36.149.69\n",
            "66.249.66.194\n",
            "23.101.169.3\n",
            "23.101.169.3\n",
            "23.101.169.3\n",
            "23.101.169.3\n",
            "23.101.169.3\n",
            "23.101.169.3\n",
            "40.77.167.170\n",
            "23.101.169.3\n",
            "157.55.39.245\n",
            "23.101.169.3\n",
            "23.101.169.3\n",
            "23.101.169.3\n",
            "23.101.169.3\n",
            "23.101.169.3\n",
            "23.101.169.3\n",
            "23.101.169.3\n",
            "23.101.169.3\n",
            "66.249.66.194\n",
            "172.20.2.174\n",
            "23.101.169.3\n",
            "5.160.157.20\n",
            "23.101.169.3\n",
            "5.160.157.20\n",
            "66.249.66.91\n",
            "5.62.222.160\n",
            "23.101.169.3\n",
            "23.101.169.3\n",
            "207.46.13.136\n",
            "207.46.13.136\n",
            "66.249.66.91\n",
            "40.77.167.170\n",
            "66.249.66.194\n",
            "13.66.139.0\n",
            "5.117.202.46\n",
            "207.46.13.136\n",
            "66.249.66.194\n",
            "66.249.66.194\n",
            "5.45.207.88\n",
            "66.249.66.194\n",
            "66.249.66.194\n",
            "5.218.170.136\n",
            "66.249.66.91\n",
            "66.249.66.194\n",
            "40.77.167.170\n",
            "66.249.66.91\n",
            "54.36.148.179\n",
            "17.58.102.43\n",
            "207.46.13.136\n",
            "66.249.66.195\n",
            "5.127.223.190\n",
            "5.127.223.190\n",
            "66.249.66.194\n",
            "5.127.223.190\n",
            "66.249.66.91\n",
            "66.249.66.194\n",
            "40.77.167.170\n",
            "91.99.72.15\n",
            "66.249.66.194\n",
            "66.249.66.194\n",
            "52.7.238.253\n",
            "207.46.13.136\n",
            "91.99.72.15\n",
            "91.99.72.15\n",
            "66.249.66.91\n",
            "66.249.66.194\n",
            "66.249.66.91\n",
            "52.7.238.253\n",
            "66.249.66.194\n",
            "66.249.66.194\n",
            "91.99.72.15\n",
            "207.46.13.136\n",
            "192.15.247.191\n",
            "192.15.247.191\n",
            "66.249.66.194\n",
            "192.15.247.191\n",
            "192.15.247.191\n",
            "5.123.88.42\n",
            "83.121.127.147\n",
            "66.249.66.194\n",
            "66.249.66.194\n",
            "66.249.66.91\n",
            "40.77.167.170\n",
            "51.15.15.54\n",
            "66.249.66.91\n",
            "5.113.18.169\n",
            "66.249.66.194\n",
            "66.249.66.91\n",
            "207.46.13.136\n",
            "66.249.66.194\n",
            "66.249.66.91\n",
            "40.77.167.170\n",
            "192.15.247.191\n",
            "89.36.63.1\n",
            "54.36.148.161\n",
            "66.249.66.91\n",
            "66.249.66.194\n",
            "66.249.66.194\n",
            "40.77.167.170\n",
            "89.36.63.1\n",
            "66.249.66.194\n",
            "207.46.13.136\n",
            "66.249.66.194\n",
            "66.249.66.194\n",
            "89.36.63.1\n",
            "89.36.63.1\n",
            "89.36.63.1\n",
            "89.36.63.1\n",
            "89.36.63.1\n",
            "89.36.63.1\n",
            "34.247.132.53\n",
            "207.46.13.136\n",
            "89.36.63.1\n",
            "89.36.63.1\n",
            "66.249.66.91\n",
            "89.36.63.1\n",
            "40.77.167.170\n",
            "172.20.2.174\n",
            "89.36.63.1\n",
            "66.249.66.91\n",
            "89.36.63.1\n",
            "192.15.6.66\n",
            "192.15.6.66\n",
            "192.15.6.66\n",
            "91.99.72.15\n",
            "192.15.6.66\n",
            "192.15.6.66\n",
            "192.15.6.66\n",
            "192.15.6.66\n",
            "192.15.6.66\n",
            "40.77.167.170\n",
            "66.249.66.91\n",
            "5.160.157.20\n",
            "54.36.148.11\n",
            "54.36.149.92\n",
            "2.207.40.103\n",
            "2.207.40.103\n",
            "66.249.66.194\n",
            "2.207.40.103\n",
            "2.207.40.103\n",
            "2.207.40.103\n",
            "2.207.40.103\n",
            "2.207.40.103\n",
            "2.207.40.103\n",
            "2.207.40.103\n",
            "2.207.40.103\n",
            "2.207.40.103\n",
            "2.207.40.103\n",
            "2.207.40.103\n",
            "2.207.40.103\n",
            "2.207.40.103\n",
            "2.207.40.103\n",
            "2.207.40.103\n",
            "2.207.40.103\n",
            "2.207.40.103\n",
            "2.207.40.103\n",
            "2.207.40.103\n",
            "2.207.40.103\n",
            "2.207.40.103\n",
            "2.207.40.103\n",
            "2.207.40.103\n",
            "66.249.66.91\n",
            "2.207.40.103\n",
            "66.249.66.91\n",
            "66.249.66.92\n",
            "40.77.167.170\n",
            "66.249.66.93\n",
            "89.36.63.1\n",
            "66.249.66.194\n",
            "157.55.39.236\n",
            "66.249.66.91\n",
            "17.58.102.43\n",
            "66.249.66.194\n",
            "66.249.66.194\n",
            "157.55.39.245\n",
            "66.249.66.194\n",
            "40.77.167.170\n",
            "157.55.39.236\n",
            "66.249.66.194\n",
            "157.55.39.236\n",
            "66.249.66.92\n",
            "157.55.39.236\n",
            "89.36.63.1\n",
            "157.55.39.236\n",
            "157.55.39.245\n",
            "157.55.39.245\n",
            "66.249.66.92\n",
            "91.99.72.15\n",
            "91.99.72.15\n",
            "66.249.66.91\n",
            "66.249.66.91\n",
            "91.99.72.15\n",
            "5.62.222.160\n",
            "157.55.39.245\n",
            "17.58.102.43\n",
            "79.127.13.131\n",
            "66.249.66.91\n",
            "66.249.66.194\n",
            "66.249.66.194\n",
            "91.99.72.15\n",
            "66.249.66.194\n",
            "89.36.63.1\n",
            "17.58.102.43\n",
            "54.36.148.17\n",
            "66.249.66.91\n",
            "69.162.124.234\n",
            "157.55.39.245\n",
            "66.249.66.91\n",
            "69.162.124.234\n",
            "66.249.66.91\n",
            "5.62.222.160\n",
            "66.249.66.91\n",
            "5.62.222.160\n",
            "83.121.79.80\n",
            "66.249.66.194\n",
            "54.36.148.129\n",
            "5.123.88.42\n",
            "51.15.15.54\n",
            "5.62.222.160\n",
            "5.62.222.160\n",
            "5.62.222.160\n",
            "5.62.222.160\n",
            "66.249.66.91\n",
            "66.249.66.91\n",
            "66.249.66.91\n",
            "5.160.157.20\n",
            "5.160.157.20\n",
            "66.249.66.91\n",
            "54.36.149.71\n",
            "83.121.232.38\n",
            "66.249.66.194\n",
            "86.55.7.91\n",
            "66.249.66.194\n",
            "40.77.167.170\n",
            "66.249.66.91\n",
            "83.121.127.147\n",
            "66.249.66.91\n",
            "66.249.66.91\n",
            "5.117.222.245\n",
            "5.120.214.83\n",
            "66.249.66.194\n",
            "40.77.167.170\n",
            "172.20.2.174\n",
            "66.249.66.194\n",
            "66.249.66.91\n",
            "93.110.220.181\n",
            "54.36.148.205\n",
            "51.38.127.230\n",
            "40.77.167.170\n",
            "71.207.75.209\n",
            "83.121.232.38\n",
            "66.249.66.91\n",
            "40.77.167.170\n",
            "40.77.167.170\n",
            "66.249.66.91\n",
            "66.249.66.91\n",
            "66.249.66.194\n",
            "66.249.66.194\n",
            "66.249.66.91\n",
            "66.249.66.194\n",
            "66.249.66.194\n",
            "157.55.39.245\n",
            "207.46.13.136\n",
            "54.36.149.52\n",
            "40.77.167.170\n",
            "66.249.66.194\n",
            "207.46.13.136\n",
            "66.249.66.91\n",
            "66.249.66.91\n",
            "40.77.167.170\n",
            "66.249.66.91\n",
            "157.55.39.245\n",
            "207.46.13.136\n",
            "66.249.66.194\n",
            "66.249.66.194\n",
            "66.249.66.195\n",
            "66.249.66.91\n",
            "5.120.214.83\n",
            "54.36.148.93\n",
            "207.46.13.136\n",
            "93.110.220.181\n",
            "157.55.39.245\n",
            "89.36.63.1\n",
            "66.249.66.194\n",
            "66.249.66.91\n",
            "66.249.66.91\n",
            "66.249.66.194\n",
            "66.249.66.194\n",
            "91.99.72.15\n",
            "91.99.72.15\n",
            "91.99.72.15\n",
            "54.36.149.70\n",
            "66.249.66.91\n",
            "91.99.72.15\n",
            "66.249.66.91\n",
            "66.249.66.194\n",
            "66.249.66.194\n",
            "66.249.66.194\n",
            "66.249.66.194\n",
            "66.249.66.194\n",
            "207.46.13.136\n",
            "66.249.66.91\n",
            "66.249.66.91\n",
            "207.46.13.136\n",
            "89.36.63.1\n",
            "40.77.167.170\n",
            "89.36.63.1\n",
            "207.46.13.136\n",
            "66.249.66.194\n",
            "40.77.167.170\n",
            "34.247.132.53\n",
            "51.15.15.54\n",
            "66.249.66.194\n",
            "207.46.13.136\n",
            "5.120.238.31\n",
            "5.120.238.31\n",
            "89.36.63.1\n",
            "40.77.167.170\n",
            "89.36.63.1\n",
            "207.46.13.136\n",
            "40.77.167.170\n",
            "66.249.66.91\n",
            "207.46.13.136\n",
            "63.143.42.246\n",
            "66.249.66.91\n",
            "93.110.220.181\n",
            "157.55.39.245\n",
            "66.249.66.91\n",
            "89.36.63.1\n",
            "89.36.63.1\n",
            "89.36.63.1\n",
            "89.36.63.1\n",
            "63.143.42.246\n",
            "66.249.66.91\n",
            "66.249.66.194\n",
            "54.36.149.48\n",
            "66.249.66.194\n",
            "66.249.66.194\n",
            "40.77.167.170\n",
            "66.249.66.194\n",
            "54.36.149.66\n",
            "157.55.39.245\n",
            "66.249.66.194\n",
            "174.233.0.60\n",
            "66.249.66.194\n",
            "172.20.2.174\n",
            "93.110.220.181\n",
            "66.249.66.194\n",
            "93.110.220.181\n",
            "66.249.66.91\n",
            "17.58.102.43\n",
            "174.233.0.60\n",
            "207.46.13.136\n",
            "66.249.66.194\n",
            "93.110.220.181\n",
            "93.110.220.181\n",
            "93.110.220.181\n",
            "93.110.220.181\n",
            "93.110.220.181\n",
            "93.110.220.181\n",
            "174.233.0.60\n",
            "93.110.220.181\n",
            "93.110.220.181\n",
            "174.233.0.60\n",
            "93.110.220.181\n",
            "174.233.0.60\n",
            "93.110.220.181\n",
            "174.233.0.60\n",
            "93.110.220.181\n",
            "40.77.167.170\n",
            "93.110.220.181\n",
            "174.233.0.60\n",
            "93.110.220.181\n",
            "93.110.220.181\n",
            "93.110.220.181\n",
            "93.110.220.181\n",
            "174.233.0.60\n",
            "93.110.220.181\n",
            "93.110.220.181\n",
            "174.233.0.60\n",
            "93.110.220.181\n",
            "93.110.220.181\n",
            "93.110.220.181\n",
            "93.110.220.181\n",
            "174.233.0.60\n",
            "93.110.220.181\n",
            "93.110.220.181\n",
            "66.249.66.91\n",
            "93.110.220.181\n",
            "93.110.220.181\n",
            "93.110.220.181\n",
            "93.110.220.181\n",
            "174.233.0.60\n",
            "93.110.220.181\n",
            "93.110.220.181\n",
            "93.110.220.181\n",
            "93.110.220.181\n",
            "93.110.220.181\n",
            "93.110.220.181\n",
            "93.110.220.181\n",
            "93.110.220.181\n",
            "93.110.220.181\n",
            "93.110.220.181\n",
            "93.110.220.181\n",
            "93.110.220.181\n",
            "93.110.220.181\n",
            "40.77.193.97\n",
            "93.110.220.181\n",
            "93.110.220.181\n",
            "66.249.66.91\n",
            "93.110.220.181\n",
            "93.110.220.181\n",
            "93.110.220.181\n",
            "93.110.220.181\n",
            "93.110.220.181\n",
            "93.110.220.181\n",
            "93.110.220.181\n",
            "93.110.220.181\n",
            "157.55.39.245\n",
            "93.110.220.181\n",
            "93.110.220.181\n",
            "93.110.220.181\n",
            "93.110.220.181\n",
            "93.110.220.181\n",
            "93.110.220.181\n",
            "93.110.220.181\n",
            "93.110.220.181\n",
            "93.110.220.181\n",
            "93.110.220.181\n",
            "93.110.220.181\n",
            "93.110.220.181\n",
            "93.110.220.181\n",
            "93.110.220.181\n",
            "93.110.220.181\n",
            "93.110.220.181\n",
            "93.110.220.181\n",
            "93.110.220.181\n",
            "185.239.173.75\n",
            "93.110.220.181\n",
            "93.110.220.181\n",
            "93.110.220.181\n",
            "93.110.220.181\n",
            "93.110.220.181\n",
            "93.110.220.181\n",
            "93.110.220.181\n",
            "40.77.167.170\n",
            "40.77.194.26\n",
            "40.77.167.170\n",
            "66.249.66.194\n",
            "185.239.173.75\n",
            "79.127.13.131\n",
            "51.38.127.230\n",
            "51.38.127.230\n",
            "51.38.127.230\n",
            "51.38.127.230\n",
            "51.38.127.230\n",
            "66.249.66.194\n",
            "66.249.66.91\n",
            "66.249.66.91\n",
            "40.77.167.170\n",
            "66.249.66.194\n",
            "66.249.66.91\n",
            "66.249.66.194\n",
            "5.114.154.5\n",
            "66.249.66.194\n",
            "185.239.173.75\n",
            "93.110.220.181\n",
            "40.77.167.170\n",
            "185.239.173.75\n",
            "93.110.220.181\n",
            "89.36.63.1\n",
            "93.110.220.181\n",
            "93.110.220.181\n",
            "185.239.173.75\n",
            "93.110.220.181\n",
            "93.110.220.181\n",
            "93.110.220.181\n",
            "93.110.220.181\n",
            "66.249.66.194\n",
            "93.110.220.181\n",
            "66.249.66.91\n",
            "185.239.173.75\n",
            "93.110.220.181\n",
            "93.110.220.181\n",
            "93.110.220.181\n",
            "93.110.220.181\n",
            "93.110.220.181\n",
            "185.239.173.75\n",
            "93.110.220.181\n",
            "93.110.220.181\n",
            "93.110.220.181\n",
            "93.110.220.181\n",
            "93.110.220.181\n",
            "89.36.63.1\n",
            "40.77.167.170\n",
            "93.110.220.181\n",
            "185.239.173.75\n",
            "54.36.148.106\n",
            "93.110.220.181\n",
            "207.46.13.136\n",
            "40.77.167.170\n",
            "185.239.173.75\n",
            "89.36.63.1\n",
            "66.249.66.194\n",
            "89.36.63.1\n",
            "54.36.149.59\n",
            "185.239.173.75\n",
            "66.249.66.194\n",
            "185.239.173.75\n",
            "185.239.173.75\n",
            "91.251.218.121\n",
            "66.249.66.194\n",
            "54.36.148.192\n",
            "66.249.66.194\n",
            "66.249.66.194\n",
            "66.249.66.194\n",
            "5.114.154.5\n",
            "66.249.66.194\n",
            "66.249.66.91\n",
            "5.114.154.5\n",
            "207.46.13.136\n",
            "2.179.88.14\n",
            "83.121.232.38\n",
            "89.36.63.1\n",
            "54.36.148.231\n",
            "89.36.63.1\n",
            "66.249.66.194\n",
            "51.38.127.230\n",
            "5.160.157.20\n",
            "5.160.157.20\n",
            "79.127.13.131\n",
            "54.36.148.215\n",
            "66.249.66.194\n",
            "66.249.66.194\n",
            "207.46.13.136\n",
            "66.249.66.91\n",
            "83.121.232.38\n",
            "66.249.66.194\n",
            "51.38.127.230\n",
            "213.207.229.63\n",
            "213.207.229.63\n",
            "157.55.39.245\n",
            "51.38.127.230\n",
            "54.36.148.205\n",
            "66.249.66.194\n",
            "89.199.254.29\n",
            "213.207.229.63\n",
            "66.249.66.91\n",
            "66.249.66.91\n",
            "54.36.149.95\n",
            "51.15.15.54\n",
            "93.110.220.181\n",
            "66.249.66.194\n",
            "93.110.220.181\n",
            "66.249.66.91\n",
            "66.249.66.91\n",
            "54.36.148.219\n",
            "157.55.39.245\n",
            "66.249.66.194\n",
            "66.249.66.194\n",
            "40.77.167.170\n",
            "66.249.66.194\n",
            "66.249.66.91\n",
            "51.38.127.230\n",
            "66.249.66.194\n",
            "66.249.66.194\n",
            "66.249.66.194\n",
            "93.110.220.181\n",
            "40.77.167.170\n",
            "93.110.220.181\n",
            "93.110.220.181\n",
            "66.249.66.194\n",
            "93.110.220.181\n",
            "93.110.220.181\n",
            "93.110.220.181\n",
            "93.110.220.181\n",
            "93.110.220.181\n",
            "93.110.220.181\n",
            "93.110.220.181\n",
            "93.110.220.181\n",
            "93.110.220.181\n",
            "93.110.220.181\n",
            "93.110.220.181\n",
            "93.110.220.181\n",
            "93.110.220.181\n",
            "93.110.220.181\n",
            "93.110.220.181\n",
            "93.110.220.181\n",
            "93.110.220.181\n",
            "93.110.220.181\n",
            "93.110.220.181\n",
            "93.110.220.181\n",
            "93.110.220.181\n",
            "93.110.220.181\n",
            "93.110.220.181\n",
            "93.110.220.181\n",
            "93.110.220.181\n",
            "93.110.220.181\n",
            "93.110.220.181\n",
            "93.110.220.181\n",
            "93.110.220.181\n",
            "93.110.220.181\n",
            "93.110.220.181\n",
            "93.110.220.181\n",
            "93.110.220.181\n",
            "93.110.220.181\n",
            "93.110.220.181\n",
            "93.110.220.181\n",
            "5.62.222.160\n",
            "207.46.13.136\n",
            "66.249.66.194\n",
            "89.36.63.1\n",
            "40.77.167.170\n",
            "89.36.63.1\n",
            "172.20.2.174\n",
            "66.249.66.91\n",
            "86.55.71.199\n",
            "66.249.66.194\n",
            "66.249.66.91\n",
            "54.36.148.96\n",
            "40.77.167.170\n",
            "66.249.66.91\n",
            "40.77.167.170\n",
            "5.62.222.160\n",
            "5.62.222.160\n",
            "66.249.66.91\n",
            "83.121.232.38\n",
            "40.77.167.170\n",
            "66.249.66.195\n",
            "207.46.13.136\n",
            "66.249.66.194\n",
            "66.249.64.66\n",
            "5.113.40.47\n",
            "40.77.167.170\n",
            "66.249.66.91\n",
            "66.249.66.91\n",
            "5.113.40.47\n",
            "5.211.32.40\n",
            "5.113.40.47\n",
            "5.113.40.47\n",
            "5.113.40.47\n",
            "66.249.66.194\n",
            "40.77.167.170\n",
            "5.62.222.160\n",
            "5.113.40.47\n",
            "66.249.66.91\n",
            "5.113.40.47\n",
            "5.113.40.47\n",
            "5.113.40.47\n",
            "17.58.102.43\n",
            "66.249.66.194\n",
            "86.55.71.199\n",
            "5.113.40.47\n",
            "5.113.40.47\n",
            "66.249.66.194\n",
            "207.46.13.136\n",
            "66.249.66.194\n",
            "66.249.66.91\n",
            "66.249.66.194\n",
            "5.62.222.160\n",
            "66.249.66.194\n",
            "40.77.167.170\n",
            "17.58.102.43\n",
            "54.36.149.48\n",
            "5.62.222.160\n",
            "93.110.220.181\n",
            "40.77.167.170\n",
            "66.249.66.194\n",
            "66.249.66.194\n",
            "93.110.220.181\n",
            "54.36.148.122\n",
            "40.77.167.170\n",
            "93.110.220.181\n",
            "93.110.220.181\n",
            "93.110.220.181\n",
            "93.110.220.181\n",
            "66.249.66.91\n",
            "66.249.66.194\n",
            "5.113.40.47\n",
            "5.113.40.47\n",
            "5.62.222.160\n",
            "40.77.167.170\n",
            "66.249.66.194\n",
            "66.249.66.194\n",
            "54.36.148.182\n",
            "66.249.66.194\n",
            "66.249.66.194\n",
            "34.247.132.53\n",
            "66.249.66.194\n",
            "5.62.222.160\n",
            "5.62.222.160\n",
            "66.249.66.194\n",
            "66.249.66.91\n",
            "66.249.66.194\n",
            "54.36.148.241\n",
            "207.46.13.136\n",
            "66.249.66.91\n",
            "40.77.167.170\n",
            "5.211.32.40\n",
            "54.36.149.97\n",
            "66.249.66.194\n",
            "95.130.63.20\n",
            "66.249.66.194\n",
            "66.249.66.194\n",
            "207.46.13.136\n",
            "95.130.63.20\n",
            "66.249.66.91\n",
            "66.249.66.194\n",
            "95.130.63.20\n",
            "95.130.63.20\n",
            "95.130.63.20\n",
            "66.249.66.91\n",
            "40.77.167.170\n",
            "54.36.148.243\n",
            "66.249.66.194\n",
            "5.211.32.40\n",
            "46.4.203.149\n",
            "51.15.15.54\n",
            "66.249.66.194\n",
            "95.130.63.20\n",
            "66.249.66.91\n",
            "207.46.13.136\n",
            "40.77.167.170\n",
            "66.249.66.194\n",
            "5.62.222.160\n",
            "40.77.167.170\n",
            "66.249.66.194\n",
            "54.36.149.15\n",
            "69.162.124.229\n",
            "66.249.66.194\n",
            "54.36.148.52\n",
            "69.162.124.229\n",
            "40.77.167.170\n",
            "195.154.123.62\n",
            "195.154.123.62\n",
            "63.143.42.243\n",
            "66.249.66.194\n",
            "54.36.149.51\n",
            "17.58.102.43\n",
            "195.154.123.62\n",
            "195.154.123.62\n",
            "5.62.222.160\n",
            "5.62.222.160\n",
            "66.249.66.91\n",
            "5.62.222.160\n",
            "66.249.66.194\n",
            "5.62.222.160\n",
            "5.62.222.160\n",
            "5.62.222.160\n",
            "5.62.222.160\n",
            "5.62.222.160\n",
            "5.62.222.160\n",
            "66.249.66.194\n",
            "40.77.167.170\n",
            "5.62.222.160\n",
            "54.36.149.37\n",
            "40.77.167.170\n",
            "195.154.123.62\n",
            "195.154.123.62\n",
            "5.62.222.160\n",
            "5.62.222.160\n",
            "66.249.66.194\n",
            "172.20.2.174\n",
            "54.36.149.30\n",
            "66.249.66.194\n",
            "54.36.148.249\n",
            "5.62.222.160\n",
            "5.62.222.160\n",
            "66.249.66.91\n",
            "66.249.66.194\n",
            "66.249.66.194\n",
            "40.77.167.170\n",
            "40.77.167.170\n",
            "66.249.66.194\n",
            "66.249.66.194\n",
            "66.249.66.91\n",
            "66.249.66.91\n",
            "66.249.66.194\n",
            "207.46.13.136\n",
            "66.249.66.194\n",
            "66.249.66.91\n",
            "63.143.42.242\n",
            "66.249.66.91\n",
            "5.62.222.160\n",
            "5.62.222.160\n",
            "66.249.66.194\n",
            "63.143.42.242\n",
            "66.249.66.194\n",
            "207.46.13.136\n",
            "66.249.66.194\n",
            "66.249.66.91\n",
            "5.160.157.20\n",
            "5.160.157.20\n",
            "5.62.222.160\n",
            "5.62.222.160\n",
            "207.46.13.136\n",
            "66.249.66.194\n",
            "66.249.66.194\n",
            "66.249.66.194\n",
            "5.62.222.160\n",
            "17.58.102.43\n",
            "66.249.66.194\n",
            "2.190.156.108\n",
            "207.46.13.136\n",
            "2.190.156.108\n",
            "2.190.156.108\n",
            "2.190.156.108\n",
            "2.190.156.108\n",
            "2.190.156.108\n",
            "2.190.156.108\n",
            "2.190.156.108\n",
            "5.62.222.160\n",
            "2.190.156.108\n",
            "2.190.156.108\n",
            "2.190.156.108\n",
            "2.190.156.108\n",
            "2.190.156.108\n",
            "2.190.156.108\n",
            "2.190.156.108\n",
            "2.190.156.108\n",
            "2.190.156.108\n",
            "2.190.156.108\n",
            "2.190.156.108\n",
            "2.190.156.108\n",
            "2.190.156.108\n",
            "2.190.156.108\n",
            "2.190.156.108\n",
            "2.190.156.108\n",
            "2.190.156.108\n",
            "2.190.156.108\n",
            "2.190.156.108\n",
            "2.190.156.108\n",
            "2.190.156.108\n",
            "2.190.156.108\n",
            "2.190.156.108\n",
            "2.190.156.108\n",
            "2.190.156.108\n",
            "2.190.156.108\n",
            "2.190.156.108\n",
            "2.190.156.108\n",
            "2.190.156.108\n",
            "2.190.156.108\n",
            "2.190.156.108\n",
            "2.190.156.108\n",
            "2.190.156.108\n",
            "2.190.156.108\n",
            "2.190.156.108\n",
            "2.190.156.108\n",
            "2.190.156.108\n",
            "2.190.156.108\n",
            "2.190.156.108\n",
            "2.190.156.108\n",
            "2.190.156.108\n",
            "2.190.156.108\n",
            "2.190.156.108\n",
            "2.190.156.108\n",
            "2.190.156.108\n",
            "2.190.156.108\n",
            "2.190.156.108\n",
            "2.190.156.108\n",
            "2.190.156.108\n",
            "2.190.156.108\n",
            "2.190.156.108\n",
            "2.190.156.108\n",
            "2.190.156.108\n",
            "2.190.156.108\n",
            "2.190.156.108\n",
            "2.190.156.108\n",
            "2.190.156.108\n",
            "2.190.156.108\n",
            "2.190.156.108\n",
            "2.190.156.108\n",
            "2.190.156.108\n",
            "2.190.156.108\n",
            "2.190.156.108\n",
            "2.190.156.108\n",
            "2.190.156.108\n",
            "2.190.156.108\n",
            "66.249.66.91\n",
            "2.190.156.108\n",
            "63.143.42.246\n",
            "5.62.222.160\n",
            "66.249.66.194\n",
            "2.190.156.108\n",
            "2.190.156.108\n",
            "54.36.148.16\n",
            "63.143.42.246\n",
            "66.249.66.91\n",
            "66.249.66.194\n",
            "54.36.149.23\n",
            "66.249.66.91\n",
            "66.249.66.91\n",
            "157.55.39.245\n",
            "66.249.66.91\n",
            "5.113.40.47\n",
            "5.113.40.47\n",
            "54.36.148.140\n",
            "5.113.40.47\n",
            "5.113.40.47\n",
            "5.113.40.47\n",
            "5.113.40.47\n",
            "5.113.40.47\n",
            "5.113.40.47\n",
            "5.113.40.47\n",
            "5.113.40.47\n",
            "5.113.40.47\n",
            "5.113.40.47\n",
            "5.113.40.47\n",
            "5.113.40.47\n",
            "5.113.40.47\n",
            "5.113.40.47\n",
            "40.77.167.170\n",
            "5.120.238.31\n",
            "207.46.13.136\n",
            "17.58.102.43\n",
            "5.120.238.31\n",
            "66.249.66.91\n",
            "5.113.40.47\n",
            "5.113.40.47\n",
            "66.249.66.194\n",
            "66.249.66.194\n",
            "66.249.66.194\n",
            "5.62.222.160\n",
            "66.249.66.194\n",
            "66.249.66.194\n",
            "66.249.66.91\n",
            "40.77.167.170\n",
            "5.62.222.160\n",
            "5.62.222.160\n",
            "5.62.222.160\n",
            "5.62.222.160\n",
            "5.62.222.160\n",
            "5.62.222.160\n",
            "2.190.156.108\n",
            "2.190.156.108\n",
            "2.190.156.108\n",
            "2.190.156.108\n",
            "2.190.156.108\n",
            "2.190.156.108\n",
            "2.190.156.108\n",
            "2.190.156.108\n",
            "2.190.156.108\n",
            "5.112.126.81\n",
            "2.190.156.108\n",
            "2.190.156.108\n",
            "66.249.66.194\n",
            "17.58.102.43\n",
            "66.249.66.194\n",
            "66.249.66.194\n",
            "66.249.66.194\n",
            "66.249.66.91\n",
            "66.249.66.194\n",
            "5.112.126.81\n",
            "5.112.126.81\n",
            "66.249.66.91\n",
            "66.249.66.194\n",
            "66.249.66.194\n",
            "40.77.192.152\n",
            "2.190.156.108\n",
            "54.36.148.87\n",
            "40.77.167.170\n",
            "5.113.40.47\n",
            "5.113.40.47\n",
            "172.20.2.174\n",
            "66.249.66.91\n",
            "66.249.66.91\n",
            "66.249.66.91\n",
            "66.249.66.194\n",
            "89.36.63.1\n",
            "66.249.66.194\n",
            "207.46.13.136\n",
            "66.249.66.194\n",
            "66.249.66.194\n",
            "66.249.66.91\n",
            "66.249.66.194\n",
            "54.36.149.107\n",
            "207.46.13.136\n",
            "66.249.66.194\n",
            "66.249.66.194\n",
            "66.249.66.91\n",
            "66.249.66.91\n",
            "207.46.13.136\n",
            "66.249.66.194\n",
            "66.249.66.194\n",
            "34.247.132.53\n",
            "5.62.222.160\n",
            "66.249.66.194\n",
            "40.77.167.170\n",
            "54.36.148.142\n",
            "66.249.66.194\n",
            "5.113.40.47\n",
            "66.249.66.194\n",
            "54.36.148.238\n",
            "40.77.167.170\n",
            "5.117.222.245\n",
            "5.117.222.245\n",
            "5.113.40.47\n",
            "66.249.66.194\n",
            "5.113.40.47\n",
            "66.249.66.194\n",
            "5.113.40.47\n",
            "5.113.40.47\n",
            "66.249.66.194\n",
            "66.249.66.194\n",
            "40.77.167.170\n",
            "66.249.66.194\n",
            "17.58.102.43\n",
            "66.249.66.93\n",
            "54.36.148.239\n",
            "66.249.66.194\n",
            "66.249.66.194\n",
            "40.77.167.170\n",
            "17.58.102.43\n",
            "54.36.148.191\n",
            "66.249.66.194\n",
            "66.249.66.194\n",
            "207.46.13.136\n",
            "66.249.66.92\n",
            "51.15.15.54\n",
            "2.190.156.108\n",
            "66.249.66.91\n",
            "2.190.156.108\n",
            "2.190.156.108\n",
            "5.62.222.160\n",
            "2.190.156.108\n",
            "2.190.156.108\n",
            "2.190.156.108\n",
            "2.190.156.108\n",
            "2.190.156.108\n",
            "2.190.156.108\n",
            "2.190.156.108\n",
            "2.190.156.108\n",
            "2.190.156.108\n",
            "2.190.156.108\n",
            "2.190.156.108\n",
            "2.190.156.108\n"
          ],
          "name": "stdout"
        },
        {
          "output_type": "stream",
          "text": [
            "ERROR:root:Internal Python error in the inspect module.\n",
            "Below is the traceback from this internal error.\n",
            "\n"
          ],
          "name": "stderr"
        },
        {
          "output_type": "stream",
          "text": [
            "2.190.156.108\n",
            "2.190.156.108\n",
            "2.190.156.108\n",
            "2.190.156.108\n",
            "2.190.156.108\n",
            "2.190.156.108\n",
            "2.190.156.108\n",
            "2.190.156.108\n",
            "2.190.156.108\n",
            "2.190.156.108\n",
            "2.190.156.108\n",
            "46.4.203.149\n",
            "2.190.156.108\n",
            "2.190.156.108\n",
            "2.190.156.108\n",
            "2.190.156.108\n",
            "2.190.156.108\n",
            "2.190.156.108\n",
            "2.190.156.108\n",
            "2.190.156.108\n",
            "2.190.156.108\n",
            "2.190.156.108\n",
            "2.190.156.108\n",
            "2.190.156.108\n",
            "2.190.156.108\n",
            "5.211.32.40\n",
            "5.62.222.160\n",
            "5.62.222.160\n",
            "5.62.222.160\n",
            "5.62.222.160\n",
            "5.62.222.160\n",
            "54.36.148.29\n",
            "5.62.222.160\n",
            "66.249.66.194\n",
            "207.46.13.136\n",
            "5.113.40.47\n",
            "157.55.39.245\n",
            "5.62.222.160\n",
            "2.190.156.108\n",
            "5.62.222.160\n",
            "46.4.203.149\n",
            "66.249.66.194\n",
            "157.55.39.245\n",
            "54.36.148.105\n",
            "5.62.222.160\n",
            "5.113.40.47\n",
            "5.113.40.47\n",
            "66.249.66.91\n",
            "66.249.66.91\n",
            "5.211.32.40\n",
            "5.62.222.160\n",
            "172.20.2.174\n",
            "66.249.66.194\n",
            "54.36.148.132\n",
            "54.36.148.74\n",
            "157.55.39.245\n",
            "5.62.222.160\n",
            "66.249.66.194\n",
            "40.77.195.83\n",
            "66.249.66.194\n",
            "157.55.39.245\n",
            "66.249.66.194\n",
            "66.249.66.91\n",
            "66.249.66.91\n",
            "66.249.66.194\n",
            "204.18.201.158\n",
            "188.229.71.67\n",
            "5.160.157.20\n",
            "5.160.157.20\n",
            "5.113.40.47\n",
            "66.249.66.194\n",
            "54.36.148.167\n",
            "5.62.222.160\n",
            "5.62.222.160\n",
            "5.62.222.160\n",
            "5.62.222.160\n",
            "5.62.222.160\n",
            "66.249.66.194\n",
            "5.62.222.160\n",
            "5.62.222.160\n",
            "5.62.222.160\n",
            "5.62.222.160\n",
            "5.62.222.160\n",
            "5.113.40.47\n",
            "5.113.40.47\n",
            "66.249.66.194\n",
            "66.249.66.194\n",
            "5.62.222.160\n",
            "5.62.222.160\n",
            "5.62.222.160\n",
            "5.62.222.160\n",
            "5.62.222.160\n",
            "66.249.66.194\n",
            "5.62.222.160\n",
            "5.62.222.160\n",
            "5.62.222.160\n",
            "5.62.222.160\n",
            "66.249.66.194\n",
            "157.55.39.245\n",
            "66.249.66.194\n",
            "17.58.102.43\n",
            "17.58.102.43\n",
            "66.249.66.91\n",
            "5.123.88.42\n",
            "5.116.235.3\n",
            "66.249.66.194\n",
            "66.249.66.91\n",
            "5.62.222.160\n",
            "17.58.102.43\n",
            "157.55.39.245\n",
            "5.211.32.40\n",
            "2.190.156.108\n",
            "5.62.222.160\n",
            "2.190.156.108\n",
            "2.190.156.108\n",
            "2.190.156.108\n",
            "2.190.156.108\n",
            "2.190.156.108\n",
            "2.190.156.108\n",
            "2.190.156.108\n",
            "2.190.156.108\n",
            "2.190.156.108\n",
            "2.190.156.108\n",
            "2.190.156.108\n",
            "2.190.156.108\n",
            "2.190.156.108\n",
            "2.190.156.108\n",
            "2.190.156.108\n",
            "2.190.156.108\n",
            "2.190.156.108\n",
            "2.190.156.108\n",
            "2.190.156.108\n",
            "2.190.156.108\n",
            "2.190.156.108\n",
            "2.190.156.108\n",
            "2.190.156.108\n",
            "2.190.156.108\n",
            "2.190.156.108\n",
            "2.190.156.108\n",
            "2.190.156.108\n",
            "2.190.156.108\n",
            "66.249.66.194\n",
            "66.249.66.91\n",
            "5.62.222.160\n",
            "5.62.222.160\n",
            "66.249.66.194\n",
            "37.9.113.36\n",
            "40.77.167.170\n",
            "5.120.238.31\n",
            "2.190.31.193\n",
            "51.15.15.54\n",
            "157.55.39.245\n",
            "157.55.39.245\n",
            "66.249.66.91\n",
            "5.62.222.160\n",
            "66.249.66.194\n",
            "66.249.66.91\n",
            "5.62.222.160\n",
            "40.77.167.170\n",
            "40.77.167.170\n",
            "66.249.66.91\n",
            "5.211.32.40\n",
            "40.77.167.170\n",
            "5.62.222.160\n",
            "5.62.222.160\n",
            "176.65.169.113\n",
            "40.77.167.170\n",
            "157.55.39.245\n",
            "157.55.39.245\n",
            "40.77.167.170\n",
            "66.249.66.91\n",
            "176.65.169.113\n",
            "176.65.169.113\n",
            "176.65.169.113\n",
            "176.65.169.113\n",
            "176.65.169.113\n",
            "176.65.169.113\n",
            "188.229.71.67\n",
            "176.65.169.113\n",
            "40.77.167.170\n",
            "66.249.66.91\n",
            "66.249.66.194\n",
            "188.229.71.67\n",
            "188.229.71.67\n",
            "188.229.71.67\n",
            "188.229.71.67\n",
            "188.229.71.67\n",
            "188.229.71.67\n",
            "188.229.71.67\n",
            "207.46.13.136\n",
            "40.77.167.170\n",
            "176.65.169.113\n",
            "176.65.169.113\n",
            "207.46.13.136\n",
            "176.65.169.113\n",
            "188.229.71.67\n",
            "188.229.71.67\n",
            "188.229.71.67\n",
            "188.229.71.67\n",
            "188.229.71.67\n",
            "188.229.71.67\n",
            "188.229.71.67\n",
            "188.229.71.67\n",
            "188.229.71.67\n",
            "188.229.71.67\n",
            "188.229.71.67\n",
            "188.229.71.67\n",
            "188.229.71.67\n",
            "188.229.71.67\n",
            "188.229.71.67\n",
            "188.229.71.67\n",
            "188.229.71.67\n",
            "188.229.71.67\n",
            "188.229.71.67\n",
            "188.229.71.67\n",
            "188.229.71.67\n",
            "40.77.167.170\n",
            "66.249.66.194\n",
            "66.249.66.91\n",
            "66.249.66.194\n",
            "66.249.66.194\n",
            "2.190.156.108\n",
            "2.190.156.108\n",
            "2.190.156.108\n",
            "2.190.156.108\n",
            "2.190.156.108\n",
            "188.229.71.67\n",
            "188.229.71.67\n",
            "66.249.66.194\n",
            "2.190.156.108\n",
            "2.190.156.108\n",
            "2.190.156.108\n",
            "2.190.156.108\n",
            "2.190.156.108\n",
            "2.190.156.108\n",
            "207.46.13.136\n",
            "66.249.66.194\n",
            "2.190.156.108\n",
            "2.190.156.108\n",
            "2.190.156.108\n",
            "2.190.156.108\n",
            "172.20.2.174\n",
            "157.55.39.245\n",
            "40.77.167.170\n",
            "34.247.132.53\n",
            "157.55.39.245\n",
            "66.249.66.194\n",
            "40.77.167.170\n",
            "207.46.13.121\n",
            "66.249.66.194\n",
            "91.251.240.25\n",
            "188.229.71.67\n",
            "188.229.71.67\n",
            "188.229.71.67\n",
            "188.229.71.67\n",
            "176.65.169.113\n",
            "2.190.156.108\n",
            "157.55.39.245\n",
            "176.65.169.113\n",
            "157.55.39.245\n",
            "66.249.66.91\n",
            "176.65.169.113\n",
            "188.229.71.67\n",
            "176.65.169.113\n",
            "176.65.169.113\n",
            "176.65.169.113\n",
            "176.65.169.113\n",
            "87.250.224.78\n",
            "176.65.169.113\n",
            "176.65.169.113\n",
            "5.211.32.40\n",
            "176.65.169.113\n",
            "40.77.167.170\n",
            "176.65.169.113\n",
            "188.229.71.67\n",
            "40.77.167.170\n",
            "188.229.71.67\n",
            "188.229.71.67\n",
            "188.229.71.67\n",
            "188.229.71.67\n",
            "188.229.71.67\n",
            "188.229.71.67\n",
            "66.249.66.194\n",
            "66.249.66.92\n",
            "54.36.148.192\n",
            "66.249.66.194\n",
            "2.190.156.108\n",
            "2.190.156.108\n",
            "2.190.156.108\n",
            "66.249.66.194\n",
            "2.190.156.108\n",
            "66.249.66.194\n",
            "2.190.156.108\n",
            "2.190.156.108\n",
            "5.211.32.40\n",
            "40.77.167.170\n",
            "54.36.149.62\n",
            "157.55.39.245\n",
            "207.46.13.136\n",
            "40.77.167.170\n",
            "2.190.156.108\n",
            "66.249.66.194\n",
            "40.77.167.170\n",
            "157.55.39.245\n",
            "66.249.66.194\n",
            "54.36.148.84\n",
            "207.46.13.136\n",
            "66.249.66.92\n",
            "157.55.39.245\n",
            "66.249.66.194\n",
            "188.229.71.67\n",
            "40.77.167.170\n",
            "Traceback (most recent call last):\n",
            "  File \"/usr/local/lib/python3.7/dist-packages/IPython/core/interactiveshell.py\", line 2882, in run_code\n",
            "    exec(code_obj, self.user_global_ns, self.user_ns)\n",
            "  File \"<ipython-input-87-84cb493a0bb6>\", line 1, in <module>\n",
            "    for line in open(logfile):\n",
            "  File \"/usr/lib/python3.7/codecs.py\", line 319, in decode\n",
            "    def decode(self, input, final=False):\n",
            "KeyboardInterrupt\n",
            "\n",
            "During handling of the above exception, another exception occurred:\n",
            "\n",
            "Traceback (most recent call last):\n",
            "  File \"/usr/local/lib/python3.7/dist-packages/IPython/core/interactiveshell.py\", line 1823, in showtraceback\n",
            "    stb = value._render_traceback_()\n",
            "AttributeError: 'KeyboardInterrupt' object has no attribute '_render_traceback_'\n",
            "\n",
            "During handling of the above exception, another exception occurred:\n",
            "\n",
            "Traceback (most recent call last):\n",
            "  File \"/usr/local/lib/python3.7/dist-packages/IPython/core/ultratb.py\", line 1132, in get_records\n",
            "    return _fixed_getinnerframes(etb, number_of_lines_of_context, tb_offset)\n",
            "  File \"/usr/local/lib/python3.7/dist-packages/IPython/core/ultratb.py\", line 313, in wrapped\n",
            "    return f(*args, **kwargs)\n",
            "  File \"/usr/local/lib/python3.7/dist-packages/IPython/core/ultratb.py\", line 358, in _fixed_getinnerframes\n",
            "    records = fix_frame_records_filenames(inspect.getinnerframes(etb, context))\n",
            "  File \"/usr/lib/python3.7/inspect.py\", line 1502, in getinnerframes\n",
            "    frameinfo = (tb.tb_frame,) + getframeinfo(tb, context)\n",
            "  File \"/usr/lib/python3.7/inspect.py\", line 1460, in getframeinfo\n",
            "    filename = getsourcefile(frame) or getfile(frame)\n",
            "  File \"/usr/lib/python3.7/inspect.py\", line 696, in getsourcefile\n",
            "    if getattr(getmodule(object, filename), '__loader__', None) is not None:\n",
            "  File \"/usr/lib/python3.7/inspect.py\", line 733, in getmodule\n",
            "    if ismodule(module) and hasattr(module, '__file__'):\n",
            "KeyboardInterrupt\n"
          ],
          "name": "stdout"
        },
        {
          "output_type": "error",
          "ename": "KeyboardInterrupt",
          "evalue": "ignored",
          "traceback": [
            "\u001b[0;31m---------------------------------------------------------------------------\u001b[0m"
          ]
        }
      ]
    }
  ]
}